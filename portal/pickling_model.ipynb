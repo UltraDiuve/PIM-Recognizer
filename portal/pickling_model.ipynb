{
 "cells": [
  {
   "cell_type": "code",
   "execution_count": 1,
   "metadata": {},
   "outputs": [
    {
     "name": "stdout",
     "output_type": "stream",
     "text": [
      "C:\\Users\\pmasse\\Pyprojects\\PIM-Recognizer\n"
     ]
    }
   ],
   "source": [
    "# setting up sys.path for relative imports\n",
    "from pathlib import Path\n",
    "import sys\n",
    "project_root = str(Path(sys.path[0]).parents[0].absolute())\n",
    "if project_root not in sys.path:\n",
    "    sys.path.append(project_root)\n",
    "print(project_root)"
   ]
  },
  {
   "cell_type": "code",
   "execution_count": 20,
   "metadata": {},
   "outputs": [],
   "source": [
    "# imports and customization of diplay\n",
    "# import os\n",
    "import re\n",
    "from functools import partial\n",
    "from itertools import product\n",
    "import numpy as np\n",
    "import pandas as pd\n",
    "pd.options.display.min_rows = 6\n",
    "pd.options.display.width=108\n",
    "# from sklearn.feature_extraction.text import CountVectorizer\n",
    "from sklearn.model_selection import train_test_split\n",
    "# from sklearn.model_selection import cross_val_score, cross_validate\n",
    "from sklearn.model_selection import GridSearchCV, RandomizedSearchCV\n",
    "from sklearn.pipeline import Pipeline\n",
    "from sklearn.preprocessing import FunctionTransformer\n",
    "from matplotlib import pyplot as plt\n",
    "import matplotlib.patches as mpatch\n",
    "import matplotlib.ticker as mtick\n",
    "import seaborn as sns\n",
    "# import joblib\n",
    "import dill\n",
    "from io import BytesIO\n",
    "\n",
    "from src.pimest import ContentGetter\n",
    "from src.pimest import PathGetter\n",
    "from src.pimest import PDFContentParser\n",
    "from src.pimest import BlockSplitter\n",
    "from src.pimest import SimilaritySelector\n",
    "from src.pimest import custom_accuracy\n",
    "from src.pimest import text_sim_score\n",
    "from src.pimest import text_similarity\n",
    "# from src.pimest import build_text_processor\n",
    "from src.pimpdf import PDFDecoder"
   ]
  },
  {
   "cell_type": "code",
   "execution_count": 19,
   "metadata": {},
   "outputs": [
    {
     "name": "stdout",
     "output_type": "stream",
     "text": [
      "[Pipeline] ........ (step 1 of 3) Processing PathGetter, total=   0.2s\n",
      "[Pipeline] ..... (step 2 of 3) Processing ContentGetter, total=   6.4s\n",
      "Launching 4 processes.\n",
      "[Pipeline] ..... (step 3 of 3) Processing ContentParser, total= 3.7min\n"
     ]
    },
    {
     "data": {
      "text/html": [
       "<div>\n",
       "<style scoped>\n",
       "    .dataframe tbody tr th:only-of-type {\n",
       "        vertical-align: middle;\n",
       "    }\n",
       "\n",
       "    .dataframe tbody tr th {\n",
       "        vertical-align: top;\n",
       "    }\n",
       "\n",
       "    .dataframe thead th {\n",
       "        text-align: right;\n",
       "    }\n",
       "</style>\n",
       "<table border=\"1\" class=\"dataframe\">\n",
       "  <thead>\n",
       "    <tr style=\"text-align: right;\">\n",
       "      <th></th>\n",
       "      <th>designation</th>\n",
       "      <th>ingredients</th>\n",
       "      <th>path</th>\n",
       "      <th>content</th>\n",
       "      <th>text</th>\n",
       "    </tr>\n",
       "    <tr>\n",
       "      <th>uid</th>\n",
       "      <th></th>\n",
       "      <th></th>\n",
       "      <th></th>\n",
       "      <th></th>\n",
       "      <th></th>\n",
       "    </tr>\n",
       "  </thead>\n",
       "  <tbody>\n",
       "    <tr>\n",
       "      <th>23182e34-1f29-4ee2-bbd6-ce820a4b69bc</th>\n",
       "      <td>Taboulé en coupelle 130 g CHARLES FARAUD</td>\n",
       "      <td>Tomates, eau, BOULGOUR 11,5% (contient du GLUT...</td>\n",
       "      <td>..\\ground_truth\\23182e34-1f29-4ee2-bbd6-ce820a...</td>\n",
       "      <td>b'%PDF-1.5\\r\\n%\\xb5\\xb5\\xb5\\xb5\\r\\n1 0 obj\\r\\n...</td>\n",
       "      <td>FICHE TECHNIQUE \\n\\nPRODUIT FINI\\n\\n84006787\\n...</td>\n",
       "    </tr>\n",
       "    <tr>\n",
       "      <th>ec396fb5-89fc-489e-9a39-3d72013227d1</th>\n",
       "      <td>TRIO DE CHAMPIGNONS CULTIVÉS FRANCE</td>\n",
       "      <td></td>\n",
       "      <td>..\\ground_truth\\ec396fb5-89fc-489e-9a39-3d7201...</td>\n",
       "      <td>b'%PDF-1.4\\n% \\xe2\\xe3\\xcf\\xd3\\n4\\n0\\nobj\\n&lt;&lt;\\...</td>\n",
       "      <td>FICHES TECHNIQUES PRODUITS FINIS SECHES\\n\\nPRE...</td>\n",
       "    </tr>\n",
       "    <tr>\n",
       "      <th>78665d97-164a-4c23-956b-3e41f5f7e423</th>\n",
       "      <td>Potage indien tandoori en boîte 1,25 kg KNORR</td>\n",
       "      <td>Maltodextrine, amidon modifié de pomme de terr...</td>\n",
       "      <td>..\\ground_truth\\78665d97-164a-4c23-956b-3e41f5...</td>\n",
       "      <td>b'%PDF-1.5\\r%\\xe2\\xe3\\xcf\\xd3\\r\\n337 0 obj\\r&lt;&lt;...</td>\n",
       "      <td>Potage Indien Tandoori   \\n\\nKnorr Potage Supé...</td>\n",
       "    </tr>\n",
       "  </tbody>\n",
       "</table>\n",
       "</div>"
      ],
      "text/plain": [
       "                                                                        designation  \\\n",
       "uid                                                                                   \n",
       "23182e34-1f29-4ee2-bbd6-ce820a4b69bc       Taboulé en coupelle 130 g CHARLES FARAUD   \n",
       "ec396fb5-89fc-489e-9a39-3d72013227d1            TRIO DE CHAMPIGNONS CULTIVÉS FRANCE   \n",
       "78665d97-164a-4c23-956b-3e41f5f7e423  Potage indien tandoori en boîte 1,25 kg KNORR   \n",
       "\n",
       "                                                                            ingredients  \\\n",
       "uid                                                                                       \n",
       "23182e34-1f29-4ee2-bbd6-ce820a4b69bc  Tomates, eau, BOULGOUR 11,5% (contient du GLUT...   \n",
       "ec396fb5-89fc-489e-9a39-3d72013227d1                                                      \n",
       "78665d97-164a-4c23-956b-3e41f5f7e423  Maltodextrine, amidon modifié de pomme de terr...   \n",
       "\n",
       "                                                                                   path  \\\n",
       "uid                                                                                       \n",
       "23182e34-1f29-4ee2-bbd6-ce820a4b69bc  ..\\ground_truth\\23182e34-1f29-4ee2-bbd6-ce820a...   \n",
       "ec396fb5-89fc-489e-9a39-3d72013227d1  ..\\ground_truth\\ec396fb5-89fc-489e-9a39-3d7201...   \n",
       "78665d97-164a-4c23-956b-3e41f5f7e423  ..\\ground_truth\\78665d97-164a-4c23-956b-3e41f5...   \n",
       "\n",
       "                                                                                content  \\\n",
       "uid                                                                                       \n",
       "23182e34-1f29-4ee2-bbd6-ce820a4b69bc  b'%PDF-1.5\\r\\n%\\xb5\\xb5\\xb5\\xb5\\r\\n1 0 obj\\r\\n...   \n",
       "ec396fb5-89fc-489e-9a39-3d72013227d1  b'%PDF-1.4\\n% \\xe2\\xe3\\xcf\\xd3\\n4\\n0\\nobj\\n<<\\...   \n",
       "78665d97-164a-4c23-956b-3e41f5f7e423  b'%PDF-1.5\\r%\\xe2\\xe3\\xcf\\xd3\\r\\n337 0 obj\\r<<...   \n",
       "\n",
       "                                                                                   text  \n",
       "uid                                                                                      \n",
       "23182e34-1f29-4ee2-bbd6-ce820a4b69bc  FICHE TECHNIQUE \\n\\nPRODUIT FINI\\n\\n84006787\\n...  \n",
       "ec396fb5-89fc-489e-9a39-3d72013227d1  FICHES TECHNIQUES PRODUITS FINIS SECHES\\n\\nPRE...  \n",
       "78665d97-164a-4c23-956b-3e41f5f7e423  Potage Indien Tandoori   \\n\\nKnorr Potage Supé...  "
      ]
     },
     "execution_count": 19,
     "metadata": {},
     "output_type": "execute_result"
    }
   ],
   "source": [
    "ground_truth_df = pd.read_csv(Path('..') / 'ground_truth' / 'manually_labelled_ground_truth.csv',\n",
    "                              sep=';',\n",
    "                              encoding='latin-1',\n",
    "                              index_col='uid')\n",
    "ground_truth_uids = list(ground_truth_df.index)\n",
    "\n",
    "acqui_pipe = Pipeline([('PathGetter', PathGetter(ground_truth_uids=ground_truth_uids,\n",
    "                                                  train_set_path=Path('..')  / 'ground_truth',\n",
    "                                                  ground_truth_path=Path('..') / 'ground_truth',\n",
    "                                                  )),\n",
    "                        ('ContentGetter', ContentGetter(missing_file='to_nan')),\n",
    "                        ('ContentParser', PDFContentParser(none_content='to_empty')),\n",
    "                       ],\n",
    "                       verbose=True)\n",
    "\n",
    "texts_df = acqui_pipe.fit_transform(ground_truth_df)\n",
    "texts_df['ingredients'] = texts_df['ingredients'].fillna('')\n",
    "texts_df.sample(3)"
   ]
  },
  {
   "cell_type": "code",
   "execution_count": 20,
   "metadata": {},
   "outputs": [],
   "source": [
    "# definitions of splitter funcs\n",
    "splitter_funcs = []\n",
    "def split_func1(text):\n",
    "    return(text.split('\\n\\n'))\n",
    "splitter_funcs.append(split_func1)\n",
    "def split_func2(text):\n",
    "    return(text.split('\\n'))\n",
    "splitter_funcs.append(split_func2)\n",
    "def split_func3(text):\n",
    "    regex = r'\\s*\\n\\s*\\n\\s*'\n",
    "    return(re.split(regex, text))\n",
    "splitter_funcs.append(split_func3)"
   ]
  },
  {
   "cell_type": "code",
   "execution_count": 21,
   "metadata": {},
   "outputs": [],
   "source": [
    "def select_col(df, col_name='blocks'):\n",
    "        return(df[col_name].fillna(''))\n",
    "col_selector = FunctionTransformer(select_col)    "
   ]
  },
  {
   "cell_type": "code",
   "execution_count": 36,
   "metadata": {},
   "outputs": [],
   "source": [
    "process_pipe = Pipeline([('Splitter', BlockSplitter()),\n",
    "                         ('ColumnSelector', col_selector),\n",
    "                         ('SimilaritySelector', SimilaritySelector())\n",
    "                        ],\n",
    "                       verbose=False)"
   ]
  },
  {
   "cell_type": "code",
   "execution_count": 37,
   "metadata": {},
   "outputs": [
    {
     "name": "stdout",
     "output_type": "stream",
     "text": [
      "Launching 4 processes.\n"
     ]
    },
    {
     "data": {
      "text/plain": [
       "Pipeline(memory=None,\n",
       "         steps=[('Splitter',\n",
       "                 <src.pimest.BlockSplitter object at 0x00000202CC1F8908>),\n",
       "                ('ColumnSelector',\n",
       "                 FunctionTransformer(accept_sparse=False, check_inverse=True,\n",
       "                                     func=<function select_col at 0x00000202C0B880D8>,\n",
       "                                     inv_kw_args=None, inverse_func=None,\n",
       "                                     kw_args=None, validate=False)),\n",
       "                ('SimilaritySelector',\n",
       "                 <src.pimest.SimilaritySelector object at 0x00000202CC1F8088>)],\n",
       "         verbose=False)"
      ]
     },
     "execution_count": 37,
     "metadata": {},
     "output_type": "execute_result"
    }
   ],
   "source": [
    "process_pipe.fit(texts_df, texts_df['ingredients'])"
   ]
  },
  {
   "cell_type": "code",
   "execution_count": 40,
   "metadata": {},
   "outputs": [
    {
     "name": "stdout",
     "output_type": "stream",
     "text": [
      "Launching 4 processes.\n"
     ]
    },
    {
     "data": {
      "text/plain": [
       "uid\n",
       "a4de2934-a2c7-4719-8f06-81f41d0447ab    INGREDIENTS : eau, crustacés 24% (coffres et c...\n",
       "f194c11e-6fec-4f60-919e-758acb0e4dc9                             \\nPain Craquant \\nEpe...\n",
       "85bafa77-8b34-4bf4-9db9-eb0a0a56949a    Ail réhydraté (91%) - Origine : Chine. \\nSel, ...\n",
       "9634f1e6-fe7d-4a39-b372-149f4f775fd0    Agriculture Biologique\\nCommerce équitable\\nGl...\n",
       "dtype: object"
      ]
     },
     "execution_count": 40,
     "metadata": {},
     "output_type": "execute_result"
    }
   ],
   "source": [
    "process_pipe.predict(texts_df.sample(4))"
   ]
  },
  {
   "cell_type": "markdown",
   "metadata": {},
   "source": [
    "Il me faut un modèle qui prend un binaire et convertit en liste d'ingrédient prédite."
   ]
  },
  {
   "cell_type": "code",
   "execution_count": null,
   "metadata": {},
   "outputs": [],
   "source": [
    "PDFDecoder"
   ]
  },
  {
   "cell_type": "code",
   "execution_count": 44,
   "metadata": {},
   "outputs": [
    {
     "data": {
      "text/plain": [
       "['similarity_selector.pkl']"
      ]
     },
     "execution_count": 44,
     "metadata": {},
     "output_type": "execute_result"
    }
   ],
   "source": [
    "joblib.dump(process_pipe[2], 'similarity_selector.pkl')"
   ]
  },
  {
   "cell_type": "code",
   "execution_count": 45,
   "metadata": {},
   "outputs": [
    {
     "data": {
      "text/plain": [
       "<src.pimest.SimilaritySelector at 0x202ccaa7208>"
      ]
     },
     "execution_count": 45,
     "metadata": {},
     "output_type": "execute_result"
    }
   ],
   "source": [
    "new_model = joblib.load('similarity_selector.pkl')\n",
    "new_model"
   ]
  },
  {
   "cell_type": "code",
   "execution_count": 41,
   "metadata": {},
   "outputs": [],
   "source": [
    "def pdf_parser(binary_content):\n",
    "    return(PDFDecoder.content_to_text(binary_content))\n",
    "\n",
    "with open(Path('.') / 'pdf_parser.pkl', mode='wb') as file:\n",
    "    dill.dump(pdf_parser, file)"
   ]
  },
  {
   "cell_type": "code",
   "execution_count": 42,
   "metadata": {},
   "outputs": [],
   "source": [
    "def split_func(text):\n",
    "    regex = r'\\s*\\n\\s*\\n\\s*'\n",
    "    return(re.split(regex, text))\n",
    "\n",
    "with open(Path('.') / 'splitter.pkl', mode='wb') as file:\n",
    "    dill.dump(split_func, file)"
   ]
  }
 ],
 "metadata": {
  "kernelspec": {
   "display_name": "Python 3",
   "language": "python",
   "name": "python3"
  },
  "language_info": {
   "codemirror_mode": {
    "name": "ipython",
    "version": 3
   },
   "file_extension": ".py",
   "mimetype": "text/x-python",
   "name": "python",
   "nbconvert_exporter": "python",
   "pygments_lexer": "ipython3",
   "version": "3.7.6"
  }
 },
 "nbformat": 4,
 "nbformat_minor": 4
}
