{
 "cells": [
  {
   "cell_type": "markdown",
   "metadata": {},
   "source": [
    "# Tuning du modèle\n",
    "\n",
    "L'objet de ce notebook est d'illustrer les différentes étapes de tuning du modèle.\n",
    "\n",
    "\n",
    "## Préambule\n",
    "\n",
    "### Imports"
   ]
  },
  {
   "cell_type": "code",
   "execution_count": 1,
   "metadata": {},
   "outputs": [],
   "source": [
    "# setting up sys.path for relative imports\n",
    "from pathlib import Path\n",
    "import sys\n",
    "project_root = str(Path(sys.path[0]).parents[1].absolute())\n",
    "if project_root not in sys.path:\n",
    "    sys.path.append(project_root)"
   ]
  },
  {
   "cell_type": "code",
   "execution_count": 56,
   "metadata": {},
   "outputs": [],
   "source": [
    "# imports and customization of diplay\n",
    "# import os\n",
    "import re\n",
    "from functools import partial\n",
    "from itertools import product\n",
    "# import numpy as np\n",
    "import pandas as pd\n",
    "pd.options.display.min_rows = 6\n",
    "pd.options.display.width=108\n",
    "# from sklearn.feature_extraction.text import CountVectorizer\n",
    "from sklearn.model_selection import train_test_split\n",
    "# from sklearn.model_selection import cross_val_score, cross_validate\n",
    "from sklearn.model_selection import GridSearchCV, RandomizedSearchCV\n",
    "from sklearn.pipeline import Pipeline\n",
    "from sklearn.preprocessing import FunctionTransformer\n",
    "from matplotlib import pyplot as plt\n",
    "import matplotlib.patches as mpatch\n",
    "import matplotlib.ticker as mtick\n",
    "import seaborn as sns\n",
    "\n",
    "from src.pimest import ContentGetter\n",
    "from src.pimest import PathGetter\n",
    "from src.pimest import PDFContentParser\n",
    "from src.pimest import BlockSplitter\n",
    "from src.pimest import SimilaritySelector\n",
    "from src.pimest import custom_accuracy\n",
    "from src.pimest import text_sim_score\n",
    "# from src.pimest import text_similarity\n",
    "# from src.pimest import build_text_processor"
   ]
  },
  {
   "cell_type": "markdown",
   "metadata": {},
   "source": [
    "### Acquisition des données\n",
    "\n",
    "On récupère les données manuellement étiquetées et on les intègre dans un dataframe"
   ]
  },
  {
   "cell_type": "code",
   "execution_count": 3,
   "metadata": {},
   "outputs": [
    {
     "name": "stdout",
     "output_type": "stream",
     "text": [
      "[Pipeline] ........ (step 1 of 3) Processing PathGetter, total=   0.1s\n",
      "[Pipeline] ..... (step 2 of 3) Processing ContentGetter, total=   0.1s\n",
      "Launching 8 processes.\n",
      "[Pipeline] ..... (step 3 of 3) Processing ContentParser, total=  37.8s\n"
     ]
    },
    {
     "data": {
      "text/html": [
       "<div>\n",
       "<style scoped>\n",
       "    .dataframe tbody tr th:only-of-type {\n",
       "        vertical-align: middle;\n",
       "    }\n",
       "\n",
       "    .dataframe tbody tr th {\n",
       "        vertical-align: top;\n",
       "    }\n",
       "\n",
       "    .dataframe thead th {\n",
       "        text-align: right;\n",
       "    }\n",
       "</style>\n",
       "<table border=\"1\" class=\"dataframe\">\n",
       "  <thead>\n",
       "    <tr style=\"text-align: right;\">\n",
       "      <th></th>\n",
       "      <th>designation</th>\n",
       "      <th>ingredients</th>\n",
       "      <th>path</th>\n",
       "      <th>content</th>\n",
       "      <th>text</th>\n",
       "    </tr>\n",
       "    <tr>\n",
       "      <th>uid</th>\n",
       "      <th></th>\n",
       "      <th></th>\n",
       "      <th></th>\n",
       "      <th></th>\n",
       "      <th></th>\n",
       "    </tr>\n",
       "  </thead>\n",
       "  <tbody>\n",
       "    <tr>\n",
       "      <th>a0492df6-9c76-4303-8813-65ec5ccbfa70</th>\n",
       "      <td>Concentré liquide Asian en bouteille 980 ml CHEF</td>\n",
       "      <td>Eau, maltodextrine, sel, arômes, sucre, arôme ...</td>\n",
       "      <td>../../ground_truth/a0492df6-9c76-4303-8813-65e...</td>\n",
       "      <td>b'%PDF-1.5\\r\\n%\\xb5\\xb5\\xb5\\xb5\\r\\n1 0 obj\\r\\n...</td>\n",
       "      <td>Concentré Liquide Asian CHEF® \\n\\nBouteille de...</td>\n",
       "    </tr>\n",
       "    <tr>\n",
       "      <th>d183e914-db2f-4e2f-863a-a3b2d054c0b8</th>\n",
       "      <td>Pain burger curry 80 g CREATIV BURGER</td>\n",
       "      <td>Farine de blé T65, eau, levure, vinaigre de ci...</td>\n",
       "      <td>../../ground_truth/d183e914-db2f-4e2f-863a-a3b...</td>\n",
       "      <td>b'%PDF-1.5\\r%\\xe2\\xe3\\xcf\\xd3\\r\\n4 0 obj\\r&lt;&lt;/L...</td>\n",
       "      <td></td>\n",
       "    </tr>\n",
       "    <tr>\n",
       "      <th>ab48a1ed-7a3d-4686-bb6d-ab4f367cada8</th>\n",
       "      <td>Macaroni en sachet 500 g PANZANI</td>\n",
       "      <td>- 100% Semoule de BLE dur de qualité supérieur...</td>\n",
       "      <td>../../ground_truth/ab48a1ed-7a3d-4686-bb6d-ab4...</td>\n",
       "      <td>b'%PDF-1.4\\n%\\xc7\\xec\\x8f\\xa2\\n5 0 obj\\n&lt;&lt;/Len...</td>\n",
       "      <td>Direction Qualité \\n\\n \\n\\n \\n\\nPATES ALIMENTA...</td>\n",
       "    </tr>\n",
       "    <tr>\n",
       "      <th>...</th>\n",
       "      <td>...</td>\n",
       "      <td>...</td>\n",
       "      <td>...</td>\n",
       "      <td>...</td>\n",
       "      <td>...</td>\n",
       "    </tr>\n",
       "    <tr>\n",
       "      <th>e67341d8-350f-46f4-9154-4dbbb8035621</th>\n",
       "      <td>PRÉPARATION POUR CRÈME BRÛLÉE BIO 6L</td>\n",
       "      <td>Sucre roux de canne*° (64%), amidon de maïs*, ...</td>\n",
       "      <td>../../ground_truth/e67341d8-350f-46f4-9154-4db...</td>\n",
       "      <td>b'%PDF-1.7\\r\\n%\\xb5\\xb5\\xb5\\xb5\\r\\n1 0 obj\\r\\n...</td>\n",
       "      <td>FICHE TECHNIQUE \\n\\nCREME BRÛLÉE 6L \\n\\nREF : ...</td>\n",
       "    </tr>\n",
       "    <tr>\n",
       "      <th>a8f6f672-20ac-4ff8-a8f2-3bc4306c8df3</th>\n",
       "      <td>Céréales instantanées en poudre saveur caramel...</td>\n",
       "      <td>Farine 87,1 % (Blé (GLUTEN), Blé hydrolysé (GL...</td>\n",
       "      <td>../../ground_truth/a8f6f672-20ac-4ff8-a8f2-3bc...</td>\n",
       "      <td>b'%PDF-1.5\\r\\n%\\xb5\\xb5\\xb5\\xb5\\r\\n1 0 obj\\r\\n...</td>\n",
       "      <td>81 rue de Sans Souci – CS13754 – 69576 Limones...</td>\n",
       "    </tr>\n",
       "    <tr>\n",
       "      <th>0faad739-ea8c-4f03-b62e-51ee592a0546</th>\n",
       "      <td>FARINE DE BLÉ TYPE 45, 10KG</td>\n",
       "      <td>Farine de blé T45</td>\n",
       "      <td>../../ground_truth/0faad739-ea8c-4f03-b62e-51e...</td>\n",
       "      <td>b'%PDF-1.5\\r\\n%\\xb5\\xb5\\xb5\\xb5\\r\\n1 0 obj\\r\\n...</td>\n",
       "      <td>\\n1050/10502066400 \\n\\n10502055300/1050202520...</td>\n",
       "    </tr>\n",
       "  </tbody>\n",
       "</table>\n",
       "<p>500 rows × 5 columns</p>\n",
       "</div>"
      ],
      "text/plain": [
       "                                                                            designation  \\\n",
       "uid                                                                                       \n",
       "a0492df6-9c76-4303-8813-65ec5ccbfa70   Concentré liquide Asian en bouteille 980 ml CHEF   \n",
       "d183e914-db2f-4e2f-863a-a3b2d054c0b8              Pain burger curry 80 g CREATIV BURGER   \n",
       "ab48a1ed-7a3d-4686-bb6d-ab4f367cada8                   Macaroni en sachet 500 g PANZANI   \n",
       "...                                                                                 ...   \n",
       "e67341d8-350f-46f4-9154-4dbbb8035621               PRÉPARATION POUR CRÈME BRÛLÉE BIO 6L   \n",
       "a8f6f672-20ac-4ff8-a8f2-3bc4306c8df3  Céréales instantanées en poudre saveur caramel...   \n",
       "0faad739-ea8c-4f03-b62e-51ee592a0546                        FARINE DE BLÉ TYPE 45, 10KG   \n",
       "\n",
       "                                                                            ingredients  \\\n",
       "uid                                                                                       \n",
       "a0492df6-9c76-4303-8813-65ec5ccbfa70  Eau, maltodextrine, sel, arômes, sucre, arôme ...   \n",
       "d183e914-db2f-4e2f-863a-a3b2d054c0b8  Farine de blé T65, eau, levure, vinaigre de ci...   \n",
       "ab48a1ed-7a3d-4686-bb6d-ab4f367cada8  - 100% Semoule de BLE dur de qualité supérieur...   \n",
       "...                                                                                 ...   \n",
       "e67341d8-350f-46f4-9154-4dbbb8035621  Sucre roux de canne*° (64%), amidon de maïs*, ...   \n",
       "a8f6f672-20ac-4ff8-a8f2-3bc4306c8df3  Farine 87,1 % (Blé (GLUTEN), Blé hydrolysé (GL...   \n",
       "0faad739-ea8c-4f03-b62e-51ee592a0546                                  Farine de blé T45   \n",
       "\n",
       "                                                                                   path  \\\n",
       "uid                                                                                       \n",
       "a0492df6-9c76-4303-8813-65ec5ccbfa70  ../../ground_truth/a0492df6-9c76-4303-8813-65e...   \n",
       "d183e914-db2f-4e2f-863a-a3b2d054c0b8  ../../ground_truth/d183e914-db2f-4e2f-863a-a3b...   \n",
       "ab48a1ed-7a3d-4686-bb6d-ab4f367cada8  ../../ground_truth/ab48a1ed-7a3d-4686-bb6d-ab4...   \n",
       "...                                                                                 ...   \n",
       "e67341d8-350f-46f4-9154-4dbbb8035621  ../../ground_truth/e67341d8-350f-46f4-9154-4db...   \n",
       "a8f6f672-20ac-4ff8-a8f2-3bc4306c8df3  ../../ground_truth/a8f6f672-20ac-4ff8-a8f2-3bc...   \n",
       "0faad739-ea8c-4f03-b62e-51ee592a0546  ../../ground_truth/0faad739-ea8c-4f03-b62e-51e...   \n",
       "\n",
       "                                                                                content  \\\n",
       "uid                                                                                       \n",
       "a0492df6-9c76-4303-8813-65ec5ccbfa70  b'%PDF-1.5\\r\\n%\\xb5\\xb5\\xb5\\xb5\\r\\n1 0 obj\\r\\n...   \n",
       "d183e914-db2f-4e2f-863a-a3b2d054c0b8  b'%PDF-1.5\\r%\\xe2\\xe3\\xcf\\xd3\\r\\n4 0 obj\\r<</L...   \n",
       "ab48a1ed-7a3d-4686-bb6d-ab4f367cada8  b'%PDF-1.4\\n%\\xc7\\xec\\x8f\\xa2\\n5 0 obj\\n<</Len...   \n",
       "...                                                                                 ...   \n",
       "e67341d8-350f-46f4-9154-4dbbb8035621  b'%PDF-1.7\\r\\n%\\xb5\\xb5\\xb5\\xb5\\r\\n1 0 obj\\r\\n...   \n",
       "a8f6f672-20ac-4ff8-a8f2-3bc4306c8df3  b'%PDF-1.5\\r\\n%\\xb5\\xb5\\xb5\\xb5\\r\\n1 0 obj\\r\\n...   \n",
       "0faad739-ea8c-4f03-b62e-51ee592a0546  b'%PDF-1.5\\r\\n%\\xb5\\xb5\\xb5\\xb5\\r\\n1 0 obj\\r\\n...   \n",
       "\n",
       "                                                                                   text  \n",
       "uid                                                                                      \n",
       "a0492df6-9c76-4303-8813-65ec5ccbfa70  Concentré Liquide Asian CHEF® \\n\\nBouteille de...  \n",
       "d183e914-db2f-4e2f-863a-a3b2d054c0b8                                                  \n",
       "  \n",
       "ab48a1ed-7a3d-4686-bb6d-ab4f367cada8  Direction Qualité \\n\\n \\n\\n \\n\\nPATES ALIMENTA...  \n",
       "...                                                                                 ...  \n",
       "e67341d8-350f-46f4-9154-4dbbb8035621  FICHE TECHNIQUE \\n\\nCREME BRÛLÉE 6L \\n\\nREF : ...  \n",
       "a8f6f672-20ac-4ff8-a8f2-3bc4306c8df3  81 rue de Sans Souci – CS13754 – 69576 Limones...  \n",
       "0faad739-ea8c-4f03-b62e-51ee592a0546   \\n1050/10502066400 \\n\\n10502055300/1050202520...  \n",
       "\n",
       "[500 rows x 5 columns]"
      ]
     },
     "execution_count": 3,
     "metadata": {},
     "output_type": "execute_result"
    }
   ],
   "source": [
    "ground_truth_df = pd.read_csv(Path('..') / '..' / 'ground_truth' / 'manually_labelled_ground_truth.csv',\n",
    "                              sep=';',\n",
    "                              encoding='latin-1',\n",
    "                              index_col='uid')\n",
    "ground_truth_uids = list(ground_truth_df.index)\n",
    "\n",
    "acqui_pipe = Pipeline([('PathGetter', PathGetter(ground_truth_uids=ground_truth_uids,\n",
    "                                                  train_set_path=Path('..') / '..' / 'ground_truth',\n",
    "                                                  ground_truth_path=Path('..') / '..' / 'ground_truth',\n",
    "                                                  )),\n",
    "                        ('ContentGetter', ContentGetter(missing_file='to_nan')),\n",
    "                        ('ContentParser', PDFContentParser(none_content='to_empty')),\n",
    "                       ],\n",
    "                       verbose=True)\n",
    "\n",
    "texts_df = acqui_pipe.fit_transform(ground_truth_df)\n",
    "texts_df['ingredients'] = texts_df['ingredients'].fillna('')\n",
    "texts_df"
   ]
  },
  {
   "cell_type": "markdown",
   "metadata": {},
   "source": [
    "### Train / Test split\n",
    "\n",
    "On va appliquer une grid search pour déterminer les meilleurs paramètres de notre modèle. \n",
    "Pour ne pas surestimer la performance du modèle, il est nécessaire de bien séparer le jeu de test du jeu d'entraînement, y compris pour la grid search !"
   ]
  },
  {
   "cell_type": "code",
   "execution_count": 4,
   "metadata": {},
   "outputs": [],
   "source": [
    "train, test = train_test_split(texts_df, test_size=100, random_state=42)"
   ]
  },
  {
   "cell_type": "markdown",
   "metadata": {},
   "source": [
    "Dans toute la suite, on utilisera le jeu d'entraînement pour effectuer le tuning des hyperparamètres."
   ]
  },
  {
   "cell_type": "markdown",
   "metadata": {},
   "source": [
    "## Ajustement de la fonction de découpage des textes\n",
    "\n",
    "L'objectif de cette partie est d'optimiser la fonction de découpage des textes en blocs. On va tester quelques fonctions candidates, via une GridSearch.\n",
    "\n",
    "### Définition des fonctions candidates\n",
    "\n",
    "On définit les fonctions de split : "
   ]
  },
  {
   "cell_type": "code",
   "execution_count": 5,
   "metadata": {},
   "outputs": [],
   "source": [
    "# definitions of splitter funcs\n",
    "splitter_funcs = []\n",
    "def split_func1(text):\n",
    "    return(text.split('\\n\\n'))\n",
    "splitter_funcs.append(split_func1)\n",
    "def split_func2(text):\n",
    "    return(text.split('\\n'))\n",
    "splitter_funcs.append(split_func2)\n",
    "def split_func3(text):\n",
    "    regex = r'\\s*\\n\\s*\\n\\s*'\n",
    "    return(re.split(regex, text))\n",
    "splitter_funcs.append(split_func3)"
   ]
  },
  {
   "cell_type": "markdown",
   "metadata": {},
   "source": [
    "### Mise en place du pipeline\n",
    "\n",
    "On construit ensuite un pipeline de traitement du texte.\n",
    "Le SimilaritySelector prenant en entrée une pandas.Series, on définit entre le BlockSplitter (dont la méthode transform() retourne un pandas.DataFrame) et le SimilaritySelector une fonction utilitaire qui séléctionne la colonne 'blocks'."
   ]
  },
  {
   "cell_type": "code",
   "execution_count": 6,
   "metadata": {},
   "outputs": [],
   "source": [
    "def select_col(df, col_name='blocks'):\n",
    "        return(df[col_name].fillna(''))\n",
    "col_selector = FunctionTransformer(select_col)    "
   ]
  },
  {
   "cell_type": "code",
   "execution_count": 7,
   "metadata": {},
   "outputs": [],
   "source": [
    "process_pipe = Pipeline([('Splitter', BlockSplitter()),\n",
    "                         ('ColumnSelector', col_selector),\n",
    "                         ('SimilaritySelector', SimilaritySelector())\n",
    "                        ],\n",
    "                       verbose=False)"
   ]
  },
  {
   "cell_type": "markdown",
   "metadata": {},
   "source": [
    "On peut tester le fonctionnement de ce Pipeline.\n",
    "Attention, les résultats ne sont pas représentatifs, on entraîne et on prédit sur le même jeu de données !"
   ]
  },
  {
   "cell_type": "code",
   "execution_count": 8,
   "metadata": {},
   "outputs": [
    {
     "name": "stdout",
     "output_type": "stream",
     "text": [
      "Launching 8 processes.\n",
      "Launching 8 processes.\n"
     ]
    },
    {
     "data": {
      "text/plain": [
       "uid\n",
       "02d5ceb9-21c2-4965-8f65-309bca7638b2    Café chicorée solubles et fibres de chicorée.\\...\n",
       "bbe72396-6ed4-4df1-935b-0c0a7dbd77dc                                                     \n",
       "507b428e-e99d-464b-b9d3-50629efe4355    COMPOSITION\\nMélange de Blés de pays recommand...\n",
       "                                                              ...                        \n",
       "4b28bb17-1f1d-4cbb-ac3b-80227ef248ab    Gluten\\nCrustacés\\nOeufs\\nPoisson\\nSoja\\nLait\\...\n",
       "d2137dae-ff21-46ec-83be-7400773c6c3b    Amidon modifié de pomme de terre - Fécule de p...\n",
       "571d98ae-9647-4bd4-ad1a-a497f93987cb    Composition typique (Données inappropriées pou...\n",
       "Length: 400, dtype: object"
      ]
     },
     "execution_count": 8,
     "metadata": {},
     "output_type": "execute_result"
    }
   ],
   "source": [
    "process_pipe.fit(train, train['ingredients'])\n",
    "process_pipe.predict(train)"
   ]
  },
  {
   "cell_type": "markdown",
   "metadata": {},
   "source": [
    "### Helper fonction\n",
    "\n",
    "On doit faire varier dans la grid search des paramètres qui sont packés sous forme de dictionnaires avant d'être passés au SimilaritySelector.\n",
    "On construit une fonction qui permet de construire le produit cartésien qui va bien pour ces paramètres."
   ]
  },
  {
   "cell_type": "code",
   "execution_count": 9,
   "metadata": {},
   "outputs": [],
   "source": [
    "def prod_params(dict_to_prod):\n",
    "    \"\"\" \n",
    "    In : dict of dicts.\n",
    "    First level key : parameter name\n",
    "    Second level key : name of scenario with this parameter value\n",
    "    Values : parameter value\n",
    "    \n",
    "    Returns a tuple: \n",
    "        - list of labels to name scenario\n",
    "        - list of dictionaries to pass to count_vect_kwargs\n",
    "    \"\"\"\n",
    "    label_lists = [list(dict_.keys()) for dict_ in dict_to_prod.values()]\n",
    "    labels = list(map(lambda x: ', '.join(x), list(product(*label_lists))))\n",
    "    values_iter = list(product(*[list(dict_.values()) for dict_ in dict_to_prod.values()]))\n",
    "    parms_names = list(dict_to_prod.keys())\n",
    "    dict_out = [{key: val for (key, val) in zip(parms_names, values_)} for values_ in values_iter]\n",
    "    return(labels, dict_out)"
   ]
  },
  {
   "cell_type": "code",
   "execution_count": 10,
   "metadata": {},
   "outputs": [
    {
     "data": {
      "text/plain": [
       "(['no stopwords removal, no_ngram',\n",
       "  'no stopwords removal, bigrams',\n",
       "  'with stopwords removal, no_ngram',\n",
       "  'with stopwords removal, bigrams'],\n",
       " [{'stop_words': None, 'ngram_ranges': (1, 1)},\n",
       "  {'stop_words': None, 'ngram_ranges': (1, 2)},\n",
       "  {'stop_words': {'de', 'le'}, 'ngram_ranges': (1, 1)},\n",
       "  {'stop_words': {'de', 'le'}, 'ngram_ranges': (1, 2)}])"
      ]
     },
     "execution_count": 10,
     "metadata": {},
     "output_type": "execute_result"
    }
   ],
   "source": [
    "prod_params({'stop_words': {'no stopwords removal': None, 'with stopwords removal' : {'de', 'le'}},\n",
    "             'ngram_ranges': {'no_ngram': (1, 1), 'bigrams': (1, 2)}})"
   ]
  },
  {
   "cell_type": "markdown",
   "metadata": {},
   "source": [
    "### Stockage des résultats dans un dataframe\n",
    "\n",
    "Au fil des lancements des grid search, on stockera les données dans un dataframe afin de pouvoir les analyser plus simplement après coup."
   ]
  },
  {
   "cell_type": "code",
   "execution_count": 11,
   "metadata": {},
   "outputs": [
    {
     "data": {
      "text/html": [
       "<div>\n",
       "<style scoped>\n",
       "    .dataframe tbody tr th:only-of-type {\n",
       "        vertical-align: middle;\n",
       "    }\n",
       "\n",
       "    .dataframe tbody tr th {\n",
       "        vertical-align: top;\n",
       "    }\n",
       "\n",
       "    .dataframe thead th {\n",
       "        text-align: right;\n",
       "    }\n",
       "</style>\n",
       "<table border=\"1\" class=\"dataframe\">\n",
       "  <thead>\n",
       "    <tr style=\"text-align: right;\">\n",
       "      <th></th>\n",
       "    </tr>\n",
       "  </thead>\n",
       "  <tbody>\n",
       "  </tbody>\n",
       "</table>\n",
       "</div>"
      ],
      "text/plain": [
       "Empty DataFrame\n",
       "Columns: []\n",
       "Index: []"
      ]
     },
     "execution_count": 11,
     "metadata": {},
     "output_type": "execute_result"
    }
   ],
   "source": [
    "result_df = pd.DataFrame()\n",
    "result_df"
   ]
  },
  {
   "cell_type": "markdown",
   "metadata": {},
   "source": [
    "### Application de la GridSearch : tuning du text preprocessing (run 1)\n",
    "\n",
    "On applique ensuite une grid search en faisant varier les fonctions de text preprocessing : \n",
    "- fonction de split du texte des documents en blocs\n",
    "- retrait ou non de stopwords\n",
    "- prise en compte de ngrams\n",
    "- juste pour une première comparaison, choix du candidat par projection l1/l2 ou par similarité cosinus\n",
    "\n",
    "On scorera via la similarité de Levenshtein."
   ]
  },
  {
   "cell_type": "code",
   "execution_count": 12,
   "metadata": {},
   "outputs": [],
   "source": [
    "lev_scorer = partial(text_sim_score, similarity='levenshtein')"
   ]
  },
  {
   "cell_type": "code",
   "execution_count": 13,
   "metadata": {},
   "outputs": [],
   "source": [
    "stop_words = {'pas', 'le', 'en', 'pour', 'ou', 'ce', 'de', 'dans', 'du', 'and', 'un', 'sur', 'et',\n",
    "              'of', 'est', 'par', 'la', 'les', 'dont', 'au', 'des', 'que'}"
   ]
  },
  {
   "cell_type": "code",
   "execution_count": 14,
   "metadata": {},
   "outputs": [],
   "source": [
    "ngram_ranges = {'no_ngram': (1, 1), 'bigrams': (1, 2), 'trigrams': (1, 3)}"
   ]
  },
  {
   "cell_type": "code",
   "execution_count": 15,
   "metadata": {},
   "outputs": [],
   "source": [
    "kwargs_to_prod = prod_params({'stop_words': {'no stopwords removal': None, 'with stopwords removal' : stop_words},\n",
    "                              'ngram_range': ngram_ranges,\n",
    "                              'strip_accents': {'keep accents': None, 'remove accents': 'unicode'}\n",
    "                             }\n",
    "                            )"
   ]
  },
  {
   "cell_type": "code",
   "execution_count": 16,
   "metadata": {
    "scrolled": false
   },
   "outputs": [
    {
     "name": "stdout",
     "output_type": "stream",
     "text": [
      "Fitting 8 folds for each of 72 candidates, totalling 576 fits\n"
     ]
    },
    {
     "name": "stderr",
     "output_type": "stream",
     "text": [
      "[Parallel(n_jobs=-1)]: Using backend LokyBackend with 8 concurrent workers.\n",
      "[Parallel(n_jobs=-1)]: Done  34 tasks      | elapsed:   13.9s\n",
      "[Parallel(n_jobs=-1)]: Done 184 tasks      | elapsed:  1.2min\n",
      "[Parallel(n_jobs=-1)]: Done 434 tasks      | elapsed:  2.8min\n"
     ]
    },
    {
     "name": "stdout",
     "output_type": "stream",
     "text": [
      "Launching 8 processes.\n"
     ]
    },
    {
     "name": "stderr",
     "output_type": "stream",
     "text": [
      "[Parallel(n_jobs=-1)]: Done 576 out of 576 | elapsed:  3.9min finished\n"
     ]
    }
   ],
   "source": [
    "param_grid = [{'Splitter__splitter_func': splitter_funcs,\n",
    "               'SimilaritySelector__similarity': ['projection', 'cosine'],\n",
    "               'SimilaritySelector__count_vect_kwargs': kwargs_to_prod[1],\n",
    "              }\n",
    "             ]\n",
    "search = GridSearchCV(process_pipe,\n",
    "                      param_grid,\n",
    "                      cv=8, \n",
    "                      scoring= ({'similarity': lev_scorer, 'accuracy': custom_accuracy}),\n",
    "                      refit='similarity',\n",
    "                      n_jobs=-1,\n",
    "                      verbose=1,\n",
    "                     ).fit(train, train['ingredients'])"
   ]
  },
  {
   "cell_type": "code",
   "execution_count": 17,
   "metadata": {},
   "outputs": [],
   "source": [
    "labels = list(product(kwargs_to_prod[0], ['Projection l2/l1', 'Cosinus'], ['Split 1', 'Split 2', 'Split 3']))\n",
    "labels = list(map(lambda x: ', '.join(x), labels))"
   ]
  },
  {
   "cell_type": "code",
   "execution_count": 18,
   "metadata": {
    "scrolled": false
   },
   "outputs": [
    {
     "name": "stdout",
     "output_type": "stream",
     "text": [
      "no stopwords removal, no_ngram, keep accents, Projection l2/l1, Split 1 50.15% +/- 5.61%\n",
      "no stopwords removal, no_ngram, keep accents, Projection l2/l1, Split 2 38.90% +/- 4.52%\n",
      "no stopwords removal, no_ngram, keep accents, Projection l2/l1, Split 3 52.65% +/- 6.09%\n",
      "no stopwords removal, no_ngram, keep accents, Cosinus, Split 1 40.30% +/- 4.91%\n",
      "no stopwords removal, no_ngram, keep accents, Cosinus, Split 2 25.87% +/- 2.25%\n",
      "no stopwords removal, no_ngram, keep accents, Cosinus, Split 3 41.98% +/- 5.27%\n",
      "no stopwords removal, no_ngram, remove accents, Projection l2/l1, Split 1 49.47% +/- 5.77%\n",
      "no stopwords removal, no_ngram, remove accents, Projection l2/l1, Split 2 38.56% +/- 4.19%\n",
      "no stopwords removal, no_ngram, remove accents, Projection l2/l1, Split 3 52.02% +/- 6.05%\n",
      "no stopwords removal, no_ngram, remove accents, Cosinus, Split 1 40.93% +/- 5.02%\n",
      "no stopwords removal, no_ngram, remove accents, Cosinus, Split 2 26.06% +/- 2.00%\n",
      "no stopwords removal, no_ngram, remove accents, Cosinus, Split 3 42.68% +/- 5.42%\n",
      "no stopwords removal, bigrams, keep accents, Projection l2/l1, Split 1 55.47% +/- 5.22%\n",
      "no stopwords removal, bigrams, keep accents, Projection l2/l1, Split 2 43.12% +/- 2.32%\n",
      "no stopwords removal, bigrams, keep accents, Projection l2/l1, Split 3 58.38% +/- 5.06%\n",
      "no stopwords removal, bigrams, keep accents, Cosinus, Split 1 41.53% +/- 5.73%\n",
      "no stopwords removal, bigrams, keep accents, Cosinus, Split 2 26.94% +/- 2.14%\n",
      "no stopwords removal, bigrams, keep accents, Cosinus, Split 3 43.45% +/- 6.40%\n",
      "no stopwords removal, bigrams, remove accents, Projection l2/l1, Split 1 55.40% +/- 5.11%\n",
      "no stopwords removal, bigrams, remove accents, Projection l2/l1, Split 2 43.27% +/- 2.78%\n",
      "no stopwords removal, bigrams, remove accents, Projection l2/l1, Split 3 58.31% +/- 5.23%\n",
      "no stopwords removal, bigrams, remove accents, Cosinus, Split 1 41.49% +/- 5.88%\n",
      "no stopwords removal, bigrams, remove accents, Cosinus, Split 2 27.27% +/- 1.95%\n",
      "no stopwords removal, bigrams, remove accents, Cosinus, Split 3 43.70% +/- 6.48%\n",
      "no stopwords removal, trigrams, keep accents, Projection l2/l1, Split 1 56.41% +/- 5.05%\n",
      "no stopwords removal, trigrams, keep accents, Projection l2/l1, Split 2 43.75% +/- 3.06%\n",
      "no stopwords removal, trigrams, keep accents, Projection l2/l1, Split 3 59.56% +/- 5.12%\n",
      "no stopwords removal, trigrams, keep accents, Cosinus, Split 1 41.54% +/- 5.25%\n",
      "no stopwords removal, trigrams, keep accents, Cosinus, Split 2 26.95% +/- 2.41%\n",
      "no stopwords removal, trigrams, keep accents, Cosinus, Split 3 43.54% +/- 6.16%\n",
      "no stopwords removal, trigrams, remove accents, Projection l2/l1, Split 1 56.43% +/- 5.07%\n",
      "no stopwords removal, trigrams, remove accents, Projection l2/l1, Split 2 43.83% +/- 3.11%\n",
      "no stopwords removal, trigrams, remove accents, Projection l2/l1, Split 3 59.58% +/- 5.11%\n",
      "no stopwords removal, trigrams, remove accents, Cosinus, Split 1 42.08% +/- 5.14%\n",
      "no stopwords removal, trigrams, remove accents, Cosinus, Split 2 27.28% +/- 2.39%\n",
      "no stopwords removal, trigrams, remove accents, Cosinus, Split 3 44.18% +/- 6.17%\n",
      "with stopwords removal, no_ngram, keep accents, Projection l2/l1, Split 1 54.94% +/- 5.62%\n",
      "with stopwords removal, no_ngram, keep accents, Projection l2/l1, Split 2 42.12% +/- 4.32%\n",
      "with stopwords removal, no_ngram, keep accents, Projection l2/l1, Split 3 58.06% +/- 6.52%\n",
      "with stopwords removal, no_ngram, keep accents, Cosinus, Split 1 51.06% +/- 6.89%\n",
      "with stopwords removal, no_ngram, keep accents, Cosinus, Split 2 29.73% +/- 4.76%\n",
      "with stopwords removal, no_ngram, keep accents, Cosinus, Split 3 53.35% +/- 7.12%\n",
      "with stopwords removal, no_ngram, remove accents, Projection l2/l1, Split 1 54.89% +/- 5.81%\n",
      "with stopwords removal, no_ngram, remove accents, Projection l2/l1, Split 2 42.22% +/- 4.32%\n",
      "with stopwords removal, no_ngram, remove accents, Projection l2/l1, Split 3 57.99% +/- 6.66%\n",
      "with stopwords removal, no_ngram, remove accents, Cosinus, Split 1 51.40% +/- 6.72%\n",
      "with stopwords removal, no_ngram, remove accents, Cosinus, Split 2 30.44% +/- 4.69%\n",
      "with stopwords removal, no_ngram, remove accents, Cosinus, Split 3 53.69% +/- 7.13%\n",
      "with stopwords removal, bigrams, keep accents, Projection l2/l1, Split 1 57.74% +/- 5.74%\n",
      "with stopwords removal, bigrams, keep accents, Projection l2/l1, Split 2 44.54% +/- 3.57%\n",
      "with stopwords removal, bigrams, keep accents, Projection l2/l1, Split 3 61.08% +/- 5.91%\n",
      "with stopwords removal, bigrams, keep accents, Cosinus, Split 1 52.31% +/- 7.10%\n",
      "with stopwords removal, bigrams, keep accents, Cosinus, Split 2 26.86% +/- 4.47%\n",
      "with stopwords removal, bigrams, keep accents, Cosinus, Split 3 54.85% +/- 7.51%\n",
      "with stopwords removal, bigrams, remove accents, Projection l2/l1, Split 1 57.99% +/- 5.69%\n",
      "with stopwords removal, bigrams, remove accents, Projection l2/l1, Split 2 44.43% +/- 3.30%\n",
      "with stopwords removal, bigrams, remove accents, Projection l2/l1, Split 3 60.86% +/- 5.65%\n",
      "with stopwords removal, bigrams, remove accents, Cosinus, Split 1 51.79% +/- 6.83%\n",
      "with stopwords removal, bigrams, remove accents, Cosinus, Split 2 26.90% +/- 4.71%\n",
      "with stopwords removal, bigrams, remove accents, Cosinus, Split 3 54.43% +/- 7.18%\n",
      "with stopwords removal, trigrams, keep accents, Projection l2/l1, Split 1 58.76% +/- 5.47%\n",
      "with stopwords removal, trigrams, keep accents, Projection l2/l1, Split 2 45.36% +/- 3.58%\n",
      "with stopwords removal, trigrams, keep accents, Projection l2/l1, Split 3 61.94% +/- 5.59%\n",
      "with stopwords removal, trigrams, keep accents, Cosinus, Split 1 51.65% +/- 6.90%\n",
      "with stopwords removal, trigrams, keep accents, Cosinus, Split 2 25.74% +/- 4.50%\n",
      "with stopwords removal, trigrams, keep accents, Cosinus, Split 3 54.28% +/- 7.24%\n",
      "with stopwords removal, trigrams, remove accents, Projection l2/l1, Split 1 58.82% +/- 5.48%\n",
      "with stopwords removal, trigrams, remove accents, Projection l2/l1, Split 2 45.54% +/- 3.61%\n",
      "with stopwords removal, trigrams, remove accents, Projection l2/l1, Split 3 62.01% +/- 5.61%\n",
      "with stopwords removal, trigrams, remove accents, Cosinus, Split 1 51.54% +/- 6.74%\n",
      "with stopwords removal, trigrams, remove accents, Cosinus, Split 2 26.04% +/- 4.42%\n",
      "with stopwords removal, trigrams, remove accents, Cosinus, Split 3 54.26% +/- 7.21%\n"
     ]
    }
   ],
   "source": [
    "for i in range(len(search.cv_results_['rank_test_similarity'])):\n",
    "    str_result = f\"{search.cv_results_['mean_test_similarity'][i]:.2%} +/- {search.cv_results_['std_test_similarity'][i]:.2%}\"\n",
    "    print(labels[i], str_result)"
   ]
  },
  {
   "cell_type": "markdown",
   "metadata": {},
   "source": [
    "On tire de ce premier test:\n",
    "- que le modèle est bien plus performant avec le retrait des stopwords\n",
    "- que le split le plus efficace est la fonction qui applique la regex (deux retours chariots parmi des whitespaces) - split 3\n",
    "- que la prise en compte de bigrammes améliore, avec les trigrammes en plus on ne gagne rien\n",
    "- que la similarité cosinus semble sensiblement moins performante que le choix par projection (l2/l1)\n",
    "\n",
    "Remarque : la standard dev est quand même assez élevée (de l'ordre de 5-6%). Les scénarios avec peu d'écart entre leurs moyennes (2-3%) ne sont pas départageables via cette grid search."
   ]
  },
  {
   "cell_type": "markdown",
   "metadata": {},
   "source": [
    "On sauvegarde les résultat dans le dataframe qu'on analysera à la fin"
   ]
  },
  {
   "cell_type": "code",
   "execution_count": 19,
   "metadata": {},
   "outputs": [],
   "source": [
    "result_df = pd.DataFrame(search.cv_results_)\n",
    "result_df['run'] = 1"
   ]
  },
  {
   "cell_type": "markdown",
   "metadata": {},
   "source": [
    "### Application de la Grid Search : tuning du calcul de similarité (run 2)\n",
    "\n",
    "On va maintenant déterminer, sur la base des paramètres déjà retenus, le mode de calcul de similarité le plus performant.\n",
    "Seul le calcul par projection est paramétrique (norme dans l'espace de départ vs. norme sur l'espace projeté), on fera uniquement varier ces paramètres (en plus de la comparaison avec la similarité cosinus).\n",
    "\n",
    "On comparera également la performance du modèle selon qu'on vectorise les textes via les comptes de mots, ou bien seulement via un identifiant binaire (présence ou absence du mot)."
   ]
  },
  {
   "cell_type": "code",
   "execution_count": 20,
   "metadata": {},
   "outputs": [
    {
     "name": "stdout",
     "output_type": "stream",
     "text": [
      "Fitting 8 folds for each of 36 candidates, totalling 288 fits\n"
     ]
    },
    {
     "name": "stderr",
     "output_type": "stream",
     "text": [
      "[Parallel(n_jobs=-1)]: Using backend LokyBackend with 8 concurrent workers.\n",
      "[Parallel(n_jobs=-1)]: Done  34 tasks      | elapsed:   14.6s\n",
      "[Parallel(n_jobs=-1)]: Done 184 tasks      | elapsed:  1.2min\n"
     ]
    },
    {
     "name": "stdout",
     "output_type": "stream",
     "text": [
      "Launching 8 processes.\n"
     ]
    },
    {
     "name": "stderr",
     "output_type": "stream",
     "text": [
      "[Parallel(n_jobs=-1)]: Done 288 out of 288 | elapsed:  1.9min finished\n"
     ]
    }
   ],
   "source": [
    "process_pipe.set_params(**{'Splitter__splitter_func': splitter_funcs[2],\n",
    "                           })\n",
    "\n",
    "kwargs_to_prod = prod_params({'stop_words': {'with stopwords removal' : stop_words},\n",
    "                              'ngram_range': {'bigrams': (1, 2)},\n",
    "                              'binary': {'counts': False, 'binary flag': True},\n",
    "                              'strip_accents': {'remove accents': 'unicode'}\n",
    "                             })\n",
    "\n",
    "param_grid = [{\n",
    "               'SimilaritySelector__source_norm': ['l1'],\n",
    "               'SimilaritySelector__projected_norm': ['l1'],\n",
    "               'SimilaritySelector__similarity': ['projection'],\n",
    "               'SimilaritySelector__count_vect_kwargs': kwargs_to_prod[1],\n",
    "              },\n",
    "              {\n",
    "               'SimilaritySelector__source_norm': ['l2'],\n",
    "               'SimilaritySelector__projected_norm': ['l2'],\n",
    "               'SimilaritySelector__similarity': ['projection'],\n",
    "               'SimilaritySelector__count_vect_kwargs': kwargs_to_prod[1],\n",
    "              },\n",
    "              {\n",
    "               'SimilaritySelector__source_norm': ['l2'],\n",
    "               'SimilaritySelector__projected_norm': ['l1'],\n",
    "               'SimilaritySelector__similarity': ['projection'],\n",
    "               'SimilaritySelector__count_vect_kwargs': kwargs_to_prod[1],\n",
    "              },    \n",
    "              {\n",
    "               'SimilaritySelector__similarity': ['projection'],\n",
    "               'SimilaritySelector__source_norm': ['l3'],\n",
    "               'SimilaritySelector__projected_norm': ['l2'],\n",
    "               'SimilaritySelector__count_vect_kwargs': kwargs_to_prod[1],\n",
    "              },\n",
    "              {\n",
    "               'SimilaritySelector__similarity': ['projection'],\n",
    "               'SimilaritySelector__source_norm': ['l4'],\n",
    "               'SimilaritySelector__projected_norm': ['l3'],\n",
    "               'SimilaritySelector__count_vect_kwargs': kwargs_to_prod[1],\n",
    "              },\n",
    "              {\n",
    "               'SimilaritySelector__similarity': ['projection'],\n",
    "               'SimilaritySelector__source_norm': ['l5'],\n",
    "               'SimilaritySelector__projected_norm': ['l4'],\n",
    "               'SimilaritySelector__count_vect_kwargs': kwargs_to_prod[1],\n",
    "              },\n",
    "              {\n",
    "               'SimilaritySelector__similarity': ['projection'],\n",
    "               'SimilaritySelector__source_norm': ['l6'],\n",
    "               'SimilaritySelector__projected_norm': ['l5'],\n",
    "               'SimilaritySelector__count_vect_kwargs': kwargs_to_prod[1],\n",
    "              },\n",
    "              {\n",
    "               'SimilaritySelector__similarity': ['projection'],\n",
    "               'SimilaritySelector__source_norm': ['l3'],\n",
    "               'SimilaritySelector__projected_norm': ['l1'],\n",
    "               'SimilaritySelector__count_vect_kwargs': kwargs_to_prod[1],\n",
    "              },\n",
    "              {\n",
    "               'SimilaritySelector__source_norm': ['l4'],\n",
    "               'SimilaritySelector__projected_norm': ['l2'],\n",
    "               'SimilaritySelector__similarity': ['projection'],\n",
    "               'SimilaritySelector__count_vect_kwargs': kwargs_to_prod[1],\n",
    "              },\n",
    "              {\n",
    "               'SimilaritySelector__source_norm': ['l5'],\n",
    "               'SimilaritySelector__projected_norm': ['l3'],\n",
    "               'SimilaritySelector__similarity': ['projection'],\n",
    "               'SimilaritySelector__count_vect_kwargs': kwargs_to_prod[1],\n",
    "              },\n",
    "              {\n",
    "               'SimilaritySelector__source_norm': ['l6'],\n",
    "               'SimilaritySelector__projected_norm': ['l4'],\n",
    "               'SimilaritySelector__similarity': ['projection'],\n",
    "               'SimilaritySelector__count_vect_kwargs': kwargs_to_prod[1],\n",
    "              },\n",
    "              {\n",
    "               'SimilaritySelector__source_norm': ['l7'],\n",
    "               'SimilaritySelector__projected_norm': ['l5'],\n",
    "               'SimilaritySelector__similarity': ['projection'],\n",
    "               'SimilaritySelector__count_vect_kwargs': kwargs_to_prod[1],\n",
    "              },\n",
    "              {\n",
    "               'SimilaritySelector__source_norm': ['l4'],\n",
    "               'SimilaritySelector__projected_norm': ['l1'],\n",
    "               'SimilaritySelector__similarity': ['projection'],\n",
    "               'SimilaritySelector__count_vect_kwargs': kwargs_to_prod[1],\n",
    "              },\n",
    "              {\n",
    "               'SimilaritySelector__source_norm': ['l5'],\n",
    "               'SimilaritySelector__projected_norm': ['l2'],\n",
    "               'SimilaritySelector__similarity': ['projection'],\n",
    "               'SimilaritySelector__count_vect_kwargs': kwargs_to_prod[1],\n",
    "              },\n",
    "              {\n",
    "               'SimilaritySelector__source_norm': ['l6'],\n",
    "               'SimilaritySelector__projected_norm': ['l3'],\n",
    "               'SimilaritySelector__similarity': ['projection'],\n",
    "               'SimilaritySelector__count_vect_kwargs': kwargs_to_prod[1],\n",
    "              },\n",
    "              {\n",
    "               'SimilaritySelector__source_norm': ['l7'],\n",
    "               'SimilaritySelector__projected_norm': ['l4'],\n",
    "               'SimilaritySelector__similarity': ['projection'],\n",
    "               'SimilaritySelector__count_vect_kwargs': kwargs_to_prod[1],\n",
    "              },\n",
    "              {\n",
    "               'SimilaritySelector__source_norm': ['l8'],\n",
    "               'SimilaritySelector__projected_norm': ['l5'],\n",
    "               'SimilaritySelector__similarity': ['projection'],\n",
    "               'SimilaritySelector__count_vect_kwargs': kwargs_to_prod[1],\n",
    "              },\n",
    "              {\n",
    "               'SimilaritySelector__similarity': ['cosine'],\n",
    "               'SimilaritySelector__count_vect_kwargs': kwargs_to_prod[1],\n",
    "              }\n",
    "             ]\n",
    "search = GridSearchCV(process_pipe,\n",
    "                      param_grid,\n",
    "                      cv=8, \n",
    "                      scoring= ({'similarity': lev_scorer, 'accuracy': custom_accuracy}),\n",
    "                      refit='similarity',\n",
    "                      n_jobs=-1,\n",
    "                      verbose=1,\n",
    "                     ).fit(train, train['ingredients'])"
   ]
  },
  {
   "cell_type": "code",
   "execution_count": 21,
   "metadata": {},
   "outputs": [
    {
     "name": "stdout",
     "output_type": "stream",
     "text": [
      "l1, l1, with stopwords removal, bigrams, counts, remove accents 17.87% +/- 2.52%\n",
      "l1, l1, with stopwords removal, bigrams, binary flag, remove accents 17.90% +/- 2.55%\n",
      "l2, l2, with stopwords removal, bigrams, counts, remove accents 17.87% +/- 2.52%\n",
      "l2, l2, with stopwords removal, bigrams, binary flag, remove accents 17.90% +/- 2.55%\n",
      "l2, l1, with stopwords removal, bigrams, counts, remove accents 60.86% +/- 5.65%\n",
      "l2, l1, with stopwords removal, bigrams, binary flag, remove accents 61.00% +/- 5.61%\n",
      "l3, l2, with stopwords removal, bigrams, counts, remove accents 61.55% +/- 5.25%\n",
      "l3, l2, with stopwords removal, bigrams, binary flag, remove accents 62.05% +/- 4.73%\n",
      "l4, l3, with stopwords removal, bigrams, counts, remove accents 59.61% +/- 4.00%\n",
      "l4, l3, with stopwords removal, bigrams, binary flag, remove accents 62.61% +/- 4.29%\n",
      "l5, l4, with stopwords removal, bigrams, counts, remove accents 56.23% +/- 3.40%\n",
      "l5, l4, with stopwords removal, bigrams, binary flag, remove accents 61.82% +/- 3.67%\n",
      "l6, l5, with stopwords removal, bigrams, counts, remove accents 51.58% +/- 3.78%\n",
      "l6, l5, with stopwords removal, bigrams, binary flag, remove accents 60.91% +/- 3.62%\n",
      "l3, l1, with stopwords removal, bigrams, counts, remove accents 59.33% +/- 5.34%\n",
      "l3, l1, with stopwords removal, bigrams, binary flag, remove accents 59.06% +/- 5.44%\n",
      "l4, l2, with stopwords removal, bigrams, counts, remove accents 61.11% +/- 5.30%\n",
      "l4, l2, with stopwords removal, bigrams, binary flag, remove accents 61.00% +/- 5.61%\n",
      "l5, l3, with stopwords removal, bigrams, counts, remove accents 59.28% +/- 3.60%\n",
      "l5, l3, with stopwords removal, bigrams, binary flag, remove accents 61.70% +/- 5.21%\n",
      "l6, l4, with stopwords removal, bigrams, counts, remove accents 55.73% +/- 4.26%\n",
      "l6, l4, with stopwords removal, bigrams, binary flag, remove accents 62.05% +/- 4.73%\n",
      "l7, l5, with stopwords removal, bigrams, counts, remove accents 50.18% +/- 2.42%\n",
      "l7, l5, with stopwords removal, bigrams, binary flag, remove accents 61.96% +/- 4.23%\n",
      "l4, l1, with stopwords removal, bigrams, counts, remove accents 58.42% +/- 5.53%\n",
      "l4, l1, with stopwords removal, bigrams, binary flag, remove accents 57.44% +/- 5.05%\n",
      "l5, l2, with stopwords removal, bigrams, counts, remove accents 60.29% +/- 4.59%\n",
      "l5, l2, with stopwords removal, bigrams, binary flag, remove accents 59.67% +/- 5.18%\n",
      "l6, l3, with stopwords removal, bigrams, counts, remove accents 58.12% +/- 3.67%\n",
      "l6, l3, with stopwords removal, bigrams, binary flag, remove accents 61.00% +/- 5.61%\n",
      "l7, l4, with stopwords removal, bigrams, counts, remove accents 53.31% +/- 2.96%\n",
      "l7, l4, with stopwords removal, bigrams, binary flag, remove accents 61.50% +/- 5.35%\n",
      "l8, l5, with stopwords removal, bigrams, counts, remove accents 47.87% +/- 2.99%\n",
      "l8, l5, with stopwords removal, bigrams, binary flag, remove accents 61.80% +/- 5.20%\n",
      "cosine, with stopwords removal, bigrams, counts, remove accents 54.43% +/- 7.18%\n",
      "cosine, with stopwords removal, bigrams, binary flag, remove accents 53.36% +/- 7.86%\n"
     ]
    }
   ],
   "source": [
    "labels = ['l1, l1',\n",
    "          'l2, l2', \n",
    "          'l2, l1',\n",
    "          'l3, l2',\n",
    "          'l4, l3',\n",
    "          'l5, l4',\n",
    "          'l6, l5',\n",
    "          'l3, l1',          \n",
    "          'l4, l2',\n",
    "          'l5, l3',\n",
    "          'l6, l4',  \n",
    "          'l7, l5',         \n",
    "          'l4, l1',\n",
    "          'l5, l2',\n",
    "          'l6, l3',\n",
    "          'l7, l4',  \n",
    "          'l8, l5',             \n",
    "          'cosine',\n",
    "         ]\n",
    "\n",
    "labels = list(product(labels, kwargs_to_prod[0]))\n",
    "labels = list(map(lambda x: ', '.join(x), labels))\n",
    "\n",
    "for i in range(len(search.cv_results_['rank_test_similarity'])):\n",
    "    str_result = f\"{search.cv_results_['mean_test_similarity'][i]:.2%} +/- {search.cv_results_['std_test_similarity'][i]:.2%}\"\n",
    "    print(labels[i], str_result)"
   ]
  },
  {
   "cell_type": "markdown",
   "metadata": {},
   "source": [
    "On tire de ce second test les conclusions suivantes :\n",
    "- comme lors du premier test, l'identification du meilleur candidat par similarité cosinus est moins performante que par projection\n",
    "- plusieurs configurations de paramètres permettent d'obtenir des performance similaires via la projection : \n",
    "    - l2/l1\n",
    "    - l2/l1b\n",
    "    - l3/l2\n",
    "    - l3/l2b\n",
    "    - l3/l1b\n",
    "    - l4/l2\n",
    "    - l4/l2b"
   ]
  },
  {
   "cell_type": "code",
   "execution_count": 22,
   "metadata": {},
   "outputs": [
    {
     "data": {
      "text/plain": [
       "108"
      ]
     },
     "execution_count": 22,
     "metadata": {},
     "output_type": "execute_result"
    }
   ],
   "source": [
    "result_df = result_df.loc[result_df['run'] != 2.]\n",
    "result_df = pd.concat([result_df, pd.DataFrame(search.cv_results_)], axis=0, ignore_index=True)\n",
    "result_df['run'] = result_df['run'].fillna(2)\n",
    "len(result_df)"
   ]
  },
  {
   "cell_type": "markdown",
   "metadata": {},
   "source": [
    "### Application de la Grid Search : impact des mots non vus en entrainement (run 3)\n",
    "\n",
    "On va également voir si l'utilisation d'un vectorizer de type HashingVectorizer, qui permet de prendre en compte des mots non vus lors de l'entraînement a un impact sur la performance (ou son écart type, qui est très élevé...)."
   ]
  },
  {
   "cell_type": "code",
   "execution_count": 23,
   "metadata": {},
   "outputs": [
    {
     "name": "stdout",
     "output_type": "stream",
     "text": [
      "Fitting 8 folds for each of 16 candidates, totalling 128 fits\n"
     ]
    },
    {
     "name": "stderr",
     "output_type": "stream",
     "text": [
      "[Parallel(n_jobs=-1)]: Using backend LokyBackend with 8 concurrent workers.\n",
      "[Parallel(n_jobs=-1)]: Done  34 tasks      | elapsed:   14.1s\n"
     ]
    },
    {
     "name": "stdout",
     "output_type": "stream",
     "text": [
      "Launching 8 processes.\n"
     ]
    },
    {
     "name": "stderr",
     "output_type": "stream",
     "text": [
      "[Parallel(n_jobs=-1)]: Done 128 out of 128 | elapsed:   54.2s finished\n"
     ]
    }
   ],
   "source": [
    "process_pipe.set_params(**{'Splitter__splitter_func': splitter_funcs[2],\n",
    "\n",
    "                           })\n",
    "\n",
    "kwargs_to_prod = prod_params({'stop_words': {'with stopwords removal' : stop_words},\n",
    "                              'ngram_range': {'bigrams': (1, 2)},\n",
    "                              'binary': {'counts': False, 'binary flag': True},\n",
    "                             })\n",
    "\n",
    "param_grid = [{'SimilaritySelector__count_vect_kwargs': kwargs_to_prod[1],\n",
    "               'SimilaritySelector__count_vect_type': ['TfidfVectorizer', 'HashingVectorizer'],\n",
    "               'SimilaritySelector__similarity': ['projection'],\n",
    "               'SimilaritySelector__source_norm': ['l4'],\n",
    "               'SimilaritySelector__projected_norm': ['l2'],               \n",
    "              },\n",
    "              {'SimilaritySelector__count_vect_kwargs': kwargs_to_prod[1],\n",
    "               'SimilaritySelector__count_vect_type': ['TfidfVectorizer', 'HashingVectorizer'],\n",
    "               'SimilaritySelector__similarity': ['projection'],               \n",
    "               'SimilaritySelector__source_norm': ['l3'],\n",
    "               'SimilaritySelector__projected_norm': ['l2'],\n",
    "              },\n",
    "              {'SimilaritySelector__count_vect_kwargs': kwargs_to_prod[1],\n",
    "               'SimilaritySelector__count_vect_type': ['TfidfVectorizer', 'HashingVectorizer'],\n",
    "               'SimilaritySelector__similarity': ['projection'],               \n",
    "               'SimilaritySelector__source_norm': ['l2'],\n",
    "               'SimilaritySelector__projected_norm': ['l1'],\n",
    "              },\n",
    "              {'SimilaritySelector__count_vect_kwargs': kwargs_to_prod[1],\n",
    "               'SimilaritySelector__count_vect_type': ['TfidfVectorizer', 'HashingVectorizer'],\n",
    "               'SimilaritySelector__similarity': ['cosine'],               \n",
    "              },\n",
    "             ]\n",
    "search = GridSearchCV(process_pipe,\n",
    "                      param_grid,\n",
    "                      cv=8, \n",
    "                      scoring= ({'similarity': lev_scorer, 'accuracy': custom_accuracy}),\n",
    "                      refit='similarity',\n",
    "                      n_jobs=-1,\n",
    "                      verbose=1,\n",
    "                     ).fit(train, train['ingredients'])"
   ]
  },
  {
   "cell_type": "code",
   "execution_count": 24,
   "metadata": {},
   "outputs": [
    {
     "name": "stdout",
     "output_type": "stream",
     "text": [
      "l4/l2, with stopwords removal, bigrams, counts, TfidfVectorizer 61.11% +/- 5.30%\n",
      "l4/l2, with stopwords removal, bigrams, counts, HashingVectorizer 61.07% +/- 5.23%\n",
      "l4/l2, with stopwords removal, bigrams, binary flag, TfidfVectorizer 61.00% +/- 5.61%\n",
      "l4/l2, with stopwords removal, bigrams, binary flag, HashingVectorizer 60.51% +/- 5.54%\n",
      "l3/l2, with stopwords removal, bigrams, counts, TfidfVectorizer 61.55% +/- 5.25%\n",
      "l3/l2, with stopwords removal, bigrams, counts, HashingVectorizer 59.97% +/- 5.25%\n",
      "l3/l2, with stopwords removal, bigrams, binary flag, TfidfVectorizer 62.05% +/- 4.73%\n",
      "l3/l2, with stopwords removal, bigrams, binary flag, HashingVectorizer 59.58% +/- 5.46%\n",
      "l2/l1, with stopwords removal, bigrams, counts, TfidfVectorizer 60.86% +/- 5.65%\n",
      "l2/l1, with stopwords removal, bigrams, counts, HashingVectorizer 60.36% +/- 5.89%\n",
      "l2/l1, with stopwords removal, bigrams, binary flag, TfidfVectorizer 61.00% +/- 5.61%\n",
      "l2/l1, with stopwords removal, bigrams, binary flag, HashingVectorizer 60.51% +/- 5.54%\n",
      "cosine, with stopwords removal, bigrams, counts, TfidfVectorizer 54.43% +/- 7.18%\n",
      "cosine, with stopwords removal, bigrams, counts, HashingVectorizer 53.01% +/- 6.20%\n",
      "cosine, with stopwords removal, bigrams, binary flag, TfidfVectorizer 53.36% +/- 7.86%\n",
      "cosine, with stopwords removal, bigrams, binary flag, HashingVectorizer 50.56% +/- 7.20%\n"
     ]
    }
   ],
   "source": [
    "labels = [\n",
    "          'l4/l2',\n",
    "          'l3/l2',\n",
    "          'l2/l1',\n",
    "          'cosine'\n",
    "         ]\n",
    "\n",
    "labels = list(product(labels, kwargs_to_prod[0], ['TfidfVectorizer', 'HashingVectorizer']))\n",
    "labels = list(map(lambda x: ', '.join(x), labels))\n",
    "\n",
    "for i in range(len(search.cv_results_['rank_test_similarity'])):\n",
    "    str_result = f\"{search.cv_results_['mean_test_similarity'][i]:.2%} +/- {search.cv_results_['std_test_similarity'][i]:.2%}\"\n",
    "    print(labels[i], str_result)"
   ]
  },
  {
   "cell_type": "markdown",
   "metadata": {},
   "source": [
    "L'utilisation d'un HashingVectorizer à la place d'un TfidfVectorizer, pour prendre en compte les mots non vus lors de l'entrainement, n'a pas d'impact positif sur la performance du modèle.\n",
    "Au contraire, elle semble globalement diminuer de quelques points."
   ]
  },
  {
   "cell_type": "code",
   "execution_count": 25,
   "metadata": {},
   "outputs": [
    {
     "data": {
      "text/plain": [
       "124"
      ]
     },
     "execution_count": 25,
     "metadata": {},
     "output_type": "execute_result"
    }
   ],
   "source": [
    "result_df = pd.concat([result_df, pd.DataFrame(search.cv_results_)], axis=0, ignore_index=True)\n",
    "result_df['run'] = result_df['run'].fillna(3)\n",
    "len(result_df)"
   ]
  },
  {
   "cell_type": "markdown",
   "metadata": {},
   "source": [
    "### Application d'une grid search : pondération des mots  (run 4)\n",
    "\n",
    "On va en plus appliquer une pondération absolue et relative des mots, dans la recherche de similarité par cosinus.\n",
    "\n",
    "Les différentes possibilités pour le vecteur cible sont : \n",
    "- moyenne des vecteurs de textes des listes d'ingrédients, avec uniquement un flag binaire (présence / absence du mot) : la cible est la document frequency moyenne des mots des listes d'ingrédients\n",
    "- moyenne des vecteurs de textes des listes d'ingrédients, avec en prenant en compte les comptes des mots dans chacun des textes : la cible est la term frequency moyenne des mots au sein des listes d'ingrédients\n",
    "- moyenne des scores \"absolus\" de chacun des mots au sein des listes d'ingrédients. Il s'agit d'une \"smooth document frequency\" (elle croit logarithmiquement)\n",
    "- moyenne des scores \"relatifs\" de chacun des mots entre liste d'ingrédients et contenu des fiches techniques. Ici on compare la doc frequency entre les deux corpus, pour donner plus de poids aux mots qui sont plus présents dans les listes d'ingrédients que dans le reste du corps du texte.\n",
    "\n",
    "On comparera à la projection l4/l2b, qui porte jusque là les meilleurs résultats."
   ]
  },
  {
   "cell_type": "code",
   "execution_count": 26,
   "metadata": {},
   "outputs": [
    {
     "name": "stdout",
     "output_type": "stream",
     "text": [
      "Fitting 8 folds for each of 32 candidates, totalling 256 fits\n"
     ]
    },
    {
     "name": "stderr",
     "output_type": "stream",
     "text": [
      "[Parallel(n_jobs=-1)]: Using backend LokyBackend with 8 concurrent workers.\n",
      "[Parallel(n_jobs=-1)]: Done  34 tasks      | elapsed:   14.9s\n",
      "[Parallel(n_jobs=-1)]: Done 184 tasks      | elapsed:  1.3min\n"
     ]
    },
    {
     "name": "stdout",
     "output_type": "stream",
     "text": [
      "Launching 8 processes.\n"
     ]
    },
    {
     "name": "stderr",
     "output_type": "stream",
     "text": [
      "[Parallel(n_jobs=-1)]: Done 256 out of 256 | elapsed:  1.8min finished\n"
     ]
    }
   ],
   "source": [
    "process_pipe.set_params(**{'Splitter__splitter_func': splitter_funcs[2],\n",
    "                           'SimilaritySelector__count_vect_type': 'TfidfVectorizer',\n",
    "                           })\n",
    "\n",
    "kwargs_to_prod = prod_params({'stop_words': {'with stopwords removal' : stop_words},\n",
    "                              'ngram_range': {'no_ngrams': (1, 1), 'bigrams': (1, 2)},\n",
    "                              'binary': {'counts': False, 'binary flag': True},\n",
    "                              'use_idf': {'without idf': False, 'with idf': True},\n",
    "                              'strip_accents': {'remove accents': 'unicode'},\n",
    "                             })\n",
    "\n",
    "param_grid = [{\n",
    "               'SimilaritySelector__count_vect_kwargs': kwargs_to_prod[1],\n",
    "               'SimilaritySelector__scoring': ['default', 'absolute_score', 'relative_score'],    \n",
    "               'SimilaritySelector__similarity': ['cosine'],\n",
    "              },\n",
    "              {'SimilaritySelector__count_vect_kwargs': kwargs_to_prod[1],\n",
    "               'SimilaritySelector__similarity': ['projection'],\n",
    "               'SimilaritySelector__source_norm': ['l4'],\n",
    "               'SimilaritySelector__projected_norm': ['l2'],                   \n",
    "              },\n",
    "             ]\n",
    "search = GridSearchCV(process_pipe,\n",
    "                      param_grid,\n",
    "                      cv=8, \n",
    "                      scoring= ({'similarity': lev_scorer, 'accuracy': custom_accuracy}),\n",
    "                      refit='similarity',\n",
    "                      n_jobs=-1,\n",
    "                      verbose=1,\n",
    "                     ).fit(train, train['ingredients'])"
   ]
  },
  {
   "cell_type": "code",
   "execution_count": 27,
   "metadata": {},
   "outputs": [
    {
     "name": "stdout",
     "output_type": "stream",
     "text": [
      "cosine, with stopwords removal, no_ngrams, counts, without idf, remove accents, default 53.69% +/- 7.13%\n",
      "cosine, with stopwords removal, no_ngrams, counts, without idf, remove accents, absolute score 54.47% +/- 6.87%\n",
      "cosine, with stopwords removal, no_ngrams, counts, without idf, remove accents, relative score 29.42% +/- 5.32%\n",
      "cosine, with stopwords removal, no_ngrams, counts, with idf, remove accents, default 55.47% +/- 6.70%\n",
      "cosine, with stopwords removal, no_ngrams, counts, with idf, remove accents, absolute score 52.47% +/- 6.91%\n",
      "cosine, with stopwords removal, no_ngrams, counts, with idf, remove accents, relative score 32.73% +/- 5.21%\n",
      "cosine, with stopwords removal, no_ngrams, binary flag, without idf, remove accents, default 53.29% +/- 7.86%\n",
      "cosine, with stopwords removal, no_ngrams, binary flag, without idf, remove accents, absolute score 54.15% +/- 8.17%\n",
      "cosine, with stopwords removal, no_ngrams, binary flag, without idf, remove accents, relative score 28.02% +/- 5.00%\n",
      "cosine, with stopwords removal, no_ngrams, binary flag, with idf, remove accents, default 54.91% +/- 7.31%\n",
      "cosine, with stopwords removal, no_ngrams, binary flag, with idf, remove accents, absolute score 51.80% +/- 8.13%\n",
      "cosine, with stopwords removal, no_ngrams, binary flag, with idf, remove accents, relative score 31.39% +/- 5.59%\n",
      "cosine, with stopwords removal, bigrams, counts, without idf, remove accents, default 54.43% +/- 7.18%\n",
      "cosine, with stopwords removal, bigrams, counts, without idf, remove accents, absolute score 55.48% +/- 7.11%\n",
      "cosine, with stopwords removal, bigrams, counts, without idf, remove accents, relative score 33.39% +/- 6.11%\n",
      "cosine, with stopwords removal, bigrams, counts, with idf, remove accents, default 55.86% +/- 6.78%\n",
      "cosine, with stopwords removal, bigrams, counts, with idf, remove accents, absolute score 52.00% +/- 6.91%\n",
      "cosine, with stopwords removal, bigrams, counts, with idf, remove accents, relative score 39.00% +/- 5.38%\n",
      "cosine, with stopwords removal, bigrams, binary flag, without idf, remove accents, default 53.36% +/- 7.86%\n",
      "cosine, with stopwords removal, bigrams, binary flag, without idf, remove accents, absolute score 55.36% +/- 7.36%\n",
      "cosine, with stopwords removal, bigrams, binary flag, without idf, remove accents, relative score 32.74% +/- 5.87%\n",
      "cosine, with stopwords removal, bigrams, binary flag, with idf, remove accents, default 54.73% +/- 7.39%\n",
      "cosine, with stopwords removal, bigrams, binary flag, with idf, remove accents, absolute score 51.12% +/- 6.71%\n",
      "cosine, with stopwords removal, bigrams, binary flag, with idf, remove accents, relative score 39.45% +/- 5.47%\n",
      "projection l4/l2, with stopwords removal, no_ngrams, counts, without idf, remove accents 57.08% +/- 5.38%\n",
      "projection l4/l2, with stopwords removal, no_ngrams, counts, with idf, remove accents 40.27% +/- 2.56%\n",
      "projection l4/l2, with stopwords removal, no_ngrams, binary flag, without idf, remove accents 57.26% +/- 5.89%\n",
      "projection l4/l2, with stopwords removal, no_ngrams, binary flag, with idf, remove accents 45.13% +/- 5.16%\n",
      "projection l4/l2, with stopwords removal, bigrams, counts, without idf, remove accents 61.11% +/- 5.30%\n",
      "projection l4/l2, with stopwords removal, bigrams, counts, with idf, remove accents 49.79% +/- 5.24%\n",
      "projection l4/l2, with stopwords removal, bigrams, binary flag, without idf, remove accents 61.00% +/- 5.61%\n",
      "projection l4/l2, with stopwords removal, bigrams, binary flag, with idf, remove accents 51.93% +/- 6.79%\n"
     ]
    }
   ],
   "source": [
    "labels = [\n",
    "          'cosine',\n",
    "         ]\n",
    "\n",
    "\n",
    "labels = list(product(labels, kwargs_to_prod[0], ['default', 'absolute score', 'relative score']))\n",
    "labels.extend(list(product(['projection l4/l2'],  kwargs_to_prod[0])))\n",
    "labels = list(map(lambda x: ', '.join(x), labels))\n",
    "\n",
    "for i in range(len(search.cv_results_['rank_test_similarity'])):\n",
    "    str_result = f\"{search.cv_results_['mean_test_similarity'][i]:.2%} +/- {search.cv_results_['std_test_similarity'][i]:.2%}\"\n",
    "    print(labels[i], str_result)"
   ]
  },
  {
   "cell_type": "code",
   "execution_count": 28,
   "metadata": {},
   "outputs": [
    {
     "data": {
      "text/plain": [
       "156"
      ]
     },
     "execution_count": 28,
     "metadata": {},
     "output_type": "execute_result"
    }
   ],
   "source": [
    "result_df = pd.concat([result_df, pd.DataFrame(search.cv_results_)], axis=0, ignore_index=True)\n",
    "result_df['run'] = result_df['run'].fillna(4)\n",
    "len(result_df)"
   ]
  },
  {
   "cell_type": "markdown",
   "metadata": {},
   "source": [
    "On en déduit :\n",
    "- que la similarité par projection reste le mode de détermination du candidat le plus efficace\n",
    "- que dans ce mode, l'utilisation de l'idf dégrade la performance\n",
    "- néanmoins, dans le cadre de la similarité cosinus, l'utilisation de l'idf a un impact positif pour la fonction de scoring par défaut, ou relative."
   ]
  },
  {
   "cell_type": "markdown",
   "metadata": {},
   "source": [
    "### Application de la grid search : embeddings des mots\n",
    "\n",
    "On mesure l'impact sur la performance de l'utilisation d'embeddings de mots."
   ]
  },
  {
   "cell_type": "code",
   "execution_count": 29,
   "metadata": {
    "scrolled": false
   },
   "outputs": [
    {
     "name": "stdout",
     "output_type": "stream",
     "text": [
      "Fitting 8 folds for each of 18 candidates, totalling 144 fits\n"
     ]
    },
    {
     "name": "stderr",
     "output_type": "stream",
     "text": [
      "[Parallel(n_jobs=-1)]: Using backend LokyBackend with 8 concurrent workers.\n",
      "[Parallel(n_jobs=-1)]: Done  34 tasks      | elapsed:   26.3s\n"
     ]
    },
    {
     "name": "stdout",
     "output_type": "stream",
     "text": [
      "Launching 8 processes.\n"
     ]
    },
    {
     "name": "stderr",
     "output_type": "stream",
     "text": [
      "[Parallel(n_jobs=-1)]: Done 144 out of 144 | elapsed:  1.9min finished\n"
     ]
    }
   ],
   "source": [
    "process_pipe.set_params(**{'Splitter__splitter_func': splitter_funcs[2],\n",
    "                           'SimilaritySelector__count_vect_type': 'TfidfVectorizer',\n",
    "                           })\n",
    "\n",
    "kwargs_to_prod = prod_params({'stop_words': {'with stopwords removal' : stop_words},\n",
    "                              'ngram_range': {'no_ngram': (1, 1)},\n",
    "                              'binary': {'counts': False, 'binary flag': True},           \n",
    "                              'strip_accents': {'remove accents': 'unicode'},\n",
    "                             })\n",
    "\n",
    "param_grid = [{\n",
    "               'SimilaritySelector__count_vect_kwargs': kwargs_to_prod[1],\n",
    "               'SimilaritySelector__scoring': ['default', 'absolute_score', 'relative_score'],    \n",
    "               'SimilaritySelector__similarity': ['cosine'],\n",
    "               'SimilaritySelector__embedding_method': [None, 'Word2Vec', 'tSVD'],\n",
    "              },\n",
    "             ]\n",
    "search = GridSearchCV(process_pipe,\n",
    "                      param_grid,\n",
    "                      cv=8, \n",
    "                      scoring= ({'similarity': lev_scorer, 'accuracy': custom_accuracy}),\n",
    "                      refit='similarity',\n",
    "                      n_jobs=-1,\n",
    "                      verbose=1,\n",
    "                      error_score='raise',\n",
    "                     ).fit(train, train['ingredients'])"
   ]
  },
  {
   "cell_type": "code",
   "execution_count": 30,
   "metadata": {},
   "outputs": [
    {
     "name": "stdout",
     "output_type": "stream",
     "text": [
      "with stopwords removal, no_ngram, counts, remove accents, No embed, default 53.69% +/- 7.13%\n",
      "with stopwords removal, no_ngram, counts, remove accents, No embed, absolute score 54.47% +/- 6.87%\n",
      "with stopwords removal, no_ngram, counts, remove accents, No embed, relative score 29.42% +/- 5.32%\n",
      "with stopwords removal, no_ngram, counts, remove accents, Word2Vec, default 52.87% +/- 5.72%\n",
      "with stopwords removal, no_ngram, counts, remove accents, Word2Vec, absolute score 52.01% +/- 6.10%\n",
      "with stopwords removal, no_ngram, counts, remove accents, Word2Vec, relative score 10.19% +/- 2.67%\n",
      "with stopwords removal, no_ngram, counts, remove accents, tSVD, default 51.46% +/- 6.96%\n",
      "with stopwords removal, no_ngram, counts, remove accents, tSVD, absolute score 50.28% +/- 8.63%\n",
      "with stopwords removal, no_ngram, counts, remove accents, tSVD, relative score 8.06% +/- 1.50%\n",
      "with stopwords removal, no_ngram, binary flag, remove accents, No embed, default 53.29% +/- 7.86%\n",
      "with stopwords removal, no_ngram, binary flag, remove accents, No embed, absolute score 54.15% +/- 8.17%\n",
      "with stopwords removal, no_ngram, binary flag, remove accents, No embed, relative score 28.02% +/- 5.00%\n",
      "with stopwords removal, no_ngram, binary flag, remove accents, Word2Vec, default 52.15% +/- 6.51%\n",
      "with stopwords removal, no_ngram, binary flag, remove accents, Word2Vec, absolute score 52.61% +/- 5.46%\n",
      "with stopwords removal, no_ngram, binary flag, remove accents, Word2Vec, relative score 10.14% +/- 2.73%\n",
      "with stopwords removal, no_ngram, binary flag, remove accents, tSVD, default 54.03% +/- 8.19%\n",
      "with stopwords removal, no_ngram, binary flag, remove accents, tSVD, absolute score 53.90% +/- 8.25%\n",
      "with stopwords removal, no_ngram, binary flag, remove accents, tSVD, relative score 9.08% +/- 2.27%\n"
     ]
    }
   ],
   "source": [
    "labels = ['default', 'absolute_score', 'relative_score']\n",
    "\n",
    "\n",
    "labels = list(product(kwargs_to_prod[0],\n",
    "                      ['No embed', 'Word2Vec', 'tSVD'],\n",
    "                      ['default', 'absolute score', 'relative score'],\n",
    "                     ))\n",
    "# labels.extend(list(product(['projection l4/l2'],  kwargs_to_prod[0])))\n",
    "labels = list(map(lambda x: ', '.join(x), labels))\n",
    "\n",
    "for i in range(len(search.cv_results_['rank_test_similarity'])):\n",
    "    str_result = f\"{search.cv_results_['mean_test_similarity'][i]:.2%} +/- {search.cv_results_['std_test_similarity'][i]:.2%}\"\n",
    "    print(labels[i], str_result)"
   ]
  },
  {
   "cell_type": "code",
   "execution_count": 31,
   "metadata": {},
   "outputs": [
    {
     "data": {
      "text/plain": [
       "174"
      ]
     },
     "execution_count": 31,
     "metadata": {},
     "output_type": "execute_result"
    }
   ],
   "source": [
    "result_df = pd.concat([result_df, pd.DataFrame(search.cv_results_)], axis=0, ignore_index=True)\n",
    "result_df['run'] = result_df['run'].fillna(5)\n",
    "len(result_df)"
   ]
  },
  {
   "cell_type": "markdown",
   "metadata": {},
   "source": [
    "### Random search : validation finale de l'ensemble des critères\n",
    "\n",
    "On applique enfin une random search, afin de voir si les conclusions qui avaient été tirée lors des explorations systématiques de certains domaines sont viables."
   ]
  },
  {
   "cell_type": "code",
   "execution_count": 32,
   "metadata": {},
   "outputs": [
    {
     "name": "stdout",
     "output_type": "stream",
     "text": [
      "Fitting 8 folds for each of 50 candidates, totalling 400 fits\n"
     ]
    },
    {
     "name": "stderr",
     "output_type": "stream",
     "text": [
      "[Parallel(n_jobs=-1)]: Using backend LokyBackend with 8 concurrent workers.\n",
      "[Parallel(n_jobs=-1)]: Done  34 tasks      | elapsed:   26.8s\n",
      "[Parallel(n_jobs=-1)]: Done 184 tasks      | elapsed:  2.9min\n"
     ]
    },
    {
     "name": "stdout",
     "output_type": "stream",
     "text": [
      "Launching 8 processes.\n"
     ]
    },
    {
     "name": "stderr",
     "output_type": "stream",
     "text": [
      "[Parallel(n_jobs=-1)]: Done 400 out of 400 | elapsed:  7.4min finished\n"
     ]
    }
   ],
   "source": [
    "kwargs_to_prod = prod_params({'stop_words': {'with stopwords removal' : stop_words, 'keep stopwords': None},\n",
    "                              'use_idf': {'with idf': True, 'no idf': False},\n",
    "                              'binary': {'counts': False, 'binary flag': True},                                       \n",
    "                              'ngram_range': {'no_ngram': (1, 1), 'bigrams': (1, 2), 'trigrams': (1, 3)},  \n",
    "                              'strip_accents': {'remove accents': 'unicode', 'keep accents': None},\n",
    "                             })\n",
    "param_grid = [{\n",
    "               'SimilaritySelector__count_vect_kwargs': kwargs_to_prod[1],\n",
    "               'SimilaritySelector__scoring': ['default', 'absolute_score', 'relative_score'],    \n",
    "               'SimilaritySelector__similarity': ['cosine'],\n",
    "               'SimilaritySelector__embedding_method': [None, 'Word2Vec', 'tSVD'],\n",
    "    \n",
    "              },\n",
    "              {'SimilaritySelector__count_vect_kwargs': kwargs_to_prod[1],\n",
    "               'SimilaritySelector__scoring': ['default'],\n",
    "               'SimilaritySelector__similarity': ['projection'],\n",
    "               'SimilaritySelector__source_norm': ['l2', 'l3', 'l4', 'l5'],\n",
    "               'SimilaritySelector__projected_norm': ['l1', 'l2', 'l3', 'l4'],                   \n",
    "              },\n",
    "             ]\n",
    "len(kwargs_to_prod[1])\n",
    "\n",
    "search = RandomizedSearchCV(process_pipe,\n",
    "                            param_grid,\n",
    "                            n_iter=50,\n",
    "                            cv=8, \n",
    "                            scoring= ({'similarity': lev_scorer, 'accuracy': custom_accuracy}),\n",
    "                            refit='similarity',\n",
    "                            n_jobs=-1,\n",
    "                            verbose=1,\n",
    "                           ).fit(train, train['ingredients'])"
   ]
  },
  {
   "cell_type": "code",
   "execution_count": 33,
   "metadata": {},
   "outputs": [
    {
     "data": {
      "text/plain": [
       "{'SimilaritySelector__source_norm': 'l5',\n",
       " 'SimilaritySelector__similarity': 'projection',\n",
       " 'SimilaritySelector__scoring': 'default',\n",
       " 'SimilaritySelector__projected_norm': 'l4',\n",
       " 'SimilaritySelector__count_vect_kwargs': {'stop_words': None,\n",
       "  'use_idf': False,\n",
       "  'binary': True,\n",
       "  'ngram_range': (1, 3),\n",
       "  'strip_accents': 'unicode'}}"
      ]
     },
     "execution_count": 33,
     "metadata": {},
     "output_type": "execute_result"
    }
   ],
   "source": [
    "search.best_params_"
   ]
  },
  {
   "cell_type": "code",
   "execution_count": 34,
   "metadata": {},
   "outputs": [
    {
     "data": {
      "text/plain": [
       "0.6229252549390715"
      ]
     },
     "execution_count": 34,
     "metadata": {},
     "output_type": "execute_result"
    }
   ],
   "source": [
    "search.best_score_"
   ]
  },
  {
   "cell_type": "code",
   "execution_count": 35,
   "metadata": {},
   "outputs": [],
   "source": [
    "save_result = result_df.copy()"
   ]
  },
  {
   "cell_type": "code",
   "execution_count": 36,
   "metadata": {},
   "outputs": [],
   "source": [
    "result_df = save_result.copy()"
   ]
  },
  {
   "cell_type": "markdown",
   "metadata": {},
   "source": [
    "### Dépouillement des résultats\n",
    "\n",
    "#### Préparation du dataframe\n",
    "\n",
    "On va maintenant interpréter le contenu du dataframe portant les résultats. On commence par renommer les colonnes qui ont de longs noms."
   ]
  },
  {
   "cell_type": "code",
   "execution_count": 37,
   "metadata": {},
   "outputs": [],
   "source": [
    "col_rename = {\n",
    "              'param_SimilaritySelector__similarity': 'similarity',\n",
    "              'param_Splitter__splitter_func': 'split_func',\n",
    "              'param_SimilaritySelector__projected_norm': 'projected_norm',\n",
    "              'param_SimilaritySelector__source_norm': 'source_norm',\n",
    "              'param_SimilaritySelector__count_vect_type': 'count_vect_type',\n",
    "              'param_SimilaritySelector__scoring': 'scoring',\n",
    "              'param_SimilaritySelector__embedding_method': 'embedding_method',\n",
    "}\n",
    "result_df.rename(col_rename, axis=1, inplace=True)"
   ]
  },
  {
   "cell_type": "markdown",
   "metadata": {},
   "source": [
    "On récupère maintenant le contenu des dictionnaires en tant que colonnes."
   ]
  },
  {
   "cell_type": "code",
   "execution_count": 38,
   "metadata": {},
   "outputs": [],
   "source": [
    "dict_cols = {'param_SimilaritySelector__count_vect_kwargs'}\n",
    "to_concat = list()\n",
    "for dict_col in dict_cols: \n",
    "    to_concat.append(result_df[dict_col].apply(pd.Series))\n",
    "    result_df.drop(dict_col, axis=1, inplace=True)\n",
    "result_df = pd.concat([result_df, *to_concat], axis=1)"
   ]
  },
  {
   "cell_type": "code",
   "execution_count": 39,
   "metadata": {},
   "outputs": [
    {
     "data": {
      "text/html": [
       "<div>\n",
       "<style scoped>\n",
       "    .dataframe tbody tr th:only-of-type {\n",
       "        vertical-align: middle;\n",
       "    }\n",
       "\n",
       "    .dataframe tbody tr th {\n",
       "        vertical-align: top;\n",
       "    }\n",
       "\n",
       "    .dataframe thead th {\n",
       "        text-align: right;\n",
       "    }\n",
       "</style>\n",
       "<table border=\"1\" class=\"dataframe\">\n",
       "  <thead>\n",
       "    <tr style=\"text-align: right;\">\n",
       "      <th></th>\n",
       "      <th>mean_fit_time</th>\n",
       "      <th>std_fit_time</th>\n",
       "      <th>mean_score_time</th>\n",
       "      <th>std_score_time</th>\n",
       "      <th>similarity</th>\n",
       "      <th>split_func</th>\n",
       "      <th>params</th>\n",
       "      <th>split0_test_similarity</th>\n",
       "      <th>split1_test_similarity</th>\n",
       "      <th>split2_test_similarity</th>\n",
       "      <th>...</th>\n",
       "      <th>projected_norm</th>\n",
       "      <th>source_norm</th>\n",
       "      <th>count_vect_type</th>\n",
       "      <th>scoring</th>\n",
       "      <th>embedding_method</th>\n",
       "      <th>stop_words</th>\n",
       "      <th>ngram_range</th>\n",
       "      <th>strip_accents</th>\n",
       "      <th>binary</th>\n",
       "      <th>use_idf</th>\n",
       "    </tr>\n",
       "  </thead>\n",
       "  <tbody>\n",
       "    <tr>\n",
       "      <th>16</th>\n",
       "      <td>1.352191</td>\n",
       "      <td>0.115982</td>\n",
       "      <td>1.373797</td>\n",
       "      <td>0.063449</td>\n",
       "      <td>cosine</td>\n",
       "      <td>&lt;function split_func2 at 0x7fd22c8c54c0&gt;</td>\n",
       "      <td>{'SimilaritySelector__count_vect_kwargs': {'st...</td>\n",
       "      <td>0.273854</td>\n",
       "      <td>0.241616</td>\n",
       "      <td>0.227988</td>\n",
       "      <td>...</td>\n",
       "      <td>NaN</td>\n",
       "      <td>NaN</td>\n",
       "      <td>NaN</td>\n",
       "      <td>NaN</td>\n",
       "      <td>NaN</td>\n",
       "      <td>None</td>\n",
       "      <td>(1, 2)</td>\n",
       "      <td>None</td>\n",
       "      <td>NaN</td>\n",
       "      <td>NaN</td>\n",
       "    </tr>\n",
       "    <tr>\n",
       "      <th>75</th>\n",
       "      <td>1.265245</td>\n",
       "      <td>0.067000</td>\n",
       "      <td>0.896431</td>\n",
       "      <td>0.050775</td>\n",
       "      <td>projection</td>\n",
       "      <td>NaN</td>\n",
       "      <td>{'SimilaritySelector__count_vect_kwargs': {'st...</td>\n",
       "      <td>0.178339</td>\n",
       "      <td>0.158652</td>\n",
       "      <td>0.168862</td>\n",
       "      <td>...</td>\n",
       "      <td>l2</td>\n",
       "      <td>l2</td>\n",
       "      <td>NaN</td>\n",
       "      <td>NaN</td>\n",
       "      <td>NaN</td>\n",
       "      <td>{ou, en, que, le, par, des, de, sur, au, dans,...</td>\n",
       "      <td>(1, 2)</td>\n",
       "      <td>unicode</td>\n",
       "      <td>True</td>\n",
       "      <td>NaN</td>\n",
       "    </tr>\n",
       "    <tr>\n",
       "      <th>8</th>\n",
       "      <td>0.976850</td>\n",
       "      <td>0.057763</td>\n",
       "      <td>0.743860</td>\n",
       "      <td>0.080931</td>\n",
       "      <td>projection</td>\n",
       "      <td>&lt;function split_func3 at 0x7fd22c8c5550&gt;</td>\n",
       "      <td>{'SimilaritySelector__count_vect_kwargs': {'st...</td>\n",
       "      <td>0.510515</td>\n",
       "      <td>0.580699</td>\n",
       "      <td>0.414276</td>\n",
       "      <td>...</td>\n",
       "      <td>NaN</td>\n",
       "      <td>NaN</td>\n",
       "      <td>NaN</td>\n",
       "      <td>NaN</td>\n",
       "      <td>NaN</td>\n",
       "      <td>None</td>\n",
       "      <td>(1, 1)</td>\n",
       "      <td>unicode</td>\n",
       "      <td>NaN</td>\n",
       "      <td>NaN</td>\n",
       "    </tr>\n",
       "  </tbody>\n",
       "</table>\n",
       "<p>3 rows × 40 columns</p>\n",
       "</div>"
      ],
      "text/plain": [
       "    mean_fit_time  std_fit_time  mean_score_time  std_score_time  similarity  \\\n",
       "16       1.352191      0.115982         1.373797        0.063449      cosine   \n",
       "75       1.265245      0.067000         0.896431        0.050775  projection   \n",
       "8        0.976850      0.057763         0.743860        0.080931  projection   \n",
       "\n",
       "                                  split_func                                             params  \\\n",
       "16  <function split_func2 at 0x7fd22c8c54c0>  {'SimilaritySelector__count_vect_kwargs': {'st...   \n",
       "75                                       NaN  {'SimilaritySelector__count_vect_kwargs': {'st...   \n",
       "8   <function split_func3 at 0x7fd22c8c5550>  {'SimilaritySelector__count_vect_kwargs': {'st...   \n",
       "\n",
       "    split0_test_similarity  split1_test_similarity  split2_test_similarity  ...  projected_norm  \\\n",
       "16                0.273854                0.241616                0.227988  ...             NaN   \n",
       "75                0.178339                0.158652                0.168862  ...              l2   \n",
       "8                 0.510515                0.580699                0.414276  ...             NaN   \n",
       "\n",
       "    source_norm  count_vect_type  scoring  embedding_method  \\\n",
       "16          NaN              NaN      NaN               NaN   \n",
       "75           l2              NaN      NaN               NaN   \n",
       "8           NaN              NaN      NaN               NaN   \n",
       "\n",
       "                                           stop_words  ngram_range  strip_accents  binary  use_idf  \n",
       "16                                               None       (1, 2)           None     NaN      NaN  \n",
       "75  {ou, en, que, le, par, des, de, sur, au, dans,...       (1, 2)        unicode    True      NaN  \n",
       "8                                                None       (1, 1)        unicode     NaN      NaN  \n",
       "\n",
       "[3 rows x 40 columns]"
      ]
     },
     "execution_count": 39,
     "metadata": {},
     "output_type": "execute_result"
    }
   ],
   "source": [
    "result_df.sample(3)"
   ]
  },
  {
   "cell_type": "markdown",
   "metadata": {},
   "source": [
    "On effectue ensuite quelques prétraitements pour améliorer la lisibilité.\n",
    "On renomme les fonctions avec leur nom, et on applique une valeur par défaut."
   ]
  },
  {
   "cell_type": "code",
   "execution_count": 40,
   "metadata": {},
   "outputs": [],
   "source": [
    "def rename_funcs(func):\n",
    "    try:\n",
    "        return(func.__name__)\n",
    "    except:\n",
    "        return('split_func3')\n",
    "result_df['split_func'] = result_df.loc[:, 'split_func'].apply(rename_funcs)    "
   ]
  },
  {
   "cell_type": "markdown",
   "metadata": {},
   "source": [
    "On met 2 critères pour le retrait des stopwords : retrait d'une liste, ou non retrait."
   ]
  },
  {
   "cell_type": "code",
   "execution_count": 41,
   "metadata": {},
   "outputs": [],
   "source": [
    "result_df['stop_words'].fillna('no_stopword_removal', inplace=True)\n",
    "result_df.loc[result_df['stop_words'] != 'no_stopword_removal', 'stop_words'] = 'stop_word_list'"
   ]
  },
  {
   "cell_type": "markdown",
   "metadata": {},
   "source": [
    "On renomme les ngram_ranges"
   ]
  },
  {
   "cell_type": "code",
   "execution_count": 42,
   "metadata": {},
   "outputs": [],
   "source": [
    "ngram_dict = {(1, 1): 'no_ngram', \n",
    "              (1, 2): 'bigrams',\n",
    "              (1, 3): 'trigrams'}\n",
    "result_df['ngram_range'] = result_df['ngram_range'].map(ngram_dict, na_action='ignore')"
   ]
  },
  {
   "cell_type": "markdown",
   "metadata": {},
   "source": [
    "On renomme le retrait des accents."
   ]
  },
  {
   "cell_type": "code",
   "execution_count": 43,
   "metadata": {},
   "outputs": [],
   "source": [
    "accent_dict = {None: 'no_accent_removal', \n",
    "               'unicode': 'accent_removal',\n",
    "              }\n",
    "result_df['strip_accents'] = result_df['strip_accents'].map(accent_dict, na_action='ignore')"
   ]
  },
  {
   "cell_type": "code",
   "execution_count": 44,
   "metadata": {},
   "outputs": [],
   "source": [
    "result_df.drop('params', axis=1, inplace=True)"
   ]
  },
  {
   "cell_type": "markdown",
   "metadata": {},
   "source": [
    "On renomme les embeddings"
   ]
  },
  {
   "cell_type": "code",
   "execution_count": 45,
   "metadata": {},
   "outputs": [],
   "source": [
    "embed_dict = {None: 'no_embedding', \n",
    "              'Word2Vec': 'Word2Vec',\n",
    "              'tSVD': 'tSVD',\n",
    "              }\n",
    "result_df['embedding_method'] = result_df['embedding_method'].map(embed_dict, na_action='ignore')"
   ]
  },
  {
   "cell_type": "markdown",
   "metadata": {},
   "source": [
    "On applique ensuite les valeurs par défaut pour les colonnes sur lesquelles on n'a pas fait varier les critères."
   ]
  },
  {
   "cell_type": "code",
   "execution_count": 46,
   "metadata": {},
   "outputs": [],
   "source": [
    "# by default, accents are stripped\n",
    "result_df['strip_accents'] = result_df['strip_accents'].fillna('accent_removal')\n",
    "# scoring and embedding method are not applicable if projection\n",
    "result_df.loc[result_df['similarity'] == 'projection',['scoring', 'embedding_method']] = 'not_applicable'\n",
    "# add default value to scoring for remainder\n",
    "result_df.loc[pd.isna(result_df['scoring']), 'scoring'] = 'default'\n",
    "# default value for embedding for remainder \n",
    "result_df['embedding_method'] = result_df['embedding_method'].fillna('no_embedding')\n",
    "# projected and source norm are not applicable if similarity is cosine\n",
    "result_df.loc[result_df['similarity'] == 'cosine',['source_norm', 'projected_norm']] = 'not_applicable'\n",
    "# default value for norms for remainder \n",
    "result_df['source_norm'] = result_df['source_norm'].fillna('l2')\n",
    "result_df['projected_norm'] = result_df['projected_norm'].fillna('l1')"
   ]
  },
  {
   "cell_type": "code",
   "execution_count": 47,
   "metadata": {},
   "outputs": [],
   "source": [
    "fillna_dict = {\n",
    "               'similarity': 'projection',\n",
    "               'split_func': 'split_func3',\n",
    "               'count_vect_type': 'TfidfVectorizer',\n",
    "               'use_idf': False,\n",
    "               'binary': False,\n",
    "              }\n",
    "for key, val in fillna_dict.items():\n",
    "    result_df[key] = result_df[key].fillna(val)"
   ]
  },
  {
   "cell_type": "code",
   "execution_count": 48,
   "metadata": {},
   "outputs": [
    {
     "data": {
      "text/html": [
       "<div>\n",
       "<style scoped>\n",
       "    .dataframe tbody tr th:only-of-type {\n",
       "        vertical-align: middle;\n",
       "    }\n",
       "\n",
       "    .dataframe tbody tr th {\n",
       "        vertical-align: top;\n",
       "    }\n",
       "\n",
       "    .dataframe thead th {\n",
       "        text-align: right;\n",
       "    }\n",
       "</style>\n",
       "<table border=\"1\" class=\"dataframe\">\n",
       "  <thead>\n",
       "    <tr style=\"text-align: right;\">\n",
       "      <th></th>\n",
       "      <th></th>\n",
       "      <th></th>\n",
       "      <th></th>\n",
       "      <th></th>\n",
       "      <th></th>\n",
       "      <th></th>\n",
       "      <th></th>\n",
       "      <th></th>\n",
       "      <th></th>\n",
       "      <th></th>\n",
       "      <th></th>\n",
       "      <th>mean_fit_time</th>\n",
       "      <th>std_fit_time</th>\n",
       "      <th>mean_score_time</th>\n",
       "      <th>std_score_time</th>\n",
       "      <th>split0_test_similarity</th>\n",
       "      <th>split1_test_similarity</th>\n",
       "      <th>split2_test_similarity</th>\n",
       "      <th>split3_test_similarity</th>\n",
       "      <th>split4_test_similarity</th>\n",
       "      <th>split5_test_similarity</th>\n",
       "      <th>...</th>\n",
       "      <th>split2_test_accuracy</th>\n",
       "      <th>split3_test_accuracy</th>\n",
       "      <th>split4_test_accuracy</th>\n",
       "      <th>split5_test_accuracy</th>\n",
       "      <th>split6_test_accuracy</th>\n",
       "      <th>split7_test_accuracy</th>\n",
       "      <th>mean_test_accuracy</th>\n",
       "      <th>std_test_accuracy</th>\n",
       "      <th>rank_test_accuracy</th>\n",
       "      <th>run</th>\n",
       "    </tr>\n",
       "    <tr>\n",
       "      <th>split_func</th>\n",
       "      <th>stop_words</th>\n",
       "      <th>strip_accents</th>\n",
       "      <th>binary</th>\n",
       "      <th>use_idf</th>\n",
       "      <th>ngram_range</th>\n",
       "      <th>similarity</th>\n",
       "      <th>projected_norm</th>\n",
       "      <th>source_norm</th>\n",
       "      <th>count_vect_type</th>\n",
       "      <th>scoring</th>\n",
       "      <th>embedding_method</th>\n",
       "      <th></th>\n",
       "      <th></th>\n",
       "      <th></th>\n",
       "      <th></th>\n",
       "      <th></th>\n",
       "      <th></th>\n",
       "      <th></th>\n",
       "      <th></th>\n",
       "      <th></th>\n",
       "      <th></th>\n",
       "      <th></th>\n",
       "      <th></th>\n",
       "      <th></th>\n",
       "      <th></th>\n",
       "      <th></th>\n",
       "      <th></th>\n",
       "      <th></th>\n",
       "      <th></th>\n",
       "      <th></th>\n",
       "      <th></th>\n",
       "      <th></th>\n",
       "    </tr>\n",
       "  </thead>\n",
       "  <tbody>\n",
       "    <tr>\n",
       "      <th rowspan=\"3\" valign=\"top\">split_func1</th>\n",
       "      <th rowspan=\"3\" valign=\"top\">no_stopword_removal</th>\n",
       "      <th rowspan=\"3\" valign=\"top\">accent_removal</th>\n",
       "      <th rowspan=\"3\" valign=\"top\">False</th>\n",
       "      <th rowspan=\"3\" valign=\"top\">False</th>\n",
       "      <th rowspan=\"2\" valign=\"top\">bigrams</th>\n",
       "      <th>cosine</th>\n",
       "      <th>not_applicable</th>\n",
       "      <th>not_applicable</th>\n",
       "      <th>TfidfVectorizer</th>\n",
       "      <th>default</th>\n",
       "      <th>no_embedding</th>\n",
       "      <td>1.373565</td>\n",
       "      <td>0.114913</td>\n",
       "      <td>1.564418</td>\n",
       "      <td>0.244770</td>\n",
       "      <td>0.383472</td>\n",
       "      <td>0.500577</td>\n",
       "      <td>0.324671</td>\n",
       "      <td>0.433144</td>\n",
       "      <td>0.464408</td>\n",
       "      <td>0.367341</td>\n",
       "      <td>...</td>\n",
       "      <td>0.12</td>\n",
       "      <td>0.16</td>\n",
       "      <td>0.14</td>\n",
       "      <td>0.18</td>\n",
       "      <td>0.12</td>\n",
       "      <td>0.14</td>\n",
       "      <td>0.1450</td>\n",
       "      <td>0.019365</td>\n",
       "      <td>43</td>\n",
       "      <td>1.0</td>\n",
       "    </tr>\n",
       "    <tr>\n",
       "      <th>projection</th>\n",
       "      <th>l1</th>\n",
       "      <th>l2</th>\n",
       "      <th>TfidfVectorizer</th>\n",
       "      <th>not_applicable</th>\n",
       "      <th>not_applicable</th>\n",
       "      <td>1.284843</td>\n",
       "      <td>0.069547</td>\n",
       "      <td>0.886307</td>\n",
       "      <td>0.075558</td>\n",
       "      <td>0.545019</td>\n",
       "      <td>0.621710</td>\n",
       "      <td>0.451395</td>\n",
       "      <td>0.557046</td>\n",
       "      <td>0.605446</td>\n",
       "      <td>0.526797</td>\n",
       "      <td>...</td>\n",
       "      <td>0.18</td>\n",
       "      <td>0.16</td>\n",
       "      <td>0.20</td>\n",
       "      <td>0.26</td>\n",
       "      <td>0.22</td>\n",
       "      <td>0.18</td>\n",
       "      <td>0.2075</td>\n",
       "      <td>0.031524</td>\n",
       "      <td>16</td>\n",
       "      <td>1.0</td>\n",
       "    </tr>\n",
       "    <tr>\n",
       "      <th>no_ngram</th>\n",
       "      <th>cosine</th>\n",
       "      <th>not_applicable</th>\n",
       "      <th>not_applicable</th>\n",
       "      <th>TfidfVectorizer</th>\n",
       "      <th>default</th>\n",
       "      <th>no_embedding</th>\n",
       "      <td>0.863968</td>\n",
       "      <td>0.075530</td>\n",
       "      <td>0.831466</td>\n",
       "      <td>0.098489</td>\n",
       "      <td>0.380675</td>\n",
       "      <td>0.503208</td>\n",
       "      <td>0.334112</td>\n",
       "      <td>0.410601</td>\n",
       "      <td>0.440279</td>\n",
       "      <td>0.385640</td>\n",
       "      <td>...</td>\n",
       "      <td>0.12</td>\n",
       "      <td>0.16</td>\n",
       "      <td>0.12</td>\n",
       "      <td>0.20</td>\n",
       "      <td>0.12</td>\n",
       "      <td>0.14</td>\n",
       "      <td>0.1450</td>\n",
       "      <td>0.025981</td>\n",
       "      <td>43</td>\n",
       "      <td>1.0</td>\n",
       "    </tr>\n",
       "    <tr>\n",
       "      <th>...</th>\n",
       "      <th>...</th>\n",
       "      <th>...</th>\n",
       "      <th>...</th>\n",
       "      <th>...</th>\n",
       "      <th>...</th>\n",
       "      <th>...</th>\n",
       "      <th>...</th>\n",
       "      <th>...</th>\n",
       "      <th>...</th>\n",
       "      <th>...</th>\n",
       "      <th>...</th>\n",
       "      <td>...</td>\n",
       "      <td>...</td>\n",
       "      <td>...</td>\n",
       "      <td>...</td>\n",
       "      <td>...</td>\n",
       "      <td>...</td>\n",
       "      <td>...</td>\n",
       "      <td>...</td>\n",
       "      <td>...</td>\n",
       "      <td>...</td>\n",
       "      <td>...</td>\n",
       "      <td>...</td>\n",
       "      <td>...</td>\n",
       "      <td>...</td>\n",
       "      <td>...</td>\n",
       "      <td>...</td>\n",
       "      <td>...</td>\n",
       "      <td>...</td>\n",
       "      <td>...</td>\n",
       "      <td>...</td>\n",
       "      <td>...</td>\n",
       "    </tr>\n",
       "    <tr>\n",
       "      <th rowspan=\"3\" valign=\"top\">split_func3</th>\n",
       "      <th rowspan=\"3\" valign=\"top\">stop_word_list</th>\n",
       "      <th rowspan=\"3\" valign=\"top\">no_accent_removal</th>\n",
       "      <th rowspan=\"3\" valign=\"top\">False</th>\n",
       "      <th rowspan=\"3\" valign=\"top\">False</th>\n",
       "      <th>no_ngram</th>\n",
       "      <th>projection</th>\n",
       "      <th>l1</th>\n",
       "      <th>l2</th>\n",
       "      <th>TfidfVectorizer</th>\n",
       "      <th>not_applicable</th>\n",
       "      <th>not_applicable</th>\n",
       "      <td>0.630821</td>\n",
       "      <td>0.044756</td>\n",
       "      <td>0.560375</td>\n",
       "      <td>0.051174</td>\n",
       "      <td>0.542261</td>\n",
       "      <td>0.653969</td>\n",
       "      <td>0.484972</td>\n",
       "      <td>0.573402</td>\n",
       "      <td>0.702138</td>\n",
       "      <td>0.563652</td>\n",
       "      <td>...</td>\n",
       "      <td>0.16</td>\n",
       "      <td>0.18</td>\n",
       "      <td>0.24</td>\n",
       "      <td>0.26</td>\n",
       "      <td>0.22</td>\n",
       "      <td>0.18</td>\n",
       "      <td>0.2075</td>\n",
       "      <td>0.031524</td>\n",
       "      <td>16</td>\n",
       "      <td>1.0</td>\n",
       "    </tr>\n",
       "    <tr>\n",
       "      <th rowspan=\"2\" valign=\"top\">trigrams</th>\n",
       "      <th>cosine</th>\n",
       "      <th>not_applicable</th>\n",
       "      <th>not_applicable</th>\n",
       "      <th>TfidfVectorizer</th>\n",
       "      <th>default</th>\n",
       "      <th>no_embedding</th>\n",
       "      <td>1.417819</td>\n",
       "      <td>0.119930</td>\n",
       "      <td>1.203258</td>\n",
       "      <td>0.079052</td>\n",
       "      <td>0.444685</td>\n",
       "      <td>0.647609</td>\n",
       "      <td>0.478009</td>\n",
       "      <td>0.560348</td>\n",
       "      <td>0.662707</td>\n",
       "      <td>0.518518</td>\n",
       "      <td>...</td>\n",
       "      <td>0.20</td>\n",
       "      <td>0.20</td>\n",
       "      <td>0.22</td>\n",
       "      <td>0.20</td>\n",
       "      <td>0.14</td>\n",
       "      <td>0.14</td>\n",
       "      <td>0.1900</td>\n",
       "      <td>0.038730</td>\n",
       "      <td>27</td>\n",
       "      <td>1.0</td>\n",
       "    </tr>\n",
       "    <tr>\n",
       "      <th>projection</th>\n",
       "      <th>l1</th>\n",
       "      <th>l2</th>\n",
       "      <th>TfidfVectorizer</th>\n",
       "      <th>not_applicable</th>\n",
       "      <th>not_applicable</th>\n",
       "      <td>1.390516</td>\n",
       "      <td>0.085027</td>\n",
       "      <td>0.833215</td>\n",
       "      <td>0.086330</td>\n",
       "      <td>0.565570</td>\n",
       "      <td>0.692604</td>\n",
       "      <td>0.553719</td>\n",
       "      <td>0.593826</td>\n",
       "      <td>0.716421</td>\n",
       "      <td>0.596413</td>\n",
       "      <td>...</td>\n",
       "      <td>0.24</td>\n",
       "      <td>0.20</td>\n",
       "      <td>0.26</td>\n",
       "      <td>0.28</td>\n",
       "      <td>0.24</td>\n",
       "      <td>0.18</td>\n",
       "      <td>0.2350</td>\n",
       "      <td>0.029580</td>\n",
       "      <td>1</td>\n",
       "      <td>1.0</td>\n",
       "    </tr>\n",
       "  </tbody>\n",
       "</table>\n",
       "<p>174 rows × 27 columns</p>\n",
       "</div>"
      ],
      "text/plain": [
       "                                                                                                                                                                       mean_fit_time  \\\n",
       "split_func  stop_words          strip_accents     binary use_idf ngram_range similarity projected_norm source_norm    count_vect_type scoring        embedding_method                  \n",
       "split_func1 no_stopword_removal accent_removal    False  False   bigrams     cosine     not_applicable not_applicable TfidfVectorizer default        no_embedding           1.373565   \n",
       "                                                                             projection l1             l2             TfidfVectorizer not_applicable not_applicable         1.284843   \n",
       "                                                                 no_ngram    cosine     not_applicable not_applicable TfidfVectorizer default        no_embedding           0.863968   \n",
       "...                                                                                                                                                                              ...   \n",
       "split_func3 stop_word_list      no_accent_removal False  False   no_ngram    projection l1             l2             TfidfVectorizer not_applicable not_applicable         0.630821   \n",
       "                                                                 trigrams    cosine     not_applicable not_applicable TfidfVectorizer default        no_embedding           1.417819   \n",
       "                                                                             projection l1             l2             TfidfVectorizer not_applicable not_applicable         1.390516   \n",
       "\n",
       "                                                                                                                                                                       std_fit_time  \\\n",
       "split_func  stop_words          strip_accents     binary use_idf ngram_range similarity projected_norm source_norm    count_vect_type scoring        embedding_method                 \n",
       "split_func1 no_stopword_removal accent_removal    False  False   bigrams     cosine     not_applicable not_applicable TfidfVectorizer default        no_embedding          0.114913   \n",
       "                                                                             projection l1             l2             TfidfVectorizer not_applicable not_applicable        0.069547   \n",
       "                                                                 no_ngram    cosine     not_applicable not_applicable TfidfVectorizer default        no_embedding          0.075530   \n",
       "...                                                                                                                                                                             ...   \n",
       "split_func3 stop_word_list      no_accent_removal False  False   no_ngram    projection l1             l2             TfidfVectorizer not_applicable not_applicable        0.044756   \n",
       "                                                                 trigrams    cosine     not_applicable not_applicable TfidfVectorizer default        no_embedding          0.119930   \n",
       "                                                                             projection l1             l2             TfidfVectorizer not_applicable not_applicable        0.085027   \n",
       "\n",
       "                                                                                                                                                                       mean_score_time  \\\n",
       "split_func  stop_words          strip_accents     binary use_idf ngram_range similarity projected_norm source_norm    count_vect_type scoring        embedding_method                    \n",
       "split_func1 no_stopword_removal accent_removal    False  False   bigrams     cosine     not_applicable not_applicable TfidfVectorizer default        no_embedding             1.564418   \n",
       "                                                                             projection l1             l2             TfidfVectorizer not_applicable not_applicable           0.886307   \n",
       "                                                                 no_ngram    cosine     not_applicable not_applicable TfidfVectorizer default        no_embedding             0.831466   \n",
       "...                                                                                                                                                                                ...   \n",
       "split_func3 stop_word_list      no_accent_removal False  False   no_ngram    projection l1             l2             TfidfVectorizer not_applicable not_applicable           0.560375   \n",
       "                                                                 trigrams    cosine     not_applicable not_applicable TfidfVectorizer default        no_embedding             1.203258   \n",
       "                                                                             projection l1             l2             TfidfVectorizer not_applicable not_applicable           0.833215   \n",
       "\n",
       "                                                                                                                                                                       std_score_time  \\\n",
       "split_func  stop_words          strip_accents     binary use_idf ngram_range similarity projected_norm source_norm    count_vect_type scoring        embedding_method                   \n",
       "split_func1 no_stopword_removal accent_removal    False  False   bigrams     cosine     not_applicable not_applicable TfidfVectorizer default        no_embedding            0.244770   \n",
       "                                                                             projection l1             l2             TfidfVectorizer not_applicable not_applicable          0.075558   \n",
       "                                                                 no_ngram    cosine     not_applicable not_applicable TfidfVectorizer default        no_embedding            0.098489   \n",
       "...                                                                                                                                                                               ...   \n",
       "split_func3 stop_word_list      no_accent_removal False  False   no_ngram    projection l1             l2             TfidfVectorizer not_applicable not_applicable          0.051174   \n",
       "                                                                 trigrams    cosine     not_applicable not_applicable TfidfVectorizer default        no_embedding            0.079052   \n",
       "                                                                             projection l1             l2             TfidfVectorizer not_applicable not_applicable          0.086330   \n",
       "\n",
       "                                                                                                                                                                       split0_test_similarity  \\\n",
       "split_func  stop_words          strip_accents     binary use_idf ngram_range similarity projected_norm source_norm    count_vect_type scoring        embedding_method                           \n",
       "split_func1 no_stopword_removal accent_removal    False  False   bigrams     cosine     not_applicable not_applicable TfidfVectorizer default        no_embedding                    0.383472   \n",
       "                                                                             projection l1             l2             TfidfVectorizer not_applicable not_applicable                  0.545019   \n",
       "                                                                 no_ngram    cosine     not_applicable not_applicable TfidfVectorizer default        no_embedding                    0.380675   \n",
       "...                                                                                                                                                                                       ...   \n",
       "split_func3 stop_word_list      no_accent_removal False  False   no_ngram    projection l1             l2             TfidfVectorizer not_applicable not_applicable                  0.542261   \n",
       "                                                                 trigrams    cosine     not_applicable not_applicable TfidfVectorizer default        no_embedding                    0.444685   \n",
       "                                                                             projection l1             l2             TfidfVectorizer not_applicable not_applicable                  0.565570   \n",
       "\n",
       "                                                                                                                                                                       split1_test_similarity  \\\n",
       "split_func  stop_words          strip_accents     binary use_idf ngram_range similarity projected_norm source_norm    count_vect_type scoring        embedding_method                           \n",
       "split_func1 no_stopword_removal accent_removal    False  False   bigrams     cosine     not_applicable not_applicable TfidfVectorizer default        no_embedding                    0.500577   \n",
       "                                                                             projection l1             l2             TfidfVectorizer not_applicable not_applicable                  0.621710   \n",
       "                                                                 no_ngram    cosine     not_applicable not_applicable TfidfVectorizer default        no_embedding                    0.503208   \n",
       "...                                                                                                                                                                                       ...   \n",
       "split_func3 stop_word_list      no_accent_removal False  False   no_ngram    projection l1             l2             TfidfVectorizer not_applicable not_applicable                  0.653969   \n",
       "                                                                 trigrams    cosine     not_applicable not_applicable TfidfVectorizer default        no_embedding                    0.647609   \n",
       "                                                                             projection l1             l2             TfidfVectorizer not_applicable not_applicable                  0.692604   \n",
       "\n",
       "                                                                                                                                                                       split2_test_similarity  \\\n",
       "split_func  stop_words          strip_accents     binary use_idf ngram_range similarity projected_norm source_norm    count_vect_type scoring        embedding_method                           \n",
       "split_func1 no_stopword_removal accent_removal    False  False   bigrams     cosine     not_applicable not_applicable TfidfVectorizer default        no_embedding                    0.324671   \n",
       "                                                                             projection l1             l2             TfidfVectorizer not_applicable not_applicable                  0.451395   \n",
       "                                                                 no_ngram    cosine     not_applicable not_applicable TfidfVectorizer default        no_embedding                    0.334112   \n",
       "...                                                                                                                                                                                       ...   \n",
       "split_func3 stop_word_list      no_accent_removal False  False   no_ngram    projection l1             l2             TfidfVectorizer not_applicable not_applicable                  0.484972   \n",
       "                                                                 trigrams    cosine     not_applicable not_applicable TfidfVectorizer default        no_embedding                    0.478009   \n",
       "                                                                             projection l1             l2             TfidfVectorizer not_applicable not_applicable                  0.553719   \n",
       "\n",
       "                                                                                                                                                                       split3_test_similarity  \\\n",
       "split_func  stop_words          strip_accents     binary use_idf ngram_range similarity projected_norm source_norm    count_vect_type scoring        embedding_method                           \n",
       "split_func1 no_stopword_removal accent_removal    False  False   bigrams     cosine     not_applicable not_applicable TfidfVectorizer default        no_embedding                    0.433144   \n",
       "                                                                             projection l1             l2             TfidfVectorizer not_applicable not_applicable                  0.557046   \n",
       "                                                                 no_ngram    cosine     not_applicable not_applicable TfidfVectorizer default        no_embedding                    0.410601   \n",
       "...                                                                                                                                                                                       ...   \n",
       "split_func3 stop_word_list      no_accent_removal False  False   no_ngram    projection l1             l2             TfidfVectorizer not_applicable not_applicable                  0.573402   \n",
       "                                                                 trigrams    cosine     not_applicable not_applicable TfidfVectorizer default        no_embedding                    0.560348   \n",
       "                                                                             projection l1             l2             TfidfVectorizer not_applicable not_applicable                  0.593826   \n",
       "\n",
       "                                                                                                                                                                       split4_test_similarity  \\\n",
       "split_func  stop_words          strip_accents     binary use_idf ngram_range similarity projected_norm source_norm    count_vect_type scoring        embedding_method                           \n",
       "split_func1 no_stopword_removal accent_removal    False  False   bigrams     cosine     not_applicable not_applicable TfidfVectorizer default        no_embedding                    0.464408   \n",
       "                                                                             projection l1             l2             TfidfVectorizer not_applicable not_applicable                  0.605446   \n",
       "                                                                 no_ngram    cosine     not_applicable not_applicable TfidfVectorizer default        no_embedding                    0.440279   \n",
       "...                                                                                                                                                                                       ...   \n",
       "split_func3 stop_word_list      no_accent_removal False  False   no_ngram    projection l1             l2             TfidfVectorizer not_applicable not_applicable                  0.702138   \n",
       "                                                                 trigrams    cosine     not_applicable not_applicable TfidfVectorizer default        no_embedding                    0.662707   \n",
       "                                                                             projection l1             l2             TfidfVectorizer not_applicable not_applicable                  0.716421   \n",
       "\n",
       "                                                                                                                                                                       split5_test_similarity  \\\n",
       "split_func  stop_words          strip_accents     binary use_idf ngram_range similarity projected_norm source_norm    count_vect_type scoring        embedding_method                           \n",
       "split_func1 no_stopword_removal accent_removal    False  False   bigrams     cosine     not_applicable not_applicable TfidfVectorizer default        no_embedding                    0.367341   \n",
       "                                                                             projection l1             l2             TfidfVectorizer not_applicable not_applicable                  0.526797   \n",
       "                                                                 no_ngram    cosine     not_applicable not_applicable TfidfVectorizer default        no_embedding                    0.385640   \n",
       "...                                                                                                                                                                                       ...   \n",
       "split_func3 stop_word_list      no_accent_removal False  False   no_ngram    projection l1             l2             TfidfVectorizer not_applicable not_applicable                  0.563652   \n",
       "                                                                 trigrams    cosine     not_applicable not_applicable TfidfVectorizer default        no_embedding                    0.518518   \n",
       "                                                                             projection l1             l2             TfidfVectorizer not_applicable not_applicable                  0.596413   \n",
       "\n",
       "                                                                                                                                                                       ...  \\\n",
       "split_func  stop_words          strip_accents     binary use_idf ngram_range similarity projected_norm source_norm    count_vect_type scoring        embedding_method  ...   \n",
       "split_func1 no_stopword_removal accent_removal    False  False   bigrams     cosine     not_applicable not_applicable TfidfVectorizer default        no_embedding      ...   \n",
       "                                                                             projection l1             l2             TfidfVectorizer not_applicable not_applicable    ...   \n",
       "                                                                 no_ngram    cosine     not_applicable not_applicable TfidfVectorizer default        no_embedding      ...   \n",
       "...                                                                                                                                                                    ...   \n",
       "split_func3 stop_word_list      no_accent_removal False  False   no_ngram    projection l1             l2             TfidfVectorizer not_applicable not_applicable    ...   \n",
       "                                                                 trigrams    cosine     not_applicable not_applicable TfidfVectorizer default        no_embedding      ...   \n",
       "                                                                             projection l1             l2             TfidfVectorizer not_applicable not_applicable    ...   \n",
       "\n",
       "                                                                                                                                                                       split2_test_accuracy  \\\n",
       "split_func  stop_words          strip_accents     binary use_idf ngram_range similarity projected_norm source_norm    count_vect_type scoring        embedding_method                         \n",
       "split_func1 no_stopword_removal accent_removal    False  False   bigrams     cosine     not_applicable not_applicable TfidfVectorizer default        no_embedding                      0.12   \n",
       "                                                                             projection l1             l2             TfidfVectorizer not_applicable not_applicable                    0.18   \n",
       "                                                                 no_ngram    cosine     not_applicable not_applicable TfidfVectorizer default        no_embedding                      0.12   \n",
       "...                                                                                                                                                                                     ...   \n",
       "split_func3 stop_word_list      no_accent_removal False  False   no_ngram    projection l1             l2             TfidfVectorizer not_applicable not_applicable                    0.16   \n",
       "                                                                 trigrams    cosine     not_applicable not_applicable TfidfVectorizer default        no_embedding                      0.20   \n",
       "                                                                             projection l1             l2             TfidfVectorizer not_applicable not_applicable                    0.24   \n",
       "\n",
       "                                                                                                                                                                       split3_test_accuracy  \\\n",
       "split_func  stop_words          strip_accents     binary use_idf ngram_range similarity projected_norm source_norm    count_vect_type scoring        embedding_method                         \n",
       "split_func1 no_stopword_removal accent_removal    False  False   bigrams     cosine     not_applicable not_applicable TfidfVectorizer default        no_embedding                      0.16   \n",
       "                                                                             projection l1             l2             TfidfVectorizer not_applicable not_applicable                    0.16   \n",
       "                                                                 no_ngram    cosine     not_applicable not_applicable TfidfVectorizer default        no_embedding                      0.16   \n",
       "...                                                                                                                                                                                     ...   \n",
       "split_func3 stop_word_list      no_accent_removal False  False   no_ngram    projection l1             l2             TfidfVectorizer not_applicable not_applicable                    0.18   \n",
       "                                                                 trigrams    cosine     not_applicable not_applicable TfidfVectorizer default        no_embedding                      0.20   \n",
       "                                                                             projection l1             l2             TfidfVectorizer not_applicable not_applicable                    0.20   \n",
       "\n",
       "                                                                                                                                                                       split4_test_accuracy  \\\n",
       "split_func  stop_words          strip_accents     binary use_idf ngram_range similarity projected_norm source_norm    count_vect_type scoring        embedding_method                         \n",
       "split_func1 no_stopword_removal accent_removal    False  False   bigrams     cosine     not_applicable not_applicable TfidfVectorizer default        no_embedding                      0.14   \n",
       "                                                                             projection l1             l2             TfidfVectorizer not_applicable not_applicable                    0.20   \n",
       "                                                                 no_ngram    cosine     not_applicable not_applicable TfidfVectorizer default        no_embedding                      0.12   \n",
       "...                                                                                                                                                                                     ...   \n",
       "split_func3 stop_word_list      no_accent_removal False  False   no_ngram    projection l1             l2             TfidfVectorizer not_applicable not_applicable                    0.24   \n",
       "                                                                 trigrams    cosine     not_applicable not_applicable TfidfVectorizer default        no_embedding                      0.22   \n",
       "                                                                             projection l1             l2             TfidfVectorizer not_applicable not_applicable                    0.26   \n",
       "\n",
       "                                                                                                                                                                       split5_test_accuracy  \\\n",
       "split_func  stop_words          strip_accents     binary use_idf ngram_range similarity projected_norm source_norm    count_vect_type scoring        embedding_method                         \n",
       "split_func1 no_stopword_removal accent_removal    False  False   bigrams     cosine     not_applicable not_applicable TfidfVectorizer default        no_embedding                      0.18   \n",
       "                                                                             projection l1             l2             TfidfVectorizer not_applicable not_applicable                    0.26   \n",
       "                                                                 no_ngram    cosine     not_applicable not_applicable TfidfVectorizer default        no_embedding                      0.20   \n",
       "...                                                                                                                                                                                     ...   \n",
       "split_func3 stop_word_list      no_accent_removal False  False   no_ngram    projection l1             l2             TfidfVectorizer not_applicable not_applicable                    0.26   \n",
       "                                                                 trigrams    cosine     not_applicable not_applicable TfidfVectorizer default        no_embedding                      0.20   \n",
       "                                                                             projection l1             l2             TfidfVectorizer not_applicable not_applicable                    0.28   \n",
       "\n",
       "                                                                                                                                                                       split6_test_accuracy  \\\n",
       "split_func  stop_words          strip_accents     binary use_idf ngram_range similarity projected_norm source_norm    count_vect_type scoring        embedding_method                         \n",
       "split_func1 no_stopword_removal accent_removal    False  False   bigrams     cosine     not_applicable not_applicable TfidfVectorizer default        no_embedding                      0.12   \n",
       "                                                                             projection l1             l2             TfidfVectorizer not_applicable not_applicable                    0.22   \n",
       "                                                                 no_ngram    cosine     not_applicable not_applicable TfidfVectorizer default        no_embedding                      0.12   \n",
       "...                                                                                                                                                                                     ...   \n",
       "split_func3 stop_word_list      no_accent_removal False  False   no_ngram    projection l1             l2             TfidfVectorizer not_applicable not_applicable                    0.22   \n",
       "                                                                 trigrams    cosine     not_applicable not_applicable TfidfVectorizer default        no_embedding                      0.14   \n",
       "                                                                             projection l1             l2             TfidfVectorizer not_applicable not_applicable                    0.24   \n",
       "\n",
       "                                                                                                                                                                       split7_test_accuracy  \\\n",
       "split_func  stop_words          strip_accents     binary use_idf ngram_range similarity projected_norm source_norm    count_vect_type scoring        embedding_method                         \n",
       "split_func1 no_stopword_removal accent_removal    False  False   bigrams     cosine     not_applicable not_applicable TfidfVectorizer default        no_embedding                      0.14   \n",
       "                                                                             projection l1             l2             TfidfVectorizer not_applicable not_applicable                    0.18   \n",
       "                                                                 no_ngram    cosine     not_applicable not_applicable TfidfVectorizer default        no_embedding                      0.14   \n",
       "...                                                                                                                                                                                     ...   \n",
       "split_func3 stop_word_list      no_accent_removal False  False   no_ngram    projection l1             l2             TfidfVectorizer not_applicable not_applicable                    0.18   \n",
       "                                                                 trigrams    cosine     not_applicable not_applicable TfidfVectorizer default        no_embedding                      0.14   \n",
       "                                                                             projection l1             l2             TfidfVectorizer not_applicable not_applicable                    0.18   \n",
       "\n",
       "                                                                                                                                                                       mean_test_accuracy  \\\n",
       "split_func  stop_words          strip_accents     binary use_idf ngram_range similarity projected_norm source_norm    count_vect_type scoring        embedding_method                       \n",
       "split_func1 no_stopword_removal accent_removal    False  False   bigrams     cosine     not_applicable not_applicable TfidfVectorizer default        no_embedding                  0.1450   \n",
       "                                                                             projection l1             l2             TfidfVectorizer not_applicable not_applicable                0.2075   \n",
       "                                                                 no_ngram    cosine     not_applicable not_applicable TfidfVectorizer default        no_embedding                  0.1450   \n",
       "...                                                                                                                                                                                   ...   \n",
       "split_func3 stop_word_list      no_accent_removal False  False   no_ngram    projection l1             l2             TfidfVectorizer not_applicable not_applicable                0.2075   \n",
       "                                                                 trigrams    cosine     not_applicable not_applicable TfidfVectorizer default        no_embedding                  0.1900   \n",
       "                                                                             projection l1             l2             TfidfVectorizer not_applicable not_applicable                0.2350   \n",
       "\n",
       "                                                                                                                                                                       std_test_accuracy  \\\n",
       "split_func  stop_words          strip_accents     binary use_idf ngram_range similarity projected_norm source_norm    count_vect_type scoring        embedding_method                      \n",
       "split_func1 no_stopword_removal accent_removal    False  False   bigrams     cosine     not_applicable not_applicable TfidfVectorizer default        no_embedding               0.019365   \n",
       "                                                                             projection l1             l2             TfidfVectorizer not_applicable not_applicable             0.031524   \n",
       "                                                                 no_ngram    cosine     not_applicable not_applicable TfidfVectorizer default        no_embedding               0.025981   \n",
       "...                                                                                                                                                                                  ...   \n",
       "split_func3 stop_word_list      no_accent_removal False  False   no_ngram    projection l1             l2             TfidfVectorizer not_applicable not_applicable             0.031524   \n",
       "                                                                 trigrams    cosine     not_applicable not_applicable TfidfVectorizer default        no_embedding               0.038730   \n",
       "                                                                             projection l1             l2             TfidfVectorizer not_applicable not_applicable             0.029580   \n",
       "\n",
       "                                                                                                                                                                       rank_test_accuracy  \\\n",
       "split_func  stop_words          strip_accents     binary use_idf ngram_range similarity projected_norm source_norm    count_vect_type scoring        embedding_method                       \n",
       "split_func1 no_stopword_removal accent_removal    False  False   bigrams     cosine     not_applicable not_applicable TfidfVectorizer default        no_embedding                      43   \n",
       "                                                                             projection l1             l2             TfidfVectorizer not_applicable not_applicable                    16   \n",
       "                                                                 no_ngram    cosine     not_applicable not_applicable TfidfVectorizer default        no_embedding                      43   \n",
       "...                                                                                                                                                                                   ...   \n",
       "split_func3 stop_word_list      no_accent_removal False  False   no_ngram    projection l1             l2             TfidfVectorizer not_applicable not_applicable                    16   \n",
       "                                                                 trigrams    cosine     not_applicable not_applicable TfidfVectorizer default        no_embedding                      27   \n",
       "                                                                             projection l1             l2             TfidfVectorizer not_applicable not_applicable                     1   \n",
       "\n",
       "                                                                                                                                                                       run  \n",
       "split_func  stop_words          strip_accents     binary use_idf ngram_range similarity projected_norm source_norm    count_vect_type scoring        embedding_method       \n",
       "split_func1 no_stopword_removal accent_removal    False  False   bigrams     cosine     not_applicable not_applicable TfidfVectorizer default        no_embedding      1.0  \n",
       "                                                                             projection l1             l2             TfidfVectorizer not_applicable not_applicable    1.0  \n",
       "                                                                 no_ngram    cosine     not_applicable not_applicable TfidfVectorizer default        no_embedding      1.0  \n",
       "...                                                                                                                                                                    ...  \n",
       "split_func3 stop_word_list      no_accent_removal False  False   no_ngram    projection l1             l2             TfidfVectorizer not_applicable not_applicable    1.0  \n",
       "                                                                 trigrams    cosine     not_applicable not_applicable TfidfVectorizer default        no_embedding      1.0  \n",
       "                                                                             projection l1             l2             TfidfVectorizer not_applicable not_applicable    1.0  \n",
       "\n",
       "[174 rows x 27 columns]"
      ]
     },
     "execution_count": 48,
     "metadata": {},
     "output_type": "execute_result"
    }
   ],
   "source": [
    "parms = ['split_func',\n",
    "         'stop_words',\n",
    "         'strip_accents',\n",
    "         'binary',\n",
    "         'use_idf',\n",
    "         'ngram_range',\n",
    "         'similarity',\n",
    "         'projected_norm',\n",
    "         'source_norm',\n",
    "         'count_vect_type', \n",
    "         'scoring', \n",
    "         'embedding_method',\n",
    "        ]\n",
    "result_df.reset_index().set_index(parms).drop('index', axis=1).sort_index()"
   ]
  },
  {
   "cell_type": "code",
   "execution_count": 49,
   "metadata": {},
   "outputs": [],
   "source": [
    "result_df.to_csv(Path('.') / 'model_tuning_results.csv')"
   ]
  },
  {
   "cell_type": "code",
   "execution_count": 50,
   "metadata": {},
   "outputs": [],
   "source": [
    "result_df = pd.read_csv(Path('.') / 'model_tuning_results.csv')"
   ]
  },
  {
   "cell_type": "markdown",
   "metadata": {},
   "source": [
    "#### Sélection des fonctions de preprocessing"
   ]
  },
  {
   "cell_type": "code",
   "execution_count": 51,
   "metadata": {},
   "outputs": [
    {
     "data": {
      "image/png": "[encoded data removed]",
      "text/plain": [
       "<Figure size 576x720 with 2 Axes>"
      ]
     },
     "metadata": {
      "needs_background": "light"
     },
     "output_type": "display_data"
    }
   ],
   "source": [
    "fig, axs = plt.subplots(nrows= 2, figsize=(8,10), sharex=True)\n",
    "\n",
    "feats = ['mean_test_similarity', 'mean_test_accuracy']\n",
    "\n",
    "parms = {'data': result_df.loc[result_df['run'] == 1],\n",
    "         'x': 'stop_words',\n",
    "         'hue': 'strip_accents',\n",
    "        }\n",
    "\n",
    "for i, feature in enumerate(feats):\n",
    "    swarm = sns.swarmplot(**parms,     \n",
    "                          y=feature,\n",
    "                          dodge=True,\n",
    "        #                   color='blue',\n",
    "                          ax=axs[i],\n",
    "                         )\n",
    "\n",
    "    sns.boxplot(**parms,\n",
    "                y=feature,\n",
    "                ax=axs[i],\n",
    "                color='white',\n",
    "                width=.6,\n",
    "                )\n",
    "\n",
    "    axs[i].set_ylim(0,)\n",
    "    axs[i].yaxis.set_major_formatter(mtick.PercentFormatter(xmax=1.))\n",
    "    axs[i].get_legend().remove()\n",
    "    axs[i].set_xlabel('')\n",
    "\n",
    "axs[1].set_xlabel('Gestion des stopwords', fontsize=12)\n",
    "axs[0].set_ylabel('Similarité moyenne', fontsize=12)\n",
    "axs[1].set_ylabel('Accuracy moyenne', fontsize=12)\n",
    "axs[1].set_xticklabels(['Pas de retrait de stopwords', 'Retrait des stopwords'])\n",
    "\n",
    "fig.legend(handles=axs[0].get_legend_handles_labels()[0][2:],\n",
    "           labels=['Conservation des accents', 'Retrait des accents'],\n",
    "           loc='center',\n",
    "           ncol=2,\n",
    "           bbox_to_anchor=(0, 1, 1, 0.12),\n",
    "           bbox_transform=axs[0].transAxes,\n",
    "          )\n",
    "\n",
    "fig.suptitle('Comparaison des fonctions de preprocessing', fontsize=16, y=.95)\n",
    "\n",
    "fig.savefig(Path('..') / 'img' / 'tuning_prepro.png', bbox_inches='tight')"
   ]
  },
  {
   "cell_type": "markdown",
   "metadata": {},
   "source": [
    "#### Sélection de la fonction de split"
   ]
  },
  {
   "cell_type": "code",
   "execution_count": 52,
   "metadata": {},
   "outputs": [
    {
     "data": {
      "image/png": "[encoded data removed]",
      "text/plain": [
       "<Figure size 576x720 with 2 Axes>"
      ]
     },
     "metadata": {
      "needs_background": "light"
     },
     "output_type": "display_data"
    }
   ],
   "source": [
    "fig, axs = plt.subplots(nrows= 2, figsize=(8,10), sharex=True)\n",
    "\n",
    "feats = ['mean_test_similarity', 'mean_test_accuracy']\n",
    "\n",
    "parms = {'data': result_df.loc[result_df['run'] == 1],\n",
    "         'x': 'split_func',\n",
    "         'hue': None,\n",
    "        }\n",
    "\n",
    "for i, feature in enumerate(feats):\n",
    "    swarm = sns.swarmplot(**parms,     \n",
    "                          y=feature,\n",
    "                          dodge=True,\n",
    "        #                   color='blue',\n",
    "                          ax=axs[i],\n",
    "                         )\n",
    "\n",
    "    sns.boxplot(**parms,\n",
    "                y=feature,\n",
    "                ax=axs[i],\n",
    "                color='white',\n",
    "                width=.6,\n",
    "                )\n",
    "\n",
    "    axs[i].set_ylim(0,)\n",
    "    axs[i].yaxis.set_major_formatter(mtick.PercentFormatter(xmax=1.))\n",
    "#     axs[i].get_legend().remove()\n",
    "    axs[i].set_xlabel('')\n",
    "\n",
    "axs[1].set_xlabel('Fonction de découpage', fontsize=12)\n",
    "axs[0].set_ylabel('Similarité moyenne', fontsize=12)\n",
    "axs[1].set_ylabel('Accuracy moyenne', fontsize=12)\n",
    "axs[1].set_xticklabels(['Fonction 1', 'Fonction 2', 'Fonction 3'])\n",
    "\n",
    "# fig.legend(handles=axs[0].get_legend_handles_labels()[0][2:],\n",
    "#            labels=['Conservation des accents', 'Retrait des accents'],\n",
    "#            loc='center',\n",
    "#            ncol=2,\n",
    "#            bbox_to_anchor=(0, 1, 1, 0.12),\n",
    "#            bbox_transform=axs[0].transAxes,\n",
    "#           )\n",
    "\n",
    "fig.suptitle('Comparaison des fonctions de découpage', fontsize=16, y=.92)\n",
    "\n",
    "fig.savefig(Path('..') / 'img' / 'tuning_split.png', bbox_inches='tight')"
   ]
  },
  {
   "cell_type": "markdown",
   "metadata": {},
   "source": [
    "#### Comparatif des similarités"
   ]
  },
  {
   "cell_type": "code",
   "execution_count": 53,
   "metadata": {},
   "outputs": [],
   "source": [
    "result_df['simil_kind'] = result_df['similarity'] + result_df['source_norm'] + result_df['projected_norm']"
   ]
  },
  {
   "cell_type": "code",
   "execution_count": 54,
   "metadata": {},
   "outputs": [
    {
     "data": {
      "text/plain": [
       "array(['not_applicable', 'no_embedding', 'Word2Vec', 'tSVD'], dtype=object)"
      ]
     },
     "execution_count": 54,
     "metadata": {},
     "output_type": "execute_result"
    }
   ],
   "source": [
    "result_df['embedding_method'].unique()"
   ]
  },
  {
   "cell_type": "code",
   "execution_count": 90,
   "metadata": {},
   "outputs": [
    {
     "data": {
      "image/png": "[encoded data removed]",
      "text/plain": [
       "<Figure size 576x720 with 2 Axes>"
      ]
     },
     "metadata": {
      "needs_background": "light"
     },
     "output_type": "display_data"
    }
   ],
   "source": [
    "fig, axs = plt.subplots(nrows= 2, figsize=(8,10), sharex=True)\n",
    "\n",
    "feats = ['mean_test_similarity', 'mean_test_accuracy']\n",
    "\n",
    "parms = {'data': result_df.loc[(result_df['run'] == 2) & \n",
    "                               (result_df['strip_accents'] == 'accent_removal') &\n",
    "                               (result_df['stop_words'] == 'stop_word_list') &\n",
    "                               (result_df['scoring'].isin({'default', 'not_applicable'})) &\n",
    "                               (result_df['embedding_method'].isin({'no_embedding', 'not_applicable'}))],\n",
    "         'x': 'simil_kind',\n",
    "         'hue': None,\n",
    "        }\n",
    "\n",
    "patch_list = [\n",
    "              mpatch.Rectangle((-1, 0), 2.5, 1, color='green', alpha=.2, edgecolor=None),\n",
    "              mpatch.Rectangle((1.5, 0), 5, 1, color='blue', alpha=.2, edgecolor=None),\n",
    "              mpatch.Rectangle((6.5, 0), 5, 1, color='orange', alpha=.2, edgecolor=None),\n",
    "              mpatch.Rectangle((11.5, 0), 5, 1, color='red', alpha=.2, edgecolor=None),    \n",
    "              mpatch.Rectangle((16.5, 0), 2, 1, color='purple', alpha=.2, edgecolor=None),    \n",
    "              mpatch.Rectangle((-1, 0), 2.5, 1, color='green', alpha=.2, edgecolor=None),\n",
    "              mpatch.Rectangle((1.5, 0), 5, 1, color='blue', alpha=.2, edgecolor=None),\n",
    "              mpatch.Rectangle((6.5, 0), 5, 1, color='orange', alpha=.2, edgecolor=None),\n",
    "              mpatch.Rectangle((11.5, 0), 5, 1, color='red', alpha=.2, edgecolor=None),    \n",
    "              mpatch.Rectangle((16.5, 0), 2, 1, color='purple', alpha=.2, edgecolor=None),    \n",
    "             ]\n",
    "\n",
    "for i, feature in enumerate(feats):\n",
    "    swarm = sns.swarmplot(**parms,     \n",
    "                          y=feature,\n",
    "                          dodge=True,\n",
    "        #                   color='blue',\n",
    "                          ax=axs[i],\n",
    "                         )\n",
    "\n",
    "    axs[i].yaxis.set_major_formatter(mtick.PercentFormatter(xmax=1.))\n",
    "    axs[i].set_xlabel('')\n",
    "    for j in range(len(patch_list) // 2):\n",
    "        axs[i].add_patch(patch_list[i * len(patch_list) // 2 + j])\n",
    "\n",
    "axs[1].set_xlabel('Identification du meilleur candidat', fontsize=12)\n",
    "axs[0].set_ylabel('Similarité moyenne', fontsize=12)\n",
    "axs[1].set_ylabel('Accuracy moyenne', fontsize=12)\n",
    "labels = ['Proj. L1/L1',\n",
    "          'Proj. L2/L2',\n",
    "          'Proj. L2/L1',\n",
    "          'Proj. L3/L2',\n",
    "          'Proj. L4/L3',\n",
    "          'Proj. L5/L4',\n",
    "          'Proj. L6/L5',\n",
    "          'Proj. L3/L1',\n",
    "          'Proj. L4/L2',\n",
    "          'Proj. L5/L3',\n",
    "          'Proj. L6/L4',\n",
    "          'Proj. L7/L5',\n",
    "          'Proj. L4/L1',\n",
    "          'Proj. L5/L2',\n",
    "          'Proj. L6/L3',\n",
    "          'Proj. L7/L2',\n",
    "          'Proj. L8/L3', \n",
    "          'Cosinus']\n",
    "plt.setp( axs[1].xaxis.get_majorticklabels(), rotation=70 )\n",
    "axs[1].set_xticklabels(labels)\n",
    "fig.legend(handles=patch_list[len(patch_list) // 2:],\n",
    "           labels=['Proj. delta=0', 'Proj. delta=1', 'Proj. delta=2', 'Proj. delta=3', 'Cosinus'],\n",
    "           loc='center',\n",
    "           ncol=5,\n",
    "           bbox_to_anchor=(0, 1, 1, 0.12),\n",
    "           bbox_transform=axs[0].transAxes,\n",
    "          )\n",
    "\n",
    "fig.suptitle(\"Comparaison des méthodes d'identification du meilleur candidat\", fontsize=16, y=.945)\n",
    "\n",
    "fig.savefig(Path('..') / 'img' / 'tuning_similarite.png', bbox_inches='tight')"
   ]
  },
  {
   "cell_type": "code",
   "execution_count": null,
   "metadata": {},
   "outputs": [],
   "source": []
  }
 ],
 "metadata": {
  "kernelspec": {
   "display_name": "Python 3",
   "language": "python",
   "name": "python3"
  },
  "language_info": {
   "codemirror_mode": {
    "name": "ipython",
    "version": 3
   },
   "file_extension": ".py",
   "mimetype": "text/x-python",
   "name": "python",
   "nbconvert_exporter": "python",
   "pygments_lexer": "ipython3",
   "version": "3.8.1"
  }
 },
 "nbformat": 4,
 "nbformat_minor": 4
}
