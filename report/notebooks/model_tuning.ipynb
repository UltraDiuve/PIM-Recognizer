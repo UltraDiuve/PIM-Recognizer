{
 "cells": [
  {
   "cell_type": "markdown",
   "metadata": {},
   "source": [
    "# Tuning du modèle\n",
    "\n",
    "L'objet de ce notebook est d'illustrer les différentes étapes de tuning du modèle.\n",
    "\n",
    "\n",
    "## Préambule\n",
    "\n",
    "### Imports"
   ]
  },
  {
   "cell_type": "code",
   "execution_count": 1,
   "metadata": {},
   "outputs": [],
   "source": [
    "# setting up sys.path for relative imports\n",
    "from pathlib import Path\n",
    "import sys\n",
    "project_root = str(Path(sys.path[0]).parents[1].absolute())\n",
    "if project_root not in sys.path:\n",
    "    sys.path.append(project_root)"
   ]
  },
  {
   "cell_type": "code",
   "execution_count": 2,
   "metadata": {},
   "outputs": [],
   "source": [
    "# imports and customization of diplay\n",
    "# import os\n",
    "import re\n",
    "from functools import partial\n",
    "from itertools import product\n",
    "import numpy as np\n",
    "import pandas as pd\n",
    "pd.options.display.min_rows = 6\n",
    "pd.options.display.width=108\n",
    "# from sklearn.feature_extraction.text import CountVectorizer\n",
    "from sklearn.model_selection import train_test_split\n",
    "# from sklearn.model_selection import cross_val_score, cross_validate\n",
    "from sklearn.model_selection import GridSearchCV, RandomizedSearchCV\n",
    "from sklearn.pipeline import Pipeline\n",
    "from sklearn.preprocessing import FunctionTransformer\n",
    "from matplotlib import pyplot as plt\n",
    "import matplotlib.patches as mpatch\n",
    "import matplotlib.ticker as mtick\n",
    "import seaborn as sns\n",
    "\n",
    "from src.pimest import ContentGetter\n",
    "from src.pimest import PathGetter\n",
    "from src.pimest import PDFContentParser\n",
    "from src.pimest import BlockSplitter\n",
    "from src.pimest import SimilaritySelector\n",
    "from src.pimest import custom_accuracy\n",
    "from src.pimest import text_sim_score\n",
    "from src.pimest import text_similarity\n",
    "# from src.pimest import build_text_processor"
   ]
  },
  {
   "cell_type": "code",
   "execution_count": 3,
   "metadata": {},
   "outputs": [],
   "source": [
    "# monkeypatch _repr_latex_ for better inclusion of dataframes output in report\n",
    "def _repr_latex_(self, size='scriptsize',):\n",
    "    return(f\"\\\\resizebox{{\\\\linewidth}}{{!}}{{\\\\begin{{{size}}}\\\\centering{{{self.to_latex()}}}\\\\end{{{size}}}}}\")\n",
    "pd.DataFrame._repr_latex_ = _repr_latex_"
   ]
  },
  {
   "cell_type": "markdown",
   "metadata": {},
   "source": [
    "### Acquisition des données\n",
    "\n",
    "On récupère les données manuellement étiquetées et on les intègre dans un dataframe"
   ]
  },
  {
   "cell_type": "code",
   "execution_count": 5,
   "metadata": {},
   "outputs": [
    {
     "name": "stdout",
     "output_type": "stream",
     "text": [
      "[Pipeline] ........ (step 1 of 3) Processing PathGetter, total=   0.1s\n",
      "[Pipeline] ..... (step 2 of 3) Processing ContentGetter, total=   0.1s\n",
      "Launching 8 processes.\n",
      "[Pipeline] ..... (step 3 of 3) Processing ContentParser, total=  35.9s\n"
     ]
    },
    {
     "data": {
      "text/html": [
       "<div>\n",
       "<style scoped>\n",
       "    .dataframe tbody tr th:only-of-type {\n",
       "        vertical-align: middle;\n",
       "    }\n",
       "\n",
       "    .dataframe tbody tr th {\n",
       "        vertical-align: top;\n",
       "    }\n",
       "\n",
       "    .dataframe thead th {\n",
       "        text-align: right;\n",
       "    }\n",
       "</style>\n",
       "<table border=\"1\" class=\"dataframe\">\n",
       "  <thead>\n",
       "    <tr style=\"text-align: right;\">\n",
       "      <th></th>\n",
       "      <th>designation</th>\n",
       "      <th>ingredients</th>\n",
       "      <th>path</th>\n",
       "      <th>content</th>\n",
       "      <th>text</th>\n",
       "    </tr>\n",
       "    <tr>\n",
       "      <th>uid</th>\n",
       "      <th></th>\n",
       "      <th></th>\n",
       "      <th></th>\n",
       "      <th></th>\n",
       "      <th></th>\n",
       "    </tr>\n",
       "  </thead>\n",
       "  <tbody>\n",
       "    <tr>\n",
       "      <th>a96191ad-ff50-4182-b4d1-29f1220d92a1</th>\n",
       "      <td>Café chicoré soluble en sachet 500 g SAGY</td>\n",
       "      <td>Mélange soluble composé de 60% de pur café sol...</td>\n",
       "      <td>../../ground_truth/a96191ad-ff50-4182-b4d1-29f...</td>\n",
       "      <td>b'%PDF-1.5\\r\\n%\\xb5\\xb5\\xb5\\xb5\\r\\n1 0 obj\\r\\n...</td>\n",
       "      <td>1 326 kJ / 315 kcal\\n\\n0,30 g\\n\\n&lt; 0,20 g\\n\\n5...</td>\n",
       "    </tr>\n",
       "    <tr>\n",
       "      <th>9fa94fea-6315-4439-b976-0730d37522c9</th>\n",
       "      <td>Chapelure Batter Mix en sac de 4,2 kg GRIFFITH...</td>\n",
       "      <td></td>\n",
       "      <td>../../ground_truth/9fa94fea-6315-4439-b976-073...</td>\n",
       "      <td>b'%PDF-1.5\\r\\n%\\xb5\\xb5\\xb5\\xb5\\r\\n1 0 obj\\r\\n...</td>\n",
       "      <td>\\n\\n \\n\\nSPECIFICATION PRODUIT \\n\\n \\n\\nCODE ...</td>\n",
       "    </tr>\n",
       "    <tr>\n",
       "      <th>b29b153c-7244-4bdd-8d36-b5292dcd474b</th>\n",
       "      <td>Compote de pomme allégée en boîte 5/1 EPISAVEURS</td>\n",
       "      <td></td>\n",
       "      <td>../../ground_truth/b29b153c-7244-4bdd-8d36-b52...</td>\n",
       "      <td>b'%PDF-1.4\\r\\n%\\xe2\\xe3\\xcf\\xd3\\r\\n1 0 obj\\r\\n...</td>\n",
       "      <td></td>\n",
       "    </tr>\n",
       "  </tbody>\n",
       "</table>\n",
       "</div>"
      ],
      "text/latex": [
       "\\resizebox{\\linewidth}{!}{\\begin{scriptsize}\\centering{\\begin{tabular}{llllll}\n",
       "\\toprule\n",
       "{} &                                        designation &                                        ingredients &                                               path &                                            content &                                               text \\\\\n",
       "uid                                  &                                                    &                                                    &                                                    &                                                    &                                                    \\\\\n",
       "\\midrule\n",
       "a96191ad-ff50-4182-b4d1-29f1220d92a1 &          Café chicoré soluble en sachet 500 g SAGY &  Mélange soluble composé de 60\\% de pur café sol... &  ../../ground\\_truth/a96191ad-ff50-4182-b4d1-29f... &  b'\\%PDF-1.5\\textbackslash r\\textbackslash n\\%\\textbackslash xb5\\textbackslash xb5\\textbackslash xb5\\textbackslash xb5\\textbackslash r\\textbackslash n1 0 obj\\textbackslash r\\textbackslash n... &  1 326 kJ / 315 kcal\\textbackslash n\\textbackslash n0,30 g\\textbackslash n\\textbackslash n< 0,20 g\\textbackslash n\\textbackslash n5... \\\\\n",
       "9fa94fea-6315-4439-b976-0730d37522c9 &  Chapelure Batter Mix en sac de 4,2 kg GRIFFITH... &                                                    &  ../../ground\\_truth/9fa94fea-6315-4439-b976-073... &  b'\\%PDF-1.5\\textbackslash r\\textbackslash n\\%\\textbackslash xb5\\textbackslash xb5\\textbackslash xb5\\textbackslash xb5\\textbackslash r\\textbackslash n1 0 obj\\textbackslash r\\textbackslash n... &   \\textbackslash n\\textbackslash n \\textbackslash n\\textbackslash nSPECIFICATION PRODUIT \\textbackslash n\\textbackslash n \\textbackslash n\\textbackslash nCODE ... \\\\\n",
       "b29b153c-7244-4bdd-8d36-b5292dcd474b &   Compote de pomme allégée en boîte 5/1 EPISAVEURS &                                                    &  ../../ground\\_truth/b29b153c-7244-4bdd-8d36-b52... &  b'\\%PDF-1.4\\textbackslash r\\textbackslash n\\%\\textbackslash xe2\\textbackslash xe3\\textbackslash xcf\\textbackslash xd3\\textbackslash r\\textbackslash n1 0 obj\\textbackslash r\\textbackslash n... &                                                  \f",
       " \\\\\n",
       "\\bottomrule\n",
       "\\end{tabular}\n",
       "}\\end{scriptsize}}"
      ],
      "text/plain": [
       "                                                                            designation  \\\n",
       "uid                                                                                       \n",
       "a96191ad-ff50-4182-b4d1-29f1220d92a1          Café chicoré soluble en sachet 500 g SAGY   \n",
       "9fa94fea-6315-4439-b976-0730d37522c9  Chapelure Batter Mix en sac de 4,2 kg GRIFFITH...   \n",
       "b29b153c-7244-4bdd-8d36-b5292dcd474b   Compote de pomme allégée en boîte 5/1 EPISAVEURS   \n",
       "\n",
       "                                                                            ingredients  \\\n",
       "uid                                                                                       \n",
       "a96191ad-ff50-4182-b4d1-29f1220d92a1  Mélange soluble composé de 60% de pur café sol...   \n",
       "9fa94fea-6315-4439-b976-0730d37522c9                                                      \n",
       "b29b153c-7244-4bdd-8d36-b5292dcd474b                                                      \n",
       "\n",
       "                                                                                   path  \\\n",
       "uid                                                                                       \n",
       "a96191ad-ff50-4182-b4d1-29f1220d92a1  ../../ground_truth/a96191ad-ff50-4182-b4d1-29f...   \n",
       "9fa94fea-6315-4439-b976-0730d37522c9  ../../ground_truth/9fa94fea-6315-4439-b976-073...   \n",
       "b29b153c-7244-4bdd-8d36-b5292dcd474b  ../../ground_truth/b29b153c-7244-4bdd-8d36-b52...   \n",
       "\n",
       "                                                                                content  \\\n",
       "uid                                                                                       \n",
       "a96191ad-ff50-4182-b4d1-29f1220d92a1  b'%PDF-1.5\\r\\n%\\xb5\\xb5\\xb5\\xb5\\r\\n1 0 obj\\r\\n...   \n",
       "9fa94fea-6315-4439-b976-0730d37522c9  b'%PDF-1.5\\r\\n%\\xb5\\xb5\\xb5\\xb5\\r\\n1 0 obj\\r\\n...   \n",
       "b29b153c-7244-4bdd-8d36-b5292dcd474b  b'%PDF-1.4\\r\\n%\\xe2\\xe3\\xcf\\xd3\\r\\n1 0 obj\\r\\n...   \n",
       "\n",
       "                                                                                   text  \n",
       "uid                                                                                      \n",
       "a96191ad-ff50-4182-b4d1-29f1220d92a1  1 326 kJ / 315 kcal\\n\\n0,30 g\\n\\n< 0,20 g\\n\\n5...  \n",
       "9fa94fea-6315-4439-b976-0730d37522c9   \\n\\n \\n\\nSPECIFICATION PRODUIT \\n\\n \\n\\nCODE ...  \n",
       "b29b153c-7244-4bdd-8d36-b5292dcd474b                                                  \n",
       "  "
      ]
     },
     "execution_count": 5,
     "metadata": {},
     "output_type": "execute_result"
    }
   ],
   "source": [
    "ground_truth_df = pd.read_csv(Path('..') / '..' / 'ground_truth' / 'manually_labelled_ground_truth.csv',\n",
    "                              sep=';',\n",
    "                              encoding='latin-1',\n",
    "                              index_col='uid')\n",
    "ground_truth_uids = list(ground_truth_df.index)\n",
    "\n",
    "acqui_pipe = Pipeline([('PathGetter', PathGetter(ground_truth_uids=ground_truth_uids,\n",
    "                                                  train_set_path=Path('..') / '..' / 'ground_truth',\n",
    "                                                  ground_truth_path=Path('..') / '..' / 'ground_truth',\n",
    "                                                  )),\n",
    "                        ('ContentGetter', ContentGetter(missing_file='to_nan')),\n",
    "                        ('ContentParser', PDFContentParser(none_content='to_empty')),\n",
    "                       ],\n",
    "                       verbose=True)\n",
    "\n",
    "texts_df = acqui_pipe.fit_transform(ground_truth_df)\n",
    "texts_df['ingredients'] = texts_df['ingredients'].fillna('')\n",
    "texts_df.sample(3)"
   ]
  },
  {
   "cell_type": "markdown",
   "metadata": {},
   "source": [
    "### Train / Test split\n",
    "\n",
    "On va appliquer une grid search pour déterminer les meilleurs paramètres de notre modèle. \n",
    "Pour ne pas surestimer la performance du modèle, il est nécessaire de bien séparer le jeu de test du jeu d'entraînement, y compris pour la grid search !"
   ]
  },
  {
   "cell_type": "code",
   "execution_count": 6,
   "metadata": {},
   "outputs": [],
   "source": [
    "train, test = train_test_split(texts_df, test_size=100, random_state=42)"
   ]
  },
  {
   "cell_type": "markdown",
   "metadata": {},
   "source": [
    "Dans toute la suite, on utilisera le jeu d'entraînement pour effectuer le tuning des hyperparamètres."
   ]
  },
  {
   "cell_type": "markdown",
   "metadata": {},
   "source": [
    "## Ajustement de la fonction de découpage des textes\n",
    "\n",
    "L'objectif de cette partie est d'optimiser la fonction de découpage des textes en blocs. On va tester quelques fonctions candidates, via une GridSearch.\n",
    "\n",
    "### Définition des fonctions candidates\n",
    "\n",
    "On définit les fonctions de split : "
   ]
  },
  {
   "cell_type": "code",
   "execution_count": 7,
   "metadata": {},
   "outputs": [],
   "source": [
    "# definitions of splitter funcs\n",
    "splitter_funcs = []\n",
    "def split_func1(text):\n",
    "    return(text.split('\\n\\n'))\n",
    "splitter_funcs.append(split_func1)\n",
    "def split_func2(text):\n",
    "    return(text.split('\\n'))\n",
    "splitter_funcs.append(split_func2)\n",
    "def split_func3(text):\n",
    "    regex = r'\\s*\\n\\s*\\n\\s*'\n",
    "    return(re.split(regex, text))\n",
    "splitter_funcs.append(split_func3)"
   ]
  },
  {
   "cell_type": "markdown",
   "metadata": {},
   "source": [
    "### Mise en place du pipeline\n",
    "\n",
    "On construit ensuite un pipeline de traitement du texte.\n",
    "Le SimilaritySelector prenant en entrée une pandas.Series, on définit entre le BlockSplitter (dont la méthode transform() retourne un pandas.DataFrame) et le SimilaritySelector une fonction utilitaire qui séléctionne la colonne 'blocks'."
   ]
  },
  {
   "cell_type": "code",
   "execution_count": 8,
   "metadata": {},
   "outputs": [],
   "source": [
    "def select_col(df, col_name='blocks'):\n",
    "        return(df[col_name].fillna(''))\n",
    "col_selector = FunctionTransformer(select_col)    "
   ]
  },
  {
   "cell_type": "code",
   "execution_count": 9,
   "metadata": {},
   "outputs": [],
   "source": [
    "process_pipe = Pipeline([('Splitter', BlockSplitter()),\n",
    "                         ('ColumnSelector', col_selector),\n",
    "                         ('SimilaritySelector', SimilaritySelector())\n",
    "                        ],\n",
    "                       verbose=False)"
   ]
  },
  {
   "cell_type": "markdown",
   "metadata": {},
   "source": [
    "On peut tester le fonctionnement de ce Pipeline.\n",
    "Attention, les résultats ne sont pas représentatifs, on entraîne et on prédit sur le même jeu de données !"
   ]
  },
  {
   "cell_type": "code",
   "execution_count": 10,
   "metadata": {},
   "outputs": [
    {
     "name": "stdout",
     "output_type": "stream",
     "text": [
      "Launching 8 processes.\n",
      "Launching 8 processes.\n"
     ]
    },
    {
     "data": {
      "text/plain": [
       "uid\n",
       "5cb7f05a-3b2c-440e-af0d-01843fb38cbf    INGRÉDIENTS : Sucre, Gomme base, Sirop de gluc...\n",
       "7e5ff57f-5a13-46bf-bb1c-b59b40727515                         MORCEAUX DE THON AU NATUREL \n",
       "8266604c-1ea2-47ca-a4fa-649b4147e733                                                    \n",
       "\n",
       "7528ded6-bec2-418a-b0be-5d06387b2f88    Arômes et couleurs plus ou moins prononcés sui...\n",
       "dtype: object"
      ]
     },
     "execution_count": 10,
     "metadata": {},
     "output_type": "execute_result"
    }
   ],
   "source": [
    "process_pipe.fit(train, train['ingredients'])\n",
    "process_pipe.predict(train).sample(4)"
   ]
  },
  {
   "cell_type": "markdown",
   "metadata": {},
   "source": [
    "### Helper fonction\n",
    "\n",
    "On doit faire varier dans la grid search des paramètres qui sont packés sous forme de dictionnaires avant d'être passés au SimilaritySelector.\n",
    "On construit une fonction qui permet de construire le produit cartésien qui va bien pour ces paramètres."
   ]
  },
  {
   "cell_type": "code",
   "execution_count": 11,
   "metadata": {},
   "outputs": [],
   "source": [
    "def prod_params(dict_to_prod):\n",
    "    \"\"\" \n",
    "    In : dict of dicts.\n",
    "    First level key : parameter name\n",
    "    Second level key : name of scenario with this parameter value\n",
    "    Values : parameter value\n",
    "    \n",
    "    Returns a tuple: \n",
    "        - list of labels to name scenario\n",
    "        - list of dictionaries to pass to count_vect_kwargs\n",
    "    \"\"\"\n",
    "    label_lists = [list(dict_.keys()) for dict_ in dict_to_prod.values()]\n",
    "    labels = list(map(lambda x: ', '.join(x), list(product(*label_lists))))\n",
    "    values_iter = list(product(*[list(dict_.values()) for dict_ in dict_to_prod.values()]))\n",
    "    parms_names = list(dict_to_prod.keys())\n",
    "    dict_out = [{key: val for (key, val) in zip(parms_names, values_)} for values_ in values_iter]\n",
    "    return(labels, dict_out)"
   ]
  },
  {
   "cell_type": "code",
   "execution_count": 12,
   "metadata": {},
   "outputs": [
    {
     "data": {
      "text/plain": [
       "(['no stopwords removal, no_ngram',\n",
       "  'no stopwords removal, bigrams',\n",
       "  'with stopwords removal, no_ngram',\n",
       "  'with stopwords removal, bigrams'],\n",
       " [{'stop_words': None, 'ngram_ranges': (1, 1)},\n",
       "  {'stop_words': None, 'ngram_ranges': (1, 2)},\n",
       "  {'stop_words': {'de', 'le'}, 'ngram_ranges': (1, 1)},\n",
       "  {'stop_words': {'de', 'le'}, 'ngram_ranges': (1, 2)}])"
      ]
     },
     "execution_count": 12,
     "metadata": {},
     "output_type": "execute_result"
    }
   ],
   "source": [
    "prod_params({'stop_words': {'no stopwords removal': None, 'with stopwords removal' : {'de', 'le'}},\n",
    "             'ngram_ranges': {'no_ngram': (1, 1), 'bigrams': (1, 2)}})"
   ]
  },
  {
   "cell_type": "markdown",
   "metadata": {},
   "source": [
    "### Stockage des résultats dans un dataframe\n",
    "\n",
    "Au fil des lancements des grid search, on stockera les données dans un dataframe afin de pouvoir les analyser plus simplement après coup."
   ]
  },
  {
   "cell_type": "code",
   "execution_count": 14,
   "metadata": {},
   "outputs": [],
   "source": [
    "result_df = pd.DataFrame()"
   ]
  },
  {
   "cell_type": "markdown",
   "metadata": {},
   "source": [
    "### Application de la GridSearch : tuning du text preprocessing (run 1)\n",
    "\n",
    "On applique ensuite une grid search en faisant varier les fonctions de text preprocessing : \n",
    "- fonction de split du texte des documents en blocs\n",
    "- retrait ou non de stopwords\n",
    "- prise en compte de ngrams\n",
    "- juste pour une première comparaison, choix du candidat par projection l1/l2 ou par similarité cosinus\n",
    "\n",
    "On scorera via la similarité de Levenshtein."
   ]
  },
  {
   "cell_type": "code",
   "execution_count": 15,
   "metadata": {},
   "outputs": [],
   "source": [
    "lev_scorer = partial(text_sim_score, similarity='levenshtein')"
   ]
  },
  {
   "cell_type": "code",
   "execution_count": 16,
   "metadata": {},
   "outputs": [],
   "source": [
    "stop_words = {'pas', 'le', 'en', 'pour', 'ou', 'ce', 'de', 'dans', 'du', 'and', 'un', 'sur', 'et',\n",
    "              'of', 'est', 'par', 'la', 'les', 'dont', 'au', 'des', 'que'}"
   ]
  },
  {
   "cell_type": "code",
   "execution_count": 17,
   "metadata": {},
   "outputs": [],
   "source": [
    "ngram_ranges = {'no_ngram': (1, 1), 'bigrams': (1, 2), 'trigrams': (1, 3)}"
   ]
  },
  {
   "cell_type": "code",
   "execution_count": 18,
   "metadata": {},
   "outputs": [],
   "source": [
    "kwargs_to_prod = prod_params({'stop_words': {'no stopwords removal': None, 'with stopwords removal' : stop_words},\n",
    "                              'ngram_range': ngram_ranges,\n",
    "                              'strip_accents': {'keep accents': None, 'remove accents': 'unicode'}\n",
    "                             }\n",
    "                            )"
   ]
  },
  {
   "cell_type": "code",
   "execution_count": 19,
   "metadata": {
    "scrolled": false
   },
   "outputs": [
    {
     "name": "stdout",
     "output_type": "stream",
     "text": [
      "Fitting 8 folds for each of 72 candidates, totalling 576 fits\n"
     ]
    },
    {
     "name": "stderr",
     "output_type": "stream",
     "text": [
      "[Parallel(n_jobs=-1)]: Using backend LokyBackend with 8 concurrent workers.\n",
      "[Parallel(n_jobs=-1)]: Done  34 tasks      | elapsed:   13.4s\n",
      "[Parallel(n_jobs=-1)]: Done 184 tasks      | elapsed:  1.2min\n",
      "[Parallel(n_jobs=-1)]: Done 434 tasks      | elapsed:  2.9min\n"
     ]
    },
    {
     "name": "stdout",
     "output_type": "stream",
     "text": [
      "Launching 8 processes.\n"
     ]
    },
    {
     "name": "stderr",
     "output_type": "stream",
     "text": [
      "[Parallel(n_jobs=-1)]: Done 576 out of 576 | elapsed:  3.9min finished\n"
     ]
    }
   ],
   "source": [
    "param_grid = [{'Splitter__splitter_func': splitter_funcs,\n",
    "               'SimilaritySelector__similarity': ['projection', 'cosine'],\n",
    "               'SimilaritySelector__count_vect_kwargs': kwargs_to_prod[1],\n",
    "              }\n",
    "             ]\n",
    "search = GridSearchCV(process_pipe,\n",
    "                      param_grid,\n",
    "                      cv=8, \n",
    "                      scoring= ({'similarity': lev_scorer, 'accuracy': custom_accuracy}),\n",
    "                      refit='similarity',\n",
    "                      n_jobs=-1,\n",
    "                      verbose=1,\n",
    "                     ).fit(train, train['ingredients'])"
   ]
  },
  {
   "cell_type": "code",
   "execution_count": 20,
   "metadata": {},
   "outputs": [],
   "source": [
    "labels = list(product(kwargs_to_prod[0], ['Projection l2/l1', 'Cosinus'], ['Split 1', 'Split 2', 'Split 3']))\n",
    "labels = list(map(lambda x: ', '.join(x), labels))"
   ]
  },
  {
   "cell_type": "code",
   "execution_count": 21,
   "metadata": {
    "scrolled": false
   },
   "outputs": [
    {
     "name": "stdout",
     "output_type": "stream",
     "text": [
      "no stopwords removal, no_ngram, keep accents, Projection l2/l1, Split 1 50.15% +/- 5.61%\n",
      "no stopwords removal, no_ngram, keep accents, Projection l2/l1, Split 2 38.90% +/- 4.52%\n",
      "no stopwords removal, no_ngram, keep accents, Projection l2/l1, Split 3 52.65% +/- 6.09%\n",
      "no stopwords removal, no_ngram, keep accents, Cosinus, Split 1 40.30% +/- 4.91%\n",
      "no stopwords removal, no_ngram, keep accents, Cosinus, Split 2 25.87% +/- 2.25%\n",
      "no stopwords removal, no_ngram, keep accents, Cosinus, Split 3 41.98% +/- 5.27%\n",
      "no stopwords removal, no_ngram, remove accents, Projection l2/l1, Split 1 49.47% +/- 5.77%\n",
      "no stopwords removal, no_ngram, remove accents, Projection l2/l1, Split 2 38.56% +/- 4.19%\n",
      "no stopwords removal, no_ngram, remove accents, Projection l2/l1, Split 3 52.02% +/- 6.05%\n",
      "no stopwords removal, no_ngram, remove accents, Cosinus, Split 1 40.93% +/- 5.02%\n",
      "no stopwords removal, no_ngram, remove accents, Cosinus, Split 2 26.06% +/- 2.00%\n",
      "no stopwords removal, no_ngram, remove accents, Cosinus, Split 3 42.68% +/- 5.42%\n",
      "no stopwords removal, bigrams, keep accents, Projection l2/l1, Split 1 55.47% +/- 5.22%\n",
      "no stopwords removal, bigrams, keep accents, Projection l2/l1, Split 2 43.12% +/- 2.32%\n",
      "no stopwords removal, bigrams, keep accents, Projection l2/l1, Split 3 58.38% +/- 5.06%\n",
      "no stopwords removal, bigrams, keep accents, Cosinus, Split 1 41.53% +/- 5.73%\n",
      "no stopwords removal, bigrams, keep accents, Cosinus, Split 2 26.94% +/- 2.14%\n",
      "no stopwords removal, bigrams, keep accents, Cosinus, Split 3 43.45% +/- 6.40%\n",
      "no stopwords removal, bigrams, remove accents, Projection l2/l1, Split 1 55.40% +/- 5.11%\n",
      "no stopwords removal, bigrams, remove accents, Projection l2/l1, Split 2 43.27% +/- 2.78%\n",
      "no stopwords removal, bigrams, remove accents, Projection l2/l1, Split 3 58.31% +/- 5.23%\n",
      "no stopwords removal, bigrams, remove accents, Cosinus, Split 1 41.49% +/- 5.88%\n",
      "no stopwords removal, bigrams, remove accents, Cosinus, Split 2 27.27% +/- 1.95%\n",
      "no stopwords removal, bigrams, remove accents, Cosinus, Split 3 43.70% +/- 6.48%\n",
      "no stopwords removal, trigrams, keep accents, Projection l2/l1, Split 1 56.41% +/- 5.05%\n",
      "no stopwords removal, trigrams, keep accents, Projection l2/l1, Split 2 43.75% +/- 3.06%\n",
      "no stopwords removal, trigrams, keep accents, Projection l2/l1, Split 3 59.56% +/- 5.12%\n",
      "no stopwords removal, trigrams, keep accents, Cosinus, Split 1 41.54% +/- 5.25%\n",
      "no stopwords removal, trigrams, keep accents, Cosinus, Split 2 26.95% +/- 2.41%\n",
      "no stopwords removal, trigrams, keep accents, Cosinus, Split 3 43.54% +/- 6.16%\n",
      "no stopwords removal, trigrams, remove accents, Projection l2/l1, Split 1 56.43% +/- 5.07%\n",
      "no stopwords removal, trigrams, remove accents, Projection l2/l1, Split 2 43.83% +/- 3.11%\n",
      "no stopwords removal, trigrams, remove accents, Projection l2/l1, Split 3 59.58% +/- 5.11%\n",
      "no stopwords removal, trigrams, remove accents, Cosinus, Split 1 42.08% +/- 5.14%\n",
      "no stopwords removal, trigrams, remove accents, Cosinus, Split 2 27.28% +/- 2.39%\n",
      "no stopwords removal, trigrams, remove accents, Cosinus, Split 3 44.18% +/- 6.17%\n",
      "with stopwords removal, no_ngram, keep accents, Projection l2/l1, Split 1 54.94% +/- 5.62%\n",
      "with stopwords removal, no_ngram, keep accents, Projection l2/l1, Split 2 42.12% +/- 4.32%\n",
      "with stopwords removal, no_ngram, keep accents, Projection l2/l1, Split 3 58.06% +/- 6.52%\n",
      "with stopwords removal, no_ngram, keep accents, Cosinus, Split 1 51.06% +/- 6.89%\n",
      "with stopwords removal, no_ngram, keep accents, Cosinus, Split 2 29.73% +/- 4.76%\n",
      "with stopwords removal, no_ngram, keep accents, Cosinus, Split 3 53.35% +/- 7.12%\n",
      "with stopwords removal, no_ngram, remove accents, Projection l2/l1, Split 1 54.89% +/- 5.81%\n",
      "with stopwords removal, no_ngram, remove accents, Projection l2/l1, Split 2 42.22% +/- 4.32%\n",
      "with stopwords removal, no_ngram, remove accents, Projection l2/l1, Split 3 57.99% +/- 6.66%\n",
      "with stopwords removal, no_ngram, remove accents, Cosinus, Split 1 51.40% +/- 6.72%\n",
      "with stopwords removal, no_ngram, remove accents, Cosinus, Split 2 30.44% +/- 4.69%\n",
      "with stopwords removal, no_ngram, remove accents, Cosinus, Split 3 53.69% +/- 7.13%\n",
      "with stopwords removal, bigrams, keep accents, Projection l2/l1, Split 1 57.74% +/- 5.74%\n",
      "with stopwords removal, bigrams, keep accents, Projection l2/l1, Split 2 44.54% +/- 3.57%\n",
      "with stopwords removal, bigrams, keep accents, Projection l2/l1, Split 3 61.08% +/- 5.91%\n",
      "with stopwords removal, bigrams, keep accents, Cosinus, Split 1 52.31% +/- 7.10%\n",
      "with stopwords removal, bigrams, keep accents, Cosinus, Split 2 26.86% +/- 4.47%\n",
      "with stopwords removal, bigrams, keep accents, Cosinus, Split 3 54.85% +/- 7.51%\n",
      "with stopwords removal, bigrams, remove accents, Projection l2/l1, Split 1 57.99% +/- 5.69%\n",
      "with stopwords removal, bigrams, remove accents, Projection l2/l1, Split 2 44.43% +/- 3.30%\n",
      "with stopwords removal, bigrams, remove accents, Projection l2/l1, Split 3 60.86% +/- 5.65%\n",
      "with stopwords removal, bigrams, remove accents, Cosinus, Split 1 51.79% +/- 6.83%\n",
      "with stopwords removal, bigrams, remove accents, Cosinus, Split 2 26.90% +/- 4.71%\n",
      "with stopwords removal, bigrams, remove accents, Cosinus, Split 3 54.43% +/- 7.18%\n",
      "with stopwords removal, trigrams, keep accents, Projection l2/l1, Split 1 58.76% +/- 5.47%\n",
      "with stopwords removal, trigrams, keep accents, Projection l2/l1, Split 2 45.36% +/- 3.58%\n",
      "with stopwords removal, trigrams, keep accents, Projection l2/l1, Split 3 61.94% +/- 5.59%\n",
      "with stopwords removal, trigrams, keep accents, Cosinus, Split 1 51.65% +/- 6.90%\n",
      "with stopwords removal, trigrams, keep accents, Cosinus, Split 2 25.74% +/- 4.50%\n",
      "with stopwords removal, trigrams, keep accents, Cosinus, Split 3 54.28% +/- 7.24%\n",
      "with stopwords removal, trigrams, remove accents, Projection l2/l1, Split 1 58.82% +/- 5.48%\n",
      "with stopwords removal, trigrams, remove accents, Projection l2/l1, Split 2 45.54% +/- 3.61%\n",
      "with stopwords removal, trigrams, remove accents, Projection l2/l1, Split 3 62.01% +/- 5.61%\n",
      "with stopwords removal, trigrams, remove accents, Cosinus, Split 1 51.54% +/- 6.74%\n",
      "with stopwords removal, trigrams, remove accents, Cosinus, Split 2 26.04% +/- 4.42%\n",
      "with stopwords removal, trigrams, remove accents, Cosinus, Split 3 54.26% +/- 7.21%\n"
     ]
    }
   ],
   "source": [
    "for i in range(len(search.cv_results_['rank_test_similarity'])):\n",
    "    str_result = f\"{search.cv_results_['mean_test_similarity'][i]:.2%} +/- {search.cv_results_['std_test_similarity'][i]:.2%}\"\n",
    "    print(labels[i], str_result)"
   ]
  },
  {
   "cell_type": "markdown",
   "metadata": {},
   "source": [
    "On tire de ce premier test:\n",
    "- que le modèle est bien plus performant avec le retrait des stopwords\n",
    "- que le split le plus efficace est la fonction qui applique la regex (deux retours chariots parmi des whitespaces) - split 3\n",
    "- que la prise en compte de bigrammes améliore, avec les trigrammes en plus on ne gagne rien\n",
    "- que la similarité cosinus semble sensiblement moins performante que le choix par projection (l2/l1)\n",
    "\n",
    "Remarque : la standard dev est quand même assez élevée (de l'ordre de 5-6%). Les scénarios avec peu d'écart entre leurs moyennes (2-3%) ne sont pas départageables via cette grid search."
   ]
  },
  {
   "cell_type": "markdown",
   "metadata": {},
   "source": [
    "On sauvegarde les résultat dans le dataframe qu'on analysera à la fin"
   ]
  },
  {
   "cell_type": "code",
   "execution_count": 22,
   "metadata": {},
   "outputs": [],
   "source": [
    "try:\n",
    "    result_df = result_df.loc[result_df['run'] != 1].copy()\n",
    "except:\n",
    "    pass\n",
    "result_df = pd.DataFrame(search.cv_results_)\n",
    "result_df['run'] = 1"
   ]
  },
  {
   "cell_type": "markdown",
   "metadata": {},
   "source": [
    "### Application de la Grid Search : tuning du calcul de similarité (run 2)\n",
    "\n",
    "On va maintenant déterminer, sur la base des paramètres déjà retenus, le mode de calcul de similarité le plus performant.\n",
    "Seul le calcul par projection est paramétrique (norme dans l'espace de départ vs. norme sur l'espace projeté), on fera uniquement varier ces paramètres (en plus de la comparaison avec la similarité cosinus).\n",
    "\n",
    "On comparera également la performance du modèle selon qu'on vectorise les textes via les comptes de mots, ou bien seulement via un identifiant binaire (présence ou absence du mot)."
   ]
  },
  {
   "cell_type": "code",
   "execution_count": 23,
   "metadata": {},
   "outputs": [
    {
     "name": "stdout",
     "output_type": "stream",
     "text": [
      "Fitting 8 folds for each of 36 candidates, totalling 288 fits\n"
     ]
    },
    {
     "name": "stderr",
     "output_type": "stream",
     "text": [
      "[Parallel(n_jobs=-1)]: Using backend LokyBackend with 8 concurrent workers.\n",
      "[Parallel(n_jobs=-1)]: Done  34 tasks      | elapsed:   14.9s\n",
      "[Parallel(n_jobs=-1)]: Done 184 tasks      | elapsed:  1.2min\n"
     ]
    },
    {
     "name": "stdout",
     "output_type": "stream",
     "text": [
      "Launching 8 processes.\n"
     ]
    },
    {
     "name": "stderr",
     "output_type": "stream",
     "text": [
      "[Parallel(n_jobs=-1)]: Done 288 out of 288 | elapsed:  1.8min finished\n"
     ]
    }
   ],
   "source": [
    "process_pipe.set_params(**{'Splitter__splitter_func': splitter_funcs[2],\n",
    "                           })\n",
    "\n",
    "kwargs_to_prod = prod_params({'stop_words': {'with stopwords removal' : stop_words},\n",
    "                              'ngram_range': {'bigrams': (1, 2)},\n",
    "                              'binary': {'counts': False, 'binary flag': True},\n",
    "                              'strip_accents': {'remove accents': 'unicode'}\n",
    "                             })\n",
    "\n",
    "param_grid = [{\n",
    "               'SimilaritySelector__source_norm': ['l1'],\n",
    "               'SimilaritySelector__projected_norm': ['l1'],\n",
    "               'SimilaritySelector__similarity': ['projection'],\n",
    "               'SimilaritySelector__count_vect_kwargs': kwargs_to_prod[1],\n",
    "              },\n",
    "              {\n",
    "               'SimilaritySelector__source_norm': ['l2'],\n",
    "               'SimilaritySelector__projected_norm': ['l2'],\n",
    "               'SimilaritySelector__similarity': ['projection'],\n",
    "               'SimilaritySelector__count_vect_kwargs': kwargs_to_prod[1],\n",
    "              },\n",
    "              {\n",
    "               'SimilaritySelector__source_norm': ['l2'],\n",
    "               'SimilaritySelector__projected_norm': ['l1'],\n",
    "               'SimilaritySelector__similarity': ['projection'],\n",
    "               'SimilaritySelector__count_vect_kwargs': kwargs_to_prod[1],\n",
    "              },    \n",
    "              {\n",
    "               'SimilaritySelector__similarity': ['projection'],\n",
    "               'SimilaritySelector__source_norm': ['l3'],\n",
    "               'SimilaritySelector__projected_norm': ['l2'],\n",
    "               'SimilaritySelector__count_vect_kwargs': kwargs_to_prod[1],\n",
    "              },\n",
    "              {\n",
    "               'SimilaritySelector__similarity': ['projection'],\n",
    "               'SimilaritySelector__source_norm': ['l4'],\n",
    "               'SimilaritySelector__projected_norm': ['l3'],\n",
    "               'SimilaritySelector__count_vect_kwargs': kwargs_to_prod[1],\n",
    "              },\n",
    "              {\n",
    "               'SimilaritySelector__similarity': ['projection'],\n",
    "               'SimilaritySelector__source_norm': ['l5'],\n",
    "               'SimilaritySelector__projected_norm': ['l4'],\n",
    "               'SimilaritySelector__count_vect_kwargs': kwargs_to_prod[1],\n",
    "              },\n",
    "              {\n",
    "               'SimilaritySelector__similarity': ['projection'],\n",
    "               'SimilaritySelector__source_norm': ['l6'],\n",
    "               'SimilaritySelector__projected_norm': ['l5'],\n",
    "               'SimilaritySelector__count_vect_kwargs': kwargs_to_prod[1],\n",
    "              },\n",
    "              {\n",
    "               'SimilaritySelector__similarity': ['projection'],\n",
    "               'SimilaritySelector__source_norm': ['l3'],\n",
    "               'SimilaritySelector__projected_norm': ['l1'],\n",
    "               'SimilaritySelector__count_vect_kwargs': kwargs_to_prod[1],\n",
    "              },\n",
    "              {\n",
    "               'SimilaritySelector__source_norm': ['l4'],\n",
    "               'SimilaritySelector__projected_norm': ['l2'],\n",
    "               'SimilaritySelector__similarity': ['projection'],\n",
    "               'SimilaritySelector__count_vect_kwargs': kwargs_to_prod[1],\n",
    "              },\n",
    "              {\n",
    "               'SimilaritySelector__source_norm': ['l5'],\n",
    "               'SimilaritySelector__projected_norm': ['l3'],\n",
    "               'SimilaritySelector__similarity': ['projection'],\n",
    "               'SimilaritySelector__count_vect_kwargs': kwargs_to_prod[1],\n",
    "              },\n",
    "              {\n",
    "               'SimilaritySelector__source_norm': ['l6'],\n",
    "               'SimilaritySelector__projected_norm': ['l4'],\n",
    "               'SimilaritySelector__similarity': ['projection'],\n",
    "               'SimilaritySelector__count_vect_kwargs': kwargs_to_prod[1],\n",
    "              },\n",
    "              {\n",
    "               'SimilaritySelector__source_norm': ['l7'],\n",
    "               'SimilaritySelector__projected_norm': ['l5'],\n",
    "               'SimilaritySelector__similarity': ['projection'],\n",
    "               'SimilaritySelector__count_vect_kwargs': kwargs_to_prod[1],\n",
    "              },\n",
    "              {\n",
    "               'SimilaritySelector__source_norm': ['l4'],\n",
    "               'SimilaritySelector__projected_norm': ['l1'],\n",
    "               'SimilaritySelector__similarity': ['projection'],\n",
    "               'SimilaritySelector__count_vect_kwargs': kwargs_to_prod[1],\n",
    "              },\n",
    "              {\n",
    "               'SimilaritySelector__source_norm': ['l5'],\n",
    "               'SimilaritySelector__projected_norm': ['l2'],\n",
    "               'SimilaritySelector__similarity': ['projection'],\n",
    "               'SimilaritySelector__count_vect_kwargs': kwargs_to_prod[1],\n",
    "              },\n",
    "              {\n",
    "               'SimilaritySelector__source_norm': ['l6'],\n",
    "               'SimilaritySelector__projected_norm': ['l3'],\n",
    "               'SimilaritySelector__similarity': ['projection'],\n",
    "               'SimilaritySelector__count_vect_kwargs': kwargs_to_prod[1],\n",
    "              },\n",
    "              {\n",
    "               'SimilaritySelector__source_norm': ['l7'],\n",
    "               'SimilaritySelector__projected_norm': ['l4'],\n",
    "               'SimilaritySelector__similarity': ['projection'],\n",
    "               'SimilaritySelector__count_vect_kwargs': kwargs_to_prod[1],\n",
    "              },\n",
    "              {\n",
    "               'SimilaritySelector__source_norm': ['l8'],\n",
    "               'SimilaritySelector__projected_norm': ['l5'],\n",
    "               'SimilaritySelector__similarity': ['projection'],\n",
    "               'SimilaritySelector__count_vect_kwargs': kwargs_to_prod[1],\n",
    "              },\n",
    "              {\n",
    "               'SimilaritySelector__similarity': ['cosine'],\n",
    "               'SimilaritySelector__count_vect_kwargs': kwargs_to_prod[1],\n",
    "              }\n",
    "             ]\n",
    "search = GridSearchCV(process_pipe,\n",
    "                      param_grid,\n",
    "                      cv=8, \n",
    "                      scoring= ({'similarity': lev_scorer, 'accuracy': custom_accuracy}),\n",
    "                      refit='similarity',\n",
    "                      n_jobs=-1,\n",
    "                      verbose=1,\n",
    "                     ).fit(train, train['ingredients'])"
   ]
  },
  {
   "cell_type": "code",
   "execution_count": 24,
   "metadata": {},
   "outputs": [
    {
     "name": "stdout",
     "output_type": "stream",
     "text": [
      "l1, l1, with stopwords removal, bigrams, counts, remove accents 17.87% +/- 2.52%\n",
      "l1, l1, with stopwords removal, bigrams, binary flag, remove accents 17.90% +/- 2.55%\n",
      "l2, l2, with stopwords removal, bigrams, counts, remove accents 17.87% +/- 2.52%\n",
      "l2, l2, with stopwords removal, bigrams, binary flag, remove accents 17.90% +/- 2.55%\n",
      "l2, l1, with stopwords removal, bigrams, counts, remove accents 60.86% +/- 5.65%\n",
      "l2, l1, with stopwords removal, bigrams, binary flag, remove accents 61.00% +/- 5.61%\n",
      "l3, l2, with stopwords removal, bigrams, counts, remove accents 61.55% +/- 5.25%\n",
      "l3, l2, with stopwords removal, bigrams, binary flag, remove accents 62.05% +/- 4.73%\n",
      "l4, l3, with stopwords removal, bigrams, counts, remove accents 59.61% +/- 4.00%\n",
      "l4, l3, with stopwords removal, bigrams, binary flag, remove accents 62.61% +/- 4.29%\n",
      "l5, l4, with stopwords removal, bigrams, counts, remove accents 56.23% +/- 3.40%\n",
      "l5, l4, with stopwords removal, bigrams, binary flag, remove accents 61.82% +/- 3.67%\n",
      "l6, l5, with stopwords removal, bigrams, counts, remove accents 51.58% +/- 3.78%\n",
      "l6, l5, with stopwords removal, bigrams, binary flag, remove accents 60.91% +/- 3.62%\n",
      "l3, l1, with stopwords removal, bigrams, counts, remove accents 59.33% +/- 5.34%\n",
      "l3, l1, with stopwords removal, bigrams, binary flag, remove accents 59.06% +/- 5.44%\n",
      "l4, l2, with stopwords removal, bigrams, counts, remove accents 61.11% +/- 5.30%\n",
      "l4, l2, with stopwords removal, bigrams, binary flag, remove accents 61.00% +/- 5.61%\n",
      "l5, l3, with stopwords removal, bigrams, counts, remove accents 59.28% +/- 3.60%\n",
      "l5, l3, with stopwords removal, bigrams, binary flag, remove accents 61.70% +/- 5.21%\n",
      "l6, l4, with stopwords removal, bigrams, counts, remove accents 55.73% +/- 4.26%\n",
      "l6, l4, with stopwords removal, bigrams, binary flag, remove accents 62.05% +/- 4.73%\n",
      "l7, l5, with stopwords removal, bigrams, counts, remove accents 50.18% +/- 2.42%\n",
      "l7, l5, with stopwords removal, bigrams, binary flag, remove accents 61.96% +/- 4.23%\n",
      "l4, l1, with stopwords removal, bigrams, counts, remove accents 58.42% +/- 5.53%\n",
      "l4, l1, with stopwords removal, bigrams, binary flag, remove accents 57.44% +/- 5.05%\n",
      "l5, l2, with stopwords removal, bigrams, counts, remove accents 60.29% +/- 4.59%\n",
      "l5, l2, with stopwords removal, bigrams, binary flag, remove accents 59.67% +/- 5.18%\n",
      "l6, l3, with stopwords removal, bigrams, counts, remove accents 58.12% +/- 3.67%\n",
      "l6, l3, with stopwords removal, bigrams, binary flag, remove accents 61.00% +/- 5.61%\n",
      "l7, l4, with stopwords removal, bigrams, counts, remove accents 53.31% +/- 2.96%\n",
      "l7, l4, with stopwords removal, bigrams, binary flag, remove accents 61.50% +/- 5.35%\n",
      "l8, l5, with stopwords removal, bigrams, counts, remove accents 47.87% +/- 2.99%\n",
      "l8, l5, with stopwords removal, bigrams, binary flag, remove accents 61.80% +/- 5.20%\n",
      "cosine, with stopwords removal, bigrams, counts, remove accents 54.43% +/- 7.18%\n",
      "cosine, with stopwords removal, bigrams, binary flag, remove accents 53.36% +/- 7.86%\n"
     ]
    }
   ],
   "source": [
    "labels = ['l1, l1',\n",
    "          'l2, l2', \n",
    "          'l2, l1',\n",
    "          'l3, l2',\n",
    "          'l4, l3',\n",
    "          'l5, l4',\n",
    "          'l6, l5',\n",
    "          'l3, l1',          \n",
    "          'l4, l2',\n",
    "          'l5, l3',\n",
    "          'l6, l4',  \n",
    "          'l7, l5',         \n",
    "          'l4, l1',\n",
    "          'l5, l2',\n",
    "          'l6, l3',\n",
    "          'l7, l4',  \n",
    "          'l8, l5',             \n",
    "          'cosine',\n",
    "         ]\n",
    "\n",
    "labels = list(product(labels, kwargs_to_prod[0]))\n",
    "labels = list(map(lambda x: ', '.join(x), labels))\n",
    "\n",
    "for i in range(len(search.cv_results_['rank_test_similarity'])):\n",
    "    str_result = f\"{search.cv_results_['mean_test_similarity'][i]:.2%} +/- {search.cv_results_['std_test_similarity'][i]:.2%}\"\n",
    "    print(labels[i], str_result)"
   ]
  },
  {
   "cell_type": "markdown",
   "metadata": {},
   "source": [
    "On tire de ce second test les conclusions suivantes :\n",
    "- comme lors du premier test, l'identification du meilleur candidat par similarité cosinus est moins performante que par projection\n",
    "- plusieurs configurations de paramètres permettent d'obtenir des performance similaires via la projection : \n",
    "    - l2/l1\n",
    "    - l2/l1b\n",
    "    - l3/l2\n",
    "    - l3/l2b\n",
    "    - l3/l1b\n",
    "    - l4/l2\n",
    "    - l4/l2b"
   ]
  },
  {
   "cell_type": "code",
   "execution_count": 25,
   "metadata": {},
   "outputs": [
    {
     "data": {
      "text/plain": [
       "108"
      ]
     },
     "execution_count": 25,
     "metadata": {},
     "output_type": "execute_result"
    }
   ],
   "source": [
    "result_df = result_df.loc[result_df['run'] != 2.].copy()\n",
    "result_df = pd.concat([result_df, pd.DataFrame(search.cv_results_)], axis=0, ignore_index=True)\n",
    "result_df['run'] = result_df['run'].fillna(2)\n",
    "len(result_df)"
   ]
  },
  {
   "cell_type": "markdown",
   "metadata": {},
   "source": [
    "### Application de la Grid Search : impact des mots non vus en entrainement (run 3)\n",
    "\n",
    "On va également voir si l'utilisation d'un vectorizer de type HashingVectorizer, qui permet de prendre en compte des mots non vus lors de l'entraînement a un impact sur la performance (ou son écart type, qui est très élevé...)."
   ]
  },
  {
   "cell_type": "code",
   "execution_count": 26,
   "metadata": {},
   "outputs": [
    {
     "name": "stdout",
     "output_type": "stream",
     "text": [
      "Fitting 8 folds for each of 16 candidates, totalling 128 fits\n"
     ]
    },
    {
     "name": "stderr",
     "output_type": "stream",
     "text": [
      "[Parallel(n_jobs=-1)]: Using backend LokyBackend with 8 concurrent workers.\n",
      "[Parallel(n_jobs=-1)]: Done  34 tasks      | elapsed:   13.7s\n"
     ]
    },
    {
     "name": "stdout",
     "output_type": "stream",
     "text": [
      "Launching 8 processes.\n"
     ]
    },
    {
     "name": "stderr",
     "output_type": "stream",
     "text": [
      "[Parallel(n_jobs=-1)]: Done 128 out of 128 | elapsed:   52.8s finished\n"
     ]
    }
   ],
   "source": [
    "process_pipe.set_params(**{'Splitter__splitter_func': splitter_funcs[2],\n",
    "\n",
    "                           })\n",
    "\n",
    "kwargs_to_prod = prod_params({'stop_words': {'with stopwords removal' : stop_words},\n",
    "                              'ngram_range': {'bigrams': (1, 2)},\n",
    "                              'binary': {'counts': False, 'binary flag': True},\n",
    "                             })\n",
    "\n",
    "param_grid = [{'SimilaritySelector__count_vect_kwargs': kwargs_to_prod[1],\n",
    "               'SimilaritySelector__count_vect_type': ['TfidfVectorizer', 'HashingVectorizer'],\n",
    "               'SimilaritySelector__similarity': ['projection'],\n",
    "               'SimilaritySelector__source_norm': ['l4'],\n",
    "               'SimilaritySelector__projected_norm': ['l2'],               \n",
    "              },\n",
    "              {'SimilaritySelector__count_vect_kwargs': kwargs_to_prod[1],\n",
    "               'SimilaritySelector__count_vect_type': ['TfidfVectorizer', 'HashingVectorizer'],\n",
    "               'SimilaritySelector__similarity': ['projection'],               \n",
    "               'SimilaritySelector__source_norm': ['l3'],\n",
    "               'SimilaritySelector__projected_norm': ['l2'],\n",
    "              },\n",
    "              {'SimilaritySelector__count_vect_kwargs': kwargs_to_prod[1],\n",
    "               'SimilaritySelector__count_vect_type': ['TfidfVectorizer', 'HashingVectorizer'],\n",
    "               'SimilaritySelector__similarity': ['projection'],               \n",
    "               'SimilaritySelector__source_norm': ['l2'],\n",
    "               'SimilaritySelector__projected_norm': ['l1'],\n",
    "              },\n",
    "              {'SimilaritySelector__count_vect_kwargs': kwargs_to_prod[1],\n",
    "               'SimilaritySelector__count_vect_type': ['TfidfVectorizer', 'HashingVectorizer'],\n",
    "               'SimilaritySelector__similarity': ['cosine'],               \n",
    "              },\n",
    "             ]\n",
    "search = GridSearchCV(process_pipe,\n",
    "                      param_grid,\n",
    "                      cv=8, \n",
    "                      scoring= ({'similarity': lev_scorer, 'accuracy': custom_accuracy}),\n",
    "                      refit='similarity',\n",
    "                      n_jobs=-1,\n",
    "                      verbose=1,\n",
    "                     ).fit(train, train['ingredients'])"
   ]
  },
  {
   "cell_type": "code",
   "execution_count": 27,
   "metadata": {},
   "outputs": [
    {
     "name": "stdout",
     "output_type": "stream",
     "text": [
      "l4/l2, with stopwords removal, bigrams, counts, TfidfVectorizer 61.11% +/- 5.30%\n",
      "l4/l2, with stopwords removal, bigrams, counts, HashingVectorizer 52.46% +/- 3.06%\n",
      "l4/l2, with stopwords removal, bigrams, binary flag, TfidfVectorizer 61.00% +/- 5.61%\n",
      "l4/l2, with stopwords removal, bigrams, binary flag, HashingVectorizer 54.13% +/- 4.12%\n",
      "l3/l2, with stopwords removal, bigrams, counts, TfidfVectorizer 61.55% +/- 5.25%\n",
      "l3/l2, with stopwords removal, bigrams, counts, HashingVectorizer 43.37% +/- 4.64%\n",
      "l3/l2, with stopwords removal, bigrams, binary flag, TfidfVectorizer 62.05% +/- 4.73%\n",
      "l3/l2, with stopwords removal, bigrams, binary flag, HashingVectorizer 47.26% +/- 5.17%\n",
      "l2/l1, with stopwords removal, bigrams, counts, TfidfVectorizer 60.86% +/- 5.65%\n",
      "l2/l1, with stopwords removal, bigrams, counts, HashingVectorizer 57.89% +/- 5.60%\n",
      "l2/l1, with stopwords removal, bigrams, binary flag, TfidfVectorizer 61.00% +/- 5.61%\n",
      "l2/l1, with stopwords removal, bigrams, binary flag, HashingVectorizer 58.26% +/- 5.01%\n",
      "cosine, with stopwords removal, bigrams, counts, TfidfVectorizer 54.43% +/- 7.18%\n",
      "cosine, with stopwords removal, bigrams, counts, HashingVectorizer 53.01% +/- 6.20%\n",
      "cosine, with stopwords removal, bigrams, binary flag, TfidfVectorizer 53.36% +/- 7.86%\n",
      "cosine, with stopwords removal, bigrams, binary flag, HashingVectorizer 50.56% +/- 7.20%\n"
     ]
    }
   ],
   "source": [
    "labels = [\n",
    "          'l4/l2',\n",
    "          'l3/l2',\n",
    "          'l2/l1',\n",
    "          'cosine'\n",
    "         ]\n",
    "\n",
    "labels = list(product(labels, kwargs_to_prod[0], ['TfidfVectorizer', 'HashingVectorizer']))\n",
    "labels = list(map(lambda x: ', '.join(x), labels))\n",
    "\n",
    "for i in range(len(search.cv_results_['rank_test_similarity'])):\n",
    "    str_result = f\"{search.cv_results_['mean_test_similarity'][i]:.2%} +/- {search.cv_results_['std_test_similarity'][i]:.2%}\"\n",
    "    print(labels[i], str_result)"
   ]
  },
  {
   "cell_type": "markdown",
   "metadata": {},
   "source": [
    "L'utilisation d'un HashingVectorizer à la place d'un TfidfVectorizer, pour prendre en compte les mots non vus lors de l'entrainement, n'a pas d'impact positif sur la performance du modèle.\n",
    "Au contraire, elle semble globalement diminuer de quelques points."
   ]
  },
  {
   "cell_type": "code",
   "execution_count": 28,
   "metadata": {},
   "outputs": [
    {
     "data": {
      "text/plain": [
       "124"
      ]
     },
     "execution_count": 28,
     "metadata": {},
     "output_type": "execute_result"
    }
   ],
   "source": [
    "result_df = result_df.loc[result_df['run'] != 3.].copy()\n",
    "result_df = pd.concat([result_df, pd.DataFrame(search.cv_results_)], axis=0, ignore_index=True)\n",
    "result_df['run'] = result_df['run'].fillna(3)\n",
    "len(result_df)"
   ]
  },
  {
   "cell_type": "markdown",
   "metadata": {},
   "source": [
    "### Application d'une grid search : pondération des mots  (run 4)\n",
    "\n",
    "On va en plus appliquer une pondération absolue et relative des mots, dans la recherche de similarité par cosinus.\n",
    "\n",
    "Les différentes possibilités pour le vecteur cible sont : \n",
    "- moyenne des vecteurs de textes des listes d'ingrédients, avec uniquement un flag binaire (présence / absence du mot) : la cible est la document frequency moyenne des mots des listes d'ingrédients\n",
    "- moyenne des vecteurs de textes des listes d'ingrédients, avec en prenant en compte les comptes des mots dans chacun des textes : la cible est la term frequency moyenne des mots au sein des listes d'ingrédients\n",
    "- moyenne des scores \"absolus\" de chacun des mots au sein des listes d'ingrédients. Il s'agit d'une \"smooth document frequency\" (elle croit logarithmiquement)\n",
    "- moyenne des scores \"relatifs\" de chacun des mots entre liste d'ingrédients et contenu des fiches techniques. Ici on compare la doc frequency entre les deux corpus, pour donner plus de poids aux mots qui sont plus présents dans les listes d'ingrédients que dans le reste du corps du texte.\n",
    "\n",
    "On comparera à la projection l4/l2b, qui porte jusque là les meilleurs résultats."
   ]
  },
  {
   "cell_type": "code",
   "execution_count": 29,
   "metadata": {},
   "outputs": [
    {
     "name": "stdout",
     "output_type": "stream",
     "text": [
      "Fitting 8 folds for each of 32 candidates, totalling 256 fits\n"
     ]
    },
    {
     "name": "stderr",
     "output_type": "stream",
     "text": [
      "[Parallel(n_jobs=-1)]: Using backend LokyBackend with 8 concurrent workers.\n",
      "[Parallel(n_jobs=-1)]: Done  34 tasks      | elapsed:   14.4s\n",
      "[Parallel(n_jobs=-1)]: Done 184 tasks      | elapsed:  1.4min\n"
     ]
    },
    {
     "name": "stdout",
     "output_type": "stream",
     "text": [
      "Launching 8 processes.\n"
     ]
    },
    {
     "name": "stderr",
     "output_type": "stream",
     "text": [
      "[Parallel(n_jobs=-1)]: Done 256 out of 256 | elapsed:  1.8min finished\n"
     ]
    }
   ],
   "source": [
    "process_pipe.set_params(**{'Splitter__splitter_func': splitter_funcs[2],\n",
    "                           'SimilaritySelector__count_vect_type': 'TfidfVectorizer',\n",
    "                           })\n",
    "\n",
    "kwargs_to_prod = prod_params({'stop_words': {'with stopwords removal' : stop_words},\n",
    "                              'ngram_range': {'no_ngrams': (1, 1), 'bigrams': (1, 2)},\n",
    "                              'binary': {'counts': False, 'binary flag': True},\n",
    "                              'use_idf': {'without idf': False, 'with idf': True},\n",
    "                              'strip_accents': {'remove accents': 'unicode'},\n",
    "                             })\n",
    "\n",
    "param_grid = [{\n",
    "               'SimilaritySelector__count_vect_kwargs': kwargs_to_prod[1],\n",
    "               'SimilaritySelector__scoring': ['default', 'absolute_score', 'relative_score'],    \n",
    "               'SimilaritySelector__similarity': ['cosine'],\n",
    "              },\n",
    "              {'SimilaritySelector__count_vect_kwargs': kwargs_to_prod[1],\n",
    "               'SimilaritySelector__similarity': ['projection'],\n",
    "               'SimilaritySelector__source_norm': ['l4'],\n",
    "               'SimilaritySelector__projected_norm': ['l2'],                   \n",
    "              },\n",
    "             ]\n",
    "search = GridSearchCV(process_pipe,\n",
    "                      param_grid,\n",
    "                      cv=8, \n",
    "                      scoring= ({'similarity': lev_scorer, 'accuracy': custom_accuracy}),\n",
    "                      refit='similarity',\n",
    "                      n_jobs=-1,\n",
    "                      verbose=1,\n",
    "                     ).fit(train, train['ingredients'])"
   ]
  },
  {
   "cell_type": "code",
   "execution_count": 30,
   "metadata": {
    "scrolled": true
   },
   "outputs": [
    {
     "name": "stdout",
     "output_type": "stream",
     "text": [
      "cosine, with stopwords removal, no_ngrams, counts, without idf, remove accents, default 53.69% +/- 7.13%\n",
      "cosine, with stopwords removal, no_ngrams, counts, without idf, remove accents, absolute score 54.47% +/- 6.87%\n",
      "cosine, with stopwords removal, no_ngrams, counts, without idf, remove accents, relative score 29.42% +/- 5.32%\n",
      "cosine, with stopwords removal, no_ngrams, counts, with idf, remove accents, default 55.47% +/- 6.70%\n",
      "cosine, with stopwords removal, no_ngrams, counts, with idf, remove accents, absolute score 52.47% +/- 6.91%\n",
      "cosine, with stopwords removal, no_ngrams, counts, with idf, remove accents, relative score 32.73% +/- 5.21%\n",
      "cosine, with stopwords removal, no_ngrams, binary flag, without idf, remove accents, default 53.29% +/- 7.86%\n",
      "cosine, with stopwords removal, no_ngrams, binary flag, without idf, remove accents, absolute score 54.15% +/- 8.17%\n",
      "cosine, with stopwords removal, no_ngrams, binary flag, without idf, remove accents, relative score 28.02% +/- 5.00%\n",
      "cosine, with stopwords removal, no_ngrams, binary flag, with idf, remove accents, default 54.91% +/- 7.31%\n",
      "cosine, with stopwords removal, no_ngrams, binary flag, with idf, remove accents, absolute score 51.80% +/- 8.13%\n",
      "cosine, with stopwords removal, no_ngrams, binary flag, with idf, remove accents, relative score 31.39% +/- 5.59%\n",
      "cosine, with stopwords removal, bigrams, counts, without idf, remove accents, default 54.43% +/- 7.18%\n",
      "cosine, with stopwords removal, bigrams, counts, without idf, remove accents, absolute score 55.48% +/- 7.11%\n",
      "cosine, with stopwords removal, bigrams, counts, without idf, remove accents, relative score 33.39% +/- 6.11%\n",
      "cosine, with stopwords removal, bigrams, counts, with idf, remove accents, default 55.86% +/- 6.78%\n",
      "cosine, with stopwords removal, bigrams, counts, with idf, remove accents, absolute score 52.00% +/- 6.91%\n",
      "cosine, with stopwords removal, bigrams, counts, with idf, remove accents, relative score 39.00% +/- 5.38%\n",
      "cosine, with stopwords removal, bigrams, binary flag, without idf, remove accents, default 53.36% +/- 7.86%\n",
      "cosine, with stopwords removal, bigrams, binary flag, without idf, remove accents, absolute score 55.36% +/- 7.36%\n",
      "cosine, with stopwords removal, bigrams, binary flag, without idf, remove accents, relative score 32.74% +/- 5.87%\n",
      "cosine, with stopwords removal, bigrams, binary flag, with idf, remove accents, default 54.73% +/- 7.39%\n",
      "cosine, with stopwords removal, bigrams, binary flag, with idf, remove accents, absolute score 51.12% +/- 6.71%\n",
      "cosine, with stopwords removal, bigrams, binary flag, with idf, remove accents, relative score 39.45% +/- 5.47%\n",
      "projection l4/l2, with stopwords removal, no_ngrams, counts, without idf, remove accents 57.08% +/- 5.38%\n",
      "projection l4/l2, with stopwords removal, no_ngrams, counts, with idf, remove accents 17.38% +/- 1.45%\n",
      "projection l4/l2, with stopwords removal, no_ngrams, binary flag, without idf, remove accents 57.26% +/- 5.89%\n",
      "projection l4/l2, with stopwords removal, no_ngrams, binary flag, with idf, remove accents 22.50% +/- 4.14%\n",
      "projection l4/l2, with stopwords removal, bigrams, counts, without idf, remove accents 61.11% +/- 5.30%\n",
      "projection l4/l2, with stopwords removal, bigrams, counts, with idf, remove accents 32.00% +/- 3.51%\n",
      "projection l4/l2, with stopwords removal, bigrams, binary flag, without idf, remove accents 61.00% +/- 5.61%\n",
      "projection l4/l2, with stopwords removal, bigrams, binary flag, with idf, remove accents 38.00% +/- 5.85%\n"
     ]
    }
   ],
   "source": [
    "labels = [\n",
    "          'cosine',\n",
    "         ]\n",
    "\n",
    "\n",
    "labels = list(product(labels, kwargs_to_prod[0], ['default', 'absolute score', 'relative score']))\n",
    "labels.extend(list(product(['projection l4/l2'],  kwargs_to_prod[0])))\n",
    "labels = list(map(lambda x: ', '.join(x), labels))\n",
    "\n",
    "for i in range(len(search.cv_results_['rank_test_similarity'])):\n",
    "    str_result = f\"{search.cv_results_['mean_test_similarity'][i]:.2%} +/- {search.cv_results_['std_test_similarity'][i]:.2%}\"\n",
    "    print(labels[i], str_result)"
   ]
  },
  {
   "cell_type": "code",
   "execution_count": 31,
   "metadata": {},
   "outputs": [
    {
     "data": {
      "text/plain": [
       "156"
      ]
     },
     "execution_count": 31,
     "metadata": {},
     "output_type": "execute_result"
    }
   ],
   "source": [
    "result_df = result_df.loc[result_df['run'] != 4.].copy()\n",
    "result_df = pd.concat([result_df, pd.DataFrame(search.cv_results_)], axis=0, ignore_index=True)\n",
    "result_df['run'] = result_df['run'].fillna(4)\n",
    "len(result_df)"
   ]
  },
  {
   "cell_type": "markdown",
   "metadata": {},
   "source": [
    "On en déduit :\n",
    "- que la similarité par projection reste le mode de détermination du candidat le plus efficace\n",
    "- que dans ce mode, l'utilisation de l'idf dégrade la performance\n",
    "- néanmoins, dans le cadre de la similarité cosinus, l'utilisation de l'idf a un impact positif pour la fonction de scoring par défaut, ou relative."
   ]
  },
  {
   "cell_type": "markdown",
   "metadata": {},
   "source": [
    "### Application de la grid search : embeddings des mots (run 5)\n",
    "\n",
    "On mesure l'impact sur la performance de l'utilisation d'embeddings de mots."
   ]
  },
  {
   "cell_type": "code",
   "execution_count": 32,
   "metadata": {
    "scrolled": false
   },
   "outputs": [
    {
     "name": "stdout",
     "output_type": "stream",
     "text": [
      "Fitting 8 folds for each of 36 candidates, totalling 288 fits\n"
     ]
    },
    {
     "name": "stderr",
     "output_type": "stream",
     "text": [
      "[Parallel(n_jobs=-1)]: Using backend LokyBackend with 8 concurrent workers.\n",
      "[Parallel(n_jobs=-1)]: Done  34 tasks      | elapsed:   27.6s\n",
      "[Parallel(n_jobs=-1)]: Done 184 tasks      | elapsed:  2.3min\n"
     ]
    },
    {
     "name": "stdout",
     "output_type": "stream",
     "text": [
      "Launching 8 processes.\n"
     ]
    },
    {
     "name": "stderr",
     "output_type": "stream",
     "text": [
      "[Parallel(n_jobs=-1)]: Done 288 out of 288 | elapsed:  3.7min finished\n"
     ]
    }
   ],
   "source": [
    "process_pipe.set_params(**{'Splitter__splitter_func': splitter_funcs[2],\n",
    "                           'SimilaritySelector__count_vect_type': 'TfidfVectorizer',\n",
    "                           })\n",
    "\n",
    "kwargs_to_prod = prod_params({'stop_words': {'with stopwords removal' : stop_words},\n",
    "                              'ngram_range': {'no_ngram': (1, 1)},\n",
    "                              'binary': {'counts': False, 'binary flag': True},           \n",
    "                              'use_idf': {'without_idf': False, 'with_idf': True},\n",
    "                              'strip_accents': {'remove accents': 'unicode'},\n",
    "                             })\n",
    "\n",
    "param_grid = [{\n",
    "               'SimilaritySelector__count_vect_kwargs': kwargs_to_prod[1],\n",
    "               'SimilaritySelector__scoring': ['default', 'absolute_score', 'relative_score'],    \n",
    "               'SimilaritySelector__similarity': ['cosine'],\n",
    "               'SimilaritySelector__embedding_method': [None, 'Word2Vec', 'tSVD'],\n",
    "              },\n",
    "             ]\n",
    "search = GridSearchCV(process_pipe,\n",
    "                      param_grid,\n",
    "                      cv=8, \n",
    "                      scoring= ({'similarity': lev_scorer, 'accuracy': custom_accuracy}),\n",
    "                      refit='similarity',\n",
    "                      n_jobs=-1,\n",
    "                      verbose=1,\n",
    "                      error_score='raise',\n",
    "                     ).fit(train, train['ingredients'])"
   ]
  },
  {
   "cell_type": "code",
   "execution_count": 33,
   "metadata": {},
   "outputs": [
    {
     "name": "stdout",
     "output_type": "stream",
     "text": [
      "with stopwords removal, no_ngram, counts, without_idf, remove accents, No embed, default 53.69% +/- 7.13%\n",
      "with stopwords removal, no_ngram, counts, without_idf, remove accents, No embed, absolute score 54.47% +/- 6.87%\n",
      "with stopwords removal, no_ngram, counts, without_idf, remove accents, No embed, relative score 29.42% +/- 5.32%\n",
      "with stopwords removal, no_ngram, counts, without_idf, remove accents, Word2Vec, default 53.70% +/- 6.19%\n",
      "with stopwords removal, no_ngram, counts, without_idf, remove accents, Word2Vec, absolute score 53.17% +/- 5.87%\n",
      "with stopwords removal, no_ngram, counts, without_idf, remove accents, Word2Vec, relative score 10.19% +/- 2.68%\n",
      "with stopwords removal, no_ngram, counts, without_idf, remove accents, tSVD, default 51.60% +/- 7.44%\n",
      "with stopwords removal, no_ngram, counts, without_idf, remove accents, tSVD, absolute score 49.99% +/- 7.59%\n",
      "with stopwords removal, no_ngram, counts, without_idf, remove accents, tSVD, relative score 8.05% +/- 1.59%\n",
      "with stopwords removal, no_ngram, counts, with_idf, remove accents, No embed, default 55.47% +/- 6.70%\n",
      "with stopwords removal, no_ngram, counts, with_idf, remove accents, No embed, absolute score 52.47% +/- 6.91%\n",
      "with stopwords removal, no_ngram, counts, with_idf, remove accents, No embed, relative score 32.73% +/- 5.21%\n",
      "with stopwords removal, no_ngram, counts, with_idf, remove accents, Word2Vec, default 53.70% +/- 6.06%\n",
      "with stopwords removal, no_ngram, counts, with_idf, remove accents, Word2Vec, absolute score 53.58% +/- 6.26%\n",
      "with stopwords removal, no_ngram, counts, with_idf, remove accents, Word2Vec, relative score 10.16% +/- 2.75%\n",
      "with stopwords removal, no_ngram, counts, with_idf, remove accents, tSVD, default 49.47% +/- 6.39%\n",
      "with stopwords removal, no_ngram, counts, with_idf, remove accents, tSVD, absolute score 46.09% +/- 6.51%\n",
      "with stopwords removal, no_ngram, counts, with_idf, remove accents, tSVD, relative score 8.96% +/- 1.99%\n",
      "with stopwords removal, no_ngram, binary flag, without_idf, remove accents, No embed, default 53.29% +/- 7.86%\n",
      "with stopwords removal, no_ngram, binary flag, without_idf, remove accents, No embed, absolute score 54.15% +/- 8.17%\n",
      "with stopwords removal, no_ngram, binary flag, without_idf, remove accents, No embed, relative score 28.02% +/- 5.00%\n",
      "with stopwords removal, no_ngram, binary flag, without_idf, remove accents, Word2Vec, default 53.16% +/- 6.10%\n",
      "with stopwords removal, no_ngram, binary flag, without_idf, remove accents, Word2Vec, absolute score 52.54% +/- 6.31%\n",
      "with stopwords removal, no_ngram, binary flag, without_idf, remove accents, Word2Vec, relative score 10.18% +/- 2.67%\n",
      "with stopwords removal, no_ngram, binary flag, without_idf, remove accents, tSVD, default 53.84% +/- 8.26%\n",
      "with stopwords removal, no_ngram, binary flag, without_idf, remove accents, tSVD, absolute score 54.32% +/- 8.38%\n",
      "with stopwords removal, no_ngram, binary flag, without_idf, remove accents, tSVD, relative score 9.44% +/- 1.98%\n",
      "with stopwords removal, no_ngram, binary flag, with_idf, remove accents, No embed, default 54.91% +/- 7.31%\n",
      "with stopwords removal, no_ngram, binary flag, with_idf, remove accents, No embed, absolute score 51.80% +/- 8.13%\n",
      "with stopwords removal, no_ngram, binary flag, with_idf, remove accents, No embed, relative score 31.39% +/- 5.59%\n",
      "with stopwords removal, no_ngram, binary flag, with_idf, remove accents, Word2Vec, default 53.39% +/- 6.64%\n",
      "with stopwords removal, no_ngram, binary flag, with_idf, remove accents, Word2Vec, absolute score 53.62% +/- 6.58%\n",
      "with stopwords removal, no_ngram, binary flag, with_idf, remove accents, Word2Vec, relative score 10.20% +/- 2.68%\n",
      "with stopwords removal, no_ngram, binary flag, with_idf, remove accents, tSVD, default 50.53% +/- 7.64%\n",
      "with stopwords removal, no_ngram, binary flag, with_idf, remove accents, tSVD, absolute score 49.87% +/- 8.01%\n",
      "with stopwords removal, no_ngram, binary flag, with_idf, remove accents, tSVD, relative score 9.13% +/- 2.54%\n"
     ]
    }
   ],
   "source": [
    "labels = ['default', 'absolute_score', 'relative_score']\n",
    "\n",
    "\n",
    "labels = list(product(kwargs_to_prod[0],\n",
    "                      ['No embed', 'Word2Vec', 'tSVD'],\n",
    "                      ['default', 'absolute score', 'relative score'],\n",
    "                     ))\n",
    "# labels.extend(list(product(['projection l4/l2'],  kwargs_to_prod[0])))\n",
    "labels = list(map(lambda x: ', '.join(x), labels))\n",
    "\n",
    "for i in range(len(search.cv_results_['rank_test_similarity'])):\n",
    "    str_result = f\"{search.cv_results_['mean_test_similarity'][i]:.2%} +/- {search.cv_results_['std_test_similarity'][i]:.2%}\"\n",
    "    print(labels[i], str_result)"
   ]
  },
  {
   "cell_type": "code",
   "execution_count": 34,
   "metadata": {},
   "outputs": [
    {
     "data": {
      "text/plain": [
       "192"
      ]
     },
     "execution_count": 34,
     "metadata": {},
     "output_type": "execute_result"
    }
   ],
   "source": [
    "result_df = result_df.loc[result_df['run'] != 5].copy()\n",
    "result_df = pd.concat([result_df, pd.DataFrame(search.cv_results_)], axis=0, ignore_index=True)\n",
    "result_df['run'] = result_df['run'].fillna(5)\n",
    "len(result_df)"
   ]
  },
  {
   "cell_type": "markdown",
   "metadata": {},
   "source": [
    "### Random search : validation finale de l'ensemble des critères (run 6)\n",
    "\n",
    "On applique enfin une random search, afin de voir si les conclusions qui avaient été tirée lors des explorations systématiques de certains domaines sont viables."
   ]
  },
  {
   "cell_type": "code",
   "execution_count": 35,
   "metadata": {},
   "outputs": [
    {
     "name": "stdout",
     "output_type": "stream",
     "text": [
      "Fitting 8 folds for each of 50 candidates, totalling 400 fits\n"
     ]
    },
    {
     "name": "stderr",
     "output_type": "stream",
     "text": [
      "[Parallel(n_jobs=-1)]: Using backend LokyBackend with 8 concurrent workers.\n",
      "[Parallel(n_jobs=-1)]: Done 184 tasks      | elapsed:  2.3min\n"
     ]
    },
    {
     "name": "stdout",
     "output_type": "stream",
     "text": [
      "Launching 8 processes.\n"
     ]
    },
    {
     "name": "stderr",
     "output_type": "stream",
     "text": [
      "[Parallel(n_jobs=-1)]: Done 400 out of 400 | elapsed:  6.1min finished\n"
     ]
    }
   ],
   "source": [
    "kwargs_to_prod = prod_params({'stop_words': {'with stopwords removal' : stop_words, 'keep stopwords': None},\n",
    "                              'use_idf': {'with idf': True, 'no idf': False},\n",
    "                              'binary': {'counts': False, 'binary flag': True},                                       \n",
    "                              'ngram_range': {'no_ngram': (1, 1), 'bigrams': (1, 2), 'trigrams': (1, 3)},  \n",
    "                              'strip_accents': {'remove accents': 'unicode', 'keep accents': None},\n",
    "                             })\n",
    "param_grid = [{\n",
    "               'SimilaritySelector__count_vect_kwargs': kwargs_to_prod[1],\n",
    "               'SimilaritySelector__scoring': ['default', 'absolute_score', 'relative_score'],    \n",
    "               'SimilaritySelector__similarity': ['cosine'],\n",
    "               'SimilaritySelector__embedding_method': [None, 'Word2Vec', 'tSVD'],\n",
    "    \n",
    "              },\n",
    "              {'SimilaritySelector__count_vect_kwargs': kwargs_to_prod[1],\n",
    "               'SimilaritySelector__scoring': ['default'],\n",
    "               'SimilaritySelector__similarity': ['projection'],\n",
    "               'SimilaritySelector__source_norm': ['l2', 'l3', 'l4', 'l5'],\n",
    "               'SimilaritySelector__projected_norm': ['l1', 'l2', 'l3', 'l4'],                   \n",
    "              },\n",
    "             ]\n",
    "len(kwargs_to_prod[1])\n",
    "\n",
    "search = RandomizedSearchCV(process_pipe,\n",
    "                            param_grid,\n",
    "                            n_iter=50,\n",
    "                            cv=8, \n",
    "                            scoring= ({'similarity': lev_scorer, 'accuracy': custom_accuracy}),\n",
    "                            refit='similarity',\n",
    "                            n_jobs=-1,\n",
    "                            verbose=1,\n",
    "                           ).fit(train, train['ingredients'])"
   ]
  },
  {
   "cell_type": "code",
   "execution_count": 36,
   "metadata": {},
   "outputs": [
    {
     "data": {
      "text/plain": [
       "{'SimilaritySelector__source_norm': 'l4',\n",
       " 'SimilaritySelector__similarity': 'projection',\n",
       " 'SimilaritySelector__scoring': 'default',\n",
       " 'SimilaritySelector__projected_norm': 'l3',\n",
       " 'SimilaritySelector__count_vect_kwargs': {'stop_words': None,\n",
       "  'use_idf': False,\n",
       "  'binary': True,\n",
       "  'ngram_range': (1, 3),\n",
       "  'strip_accents': None}}"
      ]
     },
     "execution_count": 36,
     "metadata": {},
     "output_type": "execute_result"
    }
   ],
   "source": [
    "search.best_params_"
   ]
  },
  {
   "cell_type": "code",
   "execution_count": 37,
   "metadata": {},
   "outputs": [
    {
     "data": {
      "text/plain": [
       "0.622970201742938"
      ]
     },
     "execution_count": 37,
     "metadata": {},
     "output_type": "execute_result"
    }
   ],
   "source": [
    "search.best_score_"
   ]
  },
  {
   "cell_type": "markdown",
   "metadata": {},
   "source": [
    "### Tuning des méthodes de vectorisation (run 7)"
   ]
  },
  {
   "cell_type": "code",
   "execution_count": 38,
   "metadata": {},
   "outputs": [
    {
     "name": "stdout",
     "output_type": "stream",
     "text": [
      "Fitting 8 folds for each of 40 candidates, totalling 320 fits\n"
     ]
    },
    {
     "name": "stderr",
     "output_type": "stream",
     "text": [
      "[Parallel(n_jobs=-1)]: Using backend LokyBackend with 8 concurrent workers.\n"
     ]
    },
    {
     "name": "stdout",
     "output_type": "stream",
     "text": [
      "Launching 8 processes.\n"
     ]
    },
    {
     "name": "stderr",
     "output_type": "stream",
     "text": [
      "[Parallel(n_jobs=-1)]: Done 320 out of 320 | elapsed:  2.5min finished\n"
     ]
    }
   ],
   "source": [
    "process_pipe.set_params(**{'Splitter__splitter_func': splitter_funcs[2],\n",
    "                           })\n",
    "\n",
    "kwargs_to_prod = prod_params({'stop_words': {'with stopwords removal' : stop_words},\n",
    "                              'use_idf': {'with idf': True, 'no idf': False},\n",
    "                              'binary': {'counts': False, 'binary flag': True},                                       \n",
    "                              'ngram_range': {'no_ngram': (1, 1),\n",
    "                                              'bigrams': (1, 2),\n",
    "                                              'trigrams': (1, 3),\n",
    "                                              'quadgrams': (1, 4),\n",
    "                                              'quintgrams': (1, 5)},  \n",
    "                              'strip_accents': {'remove accents': 'unicode'},\n",
    "                             })\n",
    "\n",
    "param_grid = [{\n",
    "               'SimilaritySelector__count_vect_kwargs': kwargs_to_prod[1],\n",
    "               'SimilaritySelector__similarity': ['cosine'],\n",
    "              },\n",
    "              {\n",
    "               'SimilaritySelector__count_vect_kwargs': kwargs_to_prod[1],\n",
    "               'SimilaritySelector__similarity': ['projection'],\n",
    "               'SimilaritySelector__source_norm': ['l4'],\n",
    "               'SimilaritySelector__projected_norm': ['l3'],\n",
    "              }]\n",
    "\n",
    "search = GridSearchCV(process_pipe,\n",
    "                      param_grid,\n",
    "                      cv=8, \n",
    "                      scoring= ({'similarity': lev_scorer, 'accuracy': custom_accuracy}),\n",
    "                      refit='similarity',\n",
    "                      n_jobs=-1,\n",
    "                      verbose=1,\n",
    "                      error_score='raise',\n",
    "                     ).fit(train, train['ingredients'])"
   ]
  },
  {
   "cell_type": "code",
   "execution_count": 39,
   "metadata": {},
   "outputs": [
    {
     "name": "stdout",
     "output_type": "stream",
     "text": [
      "cosine, with stopwords removal, with idf, counts, no_ngram, remove accents 55.47% +/- 6.70%\n",
      "cosine, with stopwords removal, with idf, counts, bigrams, remove accents 55.86% +/- 6.78%\n",
      "cosine, with stopwords removal, with idf, counts, trigrams, remove accents 55.01% +/- 6.50%\n",
      "cosine, with stopwords removal, with idf, counts, quadgrams, remove accents 55.44% +/- 6.40%\n",
      "cosine, with stopwords removal, with idf, counts, quintgrams, remove accents 55.62% +/- 6.47%\n",
      "cosine, with stopwords removal, with idf, binary flag, no_ngram, remove accents 54.91% +/- 7.31%\n",
      "cosine, with stopwords removal, with idf, binary flag, bigrams, remove accents 54.73% +/- 7.39%\n",
      "cosine, with stopwords removal, with idf, binary flag, trigrams, remove accents 54.68% +/- 7.98%\n",
      "cosine, with stopwords removal, with idf, binary flag, quadgrams, remove accents 54.23% +/- 7.59%\n",
      "cosine, with stopwords removal, with idf, binary flag, quintgrams, remove accents 54.10% +/- 8.03%\n",
      "cosine, with stopwords removal, no idf, counts, no_ngram, remove accents 53.69% +/- 7.13%\n",
      "cosine, with stopwords removal, no idf, counts, bigrams, remove accents 54.43% +/- 7.18%\n",
      "cosine, with stopwords removal, no idf, counts, trigrams, remove accents 54.26% +/- 7.21%\n",
      "cosine, with stopwords removal, no idf, counts, quadgrams, remove accents 54.12% +/- 7.28%\n",
      "cosine, with stopwords removal, no idf, counts, quintgrams, remove accents 54.29% +/- 7.21%\n",
      "cosine, with stopwords removal, no idf, binary flag, no_ngram, remove accents 53.29% +/- 7.86%\n",
      "cosine, with stopwords removal, no idf, binary flag, bigrams, remove accents 53.36% +/- 7.86%\n",
      "cosine, with stopwords removal, no idf, binary flag, trigrams, remove accents 52.39% +/- 7.54%\n",
      "cosine, with stopwords removal, no idf, binary flag, quadgrams, remove accents 51.73% +/- 7.89%\n",
      "cosine, with stopwords removal, no idf, binary flag, quintgrams, remove accents 51.04% +/- 8.52%\n",
      "Proj l4/l3, with stopwords removal, with idf, counts, no_ngram, remove accents 10.23% +/- 1.89%\n",
      "Proj l4/l3, with stopwords removal, with idf, counts, bigrams, remove accents 9.05% +/- 2.18%\n",
      "Proj l4/l3, with stopwords removal, with idf, counts, trigrams, remove accents 8.95% +/- 2.33%\n",
      "Proj l4/l3, with stopwords removal, with idf, counts, quadgrams, remove accents 8.97% +/- 2.30%\n",
      "Proj l4/l3, with stopwords removal, with idf, counts, quintgrams, remove accents 8.97% +/- 2.30%\n",
      "Proj l4/l3, with stopwords removal, with idf, binary flag, no_ngram, remove accents 9.50% +/- 1.73%\n",
      "Proj l4/l3, with stopwords removal, with idf, binary flag, bigrams, remove accents 9.28% +/- 2.34%\n",
      "Proj l4/l3, with stopwords removal, with idf, binary flag, trigrams, remove accents 9.49% +/- 2.21%\n",
      "Proj l4/l3, with stopwords removal, with idf, binary flag, quadgrams, remove accents 9.65% +/- 2.34%\n",
      "Proj l4/l3, with stopwords removal, with idf, binary flag, quintgrams, remove accents 9.65% +/- 2.34%\n",
      "Proj l4/l3, with stopwords removal, no idf, counts, no_ngram, remove accents 56.36% +/- 4.14%\n",
      "Proj l4/l3, with stopwords removal, no idf, counts, bigrams, remove accents 59.61% +/- 4.00%\n",
      "Proj l4/l3, with stopwords removal, no idf, counts, trigrams, remove accents 60.39% +/- 3.35%\n",
      "Proj l4/l3, with stopwords removal, no idf, counts, quadgrams, remove accents 60.72% +/- 3.33%\n",
      "Proj l4/l3, with stopwords removal, no idf, counts, quintgrams, remove accents 60.87% +/- 3.19%\n",
      "Proj l4/l3, with stopwords removal, no idf, binary flag, no_ngram, remove accents 59.16% +/- 6.49%\n",
      "Proj l4/l3, with stopwords removal, no idf, binary flag, bigrams, remove accents 62.61% +/- 4.29%\n",
      "Proj l4/l3, with stopwords removal, no idf, binary flag, trigrams, remove accents 63.31% +/- 3.83%\n",
      "Proj l4/l3, with stopwords removal, no idf, binary flag, quadgrams, remove accents 63.21% +/- 3.84%\n",
      "Proj l4/l3, with stopwords removal, no idf, binary flag, quintgrams, remove accents 63.21% +/- 3.83%\n"
     ]
    }
   ],
   "source": [
    "labels = list(product(['cosine', 'Proj l4/l3'],\n",
    "                      kwargs_to_prod[0],\n",
    "                     ))\n",
    "# labels.extend(list(product(['projection l4/l2'],  kwargs_to_prod[0])))\n",
    "labels = list(map(lambda x: ', '.join(x), labels))\n",
    "\n",
    "for i in range(len(search.cv_results_['rank_test_similarity'])):\n",
    "    str_result = f\"{search.cv_results_['mean_test_similarity'][i]:.2%} +/- {search.cv_results_['std_test_similarity'][i]:.2%}\"\n",
    "    print(labels[i], str_result)"
   ]
  },
  {
   "cell_type": "code",
   "execution_count": 40,
   "metadata": {},
   "outputs": [
    {
     "data": {
      "text/plain": [
       "232"
      ]
     },
     "execution_count": 40,
     "metadata": {},
     "output_type": "execute_result"
    }
   ],
   "source": [
    "result_df = result_df.loc[result_df['run'] != 7.].copy()\n",
    "result_df = pd.concat([result_df, pd.DataFrame(search.cv_results_)], axis=0, ignore_index=True)\n",
    "result_df['run'] = result_df['run'].fillna(7)\n",
    "len(result_df)"
   ]
  },
  {
   "cell_type": "markdown",
   "metadata": {},
   "source": [
    "### Dépouillement des résultats\n",
    "\n",
    "#### Préparation du dataframe\n",
    "\n",
    "On va maintenant interpréter le contenu du dataframe portant les résultats. On commence par renommer les colonnes qui ont de longs noms."
   ]
  },
  {
   "cell_type": "code",
   "execution_count": 41,
   "metadata": {},
   "outputs": [],
   "source": [
    "col_rename = {\n",
    "              'param_SimilaritySelector__similarity': 'similarity',\n",
    "              'param_Splitter__splitter_func': 'split_func',\n",
    "              'param_SimilaritySelector__projected_norm': 'projected_norm',\n",
    "              'param_SimilaritySelector__source_norm': 'source_norm',\n",
    "              'param_SimilaritySelector__count_vect_type': 'count_vect_type',\n",
    "              'param_SimilaritySelector__scoring': 'scoring',\n",
    "              'param_SimilaritySelector__embedding_method': 'embedding_method',\n",
    "}\n",
    "result_df.rename(col_rename, axis=1, inplace=True)"
   ]
  },
  {
   "cell_type": "markdown",
   "metadata": {},
   "source": [
    "On récupère maintenant le contenu des dictionnaires en tant que colonnes."
   ]
  },
  {
   "cell_type": "code",
   "execution_count": 42,
   "metadata": {},
   "outputs": [],
   "source": [
    "dict_cols = {'param_SimilaritySelector__count_vect_kwargs'}\n",
    "to_concat = list()\n",
    "for dict_col in dict_cols: \n",
    "    to_concat.append(result_df[dict_col].apply(pd.Series))\n",
    "    result_df.drop(dict_col, axis=1, inplace=True)\n",
    "result_df = pd.concat([result_df, *to_concat], axis=1)"
   ]
  },
  {
   "cell_type": "code",
   "execution_count": 43,
   "metadata": {},
   "outputs": [
    {
     "data": {
      "text/html": [
       "<div>\n",
       "<style scoped>\n",
       "    .dataframe tbody tr th:only-of-type {\n",
       "        vertical-align: middle;\n",
       "    }\n",
       "\n",
       "    .dataframe tbody tr th {\n",
       "        vertical-align: top;\n",
       "    }\n",
       "\n",
       "    .dataframe thead th {\n",
       "        text-align: right;\n",
       "    }\n",
       "</style>\n",
       "<table border=\"1\" class=\"dataframe\">\n",
       "  <thead>\n",
       "    <tr style=\"text-align: right;\">\n",
       "      <th></th>\n",
       "      <th>mean_fit_time</th>\n",
       "      <th>std_fit_time</th>\n",
       "      <th>mean_score_time</th>\n",
       "      <th>std_score_time</th>\n",
       "      <th>similarity</th>\n",
       "      <th>split_func</th>\n",
       "      <th>params</th>\n",
       "      <th>split0_test_similarity</th>\n",
       "      <th>split1_test_similarity</th>\n",
       "      <th>split2_test_similarity</th>\n",
       "      <th>...</th>\n",
       "      <th>projected_norm</th>\n",
       "      <th>source_norm</th>\n",
       "      <th>count_vect_type</th>\n",
       "      <th>scoring</th>\n",
       "      <th>embedding_method</th>\n",
       "      <th>stop_words</th>\n",
       "      <th>ngram_range</th>\n",
       "      <th>strip_accents</th>\n",
       "      <th>binary</th>\n",
       "      <th>use_idf</th>\n",
       "    </tr>\n",
       "  </thead>\n",
       "  <tbody>\n",
       "    <tr>\n",
       "      <th>172</th>\n",
       "      <td>2.058746</td>\n",
       "      <td>0.053648</td>\n",
       "      <td>3.529992</td>\n",
       "      <td>0.320578</td>\n",
       "      <td>cosine</td>\n",
       "      <td>NaN</td>\n",
       "      <td>{'SimilaritySelector__count_vect_kwargs': {'st...</td>\n",
       "      <td>0.419952</td>\n",
       "      <td>0.529639</td>\n",
       "      <td>0.403381</td>\n",
       "      <td>...</td>\n",
       "      <td>NaN</td>\n",
       "      <td>NaN</td>\n",
       "      <td>NaN</td>\n",
       "      <td>absolute_score</td>\n",
       "      <td>tSVD</td>\n",
       "      <td>{ou, le, dont, de, les, au, par, dans, pour, e...</td>\n",
       "      <td>(1, 1)</td>\n",
       "      <td>unicode</td>\n",
       "      <td>False</td>\n",
       "      <td>True</td>\n",
       "    </tr>\n",
       "    <tr>\n",
       "      <th>58</th>\n",
       "      <td>1.581648</td>\n",
       "      <td>0.118239</td>\n",
       "      <td>1.442932</td>\n",
       "      <td>0.141242</td>\n",
       "      <td>cosine</td>\n",
       "      <td>&lt;function split_func2 at 0x7f3a962bef70&gt;</td>\n",
       "      <td>{'SimilaritySelector__count_vect_kwargs': {'st...</td>\n",
       "      <td>0.185499</td>\n",
       "      <td>0.295970</td>\n",
       "      <td>0.211447</td>\n",
       "      <td>...</td>\n",
       "      <td>NaN</td>\n",
       "      <td>NaN</td>\n",
       "      <td>NaN</td>\n",
       "      <td>NaN</td>\n",
       "      <td>NaN</td>\n",
       "      <td>{ou, le, dont, de, les, au, par, dans, pour, e...</td>\n",
       "      <td>(1, 2)</td>\n",
       "      <td>unicode</td>\n",
       "      <td>NaN</td>\n",
       "      <td>NaN</td>\n",
       "    </tr>\n",
       "    <tr>\n",
       "      <th>214</th>\n",
       "      <td>1.669115</td>\n",
       "      <td>0.125984</td>\n",
       "      <td>1.156498</td>\n",
       "      <td>0.098057</td>\n",
       "      <td>projection</td>\n",
       "      <td>NaN</td>\n",
       "      <td>{'SimilaritySelector__count_vect_kwargs': {'st...</td>\n",
       "      <td>0.117025</td>\n",
       "      <td>0.075599</td>\n",
       "      <td>0.130080</td>\n",
       "      <td>...</td>\n",
       "      <td>l3</td>\n",
       "      <td>l4</td>\n",
       "      <td>NaN</td>\n",
       "      <td>NaN</td>\n",
       "      <td>NaN</td>\n",
       "      <td>{ou, le, dont, de, les, au, par, dans, pour, e...</td>\n",
       "      <td>(1, 3)</td>\n",
       "      <td>unicode</td>\n",
       "      <td>False</td>\n",
       "      <td>True</td>\n",
       "    </tr>\n",
       "  </tbody>\n",
       "</table>\n",
       "<p>3 rows × 40 columns</p>\n",
       "</div>"
      ],
      "text/latex": [
       "\\resizebox{\\linewidth}{!}{\\begin{scriptsize}\\centering{\\begin{tabular}{lrrrrlllrrrrrrrrrrrrrrrrrrrrrrrllllllllll}\n",
       "\\toprule\n",
       "{} &  mean\\_fit\\_time &  std\\_fit\\_time &  mean\\_score\\_time &  std\\_score\\_time &  similarity &                                split\\_func &                                             params &  split0\\_test\\_similarity &  split1\\_test\\_similarity &  split2\\_test\\_similarity &  split3\\_test\\_similarity &  split4\\_test\\_similarity &  split5\\_test\\_similarity &  split6\\_test\\_similarity &  split7\\_test\\_similarity &  mean\\_test\\_similarity &  std\\_test\\_similarity &  rank\\_test\\_similarity &  split0\\_test\\_accuracy &  split1\\_test\\_accuracy &  split2\\_test\\_accuracy &  split3\\_test\\_accuracy &  split4\\_test\\_accuracy &  split5\\_test\\_accuracy &  split6\\_test\\_accuracy &  split7\\_test\\_accuracy &  mean\\_test\\_accuracy &  std\\_test\\_accuracy &  rank\\_test\\_accuracy &  run & projected\\_norm & source\\_norm & count\\_vect\\_type &         scoring & embedding\\_method &                                         stop\\_words & ngram\\_range & strip\\_accents & binary & use\\_idf \\\\\n",
       "\\midrule\n",
       "172 &       2.058746 &      0.053648 &         3.529992 &        0.320578 &      cosine &                                       NaN &  \\{'SimilaritySelector\\_\\_count\\_vect\\_kwargs': \\{'st... &                0.419952 &                0.529639 &                0.403381 &                0.388360 &                0.586718 &                0.408943 &                0.475325 &                0.474639 &              0.460870 &             0.065095 &                    24 &                  0.16 &                  0.16 &                  0.16 &                  0.10 &                  0.22 &                  0.16 &                  0.18 &                  0.14 &                0.16 &           0.031623 &                  28 &  5.0 &            NaN &         NaN &             NaN &  absolute\\_score &             tSVD &  \\{ou, le, dont, de, les, au, par, dans, pour, e... &      (1, 1) &       unicode &  False &    True \\\\\n",
       "58  &       1.581648 &      0.118239 &         1.442932 &        0.141242 &      cosine &  <function split\\_func2 at 0x7f3a962bef70> &  \\{'SimilaritySelector\\_\\_count\\_vect\\_kwargs': \\{'st... &                0.185499 &                0.295970 &                0.211447 &                0.273648 &                0.346027 &                0.296101 &                0.272051 &                0.270983 &              0.268966 &             0.047056 &                    67 &                  0.04 &                  0.10 &                  0.08 &                  0.06 &                  0.16 &                  0.10 &                  0.04 &                  0.06 &                0.08 &           0.037417 &                  63 &  1.0 &            NaN &         NaN &             NaN &             NaN &              NaN &  \\{ou, le, dont, de, les, au, par, dans, pour, e... &      (1, 2) &       unicode &    NaN &     NaN \\\\\n",
       "214 &       1.669115 &      0.125984 &         1.156498 &        0.098057 &  projection &                                       NaN &  \\{'SimilaritySelector\\_\\_count\\_vect\\_kwargs': \\{'st... &                0.117025 &                0.075599 &                0.130080 &                0.087800 &                0.102976 &                0.073826 &                0.059061 &                0.069579 &              0.089493 &             0.023321 &                    40 &                  0.04 &                  0.02 &                  0.04 &                  0.04 &                  0.04 &                  0.02 &                  0.02 &                  0.02 &                0.03 &           0.010000 &                  35 &  7.0 &             l3 &          l4 &             NaN &             NaN &              NaN &  \\{ou, le, dont, de, les, au, par, dans, pour, e... &      (1, 3) &       unicode &  False &    True \\\\\n",
       "\\bottomrule\n",
       "\\end{tabular}\n",
       "}\\end{scriptsize}}"
      ],
      "text/plain": [
       "     mean_fit_time  std_fit_time  mean_score_time  std_score_time  similarity  \\\n",
       "172       2.058746      0.053648         3.529992        0.320578      cosine   \n",
       "58        1.581648      0.118239         1.442932        0.141242      cosine   \n",
       "214       1.669115      0.125984         1.156498        0.098057  projection   \n",
       "\n",
       "                                   split_func                                             params  \\\n",
       "172                                       NaN  {'SimilaritySelector__count_vect_kwargs': {'st...   \n",
       "58   <function split_func2 at 0x7f3a962bef70>  {'SimilaritySelector__count_vect_kwargs': {'st...   \n",
       "214                                       NaN  {'SimilaritySelector__count_vect_kwargs': {'st...   \n",
       "\n",
       "     split0_test_similarity  split1_test_similarity  split2_test_similarity  ...  projected_norm  \\\n",
       "172                0.419952                0.529639                0.403381  ...             NaN   \n",
       "58                 0.185499                0.295970                0.211447  ...             NaN   \n",
       "214                0.117025                0.075599                0.130080  ...              l3   \n",
       "\n",
       "     source_norm  count_vect_type         scoring  embedding_method  \\\n",
       "172          NaN              NaN  absolute_score              tSVD   \n",
       "58           NaN              NaN             NaN               NaN   \n",
       "214           l4              NaN             NaN               NaN   \n",
       "\n",
       "                                            stop_words  ngram_range  strip_accents  binary  use_idf  \n",
       "172  {ou, le, dont, de, les, au, par, dans, pour, e...       (1, 1)        unicode   False     True  \n",
       "58   {ou, le, dont, de, les, au, par, dans, pour, e...       (1, 2)        unicode     NaN      NaN  \n",
       "214  {ou, le, dont, de, les, au, par, dans, pour, e...       (1, 3)        unicode   False     True  \n",
       "\n",
       "[3 rows x 40 columns]"
      ]
     },
     "execution_count": 43,
     "metadata": {},
     "output_type": "execute_result"
    }
   ],
   "source": [
    "result_df.sample(3)"
   ]
  },
  {
   "cell_type": "markdown",
   "metadata": {},
   "source": [
    "On effectue ensuite quelques prétraitements pour améliorer la lisibilité.\n",
    "On renomme les fonctions avec leur nom, et on applique une valeur par défaut."
   ]
  },
  {
   "cell_type": "code",
   "execution_count": 44,
   "metadata": {},
   "outputs": [],
   "source": [
    "def rename_funcs(func):\n",
    "    try:\n",
    "        return(func.__name__)\n",
    "    except:\n",
    "        return('split_func3')\n",
    "result_df['split_func'] = result_df.loc[:, 'split_func'].apply(rename_funcs)    "
   ]
  },
  {
   "cell_type": "markdown",
   "metadata": {},
   "source": [
    "On met 2 critères pour le retrait des stopwords : retrait d'une liste, ou non retrait."
   ]
  },
  {
   "cell_type": "code",
   "execution_count": 45,
   "metadata": {},
   "outputs": [],
   "source": [
    "result_df['stop_words'].fillna('no_stopword_removal', inplace=True)\n",
    "result_df.loc[result_df['stop_words'] != 'no_stopword_removal', 'stop_words'] = 'stop_word_list'"
   ]
  },
  {
   "cell_type": "markdown",
   "metadata": {},
   "source": [
    "On renomme les ngram_ranges"
   ]
  },
  {
   "cell_type": "code",
   "execution_count": 46,
   "metadata": {},
   "outputs": [],
   "source": [
    "ngram_dict = {(1, 1): 'no_ngram', \n",
    "              (1, 2): 'bigrams',\n",
    "              (1, 3): 'trigrams',\n",
    "              (1, 4): 'quadgrams',\n",
    "              (1, 5): 'quintgrams',\n",
    "             }\n",
    "result_df['ngram_range'] = result_df['ngram_range'].map(ngram_dict, na_action='ignore')"
   ]
  },
  {
   "cell_type": "markdown",
   "metadata": {},
   "source": [
    "On renomme le retrait des accents."
   ]
  },
  {
   "cell_type": "code",
   "execution_count": 47,
   "metadata": {},
   "outputs": [],
   "source": [
    "accent_dict = {None: 'no_accent_removal', \n",
    "               'unicode': 'accent_removal',\n",
    "              }\n",
    "result_df['strip_accents'] = result_df['strip_accents'].map(accent_dict, na_action='ignore')"
   ]
  },
  {
   "cell_type": "code",
   "execution_count": 48,
   "metadata": {},
   "outputs": [],
   "source": [
    "result_df.drop('params', axis=1, inplace=True)"
   ]
  },
  {
   "cell_type": "markdown",
   "metadata": {},
   "source": [
    "On renomme les embeddings"
   ]
  },
  {
   "cell_type": "code",
   "execution_count": 49,
   "metadata": {},
   "outputs": [],
   "source": [
    "embed_dict = {None: 'no_embedding', \n",
    "              'Word2Vec': 'Word2Vec',\n",
    "              'tSVD': 'tSVD',\n",
    "              }\n",
    "result_df['embedding_method'] = result_df['embedding_method'].map(embed_dict, na_action='ignore')"
   ]
  },
  {
   "cell_type": "markdown",
   "metadata": {},
   "source": [
    "On applique ensuite les valeurs par défaut pour les colonnes sur lesquelles on n'a pas fait varier les critères."
   ]
  },
  {
   "cell_type": "code",
   "execution_count": 50,
   "metadata": {},
   "outputs": [],
   "source": [
    "# by default, accents are stripped\n",
    "result_df['strip_accents'] = result_df['strip_accents'].fillna('accent_removal')\n",
    "# scoring and embedding method are not applicable if projection\n",
    "result_df.loc[result_df['similarity'] == 'projection',['scoring', 'embedding_method']] = 'not_applicable'\n",
    "# add default value to scoring for remainder\n",
    "result_df.loc[pd.isna(result_df['scoring']), 'scoring'] = 'default'\n",
    "# default value for embedding for remainder \n",
    "result_df['embedding_method'] = result_df['embedding_method'].fillna('no_embedding')\n",
    "# projected and source norm are not applicable if similarity is cosine\n",
    "result_df.loc[result_df['similarity'] == 'cosine',['source_norm', 'projected_norm']] = 'not_applicable'\n",
    "# default value for norms for remainder \n",
    "result_df['source_norm'] = result_df['source_norm'].fillna('l2')\n",
    "result_df['projected_norm'] = result_df['projected_norm'].fillna('l1')"
   ]
  },
  {
   "cell_type": "code",
   "execution_count": 51,
   "metadata": {},
   "outputs": [],
   "source": [
    "fillna_dict = {\n",
    "               'similarity': 'projection',\n",
    "               'split_func': 'split_func3',\n",
    "               'count_vect_type': 'TfidfVectorizer',\n",
    "               'use_idf': False,\n",
    "               'binary': False,\n",
    "              }\n",
    "for key, val in fillna_dict.items():\n",
    "    result_df[key] = result_df[key].fillna(val)"
   ]
  },
  {
   "cell_type": "code",
   "execution_count": 52,
   "metadata": {},
   "outputs": [
    {
     "data": {
      "text/html": [
       "<div>\n",
       "<style scoped>\n",
       "    .dataframe tbody tr th:only-of-type {\n",
       "        vertical-align: middle;\n",
       "    }\n",
       "\n",
       "    .dataframe tbody tr th {\n",
       "        vertical-align: top;\n",
       "    }\n",
       "\n",
       "    .dataframe thead th {\n",
       "        text-align: right;\n",
       "    }\n",
       "</style>\n",
       "<table border=\"1\" class=\"dataframe\">\n",
       "  <thead>\n",
       "    <tr style=\"text-align: right;\">\n",
       "      <th></th>\n",
       "      <th></th>\n",
       "      <th></th>\n",
       "      <th></th>\n",
       "      <th></th>\n",
       "      <th></th>\n",
       "      <th></th>\n",
       "      <th></th>\n",
       "      <th></th>\n",
       "      <th></th>\n",
       "      <th></th>\n",
       "      <th></th>\n",
       "      <th>mean_fit_time</th>\n",
       "      <th>std_fit_time</th>\n",
       "      <th>mean_score_time</th>\n",
       "      <th>std_score_time</th>\n",
       "      <th>split0_test_similarity</th>\n",
       "      <th>split1_test_similarity</th>\n",
       "      <th>split2_test_similarity</th>\n",
       "      <th>split3_test_similarity</th>\n",
       "      <th>split4_test_similarity</th>\n",
       "      <th>split5_test_similarity</th>\n",
       "      <th>...</th>\n",
       "      <th>split2_test_accuracy</th>\n",
       "      <th>split3_test_accuracy</th>\n",
       "      <th>split4_test_accuracy</th>\n",
       "      <th>split5_test_accuracy</th>\n",
       "      <th>split6_test_accuracy</th>\n",
       "      <th>split7_test_accuracy</th>\n",
       "      <th>mean_test_accuracy</th>\n",
       "      <th>std_test_accuracy</th>\n",
       "      <th>rank_test_accuracy</th>\n",
       "      <th>run</th>\n",
       "    </tr>\n",
       "    <tr>\n",
       "      <th>split_func</th>\n",
       "      <th>stop_words</th>\n",
       "      <th>strip_accents</th>\n",
       "      <th>binary</th>\n",
       "      <th>use_idf</th>\n",
       "      <th>ngram_range</th>\n",
       "      <th>similarity</th>\n",
       "      <th>projected_norm</th>\n",
       "      <th>source_norm</th>\n",
       "      <th>count_vect_type</th>\n",
       "      <th>scoring</th>\n",
       "      <th>embedding_method</th>\n",
       "      <th></th>\n",
       "      <th></th>\n",
       "      <th></th>\n",
       "      <th></th>\n",
       "      <th></th>\n",
       "      <th></th>\n",
       "      <th></th>\n",
       "      <th></th>\n",
       "      <th></th>\n",
       "      <th></th>\n",
       "      <th></th>\n",
       "      <th></th>\n",
       "      <th></th>\n",
       "      <th></th>\n",
       "      <th></th>\n",
       "      <th></th>\n",
       "      <th></th>\n",
       "      <th></th>\n",
       "      <th></th>\n",
       "      <th></th>\n",
       "      <th></th>\n",
       "    </tr>\n",
       "  </thead>\n",
       "  <tbody>\n",
       "    <tr>\n",
       "      <th rowspan=\"5\" valign=\"top\">split_func3</th>\n",
       "      <th rowspan=\"5\" valign=\"top\">stop_word_list</th>\n",
       "      <th rowspan=\"5\" valign=\"top\">accent_removal</th>\n",
       "      <th>True</th>\n",
       "      <th>False</th>\n",
       "      <th>bigrams</th>\n",
       "      <th>projection</th>\n",
       "      <th>l2</th>\n",
       "      <th>l2</th>\n",
       "      <th>TfidfVectorizer</th>\n",
       "      <th>not_applicable</th>\n",
       "      <th>not_applicable</th>\n",
       "      <td>1.294689</td>\n",
       "      <td>0.100355</td>\n",
       "      <td>0.902113</td>\n",
       "      <td>0.066901</td>\n",
       "      <td>0.178339</td>\n",
       "      <td>0.158652</td>\n",
       "      <td>0.168862</td>\n",
       "      <td>0.209605</td>\n",
       "      <td>0.198175</td>\n",
       "      <td>0.175983</td>\n",
       "      <td>...</td>\n",
       "      <td>0.06</td>\n",
       "      <td>0.12</td>\n",
       "      <td>0.06</td>\n",
       "      <td>0.10</td>\n",
       "      <td>0.02</td>\n",
       "      <td>0.08</td>\n",
       "      <td>0.0700</td>\n",
       "      <td>0.028284</td>\n",
       "      <td>33</td>\n",
       "      <td>2.0</td>\n",
       "    </tr>\n",
       "    <tr>\n",
       "      <th rowspan=\"4\" valign=\"top\">False</th>\n",
       "      <th rowspan=\"4\" valign=\"top\">False</th>\n",
       "      <th>quadgrams</th>\n",
       "      <th>cosine</th>\n",
       "      <th>not_applicable</th>\n",
       "      <th>not_applicable</th>\n",
       "      <th>TfidfVectorizer</th>\n",
       "      <th>default</th>\n",
       "      <th>no_embedding</th>\n",
       "      <td>1.781962</td>\n",
       "      <td>0.128471</td>\n",
       "      <td>1.393267</td>\n",
       "      <td>0.146301</td>\n",
       "      <td>0.444685</td>\n",
       "      <td>0.647609</td>\n",
       "      <td>0.478009</td>\n",
       "      <td>0.560196</td>\n",
       "      <td>0.662707</td>\n",
       "      <td>0.518518</td>\n",
       "      <td>...</td>\n",
       "      <td>0.20</td>\n",
       "      <td>0.20</td>\n",
       "      <td>0.22</td>\n",
       "      <td>0.20</td>\n",
       "      <td>0.16</td>\n",
       "      <td>0.14</td>\n",
       "      <td>0.1925</td>\n",
       "      <td>0.035969</td>\n",
       "      <td>24</td>\n",
       "      <td>7.0</td>\n",
       "    </tr>\n",
       "    <tr>\n",
       "      <th>bigrams</th>\n",
       "      <th>projection</th>\n",
       "      <th>l5</th>\n",
       "      <th>l8</th>\n",
       "      <th>TfidfVectorizer</th>\n",
       "      <th>not_applicable</th>\n",
       "      <th>not_applicable</th>\n",
       "      <td>1.184457</td>\n",
       "      <td>0.083433</td>\n",
       "      <td>0.834175</td>\n",
       "      <td>0.086871</td>\n",
       "      <td>0.464107</td>\n",
       "      <td>0.494229</td>\n",
       "      <td>0.473782</td>\n",
       "      <td>0.416605</td>\n",
       "      <td>0.486795</td>\n",
       "      <td>0.497416</td>\n",
       "      <td>...</td>\n",
       "      <td>0.22</td>\n",
       "      <td>0.14</td>\n",
       "      <td>0.18</td>\n",
       "      <td>0.22</td>\n",
       "      <td>0.18</td>\n",
       "      <td>0.12</td>\n",
       "      <td>0.1725</td>\n",
       "      <td>0.033072</td>\n",
       "      <td>32</td>\n",
       "      <td>2.0</td>\n",
       "    </tr>\n",
       "    <tr>\n",
       "      <th>quintgrams</th>\n",
       "      <th>projection</th>\n",
       "      <th>l3</th>\n",
       "      <th>l4</th>\n",
       "      <th>TfidfVectorizer</th>\n",
       "      <th>not_applicable</th>\n",
       "      <th>not_applicable</th>\n",
       "      <td>2.091667</td>\n",
       "      <td>0.107070</td>\n",
       "      <td>1.043922</td>\n",
       "      <td>0.128057</td>\n",
       "      <td>0.578524</td>\n",
       "      <td>0.651197</td>\n",
       "      <td>0.552464</td>\n",
       "      <td>0.614125</td>\n",
       "      <td>0.629997</td>\n",
       "      <td>0.619385</td>\n",
       "      <td>...</td>\n",
       "      <td>0.26</td>\n",
       "      <td>0.24</td>\n",
       "      <td>0.22</td>\n",
       "      <td>0.30</td>\n",
       "      <td>0.24</td>\n",
       "      <td>0.18</td>\n",
       "      <td>0.2400</td>\n",
       "      <td>0.031623</td>\n",
       "      <td>4</td>\n",
       "      <td>7.0</td>\n",
       "    </tr>\n",
       "    <tr>\n",
       "      <th>bigrams</th>\n",
       "      <th>cosine</th>\n",
       "      <th>not_applicable</th>\n",
       "      <th>not_applicable</th>\n",
       "      <th>TfidfVectorizer</th>\n",
       "      <th>default</th>\n",
       "      <th>no_embedding</th>\n",
       "      <td>1.351445</td>\n",
       "      <td>0.102006</td>\n",
       "      <td>1.293847</td>\n",
       "      <td>0.096154</td>\n",
       "      <td>0.444685</td>\n",
       "      <td>0.648166</td>\n",
       "      <td>0.478952</td>\n",
       "      <td>0.560196</td>\n",
       "      <td>0.662707</td>\n",
       "      <td>0.519592</td>\n",
       "      <td>...</td>\n",
       "      <td>0.20</td>\n",
       "      <td>0.20</td>\n",
       "      <td>0.22</td>\n",
       "      <td>0.20</td>\n",
       "      <td>0.18</td>\n",
       "      <td>0.16</td>\n",
       "      <td>0.1975</td>\n",
       "      <td>0.030721</td>\n",
       "      <td>21</td>\n",
       "      <td>1.0</td>\n",
       "    </tr>\n",
       "  </tbody>\n",
       "</table>\n",
       "<p>5 rows × 27 columns</p>\n",
       "</div>"
      ],
      "text/latex": [
       "\\resizebox{\\linewidth}{!}{\\begin{scriptsize}\\centering{\\begin{tabular}{llllllllllllrrrrrrrrrrrrrrrrrrrrrrrrrrr}\n",
       "\\toprule\n",
       "            &                &                &       &       &         &        &                &                &                 &         &              &  mean\\_fit\\_time &  std\\_fit\\_time &  mean\\_score\\_time &  std\\_score\\_time &  split0\\_test\\_similarity &  split1\\_test\\_similarity &  split2\\_test\\_similarity &  split3\\_test\\_similarity &  split4\\_test\\_similarity &  split5\\_test\\_similarity &  split6\\_test\\_similarity &  split7\\_test\\_similarity &  mean\\_test\\_similarity &  std\\_test\\_similarity &  rank\\_test\\_similarity &  split0\\_test\\_accuracy &  split1\\_test\\_accuracy &  split2\\_test\\_accuracy &  split3\\_test\\_accuracy &  split4\\_test\\_accuracy &  split5\\_test\\_accuracy &  split6\\_test\\_accuracy &  split7\\_test\\_accuracy &  mean\\_test\\_accuracy &  std\\_test\\_accuracy &  rank\\_test\\_accuracy &  run \\\\\n",
       "split\\_func & stop\\_words & strip\\_accents & binary & use\\_idf & ngram\\_range & similarity & projected\\_norm & source\\_norm & count\\_vect\\_type & scoring & embedding\\_method &                &               &                  &                 &                         &                         &                         &                         &                         &                         &                         &                         &                       &                      &                       &                       &                       &                       &                       &                       &                       &                       &                       &                     &                    &                     &      \\\\\n",
       "\\midrule\n",
       "split\\_func3 & stop\\_word\\_list & accent\\_removal & True  & False & bigrams & projection & l2 & l2 & TfidfVectorizer & not\\_applicable & not\\_applicable &       1.294689 &      0.100355 &         0.902113 &        0.066901 &                0.178339 &                0.158652 &                0.168862 &                0.209605 &                0.198175 &                0.175983 &                0.130726 &                0.211372 &              0.178964 &             0.025517 &                    33 &                  0.06 &                  0.06 &                  0.06 &                  0.12 &                  0.06 &                  0.10 &                  0.02 &                  0.08 &              0.0700 &           0.028284 &                  33 &  2.0 \\\\\n",
       "            &                &                & False & False & quadgrams & cosine & not\\_applicable & not\\_applicable & TfidfVectorizer & default & no\\_embedding &       1.781962 &      0.128471 &         1.393267 &        0.146301 &                0.444685 &                0.647609 &                0.478009 &                0.560196 &                0.662707 &                0.518518 &                0.507357 &                0.510511 &              0.541199 &             0.072765 &                    23 &                  0.16 &                  0.26 &                  0.20 &                  0.20 &                  0.22 &                  0.20 &                  0.16 &                  0.14 &              0.1925 &           0.035969 &                  24 &  7.0 \\\\\n",
       "            &                &                &       &       & bigrams & projection & l5 & l8 & TfidfVectorizer & not\\_applicable & not\\_applicable &       1.184457 &      0.083433 &         0.834175 &        0.086871 &                0.464107 &                0.494229 &                0.473782 &                0.416605 &                0.486795 &                0.497416 &                0.469652 &                0.526745 &              0.478666 &             0.029875 &                    32 &                  0.16 &                  0.16 &                  0.22 &                  0.14 &                  0.18 &                  0.22 &                  0.18 &                  0.12 &              0.1725 &           0.033072 &                  32 &  2.0 \\\\\n",
       "            &                &                &       &       & quintgrams & projection & l3 & l4 & TfidfVectorizer & not\\_applicable & not\\_applicable &       2.091667 &      0.107070 &         1.043922 &        0.128057 &                0.578524 &                0.651197 &                0.552464 &                0.614125 &                0.629997 &                0.619385 &                0.583509 &                0.640551 &              0.608719 &             0.031869 &                     5 &                  0.24 &                  0.24 &                  0.26 &                  0.24 &                  0.22 &                  0.30 &                  0.24 &                  0.18 &              0.2400 &           0.031623 &                   4 &  7.0 \\\\\n",
       "            &                &                &       &       & bigrams & cosine & not\\_applicable & not\\_applicable & TfidfVectorizer & default & no\\_embedding &       1.351445 &      0.102006 &         1.293847 &        0.096154 &                0.444685 &                0.648166 &                0.478952 &                0.560196 &                0.662707 &                0.519592 &                0.510297 &                0.530079 &              0.544334 &             0.071784 &                    22 &                  0.16 &                  0.26 &                  0.20 &                  0.20 &                  0.22 &                  0.20 &                  0.18 &                  0.16 &              0.1975 &           0.030721 &                  21 &  1.0 \\\\\n",
       "\\bottomrule\n",
       "\\end{tabular}\n",
       "}\\end{scriptsize}}"
      ],
      "text/plain": [
       "                                                                                                                                                               mean_fit_time  \\\n",
       "split_func  stop_words     strip_accents  binary use_idf ngram_range similarity projected_norm source_norm    count_vect_type scoring        embedding_method                  \n",
       "split_func3 stop_word_list accent_removal True   False   bigrams     projection l2             l2             TfidfVectorizer not_applicable not_applicable         1.294689   \n",
       "                                          False  False   quadgrams   cosine     not_applicable not_applicable TfidfVectorizer default        no_embedding           1.781962   \n",
       "                                                         bigrams     projection l5             l8             TfidfVectorizer not_applicable not_applicable         1.184457   \n",
       "                                                         quintgrams  projection l3             l4             TfidfVectorizer not_applicable not_applicable         2.091667   \n",
       "                                                         bigrams     cosine     not_applicable not_applicable TfidfVectorizer default        no_embedding           1.351445   \n",
       "\n",
       "                                                                                                                                                               std_fit_time  \\\n",
       "split_func  stop_words     strip_accents  binary use_idf ngram_range similarity projected_norm source_norm    count_vect_type scoring        embedding_method                 \n",
       "split_func3 stop_word_list accent_removal True   False   bigrams     projection l2             l2             TfidfVectorizer not_applicable not_applicable        0.100355   \n",
       "                                          False  False   quadgrams   cosine     not_applicable not_applicable TfidfVectorizer default        no_embedding          0.128471   \n",
       "                                                         bigrams     projection l5             l8             TfidfVectorizer not_applicable not_applicable        0.083433   \n",
       "                                                         quintgrams  projection l3             l4             TfidfVectorizer not_applicable not_applicable        0.107070   \n",
       "                                                         bigrams     cosine     not_applicable not_applicable TfidfVectorizer default        no_embedding          0.102006   \n",
       "\n",
       "                                                                                                                                                               mean_score_time  \\\n",
       "split_func  stop_words     strip_accents  binary use_idf ngram_range similarity projected_norm source_norm    count_vect_type scoring        embedding_method                    \n",
       "split_func3 stop_word_list accent_removal True   False   bigrams     projection l2             l2             TfidfVectorizer not_applicable not_applicable           0.902113   \n",
       "                                          False  False   quadgrams   cosine     not_applicable not_applicable TfidfVectorizer default        no_embedding             1.393267   \n",
       "                                                         bigrams     projection l5             l8             TfidfVectorizer not_applicable not_applicable           0.834175   \n",
       "                                                         quintgrams  projection l3             l4             TfidfVectorizer not_applicable not_applicable           1.043922   \n",
       "                                                         bigrams     cosine     not_applicable not_applicable TfidfVectorizer default        no_embedding             1.293847   \n",
       "\n",
       "                                                                                                                                                               std_score_time  \\\n",
       "split_func  stop_words     strip_accents  binary use_idf ngram_range similarity projected_norm source_norm    count_vect_type scoring        embedding_method                   \n",
       "split_func3 stop_word_list accent_removal True   False   bigrams     projection l2             l2             TfidfVectorizer not_applicable not_applicable          0.066901   \n",
       "                                          False  False   quadgrams   cosine     not_applicable not_applicable TfidfVectorizer default        no_embedding            0.146301   \n",
       "                                                         bigrams     projection l5             l8             TfidfVectorizer not_applicable not_applicable          0.086871   \n",
       "                                                         quintgrams  projection l3             l4             TfidfVectorizer not_applicable not_applicable          0.128057   \n",
       "                                                         bigrams     cosine     not_applicable not_applicable TfidfVectorizer default        no_embedding            0.096154   \n",
       "\n",
       "                                                                                                                                                               split0_test_similarity  \\\n",
       "split_func  stop_words     strip_accents  binary use_idf ngram_range similarity projected_norm source_norm    count_vect_type scoring        embedding_method                           \n",
       "split_func3 stop_word_list accent_removal True   False   bigrams     projection l2             l2             TfidfVectorizer not_applicable not_applicable                  0.178339   \n",
       "                                          False  False   quadgrams   cosine     not_applicable not_applicable TfidfVectorizer default        no_embedding                    0.444685   \n",
       "                                                         bigrams     projection l5             l8             TfidfVectorizer not_applicable not_applicable                  0.464107   \n",
       "                                                         quintgrams  projection l3             l4             TfidfVectorizer not_applicable not_applicable                  0.578524   \n",
       "                                                         bigrams     cosine     not_applicable not_applicable TfidfVectorizer default        no_embedding                    0.444685   \n",
       "\n",
       "                                                                                                                                                               split1_test_similarity  \\\n",
       "split_func  stop_words     strip_accents  binary use_idf ngram_range similarity projected_norm source_norm    count_vect_type scoring        embedding_method                           \n",
       "split_func3 stop_word_list accent_removal True   False   bigrams     projection l2             l2             TfidfVectorizer not_applicable not_applicable                  0.158652   \n",
       "                                          False  False   quadgrams   cosine     not_applicable not_applicable TfidfVectorizer default        no_embedding                    0.647609   \n",
       "                                                         bigrams     projection l5             l8             TfidfVectorizer not_applicable not_applicable                  0.494229   \n",
       "                                                         quintgrams  projection l3             l4             TfidfVectorizer not_applicable not_applicable                  0.651197   \n",
       "                                                         bigrams     cosine     not_applicable not_applicable TfidfVectorizer default        no_embedding                    0.648166   \n",
       "\n",
       "                                                                                                                                                               split2_test_similarity  \\\n",
       "split_func  stop_words     strip_accents  binary use_idf ngram_range similarity projected_norm source_norm    count_vect_type scoring        embedding_method                           \n",
       "split_func3 stop_word_list accent_removal True   False   bigrams     projection l2             l2             TfidfVectorizer not_applicable not_applicable                  0.168862   \n",
       "                                          False  False   quadgrams   cosine     not_applicable not_applicable TfidfVectorizer default        no_embedding                    0.478009   \n",
       "                                                         bigrams     projection l5             l8             TfidfVectorizer not_applicable not_applicable                  0.473782   \n",
       "                                                         quintgrams  projection l3             l4             TfidfVectorizer not_applicable not_applicable                  0.552464   \n",
       "                                                         bigrams     cosine     not_applicable not_applicable TfidfVectorizer default        no_embedding                    0.478952   \n",
       "\n",
       "                                                                                                                                                               split3_test_similarity  \\\n",
       "split_func  stop_words     strip_accents  binary use_idf ngram_range similarity projected_norm source_norm    count_vect_type scoring        embedding_method                           \n",
       "split_func3 stop_word_list accent_removal True   False   bigrams     projection l2             l2             TfidfVectorizer not_applicable not_applicable                  0.209605   \n",
       "                                          False  False   quadgrams   cosine     not_applicable not_applicable TfidfVectorizer default        no_embedding                    0.560196   \n",
       "                                                         bigrams     projection l5             l8             TfidfVectorizer not_applicable not_applicable                  0.416605   \n",
       "                                                         quintgrams  projection l3             l4             TfidfVectorizer not_applicable not_applicable                  0.614125   \n",
       "                                                         bigrams     cosine     not_applicable not_applicable TfidfVectorizer default        no_embedding                    0.560196   \n",
       "\n",
       "                                                                                                                                                               split4_test_similarity  \\\n",
       "split_func  stop_words     strip_accents  binary use_idf ngram_range similarity projected_norm source_norm    count_vect_type scoring        embedding_method                           \n",
       "split_func3 stop_word_list accent_removal True   False   bigrams     projection l2             l2             TfidfVectorizer not_applicable not_applicable                  0.198175   \n",
       "                                          False  False   quadgrams   cosine     not_applicable not_applicable TfidfVectorizer default        no_embedding                    0.662707   \n",
       "                                                         bigrams     projection l5             l8             TfidfVectorizer not_applicable not_applicable                  0.486795   \n",
       "                                                         quintgrams  projection l3             l4             TfidfVectorizer not_applicable not_applicable                  0.629997   \n",
       "                                                         bigrams     cosine     not_applicable not_applicable TfidfVectorizer default        no_embedding                    0.662707   \n",
       "\n",
       "                                                                                                                                                               split5_test_similarity  \\\n",
       "split_func  stop_words     strip_accents  binary use_idf ngram_range similarity projected_norm source_norm    count_vect_type scoring        embedding_method                           \n",
       "split_func3 stop_word_list accent_removal True   False   bigrams     projection l2             l2             TfidfVectorizer not_applicable not_applicable                  0.175983   \n",
       "                                          False  False   quadgrams   cosine     not_applicable not_applicable TfidfVectorizer default        no_embedding                    0.518518   \n",
       "                                                         bigrams     projection l5             l8             TfidfVectorizer not_applicable not_applicable                  0.497416   \n",
       "                                                         quintgrams  projection l3             l4             TfidfVectorizer not_applicable not_applicable                  0.619385   \n",
       "                                                         bigrams     cosine     not_applicable not_applicable TfidfVectorizer default        no_embedding                    0.519592   \n",
       "\n",
       "                                                                                                                                                               ...  \\\n",
       "split_func  stop_words     strip_accents  binary use_idf ngram_range similarity projected_norm source_norm    count_vect_type scoring        embedding_method  ...   \n",
       "split_func3 stop_word_list accent_removal True   False   bigrams     projection l2             l2             TfidfVectorizer not_applicable not_applicable    ...   \n",
       "                                          False  False   quadgrams   cosine     not_applicable not_applicable TfidfVectorizer default        no_embedding      ...   \n",
       "                                                         bigrams     projection l5             l8             TfidfVectorizer not_applicable not_applicable    ...   \n",
       "                                                         quintgrams  projection l3             l4             TfidfVectorizer not_applicable not_applicable    ...   \n",
       "                                                         bigrams     cosine     not_applicable not_applicable TfidfVectorizer default        no_embedding      ...   \n",
       "\n",
       "                                                                                                                                                               split2_test_accuracy  \\\n",
       "split_func  stop_words     strip_accents  binary use_idf ngram_range similarity projected_norm source_norm    count_vect_type scoring        embedding_method                         \n",
       "split_func3 stop_word_list accent_removal True   False   bigrams     projection l2             l2             TfidfVectorizer not_applicable not_applicable                    0.06   \n",
       "                                          False  False   quadgrams   cosine     not_applicable not_applicable TfidfVectorizer default        no_embedding                      0.20   \n",
       "                                                         bigrams     projection l5             l8             TfidfVectorizer not_applicable not_applicable                    0.22   \n",
       "                                                         quintgrams  projection l3             l4             TfidfVectorizer not_applicable not_applicable                    0.26   \n",
       "                                                         bigrams     cosine     not_applicable not_applicable TfidfVectorizer default        no_embedding                      0.20   \n",
       "\n",
       "                                                                                                                                                               split3_test_accuracy  \\\n",
       "split_func  stop_words     strip_accents  binary use_idf ngram_range similarity projected_norm source_norm    count_vect_type scoring        embedding_method                         \n",
       "split_func3 stop_word_list accent_removal True   False   bigrams     projection l2             l2             TfidfVectorizer not_applicable not_applicable                    0.12   \n",
       "                                          False  False   quadgrams   cosine     not_applicable not_applicable TfidfVectorizer default        no_embedding                      0.20   \n",
       "                                                         bigrams     projection l5             l8             TfidfVectorizer not_applicable not_applicable                    0.14   \n",
       "                                                         quintgrams  projection l3             l4             TfidfVectorizer not_applicable not_applicable                    0.24   \n",
       "                                                         bigrams     cosine     not_applicable not_applicable TfidfVectorizer default        no_embedding                      0.20   \n",
       "\n",
       "                                                                                                                                                               split4_test_accuracy  \\\n",
       "split_func  stop_words     strip_accents  binary use_idf ngram_range similarity projected_norm source_norm    count_vect_type scoring        embedding_method                         \n",
       "split_func3 stop_word_list accent_removal True   False   bigrams     projection l2             l2             TfidfVectorizer not_applicable not_applicable                    0.06   \n",
       "                                          False  False   quadgrams   cosine     not_applicable not_applicable TfidfVectorizer default        no_embedding                      0.22   \n",
       "                                                         bigrams     projection l5             l8             TfidfVectorizer not_applicable not_applicable                    0.18   \n",
       "                                                         quintgrams  projection l3             l4             TfidfVectorizer not_applicable not_applicable                    0.22   \n",
       "                                                         bigrams     cosine     not_applicable not_applicable TfidfVectorizer default        no_embedding                      0.22   \n",
       "\n",
       "                                                                                                                                                               split5_test_accuracy  \\\n",
       "split_func  stop_words     strip_accents  binary use_idf ngram_range similarity projected_norm source_norm    count_vect_type scoring        embedding_method                         \n",
       "split_func3 stop_word_list accent_removal True   False   bigrams     projection l2             l2             TfidfVectorizer not_applicable not_applicable                    0.10   \n",
       "                                          False  False   quadgrams   cosine     not_applicable not_applicable TfidfVectorizer default        no_embedding                      0.20   \n",
       "                                                         bigrams     projection l5             l8             TfidfVectorizer not_applicable not_applicable                    0.22   \n",
       "                                                         quintgrams  projection l3             l4             TfidfVectorizer not_applicable not_applicable                    0.30   \n",
       "                                                         bigrams     cosine     not_applicable not_applicable TfidfVectorizer default        no_embedding                      0.20   \n",
       "\n",
       "                                                                                                                                                               split6_test_accuracy  \\\n",
       "split_func  stop_words     strip_accents  binary use_idf ngram_range similarity projected_norm source_norm    count_vect_type scoring        embedding_method                         \n",
       "split_func3 stop_word_list accent_removal True   False   bigrams     projection l2             l2             TfidfVectorizer not_applicable not_applicable                    0.02   \n",
       "                                          False  False   quadgrams   cosine     not_applicable not_applicable TfidfVectorizer default        no_embedding                      0.16   \n",
       "                                                         bigrams     projection l5             l8             TfidfVectorizer not_applicable not_applicable                    0.18   \n",
       "                                                         quintgrams  projection l3             l4             TfidfVectorizer not_applicable not_applicable                    0.24   \n",
       "                                                         bigrams     cosine     not_applicable not_applicable TfidfVectorizer default        no_embedding                      0.18   \n",
       "\n",
       "                                                                                                                                                               split7_test_accuracy  \\\n",
       "split_func  stop_words     strip_accents  binary use_idf ngram_range similarity projected_norm source_norm    count_vect_type scoring        embedding_method                         \n",
       "split_func3 stop_word_list accent_removal True   False   bigrams     projection l2             l2             TfidfVectorizer not_applicable not_applicable                    0.08   \n",
       "                                          False  False   quadgrams   cosine     not_applicable not_applicable TfidfVectorizer default        no_embedding                      0.14   \n",
       "                                                         bigrams     projection l5             l8             TfidfVectorizer not_applicable not_applicable                    0.12   \n",
       "                                                         quintgrams  projection l3             l4             TfidfVectorizer not_applicable not_applicable                    0.18   \n",
       "                                                         bigrams     cosine     not_applicable not_applicable TfidfVectorizer default        no_embedding                      0.16   \n",
       "\n",
       "                                                                                                                                                               mean_test_accuracy  \\\n",
       "split_func  stop_words     strip_accents  binary use_idf ngram_range similarity projected_norm source_norm    count_vect_type scoring        embedding_method                       \n",
       "split_func3 stop_word_list accent_removal True   False   bigrams     projection l2             l2             TfidfVectorizer not_applicable not_applicable                0.0700   \n",
       "                                          False  False   quadgrams   cosine     not_applicable not_applicable TfidfVectorizer default        no_embedding                  0.1925   \n",
       "                                                         bigrams     projection l5             l8             TfidfVectorizer not_applicable not_applicable                0.1725   \n",
       "                                                         quintgrams  projection l3             l4             TfidfVectorizer not_applicable not_applicable                0.2400   \n",
       "                                                         bigrams     cosine     not_applicable not_applicable TfidfVectorizer default        no_embedding                  0.1975   \n",
       "\n",
       "                                                                                                                                                               std_test_accuracy  \\\n",
       "split_func  stop_words     strip_accents  binary use_idf ngram_range similarity projected_norm source_norm    count_vect_type scoring        embedding_method                      \n",
       "split_func3 stop_word_list accent_removal True   False   bigrams     projection l2             l2             TfidfVectorizer not_applicable not_applicable             0.028284   \n",
       "                                          False  False   quadgrams   cosine     not_applicable not_applicable TfidfVectorizer default        no_embedding               0.035969   \n",
       "                                                         bigrams     projection l5             l8             TfidfVectorizer not_applicable not_applicable             0.033072   \n",
       "                                                         quintgrams  projection l3             l4             TfidfVectorizer not_applicable not_applicable             0.031623   \n",
       "                                                         bigrams     cosine     not_applicable not_applicable TfidfVectorizer default        no_embedding               0.030721   \n",
       "\n",
       "                                                                                                                                                               rank_test_accuracy  \\\n",
       "split_func  stop_words     strip_accents  binary use_idf ngram_range similarity projected_norm source_norm    count_vect_type scoring        embedding_method                       \n",
       "split_func3 stop_word_list accent_removal True   False   bigrams     projection l2             l2             TfidfVectorizer not_applicable not_applicable                    33   \n",
       "                                          False  False   quadgrams   cosine     not_applicable not_applicable TfidfVectorizer default        no_embedding                      24   \n",
       "                                                         bigrams     projection l5             l8             TfidfVectorizer not_applicable not_applicable                    32   \n",
       "                                                         quintgrams  projection l3             l4             TfidfVectorizer not_applicable not_applicable                     4   \n",
       "                                                         bigrams     cosine     not_applicable not_applicable TfidfVectorizer default        no_embedding                      21   \n",
       "\n",
       "                                                                                                                                                               run  \n",
       "split_func  stop_words     strip_accents  binary use_idf ngram_range similarity projected_norm source_norm    count_vect_type scoring        embedding_method       \n",
       "split_func3 stop_word_list accent_removal True   False   bigrams     projection l2             l2             TfidfVectorizer not_applicable not_applicable    2.0  \n",
       "                                          False  False   quadgrams   cosine     not_applicable not_applicable TfidfVectorizer default        no_embedding      7.0  \n",
       "                                                         bigrams     projection l5             l8             TfidfVectorizer not_applicable not_applicable    2.0  \n",
       "                                                         quintgrams  projection l3             l4             TfidfVectorizer not_applicable not_applicable    7.0  \n",
       "                                                         bigrams     cosine     not_applicable not_applicable TfidfVectorizer default        no_embedding      1.0  \n",
       "\n",
       "[5 rows x 27 columns]"
      ]
     },
     "execution_count": 52,
     "metadata": {},
     "output_type": "execute_result"
    }
   ],
   "source": [
    "parms = ['split_func',\n",
    "         'stop_words',\n",
    "         'strip_accents',\n",
    "         'binary',\n",
    "         'use_idf',\n",
    "         'ngram_range',\n",
    "         'similarity',\n",
    "         'projected_norm',\n",
    "         'source_norm',\n",
    "         'count_vect_type', \n",
    "         'scoring', \n",
    "         'embedding_method',\n",
    "        ]\n",
    "result_df.reset_index().set_index(parms).drop('index', axis=1).sort_index().sample(5)"
   ]
  },
  {
   "cell_type": "code",
   "execution_count": 53,
   "metadata": {},
   "outputs": [],
   "source": [
    "result_df.to_csv(Path('.') / 'model_tuning_results.csv')"
   ]
  },
  {
   "cell_type": "code",
   "execution_count": 54,
   "metadata": {},
   "outputs": [],
   "source": [
    "result_df = pd.read_csv(Path('.') / 'model_tuning_results.csv')"
   ]
  },
  {
   "cell_type": "markdown",
   "metadata": {},
   "source": [
    "#### Sélection des fonctions de preprocessing"
   ]
  },
  {
   "cell_type": "code",
   "execution_count": 55,
   "metadata": {},
   "outputs": [
    {
     "data": {
      "text/plain": [
       "Text(0.5, 0.95, 'Comparaison des fonctions de preprocessing')"
      ]
     },
     "execution_count": 55,
     "metadata": {},
     "output_type": "execute_result"
    },
    {
     "data": {
      "image/png": "[encoded data removed]",
      "text/plain": [
       "<Figure size 576x720 with 2 Axes>"
      ]
     },
     "metadata": {
      "needs_background": "light"
     },
     "output_type": "display_data"
    }
   ],
   "source": [
    "fig, axs = plt.subplots(nrows= 2, figsize=(8,10), sharex=True)\n",
    "\n",
    "feats = ['mean_test_similarity', 'mean_test_accuracy']\n",
    "\n",
    "parms = {'data': result_df.loc[result_df['run'] == 1],\n",
    "         'x': 'stop_words',\n",
    "         'hue': 'strip_accents',\n",
    "        }\n",
    "\n",
    "for i, feature in enumerate(feats):\n",
    "    swarm = sns.swarmplot(**parms,     \n",
    "                          y=feature,\n",
    "                          dodge=True,\n",
    "        #                   color='blue',\n",
    "                          ax=axs[i],\n",
    "                         )\n",
    "\n",
    "    sns.boxplot(**parms,\n",
    "                y=feature,\n",
    "                ax=axs[i],\n",
    "                color='white',\n",
    "                width=.6,\n",
    "                )\n",
    "\n",
    "    axs[i].set_ylim(0,)\n",
    "    axs[i].yaxis.set_major_formatter(mtick.PercentFormatter(xmax=1.))\n",
    "    axs[i].get_legend().remove()\n",
    "    axs[i].set_xlabel('')\n",
    "\n",
    "axs[1].set_xlabel('Gestion des stopwords', fontsize=12)\n",
    "axs[0].set_ylabel('Similarité moyenne', fontsize=12)\n",
    "axs[1].set_ylabel('Accuracy moyenne', fontsize=12)\n",
    "axs[1].set_xticklabels(['Pas de retrait de stopwords', 'Retrait des stopwords'])\n",
    "\n",
    "fig.legend(handles=axs[0].get_legend_handles_labels()[0][2:],\n",
    "           labels=['Conservation des accents', 'Retrait des accents'],\n",
    "           loc='center',\n",
    "           ncol=2,\n",
    "           bbox_to_anchor=(0, 1, 1, 0.12),\n",
    "           bbox_transform=axs[0].transAxes,\n",
    "          )\n",
    "\n",
    "fig.suptitle('Comparaison des fonctions de preprocessing', fontsize=16, y=.95)\n",
    "\n",
    "# fig.savefig(Path('..') / 'img' / 'tuning_prepro.png', bbox_inches='tight')"
   ]
  },
  {
   "cell_type": "markdown",
   "metadata": {},
   "source": [
    "#### Sélection de la fonction de split"
   ]
  },
  {
   "cell_type": "code",
   "execution_count": 56,
   "metadata": {},
   "outputs": [
    {
     "data": {
      "text/plain": [
       "Text(0.5, 0.92, 'Comparaison des fonctions de découpage')"
      ]
     },
     "execution_count": 56,
     "metadata": {},
     "output_type": "execute_result"
    },
    {
     "data": {
      "image/png": "[encoded data removed]",
      "text/plain": [
       "<Figure size 576x720 with 2 Axes>"
      ]
     },
     "metadata": {
      "needs_background": "light"
     },
     "output_type": "display_data"
    }
   ],
   "source": [
    "fig, axs = plt.subplots(nrows= 2, figsize=(8,10), sharex=True)\n",
    "\n",
    "feats = ['mean_test_similarity', 'mean_test_accuracy']\n",
    "\n",
    "parms = {'data': result_df.loc[result_df['run'] == 1],\n",
    "         'x': 'split_func',\n",
    "         'hue': None,\n",
    "        }\n",
    "\n",
    "for i, feature in enumerate(feats):\n",
    "    swarm = sns.swarmplot(**parms,     \n",
    "                          y=feature,\n",
    "                          dodge=True,\n",
    "        #                   color='blue',\n",
    "                          ax=axs[i],\n",
    "                         )\n",
    "\n",
    "    sns.boxplot(**parms,\n",
    "                y=feature,\n",
    "                ax=axs[i],\n",
    "                color='white',\n",
    "                width=.6,\n",
    "                )\n",
    "\n",
    "    axs[i].set_ylim(0,)\n",
    "    axs[i].yaxis.set_major_formatter(mtick.PercentFormatter(xmax=1.))\n",
    "#     axs[i].get_legend().remove()\n",
    "    axs[i].set_xlabel('')\n",
    "\n",
    "axs[1].set_xlabel('Fonction de découpage', fontsize=12)\n",
    "axs[0].set_ylabel('Similarité moyenne', fontsize=12)\n",
    "axs[1].set_ylabel('Accuracy moyenne', fontsize=12)\n",
    "axs[1].set_xticklabels(['Fonction 1', 'Fonction 2', 'Fonction 3'])\n",
    "\n",
    "# fig.legend(handles=axs[0].get_legend_handles_labels()[0][2:],\n",
    "#            labels=['Conservation des accents', 'Retrait des accents'],\n",
    "#            loc='center',\n",
    "#            ncol=2,\n",
    "#            bbox_to_anchor=(0, 1, 1, 0.12),\n",
    "#            bbox_transform=axs[0].transAxes,\n",
    "#           )\n",
    "\n",
    "fig.suptitle('Comparaison des fonctions de découpage', fontsize=16, y=.92)\n",
    "\n",
    "# fig.savefig(Path('..') / 'img' / 'tuning_split.png', bbox_inches='tight')"
   ]
  },
  {
   "cell_type": "markdown",
   "metadata": {},
   "source": [
    "#### Comparatif des similarités"
   ]
  },
  {
   "cell_type": "code",
   "execution_count": 57,
   "metadata": {},
   "outputs": [],
   "source": [
    "result_df['simil_kind'] = result_df['similarity'] + result_df['source_norm'] + result_df['projected_norm']"
   ]
  },
  {
   "cell_type": "code",
   "execution_count": 59,
   "metadata": {},
   "outputs": [
    {
     "data": {
      "text/plain": [
       "Text(0.5, 0.945, \"Comparaison des méthodes d'identification du meilleur candidat\")"
      ]
     },
     "execution_count": 59,
     "metadata": {},
     "output_type": "execute_result"
    },
    {
     "data": {
      "image/png": "[encoded data removed]",
      "text/plain": [
       "<Figure size 576x720 with 2 Axes>"
      ]
     },
     "metadata": {
      "needs_background": "light"
     },
     "output_type": "display_data"
    }
   ],
   "source": [
    "fig, axs = plt.subplots(nrows= 2, figsize=(8,10), sharex=True)\n",
    "\n",
    "feats = ['mean_test_similarity', 'mean_test_accuracy']\n",
    "\n",
    "parms = {'data': result_df.loc[(result_df['run'] == 2) & \n",
    "                               (result_df['strip_accents'] == 'accent_removal') &\n",
    "                               (result_df['stop_words'] == 'stop_word_list') &\n",
    "                               (result_df['scoring'].isin({'default', 'not_applicable'})) &\n",
    "                               (result_df['embedding_method'].isin({'no_embedding', 'not_applicable'}))],\n",
    "         'x': 'simil_kind',\n",
    "         'hue': None,\n",
    "        }\n",
    "\n",
    "patch_list = [\n",
    "              mpatch.Rectangle((-1, 0), 2.5, 1, color='green', alpha=.2, edgecolor=None),\n",
    "              mpatch.Rectangle((1.5, 0), 5, 1, color='blue', alpha=.2, edgecolor=None),\n",
    "              mpatch.Rectangle((6.5, 0), 5, 1, color='orange', alpha=.2, edgecolor=None),\n",
    "              mpatch.Rectangle((11.5, 0), 5, 1, color='red', alpha=.2, edgecolor=None),    \n",
    "              mpatch.Rectangle((16.5, 0), 2, 1, color='purple', alpha=.2, edgecolor=None),    \n",
    "              mpatch.Rectangle((-1, 0), 2.5, 1, color='green', alpha=.2, edgecolor=None),\n",
    "              mpatch.Rectangle((1.5, 0), 5, 1, color='blue', alpha=.2, edgecolor=None),\n",
    "              mpatch.Rectangle((6.5, 0), 5, 1, color='orange', alpha=.2, edgecolor=None),\n",
    "              mpatch.Rectangle((11.5, 0), 5, 1, color='red', alpha=.2, edgecolor=None),    \n",
    "              mpatch.Rectangle((16.5, 0), 2, 1, color='purple', alpha=.2, edgecolor=None),    \n",
    "             ]\n",
    "\n",
    "for i, feature in enumerate(feats):\n",
    "    swarm = sns.swarmplot(**parms,     \n",
    "                          y=feature,\n",
    "                          dodge=True,\n",
    "        #                   color='blue',\n",
    "                          ax=axs[i],\n",
    "                         )\n",
    "\n",
    "    axs[i].yaxis.set_major_formatter(mtick.PercentFormatter(xmax=1.))\n",
    "    axs[i].set_xlabel('')\n",
    "    for j in range(len(patch_list) // 2):\n",
    "        axs[i].add_patch(patch_list[i * len(patch_list) // 2 + j])\n",
    "\n",
    "axs[1].set_xlabel('Identification du meilleur candidat', fontsize=12)\n",
    "axs[0].set_ylabel('Similarité moyenne', fontsize=12)\n",
    "axs[1].set_ylabel('Accuracy moyenne', fontsize=12)\n",
    "labels = ['Proj. L1/L1',\n",
    "          'Proj. L2/L2',\n",
    "          'Proj. L2/L1',\n",
    "          'Proj. L3/L2',\n",
    "          'Proj. L4/L3',\n",
    "          'Proj. L5/L4',\n",
    "          'Proj. L6/L5',\n",
    "          'Proj. L3/L1',\n",
    "          'Proj. L4/L2',\n",
    "          'Proj. L5/L3',\n",
    "          'Proj. L6/L4',\n",
    "          'Proj. L7/L5',\n",
    "          'Proj. L4/L1',\n",
    "          'Proj. L5/L2',\n",
    "          'Proj. L6/L3',\n",
    "          'Proj. L7/L2',\n",
    "          'Proj. L8/L3', \n",
    "          'Cosinus']\n",
    "plt.setp(axs[1].xaxis.get_majorticklabels(), rotation=70)\n",
    "axs[1].set_xticklabels(labels)\n",
    "fig.legend(handles=patch_list[len(patch_list) // 2:],\n",
    "           labels=['Proj. delta=0', 'Proj. delta=1', 'Proj. delta=2', 'Proj. delta=3', 'Cosinus'],\n",
    "           loc='center',\n",
    "           ncol=5,\n",
    "           bbox_to_anchor=(0, 1, 1, 0.12),\n",
    "           bbox_transform=axs[0].transAxes,\n",
    "          )\n",
    "\n",
    "fig.suptitle(\"Comparaison des méthodes d'identification du meilleur candidat\", fontsize=16, y=.945)\n",
    "\n",
    "# fig.savefig(Path('..') / 'img' / 'tuning_similarite.png', bbox_inches='tight')"
   ]
  },
  {
   "cell_type": "code",
   "execution_count": 60,
   "metadata": {},
   "outputs": [
    {
     "data": {
      "text/plain": [
       "Text(0.5, 0.95, 'Comparaison des modes de vectorisation : idf')"
      ]
     },
     "execution_count": 60,
     "metadata": {},
     "output_type": "execute_result"
    },
    {
     "data": {
      "image/png": "[encoded data removed]",
      "text/plain": [
       "<Figure size 576x720 with 2 Axes>"
      ]
     },
     "metadata": {
      "needs_background": "light"
     },
     "output_type": "display_data"
    }
   ],
   "source": [
    "fig, axs = plt.subplots(nrows= 2, figsize=(8,10), sharex=True)\n",
    "\n",
    "feats = ['mean_test_similarity', 'mean_test_accuracy']\n",
    "\n",
    "parms = {'data': result_df.loc[result_df['run'] == 7],\n",
    "         'x': 'similarity',\n",
    "         'hue': 'use_idf',\n",
    "        }\n",
    "\n",
    "for i, feature in enumerate(feats):\n",
    "    swarm = sns.swarmplot(**parms,     \n",
    "                          y=feature,\n",
    "                          dodge=True,\n",
    "        #                   color='blue',\n",
    "                          ax=axs[i],\n",
    "                         )\n",
    "\n",
    "    sns.boxplot(**parms,\n",
    "                y=feature,\n",
    "                ax=axs[i],\n",
    "                color='white',\n",
    "                width=.6,\n",
    "                )\n",
    "\n",
    "    axs[i].set_ylim(0,)\n",
    "    axs[i].yaxis.set_major_formatter(mtick.PercentFormatter(xmax=1.))\n",
    "    axs[i].get_legend().remove()\n",
    "    axs[i].set_xlabel('')\n",
    "\n",
    "axs[1].set_xlabel('Identification du meilleur candidat', fontsize=12)\n",
    "axs[0].set_ylabel('Similarité moyenne', fontsize=12)\n",
    "axs[1].set_ylabel('Accuracy moyenne', fontsize=12)\n",
    "axs[1].set_xticklabels(['Cosinus', 'Projection L4/L3'])\n",
    "\n",
    "fig.legend(handles=axs[0].get_legend_handles_labels()[0][2:],\n",
    "           labels=[\"Sans inverse document frequency\", \"Avec calcul de l'inverse document frequency\"],\n",
    "           loc='center',\n",
    "           ncol=2,\n",
    "           bbox_to_anchor=(0, 1, 1, 0.12),\n",
    "           bbox_transform=axs[0].transAxes,\n",
    "          )\n",
    "\n",
    "fig.suptitle('Comparaison des modes de vectorisation : idf', fontsize=16, y=.95)\n",
    "\n",
    "# fig.savefig(Path('..') / 'img' / 'tuning_idf.png', bbox_inches='tight')"
   ]
  },
  {
   "cell_type": "code",
   "execution_count": 61,
   "metadata": {},
   "outputs": [
    {
     "data": {
      "text/plain": [
       "Text(0.5, 0.95, 'Comparaison des modes de vectorisation : n-grams')"
      ]
     },
     "execution_count": 61,
     "metadata": {},
     "output_type": "execute_result"
    },
    {
     "data": {
      "image/png": "[encoded data removed]",
      "text/plain": [
       "<Figure size 576x720 with 2 Axes>"
      ]
     },
     "metadata": {
      "needs_background": "light"
     },
     "output_type": "display_data"
    }
   ],
   "source": [
    "fig, axs = plt.subplots(nrows= 2, figsize=(8,10), sharex=True)\n",
    "\n",
    "feats = ['mean_test_similarity', 'mean_test_accuracy']\n",
    "\n",
    "parms = {'data': result_df.loc[(result_df['run'] == 7) &\n",
    "                               ((result_df['similarity'] == 'cosine') | # & result_df['use_idf'] |\n",
    "                                (result_df['similarity'] == 'projection') & ~result_df['use_idf'])\n",
    "                              ],\n",
    "         'x': 'similarity',\n",
    "         'hue': 'ngram_range',\n",
    "        }\n",
    "\n",
    "for i, feature in enumerate(feats):\n",
    "    swarm = sns.swarmplot(**parms,     \n",
    "                          y=feature,\n",
    "                          dodge=True,\n",
    "        #                   color='blue',\n",
    "                          ax=axs[i],\n",
    "                         )\n",
    "\n",
    "#     sns.boxplot(**parms,\n",
    "#                 y=feature,\n",
    "#                 ax=axs[i],\n",
    "#                 color='white',\n",
    "#                 width=.6,\n",
    "#                 )\n",
    "\n",
    "#     axs[i].set_ylim(0,)\n",
    "    axs[i].yaxis.set_major_formatter(mtick.PercentFormatter(xmax=1.))\n",
    "    axs[i].get_legend().remove()\n",
    "    axs[i].set_xlabel('')\n",
    "\n",
    "axs[1].set_xlabel('Identification du meilleur candidat', fontsize=12)\n",
    "axs[0].set_ylabel('Similarité moyenne', fontsize=12)\n",
    "axs[1].set_ylabel('Accuracy moyenne', fontsize=12)\n",
    "axs[1].set_xticklabels(['Cosinus', 'Projection L4/L3'])\n",
    "\n",
    "fig.legend(handles=axs[0].get_legend_handles_labels()[0][:],\n",
    "           labels=['Monogrammes', 'Bigrammes', 'Trigrammes', '4-grammes', '5-grammes'],\n",
    "           loc='center',\n",
    "           ncol=5,\n",
    "           bbox_to_anchor=(0, 1, 1, 0.12),\n",
    "           bbox_transform=axs[0].transAxes,\n",
    "          )\n",
    "\n",
    "fig.suptitle('Comparaison des modes de vectorisation : n-grams', fontsize=16, y=.95)\n",
    "\n",
    "# fig.savefig(Path('..') / 'img' / 'tuning_ngrams.png', bbox_inches='tight')"
   ]
  },
  {
   "cell_type": "code",
   "execution_count": 62,
   "metadata": {},
   "outputs": [
    {
     "data": {
      "text/plain": [
       "Text(0.5, 0.95, 'Comparaison des modes de vectorisation : Scores spécifiques')"
      ]
     },
     "execution_count": 62,
     "metadata": {},
     "output_type": "execute_result"
    }
   ],
   "source": [
    "# fig, axs = plt.subplots(nrows= 2, figsize=(8,10), sharex=True)\n",
    "\n",
    "feats = ['mean_test_similarity', 'mean_test_accuracy']\n",
    "\n",
    "parms = {'data': result_df.loc[(result_df['run'] == 5)\n",
    "                              ],\n",
    "         'x': 'scoring',\n",
    "         'hue': 'use_idf',\n",
    "        }\n",
    "\n",
    "for i, feature in enumerate(feats):\n",
    "    swarm = sns.swarmplot(**parms,     \n",
    "                          y=feature,\n",
    "                          dodge=True,\n",
    "        #                   color='blue',\n",
    "                          ax=axs[i],\n",
    "                         )\n",
    "\n",
    "    sns.boxplot(**parms,\n",
    "                y=feature,\n",
    "                ax=axs[i],\n",
    "                color='white',\n",
    "                width=.6,\n",
    "                )\n",
    "\n",
    "#     axs[i].set_ylim(0,)\n",
    "    axs[i].yaxis.set_major_formatter(mtick.PercentFormatter(xmax=1.))\n",
    "    axs[i].get_legend().remove()\n",
    "    axs[i].set_xlabel('')\n",
    "\n",
    "axs[1].set_xlabel('Identification du meilleur candidat', fontsize=12)\n",
    "axs[0].set_ylabel('Similarité moyenne', fontsize=12)\n",
    "axs[1].set_ylabel('Accuracy moyenne', fontsize=12)\n",
    "axs[1].set_xticklabels(['Sans score', 'Score absolu', 'Score relatif'])\n",
    "\n",
    "fig.legend(handles=axs[0].get_legend_handles_labels()[0][2:],\n",
    "           labels=[\"Sans idf\", \"Avec calcul de l'idf\"],\n",
    "           loc='center',\n",
    "           ncol=5,\n",
    "           bbox_to_anchor=(0, 1, 1, 0.12),\n",
    "           bbox_transform=axs[0].transAxes,\n",
    "          )\n",
    "\n",
    "fig.suptitle('Comparaison des modes de vectorisation : Scores spécifiques', fontsize=16, y=.95)\n",
    "\n",
    "# fig.savefig(Path('..') / 'img' / 'tuning_score.png', bbox_inches='tight')"
   ]
  },
  {
   "cell_type": "code",
   "execution_count": 63,
   "metadata": {},
   "outputs": [
    {
     "data": {
      "text/plain": [
       "Text(0.5, 0.95, 'Comparaison des modes de vectorisation : embeddings')"
      ]
     },
     "execution_count": 63,
     "metadata": {},
     "output_type": "execute_result"
    },
    {
     "data": {
      "image/png": "[encoded data removed]",
      "text/plain": [
       "<Figure size 576x720 with 2 Axes>"
      ]
     },
     "metadata": {
      "needs_background": "light"
     },
     "output_type": "display_data"
    }
   ],
   "source": [
    "fig, axs = plt.subplots(nrows= 2, figsize=(8,10), sharex=True)\n",
    "\n",
    "feats = ['mean_test_similarity', 'mean_test_accuracy']\n",
    "\n",
    "parms = {'data': result_df.loc[(result_df['run'] == 5)\n",
    "                              ],\n",
    "         'x': 'embedding_method',\n",
    "         'hue': 'scoring',\n",
    "        }\n",
    "\n",
    "for i, feature in enumerate(feats):\n",
    "    swarm = sns.swarmplot(**parms,     \n",
    "                          y=feature,\n",
    "                          dodge=True,\n",
    "        #                   color='blue',\n",
    "                          ax=axs[i],\n",
    "                         )\n",
    "\n",
    "    sns.boxplot(**parms,\n",
    "                y=feature,\n",
    "                ax=axs[i],\n",
    "                color='white',\n",
    "                width=.6,\n",
    "                )\n",
    "\n",
    "#     axs[i].set_ylim(0,)\n",
    "    axs[i].yaxis.set_major_formatter(mtick.PercentFormatter(xmax=1.))\n",
    "    axs[i].get_legend().remove()\n",
    "    axs[i].set_xlabel('')\n",
    "\n",
    "axs[1].set_xlabel('Identification du meilleur candidat', fontsize=12)\n",
    "axs[0].set_ylabel('Similarité moyenne', fontsize=12)\n",
    "axs[1].set_ylabel('Accuracy moyenne', fontsize=12)\n",
    "axs[1].set_xticklabels(['Sans embedding', 'Word2Vec', 'tSVD'])\n",
    "\n",
    "fig.legend(handles=axs[0].get_legend_handles_labels()[0][3:],\n",
    "           labels=[\"Sans scoring\", \"Score absolu\", \"Score relatif\"],\n",
    "           loc='center',\n",
    "           ncol=5,\n",
    "           bbox_to_anchor=(0, 1, 1, 0.12),\n",
    "           bbox_transform=axs[0].transAxes,\n",
    "          )\n",
    "\n",
    "fig.suptitle('Comparaison des modes de vectorisation : embeddings', fontsize=16, y=.95)\n",
    "\n",
    "# fig.savefig(Path('..') / 'img' / 'tuning_embedding.png', bbox_inches='tight')"
   ]
  },
  {
   "cell_type": "markdown",
   "metadata": {},
   "source": [
    "## Evaluation finale\n",
    "\n",
    "On évalue la performance du modèle avec les meilleurs paramètres sur le set de test, après entraînement sur le set d'entrainement."
   ]
  },
  {
   "cell_type": "code",
   "execution_count": 64,
   "metadata": {},
   "outputs": [
    {
     "name": "stdout",
     "output_type": "stream",
     "text": [
      "Launching 8 processes.\n",
      "Launching 8 processes.\n",
      "Levenshtein similarity at final evaluation: 67.18%\n",
      "Launching 8 processes.\n",
      "Accuracy at final evaluation: 27.00%\n"
     ]
    }
   ],
   "source": [
    "parm_dict = {'Splitter__splitter_func': splitter_funcs[2],\n",
    "             'SimilaritySelector__count_vect_type': 'TfidfVectorizer',\n",
    "             'SimilaritySelector__similarity': 'projection',\n",
    "             'SimilaritySelector__source_norm': 'l4',\n",
    "             'SimilaritySelector__projected_norm': 'l3',\n",
    "             'SimilaritySelector__count_vect_kwargs': {'ngram_range': (1, 3),\n",
    "                                                       'stop_words': stop_words,\n",
    "                                                       'strip_accents': 'unicode',\n",
    "                                                       'binary': True,\n",
    "                                                       'use_idf': False,\n",
    "                                                      }\n",
    "             \n",
    "             \n",
    "             \n",
    "            }\n",
    "\n",
    "process_pipe.set_params(**parm_dict)\n",
    "process_pipe.fit(train, train['ingredients'])\n",
    "print(f\"Levenshtein similarity at final evaluation: {lev_scorer(process_pipe, test, test['ingredients']):.2%}\")\n",
    "print(f\"Accuracy at final evaluation: {custom_accuracy(process_pipe, test, test['ingredients']):.2%}\")"
   ]
  },
  {
   "cell_type": "code",
   "execution_count": 65,
   "metadata": {},
   "outputs": [
    {
     "name": "stdout",
     "output_type": "stream",
     "text": [
      "Launching 8 processes.\n"
     ]
    }
   ],
   "source": [
    "predicted = process_pipe.predict(test)\n",
    "lev_sim = partial(text_similarity, similarity='levenshtein')"
   ]
  },
  {
   "cell_type": "code",
   "execution_count": 66,
   "metadata": {},
   "outputs": [
    {
     "data": {
      "text/html": [
       "<div>\n",
       "<style scoped>\n",
       "    .dataframe tbody tr th:only-of-type {\n",
       "        vertical-align: middle;\n",
       "    }\n",
       "\n",
       "    .dataframe tbody tr th {\n",
       "        vertical-align: top;\n",
       "    }\n",
       "\n",
       "    .dataframe thead th {\n",
       "        text-align: right;\n",
       "    }\n",
       "</style>\n",
       "<table border=\"1\" class=\"dataframe\">\n",
       "  <thead>\n",
       "    <tr style=\"text-align: right;\">\n",
       "      <th></th>\n",
       "      <th>Predicted</th>\n",
       "      <th>Target</th>\n",
       "      <th>Similarity</th>\n",
       "    </tr>\n",
       "    <tr>\n",
       "      <th>uid</th>\n",
       "      <th></th>\n",
       "      <th></th>\n",
       "      <th></th>\n",
       "    </tr>\n",
       "  </thead>\n",
       "  <tbody>\n",
       "    <tr>\n",
       "      <th>e51b7fd6-d878-47f8-a36b-f10f8d4087bd</th>\n",
       "      <td>1/2     1/4     1/8     1/16     1/32</td>\n",
       "      <td>Débris de truffes d'hiver, jus de truffes, sel</td>\n",
       "      <td>13.04%</td>\n",
       "    </tr>\n",
       "    <tr>\n",
       "      <th>f45db604-11ad-4756-aeab-3a5a1a34f914</th>\n",
       "      <td>Ingrédients: sucre; sirop de glucose; dextrose...</td>\n",
       "      <td>sucre; sirop de glucose; dextrose; gélatine; a...</td>\n",
       "      <td>93.58%</td>\n",
       "    </tr>\n",
       "    <tr>\n",
       "      <th>2ca5dc9e-8058-499a-affe-3ec9c06d55b7</th>\n",
       "      <td>Gastronome \\n70%A/30% R</td>\n",
       "      <td>100% Arabica</td>\n",
       "      <td>9.09%</td>\n",
       "    </tr>\n",
       "    <tr>\n",
       "      <th>2286f782-9d2e-410f-84c4-4ab88003a002</th>\n",
       "      <td>INGREDIENTS: Pêches et poires en cubes (avec l...</td>\n",
       "      <td>Pêches et poires en cubes (avec leur jus d'ori...</td>\n",
       "      <td>92.80%</td>\n",
       "    </tr>\n",
       "    <tr>\n",
       "      <th>21233a00-bc20-40fc-acb9-ee2e2321cac2</th>\n",
       "      <td>Boisson gazeuse aromatisée au jus de fruit à b...</td>\n",
       "      <td></td>\n",
       "      <td>0.00%</td>\n",
       "    </tr>\n",
       "  </tbody>\n",
       "</table>\n",
       "</div>"
      ],
      "text/latex": [
       "\\resizebox{\\linewidth}{!}{\\begin{scriptsize}\\centering{\\begin{tabular}{llll}\n",
       "\\toprule\n",
       "{} &                                          Predicted &                                             Target & Similarity \\\\\n",
       "uid                                  &                                                    &                                                    &            \\\\\n",
       "\\midrule\n",
       "e51b7fd6-d878-47f8-a36b-f10f8d4087bd &              1/2     1/4     1/8     1/16     1/32 &     Débris de truffes d'hiver, jus de truffes, sel &     13.04\\% \\\\\n",
       "f45db604-11ad-4756-aeab-3a5a1a34f914 &  Ingrédients: sucre; sirop de glucose; dextrose... &  sucre; sirop de glucose; dextrose; gélatine; a... &     93.58\\% \\\\\n",
       "2ca5dc9e-8058-499a-affe-3ec9c06d55b7 &                            Gastronome \\textbackslash n70\\%A/30\\% R &                                       100\\% Arabica &      9.09\\% \\\\\n",
       "2286f782-9d2e-410f-84c4-4ab88003a002 &  INGREDIENTS: Pêches et poires en cubes (avec l... &  Pêches et poires en cubes (avec leur jus d'ori... &     92.80\\% \\\\\n",
       "21233a00-bc20-40fc-acb9-ee2e2321cac2 &  Boisson gazeuse aromatisée au jus de fruit à b... &                                                    &      0.00\\% \\\\\n",
       "\\bottomrule\n",
       "\\end{tabular}\n",
       "}\\end{scriptsize}}"
      ],
      "text/plain": [
       "                                                                              Predicted  \\\n",
       "uid                                                                                       \n",
       "e51b7fd6-d878-47f8-a36b-f10f8d4087bd              1/2     1/4     1/8     1/16     1/32   \n",
       "f45db604-11ad-4756-aeab-3a5a1a34f914  Ingrédients: sucre; sirop de glucose; dextrose...   \n",
       "2ca5dc9e-8058-499a-affe-3ec9c06d55b7                            Gastronome \\n70%A/30% R   \n",
       "2286f782-9d2e-410f-84c4-4ab88003a002  INGREDIENTS: Pêches et poires en cubes (avec l...   \n",
       "21233a00-bc20-40fc-acb9-ee2e2321cac2  Boisson gazeuse aromatisée au jus de fruit à b...   \n",
       "\n",
       "                                                                                 Target Similarity  \n",
       "uid                                                                                                 \n",
       "e51b7fd6-d878-47f8-a36b-f10f8d4087bd     Débris de truffes d'hiver, jus de truffes, sel     13.04%  \n",
       "f45db604-11ad-4756-aeab-3a5a1a34f914  sucre; sirop de glucose; dextrose; gélatine; a...     93.58%  \n",
       "2ca5dc9e-8058-499a-affe-3ec9c06d55b7                                       100% Arabica      9.09%  \n",
       "2286f782-9d2e-410f-84c4-4ab88003a002  Pêches et poires en cubes (avec leur jus d'ori...     92.80%  \n",
       "21233a00-bc20-40fc-acb9-ee2e2321cac2                                                         0.00%  "
      ]
     },
     "execution_count": 66,
     "metadata": {},
     "output_type": "execute_result"
    }
   ],
   "source": [
    "comparison = (predicted.rename('Predicted')\n",
    "                       .to_frame()\n",
    "                       .join(test['ingredients'])\n",
    "                       .rename({'ingredients': 'Target'}, axis=1))\n",
    "comparison['Similarity'] = comparison.apply(lambda x: f\"{lev_sim(x['Predicted'], x['Target']):.2%}\", axis=1)\n",
    "comparison.sample(5)"
   ]
  },
  {
   "cell_type": "code",
   "execution_count": 68,
   "metadata": {
    "scrolled": true
   },
   "outputs": [],
   "source": [
    "with pd.option_context(\"max_colwidth\", 2100):\n",
    "    tex_str = (\n",
    "    comparison.replace(r'^\\s*$', np.nan, regex=True)\n",
    "              .to_latex(index=False,\n",
    "                        index_names=False,\n",
    "                        column_format='p{7cm}p{7cm}c',\n",
    "                        na_rep='<rien>',\n",
    "                        longtable=True,\n",
    "                        header=[\"Liste d'ingrédients prédite\", \"Liste d'ingrédients cible\", \"Sim.\"],\n",
    "                        label='tbl:final_prediction',\n",
    "                        caption=\"Prédictions du meilleur modèle sur le set de test\",\n",
    "                       )\n",
    "              .replace(r'\\textbackslash n', r' \\newline ')\n",
    "              .replace(r'\\\\', r'\\\\ \\hline')\n",
    "    )\n",
    "# with open(Path('..') / 'tbls' / 'final_prediction.tex', 'w') as file:\n",
    "#     file.write(tex_str)"
   ]
  }
 ],
 "metadata": {
  "kernelspec": {
   "display_name": "Python 3",
   "language": "python",
   "name": "python3"
  },
  "language_info": {
   "codemirror_mode": {
    "name": "ipython",
    "version": 3
   },
   "file_extension": ".py",
   "mimetype": "text/x-python",
   "name": "python",
   "nbconvert_exporter": "python",
   "pygments_lexer": "ipython3",
   "version": "3.8.1"
  },
  "title": "Ajustement des paramètres du modèle"
 },
 "nbformat": 4,
 "nbformat_minor": 4
}
