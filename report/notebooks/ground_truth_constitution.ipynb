{
 "cells": [
  {
   "cell_type": "markdown",
   "metadata": {},
   "source": [
    "# Constitution de l'échantillon de données étiquetées\n",
    "\n",
    "L'objet de ce notebook est de produire un échantillon données du PIM, avec les fiches techniques associées.\n",
    "Elles seront ensuite associées manuellement à la liste d'ingrédients qu'elles contiennent.\n",
    "\n",
    "## Récupération des données\n",
    "\n",
    "### Préambule technique"
   ]
  },
  {
   "cell_type": "code",
   "execution_count": 1,
   "metadata": {},
   "outputs": [],
   "source": [
    "# setting up sys.path for relative imports\n",
    "from pathlib import Path\n",
    "import sys\n",
    "project_root = str(Path(sys.path[0]).parents[1].absolute())\n",
    "if project_root not in sys.path:\n",
    "    sys.path.append(project_root)"
   ]
  },
  {
   "cell_type": "code",
   "execution_count": 2,
   "metadata": {},
   "outputs": [],
   "source": [
    "# imports and customization of diplay\n",
    "import os\n",
    "import pandas as pd\n",
    "pd.options.display.min_rows = 6\n",
    "pd.options.display.width=108\n",
    "from sklearn.model_selection import train_test_split\n",
    "from sklearn.pipeline import make_pipeline\n",
    "\n",
    "from src.pimapi import Requester\n",
    "from src.pimest import ContentGetter, PDFContentParser"
   ]
  },
  {
   "cell_type": "code",
   "execution_count": 3,
   "metadata": {},
   "outputs": [],
   "source": [
    "# monkeypatch _repr_latex_ for better inclusion of dataframes output in report\n",
    "def _repr_latex_(self, size='scriptsize',):\n",
    "    return(f\"\\\\resizebox{{\\\\linewidth}}{{!}}{{\\\\begin{{{size}}}\\\\centering{{{self.to_latex()}}}\\\\end{{{size}}}}}\")\n",
    "pd.DataFrame._repr_latex_ = _repr_latex_"
   ]
  },
  {
   "cell_type": "markdown",
   "metadata": {},
   "source": [
    "### Récupération des données, et de la présences de fiches techniques\n",
    "\n",
    "Pour constituer l'échantillon, on va d'abord extraire quelques informations du PIM, et particulièrement le type de produit.\n",
    "On récupèrera aussi le fait que les produits ont ou non une fiche technique fournisseur associée."
   ]
  },
  {
   "cell_type": "code",
   "execution_count": 4,
   "metadata": {},
   "outputs": [
    {
     "name": "stdout",
     "output_type": "stream",
     "text": [
      "Done\n"
     ]
    },
    {
     "data": {
      "text/plain": [
       "[<Response [200]>,\n",
       " <Response [200]>,\n",
       " <Response [200]>,\n",
       " <Response [200]>,\n",
       " <Response [200]>,\n",
       " <Response [200]>,\n",
       " <Response [200]>,\n",
       " <Response [200]>,\n",
       " <Response [200]>,\n",
       " <Response [200]>,\n",
       " <Response [200]>,\n",
       " <Response [200]>,\n",
       " <Response [200]>,\n",
       " <Response [200]>]"
      ]
     },
     "execution_count": 4,
     "metadata": {},
     "output_type": "execute_result"
    }
   ],
   "source": [
    "requester = Requester('prd')\n",
    "# Let's fetch the full content of PIM system\n",
    "requester.fetch_all_from_PIM()\n",
    "requester.result"
   ]
  },
  {
   "cell_type": "code",
   "execution_count": 5,
   "metadata": {},
   "outputs": [
    {
     "data": {
      "text/html": [
       "<div>\n",
       "<style scoped>\n",
       "    .dataframe tbody tr th:only-of-type {\n",
       "        vertical-align: middle;\n",
       "    }\n",
       "\n",
       "    .dataframe tbody tr th {\n",
       "        vertical-align: top;\n",
       "    }\n",
       "\n",
       "    .dataframe thead th {\n",
       "        text-align: right;\n",
       "    }\n",
       "</style>\n",
       "<table border=\"1\" class=\"dataframe\">\n",
       "  <thead>\n",
       "    <tr style=\"text-align: right;\">\n",
       "      <th></th>\n",
       "      <th>designation</th>\n",
       "      <th>state</th>\n",
       "      <th>ingredients</th>\n",
       "      <th>type</th>\n",
       "      <th>has_supplierdatasheet</th>\n",
       "      <th>has_supplierlabel</th>\n",
       "    </tr>\n",
       "    <tr>\n",
       "      <th>uid</th>\n",
       "      <th></th>\n",
       "      <th></th>\n",
       "      <th></th>\n",
       "      <th></th>\n",
       "      <th></th>\n",
       "      <th></th>\n",
       "    </tr>\n",
       "  </thead>\n",
       "  <tbody>\n",
       "    <tr>\n",
       "      <th>f2fc9f7a-ff2f-4502-a00e-7304fb7e6ee0</th>\n",
       "      <td>Mayonnaise allégée en seau 5,1 kg VALTONIA</td>\n",
       "      <td>product.validate</td>\n",
       "      <td>Eau, huile de colza 25 %, vinaigre, jaune d'OE...</td>\n",
       "      <td>grocery</td>\n",
       "      <td>False</td>\n",
       "      <td>False</td>\n",
       "    </tr>\n",
       "    <tr>\n",
       "      <th>3ec9cc99-7ba2-449d-afc7-b22e465a192a</th>\n",
       "      <td>MARJOLAINE 1KG</td>\n",
       "      <td>product.waiting.sending.supplier</td>\n",
       "      <td>None</td>\n",
       "      <td>grocery</td>\n",
       "      <td>False</td>\n",
       "      <td>False</td>\n",
       "    </tr>\n",
       "    <tr>\n",
       "      <th>ecbe45b9-070f-4086-90f4-fa3cc65a40e4</th>\n",
       "      <td>TORK LINGETTES IMPRÉGNÉES POUR NETTOYAGE DE SU...</td>\n",
       "      <td>product.validate</td>\n",
       "      <td>None</td>\n",
       "      <td>chemistry</td>\n",
       "      <td>True</td>\n",
       "      <td>True</td>\n",
       "    </tr>\n",
       "    <tr>\n",
       "      <th>a87747c6-e570-4a4e-8759-b7d400451436</th>\n",
       "      <td>Barquette charcutière 150 cc en sachet de 500 ...</td>\n",
       "      <td>product.controlAnoMinor</td>\n",
       "      <td>None</td>\n",
       "      <td>hygiene</td>\n",
       "      <td>True</td>\n",
       "      <td>True</td>\n",
       "    </tr>\n",
       "    <tr>\n",
       "      <th>afee12c7-177e-4a68-9539-8cbb68442503</th>\n",
       "      <td>DESTR D'ODEURS AIR&amp;TEXTILES 750CCX6 DESODOR U2</td>\n",
       "      <td>product.waiting.supplier.validation</td>\n",
       "      <td>None</td>\n",
       "      <td>chemistry</td>\n",
       "      <td>False</td>\n",
       "      <td>False</td>\n",
       "    </tr>\n",
       "  </tbody>\n",
       "</table>\n",
       "</div>"
      ],
      "text/latex": [
       "\\resizebox{\\linewidth}{!}{\\begin{scriptsize}\\centering{\\begin{tabular}{lllllll}\n",
       "\\toprule\n",
       "{} &                                        designation &                                state &                                        ingredients &       type &  has\\_supplierdatasheet &  has\\_supplierlabel \\\\\n",
       "uid                                  &                                                    &                                      &                                                    &            &                        &                    \\\\\n",
       "\\midrule\n",
       "f2fc9f7a-ff2f-4502-a00e-7304fb7e6ee0 &         Mayonnaise allégée en seau 5,1 kg VALTONIA &                     product.validate &  Eau, huile de colza 25 \\%, vinaigre, jaune d'OE... &    grocery &                  False &              False \\\\\n",
       "3ec9cc99-7ba2-449d-afc7-b22e465a192a &                                     MARJOLAINE 1KG &     product.waiting.sending.supplier &                                               None &    grocery &                  False &              False \\\\\n",
       "ecbe45b9-070f-4086-90f4-fa3cc65a40e4 &  TORK LINGETTES IMPRÉGNÉES POUR NETTOYAGE DE SU... &                     product.validate &                                               None &  chemistry &                   True &               True \\\\\n",
       "a87747c6-e570-4a4e-8759-b7d400451436 &  Barquette charcutière 150 cc en sachet de 500 ... &              product.controlAnoMinor &                                               None &    hygiene &                   True &               True \\\\\n",
       "afee12c7-177e-4a68-9539-8cbb68442503 &     DESTR D'ODEURS AIR\\&TEXTILES 750CCX6 DESODOR U2 &  product.waiting.supplier.validation &                                               None &  chemistry &                  False &              False \\\\\n",
       "\\bottomrule\n",
       "\\end{tabular}\n",
       "}\\end{scriptsize}}"
      ],
      "text/plain": [
       "                                                                            designation  \\\n",
       "uid                                                                                       \n",
       "f2fc9f7a-ff2f-4502-a00e-7304fb7e6ee0         Mayonnaise allégée en seau 5,1 kg VALTONIA   \n",
       "3ec9cc99-7ba2-449d-afc7-b22e465a192a                                     MARJOLAINE 1KG   \n",
       "ecbe45b9-070f-4086-90f4-fa3cc65a40e4  TORK LINGETTES IMPRÉGNÉES POUR NETTOYAGE DE SU...   \n",
       "a87747c6-e570-4a4e-8759-b7d400451436  Barquette charcutière 150 cc en sachet de 500 ...   \n",
       "afee12c7-177e-4a68-9539-8cbb68442503     DESTR D'ODEURS AIR&TEXTILES 750CCX6 DESODOR U2   \n",
       "\n",
       "                                                                    state  \\\n",
       "uid                                                                         \n",
       "f2fc9f7a-ff2f-4502-a00e-7304fb7e6ee0                     product.validate   \n",
       "3ec9cc99-7ba2-449d-afc7-b22e465a192a     product.waiting.sending.supplier   \n",
       "ecbe45b9-070f-4086-90f4-fa3cc65a40e4                     product.validate   \n",
       "a87747c6-e570-4a4e-8759-b7d400451436              product.controlAnoMinor   \n",
       "afee12c7-177e-4a68-9539-8cbb68442503  product.waiting.supplier.validation   \n",
       "\n",
       "                                                                            ingredients       type  \\\n",
       "uid                                                                                                  \n",
       "f2fc9f7a-ff2f-4502-a00e-7304fb7e6ee0  Eau, huile de colza 25 %, vinaigre, jaune d'OE...    grocery   \n",
       "3ec9cc99-7ba2-449d-afc7-b22e465a192a                                               None    grocery   \n",
       "ecbe45b9-070f-4086-90f4-fa3cc65a40e4                                               None  chemistry   \n",
       "a87747c6-e570-4a4e-8759-b7d400451436                                               None    hygiene   \n",
       "afee12c7-177e-4a68-9539-8cbb68442503                                               None  chemistry   \n",
       "\n",
       "                                      has_supplierdatasheet  has_supplierlabel  \n",
       "uid                                                                             \n",
       "f2fc9f7a-ff2f-4502-a00e-7304fb7e6ee0                  False              False  \n",
       "3ec9cc99-7ba2-449d-afc7-b22e465a192a                  False              False  \n",
       "ecbe45b9-070f-4086-90f4-fa3cc65a40e4                   True               True  \n",
       "a87747c6-e570-4a4e-8759-b7d400451436                   True               True  \n",
       "afee12c7-177e-4a68-9539-8cbb68442503                  False              False  "
      ]
     },
     "execution_count": 5,
     "metadata": {},
     "output_type": "execute_result"
    }
   ],
   "source": [
    "mapping = {'uid': 'uid',\n",
    "           'designation': 'title',\n",
    "           'state': 'state',\n",
    "           'ingredients': 'properties.pprodc:ingredientsList',\n",
    "           'type': 'properties.pprodtop:typeOfProduct'}\n",
    "df = requester.file_report_from_result(mapping=mapping, index='uid') # , record_path='entries') \n",
    "df.sample(5)"
   ]
  },
  {
   "cell_type": "markdown",
   "metadata": {},
   "source": [
    "## Constitution de l'échantillon\n",
    "\n",
    "On va constituer l'échantillon en appliquant les règles suivantes : \n",
    "- on construit un échantillon de 500 produits\n",
    "- on conserve les produits de type Epicerie et Boisson non alcoolisée\n",
    "- on conserve les produits qui possèdent une fiche technique fournisseur\n",
    "- on fait un échantillon stratifié par type de produit (Epicerie / Boisson)"
   ]
  },
  {
   "cell_type": "code",
   "execution_count": 6,
   "metadata": {},
   "outputs": [
    {
     "data": {
      "text/html": [
       "<div>\n",
       "<style scoped>\n",
       "    .dataframe tbody tr th:only-of-type {\n",
       "        vertical-align: middle;\n",
       "    }\n",
       "\n",
       "    .dataframe tbody tr th {\n",
       "        vertical-align: top;\n",
       "    }\n",
       "\n",
       "    .dataframe thead th {\n",
       "        text-align: right;\n",
       "    }\n",
       "</style>\n",
       "<table border=\"1\" class=\"dataframe\">\n",
       "  <thead>\n",
       "    <tr style=\"text-align: right;\">\n",
       "      <th></th>\n",
       "      <th>designation</th>\n",
       "      <th>state</th>\n",
       "      <th>ingredients</th>\n",
       "      <th>type</th>\n",
       "      <th>has_supplierdatasheet</th>\n",
       "      <th>has_supplierlabel</th>\n",
       "    </tr>\n",
       "    <tr>\n",
       "      <th>uid</th>\n",
       "      <th></th>\n",
       "      <th></th>\n",
       "      <th></th>\n",
       "      <th></th>\n",
       "      <th></th>\n",
       "      <th></th>\n",
       "    </tr>\n",
       "  </thead>\n",
       "  <tbody>\n",
       "    <tr>\n",
       "      <th>2a13382a-384d-4e50-8eef-2736698acef8</th>\n",
       "      <td>Penne Rigate sans-gluten en boîte 400 g BARILLA</td>\n",
       "      <td>product.waiting.supplier.validation</td>\n",
       "      <td>Farine de maïs blanc (60%), farine de maïs jau...</td>\n",
       "      <td>grocery</td>\n",
       "      <td>True</td>\n",
       "      <td>False</td>\n",
       "    </tr>\n",
       "    <tr>\n",
       "      <th>1806540a-33b7-4d7d-a045-943ed8b48799</th>\n",
       "      <td>Spécialité pomme-biscuit en coupelle 100 g CHA...</td>\n",
       "      <td>product.validate</td>\n",
       "      <td>Purée de pommes 95%, poudre de biscuit 4,2% ( ...</td>\n",
       "      <td>grocery</td>\n",
       "      <td>True</td>\n",
       "      <td>True</td>\n",
       "    </tr>\n",
       "    <tr>\n",
       "      <th>e1fe5f4b-9118-49a6-b02c-71b80407a7b9</th>\n",
       "      <td>Safran en poudre en boîte 10 g GANDOM</td>\n",
       "      <td>product.waiting.supplier.validation</td>\n",
       "      <td>Safran (Crocus Sativus Linnae)</td>\n",
       "      <td>grocery</td>\n",
       "      <td>True</td>\n",
       "      <td>False</td>\n",
       "    </tr>\n",
       "    <tr>\n",
       "      <th>3a4e72bb-b268-4c6b-9a51-48b78bdec4f2</th>\n",
       "      <td>GRAINE DE COURGE</td>\n",
       "      <td>product.validate</td>\n",
       "      <td>Graine de courge</td>\n",
       "      <td>grocery</td>\n",
       "      <td>True</td>\n",
       "      <td>True</td>\n",
       "    </tr>\n",
       "    <tr>\n",
       "      <th>8c147f0a-2388-4b1a-ac4a-51febc602278</th>\n",
       "      <td>Lasagnette à l'ancienne aux 7 œufs en sac 3 kg...</td>\n",
       "      <td>product.waiting.supplier.validation</td>\n",
       "      <td>Semoule de BLE dur de qualité supérieure, oeUF...</td>\n",
       "      <td>grocery</td>\n",
       "      <td>True</td>\n",
       "      <td>False</td>\n",
       "    </tr>\n",
       "  </tbody>\n",
       "</table>\n",
       "</div>"
      ],
      "text/latex": [
       "\\resizebox{\\linewidth}{!}{\\begin{scriptsize}\\centering{\\begin{tabular}{lllllll}\n",
       "\\toprule\n",
       "{} &                                        designation &                                state &                                        ingredients &     type &  has\\_supplierdatasheet &  has\\_supplierlabel \\\\\n",
       "uid                                  &                                                    &                                      &                                                    &          &                        &                    \\\\\n",
       "\\midrule\n",
       "2a13382a-384d-4e50-8eef-2736698acef8 &    Penne Rigate sans-gluten en boîte 400 g BARILLA &  product.waiting.supplier.validation &  Farine de maïs blanc (60\\%), farine de maïs jau... &  grocery &                   True &              False \\\\\n",
       "1806540a-33b7-4d7d-a045-943ed8b48799 &  Spécialité pomme-biscuit en coupelle 100 g CHA... &                     product.validate &  Purée de pommes 95\\%, poudre de biscuit 4,2\\% ( ... &  grocery &                   True &               True \\\\\n",
       "e1fe5f4b-9118-49a6-b02c-71b80407a7b9 &              Safran en poudre en boîte 10 g GANDOM &  product.waiting.supplier.validation &                     Safran (Crocus Sativus Linnae) &  grocery &                   True &              False \\\\\n",
       "3a4e72bb-b268-4c6b-9a51-48b78bdec4f2 &                                   GRAINE DE COURGE &                     product.validate &                                   Graine de courge &  grocery &                   True &               True \\\\\n",
       "8c147f0a-2388-4b1a-ac4a-51febc602278 &  Lasagnette à l'ancienne aux 7 œufs en sac 3 kg... &  product.waiting.supplier.validation &  Semoule de BLE dur de qualité supérieure, oeUF... &  grocery &                   True &              False \\\\\n",
       "\\bottomrule\n",
       "\\end{tabular}\n",
       "}\\end{scriptsize}}"
      ],
      "text/plain": [
       "                                                                            designation  \\\n",
       "uid                                                                                       \n",
       "2a13382a-384d-4e50-8eef-2736698acef8    Penne Rigate sans-gluten en boîte 400 g BARILLA   \n",
       "1806540a-33b7-4d7d-a045-943ed8b48799  Spécialité pomme-biscuit en coupelle 100 g CHA...   \n",
       "e1fe5f4b-9118-49a6-b02c-71b80407a7b9              Safran en poudre en boîte 10 g GANDOM   \n",
       "3a4e72bb-b268-4c6b-9a51-48b78bdec4f2                                   GRAINE DE COURGE   \n",
       "8c147f0a-2388-4b1a-ac4a-51febc602278  Lasagnette à l'ancienne aux 7 œufs en sac 3 kg...   \n",
       "\n",
       "                                                                    state  \\\n",
       "uid                                                                         \n",
       "2a13382a-384d-4e50-8eef-2736698acef8  product.waiting.supplier.validation   \n",
       "1806540a-33b7-4d7d-a045-943ed8b48799                     product.validate   \n",
       "e1fe5f4b-9118-49a6-b02c-71b80407a7b9  product.waiting.supplier.validation   \n",
       "3a4e72bb-b268-4c6b-9a51-48b78bdec4f2                     product.validate   \n",
       "8c147f0a-2388-4b1a-ac4a-51febc602278  product.waiting.supplier.validation   \n",
       "\n",
       "                                                                            ingredients     type  \\\n",
       "uid                                                                                                \n",
       "2a13382a-384d-4e50-8eef-2736698acef8  Farine de maïs blanc (60%), farine de maïs jau...  grocery   \n",
       "1806540a-33b7-4d7d-a045-943ed8b48799  Purée de pommes 95%, poudre de biscuit 4,2% ( ...  grocery   \n",
       "e1fe5f4b-9118-49a6-b02c-71b80407a7b9                     Safran (Crocus Sativus Linnae)  grocery   \n",
       "3a4e72bb-b268-4c6b-9a51-48b78bdec4f2                                   Graine de courge  grocery   \n",
       "8c147f0a-2388-4b1a-ac4a-51febc602278  Semoule de BLE dur de qualité supérieure, oeUF...  grocery   \n",
       "\n",
       "                                      has_supplierdatasheet  has_supplierlabel  \n",
       "uid                                                                             \n",
       "2a13382a-384d-4e50-8eef-2736698acef8                   True              False  \n",
       "1806540a-33b7-4d7d-a045-943ed8b48799                   True               True  \n",
       "e1fe5f4b-9118-49a6-b02c-71b80407a7b9                   True              False  \n",
       "3a4e72bb-b268-4c6b-9a51-48b78bdec4f2                   True               True  \n",
       "8c147f0a-2388-4b1a-ac4a-51febc602278                   True              False  "
      ]
     },
     "execution_count": 6,
     "metadata": {},
     "output_type": "execute_result"
    }
   ],
   "source": [
    "filtered_df = df.loc[(df.type.isin(['grocery', 'nonAlcoholicDrink']))\n",
    "                     & (df.has_supplierdatasheet)]\n",
    "train, ground_truth_df = train_test_split(filtered_df,\n",
    "                                          test_size=500,\n",
    "                                          random_state=42,\n",
    "                                          stratify=filtered_df.type)\n",
    "ground_truth_df.sample(5)"
   ]
  },
  {
   "cell_type": "markdown",
   "metadata": {},
   "source": [
    "**Remarque** : malgré l'utilisation d'un `random_state` fixé, l'échantillon généré n'est pas toujours le même à chaque exécution. En effet, comme la liste de produits varie au fil du temps (nouveaux référencements, périmètre des filtres qui change), le résultat du `train_test_split` peut varier.\n",
    "\n",
    "\n",
    "Il s'agit ici seulement d'illustrer la méthode utilisée.\n"
   ]
  },
  {
   "cell_type": "markdown",
   "metadata": {},
   "source": [
    "## Export des pièces jointes du PIM et constitution du fichier d'étiquettes\n",
    "\n",
    "On exporte ensuite le contenu du PIM sur le disque, afin d'avoir les fiches techniques simplement à disposition.\n",
    "\n",
    "Remarque : des lignes dans ce paragraphe pour ne pas télécharger à nouveau les pièces jointes ni écraser le résultat de l'étiquetage manuel."
   ]
  },
  {
   "cell_type": "code",
   "execution_count": null,
   "metadata": {},
   "outputs": [],
   "source": [
    "requester.fetch_list_from_PIM(ground_truth_df.index, batch_size=20)\n",
    "# requester.dump_data_from_result(update_directory=False, root_path=os.path.join('.', 'ground_truth_to_del'))\n",
    "# requester.dump_files_from_result(update_directory=False, root_path=os.path.join('.', 'ground_truth_to_del'))"
   ]
  },
  {
   "cell_type": "markdown",
   "metadata": {},
   "source": [
    "On exporte également au format csv les uids des produits et les libellés associés (pour s'assurer qu'il n'y a pas eu de confusion lorsqu'on lit une fiche technique)."
   ]
  },
  {
   "cell_type": "code",
   "execution_count": null,
   "metadata": {},
   "outputs": [],
   "source": [
    "# ground_truth_df['designation'].to_csv(os.path.join('.', 'ground_truth_to_del', 'uid.csv'),\n",
    "#                                       header=True,\n",
    "#                                       encoding='utf-8-sig')"
   ]
  },
  {
   "cell_type": "markdown",
   "metadata": {},
   "source": [
    "On teste également la possibilité de recharger les données depuis le fichier csv, une fois qu'il a été renseigné à la main dans excel."
   ]
  },
  {
   "cell_type": "code",
   "execution_count": null,
   "metadata": {},
   "outputs": [],
   "source": [
    "# pd.read_csv(os.path.join('..', '..', 'ground_truth', 'manually_labelled_ground_truth.csv'),\n",
    "#             sep=';',\n",
    "#             encoding='latin-1',\n",
    "#             index_col='uid')"
   ]
  },
  {
   "cell_type": "markdown",
   "metadata": {},
   "source": [
    "## Résultat de l'étiquetage manuel\n",
    "\n",
    "Le résultat de l'étiquetage manuel est le suivant :"
   ]
  },
  {
   "cell_type": "code",
   "execution_count": 7,
   "metadata": {},
   "outputs": [
    {
     "data": {
      "text/html": [
       "<div>\n",
       "<style scoped>\n",
       "    .dataframe tbody tr th:only-of-type {\n",
       "        vertical-align: middle;\n",
       "    }\n",
       "\n",
       "    .dataframe tbody tr th {\n",
       "        vertical-align: top;\n",
       "    }\n",
       "\n",
       "    .dataframe thead th {\n",
       "        text-align: right;\n",
       "    }\n",
       "</style>\n",
       "<table border=\"1\" class=\"dataframe\">\n",
       "  <thead>\n",
       "    <tr style=\"text-align: right;\">\n",
       "      <th></th>\n",
       "      <th>designation</th>\n",
       "      <th>ingredients</th>\n",
       "    </tr>\n",
       "    <tr>\n",
       "      <th>uid</th>\n",
       "      <th></th>\n",
       "      <th></th>\n",
       "    </tr>\n",
       "  </thead>\n",
       "  <tbody>\n",
       "    <tr>\n",
       "      <th>83dc5272-5e87-47b7-bd06-271bbac620a4</th>\n",
       "      <td>Flocon d'érable en sachet 170 g COULEUR QUEBEC</td>\n",
       "      <td>sirop d'érable pur à 100 %.</td>\n",
       "    </tr>\n",
       "    <tr>\n",
       "      <th>bbddc4ed-6d16-475c-ace1-851c8b32d28b</th>\n",
       "      <td>DEMI POIRES WILLIAMS AU SIROP LÉGER</td>\n",
       "      <td>NaN</td>\n",
       "    </tr>\n",
       "    <tr>\n",
       "      <th>a3d51821-275c-4471-8df4-b1fa1efede25</th>\n",
       "      <td>Purée d'épinard sans sel ajouté en sachet 1 kg...</td>\n",
       "      <td>Pommes de terre 59,5 % - Epinards 40 % - Amido...</td>\n",
       "    </tr>\n",
       "    <tr>\n",
       "      <th>6dfae8fd-6111-4a57-862e-c20a39a195e0</th>\n",
       "      <td>Pain de mie sans croûte en tranches en paquet ...</td>\n",
       "      <td>Farine de BLÉ 63%, eau, sucre, huile de colza,...</td>\n",
       "    </tr>\n",
       "    <tr>\n",
       "      <th>1678fd52-dc4b-4818-81de-b9c1581dc272</th>\n",
       "      <td>Spécialité pomme-abricot en boîte 5/1 VALADE E...</td>\n",
       "      <td>Pommes 78%, purée d'abricots à base de concent...</td>\n",
       "    </tr>\n",
       "  </tbody>\n",
       "</table>\n",
       "</div>"
      ],
      "text/latex": [
       "\\resizebox{\\linewidth}{!}{\\begin{scriptsize}\\centering{\\begin{tabular}{lll}\n",
       "\\toprule\n",
       "{} &                                        designation &                                        ingredients \\\\\n",
       "uid                                  &                                                    &                                                    \\\\\n",
       "\\midrule\n",
       "83dc5272-5e87-47b7-bd06-271bbac620a4 &     Flocon d'érable en sachet 170 g COULEUR QUEBEC &                        sirop d'érable pur à 100 \\%. \\\\\n",
       "bbddc4ed-6d16-475c-ace1-851c8b32d28b &                DEMI POIRES WILLIAMS AU SIROP LÉGER &                                                NaN \\\\\n",
       "a3d51821-275c-4471-8df4-b1fa1efede25 &  Purée d'épinard sans sel ajouté en sachet 1 kg... &  Pommes de terre 59,5 \\% - Epinards 40 \\% - Amido... \\\\\n",
       "6dfae8fd-6111-4a57-862e-c20a39a195e0 &  Pain de mie sans croûte en tranches en paquet ... &  Farine de BLÉ 63\\%, eau, sucre, huile de colza,... \\\\\n",
       "1678fd52-dc4b-4818-81de-b9c1581dc272 &  Spécialité pomme-abricot en boîte 5/1 VALADE E... &  Pommes 78\\%, purée d'abricots à base de concent... \\\\\n",
       "\\bottomrule\n",
       "\\end{tabular}\n",
       "}\\end{scriptsize}}"
      ],
      "text/plain": [
       "                                                                            designation  \\\n",
       "uid                                                                                       \n",
       "83dc5272-5e87-47b7-bd06-271bbac620a4     Flocon d'érable en sachet 170 g COULEUR QUEBEC   \n",
       "bbddc4ed-6d16-475c-ace1-851c8b32d28b                DEMI POIRES WILLIAMS AU SIROP LÉGER   \n",
       "a3d51821-275c-4471-8df4-b1fa1efede25  Purée d'épinard sans sel ajouté en sachet 1 kg...   \n",
       "6dfae8fd-6111-4a57-862e-c20a39a195e0  Pain de mie sans croûte en tranches en paquet ...   \n",
       "1678fd52-dc4b-4818-81de-b9c1581dc272  Spécialité pomme-abricot en boîte 5/1 VALADE E...   \n",
       "\n",
       "                                                                            ingredients  \n",
       "uid                                                                                      \n",
       "83dc5272-5e87-47b7-bd06-271bbac620a4                        sirop d'érable pur à 100 %.  \n",
       "bbddc4ed-6d16-475c-ace1-851c8b32d28b                                                NaN  \n",
       "a3d51821-275c-4471-8df4-b1fa1efede25  Pommes de terre 59,5 % - Epinards 40 % - Amido...  \n",
       "6dfae8fd-6111-4a57-862e-c20a39a195e0  Farine de BLÉ 63%, eau, sucre, huile de colza,...  \n",
       "1678fd52-dc4b-4818-81de-b9c1581dc272  Pommes 78%, purée d'abricots à base de concent...  "
      ]
     },
     "execution_count": 7,
     "metadata": {},
     "output_type": "execute_result"
    }
   ],
   "source": [
    "df_gt = pd.read_csv(os.path.join('..', '..', 'ground_truth', 'manually_labelled_ground_truth.csv'),\n",
    "                    sep=';',\n",
    "                    encoding='latin-1',\n",
    "                    index_col='uid')\n",
    "\n",
    "def to_latex_newline(text):\n",
    "    return(text.replace('\\n', '  '))\n",
    "\n",
    "with pd.option_context(\"max_colwidth\", 1000):\n",
    "    pass\n",
    "#     print(df_gt)\n",
    "#     df_gt.to_latex(\n",
    "#                    Path('..') / 'tbls' / 'ground_truth.tex',\n",
    "#                    index=False,\n",
    "#                    index_names=False,\n",
    "#                    column_format='p{5cm}p{10cm}',\n",
    "#                    formatters=[to_latex_newline, to_latex_newline],\n",
    "#                    longtable=True,\n",
    "#                    na_rep='-',\n",
    "#                    escape=True,\n",
    "#                    )\n",
    "df_gt.sample(5)"
   ]
  },
  {
   "cell_type": "markdown",
   "metadata": {},
   "source": [
    "## Comparatif entre les données étiquetées et le contenu du PIM\n",
    "\n",
    "On peut comparer le contenu des listes d'ingrédients du PIM et les données étiquetées.\n"
   ]
  },
  {
   "cell_type": "code",
   "execution_count": 8,
   "metadata": {},
   "outputs": [
    {
     "name": "stdout",
     "output_type": "stream",
     "text": [
      "Done\n"
     ]
    },
    {
     "data": {
      "text/plain": [
       "[<Response [200]>,\n",
       " <Response [200]>,\n",
       " <Response [200]>,\n",
       " <Response [200]>,\n",
       " <Response [200]>,\n",
       " <Response [200]>,\n",
       " <Response [200]>,\n",
       " <Response [200]>,\n",
       " <Response [200]>,\n",
       " <Response [200]>,\n",
       " <Response [200]>,\n",
       " <Response [200]>,\n",
       " <Response [200]>,\n",
       " <Response [200]>]"
      ]
     },
     "execution_count": 8,
     "metadata": {},
     "output_type": "execute_result"
    }
   ],
   "source": [
    "requester = Requester('prd')\n",
    "requester.fetch_all_from_PIM()\n",
    "requester.result"
   ]
  },
  {
   "cell_type": "markdown",
   "metadata": {},
   "source": [
    "On récupère le contenu du PIM "
   ]
  },
  {
   "cell_type": "code",
   "execution_count": 9,
   "metadata": {},
   "outputs": [
    {
     "data": {
      "text/plain": [
       "uid\n",
       "e061a124-b312-4e5b-8311-d8f374ce0c01    80% Bolets jaunes Suillus Luteus, 20% Cèpes Bo...\n",
       "f0a62940-5055-4433-83d0-8becdf6561e3    Sirop de glucose, sucre, eau, gélatine, acidif...\n",
       "7b64e7a7-8c7c-45e3-80e9-48fdc6d44c64                                                 None\n",
       "115bf599-c6fa-40f7-ac08-622901756d0c                             Haricots verts, eau, sel\n",
       "1afa5387-e2e3-4fc2-b991-b896f7feacc9                                                 None\n",
       "Name: properties.pprodc:ingredientsList, dtype: object"
      ]
     },
     "execution_count": 9,
     "metadata": {},
     "output_type": "execute_result"
    }
   ],
   "source": [
    "df = requester.result_to_dataframe()\n",
    "pim_ds = df['properties.pprodc:ingredientsList']\n",
    "pim_ds.sample(5)"
   ]
  },
  {
   "cell_type": "markdown",
   "metadata": {},
   "source": [
    "On charge le csv des données étiquetées : "
   ]
  },
  {
   "cell_type": "code",
   "execution_count": 10,
   "metadata": {},
   "outputs": [
    {
     "data": {
      "text/html": [
       "<div>\n",
       "<style scoped>\n",
       "    .dataframe tbody tr th:only-of-type {\n",
       "        vertical-align: middle;\n",
       "    }\n",
       "\n",
       "    .dataframe tbody tr th {\n",
       "        vertical-align: top;\n",
       "    }\n",
       "\n",
       "    .dataframe thead th {\n",
       "        text-align: right;\n",
       "    }\n",
       "</style>\n",
       "<table border=\"1\" class=\"dataframe\">\n",
       "  <thead>\n",
       "    <tr style=\"text-align: right;\">\n",
       "      <th></th>\n",
       "      <th>designation</th>\n",
       "      <th>ingredients</th>\n",
       "    </tr>\n",
       "    <tr>\n",
       "      <th>uid</th>\n",
       "      <th></th>\n",
       "      <th></th>\n",
       "    </tr>\n",
       "  </thead>\n",
       "  <tbody>\n",
       "    <tr>\n",
       "      <th>d39f16bc-29f8-40b9-9d56-43295bfd5961</th>\n",
       "      <td>FLOWPACK PATAREV HIPPOPOTAMUS</td>\n",
       "      <td>PÂTE À MÂCHER ACIDE, AROMATISÉE : GOÛT FRAMBOI...</td>\n",
       "    </tr>\n",
       "    <tr>\n",
       "      <th>8097a8a8-86c0-4f9a-8c75-6d825a979e8c</th>\n",
       "      <td>Sucre cristal en sac 5 kg DADDY</td>\n",
       "      <td>NaN</td>\n",
       "    </tr>\n",
       "    <tr>\n",
       "      <th>4f83306f-66de-4545-9b12-7790b57b61ae</th>\n",
       "      <td>Nappage miroir neutre en seau 7 kg ANCEL</td>\n",
       "      <td>Sirop de glucose, sucre, eau, stabilisants (E4...</td>\n",
       "    </tr>\n",
       "    <tr>\n",
       "      <th>93e5d2af-10c5-4853-a437-b013673310cb</th>\n",
       "      <td>Riz long de Camargue IGP en sac 5 kg CANAVERE</td>\n",
       "      <td>NaN</td>\n",
       "    </tr>\n",
       "    <tr>\n",
       "      <th>5cb7f05a-3b2c-440e-af0d-01843fb38cbf</th>\n",
       "      <td>Assortiment de Malabar magic blue 3 parfums en...</td>\n",
       "      <td>Sucre, Gomme base, Sirop de glucose, Acidifian...</td>\n",
       "    </tr>\n",
       "  </tbody>\n",
       "</table>\n",
       "</div>"
      ],
      "text/latex": [
       "\\resizebox{\\linewidth}{!}{\\begin{scriptsize}\\centering{\\begin{tabular}{lll}\n",
       "\\toprule\n",
       "{} &                                        designation &                                        ingredients \\\\\n",
       "uid                                  &                                                    &                                                    \\\\\n",
       "\\midrule\n",
       "d39f16bc-29f8-40b9-9d56-43295bfd5961 &                      FLOWPACK PATAREV HIPPOPOTAMUS &  PÂTE À MÂCHER ACIDE, AROMATISÉE : GOÛT FRAMBOI... \\\\\n",
       "8097a8a8-86c0-4f9a-8c75-6d825a979e8c &                    Sucre cristal en sac 5 kg DADDY &                                                NaN \\\\\n",
       "4f83306f-66de-4545-9b12-7790b57b61ae &           Nappage miroir neutre en seau 7 kg ANCEL &  Sirop de glucose, sucre, eau, stabilisants (E4... \\\\\n",
       "93e5d2af-10c5-4853-a437-b013673310cb &      Riz long de Camargue IGP en sac 5 kg CANAVERE &                                                NaN \\\\\n",
       "5cb7f05a-3b2c-440e-af0d-01843fb38cbf &  Assortiment de Malabar magic blue 3 parfums en... &  Sucre, Gomme base, Sirop de glucose, Acidifian... \\\\\n",
       "\\bottomrule\n",
       "\\end{tabular}\n",
       "}\\end{scriptsize}}"
      ],
      "text/plain": [
       "                                                                            designation  \\\n",
       "uid                                                                                       \n",
       "d39f16bc-29f8-40b9-9d56-43295bfd5961                      FLOWPACK PATAREV HIPPOPOTAMUS   \n",
       "8097a8a8-86c0-4f9a-8c75-6d825a979e8c                    Sucre cristal en sac 5 kg DADDY   \n",
       "4f83306f-66de-4545-9b12-7790b57b61ae           Nappage miroir neutre en seau 7 kg ANCEL   \n",
       "93e5d2af-10c5-4853-a437-b013673310cb      Riz long de Camargue IGP en sac 5 kg CANAVERE   \n",
       "5cb7f05a-3b2c-440e-af0d-01843fb38cbf  Assortiment de Malabar magic blue 3 parfums en...   \n",
       "\n",
       "                                                                            ingredients  \n",
       "uid                                                                                      \n",
       "d39f16bc-29f8-40b9-9d56-43295bfd5961  PÂTE À MÂCHER ACIDE, AROMATISÉE : GOÛT FRAMBOI...  \n",
       "8097a8a8-86c0-4f9a-8c75-6d825a979e8c                                                NaN  \n",
       "4f83306f-66de-4545-9b12-7790b57b61ae  Sirop de glucose, sucre, eau, stabilisants (E4...  \n",
       "93e5d2af-10c5-4853-a437-b013673310cb                                                NaN  \n",
       "5cb7f05a-3b2c-440e-af0d-01843fb38cbf  Sucre, Gomme base, Sirop de glucose, Acidifian...  "
      ]
     },
     "execution_count": 10,
     "metadata": {},
     "output_type": "execute_result"
    }
   ],
   "source": [
    "df_gt = pd.read_csv(os.path.join('..', '..', 'ground_truth', 'manually_labelled_ground_truth.csv'),\n",
    "                    sep=';',\n",
    "                    encoding='latin-1',\n",
    "                    index_col='uid')\n",
    "df_gt.sample(5)"
   ]
  },
  {
   "cell_type": "markdown",
   "metadata": {},
   "source": [
    "Comme l'index de la series des données issues du PIM, et du dataframe de la ground truth est le même (l'uid du produit), on \n",
    "peut faire très simplement la jointure via la méthode `join` :"
   ]
  },
  {
   "cell_type": "code",
   "execution_count": 11,
   "metadata": {},
   "outputs": [
    {
     "data": {
      "text/html": [
       "<div>\n",
       "<style scoped>\n",
       "    .dataframe tbody tr th:only-of-type {\n",
       "        vertical-align: middle;\n",
       "    }\n",
       "\n",
       "    .dataframe tbody tr th {\n",
       "        vertical-align: top;\n",
       "    }\n",
       "\n",
       "    .dataframe thead th {\n",
       "        text-align: right;\n",
       "    }\n",
       "</style>\n",
       "<table border=\"1\" class=\"dataframe\">\n",
       "  <thead>\n",
       "    <tr style=\"text-align: right;\">\n",
       "      <th></th>\n",
       "      <th>designation</th>\n",
       "      <th>Ingrédients de la ground truth</th>\n",
       "      <th>Ingrédients du PIM</th>\n",
       "    </tr>\n",
       "    <tr>\n",
       "      <th>uid</th>\n",
       "      <th></th>\n",
       "      <th></th>\n",
       "      <th></th>\n",
       "    </tr>\n",
       "  </thead>\n",
       "  <tbody>\n",
       "    <tr>\n",
       "      <th>1de02b1c-f17e-4d46-b90f-3a6c37ecf6aa</th>\n",
       "      <td>AMANDES DECORTIQUEES GRILLEES SANS SEL</td>\n",
       "      <td>AMANDES décortiquées</td>\n",
       "      <td>AMANDES grillées</td>\n",
       "    </tr>\n",
       "    <tr>\n",
       "      <th>c2ef743e-f3f2-4e8a-aab0-1e6cbeb71666</th>\n",
       "      <td>Gâteau aux céréales et aux graines de tourneso...</td>\n",
       "      <td>Farine de BLÉ 20% - Huile de colza - OEUFS ent...</td>\n",
       "      <td>Huile de colza - Farine de BLÉ 19,5% -  OEUFS ...</td>\n",
       "    </tr>\n",
       "    <tr>\n",
       "      <th>ab48a1ed-7a3d-4686-bb6d-ab4f367cada8</th>\n",
       "      <td>Macaroni en sachet 500 g PANZANI</td>\n",
       "      <td>- 100% Semoule de BLE dur de qualité supérieur...</td>\n",
       "      <td>100% Semoule de BLE dur de qualité supérieure</td>\n",
       "    </tr>\n",
       "    <tr>\n",
       "      <th>5d24bc08-ff76-4ebb-800a-55aa3a6dc76d</th>\n",
       "      <td>Boissons énergisante en canette 47,3 cl RED BULL</td>\n",
       "      <td>eau gazéifiée, saccharose, glucose, correcteur...</td>\n",
       "      <td>Eau gazéifiée, saccharose, glucose, acidifiant...</td>\n",
       "    </tr>\n",
       "    <tr>\n",
       "      <th>70500268-802d-4211-93ba-9edbf6e0e7a3</th>\n",
       "      <td>COLIS KERMESSE 2019  A.P \" 22+8\"</td>\n",
       "      <td>TAGADA\\nsucre; sirop de glucose; gélatine; aci...</td>\n",
       "      <td>GADA: sucre; sirop de glucose; gélatine; acid...</td>\n",
       "    </tr>\n",
       "  </tbody>\n",
       "</table>\n",
       "</div>"
      ],
      "text/latex": [
       "\\resizebox{\\linewidth}{!}{\\begin{scriptsize}\\centering{\\begin{tabular}{llll}\n",
       "\\toprule\n",
       "{} &                                        designation &                     Ingrédients de la ground truth &                                 Ingrédients du PIM \\\\\n",
       "uid                                  &                                                    &                                                    &                                                    \\\\\n",
       "\\midrule\n",
       "1de02b1c-f17e-4d46-b90f-3a6c37ecf6aa &             AMANDES DECORTIQUEES GRILLEES SANS SEL &                               AMANDES décortiquées &                                   AMANDES grillées \\\\\n",
       "c2ef743e-f3f2-4e8a-aab0-1e6cbeb71666 &  Gâteau aux céréales et aux graines de tourneso... &  Farine de BLÉ 20\\% - Huile de colza - OEUFS ent... &  Huile de colza - Farine de BLÉ 19,5\\% -  OEUFS ... \\\\\n",
       "ab48a1ed-7a3d-4686-bb6d-ab4f367cada8 &                   Macaroni en sachet 500 g PANZANI &  - 100\\% Semoule de BLE dur de qualité supérieur... &      100\\% Semoule de BLE dur de qualité supérieure \\\\\n",
       "5d24bc08-ff76-4ebb-800a-55aa3a6dc76d &   Boissons énergisante en canette 47,3 cl RED BULL &  eau gazéifiée, saccharose, glucose, correcteur... &  Eau gazéifiée, saccharose, glucose, acidifiant... \\\\\n",
       "70500268-802d-4211-93ba-9edbf6e0e7a3 &                   COLIS KERMESSE 2019  A.P \" 22+8\" &  TAGADA\\textbackslash nsucre; sirop de glucose; gélatine; aci... &   GADA: sucre; sirop de glucose; gélatine; acid... \\\\\n",
       "\\bottomrule\n",
       "\\end{tabular}\n",
       "}\\end{scriptsize}}"
      ],
      "text/plain": [
       "                                                                            designation  \\\n",
       "uid                                                                                       \n",
       "1de02b1c-f17e-4d46-b90f-3a6c37ecf6aa             AMANDES DECORTIQUEES GRILLEES SANS SEL   \n",
       "c2ef743e-f3f2-4e8a-aab0-1e6cbeb71666  Gâteau aux céréales et aux graines de tourneso...   \n",
       "ab48a1ed-7a3d-4686-bb6d-ab4f367cada8                   Macaroni en sachet 500 g PANZANI   \n",
       "5d24bc08-ff76-4ebb-800a-55aa3a6dc76d   Boissons énergisante en canette 47,3 cl RED BULL   \n",
       "70500268-802d-4211-93ba-9edbf6e0e7a3                   COLIS KERMESSE 2019  A.P \" 22+8\"   \n",
       "\n",
       "                                                         Ingrédients de la ground truth  \\\n",
       "uid                                                                                       \n",
       "1de02b1c-f17e-4d46-b90f-3a6c37ecf6aa                               AMANDES décortiquées   \n",
       "c2ef743e-f3f2-4e8a-aab0-1e6cbeb71666  Farine de BLÉ 20% - Huile de colza - OEUFS ent...   \n",
       "ab48a1ed-7a3d-4686-bb6d-ab4f367cada8  - 100% Semoule de BLE dur de qualité supérieur...   \n",
       "5d24bc08-ff76-4ebb-800a-55aa3a6dc76d  eau gazéifiée, saccharose, glucose, correcteur...   \n",
       "70500268-802d-4211-93ba-9edbf6e0e7a3  TAGADA\\nsucre; sirop de glucose; gélatine; aci...   \n",
       "\n",
       "                                                                     Ingrédients du PIM  \n",
       "uid                                                                                      \n",
       "1de02b1c-f17e-4d46-b90f-3a6c37ecf6aa                                   AMANDES grillées  \n",
       "c2ef743e-f3f2-4e8a-aab0-1e6cbeb71666  Huile de colza - Farine de BLÉ 19,5% -  OEUFS ...  \n",
       "ab48a1ed-7a3d-4686-bb6d-ab4f367cada8      100% Semoule de BLE dur de qualité supérieure  \n",
       "5d24bc08-ff76-4ebb-800a-55aa3a6dc76d  Eau gazéifiée, saccharose, glucose, acidifiant...  \n",
       "70500268-802d-4211-93ba-9edbf6e0e7a3   GADA: sucre; sirop de glucose; gélatine; acid...  "
      ]
     },
     "execution_count": 11,
     "metadata": {},
     "output_type": "execute_result"
    }
   ],
   "source": [
    "merged = (df_gt.join(pim_ds)\n",
    "               .rename({'ingredients': 'Ingrédients de la ground truth', \n",
    "                        'properties.pprodc:ingredientsList': 'Ingrédients du PIM'},\n",
    "                       axis=1)\n",
    "         )\n",
    "merged.sample(5)"
   ]
  },
  {
   "cell_type": "markdown",
   "metadata": {},
   "source": [
    "On peut compter les égalités strictes entre les ingrédients du PIM et ceux de la ground truth :"
   ]
  },
  {
   "cell_type": "code",
   "execution_count": 12,
   "metadata": {},
   "outputs": [
    {
     "data": {
      "text/plain": [
       "False    452\n",
       "True      48\n",
       "Name: equals, dtype: int64"
      ]
     },
     "execution_count": 12,
     "metadata": {},
     "output_type": "execute_result"
    }
   ],
   "source": [
    "merged['equals'] = (merged['Ingrédients du PIM'] == merged['Ingrédients de la ground truth'])\n",
    "merged['equals'].value_counts()"
   ]
  },
  {
   "cell_type": "markdown",
   "metadata": {},
   "source": [
    "Seules 50 listes d'ingrédients sont strictement identiques. Si on compare les listes qui ne le sont pas, on obtient : "
   ]
  },
  {
   "cell_type": "code",
   "execution_count": 13,
   "metadata": {
    "scrolled": true
   },
   "outputs": [
    {
     "name": "stdout",
     "output_type": "stream",
     "text": [
      "++++++++++++++++++++++++++++++++++++++++++++++++++++\n",
      "Issu du PIM :\n",
      "Farine de BLE T65, eau, levure,  huile de colza, sel, vinaigre de cidre, assaisonnement poudre de curry, agent de traitement de la farine : acide ascorbique, émulsifiant : E471\n",
      "----------------------------------------------------\n",
      "Issu de la ground truth :\n",
      "Farine de blé T65, eau, levure, vinaigre de cidre, huile de colza, assaisonnement poudre de curry, sel, acide ascorbique, émulsifiant : E471.\n",
      "++++++++++++++++++++++++++++++++++++++++++++++++++++\n",
      "\n",
      "++++++++++++++++++++++++++++++++++++++++++++++++++++\n",
      "Issu du PIM :\n",
      "100% Semoule de BLE dur de qualité supérieure\n",
      "----------------------------------------------------\n",
      "Issu de la ground truth :\n",
      "- 100% Semoule de BLE dur de qualité supérieure\n",
      "- Contient du gluten\n",
      "Si le numéro de lot contient la lettre N : peu contenir de l'oeuf\n",
      "++++++++++++++++++++++++++++++++++++++++++++++++++++\n",
      "\n",
      "++++++++++++++++++++++++++++++++++++++++++++++++++++\n",
      "Issu du PIM :\n",
      "Fève de tonka, taux de coumarine compris entre 1 et 3,5%\n",
      "----------------------------------------------------\n",
      "Issu de la ground truth :\n",
      "fève de tonka (graines ridées de 25 à 50mm de long)\n",
      "Taux de coumarine compris entre 1 et 3,5 %\n",
      "++++++++++++++++++++++++++++++++++++++++++++++++++++\n",
      "\n",
      "++++++++++++++++++++++++++++++++++++++++++++++++++++\n",
      "Issu du PIM :\n",
      "Aubergine 60,5% (aubergine, huile de tournesol), eau, oignon, huile de tournesol, jus de citron, concentré de tomate, huile d'olive vierge extra 2%, ail, sel, persil, basilic, poivre, thym, romarin.\n",
      "----------------------------------------------------\n",
      "Issu de la ground truth :\n",
      "Aubergine 60,5% (aubergine, huile de tournesol), eau, oignon, huile de tournesol, jus de citron, concentré de tomate, huile d'olive vierge extra (2%), ail, sel, persil, basilic, poivre, thym, romarin.\n",
      "++++++++++++++++++++++++++++++++++++++++++++++++++++\n",
      "\n",
      "++++++++++++++++++++++++++++++++++++++++++++++++++++\n",
      "Issu du PIM :\n",
      "Ingrédients : Myrtille Cassis : Fruits (myrtilles 41%, cassis 9%), sucre, sucre roux de canne, jus de citrons concentré, gélifiant : pectines de fruits. Fraise Groseille : Fruits (fraises 27 %, groseilles 23 %), sucre, sucre roux de canne, jus de citrons concentré, gélifiant : pectines de fruits. Abricot Pêche : Fruits (abricots 34%, pêches 16%), sucre, sucre roux de canne, jus de citrons concentré, gélifiant : pectines de fruits. Orange Douce Mandarine : Fruits (oranges douces 37%, mandarines 3%), sucre, sucre roux de canne, jus de citrons concentré, gélifiant : pectines de fruits.\n",
      "----------------------------------------------------\n",
      "Issu de la ground truth :\n",
      "Confiture de myrtilles et de cassis\n",
      "fruits (myrtilles 41%, cassis 9%), sucre, sucre roux de canne, jus de citrons concentré, gélifiant : pectine de fruits.\n",
      "Confiture de fraises et de groseilles\n",
      "fruits (fraises 27 %, groseilles 23 %), sucre, sucre roux de canne, jus de citrons concentré, gélifiant : pectine de fruits.\n",
      "Confiture d'abricots et de pêches\n",
      "fruits (abricots 34%, pêches 16%), sucre, sucre roux de canne, jus de citrons concentré, gélifiant : pectine de fruits.\n",
      "Marmelade d'oranges douces et de mandarines\n",
      "fruits (oranges douces 37%, mandarines 3%), sucre, sucre roux de canne, jus de citrons\n",
      "concentré, gélifiant : pectine de fruits.\n",
      "++++++++++++++++++++++++++++++++++++++++++++++++++++\n",
      "\n",
      "++++++++++++++++++++++++++++++++++++++++++++++++++++\n",
      "Issu du PIM :\n",
      "Pommes 95%, sirop de glucose-fructose, arôme, antioxydant : acide ascorbique\n",
      "----------------------------------------------------\n",
      "Issu de la ground truth :\n",
      "Pommes 95%, sirop de glucose-fructose, arôme, antioxydant: acide ascorbique.\n",
      "++++++++++++++++++++++++++++++++++++++++++++++++++++\n",
      "\n"
     ]
    }
   ],
   "source": [
    "diff = merged.loc[~merged['equals'], ['Ingrédients du PIM', 'Ingrédients de la ground truth']]\n",
    "for i in range(6):\n",
    "    print('++++++++++++++++++++++++++++++++++++++++++++++++++++')\n",
    "    print('Issu du PIM :')\n",
    "    print(diff.iloc[i].loc['Ingrédients du PIM'])\n",
    "    print('----------------------------------------------------')\n",
    "    print('Issu de la ground truth :')\n",
    "    print(diff.iloc[i].loc['Ingrédients de la ground truth'])\n",
    "    print('++++++++++++++++++++++++++++++++++++++++++++++++++++\\n')"
   ]
  },
  {
   "cell_type": "markdown",
   "metadata": {},
   "source": [
    "On peut sortir un tableau des données en écart, de manière basique :"
   ]
  },
  {
   "cell_type": "code",
   "execution_count": 14,
   "metadata": {},
   "outputs": [
    {
     "data": {
      "text/html": [
       "<div>\n",
       "<style scoped>\n",
       "    .dataframe tbody tr th:only-of-type {\n",
       "        vertical-align: middle;\n",
       "    }\n",
       "\n",
       "    .dataframe tbody tr th {\n",
       "        vertical-align: top;\n",
       "    }\n",
       "\n",
       "    .dataframe thead th {\n",
       "        text-align: right;\n",
       "    }\n",
       "</style>\n",
       "<table border=\"1\" class=\"dataframe\">\n",
       "  <thead>\n",
       "    <tr style=\"text-align: right;\">\n",
       "      <th></th>\n",
       "      <th>Ingrédients du PIM</th>\n",
       "      <th>Ingrédients de la ground truth</th>\n",
       "    </tr>\n",
       "    <tr>\n",
       "      <th>uid</th>\n",
       "      <th></th>\n",
       "      <th></th>\n",
       "    </tr>\n",
       "  </thead>\n",
       "  <tbody>\n",
       "    <tr>\n",
       "      <th>bf633f9f-a89a-499b-afb8-1b874a477b08</th>\n",
       "      <td>Champignons, eau, sel , acidifiant : acide cit...</td>\n",
       "      <td>champignons, eau, sel, acidifiant : acide citr...</td>\n",
       "    </tr>\n",
       "    <tr>\n",
       "      <th>84d5c32f-92d0-49c9-9151-d1fd65238a2a</th>\n",
       "      <td>LAIT écrémé</td>\n",
       "      <td>Lait écrémé.</td>\n",
       "    </tr>\n",
       "    <tr>\n",
       "      <th>15d6958c-025e-43a6-9f3b-a0d923a61c3f</th>\n",
       "      <td>Pommes en tranches (43%), pêches en tranches (...</td>\n",
       "      <td>Pommes en tranches (35 à 56%), pêches en tranc...</td>\n",
       "    </tr>\n",
       "    <tr>\n",
       "      <th>eeca38ed-ff9b-467f-874d-298a350bd6c5</th>\n",
       "      <td>Pâtes alimentaires de semoule de BLÉ dur de qu...</td>\n",
       "      <td>SEMOULE DE BLE' DUR de qualité supérieure</td>\n",
       "    </tr>\n",
       "    <tr>\n",
       "      <th>6db330c3-26d0-4a46-93a5-74e704b107ff</th>\n",
       "      <td>Ecorce de citron (57%), sirop de glucose-fruct...</td>\n",
       "      <td>NaN</td>\n",
       "    </tr>\n",
       "    <tr>\n",
       "      <th>b70ed045-57ec-497d-bf18-af14fbbbe955</th>\n",
       "      <td>BLE dur entier précuit</td>\n",
       "      <td>NaN</td>\n",
       "    </tr>\n",
       "    <tr>\n",
       "      <th>e67341d8-350f-46f4-9154-4dbbb8035621</th>\n",
       "      <td>Sucre roux de canne*°(64%), amidon de maïs*, p...</td>\n",
       "      <td>Sucre roux de canne*° (64%), amidon de maïs*, ...</td>\n",
       "    </tr>\n",
       "    <tr>\n",
       "      <th>f9af1c71-59dd-4d11-8938-aa726ecffe6c</th>\n",
       "      <td>Eau, huile de tournesol, miel 10%, moutarde à ...</td>\n",
       "      <td>Eau, huile de tournesol, miel 10%, moutarde à ...</td>\n",
       "    </tr>\n",
       "    <tr>\n",
       "      <th>93fb1748-efa5-4679-b67e-51ff121c69e8</th>\n",
       "      <td>sucre de canne, eau, jus de mirabelle à base d...</td>\n",
       "      <td>SUCRE DE CANNE, EAU, JUS DE MIRABELLE A BASE D...</td>\n",
       "    </tr>\n",
       "    <tr>\n",
       "      <th>f9f2c425-07cd-43ef-aabe-ec777e89a6e7</th>\n",
       "      <td>Sucre 49,0%, NOISETTES 25,0%, AMANDES 25,0%, é...</td>\n",
       "      <td>sucre 49,0%; noisettes 25,0%; amandes 25,0%; é...</td>\n",
       "    </tr>\n",
       "  </tbody>\n",
       "</table>\n",
       "</div>"
      ],
      "text/latex": [
       "\\resizebox{\\linewidth}{!}{\\begin{scriptsize}\\centering{\\begin{tabular}{lll}\n",
       "\\toprule\n",
       "{} &                                 Ingrédients du PIM &                     Ingrédients de la ground truth \\\\\n",
       "uid                                  &                                                    &                                                    \\\\\n",
       "\\midrule\n",
       "bf633f9f-a89a-499b-afb8-1b874a477b08 &  Champignons, eau, sel , acidifiant : acide cit... &  champignons, eau, sel, acidifiant : acide citr... \\\\\n",
       "84d5c32f-92d0-49c9-9151-d1fd65238a2a &                                        LAIT écrémé &                                       Lait écrémé. \\\\\n",
       "15d6958c-025e-43a6-9f3b-a0d923a61c3f &  Pommes en tranches (43\\%), pêches en tranches (... &  Pommes en tranches (35 à 56\\%), pêches en tranc... \\\\\n",
       "eeca38ed-ff9b-467f-874d-298a350bd6c5 &  Pâtes alimentaires de semoule de BLÉ dur de qu... &          SEMOULE DE BLE' DUR de qualité supérieure \\\\\n",
       "6db330c3-26d0-4a46-93a5-74e704b107ff &  Ecorce de citron (57\\%), sirop de glucose-fruct... &                                                NaN \\\\\n",
       "b70ed045-57ec-497d-bf18-af14fbbbe955 &                             BLE dur entier précuit &                                                NaN \\\\\n",
       "e67341d8-350f-46f4-9154-4dbbb8035621 &  Sucre roux de canne*°(64\\%), amidon de maïs*, p... &  Sucre roux de canne*° (64\\%), amidon de maïs*, ... \\\\\n",
       "f9af1c71-59dd-4d11-8938-aa726ecffe6c &  Eau, huile de tournesol, miel 10\\%, moutarde à ... &  Eau, huile de tournesol, miel 10\\%, moutarde à ... \\\\\n",
       "93fb1748-efa5-4679-b67e-51ff121c69e8 &  sucre de canne, eau, jus de mirabelle à base d... &  SUCRE DE CANNE, EAU, JUS DE MIRABELLE A BASE D... \\\\\n",
       "f9f2c425-07cd-43ef-aabe-ec777e89a6e7 &  Sucre 49,0\\%, NOISETTES 25,0\\%, AMANDES 25,0\\%, é... &  sucre 49,0\\%; noisettes 25,0\\%; amandes 25,0\\%; é... \\\\\n",
       "\\bottomrule\n",
       "\\end{tabular}\n",
       "}\\end{scriptsize}}"
      ],
      "text/plain": [
       "                                                                     Ingrédients du PIM  \\\n",
       "uid                                                                                       \n",
       "bf633f9f-a89a-499b-afb8-1b874a477b08  Champignons, eau, sel , acidifiant : acide cit...   \n",
       "84d5c32f-92d0-49c9-9151-d1fd65238a2a                                        LAIT écrémé   \n",
       "15d6958c-025e-43a6-9f3b-a0d923a61c3f  Pommes en tranches (43%), pêches en tranches (...   \n",
       "eeca38ed-ff9b-467f-874d-298a350bd6c5  Pâtes alimentaires de semoule de BLÉ dur de qu...   \n",
       "6db330c3-26d0-4a46-93a5-74e704b107ff  Ecorce de citron (57%), sirop de glucose-fruct...   \n",
       "b70ed045-57ec-497d-bf18-af14fbbbe955                             BLE dur entier précuit   \n",
       "e67341d8-350f-46f4-9154-4dbbb8035621  Sucre roux de canne*°(64%), amidon de maïs*, p...   \n",
       "f9af1c71-59dd-4d11-8938-aa726ecffe6c  Eau, huile de tournesol, miel 10%, moutarde à ...   \n",
       "93fb1748-efa5-4679-b67e-51ff121c69e8  sucre de canne, eau, jus de mirabelle à base d...   \n",
       "f9f2c425-07cd-43ef-aabe-ec777e89a6e7  Sucre 49,0%, NOISETTES 25,0%, AMANDES 25,0%, é...   \n",
       "\n",
       "                                                         Ingrédients de la ground truth  \n",
       "uid                                                                                      \n",
       "bf633f9f-a89a-499b-afb8-1b874a477b08  champignons, eau, sel, acidifiant : acide citr...  \n",
       "84d5c32f-92d0-49c9-9151-d1fd65238a2a                                       Lait écrémé.  \n",
       "15d6958c-025e-43a6-9f3b-a0d923a61c3f  Pommes en tranches (35 à 56%), pêches en tranc...  \n",
       "eeca38ed-ff9b-467f-874d-298a350bd6c5          SEMOULE DE BLE' DUR de qualité supérieure  \n",
       "6db330c3-26d0-4a46-93a5-74e704b107ff                                                NaN  \n",
       "b70ed045-57ec-497d-bf18-af14fbbbe955                                                NaN  \n",
       "e67341d8-350f-46f4-9154-4dbbb8035621  Sucre roux de canne*° (64%), amidon de maïs*, ...  \n",
       "f9af1c71-59dd-4d11-8938-aa726ecffe6c  Eau, huile de tournesol, miel 10%, moutarde à ...  \n",
       "93fb1748-efa5-4679-b67e-51ff121c69e8  SUCRE DE CANNE, EAU, JUS DE MIRABELLE A BASE D...  \n",
       "f9f2c425-07cd-43ef-aabe-ec777e89a6e7  sucre 49,0%; noisettes 25,0%; amandes 25,0%; é...  "
      ]
     },
     "execution_count": 14,
     "metadata": {},
     "output_type": "execute_result"
    }
   ],
   "source": [
    "with pd.option_context(\"max_colwidth\", 100000):\n",
    "    tex_str = (\n",
    "    diff.sample(10, random_state=44)\n",
    "        .to_latex(index=False,\n",
    "                  index_names=False,\n",
    "                  column_format='p{7cm}p{7cm}',\n",
    "                  na_rep='-',\n",
    "                 )\n",
    "        .replace(r'\\textbackslash n', '\\\\newline ')\n",
    "    )\n",
    "#     print(tex_str)\n",
    "    \n",
    "# with open(Path('..') / 'tbls' / 'ingredient_comparison.tex', 'w') as file:\n",
    "#     file.write(tex_str)\n",
    "diff.sample(10, random_state=44)"
   ]
  },
  {
   "cell_type": "markdown",
   "metadata": {},
   "source": [
    "## Analyse du contenu des pièces jointes téléchargées\n",
    "\n",
    "On peut faire une estimation des pièces jointes dont les textes sont extractibles. On commence simplement par lister les pièces jointes relatives à la ground truth qui ont été téléchargées."
   ]
  },
  {
   "cell_type": "code",
   "execution_count": 15,
   "metadata": {},
   "outputs": [],
   "source": [
    "p = Path('.') / 'ground_truth_to_del'"
   ]
  },
  {
   "cell_type": "code",
   "execution_count": 19,
   "metadata": {},
   "outputs": [
    {
     "data": {
      "text/html": [
       "<div>\n",
       "<style scoped>\n",
       "    .dataframe tbody tr th:only-of-type {\n",
       "        vertical-align: middle;\n",
       "    }\n",
       "\n",
       "    .dataframe tbody tr th {\n",
       "        vertical-align: top;\n",
       "    }\n",
       "\n",
       "    .dataframe thead th {\n",
       "        text-align: right;\n",
       "    }\n",
       "</style>\n",
       "<table border=\"1\" class=\"dataframe\">\n",
       "  <thead>\n",
       "    <tr style=\"text-align: right;\">\n",
       "      <th></th>\n",
       "      <th>path</th>\n",
       "      <th>type</th>\n",
       "    </tr>\n",
       "    <tr>\n",
       "      <th>uid</th>\n",
       "      <th></th>\n",
       "      <th></th>\n",
       "    </tr>\n",
       "  </thead>\n",
       "  <tbody>\n",
       "    <tr>\n",
       "      <th>ed969c94-33a2-4a82-bc84-0d4adc908f5c</th>\n",
       "      <td>ground_truth_to_del/ed969c94-33a2-4a82-bc84-0d...</td>\n",
       "      <td>FTF</td>\n",
       "    </tr>\n",
       "    <tr>\n",
       "      <th>244e14b8-8291-4315-8ca8-53fa85cf23f6</th>\n",
       "      <td>ground_truth_to_del/244e14b8-8291-4315-8ca8-53...</td>\n",
       "      <td>FTF</td>\n",
       "    </tr>\n",
       "    <tr>\n",
       "      <th>f42e19ae-d433-410d-a28d-ca01127b0ded</th>\n",
       "      <td>ground_truth_to_del/f42e19ae-d433-410d-a28d-ca...</td>\n",
       "      <td>FTF</td>\n",
       "    </tr>\n",
       "    <tr>\n",
       "      <th>57877d62-ace0-44ad-81bf-ed63b7a37877</th>\n",
       "      <td>ground_truth_to_del/57877d62-ace0-44ad-81bf-ed...</td>\n",
       "      <td>FTF</td>\n",
       "    </tr>\n",
       "    <tr>\n",
       "      <th>194419d0-d9f2-4799-81ac-d9e3aa77fd27</th>\n",
       "      <td>ground_truth_to_del/194419d0-d9f2-4799-81ac-d9...</td>\n",
       "      <td>FTF</td>\n",
       "    </tr>\n",
       "  </tbody>\n",
       "</table>\n",
       "</div>"
      ],
      "text/latex": [
       "\\resizebox{\\linewidth}{!}{\\begin{scriptsize}\\centering{\\begin{tabular}{lll}\n",
       "\\toprule\n",
       "{} &                                               path & type \\\\\n",
       "uid                                  &                                                    &      \\\\\n",
       "\\midrule\n",
       "ed969c94-33a2-4a82-bc84-0d4adc908f5c &  ground\\_truth\\_to\\_del/ed969c94-33a2-4a82-bc84-0d... &  FTF \\\\\n",
       "244e14b8-8291-4315-8ca8-53fa85cf23f6 &  ground\\_truth\\_to\\_del/244e14b8-8291-4315-8ca8-53... &  FTF \\\\\n",
       "f42e19ae-d433-410d-a28d-ca01127b0ded &  ground\\_truth\\_to\\_del/f42e19ae-d433-410d-a28d-ca... &  FTF \\\\\n",
       "57877d62-ace0-44ad-81bf-ed63b7a37877 &  ground\\_truth\\_to\\_del/57877d62-ace0-44ad-81bf-ed... &  FTF \\\\\n",
       "194419d0-d9f2-4799-81ac-d9e3aa77fd27 &  ground\\_truth\\_to\\_del/194419d0-d9f2-4799-81ac-d9... &  FTF \\\\\n",
       "\\bottomrule\n",
       "\\end{tabular}\n",
       "}\\end{scriptsize}}"
      ],
      "text/plain": [
       "                                                                                   path type\n",
       "uid                                                                                         \n",
       "ed969c94-33a2-4a82-bc84-0d4adc908f5c  ground_truth_to_del/ed969c94-33a2-4a82-bc84-0d...  FTF\n",
       "244e14b8-8291-4315-8ca8-53fa85cf23f6  ground_truth_to_del/244e14b8-8291-4315-8ca8-53...  FTF\n",
       "f42e19ae-d433-410d-a28d-ca01127b0ded  ground_truth_to_del/f42e19ae-d433-410d-a28d-ca...  FTF\n",
       "57877d62-ace0-44ad-81bf-ed63b7a37877  ground_truth_to_del/57877d62-ace0-44ad-81bf-ed...  FTF\n",
       "194419d0-d9f2-4799-81ac-d9e3aa77fd27  ground_truth_to_del/194419d0-d9f2-4799-81ac-d9...  FTF"
      ]
     },
     "execution_count": 19,
     "metadata": {},
     "output_type": "execute_result"
    }
   ],
   "source": [
    "files_df = pd.DataFrame(list(p.glob('**/*.pdf')), columns=['path'])\n",
    "files_df['type'] = files_df['path'].apply(lambda x: x.name).apply(lambda x: x.split('.')[0])\n",
    "files_df['uid'] = files_df['path'].apply(lambda x: x.parent.name)\n",
    "files_df.set_index('uid', inplace=True)\n",
    "files_df.sample(5)"
   ]
  },
  {
   "cell_type": "markdown",
   "metadata": {},
   "source": [
    "On utilise les transformateur du module pimest pour récupérer le contenu de ces fichiers dans le dataframe."
   ]
  },
  {
   "cell_type": "code",
   "execution_count": null,
   "metadata": {},
   "outputs": [],
   "source": [
    "transformer = make_pipeline(ContentGetter(), PDFContentParser())\n",
    "files_df = transformer.fit_transform(files_df)\n",
    "files_df"
   ]
  },
  {
   "cell_type": "code",
   "execution_count": null,
   "metadata": {},
   "outputs": [],
   "source": [
    "files_df['empty'] = (files_df['text'].apply(lambda x: x.strip()) == '')\n",
    "files_df.sample(5)"
   ]
  },
  {
   "cell_type": "code",
   "execution_count": null,
   "metadata": {},
   "outputs": [],
   "source": [
    "(files_df.pivot_table(values='empty',\n",
    "                     index='type',\n",
    "                     aggfunc=['sum', 'count', 'mean'],\n",
    "                    )\n",
    "         .swaplevel(axis=1)\n",
    "         .rename({'empty': 'Fichiers \"vides\"',\n",
    "                   'sum': 'Nombre de fichiers vides',\n",
    "                   'count': 'Nombre total de fichiers',\n",
    "                   'mean': 'Taux de vides',\n",
    "                  }, axis=1)\n",
    "          .rename({'Etiquette': 'Etiquettes',\n",
    "                   'FTF': 'Fiches techniques',\n",
    "                  })\n",
    "\n",
    "          .to_latex(\n",
    "                    #Path('..') / 'tbls' / 'empty_attached_files.tex',\n",
    "                    column_format='lccc',\n",
    "                    bold_rows=True, \n",
    "                    index_names=False,\n",
    "                    formatters=[lambda x: str(int(x)),\n",
    "                                lambda x: str(int(x)),\n",
    "                                lambda x: f'{int(x * 100):d}%',\n",
    "                               ]\n",
    "                   )\n",
    ")\n",
    "pass"
   ]
  }
 ],
 "metadata": {
  "kernelspec": {
   "display_name": "Python 3",
   "language": "python",
   "name": "python3"
  },
  "language_info": {
   "codemirror_mode": {
    "name": "ipython",
    "version": 3
   },
   "file_extension": ".py",
   "mimetype": "text/x-python",
   "name": "python",
   "nbconvert_exporter": "python",
   "pygments_lexer": "ipython3",
   "version": "3.8.1"
  },
  "title": "Construction de la ground truth"
 },
 "nbformat": 4,
 "nbformat_minor": 4
}
