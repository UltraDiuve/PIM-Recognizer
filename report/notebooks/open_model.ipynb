{
 "cells": [
  {
   "cell_type": "markdown",
   "metadata": {},
   "source": [
    "# Modèle \"ouvert\"\n",
    "\n",
    "L'objet de ce notebook est de démontrer la faisabilité de prédire les listes d'ingrédients depuis des fiches techniques\n",
    "\n",
    "## Préambule technique"
   ]
  },
  {
   "cell_type": "code",
   "execution_count": 1,
   "metadata": {},
   "outputs": [],
   "source": [
    "# setting up sys.path for relative imports\n",
    "from pathlib import Path\n",
    "import sys\n",
    "project_root = str(Path(sys.path[0]).parents[1].absolute())\n",
    "if project_root not in sys.path:\n",
    "    sys.path.append(project_root)"
   ]
  },
  {
   "cell_type": "code",
   "execution_count": 2,
   "metadata": {},
   "outputs": [],
   "source": [
    "# imports and customization of diplay\n",
    "# import os\n",
    "# from functools import partial\n",
    "import numpy as np\n",
    "import pandas as pd\n",
    "pd.options.display.min_rows = 6\n",
    "pd.options.display.width=108\n",
    "# from sklearn.feature_extraction.text import CountVectorizer\n",
    "# from sklearn.model_selection import train_test_split\n",
    "# from sklearn.model_selection import cross_val_score, cross_validate\n",
    "# from sklearn.pipeline import Pipeline\n",
    "# from matplotlib import pyplot as plt\n",
    "\n",
    "from src.pimapi import Requester\n",
    "from src.pimest import PIMIngredientExtractor\n",
    "# from src.pimest import ContentGetter\n",
    "# from src.pimest import PathGetter\n",
    "# from src.pimest import PDFContentParser\n",
    "# from src.pimest import BlockSplitter\n",
    "# from src.pimest import SimilaritySelector\n",
    "# from src.pimest import custom_accuracy"
   ]
  },
  {
   "cell_type": "code",
   "execution_count": 3,
   "metadata": {},
   "outputs": [],
   "source": [
    "# monkeypatch _repr_latex_ for better inclusion of dataframes output in report\n",
    "def _repr_latex_(self, size='scriptsize',):\n",
    "    return(f\"\\\\resizebox{{\\\\linewidth}}{{!}}{{\\\\begin{{{size}}}\\\\centering{{{self.to_latex()}}}\\\\end{{{size}}}}}\")\n",
    "pd.DataFrame._repr_latex_ = _repr_latex_"
   ]
  },
  {
   "cell_type": "markdown",
   "metadata": {},
   "source": [
    "## Extraction des données\n",
    "\n",
    "On extrait les données depuis le PIM :"
   ]
  },
  {
   "cell_type": "code",
   "execution_count": 4,
   "metadata": {},
   "outputs": [
    {
     "name": "stdout",
     "output_type": "stream",
     "text": [
      "Done\n"
     ]
    },
    {
     "data": {
      "text/plain": [
       "[<Response [200]>,\n",
       " <Response [200]>,\n",
       " <Response [200]>,\n",
       " <Response [200]>,\n",
       " <Response [200]>,\n",
       " <Response [200]>,\n",
       " <Response [200]>,\n",
       " <Response [200]>,\n",
       " <Response [200]>,\n",
       " <Response [200]>,\n",
       " <Response [200]>,\n",
       " <Response [200]>,\n",
       " <Response [200]>,\n",
       " <Response [200]>]"
      ]
     },
     "execution_count": 4,
     "metadata": {},
     "output_type": "execute_result"
    }
   ],
   "source": [
    "requester = Requester('prd')\n",
    "requester.fetch_all_from_PIM()\n",
    "requester.result"
   ]
  },
  {
   "cell_type": "code",
   "execution_count": 5,
   "metadata": {},
   "outputs": [],
   "source": [
    "df = requester.result_to_dataframe(record_path='entries', index='uid')"
   ]
  },
  {
   "cell_type": "markdown",
   "metadata": {},
   "source": [
    "## Constitution du périmètre\n",
    "\n",
    "On conserve les produits qui : \n",
    "- sont de type Epicerie ou Boisson non alcoolisée\n",
    "- portent une liste d'ingrédients\n",
    "- sont en qualité :\n",
    "    - soit ont terminé le processus de migration, soit ont été créés après la reprise initiale\n",
    "    - et ont le statut \"Validé\""
   ]
  },
  {
   "cell_type": "code",
   "execution_count": 6,
   "metadata": {},
   "outputs": [
    {
     "name": "stdout",
     "output_type": "stream",
     "text": [
      "After filters, there are 3407 records in the dataset,\n",
      "and 9893 records left out.\n"
     ]
    }
   ],
   "source": [
    "# filter by product type\n",
    "type_mask = df['properties.pprodtop:typeOfProduct'].isin(['grocery', 'nonAlcoholicDrink'])\n",
    "\n",
    "# keep only those who have ingredients\n",
    "ingredient_mask = pd.notna(df['properties.pprodc:ingredientsList'])\n",
    "\n",
    "# filter out those who have not finished migration\n",
    "df['begin_mig'] = df['facets'].apply(lambda x: 'beginningMigration' in x)\n",
    "df['end_mig'] = df['facets'].apply(lambda x: 'endMigration' in x)\n",
    "migration_mask = df.loc[:, 'end_mig'] | ~df.loc[:, 'begin_mig']\n",
    "\n",
    "# filter out those who are not validated\n",
    "status_mask = (df.loc[:, 'state'] == 'product.validate')\n",
    "\n",
    "scope_mask = type_mask & ingredient_mask & migration_mask & status_mask\n",
    "\n",
    "scope_df = df.loc[scope_mask]\n",
    "print(f'After filters, there are {len(scope_df)} records in the dataset,')\n",
    "out_of_scope_df = df.loc[~df.index.isin(scope_df.index)]\n",
    "print(f'and {len(out_of_scope_df)} records left out.')"
   ]
  },
  {
   "cell_type": "markdown",
   "metadata": {},
   "source": [
    "## Entraînement : constitution du vocabulaire\n",
    "\n",
    "On entraîne le modèle sur les listes d'ingrédients du périmètre. Cela revient à fitter le CountVectorizer sous-jacent. "
   ]
  },
  {
   "cell_type": "code",
   "execution_count": 7,
   "metadata": {},
   "outputs": [
    {
     "data": {
      "text/plain": [
       "<src.pimest.PIMIngredientExtractor at 0x7ff230e1fb20>"
      ]
     },
     "execution_count": 7,
     "metadata": {},
     "output_type": "execute_result"
    }
   ],
   "source": [
    "model = PIMIngredientExtractor('prd')\n",
    "model.fit(scope_df['properties.pprodc:ingredientsList'])"
   ]
  },
  {
   "cell_type": "markdown",
   "metadata": {},
   "source": [
    "On peut imprimer une partie du vocabulaire qui a été construit :"
   ]
  },
  {
   "cell_type": "code",
   "execution_count": 8,
   "metadata": {},
   "outputs": [
    {
     "name": "stdout",
     "output_type": "stream",
     "text": [
      "Vocabulary consists in 2514 words.\n",
      "\n",
      "Some words examples are :\n",
      "-  morilles\n",
      "-  kombu\n",
      "-  déshydraté\n",
      "-  100\n",
      "-  eau\n",
      "-  graines\n",
      "-  de\n",
      "-  moutarde\n"
     ]
    }
   ],
   "source": [
    "print(f'Vocabulary consists in {len(model._count_vect.vocabulary_)} words.\\n')\n",
    "print('Some words examples are :')\n",
    "\n",
    "for i, word in enumerate(model._count_vect.vocabulary_.keys()):\n",
    "    print('- ', word)\n",
    "    if i > 6:\n",
    "        break"
   ]
  },
  {
   "cell_type": "markdown",
   "metadata": {},
   "source": [
    "On peut également afficher les mots les plus fréquents dans le corpus de listes d'ingrédients d'entraînement. On constitue d'abord la matrice des textes transformés :"
   ]
  },
  {
   "cell_type": "code",
   "execution_count": 9,
   "metadata": {
    "scrolled": true
   },
   "outputs": [
    {
     "data": {
      "text/plain": [
       "(3407, 2514)"
      ]
     },
     "execution_count": 9,
     "metadata": {},
     "output_type": "execute_result"
    }
   ],
   "source": [
    "vectorized = model._count_vect.transform(scope_df['properties.pprodc:ingredientsList'])\n",
    "vectorized.shape"
   ]
  },
  {
   "cell_type": "markdown",
   "metadata": {},
   "source": [
    "On a bien 3412 documents projetés sur 2509 mots. Si on extrait les plus fréquents, on obtient :"
   ]
  },
  {
   "cell_type": "code",
   "execution_count": 10,
   "metadata": {
    "scrolled": true
   },
   "outputs": [
    {
     "name": "stdout",
     "output_type": "stream",
     "text": [
      "Most frequent words in vocabulary are:\n",
      "de     : 11544 occurences\n",
      "sucre  :  2069 occurences\n",
      "sel    :  1647 occurences\n",
      "eau    :  1266 occurences\n",
      "acide  :  1245 occurences\n",
      "huile  :  1241 occurences\n",
      "lait   :  1228 occurences\n",
      "poudre :  1099 occurences\n",
      "en     :   972 occurences\n",
      "arôme  :   940 occurences\n"
     ]
    }
   ],
   "source": [
    "inverse_voc = {val: key for key, val in model._count_vect.vocabulary_.items()}\n",
    "word_counts = np.asarray(vectorized.sum(axis=0)).squeeze()\n",
    "print('Most frequent words in vocabulary are:')\n",
    "for idx in word_counts.argsort()[::-1][:10]:\n",
    "    print(f'{inverse_voc[idx].ljust(7)}: {word_counts[idx]:5} occurences')\n"
   ]
  },
  {
   "cell_type": "markdown",
   "metadata": {},
   "source": [
    "## Prédictions\n",
    "\n",
    "Le wrapper `PIMIngredientExtractor` permet de simplement récupérer les informations du PIM et les pièces jointes associées, et de faire tourner le modèle pour extraire le bloc le plus similaire aux listes d'ingrédients."
   ]
  },
  {
   "cell_type": "code",
   "execution_count": 20,
   "metadata": {
    "scrolled": false
   },
   "outputs": [
    {
     "name": "stdout",
     "output_type": "stream",
     "text": [
      "Fetching data from PIM for uid 78dd3d32-5c23-495e-a4f9-71f6b3c692d7...\n",
      "Done\n",
      "----------------------------------------------------------\n",
      "Ingredient list from PIM is :\n",
      "\n",
      "Sens gourmet Sarl - 15/17 rue du travy  ZI sénia 715  94657 Thiais T 01 49 79 98 29  F 01 48 85 36 32  info@sensgourmet.com Code 58050000 (500 gr) Code EAN 8414933570004 RSIPAC N° 31-04482/CAT-31.01506B DESCRIPTION : Ingrédient d'origine naturel. Agent gélifiant pour des gelées complétement transparentes à base d'eau. Origine : Europe APPLICATIONS : La gélatine est un ingrédient d'origine naturelle qui a une grande capacité d'absorption des molécules d'eau. Il s'agit d'une gélatine très élastique avec une bonne absorption de l'eau. Une température de gélification : 60ºC. Dosage : 50 g/kg COMPOSITION : Maltodextrine, agent épaississant: carrageenan (E407), dextrose, chlorure de potassium (E508), acidifiant: trisodium citrate (E331iii), agent épaississant: gomme de caroube (E410), saccharose.\n",
      "\n",
      "----------------------------------------------------------\n",
      "Supplier technical datasheet from PIM for uid 78dd3d32-5c23-495e-a4f9-71f6b3c692d7 is:\n",
      "https://produits.groupe-pomona.fr/nuxeo/nxfile/default/78dd3d32-5c23-495e-a4f9-71f6b3c692d7/pprodad:technicalSheet/FT-163464_Gelatine%20vegetale%20pot%20500Gx6_SENS%20GOURMET.pdf?changeToken=25-0\n",
      "----------------------------------------------------------\n",
      "Downloading content of technical datasheet file...\n",
      "Done!\n",
      "----------------------------------------------------------\n",
      "Parsing content of technical datasheet file...\n",
      "Done!\n",
      "----------------------------------------------------------\n",
      "Ingredient list extracted from technical datasheet:\n",
      "\n",
      "Code  \n",
      "Code EAN \n",
      "RSIPAC N° \n",
      " \n",
      "DESCRIPTION : \n",
      " \n",
      "Ingrédient d'origine naturel. Agent gélifiant pour des gelées complétement transparentes à base d’eau. \n",
      "Origine : Europe \n",
      " \n",
      "APPLICATIONS : \n",
      " \n",
      "La gélatine est  un ingrédient d'origine naturelle qui a une grande capacité d'absorption des molécules d’eau. \n",
      "Il s'agit d'une gélatine très élastique avec une bonne absorption de l'eau. Une température de gélification : \n",
      "60ºC. Dosage : 50 g/kg \n",
      " \n",
      "COMPOSITION :  \n",
      " \n",
      "Maltodextrine, agent épaississant: carrageenan (E407), dextrose, chlorure de potassium (E508), \n",
      "acidifiant: trisodium citrate (E331iii), agent épaississant: gomme de caroube (E410), saccharose. \n",
      " \n",
      "PARAMETRES ORGANOLEPTIQUES \n",
      "Aspect : poudre fine, couleur blanche \n",
      "Goût : neutre, doux  \n",
      "Odeur : neutre \n",
      " \n",
      " PROPRIETES PHYSIQUES ET CHIMIQUES \n",
      "Humidité : maximum  \n",
      "ASH \n",
      " \n",
      "VALEURS NUTRITIONNELLES  \n",
      "Energie  \n",
      "Graisses \n",
      "Saturées \n",
      "Glucides \n",
      "Sucres  \n",
      "Protéines \n",
      "Sel  \n",
      "Fibres \n",
      " \n",
      "PROPRIETES MICROBIOLOGIQUES : \n",
      "microorganismes aérobies mésophiles (cfu/g)  Max 5000/g \n",
      "E.coli en 0.1g \n",
      "Salmonelle spp (cfu/25gr) \n",
      "Moisissures (cfu/g) \n",
      "Levures (cfu/g) \n",
      "Total coliforms \n",
      " \n",
      " \n",
      " \n",
      "Sens gourmet Sarl - 15/17 rue du travy – ZI sénia 715 – 94657 Thiais  \n",
      "T 01 49 79 98 29 – F 01 48 85 36 32 – info@sensgourmet.com \n",
      "\n",
      "----------------------------------------------------------\n",
      "\n",
      "==========================================================\n",
      "==========================================================\n",
      "\n",
      "Fetching data from PIM for uid 49f82f07-94af-4437-b433-351aaa6837d8...\n",
      "Done\n",
      "----------------------------------------------------------\n",
      "Ingredient list from PIM is :\n",
      "\n",
      "None\n",
      "\n",
      "----------------------------------------------------------\n",
      "Supplier technical datasheet from PIM for uid 49f82f07-94af-4437-b433-351aaa6837d8 is:\n",
      "https://produits.groupe-pomona.fr/nuxeo/nxfile/default/49f82f07-94af-4437-b433-351aaa6837d8/pprodad:technicalSheet/FT-182074_Bisc%20avoine%20myrt%20Bio%20bte%2045G%20TBegin_Mononaturel.docx.pdf?changeToken=21-0\n",
      "----------------------------------------------------------\n",
      "Downloading content of technical datasheet file...\n",
      "Done!\n",
      "----------------------------------------------------------\n",
      "Parsing content of technical datasheet file...\n",
      "Done!\n",
      "----------------------------------------------------------\n",
      "Ingredient list extracted from technical datasheet:\n",
      "\n",
      " \n",
      "45 g \n",
      "50 g \n",
      "50 X 40 X H 85 mm \n",
      "4751018890904 \n",
      " \n",
      "24 cookies \n",
      "1008 g \n",
      "1200 g \n",
      "170X160X H 190 mm \n",
      " \n",
      "800 X 1000 X H 1400 mm \n",
      "4704 units \n",
      "196 boxes \n",
      "28 boxes \n",
      "215 kg \n",
      "235 kg \n",
      "\n",
      "----------------------------------------------------------\n",
      "\n",
      "==========================================================\n",
      "==========================================================\n",
      "\n",
      "Fetching data from PIM for uid e6fdec57-8df2-477a-942a-7d47bba41fd4...\n",
      "Done\n",
      "----------------------------------------------------------\n",
      "Ingredient list from PIM is :\n",
      "\n",
      "None\n",
      "\n",
      "----------------------------------------------------------\n",
      "Supplier technical datasheet from PIM for uid e6fdec57-8df2-477a-942a-7d47bba41fd4 is:\n",
      "https://produits.groupe-pomona.fr/nuxeo/nxfile/default/e6fdec57-8df2-477a-942a-7d47bba41fd4/pprodad:technicalSheet/FT-178340_Sabots%20securite%20T36%20blc_Mutexil.pdf?changeToken=25-0\n",
      "----------------------------------------------------------\n",
      "Downloading content of technical datasheet file...\n",
      "Done!\n",
      "----------------------------------------------------------\n",
      "Parsing content of technical datasheet file...\n",
      "Fetching data from PIM for uid c771677a-b017-43ff-a5de-0d8be410a830...\n",
      "Done\n",
      "----------------------------------------------------------\n",
      "Ingredient list from PIM is :\n",
      "\n",
      "Huile de colza, huile d'olive (24 %), vinaigre de vin affiné (conservateur : E222), eau, sel, épice.\n",
      "\n",
      "----------------------------------------------------------\n",
      "Supplier technical datasheet from PIM for uid c771677a-b017-43ff-a5de-0d8be410a830 is:\n",
      "https://produits.groupe-pomona.fr/nuxeo/nxfile/default/c771677a-b017-43ff-a5de-0d8be410a830/pprodad:technicalSheet/FT-67277_Vinaigrette%20huile%20olive%20col%2024G_Gyma.pdf?changeToken=34-0\n",
      "----------------------------------------------------------\n",
      "Downloading content of technical datasheet file...\n",
      "Done!\n",
      "----------------------------------------------------------\n",
      "Parsing content of technical datasheet file...\n",
      "Done!\n",
      "----------------------------------------------------------\n",
      "Ingredient list extracted from technical datasheet:\n",
      "\n",
      "Huile de colza, huile d'olive (24 %), vinaigre de vin affiné (conservateur : E222*), eau, sel, épice. *Contient : \n",
      "SULFITES. \n",
      "Rapeseed oil, olive oil (24%), refined wine vinegar (preservative: E222*), water, salt, spice. *Contains: SULFITES. \n",
      "\n",
      "----------------------------------------------------------\n",
      "\n",
      "==========================================================\n",
      "==========================================================\n",
      "\n",
      "Fetching data from PIM for uid cbbd03b7-9cf4-47b3-bae9-28a9af1263ba...\n",
      "Done\n",
      "----------------------------------------------------------\n",
      "Ingredient list from PIM is :\n",
      "\n",
      "Potiron 49%, graisse de palme, amidon de pomme de terre, pomme de terre 7,7%, sel, arômes (dont BLÉ, ORGE), huile de maïs, sucre, LACTOSE, oignon grillé 1,9%, extrait de levure, maltodextrine, protéines de LAIT, épices (poivre, noix de muscade).\n",
      "\n",
      "----------------------------------------------------------\n",
      "Supplier technical datasheet from PIM for uid cbbd03b7-9cf4-47b3-bae9-28a9af1263ba is:\n",
      "https://produits.groupe-pomona.fr/nuxeo/nxfile/default/cbbd03b7-9cf4-47b3-bae9-28a9af1263ba/pprodad:technicalSheet/FT-86667_Creme%20potiron%20bte%201,155K_Knorr.pdf?changeToken=26-0\n",
      "----------------------------------------------------------\n",
      "Downloading content of technical datasheet file...\n",
      "Done!\n",
      "----------------------------------------------------------\n",
      "Parsing content of technical datasheet file...\n",
      "Done!\n",
      "----------------------------------------------------------\n",
      "Ingredient list extracted from technical datasheet:\n",
      "\n",
      "Liste d’ingrédients: Potiron 49%, graisse de palme, amidon de pomme de terre, pomme de terre 7,7%, \n",
      "sel, arômes (dont BLÉ, ORGE), huile de maïs, sucre, LACTOSE, oignon grillé 1,9%, extrait de levure, \n",
      "maltodextrine, protéines de LAIT, épices (poivre, noix de muscade). Peut contenir : œuf, céleri et moutarde.\n",
      "\n",
      "----------------------------------------------------------\n",
      "\n",
      "==========================================================\n",
      "==========================================================\n",
      "\n"
     ]
    }
   ],
   "source": [
    "exec_count = 5\n",
    "uids = list(out_of_scope_df.sample(exec_count, ).index)\n",
    "i = 0\n",
    "\n",
    "for uid in uids:\n",
    "        try:\n",
    "            model.compare_uid_data(uid)\n",
    "            print('\\n=========================================================='\n",
    "                   '\\n==========================================================\\n')\n",
    "            i += 1\n",
    "        except:\n",
    "            pass\n",
    "        if i > exec_count:\n",
    "            break"
   ]
  },
  {
   "cell_type": "code",
   "execution_count": null,
   "metadata": {},
   "outputs": [],
   "source": []
  }
 ],
 "metadata": {
  "kernelspec": {
   "display_name": "Python 3",
   "language": "python",
   "name": "python3"
  },
  "language_info": {
   "codemirror_mode": {
    "name": "ipython",
    "version": 3
   },
   "file_extension": ".py",
   "mimetype": "text/x-python",
   "name": "python",
   "nbconvert_exporter": "python",
   "pygments_lexer": "ipython3",
   "version": "3.8.1"
  }
 },
 "nbformat": 4,
 "nbformat_minor": 4
}
