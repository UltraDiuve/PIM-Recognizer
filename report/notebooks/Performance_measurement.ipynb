{
 "cells": [
  {
   "cell_type": "markdown",
   "metadata": {},
   "source": [
    "# Mesure de la performance du modèle\n",
    "\n",
    "L'objet de ce notebook est d'illustrer la méthodologie de mesure de la performance du modèle.\n",
    "\n",
    "\n",
    "## Préambule technique"
   ]
  },
  {
   "cell_type": "code",
   "execution_count": 1,
   "metadata": {},
   "outputs": [],
   "source": [
    "# setting up sys.path for relative imports\n",
    "from pathlib import Path\n",
    "import sys\n",
    "project_root = str(Path(sys.path[0]).parents[1].absolute())\n",
    "if project_root not in sys.path:\n",
    "    sys.path.append(project_root)"
   ]
  },
  {
   "cell_type": "code",
   "execution_count": 2,
   "metadata": {},
   "outputs": [],
   "source": [
    "# imports and customization of diplay\n",
    "import os\n",
    "import pandas as pd\n",
    "pd.options.display.min_rows = 6\n",
    "pd.options.display.width=108\n",
    "from sklearn.model_selection import train_test_split\n",
    "from sklearn.pipeline import Pipeline\n",
    "\n",
    "from src.pimest import ContentGetter\n",
    "from src.pimest import PathGetter\n",
    "from src.pimest import PDFContentParser\n",
    "from src.pimest import BlockSplitter\n",
    "from src.pimest import SimilaritySelector"
   ]
  },
  {
   "cell_type": "markdown",
   "metadata": {},
   "source": [
    "## Acquisition des données\n",
    "\n",
    "On récupère les données manuellement étiquetées et on les intègre dans un dataframe"
   ]
  },
  {
   "cell_type": "code",
   "execution_count": 3,
   "metadata": {},
   "outputs": [
    {
     "name": "stdout",
     "output_type": "stream",
     "text": [
      "[Pipeline] ........ (step 1 of 3) Processing PathGetter, total=   0.1s\n",
      "[Pipeline] ..... (step 2 of 3) Processing ContentGetter, total=   0.1s\n",
      "Launching 8 processes.\n",
      "[Pipeline] ..... (step 3 of 3) Processing ContentParser, total=  37.0s\n"
     ]
    },
    {
     "data": {
      "text/html": [
       "<div>\n",
       "<style scoped>\n",
       "    .dataframe tbody tr th:only-of-type {\n",
       "        vertical-align: middle;\n",
       "    }\n",
       "\n",
       "    .dataframe tbody tr th {\n",
       "        vertical-align: top;\n",
       "    }\n",
       "\n",
       "    .dataframe thead th {\n",
       "        text-align: right;\n",
       "    }\n",
       "</style>\n",
       "<table border=\"1\" class=\"dataframe\">\n",
       "  <thead>\n",
       "    <tr style=\"text-align: right;\">\n",
       "      <th></th>\n",
       "      <th>designation</th>\n",
       "      <th>ingredients</th>\n",
       "      <th>path</th>\n",
       "      <th>content</th>\n",
       "      <th>text</th>\n",
       "    </tr>\n",
       "    <tr>\n",
       "      <th>uid</th>\n",
       "      <th></th>\n",
       "      <th></th>\n",
       "      <th></th>\n",
       "      <th></th>\n",
       "      <th></th>\n",
       "    </tr>\n",
       "  </thead>\n",
       "  <tbody>\n",
       "    <tr>\n",
       "      <th>a0492df6-9c76-4303-8813-65ec5ccbfa70</th>\n",
       "      <td>Concentré liquide Asian en bouteille 980 ml CHEF</td>\n",
       "      <td>Eau, maltodextrine, sel, arômes, sucre, arôme ...</td>\n",
       "      <td>../../ground_truth/a0492df6-9c76-4303-8813-65e...</td>\n",
       "      <td>b'%PDF-1.5\\r\\n%\\xb5\\xb5\\xb5\\xb5\\r\\n1 0 obj\\r\\n...</td>\n",
       "      <td>Concentré Liquide Asian CHEF® \\n\\nBouteille de...</td>\n",
       "    </tr>\n",
       "    <tr>\n",
       "      <th>d183e914-db2f-4e2f-863a-a3b2d054c0b8</th>\n",
       "      <td>Pain burger curry 80 g CREATIV BURGER</td>\n",
       "      <td>Farine de blé T65, eau, levure, vinaigre de ci...</td>\n",
       "      <td>../../ground_truth/d183e914-db2f-4e2f-863a-a3b...</td>\n",
       "      <td>b'%PDF-1.5\\r%\\xe2\\xe3\\xcf\\xd3\\r\\n4 0 obj\\r&lt;&lt;/L...</td>\n",
       "      <td></td>\n",
       "    </tr>\n",
       "    <tr>\n",
       "      <th>ab48a1ed-7a3d-4686-bb6d-ab4f367cada8</th>\n",
       "      <td>Macaroni en sachet 500 g PANZANI</td>\n",
       "      <td>- 100% Semoule de BLE dur de qualité supérieur...</td>\n",
       "      <td>../../ground_truth/ab48a1ed-7a3d-4686-bb6d-ab4...</td>\n",
       "      <td>b'%PDF-1.4\\n%\\xc7\\xec\\x8f\\xa2\\n5 0 obj\\n&lt;&lt;/Len...</td>\n",
       "      <td>Direction Qualité \\n\\n \\n\\n \\n\\nPATES ALIMENTA...</td>\n",
       "    </tr>\n",
       "    <tr>\n",
       "      <th>...</th>\n",
       "      <td>...</td>\n",
       "      <td>...</td>\n",
       "      <td>...</td>\n",
       "      <td>...</td>\n",
       "      <td>...</td>\n",
       "    </tr>\n",
       "    <tr>\n",
       "      <th>e67341d8-350f-46f4-9154-4dbbb8035621</th>\n",
       "      <td>PRÉPARATION POUR CRÈME BRÛLÉE BIO 6L</td>\n",
       "      <td>Sucre roux de canne*° (64%), amidon de maïs*, ...</td>\n",
       "      <td>../../ground_truth/e67341d8-350f-46f4-9154-4db...</td>\n",
       "      <td>b'%PDF-1.7\\r\\n%\\xb5\\xb5\\xb5\\xb5\\r\\n1 0 obj\\r\\n...</td>\n",
       "      <td>FICHE TECHNIQUE \\n\\nCREME BRÛLÉE 6L \\n\\nREF : ...</td>\n",
       "    </tr>\n",
       "    <tr>\n",
       "      <th>a8f6f672-20ac-4ff8-a8f2-3bc4306c8df3</th>\n",
       "      <td>Céréales instantanées en poudre saveur caramel...</td>\n",
       "      <td>Farine 87,1 % (Blé (GLUTEN), Blé hydrolysé (GL...</td>\n",
       "      <td>../../ground_truth/a8f6f672-20ac-4ff8-a8f2-3bc...</td>\n",
       "      <td>b'%PDF-1.5\\r\\n%\\xb5\\xb5\\xb5\\xb5\\r\\n1 0 obj\\r\\n...</td>\n",
       "      <td>81 rue de Sans Souci – CS13754 – 69576 Limones...</td>\n",
       "    </tr>\n",
       "    <tr>\n",
       "      <th>0faad739-ea8c-4f03-b62e-51ee592a0546</th>\n",
       "      <td>FARINE DE BLÉ TYPE 45, 10KG</td>\n",
       "      <td>Farine de blé T45</td>\n",
       "      <td>../../ground_truth/0faad739-ea8c-4f03-b62e-51e...</td>\n",
       "      <td>b'%PDF-1.5\\r\\n%\\xb5\\xb5\\xb5\\xb5\\r\\n1 0 obj\\r\\n...</td>\n",
       "      <td>\\n1050/10502066400 \\n\\n10502055300/1050202520...</td>\n",
       "    </tr>\n",
       "  </tbody>\n",
       "</table>\n",
       "<p>500 rows × 5 columns</p>\n",
       "</div>"
      ],
      "text/plain": [
       "                                                                            designation  \\\n",
       "uid                                                                                       \n",
       "a0492df6-9c76-4303-8813-65ec5ccbfa70   Concentré liquide Asian en bouteille 980 ml CHEF   \n",
       "d183e914-db2f-4e2f-863a-a3b2d054c0b8              Pain burger curry 80 g CREATIV BURGER   \n",
       "ab48a1ed-7a3d-4686-bb6d-ab4f367cada8                   Macaroni en sachet 500 g PANZANI   \n",
       "...                                                                                 ...   \n",
       "e67341d8-350f-46f4-9154-4dbbb8035621               PRÉPARATION POUR CRÈME BRÛLÉE BIO 6L   \n",
       "a8f6f672-20ac-4ff8-a8f2-3bc4306c8df3  Céréales instantanées en poudre saveur caramel...   \n",
       "0faad739-ea8c-4f03-b62e-51ee592a0546                        FARINE DE BLÉ TYPE 45, 10KG   \n",
       "\n",
       "                                                                            ingredients  \\\n",
       "uid                                                                                       \n",
       "a0492df6-9c76-4303-8813-65ec5ccbfa70  Eau, maltodextrine, sel, arômes, sucre, arôme ...   \n",
       "d183e914-db2f-4e2f-863a-a3b2d054c0b8  Farine de blé T65, eau, levure, vinaigre de ci...   \n",
       "ab48a1ed-7a3d-4686-bb6d-ab4f367cada8  - 100% Semoule de BLE dur de qualité supérieur...   \n",
       "...                                                                                 ...   \n",
       "e67341d8-350f-46f4-9154-4dbbb8035621  Sucre roux de canne*° (64%), amidon de maïs*, ...   \n",
       "a8f6f672-20ac-4ff8-a8f2-3bc4306c8df3  Farine 87,1 % (Blé (GLUTEN), Blé hydrolysé (GL...   \n",
       "0faad739-ea8c-4f03-b62e-51ee592a0546                                  Farine de blé T45   \n",
       "\n",
       "                                                                                   path  \\\n",
       "uid                                                                                       \n",
       "a0492df6-9c76-4303-8813-65ec5ccbfa70  ../../ground_truth/a0492df6-9c76-4303-8813-65e...   \n",
       "d183e914-db2f-4e2f-863a-a3b2d054c0b8  ../../ground_truth/d183e914-db2f-4e2f-863a-a3b...   \n",
       "ab48a1ed-7a3d-4686-bb6d-ab4f367cada8  ../../ground_truth/ab48a1ed-7a3d-4686-bb6d-ab4...   \n",
       "...                                                                                 ...   \n",
       "e67341d8-350f-46f4-9154-4dbbb8035621  ../../ground_truth/e67341d8-350f-46f4-9154-4db...   \n",
       "a8f6f672-20ac-4ff8-a8f2-3bc4306c8df3  ../../ground_truth/a8f6f672-20ac-4ff8-a8f2-3bc...   \n",
       "0faad739-ea8c-4f03-b62e-51ee592a0546  ../../ground_truth/0faad739-ea8c-4f03-b62e-51e...   \n",
       "\n",
       "                                                                                content  \\\n",
       "uid                                                                                       \n",
       "a0492df6-9c76-4303-8813-65ec5ccbfa70  b'%PDF-1.5\\r\\n%\\xb5\\xb5\\xb5\\xb5\\r\\n1 0 obj\\r\\n...   \n",
       "d183e914-db2f-4e2f-863a-a3b2d054c0b8  b'%PDF-1.5\\r%\\xe2\\xe3\\xcf\\xd3\\r\\n4 0 obj\\r<</L...   \n",
       "ab48a1ed-7a3d-4686-bb6d-ab4f367cada8  b'%PDF-1.4\\n%\\xc7\\xec\\x8f\\xa2\\n5 0 obj\\n<</Len...   \n",
       "...                                                                                 ...   \n",
       "e67341d8-350f-46f4-9154-4dbbb8035621  b'%PDF-1.7\\r\\n%\\xb5\\xb5\\xb5\\xb5\\r\\n1 0 obj\\r\\n...   \n",
       "a8f6f672-20ac-4ff8-a8f2-3bc4306c8df3  b'%PDF-1.5\\r\\n%\\xb5\\xb5\\xb5\\xb5\\r\\n1 0 obj\\r\\n...   \n",
       "0faad739-ea8c-4f03-b62e-51ee592a0546  b'%PDF-1.5\\r\\n%\\xb5\\xb5\\xb5\\xb5\\r\\n1 0 obj\\r\\n...   \n",
       "\n",
       "                                                                                   text  \n",
       "uid                                                                                      \n",
       "a0492df6-9c76-4303-8813-65ec5ccbfa70  Concentré Liquide Asian CHEF® \\n\\nBouteille de...  \n",
       "d183e914-db2f-4e2f-863a-a3b2d054c0b8                                                  \n",
       "  \n",
       "ab48a1ed-7a3d-4686-bb6d-ab4f367cada8  Direction Qualité \\n\\n \\n\\n \\n\\nPATES ALIMENTA...  \n",
       "...                                                                                 ...  \n",
       "e67341d8-350f-46f4-9154-4dbbb8035621  FICHE TECHNIQUE \\n\\nCREME BRÛLÉE 6L \\n\\nREF : ...  \n",
       "a8f6f672-20ac-4ff8-a8f2-3bc4306c8df3  81 rue de Sans Souci – CS13754 – 69576 Limones...  \n",
       "0faad739-ea8c-4f03-b62e-51ee592a0546   \\n1050/10502066400 \\n\\n10502055300/1050202520...  \n",
       "\n",
       "[500 rows x 5 columns]"
      ]
     },
     "execution_count": 3,
     "metadata": {},
     "output_type": "execute_result"
    }
   ],
   "source": [
    "ground_truth_df = pd.read_csv(Path('..') / '..' / 'ground_truth' / 'manually_labelled_ground_truth.csv',\n",
    "                              sep=';',\n",
    "                              encoding='latin-1',\n",
    "                              index_col='uid')\n",
    "ground_truth_uids = list(ground_truth_df.index)\n",
    "\n",
    "acqui_pipe = Pipeline([('PathGetter', PathGetter(ground_truth_uids=ground_truth_uids,\n",
    "                                                  train_set_path=Path('..') / '..' / 'ground_truth',\n",
    "                                                  ground_truth_path=Path('..') / '..' / 'ground_truth',\n",
    "                                                  )),\n",
    "                        ('ContentGetter', ContentGetter(missing_file='to_nan')),\n",
    "                        ('ContentParser', PDFContentParser(none_content='to_empty')),\n",
    "                       ],\n",
    "                       verbose=True)\n",
    "\n",
    "texts_df = acqui_pipe.fit_transform(ground_truth_df)\n",
    "texts_df"
   ]
  },
  {
   "cell_type": "markdown",
   "metadata": {},
   "source": [
    "On splitte les textes en blocs de manière basique."
   ]
  },
  {
   "cell_type": "code",
   "execution_count": 4,
   "metadata": {},
   "outputs": [
    {
     "name": "stdout",
     "output_type": "stream",
     "text": [
      "Launching 8 processes.\n"
     ]
    },
    {
     "data": {
      "text/html": [
       "<div>\n",
       "<style scoped>\n",
       "    .dataframe tbody tr th:only-of-type {\n",
       "        vertical-align: middle;\n",
       "    }\n",
       "\n",
       "    .dataframe tbody tr th {\n",
       "        vertical-align: top;\n",
       "    }\n",
       "\n",
       "    .dataframe thead th {\n",
       "        text-align: right;\n",
       "    }\n",
       "</style>\n",
       "<table border=\"1\" class=\"dataframe\">\n",
       "  <thead>\n",
       "    <tr style=\"text-align: right;\">\n",
       "      <th></th>\n",
       "      <th>designation</th>\n",
       "      <th>ingredients</th>\n",
       "      <th>path</th>\n",
       "      <th>content</th>\n",
       "      <th>text</th>\n",
       "      <th>blocks</th>\n",
       "    </tr>\n",
       "    <tr>\n",
       "      <th>uid</th>\n",
       "      <th></th>\n",
       "      <th></th>\n",
       "      <th></th>\n",
       "      <th></th>\n",
       "      <th></th>\n",
       "      <th></th>\n",
       "    </tr>\n",
       "  </thead>\n",
       "  <tbody>\n",
       "    <tr>\n",
       "      <th>a0492df6-9c76-4303-8813-65ec5ccbfa70</th>\n",
       "      <td>Concentré liquide Asian en bouteille 980 ml CHEF</td>\n",
       "      <td>Eau, maltodextrine, sel, arômes, sucre, arôme ...</td>\n",
       "      <td>../../ground_truth/a0492df6-9c76-4303-8813-65e...</td>\n",
       "      <td>b'%PDF-1.5\\r\\n%\\xb5\\xb5\\xb5\\xb5\\r\\n1 0 obj\\r\\n...</td>\n",
       "      <td>Concentré Liquide Asian CHEF® \\n\\nBouteille de...</td>\n",
       "      <td>[Concentré Liquide Asian CHEF® , Bouteille de ...</td>\n",
       "    </tr>\n",
       "    <tr>\n",
       "      <th>d183e914-db2f-4e2f-863a-a3b2d054c0b8</th>\n",
       "      <td>Pain burger curry 80 g CREATIV BURGER</td>\n",
       "      <td>Farine de blé T65, eau, levure, vinaigre de ci...</td>\n",
       "      <td>../../ground_truth/d183e914-db2f-4e2f-863a-a3b...</td>\n",
       "      <td>b'%PDF-1.5\\r%\\xe2\\xe3\\xcf\\xd3\\r\\n4 0 obj\\r&lt;&lt;/L...</td>\n",
       "      <td></td>\n",
       "      <td>[\f",
       "]</td>\n",
       "    </tr>\n",
       "    <tr>\n",
       "      <th>ab48a1ed-7a3d-4686-bb6d-ab4f367cada8</th>\n",
       "      <td>Macaroni en sachet 500 g PANZANI</td>\n",
       "      <td>- 100% Semoule de BLE dur de qualité supérieur...</td>\n",
       "      <td>../../ground_truth/ab48a1ed-7a3d-4686-bb6d-ab4...</td>\n",
       "      <td>b'%PDF-1.4\\n%\\xc7\\xec\\x8f\\xa2\\n5 0 obj\\n&lt;&lt;/Len...</td>\n",
       "      <td>Direction Qualité \\n\\n \\n\\n \\n\\nPATES ALIMENTA...</td>\n",
       "      <td>[Direction Qualité ,  ,  , PATES ALIMENTAIRES ...</td>\n",
       "    </tr>\n",
       "    <tr>\n",
       "      <th>...</th>\n",
       "      <td>...</td>\n",
       "      <td>...</td>\n",
       "      <td>...</td>\n",
       "      <td>...</td>\n",
       "      <td>...</td>\n",
       "      <td>...</td>\n",
       "    </tr>\n",
       "    <tr>\n",
       "      <th>e67341d8-350f-46f4-9154-4dbbb8035621</th>\n",
       "      <td>PRÉPARATION POUR CRÈME BRÛLÉE BIO 6L</td>\n",
       "      <td>Sucre roux de canne*° (64%), amidon de maïs*, ...</td>\n",
       "      <td>../../ground_truth/e67341d8-350f-46f4-9154-4db...</td>\n",
       "      <td>b'%PDF-1.7\\r\\n%\\xb5\\xb5\\xb5\\xb5\\r\\n1 0 obj\\r\\n...</td>\n",
       "      <td>FICHE TECHNIQUE \\n\\nCREME BRÛLÉE 6L \\n\\nREF : ...</td>\n",
       "      <td>[FICHE TECHNIQUE , CREME BRÛLÉE 6L , REF : NAP...</td>\n",
       "    </tr>\n",
       "    <tr>\n",
       "      <th>a8f6f672-20ac-4ff8-a8f2-3bc4306c8df3</th>\n",
       "      <td>Céréales instantanées en poudre saveur caramel...</td>\n",
       "      <td>Farine 87,1 % (Blé (GLUTEN), Blé hydrolysé (GL...</td>\n",
       "      <td>../../ground_truth/a8f6f672-20ac-4ff8-a8f2-3bc...</td>\n",
       "      <td>b'%PDF-1.5\\r\\n%\\xb5\\xb5\\xb5\\xb5\\r\\n1 0 obj\\r\\n...</td>\n",
       "      <td>81 rue de Sans Souci – CS13754 – 69576 Limones...</td>\n",
       "      <td>[81 rue de Sans Souci – CS13754 – 69576 Limone...</td>\n",
       "    </tr>\n",
       "    <tr>\n",
       "      <th>0faad739-ea8c-4f03-b62e-51ee592a0546</th>\n",
       "      <td>FARINE DE BLÉ TYPE 45, 10KG</td>\n",
       "      <td>Farine de blé T45</td>\n",
       "      <td>../../ground_truth/0faad739-ea8c-4f03-b62e-51e...</td>\n",
       "      <td>b'%PDF-1.5\\r\\n%\\xb5\\xb5\\xb5\\xb5\\r\\n1 0 obj\\r\\n...</td>\n",
       "      <td>\\n1050/10502066400 \\n\\n10502055300/1050202520...</td>\n",
       "      <td>[ \\n1050/10502066400 , 10502055300/10502025200...</td>\n",
       "    </tr>\n",
       "  </tbody>\n",
       "</table>\n",
       "<p>500 rows × 6 columns</p>\n",
       "</div>"
      ],
      "text/plain": [
       "                                                                            designation  \\\n",
       "uid                                                                                       \n",
       "a0492df6-9c76-4303-8813-65ec5ccbfa70   Concentré liquide Asian en bouteille 980 ml CHEF   \n",
       "d183e914-db2f-4e2f-863a-a3b2d054c0b8              Pain burger curry 80 g CREATIV BURGER   \n",
       "ab48a1ed-7a3d-4686-bb6d-ab4f367cada8                   Macaroni en sachet 500 g PANZANI   \n",
       "...                                                                                 ...   \n",
       "e67341d8-350f-46f4-9154-4dbbb8035621               PRÉPARATION POUR CRÈME BRÛLÉE BIO 6L   \n",
       "a8f6f672-20ac-4ff8-a8f2-3bc4306c8df3  Céréales instantanées en poudre saveur caramel...   \n",
       "0faad739-ea8c-4f03-b62e-51ee592a0546                        FARINE DE BLÉ TYPE 45, 10KG   \n",
       "\n",
       "                                                                            ingredients  \\\n",
       "uid                                                                                       \n",
       "a0492df6-9c76-4303-8813-65ec5ccbfa70  Eau, maltodextrine, sel, arômes, sucre, arôme ...   \n",
       "d183e914-db2f-4e2f-863a-a3b2d054c0b8  Farine de blé T65, eau, levure, vinaigre de ci...   \n",
       "ab48a1ed-7a3d-4686-bb6d-ab4f367cada8  - 100% Semoule de BLE dur de qualité supérieur...   \n",
       "...                                                                                 ...   \n",
       "e67341d8-350f-46f4-9154-4dbbb8035621  Sucre roux de canne*° (64%), amidon de maïs*, ...   \n",
       "a8f6f672-20ac-4ff8-a8f2-3bc4306c8df3  Farine 87,1 % (Blé (GLUTEN), Blé hydrolysé (GL...   \n",
       "0faad739-ea8c-4f03-b62e-51ee592a0546                                  Farine de blé T45   \n",
       "\n",
       "                                                                                   path  \\\n",
       "uid                                                                                       \n",
       "a0492df6-9c76-4303-8813-65ec5ccbfa70  ../../ground_truth/a0492df6-9c76-4303-8813-65e...   \n",
       "d183e914-db2f-4e2f-863a-a3b2d054c0b8  ../../ground_truth/d183e914-db2f-4e2f-863a-a3b...   \n",
       "ab48a1ed-7a3d-4686-bb6d-ab4f367cada8  ../../ground_truth/ab48a1ed-7a3d-4686-bb6d-ab4...   \n",
       "...                                                                                 ...   \n",
       "e67341d8-350f-46f4-9154-4dbbb8035621  ../../ground_truth/e67341d8-350f-46f4-9154-4db...   \n",
       "a8f6f672-20ac-4ff8-a8f2-3bc4306c8df3  ../../ground_truth/a8f6f672-20ac-4ff8-a8f2-3bc...   \n",
       "0faad739-ea8c-4f03-b62e-51ee592a0546  ../../ground_truth/0faad739-ea8c-4f03-b62e-51e...   \n",
       "\n",
       "                                                                                content  \\\n",
       "uid                                                                                       \n",
       "a0492df6-9c76-4303-8813-65ec5ccbfa70  b'%PDF-1.5\\r\\n%\\xb5\\xb5\\xb5\\xb5\\r\\n1 0 obj\\r\\n...   \n",
       "d183e914-db2f-4e2f-863a-a3b2d054c0b8  b'%PDF-1.5\\r%\\xe2\\xe3\\xcf\\xd3\\r\\n4 0 obj\\r<</L...   \n",
       "ab48a1ed-7a3d-4686-bb6d-ab4f367cada8  b'%PDF-1.4\\n%\\xc7\\xec\\x8f\\xa2\\n5 0 obj\\n<</Len...   \n",
       "...                                                                                 ...   \n",
       "e67341d8-350f-46f4-9154-4dbbb8035621  b'%PDF-1.7\\r\\n%\\xb5\\xb5\\xb5\\xb5\\r\\n1 0 obj\\r\\n...   \n",
       "a8f6f672-20ac-4ff8-a8f2-3bc4306c8df3  b'%PDF-1.5\\r\\n%\\xb5\\xb5\\xb5\\xb5\\r\\n1 0 obj\\r\\n...   \n",
       "0faad739-ea8c-4f03-b62e-51ee592a0546  b'%PDF-1.5\\r\\n%\\xb5\\xb5\\xb5\\xb5\\r\\n1 0 obj\\r\\n...   \n",
       "\n",
       "                                                                                   text  \\\n",
       "uid                                                                                       \n",
       "a0492df6-9c76-4303-8813-65ec5ccbfa70  Concentré Liquide Asian CHEF® \\n\\nBouteille de...   \n",
       "d183e914-db2f-4e2f-863a-a3b2d054c0b8                                                  \n",
       "   \n",
       "ab48a1ed-7a3d-4686-bb6d-ab4f367cada8  Direction Qualité \\n\\n \\n\\n \\n\\nPATES ALIMENTA...   \n",
       "...                                                                                 ...   \n",
       "e67341d8-350f-46f4-9154-4dbbb8035621  FICHE TECHNIQUE \\n\\nCREME BRÛLÉE 6L \\n\\nREF : ...   \n",
       "a8f6f672-20ac-4ff8-a8f2-3bc4306c8df3  81 rue de Sans Souci – CS13754 – 69576 Limones...   \n",
       "0faad739-ea8c-4f03-b62e-51ee592a0546   \\n1050/10502066400 \\n\\n10502055300/1050202520...   \n",
       "\n",
       "                                                                                 blocks  \n",
       "uid                                                                                      \n",
       "a0492df6-9c76-4303-8813-65ec5ccbfa70  [Concentré Liquide Asian CHEF® , Bouteille de ...  \n",
       "d183e914-db2f-4e2f-863a-a3b2d054c0b8                                                [\n",
       "]  \n",
       "ab48a1ed-7a3d-4686-bb6d-ab4f367cada8  [Direction Qualité ,  ,  , PATES ALIMENTAIRES ...  \n",
       "...                                                                                 ...  \n",
       "e67341d8-350f-46f4-9154-4dbbb8035621  [FICHE TECHNIQUE , CREME BRÛLÉE 6L , REF : NAP...  \n",
       "a8f6f672-20ac-4ff8-a8f2-3bc4306c8df3  [81 rue de Sans Souci – CS13754 – 69576 Limone...  \n",
       "0faad739-ea8c-4f03-b62e-51ee592a0546  [ \\n1050/10502066400 , 10502055300/10502025200...  \n",
       "\n",
       "[500 rows x 6 columns]"
      ]
     },
     "execution_count": 4,
     "metadata": {},
     "output_type": "execute_result"
    }
   ],
   "source": [
    "def splitter(text):\n",
    "    return(text.split('\\n\\n'))\n",
    "\n",
    "split_transfo = BlockSplitter(splitter_func=splitter)\n",
    "splitted_df = split_transfo.fit_transform(texts_df)\n",
    "splitted_df"
   ]
  },
  {
   "cell_type": "markdown",
   "metadata": {},
   "source": [
    "## Train/Test split, entraînement et tranformation\n",
    "\n",
    "On effectue classiquement les étapes de train/test split, on entraîne le modèle sur le set d'entraînement et on le lance sur le set de test."
   ]
  },
  {
   "cell_type": "code",
   "execution_count": 6,
   "metadata": {},
   "outputs": [
    {
     "data": {
      "text/html": [
       "<div>\n",
       "<style scoped>\n",
       "    .dataframe tbody tr th:only-of-type {\n",
       "        vertical-align: middle;\n",
       "    }\n",
       "\n",
       "    .dataframe tbody tr th {\n",
       "        vertical-align: top;\n",
       "    }\n",
       "\n",
       "    .dataframe thead th {\n",
       "        text-align: right;\n",
       "    }\n",
       "</style>\n",
       "<table border=\"1\" class=\"dataframe\">\n",
       "  <thead>\n",
       "    <tr style=\"text-align: right;\">\n",
       "      <th></th>\n",
       "      <th>ingredients</th>\n",
       "      <th>predicted</th>\n",
       "    </tr>\n",
       "    <tr>\n",
       "      <th>uid</th>\n",
       "      <th></th>\n",
       "      <th></th>\n",
       "    </tr>\n",
       "  </thead>\n",
       "  <tbody>\n",
       "    <tr>\n",
       "      <th>2892dd68-e3a6-474c-b543-3ebfd3490658</th>\n",
       "      <td>Café instantané, café torrefié moulu (3%).</td>\n",
       "      <td>- NESTLÉ a un système de management de la qual...</td>\n",
       "    </tr>\n",
       "    <tr>\n",
       "      <th>a57c1561-b88e-4694-8bd8-55623f2afa17</th>\n",
       "      <td>Lentilles blondes</td>\n",
       "      <td>Cette fiche technique n’a pas de valeur contra...</td>\n",
       "    </tr>\n",
       "    <tr>\n",
       "      <th>3634fb1e-ee79-41d1-8aaa-084c1fae5bd5</th>\n",
       "      <td>Poire 99,9%, antioxydant: acide ascorbique.</td>\n",
       "      <td>Ce produit est une purée de fruits obtenue à p...</td>\n",
       "    </tr>\n",
       "    <tr>\n",
       "      <th>...</th>\n",
       "      <td>...</td>\n",
       "      <td>...</td>\n",
       "    </tr>\n",
       "    <tr>\n",
       "      <th>ebfc9e73-5d91-4b45-8331-8c8f9bed3bb3</th>\n",
       "      <td>Jus d'orange à base de concentré</td>\n",
       "      <td>\\n \\nVALEURS NUTRITIONNELLES pour 100mL / NUT...</td>\n",
       "    </tr>\n",
       "    <tr>\n",
       "      <th>c33aa83e-a502-4339-a8e0-c56db2e59e69</th>\n",
       "      <td>Farine de BLÉ, sucre, huile de colza,, cacao m...</td>\n",
       "      <td>Ingrédients : Farine de BLÉ, sucre, huile de c...</td>\n",
       "    </tr>\n",
       "    <tr>\n",
       "      <th>54f40033-f9cf-411c-81a5-11974f6715aa</th>\n",
       "      <td>Piment rouge fort équeuté* (85%), cumin, ail m...</td>\n",
       "      <td>A) Ingrédients : \\n \\nPiment  rouge  fort  équ...</td>\n",
       "    </tr>\n",
       "  </tbody>\n",
       "</table>\n",
       "<p>100 rows × 2 columns</p>\n",
       "</div>"
      ],
      "text/plain": [
       "                                                                            ingredients  \\\n",
       "uid                                                                                       \n",
       "2892dd68-e3a6-474c-b543-3ebfd3490658         Café instantané, café torrefié moulu (3%).   \n",
       "a57c1561-b88e-4694-8bd8-55623f2afa17                                  Lentilles blondes   \n",
       "3634fb1e-ee79-41d1-8aaa-084c1fae5bd5        Poire 99,9%, antioxydant: acide ascorbique.   \n",
       "...                                                                                 ...   \n",
       "ebfc9e73-5d91-4b45-8331-8c8f9bed3bb3                   Jus d'orange à base de concentré   \n",
       "c33aa83e-a502-4339-a8e0-c56db2e59e69  Farine de BLÉ, sucre, huile de colza,, cacao m...   \n",
       "54f40033-f9cf-411c-81a5-11974f6715aa  Piment rouge fort équeuté* (85%), cumin, ail m...   \n",
       "\n",
       "                                                                              predicted  \n",
       "uid                                                                                      \n",
       "2892dd68-e3a6-474c-b543-3ebfd3490658  - NESTLÉ a un système de management de la qual...  \n",
       "a57c1561-b88e-4694-8bd8-55623f2afa17  Cette fiche technique n’a pas de valeur contra...  \n",
       "3634fb1e-ee79-41d1-8aaa-084c1fae5bd5  Ce produit est une purée de fruits obtenue à p...  \n",
       "...                                                                                 ...  \n",
       "ebfc9e73-5d91-4b45-8331-8c8f9bed3bb3   \\n \\nVALEURS NUTRITIONNELLES pour 100mL / NUT...  \n",
       "c33aa83e-a502-4339-a8e0-c56db2e59e69  Ingrédients : Farine de BLÉ, sucre, huile de c...  \n",
       "54f40033-f9cf-411c-81a5-11974f6715aa  A) Ingrédients : \\n \\nPiment  rouge  fort  équ...  \n",
       "\n",
       "[100 rows x 2 columns]"
      ]
     },
     "execution_count": 6,
     "metadata": {},
     "output_type": "execute_result"
    }
   ],
   "source": [
    "train, test = train_test_split(splitted_df, train_size=400, random_state=42)\n",
    "model = SimilaritySelector(similarity='projection')\n",
    "model.fit(train['blocks'], train['ingredients'])\n",
    "predicted = pd.Series(model.predict(test['blocks']),\n",
    "                      index=test.index,\n",
    "                      name='predicted'\n",
    "                     )\n",
    "predicted = pd.concat([test['ingredients'], predicted], axis=1)\n",
    "predicted"
   ]
  },
  {
   "cell_type": "markdown",
   "metadata": {},
   "source": [
    "## Mesure de la performance : Précision\n",
    "\n",
    "### Approche naïve\n",
    "\n",
    "Dans cette première version, on calculera une précision brute, où seuls les strings parfaitement identiques sont considérés comme ok. "
   ]
  },
  {
   "cell_type": "code",
   "execution_count": 7,
   "metadata": {},
   "outputs": [
    {
     "data": {
      "text/plain": [
       "False    99\n",
       "True      1\n",
       "Name: result, dtype: int64"
      ]
     },
     "execution_count": 7,
     "metadata": {},
     "output_type": "execute_result"
    }
   ],
   "source": [
    "predicted['result'] = (predicted['ingredients'].fillna('') == predicted['predicted'].fillna(''))\n",
    "predicted['result'].value_counts()"
   ]
  },
  {
   "cell_type": "markdown",
   "metadata": {},
   "source": [
    "On a une précision très faible, 1%.\n",
    "L'unique liste d'ingrédient correctement prédite est la suivante :"
   ]
  },
  {
   "cell_type": "code",
   "execution_count": 8,
   "metadata": {},
   "outputs": [
    {
     "name": "stdout",
     "output_type": "stream",
     "text": [
      "Sirop de glucose, sucre, eau, stabilisants (E440i, E440ii, E415), acidifiants (E330, E450i), conversateur (E202).\n"
     ]
    }
   ],
   "source": [
    "print(predicted[predicted['result']].iloc[0, 0])"
   ]
  },
  {
   "cell_type": "markdown",
   "metadata": {},
   "source": [
    "### Cross-validation de l'approche naïve"
   ]
  },
  {
   "cell_type": "code",
   "execution_count": 11,
   "metadata": {},
   "outputs": [
    {
     "data": {
      "text/plain": [
       "0.01"
      ]
     },
     "execution_count": 11,
     "metadata": {},
     "output_type": "execute_result"
    }
   ],
   "source": [
    "def accuracy_scorer(estim, X, y):\n",
    "    y_pred = estim.predict(X)\n",
    "    return(sum(y_pred == y) / len(y))\n",
    "\n",
    "accuracy_scorer(model, test['blocks'], test['ingredients'])"
   ]
  },
  {
   "cell_type": "code",
   "execution_count": 25,
   "metadata": {},
   "outputs": [
    {
     "name": "stdout",
     "output_type": "stream",
     "text": [
      "Strict accuracy yields a result of 2.20% +/-0.75%\n"
     ]
    }
   ],
   "source": [
    "from sklearn.model_selection import cross_val_score, cross_validate\n",
    "import numpy as np\n",
    "\n",
    "cross_val = cross_validate(model, splitted_df['blocks'], splitted_df['ingredients'], scoring=accuracy_scorer)\n",
    "print(f'Strict accuracy yields a result of {np.mean(cross_val[\"test_score\"]):.2%} +/-{np.std(cross_val[\"test_score\"]):.2%}')"
   ]
  },
  {
   "cell_type": "markdown",
   "metadata": {},
   "source": [
    "### Ajout d'une étape de text-postprocessing"
   ]
  },
  {
   "cell_type": "code",
   "execution_count": 32,
   "metadata": {},
   "outputs": [
    {
     "data": {
      "text/plain": [
       "'çzkc#é é\"klfzd csjkscdz^poeze'"
      ]
     },
     "execution_count": 32,
     "metadata": {},
     "output_type": "execute_result"
    }
   ],
   "source": [
    "def normalize_text(text):\n",
    "    pass\n",
    "\n",
    "import unicodedata\n",
    "unicodedata.normalize('NFKC', 'çzkc#é é\"klfzd csjkscdz^poeze')"
   ]
  }
 ],
 "metadata": {
  "kernelspec": {
   "display_name": "Python 3",
   "language": "python",
   "name": "python3"
  },
  "language_info": {
   "codemirror_mode": {
    "name": "ipython",
    "version": 3
   },
   "file_extension": ".py",
   "mimetype": "text/x-python",
   "name": "python",
   "nbconvert_exporter": "python",
   "pygments_lexer": "ipython3",
   "version": "3.8.1"
  }
 },
 "nbformat": 4,
 "nbformat_minor": 4
}
