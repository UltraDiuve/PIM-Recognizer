{
 "cells": [
  {
   "cell_type": "markdown",
   "metadata": {},
   "source": [
    "# Mesure de la performance du modèle\n",
    "\n",
    "L'objet de ce notebook est d'illustrer la méthodologie de mesure de la performance du modèle.\n",
    "\n",
    "\n",
    "## Préambule technique"
   ]
  },
  {
   "cell_type": "code",
   "execution_count": 1,
   "metadata": {},
   "outputs": [],
   "source": [
    "# setting up sys.path for relative imports\n",
    "from pathlib import Path\n",
    "import sys\n",
    "project_root = str(Path(sys.path[0]).parents[1].absolute())\n",
    "if project_root not in sys.path:\n",
    "    sys.path.append(project_root)"
   ]
  },
  {
   "cell_type": "code",
   "execution_count": 52,
   "metadata": {},
   "outputs": [],
   "source": [
    "# imports and customization of diplay\n",
    "import os\n",
    "from functools import partial\n",
    "import numpy as np\n",
    "from scipy.stats import linregress\n",
    "import pandas as pd\n",
    "pd.options.display.min_rows = 6\n",
    "pd.options.display.width=108\n",
    "from sklearn.feature_extraction.text import CountVectorizer\n",
    "from sklearn.model_selection import train_test_split\n",
    "from sklearn.model_selection import cross_val_score, cross_validate\n",
    "from sklearn.pipeline import Pipeline\n",
    "from matplotlib import pyplot as plt\n",
    "import matplotlib.ticker as mtick\n",
    "import seaborn as sns\n",
    "\n",
    "from src.pimest import ContentGetter\n",
    "from src.pimest import PathGetter\n",
    "from src.pimest import PDFContentParser\n",
    "from src.pimest import BlockSplitter\n",
    "from src.pimest import SimilaritySelector\n",
    "from src.pimest import custom_accuracy\n",
    "from src.pimest import text_sim_score\n",
    "from src.pimest import text_similarity\n",
    "from src.pimest import build_text_processor"
   ]
  },
  {
   "cell_type": "markdown",
   "metadata": {},
   "source": [
    "## Acquisition des données\n",
    "\n",
    "On récupère les données manuellement étiquetées et on les intègre dans un dataframe"
   ]
  },
  {
   "cell_type": "code",
   "execution_count": 3,
   "metadata": {},
   "outputs": [
    {
     "name": "stdout",
     "output_type": "stream",
     "text": [
      "[Pipeline] ........ (step 1 of 3) Processing PathGetter, total=   0.1s\n",
      "[Pipeline] ..... (step 2 of 3) Processing ContentGetter, total=   0.1s\n",
      "Launching 8 processes.\n",
      "[Pipeline] ..... (step 3 of 3) Processing ContentParser, total=  37.5s\n"
     ]
    },
    {
     "data": {
      "text/html": [
       "<div>\n",
       "<style scoped>\n",
       "    .dataframe tbody tr th:only-of-type {\n",
       "        vertical-align: middle;\n",
       "    }\n",
       "\n",
       "    .dataframe tbody tr th {\n",
       "        vertical-align: top;\n",
       "    }\n",
       "\n",
       "    .dataframe thead th {\n",
       "        text-align: right;\n",
       "    }\n",
       "</style>\n",
       "<table border=\"1\" class=\"dataframe\">\n",
       "  <thead>\n",
       "    <tr style=\"text-align: right;\">\n",
       "      <th></th>\n",
       "      <th>designation</th>\n",
       "      <th>ingredients</th>\n",
       "      <th>path</th>\n",
       "      <th>content</th>\n",
       "      <th>text</th>\n",
       "    </tr>\n",
       "    <tr>\n",
       "      <th>uid</th>\n",
       "      <th></th>\n",
       "      <th></th>\n",
       "      <th></th>\n",
       "      <th></th>\n",
       "      <th></th>\n",
       "    </tr>\n",
       "  </thead>\n",
       "  <tbody>\n",
       "    <tr>\n",
       "      <th>a0492df6-9c76-4303-8813-65ec5ccbfa70</th>\n",
       "      <td>Concentré liquide Asian en bouteille 980 ml CHEF</td>\n",
       "      <td>Eau, maltodextrine, sel, arômes, sucre, arôme ...</td>\n",
       "      <td>../../ground_truth/a0492df6-9c76-4303-8813-65e...</td>\n",
       "      <td>b'%PDF-1.5\\r\\n%\\xb5\\xb5\\xb5\\xb5\\r\\n1 0 obj\\r\\n...</td>\n",
       "      <td>Concentré Liquide Asian CHEF® \\n\\nBouteille de...</td>\n",
       "    </tr>\n",
       "    <tr>\n",
       "      <th>d183e914-db2f-4e2f-863a-a3b2d054c0b8</th>\n",
       "      <td>Pain burger curry 80 g CREATIV BURGER</td>\n",
       "      <td>Farine de blé T65, eau, levure, vinaigre de ci...</td>\n",
       "      <td>../../ground_truth/d183e914-db2f-4e2f-863a-a3b...</td>\n",
       "      <td>b'%PDF-1.5\\r%\\xe2\\xe3\\xcf\\xd3\\r\\n4 0 obj\\r&lt;&lt;/L...</td>\n",
       "      <td></td>\n",
       "    </tr>\n",
       "    <tr>\n",
       "      <th>ab48a1ed-7a3d-4686-bb6d-ab4f367cada8</th>\n",
       "      <td>Macaroni en sachet 500 g PANZANI</td>\n",
       "      <td>- 100% Semoule de BLE dur de qualité supérieur...</td>\n",
       "      <td>../../ground_truth/ab48a1ed-7a3d-4686-bb6d-ab4...</td>\n",
       "      <td>b'%PDF-1.4\\n%\\xc7\\xec\\x8f\\xa2\\n5 0 obj\\n&lt;&lt;/Len...</td>\n",
       "      <td>Direction Qualité \\n\\n \\n\\n \\n\\nPATES ALIMENTA...</td>\n",
       "    </tr>\n",
       "    <tr>\n",
       "      <th>...</th>\n",
       "      <td>...</td>\n",
       "      <td>...</td>\n",
       "      <td>...</td>\n",
       "      <td>...</td>\n",
       "      <td>...</td>\n",
       "    </tr>\n",
       "    <tr>\n",
       "      <th>e67341d8-350f-46f4-9154-4dbbb8035621</th>\n",
       "      <td>PRÉPARATION POUR CRÈME BRÛLÉE BIO 6L</td>\n",
       "      <td>Sucre roux de canne*° (64%), amidon de maïs*, ...</td>\n",
       "      <td>../../ground_truth/e67341d8-350f-46f4-9154-4db...</td>\n",
       "      <td>b'%PDF-1.7\\r\\n%\\xb5\\xb5\\xb5\\xb5\\r\\n1 0 obj\\r\\n...</td>\n",
       "      <td>FICHE TECHNIQUE \\n\\nCREME BRÛLÉE 6L \\n\\nREF : ...</td>\n",
       "    </tr>\n",
       "    <tr>\n",
       "      <th>a8f6f672-20ac-4ff8-a8f2-3bc4306c8df3</th>\n",
       "      <td>Céréales instantanées en poudre saveur caramel...</td>\n",
       "      <td>Farine 87,1 % (Blé (GLUTEN), Blé hydrolysé (GL...</td>\n",
       "      <td>../../ground_truth/a8f6f672-20ac-4ff8-a8f2-3bc...</td>\n",
       "      <td>b'%PDF-1.5\\r\\n%\\xb5\\xb5\\xb5\\xb5\\r\\n1 0 obj\\r\\n...</td>\n",
       "      <td>81 rue de Sans Souci – CS13754 – 69576 Limones...</td>\n",
       "    </tr>\n",
       "    <tr>\n",
       "      <th>0faad739-ea8c-4f03-b62e-51ee592a0546</th>\n",
       "      <td>FARINE DE BLÉ TYPE 45, 10KG</td>\n",
       "      <td>Farine de blé T45</td>\n",
       "      <td>../../ground_truth/0faad739-ea8c-4f03-b62e-51e...</td>\n",
       "      <td>b'%PDF-1.5\\r\\n%\\xb5\\xb5\\xb5\\xb5\\r\\n1 0 obj\\r\\n...</td>\n",
       "      <td>\\n1050/10502066400 \\n\\n10502055300/1050202520...</td>\n",
       "    </tr>\n",
       "  </tbody>\n",
       "</table>\n",
       "<p>500 rows × 5 columns</p>\n",
       "</div>"
      ],
      "text/plain": [
       "                                                                            designation  \\\n",
       "uid                                                                                       \n",
       "a0492df6-9c76-4303-8813-65ec5ccbfa70   Concentré liquide Asian en bouteille 980 ml CHEF   \n",
       "d183e914-db2f-4e2f-863a-a3b2d054c0b8              Pain burger curry 80 g CREATIV BURGER   \n",
       "ab48a1ed-7a3d-4686-bb6d-ab4f367cada8                   Macaroni en sachet 500 g PANZANI   \n",
       "...                                                                                 ...   \n",
       "e67341d8-350f-46f4-9154-4dbbb8035621               PRÉPARATION POUR CRÈME BRÛLÉE BIO 6L   \n",
       "a8f6f672-20ac-4ff8-a8f2-3bc4306c8df3  Céréales instantanées en poudre saveur caramel...   \n",
       "0faad739-ea8c-4f03-b62e-51ee592a0546                        FARINE DE BLÉ TYPE 45, 10KG   \n",
       "\n",
       "                                                                            ingredients  \\\n",
       "uid                                                                                       \n",
       "a0492df6-9c76-4303-8813-65ec5ccbfa70  Eau, maltodextrine, sel, arômes, sucre, arôme ...   \n",
       "d183e914-db2f-4e2f-863a-a3b2d054c0b8  Farine de blé T65, eau, levure, vinaigre de ci...   \n",
       "ab48a1ed-7a3d-4686-bb6d-ab4f367cada8  - 100% Semoule de BLE dur de qualité supérieur...   \n",
       "...                                                                                 ...   \n",
       "e67341d8-350f-46f4-9154-4dbbb8035621  Sucre roux de canne*° (64%), amidon de maïs*, ...   \n",
       "a8f6f672-20ac-4ff8-a8f2-3bc4306c8df3  Farine 87,1 % (Blé (GLUTEN), Blé hydrolysé (GL...   \n",
       "0faad739-ea8c-4f03-b62e-51ee592a0546                                  Farine de blé T45   \n",
       "\n",
       "                                                                                   path  \\\n",
       "uid                                                                                       \n",
       "a0492df6-9c76-4303-8813-65ec5ccbfa70  ../../ground_truth/a0492df6-9c76-4303-8813-65e...   \n",
       "d183e914-db2f-4e2f-863a-a3b2d054c0b8  ../../ground_truth/d183e914-db2f-4e2f-863a-a3b...   \n",
       "ab48a1ed-7a3d-4686-bb6d-ab4f367cada8  ../../ground_truth/ab48a1ed-7a3d-4686-bb6d-ab4...   \n",
       "...                                                                                 ...   \n",
       "e67341d8-350f-46f4-9154-4dbbb8035621  ../../ground_truth/e67341d8-350f-46f4-9154-4db...   \n",
       "a8f6f672-20ac-4ff8-a8f2-3bc4306c8df3  ../../ground_truth/a8f6f672-20ac-4ff8-a8f2-3bc...   \n",
       "0faad739-ea8c-4f03-b62e-51ee592a0546  ../../ground_truth/0faad739-ea8c-4f03-b62e-51e...   \n",
       "\n",
       "                                                                                content  \\\n",
       "uid                                                                                       \n",
       "a0492df6-9c76-4303-8813-65ec5ccbfa70  b'%PDF-1.5\\r\\n%\\xb5\\xb5\\xb5\\xb5\\r\\n1 0 obj\\r\\n...   \n",
       "d183e914-db2f-4e2f-863a-a3b2d054c0b8  b'%PDF-1.5\\r%\\xe2\\xe3\\xcf\\xd3\\r\\n4 0 obj\\r<</L...   \n",
       "ab48a1ed-7a3d-4686-bb6d-ab4f367cada8  b'%PDF-1.4\\n%\\xc7\\xec\\x8f\\xa2\\n5 0 obj\\n<</Len...   \n",
       "...                                                                                 ...   \n",
       "e67341d8-350f-46f4-9154-4dbbb8035621  b'%PDF-1.7\\r\\n%\\xb5\\xb5\\xb5\\xb5\\r\\n1 0 obj\\r\\n...   \n",
       "a8f6f672-20ac-4ff8-a8f2-3bc4306c8df3  b'%PDF-1.5\\r\\n%\\xb5\\xb5\\xb5\\xb5\\r\\n1 0 obj\\r\\n...   \n",
       "0faad739-ea8c-4f03-b62e-51ee592a0546  b'%PDF-1.5\\r\\n%\\xb5\\xb5\\xb5\\xb5\\r\\n1 0 obj\\r\\n...   \n",
       "\n",
       "                                                                                   text  \n",
       "uid                                                                                      \n",
       "a0492df6-9c76-4303-8813-65ec5ccbfa70  Concentré Liquide Asian CHEF® \\n\\nBouteille de...  \n",
       "d183e914-db2f-4e2f-863a-a3b2d054c0b8                                                  \n",
       "  \n",
       "ab48a1ed-7a3d-4686-bb6d-ab4f367cada8  Direction Qualité \\n\\n \\n\\n \\n\\nPATES ALIMENTA...  \n",
       "...                                                                                 ...  \n",
       "e67341d8-350f-46f4-9154-4dbbb8035621  FICHE TECHNIQUE \\n\\nCREME BRÛLÉE 6L \\n\\nREF : ...  \n",
       "a8f6f672-20ac-4ff8-a8f2-3bc4306c8df3  81 rue de Sans Souci – CS13754 – 69576 Limones...  \n",
       "0faad739-ea8c-4f03-b62e-51ee592a0546   \\n1050/10502066400 \\n\\n10502055300/1050202520...  \n",
       "\n",
       "[500 rows x 5 columns]"
      ]
     },
     "execution_count": 3,
     "metadata": {},
     "output_type": "execute_result"
    }
   ],
   "source": [
    "ground_truth_df = pd.read_csv(Path('..') / '..' / 'ground_truth' / 'manually_labelled_ground_truth.csv',\n",
    "                              sep=';',\n",
    "                              encoding='latin-1',\n",
    "                              index_col='uid')\n",
    "ground_truth_uids = list(ground_truth_df.index)\n",
    "\n",
    "acqui_pipe = Pipeline([('PathGetter', PathGetter(ground_truth_uids=ground_truth_uids,\n",
    "                                                  train_set_path=Path('..') / '..' / 'ground_truth',\n",
    "                                                  ground_truth_path=Path('..') / '..' / 'ground_truth',\n",
    "                                                  )),\n",
    "                        ('ContentGetter', ContentGetter(missing_file='to_nan')),\n",
    "                        ('ContentParser', PDFContentParser(none_content='to_empty')),\n",
    "                       ],\n",
    "                       verbose=True)\n",
    "\n",
    "texts_df = acqui_pipe.fit_transform(ground_truth_df)\n",
    "texts_df['ingredients'] = texts_df['ingredients'].fillna('')\n",
    "texts_df"
   ]
  },
  {
   "cell_type": "markdown",
   "metadata": {},
   "source": [
    "On splitte les textes en blocs de manière basique."
   ]
  },
  {
   "cell_type": "code",
   "execution_count": 4,
   "metadata": {},
   "outputs": [
    {
     "name": "stdout",
     "output_type": "stream",
     "text": [
      "Launching 8 processes.\n"
     ]
    },
    {
     "data": {
      "text/html": [
       "<div>\n",
       "<style scoped>\n",
       "    .dataframe tbody tr th:only-of-type {\n",
       "        vertical-align: middle;\n",
       "    }\n",
       "\n",
       "    .dataframe tbody tr th {\n",
       "        vertical-align: top;\n",
       "    }\n",
       "\n",
       "    .dataframe thead th {\n",
       "        text-align: right;\n",
       "    }\n",
       "</style>\n",
       "<table border=\"1\" class=\"dataframe\">\n",
       "  <thead>\n",
       "    <tr style=\"text-align: right;\">\n",
       "      <th></th>\n",
       "      <th>designation</th>\n",
       "      <th>ingredients</th>\n",
       "      <th>path</th>\n",
       "      <th>content</th>\n",
       "      <th>text</th>\n",
       "      <th>blocks</th>\n",
       "    </tr>\n",
       "    <tr>\n",
       "      <th>uid</th>\n",
       "      <th></th>\n",
       "      <th></th>\n",
       "      <th></th>\n",
       "      <th></th>\n",
       "      <th></th>\n",
       "      <th></th>\n",
       "    </tr>\n",
       "  </thead>\n",
       "  <tbody>\n",
       "    <tr>\n",
       "      <th>a0492df6-9c76-4303-8813-65ec5ccbfa70</th>\n",
       "      <td>Concentré liquide Asian en bouteille 980 ml CHEF</td>\n",
       "      <td>Eau, maltodextrine, sel, arômes, sucre, arôme ...</td>\n",
       "      <td>../../ground_truth/a0492df6-9c76-4303-8813-65e...</td>\n",
       "      <td>b'%PDF-1.5\\r\\n%\\xb5\\xb5\\xb5\\xb5\\r\\n1 0 obj\\r\\n...</td>\n",
       "      <td>Concentré Liquide Asian CHEF® \\n\\nBouteille de...</td>\n",
       "      <td>[Concentré Liquide Asian CHEF® , Bouteille de ...</td>\n",
       "    </tr>\n",
       "    <tr>\n",
       "      <th>d183e914-db2f-4e2f-863a-a3b2d054c0b8</th>\n",
       "      <td>Pain burger curry 80 g CREATIV BURGER</td>\n",
       "      <td>Farine de blé T65, eau, levure, vinaigre de ci...</td>\n",
       "      <td>../../ground_truth/d183e914-db2f-4e2f-863a-a3b...</td>\n",
       "      <td>b'%PDF-1.5\\r%\\xe2\\xe3\\xcf\\xd3\\r\\n4 0 obj\\r&lt;&lt;/L...</td>\n",
       "      <td></td>\n",
       "      <td>[\f",
       "]</td>\n",
       "    </tr>\n",
       "    <tr>\n",
       "      <th>ab48a1ed-7a3d-4686-bb6d-ab4f367cada8</th>\n",
       "      <td>Macaroni en sachet 500 g PANZANI</td>\n",
       "      <td>- 100% Semoule de BLE dur de qualité supérieur...</td>\n",
       "      <td>../../ground_truth/ab48a1ed-7a3d-4686-bb6d-ab4...</td>\n",
       "      <td>b'%PDF-1.4\\n%\\xc7\\xec\\x8f\\xa2\\n5 0 obj\\n&lt;&lt;/Len...</td>\n",
       "      <td>Direction Qualité \\n\\n \\n\\n \\n\\nPATES ALIMENTA...</td>\n",
       "      <td>[Direction Qualité ,  ,  , PATES ALIMENTAIRES ...</td>\n",
       "    </tr>\n",
       "    <tr>\n",
       "      <th>...</th>\n",
       "      <td>...</td>\n",
       "      <td>...</td>\n",
       "      <td>...</td>\n",
       "      <td>...</td>\n",
       "      <td>...</td>\n",
       "      <td>...</td>\n",
       "    </tr>\n",
       "    <tr>\n",
       "      <th>e67341d8-350f-46f4-9154-4dbbb8035621</th>\n",
       "      <td>PRÉPARATION POUR CRÈME BRÛLÉE BIO 6L</td>\n",
       "      <td>Sucre roux de canne*° (64%), amidon de maïs*, ...</td>\n",
       "      <td>../../ground_truth/e67341d8-350f-46f4-9154-4db...</td>\n",
       "      <td>b'%PDF-1.7\\r\\n%\\xb5\\xb5\\xb5\\xb5\\r\\n1 0 obj\\r\\n...</td>\n",
       "      <td>FICHE TECHNIQUE \\n\\nCREME BRÛLÉE 6L \\n\\nREF : ...</td>\n",
       "      <td>[FICHE TECHNIQUE , CREME BRÛLÉE 6L , REF : NAP...</td>\n",
       "    </tr>\n",
       "    <tr>\n",
       "      <th>a8f6f672-20ac-4ff8-a8f2-3bc4306c8df3</th>\n",
       "      <td>Céréales instantanées en poudre saveur caramel...</td>\n",
       "      <td>Farine 87,1 % (Blé (GLUTEN), Blé hydrolysé (GL...</td>\n",
       "      <td>../../ground_truth/a8f6f672-20ac-4ff8-a8f2-3bc...</td>\n",
       "      <td>b'%PDF-1.5\\r\\n%\\xb5\\xb5\\xb5\\xb5\\r\\n1 0 obj\\r\\n...</td>\n",
       "      <td>81 rue de Sans Souci – CS13754 – 69576 Limones...</td>\n",
       "      <td>[81 rue de Sans Souci – CS13754 – 69576 Limone...</td>\n",
       "    </tr>\n",
       "    <tr>\n",
       "      <th>0faad739-ea8c-4f03-b62e-51ee592a0546</th>\n",
       "      <td>FARINE DE BLÉ TYPE 45, 10KG</td>\n",
       "      <td>Farine de blé T45</td>\n",
       "      <td>../../ground_truth/0faad739-ea8c-4f03-b62e-51e...</td>\n",
       "      <td>b'%PDF-1.5\\r\\n%\\xb5\\xb5\\xb5\\xb5\\r\\n1 0 obj\\r\\n...</td>\n",
       "      <td>\\n1050/10502066400 \\n\\n10502055300/1050202520...</td>\n",
       "      <td>[ \\n1050/10502066400 , 10502055300/10502025200...</td>\n",
       "    </tr>\n",
       "  </tbody>\n",
       "</table>\n",
       "<p>500 rows × 6 columns</p>\n",
       "</div>"
      ],
      "text/plain": [
       "                                                                            designation  \\\n",
       "uid                                                                                       \n",
       "a0492df6-9c76-4303-8813-65ec5ccbfa70   Concentré liquide Asian en bouteille 980 ml CHEF   \n",
       "d183e914-db2f-4e2f-863a-a3b2d054c0b8              Pain burger curry 80 g CREATIV BURGER   \n",
       "ab48a1ed-7a3d-4686-bb6d-ab4f367cada8                   Macaroni en sachet 500 g PANZANI   \n",
       "...                                                                                 ...   \n",
       "e67341d8-350f-46f4-9154-4dbbb8035621               PRÉPARATION POUR CRÈME BRÛLÉE BIO 6L   \n",
       "a8f6f672-20ac-4ff8-a8f2-3bc4306c8df3  Céréales instantanées en poudre saveur caramel...   \n",
       "0faad739-ea8c-4f03-b62e-51ee592a0546                        FARINE DE BLÉ TYPE 45, 10KG   \n",
       "\n",
       "                                                                            ingredients  \\\n",
       "uid                                                                                       \n",
       "a0492df6-9c76-4303-8813-65ec5ccbfa70  Eau, maltodextrine, sel, arômes, sucre, arôme ...   \n",
       "d183e914-db2f-4e2f-863a-a3b2d054c0b8  Farine de blé T65, eau, levure, vinaigre de ci...   \n",
       "ab48a1ed-7a3d-4686-bb6d-ab4f367cada8  - 100% Semoule de BLE dur de qualité supérieur...   \n",
       "...                                                                                 ...   \n",
       "e67341d8-350f-46f4-9154-4dbbb8035621  Sucre roux de canne*° (64%), amidon de maïs*, ...   \n",
       "a8f6f672-20ac-4ff8-a8f2-3bc4306c8df3  Farine 87,1 % (Blé (GLUTEN), Blé hydrolysé (GL...   \n",
       "0faad739-ea8c-4f03-b62e-51ee592a0546                                  Farine de blé T45   \n",
       "\n",
       "                                                                                   path  \\\n",
       "uid                                                                                       \n",
       "a0492df6-9c76-4303-8813-65ec5ccbfa70  ../../ground_truth/a0492df6-9c76-4303-8813-65e...   \n",
       "d183e914-db2f-4e2f-863a-a3b2d054c0b8  ../../ground_truth/d183e914-db2f-4e2f-863a-a3b...   \n",
       "ab48a1ed-7a3d-4686-bb6d-ab4f367cada8  ../../ground_truth/ab48a1ed-7a3d-4686-bb6d-ab4...   \n",
       "...                                                                                 ...   \n",
       "e67341d8-350f-46f4-9154-4dbbb8035621  ../../ground_truth/e67341d8-350f-46f4-9154-4db...   \n",
       "a8f6f672-20ac-4ff8-a8f2-3bc4306c8df3  ../../ground_truth/a8f6f672-20ac-4ff8-a8f2-3bc...   \n",
       "0faad739-ea8c-4f03-b62e-51ee592a0546  ../../ground_truth/0faad739-ea8c-4f03-b62e-51e...   \n",
       "\n",
       "                                                                                content  \\\n",
       "uid                                                                                       \n",
       "a0492df6-9c76-4303-8813-65ec5ccbfa70  b'%PDF-1.5\\r\\n%\\xb5\\xb5\\xb5\\xb5\\r\\n1 0 obj\\r\\n...   \n",
       "d183e914-db2f-4e2f-863a-a3b2d054c0b8  b'%PDF-1.5\\r%\\xe2\\xe3\\xcf\\xd3\\r\\n4 0 obj\\r<</L...   \n",
       "ab48a1ed-7a3d-4686-bb6d-ab4f367cada8  b'%PDF-1.4\\n%\\xc7\\xec\\x8f\\xa2\\n5 0 obj\\n<</Len...   \n",
       "...                                                                                 ...   \n",
       "e67341d8-350f-46f4-9154-4dbbb8035621  b'%PDF-1.7\\r\\n%\\xb5\\xb5\\xb5\\xb5\\r\\n1 0 obj\\r\\n...   \n",
       "a8f6f672-20ac-4ff8-a8f2-3bc4306c8df3  b'%PDF-1.5\\r\\n%\\xb5\\xb5\\xb5\\xb5\\r\\n1 0 obj\\r\\n...   \n",
       "0faad739-ea8c-4f03-b62e-51ee592a0546  b'%PDF-1.5\\r\\n%\\xb5\\xb5\\xb5\\xb5\\r\\n1 0 obj\\r\\n...   \n",
       "\n",
       "                                                                                   text  \\\n",
       "uid                                                                                       \n",
       "a0492df6-9c76-4303-8813-65ec5ccbfa70  Concentré Liquide Asian CHEF® \\n\\nBouteille de...   \n",
       "d183e914-db2f-4e2f-863a-a3b2d054c0b8                                                  \n",
       "   \n",
       "ab48a1ed-7a3d-4686-bb6d-ab4f367cada8  Direction Qualité \\n\\n \\n\\n \\n\\nPATES ALIMENTA...   \n",
       "...                                                                                 ...   \n",
       "e67341d8-350f-46f4-9154-4dbbb8035621  FICHE TECHNIQUE \\n\\nCREME BRÛLÉE 6L \\n\\nREF : ...   \n",
       "a8f6f672-20ac-4ff8-a8f2-3bc4306c8df3  81 rue de Sans Souci – CS13754 – 69576 Limones...   \n",
       "0faad739-ea8c-4f03-b62e-51ee592a0546   \\n1050/10502066400 \\n\\n10502055300/1050202520...   \n",
       "\n",
       "                                                                                 blocks  \n",
       "uid                                                                                      \n",
       "a0492df6-9c76-4303-8813-65ec5ccbfa70  [Concentré Liquide Asian CHEF® , Bouteille de ...  \n",
       "d183e914-db2f-4e2f-863a-a3b2d054c0b8                                                [\n",
       "]  \n",
       "ab48a1ed-7a3d-4686-bb6d-ab4f367cada8  [Direction Qualité ,  ,  , PATES ALIMENTAIRES ...  \n",
       "...                                                                                 ...  \n",
       "e67341d8-350f-46f4-9154-4dbbb8035621  [FICHE TECHNIQUE , CREME BRÛLÉE 6L , REF : NAP...  \n",
       "a8f6f672-20ac-4ff8-a8f2-3bc4306c8df3  [81 rue de Sans Souci – CS13754 – 69576 Limone...  \n",
       "0faad739-ea8c-4f03-b62e-51ee592a0546  [ \\n1050/10502066400 , 10502055300/10502025200...  \n",
       "\n",
       "[500 rows x 6 columns]"
      ]
     },
     "execution_count": 4,
     "metadata": {},
     "output_type": "execute_result"
    }
   ],
   "source": [
    "def splitter(text):\n",
    "    return(text.split('\\n\\n'))\n",
    "\n",
    "split_transfo = BlockSplitter(splitter_func=splitter)\n",
    "splitted_df = split_transfo.fit_transform(texts_df)\n",
    "splitted_df"
   ]
  },
  {
   "cell_type": "markdown",
   "metadata": {},
   "source": [
    "## Train/Test split, entraînement et tranformation\n",
    "\n",
    "On effectue classiquement les étapes de train/test split, on entraîne le modèle sur le set d'entraînement et on le lance sur le set de test."
   ]
  },
  {
   "cell_type": "code",
   "execution_count": 5,
   "metadata": {},
   "outputs": [
    {
     "data": {
      "text/html": [
       "<div>\n",
       "<style scoped>\n",
       "    .dataframe tbody tr th:only-of-type {\n",
       "        vertical-align: middle;\n",
       "    }\n",
       "\n",
       "    .dataframe tbody tr th {\n",
       "        vertical-align: top;\n",
       "    }\n",
       "\n",
       "    .dataframe thead th {\n",
       "        text-align: right;\n",
       "    }\n",
       "</style>\n",
       "<table border=\"1\" class=\"dataframe\">\n",
       "  <thead>\n",
       "    <tr style=\"text-align: right;\">\n",
       "      <th></th>\n",
       "      <th>ingredients</th>\n",
       "      <th>predicted</th>\n",
       "    </tr>\n",
       "    <tr>\n",
       "      <th>uid</th>\n",
       "      <th></th>\n",
       "      <th></th>\n",
       "    </tr>\n",
       "  </thead>\n",
       "  <tbody>\n",
       "    <tr>\n",
       "      <th>2892dd68-e3a6-474c-b543-3ebfd3490658</th>\n",
       "      <td>Café instantané, café torrefié moulu (3%).</td>\n",
       "      <td>- NESTLÉ a un système de management de la qual...</td>\n",
       "    </tr>\n",
       "    <tr>\n",
       "      <th>a57c1561-b88e-4694-8bd8-55623f2afa17</th>\n",
       "      <td>Lentilles blondes</td>\n",
       "      <td>Cette fiche technique n’a pas de valeur contra...</td>\n",
       "    </tr>\n",
       "    <tr>\n",
       "      <th>3634fb1e-ee79-41d1-8aaa-084c1fae5bd5</th>\n",
       "      <td>Poire 99,9%, antioxydant: acide ascorbique.</td>\n",
       "      <td>Ce produit est une purée de fruits obtenue à p...</td>\n",
       "    </tr>\n",
       "    <tr>\n",
       "      <th>...</th>\n",
       "      <td>...</td>\n",
       "      <td>...</td>\n",
       "    </tr>\n",
       "    <tr>\n",
       "      <th>ebfc9e73-5d91-4b45-8331-8c8f9bed3bb3</th>\n",
       "      <td>Jus d'orange à base de concentré</td>\n",
       "      <td>\\n \\nVALEURS NUTRITIONNELLES pour 100mL / NUT...</td>\n",
       "    </tr>\n",
       "    <tr>\n",
       "      <th>c33aa83e-a502-4339-a8e0-c56db2e59e69</th>\n",
       "      <td>Farine de BLÉ, sucre, huile de colza,, cacao m...</td>\n",
       "      <td>Ingrédients : Farine de BLÉ, sucre, huile de c...</td>\n",
       "    </tr>\n",
       "    <tr>\n",
       "      <th>54f40033-f9cf-411c-81a5-11974f6715aa</th>\n",
       "      <td>Piment rouge fort équeuté* (85%), cumin, ail m...</td>\n",
       "      <td>A) Ingrédients : \\n \\nPiment  rouge  fort  équ...</td>\n",
       "    </tr>\n",
       "  </tbody>\n",
       "</table>\n",
       "<p>100 rows × 2 columns</p>\n",
       "</div>"
      ],
      "text/plain": [
       "                                                                            ingredients  \\\n",
       "uid                                                                                       \n",
       "2892dd68-e3a6-474c-b543-3ebfd3490658         Café instantané, café torrefié moulu (3%).   \n",
       "a57c1561-b88e-4694-8bd8-55623f2afa17                                  Lentilles blondes   \n",
       "3634fb1e-ee79-41d1-8aaa-084c1fae5bd5        Poire 99,9%, antioxydant: acide ascorbique.   \n",
       "...                                                                                 ...   \n",
       "ebfc9e73-5d91-4b45-8331-8c8f9bed3bb3                   Jus d'orange à base de concentré   \n",
       "c33aa83e-a502-4339-a8e0-c56db2e59e69  Farine de BLÉ, sucre, huile de colza,, cacao m...   \n",
       "54f40033-f9cf-411c-81a5-11974f6715aa  Piment rouge fort équeuté* (85%), cumin, ail m...   \n",
       "\n",
       "                                                                              predicted  \n",
       "uid                                                                                      \n",
       "2892dd68-e3a6-474c-b543-3ebfd3490658  - NESTLÉ a un système de management de la qual...  \n",
       "a57c1561-b88e-4694-8bd8-55623f2afa17  Cette fiche technique n’a pas de valeur contra...  \n",
       "3634fb1e-ee79-41d1-8aaa-084c1fae5bd5  Ce produit est une purée de fruits obtenue à p...  \n",
       "...                                                                                 ...  \n",
       "ebfc9e73-5d91-4b45-8331-8c8f9bed3bb3   \\n \\nVALEURS NUTRITIONNELLES pour 100mL / NUT...  \n",
       "c33aa83e-a502-4339-a8e0-c56db2e59e69  Ingrédients : Farine de BLÉ, sucre, huile de c...  \n",
       "54f40033-f9cf-411c-81a5-11974f6715aa  A) Ingrédients : \\n \\nPiment  rouge  fort  équ...  \n",
       "\n",
       "[100 rows x 2 columns]"
      ]
     },
     "execution_count": 5,
     "metadata": {},
     "output_type": "execute_result"
    }
   ],
   "source": [
    "train, test = train_test_split(splitted_df, train_size=400, random_state=42)\n",
    "model = SimilaritySelector(similarity='projection')\n",
    "model.fit(train['blocks'], train['ingredients'])\n",
    "predicted = pd.Series(model.predict(test['blocks']),\n",
    "                      index=test.index,\n",
    "                      name='predicted'\n",
    "                     )\n",
    "predicted = pd.concat([test['ingredients'], predicted], axis=1)\n",
    "predicted"
   ]
  },
  {
   "cell_type": "markdown",
   "metadata": {},
   "source": [
    "## Mesure de la performance : Précision\n",
    "\n",
    "### Approche naïve\n",
    "\n",
    "Dans cette première version, on calculera une précision brute, où seuls les strings parfaitement identiques sont considérés comme ok. "
   ]
  },
  {
   "cell_type": "code",
   "execution_count": 6,
   "metadata": {},
   "outputs": [
    {
     "data": {
      "text/plain": [
       "False    99\n",
       "True      1\n",
       "Name: result, dtype: int64"
      ]
     },
     "execution_count": 6,
     "metadata": {},
     "output_type": "execute_result"
    }
   ],
   "source": [
    "predicted['result'] = (predicted['ingredients'].fillna('') == predicted['predicted'].fillna(''))\n",
    "predicted['result'].value_counts()"
   ]
  },
  {
   "cell_type": "markdown",
   "metadata": {},
   "source": [
    "On a une précision très faible, 1%.\n",
    "L'unique liste d'ingrédients du set de test correctement prédite est la suivante :"
   ]
  },
  {
   "cell_type": "code",
   "execution_count": 7,
   "metadata": {},
   "outputs": [
    {
     "name": "stdout",
     "output_type": "stream",
     "text": [
      "Sirop de glucose, sucre, eau, stabilisants (E440i, E440ii, E415), acidifiants (E330, E450i), conversateur (E202).\n"
     ]
    }
   ],
   "source": [
    "print(predicted[predicted['result']].iloc[0, 0])"
   ]
  },
  {
   "cell_type": "markdown",
   "metadata": {},
   "source": [
    "### Cross-validation de l'approche naïve\n",
    "\n",
    "Pour avoir une vision plus précise de la performance du modèle, on peut effectuer une cross-validation sur le set d'entraînement.\n",
    "\n",
    "On commence par définir une fonction de scoring, qui pourra être appelée par la fonction standard de cross-validation de scikit-learn. Comme précédemment, il s'agit d'une fonction d'accuracy basique :"
   ]
  },
  {
   "cell_type": "code",
   "execution_count": 8,
   "metadata": {},
   "outputs": [],
   "source": [
    "def accuracy_scorer(estim, X, y):\n",
    "    y_pred = estim.predict(X)\n",
    "    return((y_pred == y).mean())"
   ]
  },
  {
   "cell_type": "markdown",
   "metadata": {},
   "source": [
    "On retrouve évidemment le même score que précédemment lorsqu'on utilise cette fonction sur le set de test : "
   ]
  },
  {
   "cell_type": "code",
   "execution_count": 9,
   "metadata": {},
   "outputs": [
    {
     "data": {
      "text/plain": [
       "0.01"
      ]
     },
     "execution_count": 9,
     "metadata": {},
     "output_type": "execute_result"
    }
   ],
   "source": [
    "accuracy_scorer(model, test.reset_index()['blocks'], test.reset_index()['ingredients'])"
   ]
  },
  {
   "cell_type": "markdown",
   "metadata": {},
   "source": [
    "Si on lance la cross-validation avec les paramètres par défaut (cv=5), on obtient le résultat suivant :"
   ]
  },
  {
   "cell_type": "code",
   "execution_count": 10,
   "metadata": {
    "scrolled": false
   },
   "outputs": [
    {
     "name": "stdout",
     "output_type": "stream",
     "text": [
      "Strict accuracy yields a result of 2.40% +/-0.80%\n",
      "[0.03 0.03 0.02 0.01 0.03]\n"
     ]
    }
   ],
   "source": [
    "X = splitted_df.reset_index()['blocks'].copy()\n",
    "y = splitted_df.reset_index()['ingredients'].copy()\n",
    "\n",
    "cross_val = cross_validate(model,\n",
    "                           X=X,\n",
    "                           y=y,\n",
    "                           scoring=accuracy_scorer,\n",
    "                          )\n",
    "print(f'Strict accuracy yields a result of {np.mean(cross_val[\"test_score\"]):.2%} +/-{np.std(cross_val[\"test_score\"]):.2%}')\n",
    "print(cross_val['test_score'])"
   ]
  },
  {
   "cell_type": "markdown",
   "metadata": {},
   "source": [
    "On voit que sur chacun des 5 folds (validation sur 400 produits), l'accuracy varie entre 1 et 3%.\n",
    "\n",
    "Si on trace l'accuracy et la standard deviation pour plusieurs valeurs de cv, on obtient les résultats suivants :"
   ]
  },
  {
   "cell_type": "code",
   "execution_count": 11,
   "metadata": {},
   "outputs": [
    {
     "name": "stdout",
     "output_type": "stream",
     "text": [
      "mean: [0.02799221 0.024      0.01996928 0.02       0.01996435 0.02\n",
      " 0.01997549 0.02       0.01989796 0.02      ] \n",
      "standard dev: [0.01015903 0.008      0.01540306 0.02       0.01774134 0.02966479\n",
      " 0.03208843 0.04472136 0.04881456 0.06      ]\n"
     ]
    }
   ],
   "source": [
    "x = [3, 5, 8, 10, 15, 20, 30, 50, 70, 100]\n",
    "mean = np.array([])\n",
    "std = np.array([])\n",
    "for n_cv in x:\n",
    "    cross_val = cross_validate(model,\n",
    "                               X=splitted_df['blocks'],\n",
    "                               y=splitted_df['ingredients'],\n",
    "                               scoring=accuracy_scorer, \n",
    "                               cv=n_cv,\n",
    "                              )\n",
    "    mean = np.append(mean, [np.mean(cross_val['test_score'])], axis=0)\n",
    "    std = np.append(std, [np.std(cross_val['test_score'])], axis=0)\n",
    "\n",
    "print('mean:', mean, '\\nstandard dev:', std)"
   ]
  },
  {
   "cell_type": "code",
   "execution_count": 12,
   "metadata": {},
   "outputs": [
    {
     "data": {
      "text/plain": [
       "<matplotlib.collections.PolyCollection at 0x7fe4bcff76d0>"
      ]
     },
     "execution_count": 12,
     "metadata": {},
     "output_type": "execute_result"
    },
    {
     "data": {
      "image/png": "[encoded data removed]",
      "text/plain": [
       "<Figure size 432x288 with 1 Axes>"
      ]
     },
     "metadata": {
      "needs_background": "light"
     },
     "output_type": "display_data"
    }
   ],
   "source": [
    "fig, ax = plt.subplots()\n",
    "ax.plot(x, mean)\n",
    "ax.fill_between(x, (mean - std), (mean + std), color='b', alpha=.1)"
   ]
  },
  {
   "cell_type": "markdown",
   "metadata": {},
   "source": [
    "Il apparaît que l'accuracy se situe aux alentours de 2%, avec un écart type important si on le compare à cette accuracy."
   ]
  },
  {
   "cell_type": "code",
   "execution_count": 13,
   "metadata": {},
   "outputs": [
    {
     "name": "stdout",
     "output_type": "stream",
     "text": [
      "Strict accuracy yields a result of 2.00% +/-2.00%\n",
      "[0.04 0.   0.   0.06 0.02 0.02 0.   0.02 0.   0.04]\n"
     ]
    }
   ],
   "source": [
    "cross_val = cross_validate(model,\n",
    "                           X=splitted_df['blocks'],\n",
    "                           y=splitted_df['ingredients'],\n",
    "                           scoring=accuracy_scorer,\n",
    "                           cv=10,\n",
    "                          )\n",
    "print(f'Strict accuracy yields a result of {np.mean(cross_val[\"test_score\"]):.2%} +/-{np.std(cross_val[\"test_score\"]):.2%}')\n",
    "print(cross_val['test_score'])"
   ]
  },
  {
   "cell_type": "markdown",
   "metadata": {},
   "source": [
    "### Ajout d'une étape de text-postprocessing\n",
    "\n",
    "On utilise la fonction `custom_accuracy` définie dans le module pimest pour calculer l'accuracy avec du text processing.\n",
    "Elle prend en paramètre les mêmes attributs que le `CountVectorizer` de scikit-learn, en plus d'un attribut \"tokenize\" qui va tokenizer le résultat (pour prise en compte des whitespace et de la ponctuation)."
   ]
  },
  {
   "cell_type": "code",
   "execution_count": 16,
   "metadata": {},
   "outputs": [
    {
     "data": {
      "text/plain": [
       "0.14"
      ]
     },
     "execution_count": 16,
     "metadata": {},
     "output_type": "execute_result"
    }
   ],
   "source": [
    "custom_accuracy(model, \n",
    "                test['blocks'].fillna(''),\n",
    "                test['ingredients'].fillna(''),\n",
    "                tokenize=True,\n",
    "                strip_accents='unicode',\n",
    "                lowercase=True,\n",
    "               )"
   ]
  },
  {
   "cell_type": "markdown",
   "metadata": {},
   "source": [
    "L'accuracy est maintenant estimée à 14% (vs. 1%) sur le set de test, après entraînenemt sur le set d'entraînement.\n",
    "\n",
    "On peut manuellement inspecter les blocks identique, en reproduisant le comportement de la fonction d'accuracy : "
   ]
  },
  {
   "cell_type": "code",
   "execution_count": 17,
   "metadata": {},
   "outputs": [],
   "source": [
    "def text_processor(text, **kwargs):\n",
    "    unused_model = CountVectorizer(**kwargs)\n",
    "    prepro = unused_model.build_preprocessor()\n",
    "    token = unused_model.build_tokenizer()    \n",
    "    return(' '.join(token(prepro(text))))\n",
    "\n",
    "partial_processor = partial(text_processor, strip_accents='unicode', lowercase=True)"
   ]
  },
  {
   "cell_type": "code",
   "execution_count": 18,
   "metadata": {},
   "outputs": [
    {
     "data": {
      "text/plain": [
       "uid\n",
       "2892dd68-e3a6-474c-b543-3ebfd3490658    nestle un systeme de management de la qualite ...\n",
       "a57c1561-b88e-4694-8bd8-55623f2afa17    cette fiche technique pas de valeur contractue...\n",
       "3634fb1e-ee79-41d1-8aaa-084c1fae5bd5    ce produit est une puree de fruits obtenue par...\n",
       "Name: predicted, dtype: object"
      ]
     },
     "execution_count": 18,
     "metadata": {},
     "output_type": "execute_result"
    }
   ],
   "source": [
    "prediction = model.predict(test['blocks'].fillna('')).rename('predicted')\n",
    "processed_prediction = prediction.apply(partial_processor)\n",
    "processed_prediction.head(3)"
   ]
  },
  {
   "cell_type": "code",
   "execution_count": 19,
   "metadata": {},
   "outputs": [
    {
     "data": {
      "text/plain": [
       "uid\n",
       "2892dd68-e3a6-474c-b543-3ebfd3490658      cafe instantane cafe torrefie moulu\n",
       "a57c1561-b88e-4694-8bd8-55623f2afa17                        lentilles blondes\n",
       "3634fb1e-ee79-41d1-8aaa-084c1fae5bd5    poire 99 antioxydant acide ascorbique\n",
       "Name: ingredients, dtype: object"
      ]
     },
     "execution_count": 19,
     "metadata": {},
     "output_type": "execute_result"
    }
   ],
   "source": [
    "processed_ground_truth = test['ingredients'].fillna('').apply(partial_processor)\n",
    "processed_ground_truth.head(3)"
   ]
  },
  {
   "cell_type": "code",
   "execution_count": 20,
   "metadata": {},
   "outputs": [
    {
     "data": {
      "text/html": [
       "<div>\n",
       "<style scoped>\n",
       "    .dataframe tbody tr th:only-of-type {\n",
       "        vertical-align: middle;\n",
       "    }\n",
       "\n",
       "    .dataframe tbody tr th {\n",
       "        vertical-align: top;\n",
       "    }\n",
       "\n",
       "    .dataframe thead th {\n",
       "        text-align: right;\n",
       "    }\n",
       "</style>\n",
       "<table border=\"1\" class=\"dataframe\">\n",
       "  <thead>\n",
       "    <tr style=\"text-align: right;\">\n",
       "      <th></th>\n",
       "      <th>ingredients</th>\n",
       "      <th>predicted</th>\n",
       "    </tr>\n",
       "    <tr>\n",
       "      <th>uid</th>\n",
       "      <th></th>\n",
       "      <th></th>\n",
       "    </tr>\n",
       "  </thead>\n",
       "  <tbody>\n",
       "    <tr>\n",
       "      <th>345591f4-d887-4ddc-bb40-21337fa9269d</th>\n",
       "      <td>Gésier de dinde émincé 50%, graisse de canard ...</td>\n",
       "      <td>Gésier de dinde émincé 50%,  graisse de canard...</td>\n",
       "    </tr>\n",
       "    <tr>\n",
       "      <th>13980d31-9002-457d-8d49-b451f08f473c</th>\n",
       "      <td>Edulcorants sorbitol, isomalt, sirop de maltit...</td>\n",
       "      <td>Edulcorants sorbitol, isomalt, sirop de maltit...</td>\n",
       "    </tr>\n",
       "    <tr>\n",
       "      <th>c3b6b4df-e586-4f10-8e58-15fbf0816acb</th>\n",
       "      <td>mini poivrons jaunes, eau, sucre, sel, affermi...</td>\n",
       "      <td>mini poivrons jaunes, eau, sucre, sel, affermi...</td>\n",
       "    </tr>\n",
       "    <tr>\n",
       "      <th>0481d91b-9653-42e7-b525-9dc9b87b06f2</th>\n",
       "      <td>Farine de BLE, huile de colza non hydrogénée, ...</td>\n",
       "      <td>Farine de BLE, huile de colza non hydrogénée, ...</td>\n",
       "    </tr>\n",
       "    <tr>\n",
       "      <th>484ac00a-a670-46a9-a9c4-5114174d9e3b</th>\n",
       "      <td>Pommes de terre 59,5 % - Céleris 40 % - Amidon...</td>\n",
       "      <td>Pommes de terre 59,5 % - Céleris 40 % - Amidon...</td>\n",
       "    </tr>\n",
       "    <tr>\n",
       "      <th>49b11281-34ea-44b0-a11c-4ae21d4c58e3</th>\n",
       "      <td></td>\n",
       "      <td></td>\n",
       "    </tr>\n",
       "    <tr>\n",
       "      <th>d59d96cb-0230-4090-8220-78ce8496fd91</th>\n",
       "      <td>Amidon de maïs* - Lait écrémé* - Sel - Fécule ...</td>\n",
       "      <td>Amidon de maïs* - Lait écrémé* - Sel - Fécule ...</td>\n",
       "    </tr>\n",
       "    <tr>\n",
       "      <th>b8cbe6f9-71d4-4e51-a169-1c163d49a561</th>\n",
       "      <td>Farine de FROMENT, poudre de LACTOSERUM, sucre...</td>\n",
       "      <td>Farine de FROMENT, poudre de LACTOSERUM, sucre...</td>\n",
       "    </tr>\n",
       "    <tr>\n",
       "      <th>a0492df6-9c76-4303-8813-65ec5ccbfa70</th>\n",
       "      <td>Eau, maltodextrine, sel, arômes, sucre, arôme ...</td>\n",
       "      <td>Eau, maltodextrine, sel, arômes, sucre, arôme ...</td>\n",
       "    </tr>\n",
       "    <tr>\n",
       "      <th>09e45b38-4da1-4eb5-888a-3ebd437a2291</th>\n",
       "      <td>OEUFS, farine de BLE, sucre, amidon de BLE, st...</td>\n",
       "      <td>OEUFS, farine de BLE, sucre, amidon de BLE, st...</td>\n",
       "    </tr>\n",
       "    <tr>\n",
       "      <th>4f83306f-66de-4545-9b12-7790b57b61ae</th>\n",
       "      <td>Sirop de glucose, sucre, eau, stabilisants (E4...</td>\n",
       "      <td>Sirop de glucose, sucre, eau, stabilisants (E4...</td>\n",
       "    </tr>\n",
       "    <tr>\n",
       "      <th>5cee689e-6fb1-493c-b232-1d8fb1f88a57</th>\n",
       "      <td>Flageolets verts. Jus : eau, sel, affermissant...</td>\n",
       "      <td>Flageolets verts. Jus : eau, sel, affermissant...</td>\n",
       "    </tr>\n",
       "    <tr>\n",
       "      <th>63968dc3-6e7c-4056-bd53-820c6cc925be</th>\n",
       "      <td>Carottes, eau, sucre, sel, vinaigre d'alcool, ...</td>\n",
       "      <td>Carottes, eau, sucre, sel, vinaigre d’alcool, ...</td>\n",
       "    </tr>\n",
       "    <tr>\n",
       "      <th>dc536305-82fd-4afe-a472-5056ca0e21ea</th>\n",
       "      <td>Légumes 43,2 % (pomme de terre, oignon, carott...</td>\n",
       "      <td>Légumes 43,2 % (pomme de terre, oignon, carott...</td>\n",
       "    </tr>\n",
       "  </tbody>\n",
       "</table>\n",
       "</div>"
      ],
      "text/plain": [
       "                                                                            ingredients  \\\n",
       "uid                                                                                       \n",
       "345591f4-d887-4ddc-bb40-21337fa9269d  Gésier de dinde émincé 50%, graisse de canard ...   \n",
       "13980d31-9002-457d-8d49-b451f08f473c  Edulcorants sorbitol, isomalt, sirop de maltit...   \n",
       "c3b6b4df-e586-4f10-8e58-15fbf0816acb  mini poivrons jaunes, eau, sucre, sel, affermi...   \n",
       "0481d91b-9653-42e7-b525-9dc9b87b06f2  Farine de BLE, huile de colza non hydrogénée, ...   \n",
       "484ac00a-a670-46a9-a9c4-5114174d9e3b  Pommes de terre 59,5 % - Céleris 40 % - Amidon...   \n",
       "49b11281-34ea-44b0-a11c-4ae21d4c58e3                                                      \n",
       "d59d96cb-0230-4090-8220-78ce8496fd91  Amidon de maïs* - Lait écrémé* - Sel - Fécule ...   \n",
       "b8cbe6f9-71d4-4e51-a169-1c163d49a561  Farine de FROMENT, poudre de LACTOSERUM, sucre...   \n",
       "a0492df6-9c76-4303-8813-65ec5ccbfa70  Eau, maltodextrine, sel, arômes, sucre, arôme ...   \n",
       "09e45b38-4da1-4eb5-888a-3ebd437a2291  OEUFS, farine de BLE, sucre, amidon de BLE, st...   \n",
       "4f83306f-66de-4545-9b12-7790b57b61ae  Sirop de glucose, sucre, eau, stabilisants (E4...   \n",
       "5cee689e-6fb1-493c-b232-1d8fb1f88a57  Flageolets verts. Jus : eau, sel, affermissant...   \n",
       "63968dc3-6e7c-4056-bd53-820c6cc925be  Carottes, eau, sucre, sel, vinaigre d'alcool, ...   \n",
       "dc536305-82fd-4afe-a472-5056ca0e21ea  Légumes 43,2 % (pomme de terre, oignon, carott...   \n",
       "\n",
       "                                                                              predicted  \n",
       "uid                                                                                      \n",
       "345591f4-d887-4ddc-bb40-21337fa9269d  Gésier de dinde émincé 50%,  graisse de canard...  \n",
       "13980d31-9002-457d-8d49-b451f08f473c  Edulcorants sorbitol, isomalt, sirop de maltit...  \n",
       "c3b6b4df-e586-4f10-8e58-15fbf0816acb  mini poivrons jaunes, eau, sucre, sel, affermi...  \n",
       "0481d91b-9653-42e7-b525-9dc9b87b06f2  Farine de BLE, huile de colza non hydrogénée, ...  \n",
       "484ac00a-a670-46a9-a9c4-5114174d9e3b  Pommes de terre 59,5 % - Céleris 40 % - Amidon...  \n",
       "49b11281-34ea-44b0-a11c-4ae21d4c58e3                                                  \n",
       "  \n",
       "d59d96cb-0230-4090-8220-78ce8496fd91  Amidon de maïs* - Lait écrémé* - Sel - Fécule ...  \n",
       "b8cbe6f9-71d4-4e51-a169-1c163d49a561  Farine de FROMENT, poudre de LACTOSERUM, sucre...  \n",
       "a0492df6-9c76-4303-8813-65ec5ccbfa70  Eau, maltodextrine, sel, arômes, sucre, arôme ...  \n",
       "09e45b38-4da1-4eb5-888a-3ebd437a2291  OEUFS, farine de BLE, sucre, amidon de BLE, st...  \n",
       "4f83306f-66de-4545-9b12-7790b57b61ae  Sirop de glucose, sucre, eau, stabilisants (E4...  \n",
       "5cee689e-6fb1-493c-b232-1d8fb1f88a57  Flageolets verts. Jus : eau, sel, affermissant...  \n",
       "63968dc3-6e7c-4056-bd53-820c6cc925be  Carottes, eau, sucre, sel, vinaigre d’alcool, ...  \n",
       "dc536305-82fd-4afe-a472-5056ca0e21ea  Légumes 43,2 % (pomme de terre, oignon, carott...  "
      ]
     },
     "execution_count": 20,
     "metadata": {},
     "output_type": "execute_result"
    }
   ],
   "source": [
    "corrects = test.join(prediction).loc[processed_prediction == processed_ground_truth , ['ingredients', 'predicted']]\n",
    "corrects"
   ]
  },
  {
   "cell_type": "code",
   "execution_count": 21,
   "metadata": {},
   "outputs": [],
   "source": [
    "with pd.option_context(\"max_colwidth\", 100000):\n",
    "    tex_str = (\n",
    "    corrects.replace(r'^\\s*$', np.nan, regex=True)\n",
    "            .to_latex(index=False,\n",
    "                      index_names=False,\n",
    "                      column_format='p{7cm}p{7cm}',\n",
    "                      na_rep='<rien>',\n",
    "                      longtable=False,\n",
    "                      header=[\"Liste d'ingrédients cible\", \"Liste d'ingrédients prédite\"],\n",
    "                      # label='tbl:GT_postprocessed_corrects',\n",
    "                      # caption=\"Prédictions identifiées comme correctes après postprocessing\",\n",
    "                  )\n",
    "             .replace(r'\\textbackslash n', r' \\newline ')\n",
    "             .replace(r'\\\\', r'\\\\ \\hline')\n",
    "    )\n",
    "    \n",
    "# with open(Path('..') / 'tbls' / 'GT_postprocessed_corrects.tex', 'w') as file:\n",
    "#     file.write(tex_str)"
   ]
  },
  {
   "cell_type": "markdown",
   "metadata": {},
   "source": [
    "### Cross-validation de l'approche avec text processing\n",
    "\n",
    "On fait tourner une cross-validation sur l'ensemble du dataset. \n",
    "On définit d'abord la fonction qui va permettre de calculer le score avec l'ensemble des fonctionnalités de text processing : \n",
    "- retrait des accents\n",
    "- remplacement des whitespaces par des espaces simples\n",
    "- retrait de la ponctution\n",
    "- mise en minuscule"
   ]
  },
  {
   "cell_type": "code",
   "execution_count": 22,
   "metadata": {},
   "outputs": [
    {
     "name": "stdout",
     "output_type": "stream",
     "text": [
      "Processed accuracy yields a result of 17.00% +/-2.45%\n",
      "[0.2  0.16 0.17 0.13 0.19]\n"
     ]
    }
   ],
   "source": [
    "processed_accuracy = partial(custom_accuracy,\n",
    "                             tokenize=True,\n",
    "                             strip_accents='unicode',\n",
    "                             lowercase=True,\n",
    "                            )\n",
    "cross_val = cross_validate(model,\n",
    "                           X=splitted_df['blocks'].fillna(''),\n",
    "                           y=splitted_df['ingredients'].fillna(''),\n",
    "                           scoring=processed_accuracy,\n",
    "                          )\n",
    "print(f'Processed accuracy yields a result of {np.mean(cross_val[\"test_score\"]):.2%} +/-{np.std(cross_val[\"test_score\"]):.2%}')\n",
    "print(cross_val['test_score'])"
   ]
  },
  {
   "cell_type": "code",
   "execution_count": 23,
   "metadata": {},
   "outputs": [
    {
     "name": "stdout",
     "output_type": "stream",
     "text": [
      "mean: [0.17593728 0.17       0.16599462 0.166      0.16387403 0.162\n",
      " 0.16372549 0.162      0.16173469 0.162     ] \n",
      "standard dev: [0.02658629 0.0244949  0.03903199 0.03352611 0.06445016 0.07947327\n",
      " 0.09572828 0.12472369 0.13735865 0.16418282]\n"
     ]
    }
   ],
   "source": [
    "x = [3, 5, 8, 10, 15, 20, 30, 50, 70, 100]\n",
    "mean = np.array([])\n",
    "std = np.array([])\n",
    "for n_cv in x:\n",
    "    cross_val = cross_validate(model,\n",
    "                               X=splitted_df['blocks'].fillna(''),\n",
    "                               y=splitted_df['ingredients'].fillna(''),\n",
    "                               scoring=processed_accuracy, \n",
    "                               cv=n_cv,\n",
    "                              )\n",
    "    mean = np.append(mean, [np.mean(cross_val['test_score'])], axis=0)\n",
    "    std = np.append(std, [np.std(cross_val['test_score'])], axis=0)\n",
    "\n",
    "print('mean:', mean, '\\nstandard dev:', std)"
   ]
  },
  {
   "cell_type": "code",
   "execution_count": 24,
   "metadata": {},
   "outputs": [
    {
     "data": {
      "text/plain": [
       "<matplotlib.collections.PolyCollection at 0x7fe4bd4462b0>"
      ]
     },
     "execution_count": 24,
     "metadata": {},
     "output_type": "execute_result"
    },
    {
     "data": {
      "image/png": "[encoded data removed]",
      "text/plain": [
       "<Figure size 432x288 with 1 Axes>"
      ]
     },
     "metadata": {
      "needs_background": "light"
     },
     "output_type": "display_data"
    }
   ],
   "source": [
    "fig, ax = plt.subplots()\n",
    "ax.plot(x, mean)\n",
    "ax.fill_between(x, (mean - std), (mean + std), color='b', alpha=.1)"
   ]
  },
  {
   "cell_type": "code",
   "execution_count": 25,
   "metadata": {},
   "outputs": [
    {
     "name": "stdout",
     "output_type": "stream",
     "text": [
      "Processed accuracy yields a result of 16.60% +/-3.35%\n",
      "[0.2  0.18 0.18 0.14 0.12 0.22 0.14 0.12 0.16 0.2 ]\n"
     ]
    }
   ],
   "source": [
    "cross_val = cross_validate(model,\n",
    "                           X=splitted_df['blocks'].fillna(''),\n",
    "                           y=splitted_df['ingredients'].fillna(''),\n",
    "                           scoring=processed_accuracy,\n",
    "                           cv=10,\n",
    "                          )\n",
    "print(f'Processed accuracy yields a result of {np.mean(cross_val[\"test_score\"]):.2%} +/-{np.std(cross_val[\"test_score\"]):.2%}')\n",
    "print(cross_val['test_score'])"
   ]
  },
  {
   "cell_type": "markdown",
   "metadata": {},
   "source": [
    "## Mesure de la performance : Similarité\n",
    "\n",
    "### Mesures\n",
    "\n",
    "On peut également mesurer la similarité plutôt qu'uniquement l'accuracy. Cela permet de valoriser les textes qui \"ressemblent\" aux listes d'ingrédients cibles plutôt que les compter comme des erreurs."
   ]
  },
  {
   "cell_type": "code",
   "execution_count": 26,
   "metadata": {
    "scrolled": false
   },
   "outputs": [
    {
     "name": "stdout",
     "output_type": "stream",
     "text": [
      "Similarity with levenshtein similarity is 48.86%\n",
      "Similarity with damerau-levenshtein similarity is 48.86%\n",
      "Similarity with jaro similarity is 63.56%\n",
      "Similarity with jaro-winkler similarity is 65.67%\n"
     ]
    }
   ],
   "source": [
    "similarity_kinds = ['levenshtein',\n",
    "                    'damerau-levenshtein', \n",
    "                    'jaro',\n",
    "                    'jaro-winkler',\n",
    "                   ]\n",
    "\n",
    "sim_dict = dict()\n",
    "\n",
    "for similarity in similarity_kinds:\n",
    "    sim = text_sim_score(model, \n",
    "                         test['blocks'].fillna(''),\n",
    "                         test['ingredients'].fillna(''),\n",
    "                         similarity=similarity,\n",
    "                        )\n",
    "    sim_dict[similarity] = f'{sim:.2%}'\n",
    "    print(f'Similarity with {similarity} similarity is {sim:.2%}')"
   ]
  },
  {
   "cell_type": "markdown",
   "metadata": {},
   "source": [
    "Les similarités de Levenshtein et Damerau-Levenshtein donnent des résultats identiques, à presque 50% de similarité moyenne. Celles basées sur Jaro tournent aux alentours de 65%, comme on s'y attendait dans la mesure où elle est très \"indulgente\" sur les textes longs.\n",
    "\n",
    "Si on effectue des cross validations sur chacune de ces distances sur le dataset complet, on obtient :"
   ]
  },
  {
   "cell_type": "code",
   "execution_count": 27,
   "metadata": {},
   "outputs": [
    {
     "name": "stdout",
     "output_type": "stream",
     "text": [
      "Model evaluated with levenshtein similarity a result of 49.79% +/-3.73%\n",
      "Model evaluated with damerau-levenshtein similarity a result of 49.80% +/-3.72%\n",
      "Model evaluated with jaro similarity a result of 62.78% +/-3.28%\n",
      "Model evaluated with jaro-winkler similarity a result of 64.40% +/-3.50%\n"
     ]
    }
   ],
   "source": [
    "similarities = {similarity: partial(text_sim_score, similarity=similarity) for similarity in similarity_kinds}\n",
    "\n",
    "cross_vals = dict()\n",
    "\n",
    "for similarity in similarity_kinds:\n",
    "    cross_vals[similarity] = cross_validate(model, \n",
    "                                            splitted_df['blocks'].fillna(''),\n",
    "                                            splitted_df['ingredients'].fillna(''),\n",
    "                                            scoring=similarities[similarity],\n",
    "                                            cv=10,\n",
    "                                            )\n",
    "for similarity in similarity_kinds:\n",
    "    print(f'Model evaluated with {similarity} similarity a result of '\n",
    "          f'{np.mean(cross_vals[similarity][\"test_score\"]):.2%} '\n",
    "          f'+/-{np.std(cross_vals[similarity][\"test_score\"]):.2%}')"
   ]
  },
  {
   "cell_type": "markdown",
   "metadata": {},
   "source": [
    "On transforme en tableau latex pour insertion dans le rapport."
   ]
  },
  {
   "cell_type": "code",
   "execution_count": 28,
   "metadata": {},
   "outputs": [
    {
     "name": "stdout",
     "output_type": "stream",
     "text": [
      "{'levenshtein': {'train/test set': '48.86%', 'cross validation': '49.79% +/-3.73%'}, 'damerau-levenshtein': {'train/test set': '48.86%', 'cross validation': '49.80% +/-3.72%'}, 'jaro': {'train/test set': '63.56%', 'cross validation': '62.78% +/-3.28%'}, 'jaro-winkler': {'train/test set': '65.67%', 'cross validation': '64.40% +/-3.50%'}}\n"
     ]
    }
   ],
   "source": [
    "result_strings = dict()\n",
    "\n",
    "for similarity in similarity_kinds:\n",
    "    result_strings[similarity] = {'train/test set': sim_dict[similarity], \n",
    "                                  'cross validation': f'{np.mean(cross_vals[similarity][\"test_score\"]):.2%} '\n",
    "                                                      f'+/-{np.std(cross_vals[similarity][\"test_score\"]):.2%}'}\n",
    "result_df = pd.DataFrame(result_strings).T\n",
    "print(result_strings)\n",
    "labs = {'levenshtein': 'Levenshtein',\n",
    "        'damerau-levenshtein': 'Damerau-Levenshtein',\n",
    "        'jaro': 'Jaro',\n",
    "        'jaro-winkler': 'Jaro-Winkler',\n",
    "       }\n",
    "# (result_df.rename(labs)\n",
    "#           .to_latex(Path('..') / 'tbls' / 'similarities_result.tex',\n",
    "#                    column_format='lcc',\n",
    "#                    bold_rows=True,\n",
    "#                   )\n",
    "# )"
   ]
  },
  {
   "cell_type": "markdown",
   "metadata": {},
   "source": [
    "### Illustration\n",
    "\n",
    "On illustre les différents niveaux de similarité sur le set de test après entrainement sur le set d'entrainement."
   ]
  },
  {
   "cell_type": "code",
   "execution_count": 29,
   "metadata": {},
   "outputs": [],
   "source": [
    "# building the dataframe\n",
    "y_pred = model.predict(test['blocks']).rename('predicted')\n",
    "comp_df = pd.concat([test['ingredients'].fillna(''), y_pred], axis=1)\n",
    "processed_df = comp_df.applymap(build_text_processor())\n",
    "\n",
    "# computing similarities and ranks\n",
    "sim_funcs = {sim: partial(text_similarity, similarity=sim) for sim in similarity_kinds}\n",
    "for sim in similarity_kinds:\n",
    "    processed_df[sim] = processed_df.apply(lambda x: sim_funcs[sim](x['ingredients'], x['predicted']), axis=1)\n",
    "    processed_df[sim + '_rank'] = processed_df[sim].rank(axis=0, method='first', ascending=False)"
   ]
  },
  {
   "cell_type": "code",
   "execution_count": 30,
   "metadata": {},
   "outputs": [
    {
     "data": {
      "text/html": [
       "<div>\n",
       "<style scoped>\n",
       "    .dataframe tbody tr th:only-of-type {\n",
       "        vertical-align: middle;\n",
       "    }\n",
       "\n",
       "    .dataframe tbody tr th {\n",
       "        vertical-align: top;\n",
       "    }\n",
       "\n",
       "    .dataframe thead th {\n",
       "        text-align: right;\n",
       "    }\n",
       "</style>\n",
       "<table border=\"1\" class=\"dataframe\">\n",
       "  <thead>\n",
       "    <tr style=\"text-align: right;\">\n",
       "      <th></th>\n",
       "      <th>ingredients_</th>\n",
       "      <th>predicted_</th>\n",
       "      <th>levenshtein</th>\n",
       "      <th>levenshtein_rank</th>\n",
       "      <th>damerau-levenshtein</th>\n",
       "      <th>damerau-levenshtein_rank</th>\n",
       "      <th>jaro</th>\n",
       "      <th>jaro_rank</th>\n",
       "      <th>jaro-winkler</th>\n",
       "      <th>jaro-winkler_rank</th>\n",
       "      <th>ingredients</th>\n",
       "      <th>predicted</th>\n",
       "    </tr>\n",
       "    <tr>\n",
       "      <th>uid</th>\n",
       "      <th></th>\n",
       "      <th></th>\n",
       "      <th></th>\n",
       "      <th></th>\n",
       "      <th></th>\n",
       "      <th></th>\n",
       "      <th></th>\n",
       "      <th></th>\n",
       "      <th></th>\n",
       "      <th></th>\n",
       "      <th></th>\n",
       "      <th></th>\n",
       "    </tr>\n",
       "  </thead>\n",
       "  <tbody>\n",
       "    <tr>\n",
       "      <th>b8cbe6f9-71d4-4e51-a169-1c163d49a561</th>\n",
       "      <td>farine de froment poudre de lactoserum sucre p...</td>\n",
       "      <td>farine de froment poudre de lactoserum sucre p...</td>\n",
       "      <td>1.000000</td>\n",
       "      <td>8.0</td>\n",
       "      <td>1.000000</td>\n",
       "      <td>8.0</td>\n",
       "      <td>1.000000</td>\n",
       "      <td>8.0</td>\n",
       "      <td>1.000000</td>\n",
       "      <td>11.0</td>\n",
       "      <td>Farine de FROMENT, poudre de LACTOSERUM, sucre...</td>\n",
       "      <td>Farine de FROMENT, poudre de LACTOSERUM, sucre...</td>\n",
       "    </tr>\n",
       "    <tr>\n",
       "      <th>dc536305-82fd-4afe-a472-5056ca0e21ea</th>\n",
       "      <td>legumes 43 pomme de terre oignon carotte tomat...</td>\n",
       "      <td>legumes 43 pomme de terre oignon carotte tomat...</td>\n",
       "      <td>1.000000</td>\n",
       "      <td>14.0</td>\n",
       "      <td>1.000000</td>\n",
       "      <td>14.0</td>\n",
       "      <td>1.000000</td>\n",
       "      <td>14.0</td>\n",
       "      <td>1.000000</td>\n",
       "      <td>25.0</td>\n",
       "      <td>Légumes 43,2 % (pomme de terre, oignon, carott...</td>\n",
       "      <td>Légumes 43,2 % (pomme de terre, oignon, carott...</td>\n",
       "    </tr>\n",
       "    <tr>\n",
       "      <th>63968dc3-6e7c-4056-bd53-820c6cc925be</th>\n",
       "      <td>carottes eau sucre sel vinaigre alcool acidifi...</td>\n",
       "      <td>carottes eau sucre sel vinaigre alcool acidifi...</td>\n",
       "      <td>1.000000</td>\n",
       "      <td>13.0</td>\n",
       "      <td>1.000000</td>\n",
       "      <td>13.0</td>\n",
       "      <td>1.000000</td>\n",
       "      <td>13.0</td>\n",
       "      <td>1.000000</td>\n",
       "      <td>24.0</td>\n",
       "      <td>Carottes, eau, sucre, sel, vinaigre d'alcool, ...</td>\n",
       "      <td>Carottes, eau, sucre, sel, vinaigre d’alcool, ...</td>\n",
       "    </tr>\n",
       "    <tr>\n",
       "      <th>...</th>\n",
       "      <td>...</td>\n",
       "      <td>...</td>\n",
       "      <td>...</td>\n",
       "      <td>...</td>\n",
       "      <td>...</td>\n",
       "      <td>...</td>\n",
       "      <td>...</td>\n",
       "      <td>...</td>\n",
       "      <td>...</td>\n",
       "      <td>...</td>\n",
       "      <td>...</td>\n",
       "      <td>...</td>\n",
       "    </tr>\n",
       "    <tr>\n",
       "      <th>bb77c7b0-9c63-4869-9ab1-823ba1158f53</th>\n",
       "      <td>tilleul 100</td>\n",
       "      <td>dans le cadre des recommandations de sante pub...</td>\n",
       "      <td>0.019185</td>\n",
       "      <td>89.0</td>\n",
       "      <td>0.019185</td>\n",
       "      <td>89.0</td>\n",
       "      <td>0.259974</td>\n",
       "      <td>91.0</td>\n",
       "      <td>0.259974</td>\n",
       "      <td>91.0</td>\n",
       "      <td>Tilleul (100%).</td>\n",
       "      <td>Dans le cadre des recommandations de santé pub...</td>\n",
       "    </tr>\n",
       "    <tr>\n",
       "      <th>6267b9f8-2529-4bc6-ba4b-26760f0522b3</th>\n",
       "      <td>eau gazeifiee colorant e150d acidifiants acide...</td>\n",
       "      <td>coca cola light mini 150 mlean5449000239808mar...</td>\n",
       "      <td>0.012461</td>\n",
       "      <td>90.0</td>\n",
       "      <td>0.012461</td>\n",
       "      <td>90.0</td>\n",
       "      <td>0.506069</td>\n",
       "      <td>74.0</td>\n",
       "      <td>0.506069</td>\n",
       "      <td>74.0</td>\n",
       "      <td>eau gazéifiée\\ncolorant : E150d\\nacidifiants :...</td>\n",
       "      <td>Coca­Cola Light mini 8 x 150 mlEAN544900023980...</td>\n",
       "    </tr>\n",
       "    <tr>\n",
       "      <th>2ca5dc9e-8058-499a-affe-3ec9c06d55b7</th>\n",
       "      <td>100 arabica</td>\n",
       "      <td>gammemarqueargumentation commercialepreparatio...</td>\n",
       "      <td>0.011411</td>\n",
       "      <td>91.0</td>\n",
       "      <td>0.011411</td>\n",
       "      <td>91.0</td>\n",
       "      <td>0.372595</td>\n",
       "      <td>89.0</td>\n",
       "      <td>0.372595</td>\n",
       "      <td>89.0</td>\n",
       "      <td>100% Arabica</td>\n",
       "      <td>gammemarqueargumentation commercialepreparatio...</td>\n",
       "    </tr>\n",
       "  </tbody>\n",
       "</table>\n",
       "<p>90 rows × 12 columns</p>\n",
       "</div>"
      ],
      "text/plain": [
       "                                                                           ingredients_  \\\n",
       "uid                                                                                       \n",
       "b8cbe6f9-71d4-4e51-a169-1c163d49a561  farine de froment poudre de lactoserum sucre p...   \n",
       "dc536305-82fd-4afe-a472-5056ca0e21ea  legumes 43 pomme de terre oignon carotte tomat...   \n",
       "63968dc3-6e7c-4056-bd53-820c6cc925be  carottes eau sucre sel vinaigre alcool acidifi...   \n",
       "...                                                                                 ...   \n",
       "bb77c7b0-9c63-4869-9ab1-823ba1158f53                                        tilleul 100   \n",
       "6267b9f8-2529-4bc6-ba4b-26760f0522b3  eau gazeifiee colorant e150d acidifiants acide...   \n",
       "2ca5dc9e-8058-499a-affe-3ec9c06d55b7                                        100 arabica   \n",
       "\n",
       "                                                                             predicted_  levenshtein  \\\n",
       "uid                                                                                                    \n",
       "b8cbe6f9-71d4-4e51-a169-1c163d49a561  farine de froment poudre de lactoserum sucre p...     1.000000   \n",
       "dc536305-82fd-4afe-a472-5056ca0e21ea  legumes 43 pomme de terre oignon carotte tomat...     1.000000   \n",
       "63968dc3-6e7c-4056-bd53-820c6cc925be  carottes eau sucre sel vinaigre alcool acidifi...     1.000000   \n",
       "...                                                                                 ...          ...   \n",
       "bb77c7b0-9c63-4869-9ab1-823ba1158f53  dans le cadre des recommandations de sante pub...     0.019185   \n",
       "6267b9f8-2529-4bc6-ba4b-26760f0522b3  coca cola light mini 150 mlean5449000239808mar...     0.012461   \n",
       "2ca5dc9e-8058-499a-affe-3ec9c06d55b7  gammemarqueargumentation commercialepreparatio...     0.011411   \n",
       "\n",
       "                                      levenshtein_rank  damerau-levenshtein  damerau-levenshtein_rank  \\\n",
       "uid                                                                                                     \n",
       "b8cbe6f9-71d4-4e51-a169-1c163d49a561               8.0             1.000000                       8.0   \n",
       "dc536305-82fd-4afe-a472-5056ca0e21ea              14.0             1.000000                      14.0   \n",
       "63968dc3-6e7c-4056-bd53-820c6cc925be              13.0             1.000000                      13.0   \n",
       "...                                                ...                  ...                       ...   \n",
       "bb77c7b0-9c63-4869-9ab1-823ba1158f53              89.0             0.019185                      89.0   \n",
       "6267b9f8-2529-4bc6-ba4b-26760f0522b3              90.0             0.012461                      90.0   \n",
       "2ca5dc9e-8058-499a-affe-3ec9c06d55b7              91.0             0.011411                      91.0   \n",
       "\n",
       "                                          jaro  jaro_rank  jaro-winkler  jaro-winkler_rank  \\\n",
       "uid                                                                                          \n",
       "b8cbe6f9-71d4-4e51-a169-1c163d49a561  1.000000        8.0      1.000000               11.0   \n",
       "dc536305-82fd-4afe-a472-5056ca0e21ea  1.000000       14.0      1.000000               25.0   \n",
       "63968dc3-6e7c-4056-bd53-820c6cc925be  1.000000       13.0      1.000000               24.0   \n",
       "...                                        ...        ...           ...                ...   \n",
       "bb77c7b0-9c63-4869-9ab1-823ba1158f53  0.259974       91.0      0.259974               91.0   \n",
       "6267b9f8-2529-4bc6-ba4b-26760f0522b3  0.506069       74.0      0.506069               74.0   \n",
       "2ca5dc9e-8058-499a-affe-3ec9c06d55b7  0.372595       89.0      0.372595               89.0   \n",
       "\n",
       "                                                                            ingredients  \\\n",
       "uid                                                                                       \n",
       "b8cbe6f9-71d4-4e51-a169-1c163d49a561  Farine de FROMENT, poudre de LACTOSERUM, sucre...   \n",
       "dc536305-82fd-4afe-a472-5056ca0e21ea  Légumes 43,2 % (pomme de terre, oignon, carott...   \n",
       "63968dc3-6e7c-4056-bd53-820c6cc925be  Carottes, eau, sucre, sel, vinaigre d'alcool, ...   \n",
       "...                                                                                 ...   \n",
       "bb77c7b0-9c63-4869-9ab1-823ba1158f53                                    Tilleul (100%).   \n",
       "6267b9f8-2529-4bc6-ba4b-26760f0522b3  eau gazéifiée\\ncolorant : E150d\\nacidifiants :...   \n",
       "2ca5dc9e-8058-499a-affe-3ec9c06d55b7                                       100% Arabica   \n",
       "\n",
       "                                                                              predicted  \n",
       "uid                                                                                      \n",
       "b8cbe6f9-71d4-4e51-a169-1c163d49a561  Farine de FROMENT, poudre de LACTOSERUM, sucre...  \n",
       "dc536305-82fd-4afe-a472-5056ca0e21ea  Légumes 43,2 % (pomme de terre, oignon, carott...  \n",
       "63968dc3-6e7c-4056-bd53-820c6cc925be  Carottes, eau, sucre, sel, vinaigre d’alcool, ...  \n",
       "...                                                                                 ...  \n",
       "bb77c7b0-9c63-4869-9ab1-823ba1158f53  Dans le cadre des recommandations de santé pub...  \n",
       "6267b9f8-2529-4bc6-ba4b-26760f0522b3  Coca­Cola Light mini 8 x 150 mlEAN544900023980...  \n",
       "2ca5dc9e-8058-499a-affe-3ec9c06d55b7  gammemarqueargumentation commercialepreparatio...  \n",
       "\n",
       "[90 rows x 12 columns]"
      ]
     },
     "execution_count": 30,
     "metadata": {},
     "output_type": "execute_result"
    }
   ],
   "source": [
    "(processed_df.join(comp_df, lsuffix='_')\n",
    "             .sort_values(['levenshtein'], ascending=False)\n",
    "             .loc[(processed_df['ingredients'] != '') & (processed_df['predicted'] != '')]\n",
    ")"
   ]
  },
  {
   "cell_type": "code",
   "execution_count": 31,
   "metadata": {
    "scrolled": false
   },
   "outputs": [],
   "source": [
    "# outputing to latex\n",
    "with pd.option_context(\"max_colwidth\", 100000):\n",
    "    tex_str = (processed_df.sort_values('levenshtein_rank')\n",
    "                           .loc[(processed_df['ingredients'] != '') &\n",
    "                                (processed_df['predicted'] != '') &\n",
    "                                (processed_df['predicted'].apply(len) <=300)]\n",
    "                           .join(comp_df, lsuffix='_')\n",
    "                           .iloc[np.r_[0:3, 50:53, -3:0]]\n",
    "                           .to_latex(columns=['ingredients', 'predicted', 'levenshtein', 'levenshtein_rank',\n",
    "                                              'damerau-levenshtein', 'jaro', \n",
    "                                              'jaro-winkler'],\n",
    "                                     index=False,\n",
    "                                     index_names=False,\n",
    "                                     column_format='p{5cm}p{5cm}cccccccc',\n",
    "                                     formatters={'levenshtein': lambda x: f'{x:.2%}', \n",
    "                                                 'levenshtein_rank': lambda x: f'{x:1.0f}',\n",
    "                                                 'damerau-levenshtein': lambda x: f'{x:.2%}', \n",
    "                                                 #'damerau-levenshtein_rank': lambda x: f'{x:1.0f}',\n",
    "                                                 'jaro': lambda x: f'{x:.2%}',\n",
    "                                                 #'jaro_rank': lambda x: f'{x:1.0f}',\n",
    "                                                 'jaro-winkler': lambda x: f'{x:.2%}',\n",
    "                                                 #'jaro-winkler_rank': lambda x: f'{x:1.0f}',\n",
    "                                                },\n",
    "                                     header=[\"Listes d'ingrédients cibles\", \"Listes d'ingrédients prédites\",\n",
    "                                             'Lev', 'rang', 'Dam-Lev', 'Jaro', 'Jaro-Win'],\n",
    "                                     na_rep = '<rien>',\n",
    "                                    )\n",
    "    ).replace(r'\\textbackslash n', r' \\newline ').replace(r'\\\\', r'\\\\ \\hline')\n",
    "    \n",
    "# with open(Path('..') / 'tbls' / 'similarity_illustration.tex' , 'w') as file:\n",
    "#     file.write(tex_str)\n"
   ]
  },
  {
   "cell_type": "markdown",
   "metadata": {},
   "source": [
    "## Similarité vs. longueur des listes d'ingrédients\n",
    "\n",
    "On compare le score de similarité obtenu par rapport à la longueur des listes d'ingrédients cibles."
   ]
  },
  {
   "cell_type": "code",
   "execution_count": 60,
   "metadata": {},
   "outputs": [
    {
     "data": {
      "text/plain": [
       "<matplotlib.collections.PathCollection at 0x7fe4bcb2f490>"
      ]
     },
     "execution_count": 60,
     "metadata": {},
     "output_type": "execute_result"
    },
    {
     "data": {
      "image/png": "[encoded data removed]",
      "text/plain": [
       "<Figure size 576x360 with 1 Axes>"
      ]
     },
     "metadata": {
      "needs_background": "light"
     },
     "output_type": "display_data"
    }
   ],
   "source": [
    "fig, ax = plt.subplots(figsize=(8, 5))\n",
    "\n",
    "ax.scatter(y=processed_df['levenshtein'], x=processed_df['ingredients'].apply(len))"
   ]
  },
  {
   "cell_type": "markdown",
   "metadata": {},
   "source": [
    "On a des outliers qui vont avoir trop d'importance sur les résultats. On va les filtrer."
   ]
  },
  {
   "cell_type": "code",
   "execution_count": 75,
   "metadata": {},
   "outputs": [],
   "source": [
    "filtered = processed_df.loc[processed_df['ingredients'].apply(len) <= 350]"
   ]
  },
  {
   "cell_type": "code",
   "execution_count": 81,
   "metadata": {},
   "outputs": [
    {
     "data": {
      "text/plain": [
       "0.34026294846691624"
      ]
     },
     "execution_count": 81,
     "metadata": {},
     "output_type": "execute_result"
    }
   ],
   "source": [
    "linregress(x=filtered['ingredients'].apply(len), y=filtered['levenshtein']).rvalue ** 2"
   ]
  },
  {
   "cell_type": "code",
   "execution_count": 82,
   "metadata": {},
   "outputs": [
    {
     "data": {
      "image/png": "[encoded data removed]",
      "text/plain": [
       "<Figure size 576x360 with 1 Axes>"
      ]
     },
     "metadata": {
      "needs_background": "light"
     },
     "output_type": "display_data"
    }
   ],
   "source": [
    "fig, ax = plt.subplots(figsize=(8, 5))\n",
    "sns.regplot(x=filtered['ingredients'].apply(len), y=filtered['levenshtein'], ax=ax)\n",
    "ax.set_xlabel(\"Longueur de la liste d'ingrédients cible\", fontsize=12)\n",
    "ax.set_ylabel(\"Similarité de Levenshtein entre\\nprédiction et cible\", fontsize=12)\n",
    "fig.suptitle(\"Relation entre longueur de la liste d'ingrédients\\net performance du modèle (r²=34.0%)\", fontsize=16)\n",
    "ax.yaxis.set_major_formatter(mtick.PercentFormatter(xmax=1.))\n",
    "ax.set_ylim(-0.1, 1.1)\n",
    "fig.savefig(Path('..') / 'img' / 'perf_vs_length.png', bbox_inches='tight')"
   ]
  }
 ],
 "metadata": {
  "kernelspec": {
   "display_name": "Python 3",
   "language": "python",
   "name": "python3"
  },
  "language_info": {
   "codemirror_mode": {
    "name": "ipython",
    "version": 3
   },
   "file_extension": ".py",
   "mimetype": "text/x-python",
   "name": "python",
   "nbconvert_exporter": "python",
   "pygments_lexer": "ipython3",
   "version": "3.8.1"
  }
 },
 "nbformat": 4,
 "nbformat_minor": 4
}
