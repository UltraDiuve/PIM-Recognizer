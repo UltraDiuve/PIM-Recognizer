{
 "cells": [
  {
   "cell_type": "markdown",
   "metadata": {},
   "source": [
    "# Mesure de la performance du modèle\n",
    "\n",
    "L'objet de ce notebook est d'illustrer la méthodologie de mesure de la performance du modèle.\n",
    "\n",
    "\n",
    "## Préambule technique"
   ]
  },
  {
   "cell_type": "code",
   "execution_count": 1,
   "metadata": {},
   "outputs": [],
   "source": [
    "# setting up sys.path for relative imports\n",
    "from pathlib import Path\n",
    "import sys\n",
    "project_root = str(Path(sys.path[0]).parents[1].absolute())\n",
    "if project_root not in sys.path:\n",
    "    sys.path.append(project_root)"
   ]
  },
  {
   "cell_type": "code",
   "execution_count": 2,
   "metadata": {},
   "outputs": [],
   "source": [
    "# imports and customization of diplay\n",
    "import os\n",
    "from functools import partial\n",
    "import numpy as np\n",
    "from scipy.stats import linregress\n",
    "import pandas as pd\n",
    "pd.options.display.min_rows = 6\n",
    "pd.options.display.width=108\n",
    "from sklearn.feature_extraction.text import CountVectorizer\n",
    "from sklearn.model_selection import train_test_split\n",
    "from sklearn.model_selection import cross_val_score, cross_validate\n",
    "from sklearn.pipeline import Pipeline\n",
    "from matplotlib import pyplot as plt\n",
    "import matplotlib.ticker as mtick\n",
    "import seaborn as sns\n",
    "\n",
    "from src.pimest import ContentGetter\n",
    "from src.pimest import PathGetter\n",
    "from src.pimest import PDFContentParser\n",
    "from src.pimest import BlockSplitter\n",
    "from src.pimest import SimilaritySelector\n",
    "from src.pimest import custom_accuracy\n",
    "from src.pimest import text_sim_score\n",
    "from src.pimest import text_similarity\n",
    "from src.pimest import build_text_processor"
   ]
  },
  {
   "cell_type": "code",
   "execution_count": 4,
   "metadata": {},
   "outputs": [],
   "source": [
    "# monkeypatch _repr_latex_ for better inclusion of dataframes output in report\n",
    "def _repr_latex_(self, size='scriptsize',):\n",
    "    return(f\"\\\\resizebox{{\\\\linewidth}}{{!}}{{\\\\begin{{{size}}}\\\\centering{{{self.to_latex()}}}\\\\end{{{size}}}}}\")\n",
    "pd.DataFrame._repr_latex_ = _repr_latex_"
   ]
  },
  {
   "cell_type": "markdown",
   "metadata": {},
   "source": [
    "## Acquisition des données\n",
    "\n",
    "On récupère les données manuellement étiquetées et on les intègre dans un dataframe"
   ]
  },
  {
   "cell_type": "code",
   "execution_count": 5,
   "metadata": {},
   "outputs": [
    {
     "name": "stdout",
     "output_type": "stream",
     "text": [
      "[Pipeline] ........ (step 1 of 3) Processing PathGetter, total=   0.1s\n",
      "[Pipeline] ..... (step 2 of 3) Processing ContentGetter, total=   0.6s\n",
      "Launching 8 processes.\n",
      "[Pipeline] ..... (step 3 of 3) Processing ContentParser, total=  37.0s\n"
     ]
    },
    {
     "data": {
      "text/html": [
       "<div>\n",
       "<style scoped>\n",
       "    .dataframe tbody tr th:only-of-type {\n",
       "        vertical-align: middle;\n",
       "    }\n",
       "\n",
       "    .dataframe tbody tr th {\n",
       "        vertical-align: top;\n",
       "    }\n",
       "\n",
       "    .dataframe thead th {\n",
       "        text-align: right;\n",
       "    }\n",
       "</style>\n",
       "<table border=\"1\" class=\"dataframe\">\n",
       "  <thead>\n",
       "    <tr style=\"text-align: right;\">\n",
       "      <th></th>\n",
       "      <th>designation</th>\n",
       "      <th>ingredients</th>\n",
       "      <th>path</th>\n",
       "      <th>content</th>\n",
       "      <th>text</th>\n",
       "    </tr>\n",
       "    <tr>\n",
       "      <th>uid</th>\n",
       "      <th></th>\n",
       "      <th></th>\n",
       "      <th></th>\n",
       "      <th></th>\n",
       "      <th></th>\n",
       "    </tr>\n",
       "  </thead>\n",
       "  <tbody>\n",
       "    <tr>\n",
       "      <th>d5aeaf70-6b1e-4535-9d4e-dbef142da572</th>\n",
       "      <td>Café moulu Sélection 100% arabica Bio en paque...</td>\n",
       "      <td>Café*. *Ingrédient issu de l'agriculture biolo...</td>\n",
       "      <td>../../ground_truth/d5aeaf70-6b1e-4535-9d4e-dbe...</td>\n",
       "      <td>b'%PDF-1.5\\r%\\xe2\\xe3\\xcf\\xd3\\r\\n13 0 obj\\r&lt;&lt;/...</td>\n",
       "      <td>www.destination-bio.com - contact@cdc-destinat...</td>\n",
       "    </tr>\n",
       "    <tr>\n",
       "      <th>be17352c-dfc6-4860-9ab3-19c38abd7c4b</th>\n",
       "      <td>Ravioli pur buf en boîte 1/2 MAINGOURD</td>\n",
       "      <td>Eau, ravioli [pâte (semoule de blé dur, eau, g...</td>\n",
       "      <td>../../ground_truth/be17352c-dfc6-4860-9ab3-19c...</td>\n",
       "      <td>b'%PDF-1.7\\n\\x8e\\x9d\\xa3\\xb4\\xc5\\xd6\\xe7\\xf8\\n...</td>\n",
       "      <td>Service Qualité CGC\\nDivision Plats Cuisinés\\n...</td>\n",
       "    </tr>\n",
       "    <tr>\n",
       "      <th>c4afd49b-aac9-4071-a168-d0ba79ab93e6</th>\n",
       "      <td>Confiture extra de fraise en pot verre 30 g BO...</td>\n",
       "      <td>Fraises , sucre, sucre roux de canne, jus de c...</td>\n",
       "      <td>../../ground_truth/c4afd49b-aac9-4071-a168-d0b...</td>\n",
       "      <td>b'%PDF-1.4\\r%\\xe2\\xe3\\xcf\\xd3\\r\\n7 0 obj\\r&lt;&lt;/L...</td>\n",
       "      <td>Route de Oinville\\n28 700 AUNEAU\\nTél : + 33 2...</td>\n",
       "    </tr>\n",
       "    <tr>\n",
       "      <th>007f266f-fc64-4bd0-98d1-0d1e5650ec5b</th>\n",
       "      <td>Tarte sablée sucrée au beurre en forme de cur...</td>\n",
       "      <td>farine de BLE enrichie (farine de BLE, farine ...</td>\n",
       "      <td>../../ground_truth/007f266f-fc64-4bd0-98d1-0d1...</td>\n",
       "      <td>b'%PDF-1.4\\n%\\xc7\\xec\\x8f\\xa2\\n5 0 obj\\n&lt;&lt;/Len...</td>\n",
       "      <td>12 HEART TART SHELL WITH BUTTER\\n\\nEdition: 10...</td>\n",
       "    </tr>\n",
       "  </tbody>\n",
       "</table>\n",
       "</div>"
      ],
      "text/latex": [
       "\\resizebox{\\linewidth}{!}{\\begin{scriptsize}\\centering{\\begin{tabular}{llllll}\n",
       "\\toprule\n",
       "{} &                                        designation &                                        ingredients &                                               path &                                            content &                                               text \\\\\n",
       "uid                                  &                                                    &                                                    &                                                    &                                                    &                                                    \\\\\n",
       "\\midrule\n",
       "d5aeaf70-6b1e-4535-9d4e-dbef142da572 &  Café moulu Sélection 100\\% arabica Bio en paque... &  Café*. *Ingrédient issu de l'agriculture biolo... &  ../../ground\\_truth/d5aeaf70-6b1e-4535-9d4e-dbe... &  b'\\%PDF-1.5\\textbackslash r\\%\\textbackslash xe2\\textbackslash xe3\\textbackslash xcf\\textbackslash xd3\\textbackslash r\\textbackslash n13 0 obj\\textbackslash r<</... &  www.destination-bio.com - contact@cdc-destinat... \\\\\n",
       "be17352c-dfc6-4860-9ab3-19c38abd7c4b &            Ravioli pur buf en boîte 1/2 MAINGOURD &  Eau, ravioli [pâte (semoule de blé dur, eau, g... &  ../../ground\\_truth/be17352c-dfc6-4860-9ab3-19c... &  b'\\%PDF-1.7\\textbackslash n\\textbackslash x8e\\textbackslash x9d\\textbackslash xa3\\textbackslash xb4\\textbackslash xc5\\textbackslash xd6\\textbackslash xe7\\textbackslash xf8\\textbackslash n... &  Service Qualité CGC\\textbackslash nDivision Plats Cuisinés\\textbackslash n... \\\\\n",
       "c4afd49b-aac9-4071-a168-d0ba79ab93e6 &  Confiture extra de fraise en pot verre 30 g BO... &  Fraises , sucre, sucre roux de canne, jus de c... &  ../../ground\\_truth/c4afd49b-aac9-4071-a168-d0b... &  b'\\%PDF-1.4\\textbackslash r\\%\\textbackslash xe2\\textbackslash xe3\\textbackslash xcf\\textbackslash xd3\\textbackslash r\\textbackslash n7 0 obj\\textbackslash r<</L... &  Route de Oinville\\textbackslash n28 700 AUNEAU\\textbackslash nTél : + 33 2... \\\\\n",
       "007f266f-fc64-4bd0-98d1-0d1e5650ec5b &  Tarte sablée sucrée au beurre en forme de cur... &  farine de BLE enrichie (farine de BLE, farine ... &  ../../ground\\_truth/007f266f-fc64-4bd0-98d1-0d1... &  b'\\%PDF-1.4\\textbackslash n\\%\\textbackslash xc7\\textbackslash xec\\textbackslash x8f\\textbackslash xa2\\textbackslash n5 0 obj\\textbackslash n<</Len... &  12 HEART TART SHELL WITH BUTTER\\textbackslash n\\textbackslash nEdition: 10... \\\\\n",
       "\\bottomrule\n",
       "\\end{tabular}\n",
       "}\\end{scriptsize}}"
      ],
      "text/plain": [
       "                                                                            designation  \\\n",
       "uid                                                                                       \n",
       "d5aeaf70-6b1e-4535-9d4e-dbef142da572  Café moulu Sélection 100% arabica Bio en paque...   \n",
       "be17352c-dfc6-4860-9ab3-19c38abd7c4b            Ravioli pur buf en boîte 1/2 MAINGOURD   \n",
       "c4afd49b-aac9-4071-a168-d0ba79ab93e6  Confiture extra de fraise en pot verre 30 g BO...   \n",
       "007f266f-fc64-4bd0-98d1-0d1e5650ec5b  Tarte sablée sucrée au beurre en forme de cur...   \n",
       "\n",
       "                                                                            ingredients  \\\n",
       "uid                                                                                       \n",
       "d5aeaf70-6b1e-4535-9d4e-dbef142da572  Café*. *Ingrédient issu de l'agriculture biolo...   \n",
       "be17352c-dfc6-4860-9ab3-19c38abd7c4b  Eau, ravioli [pâte (semoule de blé dur, eau, g...   \n",
       "c4afd49b-aac9-4071-a168-d0ba79ab93e6  Fraises , sucre, sucre roux de canne, jus de c...   \n",
       "007f266f-fc64-4bd0-98d1-0d1e5650ec5b  farine de BLE enrichie (farine de BLE, farine ...   \n",
       "\n",
       "                                                                                   path  \\\n",
       "uid                                                                                       \n",
       "d5aeaf70-6b1e-4535-9d4e-dbef142da572  ../../ground_truth/d5aeaf70-6b1e-4535-9d4e-dbe...   \n",
       "be17352c-dfc6-4860-9ab3-19c38abd7c4b  ../../ground_truth/be17352c-dfc6-4860-9ab3-19c...   \n",
       "c4afd49b-aac9-4071-a168-d0ba79ab93e6  ../../ground_truth/c4afd49b-aac9-4071-a168-d0b...   \n",
       "007f266f-fc64-4bd0-98d1-0d1e5650ec5b  ../../ground_truth/007f266f-fc64-4bd0-98d1-0d1...   \n",
       "\n",
       "                                                                                content  \\\n",
       "uid                                                                                       \n",
       "d5aeaf70-6b1e-4535-9d4e-dbef142da572  b'%PDF-1.5\\r%\\xe2\\xe3\\xcf\\xd3\\r\\n13 0 obj\\r<</...   \n",
       "be17352c-dfc6-4860-9ab3-19c38abd7c4b  b'%PDF-1.7\\n\\x8e\\x9d\\xa3\\xb4\\xc5\\xd6\\xe7\\xf8\\n...   \n",
       "c4afd49b-aac9-4071-a168-d0ba79ab93e6  b'%PDF-1.4\\r%\\xe2\\xe3\\xcf\\xd3\\r\\n7 0 obj\\r<</L...   \n",
       "007f266f-fc64-4bd0-98d1-0d1e5650ec5b  b'%PDF-1.4\\n%\\xc7\\xec\\x8f\\xa2\\n5 0 obj\\n<</Len...   \n",
       "\n",
       "                                                                                   text  \n",
       "uid                                                                                      \n",
       "d5aeaf70-6b1e-4535-9d4e-dbef142da572  www.destination-bio.com - contact@cdc-destinat...  \n",
       "be17352c-dfc6-4860-9ab3-19c38abd7c4b  Service Qualité CGC\\nDivision Plats Cuisinés\\n...  \n",
       "c4afd49b-aac9-4071-a168-d0ba79ab93e6  Route de Oinville\\n28 700 AUNEAU\\nTél : + 33 2...  \n",
       "007f266f-fc64-4bd0-98d1-0d1e5650ec5b  12 HEART TART SHELL WITH BUTTER\\n\\nEdition: 10...  "
      ]
     },
     "execution_count": 5,
     "metadata": {},
     "output_type": "execute_result"
    }
   ],
   "source": [
    "ground_truth_df = pd.read_csv(Path('..') / '..' / 'ground_truth' / 'manually_labelled_ground_truth.csv',\n",
    "                              sep=';',\n",
    "                              encoding='latin-1',\n",
    "                              index_col='uid')\n",
    "ground_truth_uids = list(ground_truth_df.index)\n",
    "\n",
    "acqui_pipe = Pipeline([('PathGetter', PathGetter(ground_truth_uids=ground_truth_uids,\n",
    "                                                  train_set_path=Path('..') / '..' / 'ground_truth',\n",
    "                                                  ground_truth_path=Path('..') / '..' / 'ground_truth',\n",
    "                                                  )),\n",
    "                        ('ContentGetter', ContentGetter(missing_file='to_nan')),\n",
    "                        ('ContentParser', PDFContentParser(none_content='to_empty')),\n",
    "                       ],\n",
    "                       verbose=True)\n",
    "\n",
    "texts_df = acqui_pipe.fit_transform(ground_truth_df)\n",
    "texts_df['ingredients'] = texts_df['ingredients'].fillna('')\n",
    "texts_df.sample(4)"
   ]
  },
  {
   "cell_type": "markdown",
   "metadata": {},
   "source": [
    "On splitte les textes en blocs de manière basique."
   ]
  },
  {
   "cell_type": "code",
   "execution_count": 6,
   "metadata": {},
   "outputs": [
    {
     "name": "stdout",
     "output_type": "stream",
     "text": [
      "Launching 8 processes.\n"
     ]
    },
    {
     "data": {
      "text/html": [
       "<div>\n",
       "<style scoped>\n",
       "    .dataframe tbody tr th:only-of-type {\n",
       "        vertical-align: middle;\n",
       "    }\n",
       "\n",
       "    .dataframe tbody tr th {\n",
       "        vertical-align: top;\n",
       "    }\n",
       "\n",
       "    .dataframe thead th {\n",
       "        text-align: right;\n",
       "    }\n",
       "</style>\n",
       "<table border=\"1\" class=\"dataframe\">\n",
       "  <thead>\n",
       "    <tr style=\"text-align: right;\">\n",
       "      <th></th>\n",
       "      <th>designation</th>\n",
       "      <th>ingredients</th>\n",
       "      <th>path</th>\n",
       "      <th>content</th>\n",
       "      <th>text</th>\n",
       "      <th>blocks</th>\n",
       "    </tr>\n",
       "    <tr>\n",
       "      <th>uid</th>\n",
       "      <th></th>\n",
       "      <th></th>\n",
       "      <th></th>\n",
       "      <th></th>\n",
       "      <th></th>\n",
       "      <th></th>\n",
       "    </tr>\n",
       "  </thead>\n",
       "  <tbody>\n",
       "    <tr>\n",
       "      <th>45aafdde-9ca7-42ab-973f-70d6fa402e17</th>\n",
       "      <td>Riz long Indica étuvé en sac 10 kg EPISAVEURS</td>\n",
       "      <td></td>\n",
       "      <td>../../ground_truth/45aafdde-9ca7-42ab-973f-70d...</td>\n",
       "      <td>b'%PDF-1.4 Sharp Scanned ImagePDF\\n%Sharp Non-...</td>\n",
       "      <td></td>\n",
       "      <td>[\f",
       "\f",
       "\f",
       "]</td>\n",
       "    </tr>\n",
       "    <tr>\n",
       "      <th>d0d8ee07-07ba-4a0b-a13b-c1fc39a2e203</th>\n",
       "      <td>INFUSION ROOIBOS 20 PYRAMIDES EN SACHETS FRAIC...</td>\n",
       "      <td>Rooibos</td>\n",
       "      <td>../../ground_truth/d0d8ee07-07ba-4a0b-a13b-c1f...</td>\n",
       "      <td>b'%PDF-1.7\\r\\n%\\xb5\\xb5\\xb5\\xb5\\r\\n1 0 obj\\r\\n...</td>\n",
       "      <td>Infusion Rooibos                   \\n\\n20 pyra...</td>\n",
       "      <td>[Infusion Rooibos                   , 20 pyram...</td>\n",
       "    </tr>\n",
       "    <tr>\n",
       "      <th>62709016-fb2e-4933-924d-ddaa21a0792b</th>\n",
       "      <td>OEUFS PRALINÉ AMANDES FONDANT 1.25KG</td>\n",
       "      <td>Chocolat au lait (sucre, beurre de cacao, LAIT...</td>\n",
       "      <td>../../ground_truth/62709016-fb2e-4933-924d-dda...</td>\n",
       "      <td>b'%PDF-1.7\\r\\n%\\xb5\\xb5\\xb5\\xb5\\r\\n1 0 obj\\r\\n...</td>\n",
       "      <td>Révillon Chocolatier  \\n\\n \\n\\n180 rue Clément...</td>\n",
       "      <td>[Révillon Chocolatier  ,  , 180 rue Clément AD...</td>\n",
       "    </tr>\n",
       "    <tr>\n",
       "      <th>b70ed045-57ec-497d-bf18-af14fbbbe955</th>\n",
       "      <td>Blé dur pécuit en sac 5 kg VIVIEN PAILLE</td>\n",
       "      <td></td>\n",
       "      <td>../../ground_truth/b70ed045-57ec-497d-bf18-af1...</td>\n",
       "      <td>b'%PDF-1.7\\r\\n%\\xb5\\xb5\\xb5\\xb5\\r\\n1 0 obj\\r\\n...</td>\n",
       "      <td>BLE DUR PRECUIT\\n\\nRéférence PQG007-6.6.7\\nVer...</td>\n",
       "      <td>[BLE DUR PRECUIT, Référence PQG007-6.6.7\\nVers...</td>\n",
       "    </tr>\n",
       "  </tbody>\n",
       "</table>\n",
       "</div>"
      ],
      "text/latex": [
       "\\resizebox{\\linewidth}{!}{\\begin{scriptsize}\\centering{\\begin{tabular}{lllllll}\n",
       "\\toprule\n",
       "{} &                                        designation &                                        ingredients &                                               path &                                            content &                                               text &                                             blocks \\\\\n",
       "uid                                  &                                                    &                                                    &                                                    &                                                    &                                                    &                                                    \\\\\n",
       "\\midrule\n",
       "45aafdde-9ca7-42ab-973f-70d6fa402e17 &      Riz long Indica étuvé en sac 10 kg EPISAVEURS &                                                    &  ../../ground\\_truth/45aafdde-9ca7-42ab-973f-70d... &  b'\\%PDF-1.4 Sharp Scanned ImagePDF\\textbackslash n\\%Sharp Non-... &                                                \f",
       "\f",
       "\f",
       " &                                              [\f",
       "\f",
       "\f",
       "] \\\\\n",
       "d0d8ee07-07ba-4a0b-a13b-c1fc39a2e203 &  INFUSION ROOIBOS 20 PYRAMIDES EN SACHETS FRAIC... &                                            Rooibos &  ../../ground\\_truth/d0d8ee07-07ba-4a0b-a13b-c1f... &  b'\\%PDF-1.7\\textbackslash r\\textbackslash n\\%\\textbackslash xb5\\textbackslash xb5\\textbackslash xb5\\textbackslash xb5\\textbackslash r\\textbackslash n1 0 obj\\textbackslash r\\textbackslash n... &  Infusion Rooibos                   \\textbackslash n\\textbackslash n20 pyra... &  [Infusion Rooibos                   , 20 pyram... \\\\\n",
       "62709016-fb2e-4933-924d-ddaa21a0792b &               OEUFS PRALINÉ AMANDES FONDANT 1.25KG &  Chocolat au lait (sucre, beurre de cacao, LAIT... &  ../../ground\\_truth/62709016-fb2e-4933-924d-dda... &  b'\\%PDF-1.7\\textbackslash r\\textbackslash n\\%\\textbackslash xb5\\textbackslash xb5\\textbackslash xb5\\textbackslash xb5\\textbackslash r\\textbackslash n1 0 obj\\textbackslash r\\textbackslash n... &  Révillon Chocolatier  \\textbackslash n\\textbackslash n \\textbackslash n\\textbackslash n180 rue Clément... &  [Révillon Chocolatier  ,  , 180 rue Clément AD... \\\\\n",
       "b70ed045-57ec-497d-bf18-af14fbbbe955 &           Blé dur pécuit en sac 5 kg VIVIEN PAILLE &                                                    &  ../../ground\\_truth/b70ed045-57ec-497d-bf18-af1... &  b'\\%PDF-1.7\\textbackslash r\\textbackslash n\\%\\textbackslash xb5\\textbackslash xb5\\textbackslash xb5\\textbackslash xb5\\textbackslash r\\textbackslash n1 0 obj\\textbackslash r\\textbackslash n... &  BLE DUR PRECUIT\\textbackslash n\\textbackslash nRéférence PQG007-6.6.7\\textbackslash nVer... &  [BLE DUR PRECUIT, Référence PQG007-6.6.7\\textbackslash nVers... \\\\\n",
       "\\bottomrule\n",
       "\\end{tabular}\n",
       "}\\end{scriptsize}}"
      ],
      "text/plain": [
       "                                                                            designation  \\\n",
       "uid                                                                                       \n",
       "45aafdde-9ca7-42ab-973f-70d6fa402e17      Riz long Indica étuvé en sac 10 kg EPISAVEURS   \n",
       "d0d8ee07-07ba-4a0b-a13b-c1fc39a2e203  INFUSION ROOIBOS 20 PYRAMIDES EN SACHETS FRAIC...   \n",
       "62709016-fb2e-4933-924d-ddaa21a0792b               OEUFS PRALINÉ AMANDES FONDANT 1.25KG   \n",
       "b70ed045-57ec-497d-bf18-af14fbbbe955           Blé dur pécuit en sac 5 kg VIVIEN PAILLE   \n",
       "\n",
       "                                                                            ingredients  \\\n",
       "uid                                                                                       \n",
       "45aafdde-9ca7-42ab-973f-70d6fa402e17                                                      \n",
       "d0d8ee07-07ba-4a0b-a13b-c1fc39a2e203                                            Rooibos   \n",
       "62709016-fb2e-4933-924d-ddaa21a0792b  Chocolat au lait (sucre, beurre de cacao, LAIT...   \n",
       "b70ed045-57ec-497d-bf18-af14fbbbe955                                                      \n",
       "\n",
       "                                                                                   path  \\\n",
       "uid                                                                                       \n",
       "45aafdde-9ca7-42ab-973f-70d6fa402e17  ../../ground_truth/45aafdde-9ca7-42ab-973f-70d...   \n",
       "d0d8ee07-07ba-4a0b-a13b-c1fc39a2e203  ../../ground_truth/d0d8ee07-07ba-4a0b-a13b-c1f...   \n",
       "62709016-fb2e-4933-924d-ddaa21a0792b  ../../ground_truth/62709016-fb2e-4933-924d-dda...   \n",
       "b70ed045-57ec-497d-bf18-af14fbbbe955  ../../ground_truth/b70ed045-57ec-497d-bf18-af1...   \n",
       "\n",
       "                                                                                content  \\\n",
       "uid                                                                                       \n",
       "45aafdde-9ca7-42ab-973f-70d6fa402e17  b'%PDF-1.4 Sharp Scanned ImagePDF\\n%Sharp Non-...   \n",
       "d0d8ee07-07ba-4a0b-a13b-c1fc39a2e203  b'%PDF-1.7\\r\\n%\\xb5\\xb5\\xb5\\xb5\\r\\n1 0 obj\\r\\n...   \n",
       "62709016-fb2e-4933-924d-ddaa21a0792b  b'%PDF-1.7\\r\\n%\\xb5\\xb5\\xb5\\xb5\\r\\n1 0 obj\\r\\n...   \n",
       "b70ed045-57ec-497d-bf18-af14fbbbe955  b'%PDF-1.7\\r\\n%\\xb5\\xb5\\xb5\\xb5\\r\\n1 0 obj\\r\\n...   \n",
       "\n",
       "                                                                                   text  \\\n",
       "uid                                                                                       \n",
       "45aafdde-9ca7-42ab-973f-70d6fa402e17                                                \n",
       "\n",
       "\n",
       "   \n",
       "d0d8ee07-07ba-4a0b-a13b-c1fc39a2e203  Infusion Rooibos                   \\n\\n20 pyra...   \n",
       "62709016-fb2e-4933-924d-ddaa21a0792b  Révillon Chocolatier  \\n\\n \\n\\n180 rue Clément...   \n",
       "b70ed045-57ec-497d-bf18-af14fbbbe955  BLE DUR PRECUIT\\n\\nRéférence PQG007-6.6.7\\nVer...   \n",
       "\n",
       "                                                                                 blocks  \n",
       "uid                                                                                      \n",
       "45aafdde-9ca7-42ab-973f-70d6fa402e17                                              [\n",
       "\n",
       "\n",
       "]  \n",
       "d0d8ee07-07ba-4a0b-a13b-c1fc39a2e203  [Infusion Rooibos                   , 20 pyram...  \n",
       "62709016-fb2e-4933-924d-ddaa21a0792b  [Révillon Chocolatier  ,  , 180 rue Clément AD...  \n",
       "b70ed045-57ec-497d-bf18-af14fbbbe955  [BLE DUR PRECUIT, Référence PQG007-6.6.7\\nVers...  "
      ]
     },
     "execution_count": 6,
     "metadata": {},
     "output_type": "execute_result"
    }
   ],
   "source": [
    "def splitter(text):\n",
    "    return(text.split('\\n\\n'))\n",
    "\n",
    "split_transfo = BlockSplitter(splitter_func=splitter)\n",
    "splitted_df = split_transfo.fit_transform(texts_df)\n",
    "splitted_df.sample(4)"
   ]
  },
  {
   "cell_type": "markdown",
   "metadata": {},
   "source": [
    "## Train/Test split, entraînement et tranformation\n",
    "\n",
    "On effectue classiquement les étapes de train/test split, on entraîne le modèle sur le set d'entraînement et on le lance sur le set de test."
   ]
  },
  {
   "cell_type": "code",
   "execution_count": 7,
   "metadata": {},
   "outputs": [
    {
     "data": {
      "text/html": [
       "<div>\n",
       "<style scoped>\n",
       "    .dataframe tbody tr th:only-of-type {\n",
       "        vertical-align: middle;\n",
       "    }\n",
       "\n",
       "    .dataframe tbody tr th {\n",
       "        vertical-align: top;\n",
       "    }\n",
       "\n",
       "    .dataframe thead th {\n",
       "        text-align: right;\n",
       "    }\n",
       "</style>\n",
       "<table border=\"1\" class=\"dataframe\">\n",
       "  <thead>\n",
       "    <tr style=\"text-align: right;\">\n",
       "      <th></th>\n",
       "      <th>ingredients</th>\n",
       "      <th>predicted</th>\n",
       "    </tr>\n",
       "    <tr>\n",
       "      <th>uid</th>\n",
       "      <th></th>\n",
       "      <th></th>\n",
       "    </tr>\n",
       "  </thead>\n",
       "  <tbody>\n",
       "    <tr>\n",
       "      <th>de22b1fa-039d-479e-b36e-608946b75bb8</th>\n",
       "      <td>NOISETTES entières décortiquées.</td>\n",
       "      <td>Les noisettes décortiquées entières sont les f...</td>\n",
       "    </tr>\n",
       "    <tr>\n",
       "      <th>6bdb201d-5879-423b-96b8-3ae88b857818</th>\n",
       "      <td>vinaigre d'alcool, piment jalapeno, eau, sel, ...</td>\n",
       "      <td>Liste d’ingrédients : vinaigre d’alcool, pimen...</td>\n",
       "    </tr>\n",
       "    <tr>\n",
       "      <th>7f622727-e4ad-45cc-9af4-4509acf91154</th>\n",
       "      <td>Eau, huile de tournesol, beurre 9,5 %, jaune d...</td>\n",
       "      <td>Une sauce onctueuse et savoureuse avec un équi...</td>\n",
       "    </tr>\n",
       "    <tr>\n",
       "      <th>194419d0-d9f2-4799-81ac-d9e3aa77fd27</th>\n",
       "      <td>Pommes de terre, eau, sel.</td>\n",
       "      <td>Anhydride sulfureux et sulfites en \\nconcentra...</td>\n",
       "    </tr>\n",
       "  </tbody>\n",
       "</table>\n",
       "</div>"
      ],
      "text/latex": [
       "\\resizebox{\\linewidth}{!}{\\begin{scriptsize}\\centering{\\begin{tabular}{lll}\n",
       "\\toprule\n",
       "{} &                                        ingredients &                                          predicted \\\\\n",
       "uid                                  &                                                    &                                                    \\\\\n",
       "\\midrule\n",
       "de22b1fa-039d-479e-b36e-608946b75bb8 &                   NOISETTES entières décortiquées. &  Les noisettes décortiquées entières sont les f... \\\\\n",
       "6bdb201d-5879-423b-96b8-3ae88b857818 &  vinaigre d'alcool, piment jalapeno, eau, sel, ... &  Liste d’ingrédients : vinaigre d’alcool, pimen... \\\\\n",
       "7f622727-e4ad-45cc-9af4-4509acf91154 &  Eau, huile de tournesol, beurre 9,5 \\%, jaune d... &  Une sauce onctueuse et savoureuse avec un équi... \\\\\n",
       "194419d0-d9f2-4799-81ac-d9e3aa77fd27 &                         Pommes de terre, eau, sel. &  Anhydride sulfureux et sulfites en \\textbackslash nconcentra... \\\\\n",
       "\\bottomrule\n",
       "\\end{tabular}\n",
       "}\\end{scriptsize}}"
      ],
      "text/plain": [
       "                                                                            ingredients  \\\n",
       "uid                                                                                       \n",
       "de22b1fa-039d-479e-b36e-608946b75bb8                   NOISETTES entières décortiquées.   \n",
       "6bdb201d-5879-423b-96b8-3ae88b857818  vinaigre d'alcool, piment jalapeno, eau, sel, ...   \n",
       "7f622727-e4ad-45cc-9af4-4509acf91154  Eau, huile de tournesol, beurre 9,5 %, jaune d...   \n",
       "194419d0-d9f2-4799-81ac-d9e3aa77fd27                         Pommes de terre, eau, sel.   \n",
       "\n",
       "                                                                              predicted  \n",
       "uid                                                                                      \n",
       "de22b1fa-039d-479e-b36e-608946b75bb8  Les noisettes décortiquées entières sont les f...  \n",
       "6bdb201d-5879-423b-96b8-3ae88b857818  Liste d’ingrédients : vinaigre d’alcool, pimen...  \n",
       "7f622727-e4ad-45cc-9af4-4509acf91154  Une sauce onctueuse et savoureuse avec un équi...  \n",
       "194419d0-d9f2-4799-81ac-d9e3aa77fd27  Anhydride sulfureux et sulfites en \\nconcentra...  "
      ]
     },
     "execution_count": 7,
     "metadata": {},
     "output_type": "execute_result"
    }
   ],
   "source": [
    "train, test = train_test_split(splitted_df, train_size=400, random_state=42)\n",
    "model = SimilaritySelector(similarity='projection')\n",
    "model.fit(train['blocks'], train['ingredients'])\n",
    "predicted = pd.Series(model.predict(test['blocks']),\n",
    "                      index=test.index,\n",
    "                      name='predicted'\n",
    "                     )\n",
    "predicted = pd.concat([test['ingredients'], predicted], axis=1)\n",
    "predicted.sample(4)"
   ]
  },
  {
   "cell_type": "markdown",
   "metadata": {},
   "source": [
    "## Mesure de la performance : Précision\n",
    "\n",
    "### Approche naïve\n",
    "\n",
    "Dans cette première version, on calculera une précision brute, où seuls les strings parfaitement identiques sont considérés comme ok. "
   ]
  },
  {
   "cell_type": "code",
   "execution_count": 8,
   "metadata": {},
   "outputs": [
    {
     "data": {
      "text/plain": [
       "False    99\n",
       "True      1\n",
       "Name: result, dtype: int64"
      ]
     },
     "execution_count": 8,
     "metadata": {},
     "output_type": "execute_result"
    }
   ],
   "source": [
    "predicted['result'] = (predicted['ingredients'].fillna('') == predicted['predicted'].fillna(''))\n",
    "predicted['result'].value_counts()"
   ]
  },
  {
   "cell_type": "markdown",
   "metadata": {},
   "source": [
    "On a une précision très faible, 1%.\n",
    "L'unique liste d'ingrédients du set de test correctement prédite est la suivante :"
   ]
  },
  {
   "cell_type": "code",
   "execution_count": 9,
   "metadata": {},
   "outputs": [
    {
     "name": "stdout",
     "output_type": "stream",
     "text": [
      "Sirop de glucose, sucre, eau, stabilisants (E440i, E440ii, E415), acidifiants (E330, E450i), conversateur (E202).\n"
     ]
    }
   ],
   "source": [
    "print(predicted[predicted['result']].iloc[0, 0])"
   ]
  },
  {
   "cell_type": "markdown",
   "metadata": {},
   "source": [
    "### Cross-validation de l'approche naïve\n",
    "\n",
    "Pour avoir une vision plus précise de la performance du modèle, on peut effectuer une cross-validation sur le set d'entraînement.\n",
    "\n",
    "On commence par définir une fonction de scoring, qui pourra être appelée par la fonction standard de cross-validation de scikit-learn. Comme précédemment, il s'agit d'une fonction d'accuracy basique :"
   ]
  },
  {
   "cell_type": "code",
   "execution_count": 10,
   "metadata": {},
   "outputs": [],
   "source": [
    "def accuracy_scorer(estim, X, y):\n",
    "    y_pred = estim.predict(X)\n",
    "    return((y_pred == y).mean())"
   ]
  },
  {
   "cell_type": "markdown",
   "metadata": {},
   "source": [
    "On retrouve évidemment le même score que précédemment lorsqu'on utilise cette fonction sur le set de test : "
   ]
  },
  {
   "cell_type": "code",
   "execution_count": 11,
   "metadata": {},
   "outputs": [
    {
     "data": {
      "text/plain": [
       "0.01"
      ]
     },
     "execution_count": 11,
     "metadata": {},
     "output_type": "execute_result"
    }
   ],
   "source": [
    "accuracy_scorer(model, test.reset_index()['blocks'], test.reset_index()['ingredients'])"
   ]
  },
  {
   "cell_type": "markdown",
   "metadata": {},
   "source": [
    "Si on lance la cross-validation avec les paramètres par défaut (cv=5), on obtient le résultat suivant :"
   ]
  },
  {
   "cell_type": "code",
   "execution_count": 12,
   "metadata": {
    "scrolled": false
   },
   "outputs": [
    {
     "name": "stdout",
     "output_type": "stream",
     "text": [
      "Strict accuracy yields a result of 2.00% +/-0.63%\n",
      "[0.02 0.02 0.02 0.01 0.03]\n"
     ]
    }
   ],
   "source": [
    "X = splitted_df.reset_index()['blocks'].copy()\n",
    "y = splitted_df.reset_index()['ingredients'].copy()\n",
    "\n",
    "cross_val = cross_validate(model,\n",
    "                           X=X,\n",
    "                           y=y,\n",
    "                           scoring=accuracy_scorer,\n",
    "                          )\n",
    "print(f'Strict accuracy yields a result of {np.mean(cross_val[\"test_score\"]):.2%} +/-{np.std(cross_val[\"test_score\"]):.2%}')\n",
    "print(cross_val['test_score'])"
   ]
  },
  {
   "cell_type": "markdown",
   "metadata": {},
   "source": [
    "On voit que sur chacun des 5 folds (validation sur 400 produits), l'accuracy varie entre 1 et 3%.\n",
    "\n",
    "Si on trace l'accuracy et la standard deviation pour plusieurs valeurs de cv, on obtient les résultats suivants :"
   ]
  },
  {
   "cell_type": "code",
   "execution_count": 13,
   "metadata": {},
   "outputs": [
    {
     "name": "stdout",
     "output_type": "stream",
     "text": [
      "mean: [0.02200418 0.02       0.01798515 0.018      0.01800357 0.018\n",
      " 0.01801471 0.018      0.01785714 0.018     ] \n",
      "standard dev: [0.0028574  0.00632456 0.01245353 0.01661325 0.01470345 0.02357965\n",
      " 0.02753429 0.03841875 0.04656573 0.05723635]\n"
     ]
    }
   ],
   "source": [
    "x = [3, 5, 8, 10, 15, 20, 30, 50, 70, 100]\n",
    "mean = np.array([])\n",
    "std = np.array([])\n",
    "for n_cv in x:\n",
    "    cross_val = cross_validate(model,\n",
    "                               X=splitted_df['blocks'],\n",
    "                               y=splitted_df['ingredients'],\n",
    "                               scoring=accuracy_scorer, \n",
    "                               cv=n_cv,\n",
    "                              )\n",
    "    mean = np.append(mean, [np.mean(cross_val['test_score'])], axis=0)\n",
    "    std = np.append(std, [np.std(cross_val['test_score'])], axis=0)\n",
    "\n",
    "print('mean:', mean, '\\nstandard dev:', std)"
   ]
  },
  {
   "cell_type": "code",
   "execution_count": 14,
   "metadata": {},
   "outputs": [
    {
     "data": {
      "text/plain": [
       "<matplotlib.collections.PolyCollection at 0x7fa4ac4a66d0>"
      ]
     },
     "execution_count": 14,
     "metadata": {},
     "output_type": "execute_result"
    },
    {
     "data": {
      "image/png": "[encoded data removed]",
      "text/plain": [
       "<Figure size 432x288 with 1 Axes>"
      ]
     },
     "metadata": {
      "needs_background": "light"
     },
     "output_type": "display_data"
    }
   ],
   "source": [
    "fig, ax = plt.subplots()\n",
    "ax.plot(x, mean)\n",
    "ax.fill_between(x, (mean - std), (mean + std), color='b', alpha=.1)"
   ]
  },
  {
   "cell_type": "markdown",
   "metadata": {},
   "source": [
    "Il apparaît que l'accuracy se situe aux alentours de 2%, avec un écart type important si on le compare à cette accuracy."
   ]
  },
  {
   "cell_type": "code",
   "execution_count": 15,
   "metadata": {},
   "outputs": [
    {
     "name": "stdout",
     "output_type": "stream",
     "text": [
      "Strict accuracy yields a result of 1.80% +/-1.66%\n",
      "[0.04 0.   0.   0.04 0.02 0.02 0.   0.02 0.   0.04]\n"
     ]
    }
   ],
   "source": [
    "cross_val = cross_validate(model,\n",
    "                           X=splitted_df['blocks'],\n",
    "                           y=splitted_df['ingredients'],\n",
    "                           scoring=accuracy_scorer,\n",
    "                           cv=10,\n",
    "                          )\n",
    "print(f'Strict accuracy yields a result of {np.mean(cross_val[\"test_score\"]):.2%} +/-{np.std(cross_val[\"test_score\"]):.2%}')\n",
    "print(cross_val['test_score'])"
   ]
  },
  {
   "cell_type": "markdown",
   "metadata": {},
   "source": [
    "### Ajout d'une étape de text-postprocessing\n",
    "\n",
    "On utilise la fonction `custom_accuracy` définie dans le module pimest pour calculer l'accuracy avec du text processing.\n",
    "Elle prend en paramètre les mêmes attributs que le `CountVectorizer` de scikit-learn, en plus d'un attribut \"tokenize\" qui va tokenizer le résultat (pour prise en compte des whitespace et de la ponctuation)."
   ]
  },
  {
   "cell_type": "code",
   "execution_count": 16,
   "metadata": {},
   "outputs": [
    {
     "data": {
      "text/plain": [
       "0.14"
      ]
     },
     "execution_count": 16,
     "metadata": {},
     "output_type": "execute_result"
    }
   ],
   "source": [
    "custom_accuracy(model, \n",
    "                test['blocks'].fillna(''),\n",
    "                test['ingredients'].fillna(''),\n",
    "                tokenize=True,\n",
    "                strip_accents='unicode',\n",
    "                lowercase=True,\n",
    "               )"
   ]
  },
  {
   "cell_type": "markdown",
   "metadata": {},
   "source": [
    "L'accuracy est maintenant estimée à 14% (vs. 1%) sur le set de test, après entraînenemt sur le set d'entraînement.\n",
    "\n",
    "On peut manuellement inspecter les blocks identique, en reproduisant le comportement de la fonction d'accuracy : "
   ]
  },
  {
   "cell_type": "code",
   "execution_count": 17,
   "metadata": {},
   "outputs": [],
   "source": [
    "def text_processor(text, **kwargs):\n",
    "    unused_model = CountVectorizer(**kwargs)\n",
    "    prepro = unused_model.build_preprocessor()\n",
    "    token = unused_model.build_tokenizer()    \n",
    "    return(' '.join(token(prepro(text))))\n",
    "\n",
    "partial_processor = partial(text_processor, strip_accents='unicode', lowercase=True)"
   ]
  },
  {
   "cell_type": "code",
   "execution_count": 18,
   "metadata": {},
   "outputs": [
    {
     "data": {
      "text/plain": [
       "uid\n",
       "5a7f235d-eba4-43b2-ab52-2c2b93f68a67    cette fiche technique pas de valeur contractue...\n",
       "b7d7621a-fcdd-4487-9b38-e07fae698c4a    egoutter ne pas rincer faire sauter minutes av...\n",
       "df1caa23-9714-4659-803b-33501d64eead    liste des ingredients sucre pate de cacao beur...\n",
       "Name: predicted, dtype: object"
      ]
     },
     "execution_count": 18,
     "metadata": {},
     "output_type": "execute_result"
    }
   ],
   "source": [
    "prediction = model.predict(test['blocks'].fillna('')).rename('predicted')\n",
    "processed_prediction = prediction.apply(partial_processor)\n",
    "processed_prediction.sample(3)"
   ]
  },
  {
   "cell_type": "code",
   "execution_count": 19,
   "metadata": {},
   "outputs": [
    {
     "data": {
      "text/plain": [
       "uid\n",
       "484ac00a-a670-46a9-a9c4-5114174d9e3b    pommes de terre 59 celeris 40 amidon de mais s...\n",
       "63968dc3-6e7c-4056-bd53-820c6cc925be    carottes eau sucre sel vinaigre alcool acidifi...\n",
       "8dec0469-c9f5-4139-be25-efa258959444    sucre sirop de glucose graisse de palme humect...\n",
       "Name: ingredients, dtype: object"
      ]
     },
     "execution_count": 19,
     "metadata": {},
     "output_type": "execute_result"
    }
   ],
   "source": [
    "processed_ground_truth = test['ingredients'].fillna('').apply(partial_processor)\n",
    "processed_ground_truth.sample(3)"
   ]
  },
  {
   "cell_type": "code",
   "execution_count": 20,
   "metadata": {},
   "outputs": [
    {
     "data": {
      "text/html": [
       "<div>\n",
       "<style scoped>\n",
       "    .dataframe tbody tr th:only-of-type {\n",
       "        vertical-align: middle;\n",
       "    }\n",
       "\n",
       "    .dataframe tbody tr th {\n",
       "        vertical-align: top;\n",
       "    }\n",
       "\n",
       "    .dataframe thead th {\n",
       "        text-align: right;\n",
       "    }\n",
       "</style>\n",
       "<table border=\"1\" class=\"dataframe\">\n",
       "  <thead>\n",
       "    <tr style=\"text-align: right;\">\n",
       "      <th></th>\n",
       "      <th>ingredients</th>\n",
       "      <th>predicted</th>\n",
       "    </tr>\n",
       "    <tr>\n",
       "      <th>uid</th>\n",
       "      <th></th>\n",
       "      <th></th>\n",
       "    </tr>\n",
       "  </thead>\n",
       "  <tbody>\n",
       "    <tr>\n",
       "      <th>345591f4-d887-4ddc-bb40-21337fa9269d</th>\n",
       "      <td>Gésier de dinde émincé 50%, graisse de canard ...</td>\n",
       "      <td>Gésier de dinde émincé 50%,  graisse de canard...</td>\n",
       "    </tr>\n",
       "    <tr>\n",
       "      <th>13980d31-9002-457d-8d49-b451f08f473c</th>\n",
       "      <td>Edulcorants sorbitol, isomalt, sirop de maltit...</td>\n",
       "      <td>Edulcorants sorbitol, isomalt, sirop de maltit...</td>\n",
       "    </tr>\n",
       "    <tr>\n",
       "      <th>c3b6b4df-e586-4f10-8e58-15fbf0816acb</th>\n",
       "      <td>mini poivrons jaunes, eau, sucre, sel, affermi...</td>\n",
       "      <td>mini poivrons jaunes, eau, sucre, sel, affermi...</td>\n",
       "    </tr>\n",
       "    <tr>\n",
       "      <th>0481d91b-9653-42e7-b525-9dc9b87b06f2</th>\n",
       "      <td>Farine de BLE, huile de colza non hydrogénée, ...</td>\n",
       "      <td>Farine de BLE, huile de colza non hydrogénée, ...</td>\n",
       "    </tr>\n",
       "    <tr>\n",
       "      <th>484ac00a-a670-46a9-a9c4-5114174d9e3b</th>\n",
       "      <td>Pommes de terre 59,5 % - Céleris 40 % - Amidon...</td>\n",
       "      <td>Pommes de terre 59,5 % - Céleris 40 % - Amidon...</td>\n",
       "    </tr>\n",
       "    <tr>\n",
       "      <th>49b11281-34ea-44b0-a11c-4ae21d4c58e3</th>\n",
       "      <td></td>\n",
       "      <td></td>\n",
       "    </tr>\n",
       "    <tr>\n",
       "      <th>d59d96cb-0230-4090-8220-78ce8496fd91</th>\n",
       "      <td>Amidon de maïs* - Lait écrémé* - Sel - Fécule ...</td>\n",
       "      <td>Amidon de maïs* - Lait écrémé* - Sel - Fécule ...</td>\n",
       "    </tr>\n",
       "    <tr>\n",
       "      <th>b8cbe6f9-71d4-4e51-a169-1c163d49a561</th>\n",
       "      <td>Farine de FROMENT, poudre de LACTOSERUM, sucre...</td>\n",
       "      <td>Farine de FROMENT, poudre de LACTOSERUM, sucre...</td>\n",
       "    </tr>\n",
       "    <tr>\n",
       "      <th>a0492df6-9c76-4303-8813-65ec5ccbfa70</th>\n",
       "      <td>Eau, maltodextrine, sel, arômes, sucre, arôme ...</td>\n",
       "      <td>Eau, maltodextrine, sel, arômes, sucre, arôme ...</td>\n",
       "    </tr>\n",
       "    <tr>\n",
       "      <th>09e45b38-4da1-4eb5-888a-3ebd437a2291</th>\n",
       "      <td>OEUFS, farine de BLE, sucre, amidon de BLE, st...</td>\n",
       "      <td>OEUFS, farine de BLE, sucre, amidon de BLE, st...</td>\n",
       "    </tr>\n",
       "    <tr>\n",
       "      <th>4f83306f-66de-4545-9b12-7790b57b61ae</th>\n",
       "      <td>Sirop de glucose, sucre, eau, stabilisants (E4...</td>\n",
       "      <td>Sirop de glucose, sucre, eau, stabilisants (E4...</td>\n",
       "    </tr>\n",
       "    <tr>\n",
       "      <th>5cee689e-6fb1-493c-b232-1d8fb1f88a57</th>\n",
       "      <td>Flageolets verts. Jus : eau, sel, affermissant...</td>\n",
       "      <td>Flageolets verts. Jus : eau, sel, affermissant...</td>\n",
       "    </tr>\n",
       "    <tr>\n",
       "      <th>63968dc3-6e7c-4056-bd53-820c6cc925be</th>\n",
       "      <td>Carottes, eau, sucre, sel, vinaigre d'alcool, ...</td>\n",
       "      <td>Carottes, eau, sucre, sel, vinaigre d’alcool, ...</td>\n",
       "    </tr>\n",
       "    <tr>\n",
       "      <th>dc536305-82fd-4afe-a472-5056ca0e21ea</th>\n",
       "      <td>Légumes 43,2 % (pomme de terre, oignon, carott...</td>\n",
       "      <td>Légumes 43,2 % (pomme de terre, oignon, carott...</td>\n",
       "    </tr>\n",
       "  </tbody>\n",
       "</table>\n",
       "</div>"
      ],
      "text/latex": [
       "\\resizebox{\\linewidth}{!}{\\begin{scriptsize}\\centering{\\begin{tabular}{lll}\n",
       "\\toprule\n",
       "{} &                                        ingredients &                                          predicted \\\\\n",
       "uid                                  &                                                    &                                                    \\\\\n",
       "\\midrule\n",
       "345591f4-d887-4ddc-bb40-21337fa9269d &  Gésier de dinde émincé 50\\%, graisse de canard ... &  Gésier de dinde émincé 50\\%,  graisse de canard... \\\\\n",
       "13980d31-9002-457d-8d49-b451f08f473c &  Edulcorants sorbitol, isomalt, sirop de maltit... &  Edulcorants sorbitol, isomalt, sirop de maltit... \\\\\n",
       "c3b6b4df-e586-4f10-8e58-15fbf0816acb &  mini poivrons jaunes, eau, sucre, sel, affermi... &  mini poivrons jaunes, eau, sucre, sel, affermi... \\\\\n",
       "0481d91b-9653-42e7-b525-9dc9b87b06f2 &  Farine de BLE, huile de colza non hydrogénée, ... &  Farine de BLE, huile de colza non hydrogénée, ... \\\\\n",
       "484ac00a-a670-46a9-a9c4-5114174d9e3b &  Pommes de terre 59,5 \\% - Céleris 40 \\% - Amidon... &  Pommes de terre 59,5 \\% - Céleris 40 \\% - Amidon... \\\\\n",
       "49b11281-34ea-44b0-a11c-4ae21d4c58e3 &                                                    &                                                  \f",
       " \\\\\n",
       "d59d96cb-0230-4090-8220-78ce8496fd91 &  Amidon de maïs* - Lait écrémé* - Sel - Fécule ... &  Amidon de maïs* - Lait écrémé* - Sel - Fécule ... \\\\\n",
       "b8cbe6f9-71d4-4e51-a169-1c163d49a561 &  Farine de FROMENT, poudre de LACTOSERUM, sucre... &  Farine de FROMENT, poudre de LACTOSERUM, sucre... \\\\\n",
       "a0492df6-9c76-4303-8813-65ec5ccbfa70 &  Eau, maltodextrine, sel, arômes, sucre, arôme ... &  Eau, maltodextrine, sel, arômes, sucre, arôme ... \\\\\n",
       "09e45b38-4da1-4eb5-888a-3ebd437a2291 &  OEUFS, farine de BLE, sucre, amidon de BLE, st... &  OEUFS, farine de BLE, sucre, amidon de BLE, st... \\\\\n",
       "4f83306f-66de-4545-9b12-7790b57b61ae &  Sirop de glucose, sucre, eau, stabilisants (E4... &  Sirop de glucose, sucre, eau, stabilisants (E4... \\\\\n",
       "5cee689e-6fb1-493c-b232-1d8fb1f88a57 &  Flageolets verts. Jus : eau, sel, affermissant... &  Flageolets verts. Jus : eau, sel, affermissant... \\\\\n",
       "63968dc3-6e7c-4056-bd53-820c6cc925be &  Carottes, eau, sucre, sel, vinaigre d'alcool, ... &  Carottes, eau, sucre, sel, vinaigre d’alcool, ... \\\\\n",
       "dc536305-82fd-4afe-a472-5056ca0e21ea &  Légumes 43,2 \\% (pomme de terre, oignon, carott... &  Légumes 43,2 \\% (pomme de terre, oignon, carott... \\\\\n",
       "\\bottomrule\n",
       "\\end{tabular}\n",
       "}\\end{scriptsize}}"
      ],
      "text/plain": [
       "                                                                            ingredients  \\\n",
       "uid                                                                                       \n",
       "345591f4-d887-4ddc-bb40-21337fa9269d  Gésier de dinde émincé 50%, graisse de canard ...   \n",
       "13980d31-9002-457d-8d49-b451f08f473c  Edulcorants sorbitol, isomalt, sirop de maltit...   \n",
       "c3b6b4df-e586-4f10-8e58-15fbf0816acb  mini poivrons jaunes, eau, sucre, sel, affermi...   \n",
       "0481d91b-9653-42e7-b525-9dc9b87b06f2  Farine de BLE, huile de colza non hydrogénée, ...   \n",
       "484ac00a-a670-46a9-a9c4-5114174d9e3b  Pommes de terre 59,5 % - Céleris 40 % - Amidon...   \n",
       "49b11281-34ea-44b0-a11c-4ae21d4c58e3                                                      \n",
       "d59d96cb-0230-4090-8220-78ce8496fd91  Amidon de maïs* - Lait écrémé* - Sel - Fécule ...   \n",
       "b8cbe6f9-71d4-4e51-a169-1c163d49a561  Farine de FROMENT, poudre de LACTOSERUM, sucre...   \n",
       "a0492df6-9c76-4303-8813-65ec5ccbfa70  Eau, maltodextrine, sel, arômes, sucre, arôme ...   \n",
       "09e45b38-4da1-4eb5-888a-3ebd437a2291  OEUFS, farine de BLE, sucre, amidon de BLE, st...   \n",
       "4f83306f-66de-4545-9b12-7790b57b61ae  Sirop de glucose, sucre, eau, stabilisants (E4...   \n",
       "5cee689e-6fb1-493c-b232-1d8fb1f88a57  Flageolets verts. Jus : eau, sel, affermissant...   \n",
       "63968dc3-6e7c-4056-bd53-820c6cc925be  Carottes, eau, sucre, sel, vinaigre d'alcool, ...   \n",
       "dc536305-82fd-4afe-a472-5056ca0e21ea  Légumes 43,2 % (pomme de terre, oignon, carott...   \n",
       "\n",
       "                                                                              predicted  \n",
       "uid                                                                                      \n",
       "345591f4-d887-4ddc-bb40-21337fa9269d  Gésier de dinde émincé 50%,  graisse de canard...  \n",
       "13980d31-9002-457d-8d49-b451f08f473c  Edulcorants sorbitol, isomalt, sirop de maltit...  \n",
       "c3b6b4df-e586-4f10-8e58-15fbf0816acb  mini poivrons jaunes, eau, sucre, sel, affermi...  \n",
       "0481d91b-9653-42e7-b525-9dc9b87b06f2  Farine de BLE, huile de colza non hydrogénée, ...  \n",
       "484ac00a-a670-46a9-a9c4-5114174d9e3b  Pommes de terre 59,5 % - Céleris 40 % - Amidon...  \n",
       "49b11281-34ea-44b0-a11c-4ae21d4c58e3                                                  \n",
       "  \n",
       "d59d96cb-0230-4090-8220-78ce8496fd91  Amidon de maïs* - Lait écrémé* - Sel - Fécule ...  \n",
       "b8cbe6f9-71d4-4e51-a169-1c163d49a561  Farine de FROMENT, poudre de LACTOSERUM, sucre...  \n",
       "a0492df6-9c76-4303-8813-65ec5ccbfa70  Eau, maltodextrine, sel, arômes, sucre, arôme ...  \n",
       "09e45b38-4da1-4eb5-888a-3ebd437a2291  OEUFS, farine de BLE, sucre, amidon de BLE, st...  \n",
       "4f83306f-66de-4545-9b12-7790b57b61ae  Sirop de glucose, sucre, eau, stabilisants (E4...  \n",
       "5cee689e-6fb1-493c-b232-1d8fb1f88a57  Flageolets verts. Jus : eau, sel, affermissant...  \n",
       "63968dc3-6e7c-4056-bd53-820c6cc925be  Carottes, eau, sucre, sel, vinaigre d’alcool, ...  \n",
       "dc536305-82fd-4afe-a472-5056ca0e21ea  Légumes 43,2 % (pomme de terre, oignon, carott...  "
      ]
     },
     "execution_count": 20,
     "metadata": {},
     "output_type": "execute_result"
    }
   ],
   "source": [
    "corrects = test.join(prediction).loc[processed_prediction == processed_ground_truth , ['ingredients', 'predicted']]\n",
    "corrects"
   ]
  },
  {
   "cell_type": "code",
   "execution_count": 21,
   "metadata": {},
   "outputs": [],
   "source": [
    "with pd.option_context(\"max_colwidth\", 100000):\n",
    "    tex_str = (\n",
    "    corrects.replace(r'^\\s*$', np.nan, regex=True)\n",
    "            .to_latex(index=False,\n",
    "                      index_names=False,\n",
    "                      column_format='p{7cm}p{7cm}',\n",
    "                      na_rep='<rien>',\n",
    "                      longtable=False,\n",
    "                      header=[\"Liste d'ingrédients cible\", \"Liste d'ingrédients prédite\"],\n",
    "                      # label='tbl:GT_postprocessed_corrects',\n",
    "                      # caption=\"Prédictions identifiées comme correctes après postprocessing\",\n",
    "                  )\n",
    "             .replace(r'\\textbackslash n', r' \\newline ')\n",
    "             .replace(r'\\\\', r'\\\\ \\hline')\n",
    "    )\n",
    "    \n",
    "# with open(Path('..') / 'tbls' / 'GT_postprocessed_corrects.tex', 'w') as file:\n",
    "#     file.write(tex_str)"
   ]
  },
  {
   "cell_type": "markdown",
   "metadata": {},
   "source": [
    "### Cross-validation de l'approche avec text processing\n",
    "\n",
    "On fait tourner une cross-validation sur l'ensemble du dataset. \n",
    "On définit d'abord la fonction qui va permettre de calculer le score avec l'ensemble des fonctionnalités de text processing : \n",
    "- retrait des accents\n",
    "- remplacement des whitespaces par des espaces simples\n",
    "- retrait de la ponctution\n",
    "- mise en minuscule"
   ]
  },
  {
   "cell_type": "code",
   "execution_count": 22,
   "metadata": {},
   "outputs": [
    {
     "name": "stdout",
     "output_type": "stream",
     "text": [
      "Processed accuracy yields a result of 16.40% +/-2.15%\n",
      "[0.19 0.15 0.17 0.13 0.18]\n"
     ]
    }
   ],
   "source": [
    "processed_accuracy = partial(custom_accuracy,\n",
    "                             tokenize=True,\n",
    "                             strip_accents='unicode',\n",
    "                             lowercase=True,\n",
    "                            )\n",
    "cross_val = cross_validate(model,\n",
    "                           X=splitted_df['blocks'].fillna(''),\n",
    "                           y=splitted_df['ingredients'].fillna(''),\n",
    "                           scoring=processed_accuracy,\n",
    "                          )\n",
    "print(f'Processed accuracy yields a result of {np.mean(cross_val[\"test_score\"]):.2%} +/-{np.std(cross_val[\"test_score\"]):.2%}')\n",
    "print(cross_val['test_score'])"
   ]
  },
  {
   "cell_type": "code",
   "execution_count": 23,
   "metadata": {},
   "outputs": [
    {
     "name": "stdout",
     "output_type": "stream",
     "text": [
      "mean: [0.16994926 0.164      0.16199437 0.162      0.15787285 0.158\n",
      " 0.15772059 0.158      0.15739796 0.158     ] \n",
      "standard dev: [0.0193811  0.02154066 0.04252373 0.034      0.06292686 0.07639372\n",
      " 0.09256313 0.12343419 0.13740531 0.16320539]\n"
     ]
    }
   ],
   "source": [
    "x = [3, 5, 8, 10, 15, 20, 30, 50, 70, 100]\n",
    "mean = np.array([])\n",
    "std = np.array([])\n",
    "for n_cv in x:\n",
    "    cross_val = cross_validate(model,\n",
    "                               X=splitted_df['blocks'].fillna(''),\n",
    "                               y=splitted_df['ingredients'].fillna(''),\n",
    "                               scoring=processed_accuracy, \n",
    "                               cv=n_cv,\n",
    "                              )\n",
    "    mean = np.append(mean, [np.mean(cross_val['test_score'])], axis=0)\n",
    "    std = np.append(std, [np.std(cross_val['test_score'])], axis=0)\n",
    "\n",
    "print('mean:', mean, '\\nstandard dev:', std)"
   ]
  },
  {
   "cell_type": "code",
   "execution_count": 24,
   "metadata": {},
   "outputs": [
    {
     "data": {
      "text/plain": [
       "<matplotlib.collections.PolyCollection at 0x7fa4ac6de9d0>"
      ]
     },
     "execution_count": 24,
     "metadata": {},
     "output_type": "execute_result"
    },
    {
     "data": {
      "image/png": "[encoded data removed]",
      "text/plain": [
       "<Figure size 432x288 with 1 Axes>"
      ]
     },
     "metadata": {
      "needs_background": "light"
     },
     "output_type": "display_data"
    }
   ],
   "source": [
    "fig, ax = plt.subplots()\n",
    "ax.plot(x, mean)\n",
    "ax.fill_between(x, (mean - std), (mean + std), color='b', alpha=.1)"
   ]
  },
  {
   "cell_type": "code",
   "execution_count": 25,
   "metadata": {},
   "outputs": [
    {
     "name": "stdout",
     "output_type": "stream",
     "text": [
      "Processed accuracy yields a result of 16.20% +/-3.40%\n",
      "[0.2  0.18 0.18 0.12 0.12 0.22 0.14 0.12 0.16 0.18]\n"
     ]
    }
   ],
   "source": [
    "cross_val = cross_validate(model,\n",
    "                           X=splitted_df['blocks'].fillna(''),\n",
    "                           y=splitted_df['ingredients'].fillna(''),\n",
    "                           scoring=processed_accuracy,\n",
    "                           cv=10,\n",
    "                          )\n",
    "print(f'Processed accuracy yields a result of {np.mean(cross_val[\"test_score\"]):.2%} +/-{np.std(cross_val[\"test_score\"]):.2%}')\n",
    "print(cross_val['test_score'])"
   ]
  },
  {
   "cell_type": "markdown",
   "metadata": {},
   "source": [
    "## Mesure de la performance : Similarité\n",
    "\n",
    "### Mesures\n",
    "\n",
    "On peut également mesurer la similarité plutôt qu'uniquement l'accuracy. Cela permet de valoriser les textes qui \"ressemblent\" aux listes d'ingrédients cibles plutôt que les compter comme des erreurs."
   ]
  },
  {
   "cell_type": "code",
   "execution_count": 26,
   "metadata": {
    "scrolled": false
   },
   "outputs": [
    {
     "name": "stdout",
     "output_type": "stream",
     "text": [
      "Similarity with levenshtein similarity is 47.88%\n",
      "Similarity with damerau-levenshtein similarity is 47.88%\n",
      "Similarity with jaro similarity is 63.30%\n",
      "Similarity with jaro-winkler similarity is 65.28%\n"
     ]
    }
   ],
   "source": [
    "similarity_kinds = ['levenshtein',\n",
    "                    'damerau-levenshtein', \n",
    "                    'jaro',\n",
    "                    'jaro-winkler',\n",
    "                   ]\n",
    "\n",
    "sim_dict = dict()\n",
    "\n",
    "for similarity in similarity_kinds:\n",
    "    sim = text_sim_score(model, \n",
    "                         test['blocks'].fillna(''),\n",
    "                         test['ingredients'].fillna(''),\n",
    "                         similarity=similarity,\n",
    "                        )\n",
    "    sim_dict[similarity] = f'{sim:.2%}'\n",
    "    print(f'Similarity with {similarity} similarity is {sim:.2%}')"
   ]
  },
  {
   "cell_type": "markdown",
   "metadata": {},
   "source": [
    "Les similarités de Levenshtein et Damerau-Levenshtein donnent des résultats identiques, à presque 50% de similarité moyenne. Celles basées sur Jaro tournent aux alentours de 65%, comme on s'y attendait dans la mesure où elle est très \"indulgente\" sur les textes longs.\n",
    "\n",
    "Si on effectue des cross validations sur chacune de ces distances sur le dataset complet, on obtient :"
   ]
  },
  {
   "cell_type": "code",
   "execution_count": 27,
   "metadata": {},
   "outputs": [
    {
     "name": "stdout",
     "output_type": "stream",
     "text": [
      "Model evaluated with levenshtein similarity a result of 48.96% +/-3.95%\n",
      "Model evaluated with damerau-levenshtein similarity a result of 48.97% +/-3.94%\n",
      "Model evaluated with jaro similarity a result of 62.34% +/-3.39%\n",
      "Model evaluated with jaro-winkler similarity a result of 63.81% +/-3.39%\n"
     ]
    }
   ],
   "source": [
    "similarities = {similarity: partial(text_sim_score, similarity=similarity) for similarity in similarity_kinds}\n",
    "\n",
    "cross_vals = dict()\n",
    "\n",
    "for similarity in similarity_kinds:\n",
    "    cross_vals[similarity] = cross_validate(model, \n",
    "                                            splitted_df['blocks'].fillna(''),\n",
    "                                            splitted_df['ingredients'].fillna(''),\n",
    "                                            scoring=similarities[similarity],\n",
    "                                            cv=10,\n",
    "                                            )\n",
    "for similarity in similarity_kinds:\n",
    "    print(f'Model evaluated with {similarity} similarity a result of '\n",
    "          f'{np.mean(cross_vals[similarity][\"test_score\"]):.2%} '\n",
    "          f'+/-{np.std(cross_vals[similarity][\"test_score\"]):.2%}')"
   ]
  },
  {
   "cell_type": "markdown",
   "metadata": {},
   "source": [
    "On transforme en tableau latex pour insertion dans le rapport."
   ]
  },
  {
   "cell_type": "code",
   "execution_count": 28,
   "metadata": {},
   "outputs": [
    {
     "name": "stdout",
     "output_type": "stream",
     "text": [
      "{'levenshtein': {'train/test set': '47.88%', 'cross validation': '48.96% +/-3.95%'}, 'damerau-levenshtein': {'train/test set': '47.88%', 'cross validation': '48.97% +/-3.94%'}, 'jaro': {'train/test set': '63.30%', 'cross validation': '62.34% +/-3.39%'}, 'jaro-winkler': {'train/test set': '65.28%', 'cross validation': '63.81% +/-3.39%'}}\n"
     ]
    }
   ],
   "source": [
    "result_strings = dict()\n",
    "\n",
    "for similarity in similarity_kinds:\n",
    "    result_strings[similarity] = {'train/test set': sim_dict[similarity], \n",
    "                                  'cross validation': f'{np.mean(cross_vals[similarity][\"test_score\"]):.2%} '\n",
    "                                                      f'+/-{np.std(cross_vals[similarity][\"test_score\"]):.2%}'}\n",
    "result_df = pd.DataFrame(result_strings).T\n",
    "print(result_strings)\n",
    "labs = {'levenshtein': 'Levenshtein',\n",
    "        'damerau-levenshtein': 'Damerau-Levenshtein',\n",
    "        'jaro': 'Jaro',\n",
    "        'jaro-winkler': 'Jaro-Winkler',\n",
    "       }\n",
    "# (result_df.rename(labs)\n",
    "#           .to_latex(Path('..') / 'tbls' / 'similarities_result.tex',\n",
    "#                    column_format='lcc',\n",
    "#                    bold_rows=True,\n",
    "#                   )\n",
    "# )"
   ]
  },
  {
   "cell_type": "markdown",
   "metadata": {},
   "source": [
    "### Illustration\n",
    "\n",
    "On illustre les différents niveaux de similarité sur le set de test après entrainement sur le set d'entrainement."
   ]
  },
  {
   "cell_type": "code",
   "execution_count": 29,
   "metadata": {},
   "outputs": [],
   "source": [
    "# building the dataframe\n",
    "y_pred = model.predict(test['blocks']).rename('predicted')\n",
    "comp_df = pd.concat([test['ingredients'].fillna(''), y_pred], axis=1)\n",
    "processed_df = comp_df.applymap(build_text_processor())\n",
    "\n",
    "# computing similarities and ranks\n",
    "sim_funcs = {sim: partial(text_similarity, similarity=sim) for sim in similarity_kinds}\n",
    "for sim in similarity_kinds:\n",
    "    processed_df[sim] = processed_df.apply(lambda x: sim_funcs[sim](x['ingredients'], x['predicted']), axis=1)\n",
    "    processed_df[sim + '_rank'] = processed_df[sim].rank(axis=0, method='first', ascending=False)"
   ]
  },
  {
   "cell_type": "code",
   "execution_count": 31,
   "metadata": {},
   "outputs": [
    {
     "data": {
      "text/html": [
       "<div>\n",
       "<style scoped>\n",
       "    .dataframe tbody tr th:only-of-type {\n",
       "        vertical-align: middle;\n",
       "    }\n",
       "\n",
       "    .dataframe tbody tr th {\n",
       "        vertical-align: top;\n",
       "    }\n",
       "\n",
       "    .dataframe thead th {\n",
       "        text-align: right;\n",
       "    }\n",
       "</style>\n",
       "<table border=\"1\" class=\"dataframe\">\n",
       "  <thead>\n",
       "    <tr style=\"text-align: right;\">\n",
       "      <th></th>\n",
       "      <th>ingredients_</th>\n",
       "      <th>predicted_</th>\n",
       "      <th>levenshtein</th>\n",
       "      <th>levenshtein_rank</th>\n",
       "      <th>damerau-levenshtein</th>\n",
       "      <th>damerau-levenshtein_rank</th>\n",
       "      <th>jaro</th>\n",
       "      <th>jaro_rank</th>\n",
       "      <th>jaro-winkler</th>\n",
       "      <th>jaro-winkler_rank</th>\n",
       "      <th>ingredients</th>\n",
       "      <th>predicted</th>\n",
       "    </tr>\n",
       "    <tr>\n",
       "      <th>uid</th>\n",
       "      <th></th>\n",
       "      <th></th>\n",
       "      <th></th>\n",
       "      <th></th>\n",
       "      <th></th>\n",
       "      <th></th>\n",
       "      <th></th>\n",
       "      <th></th>\n",
       "      <th></th>\n",
       "      <th></th>\n",
       "      <th></th>\n",
       "      <th></th>\n",
       "    </tr>\n",
       "  </thead>\n",
       "  <tbody>\n",
       "    <tr>\n",
       "      <th>c2ef743e-f3f2-4e8a-aab0-1e6cbeb71666</th>\n",
       "      <td>farine de ble 20 huile de colza oeufs entiers ...</td>\n",
       "      <td>liste ingredients les ingredients mis en œuvre...</td>\n",
       "      <td>0.736196</td>\n",
       "      <td>35.0</td>\n",
       "      <td>0.736196</td>\n",
       "      <td>35.0</td>\n",
       "      <td>0.748640</td>\n",
       "      <td>40.0</td>\n",
       "      <td>0.748640</td>\n",
       "      <td>43.0</td>\n",
       "      <td>Farine de BLÉ 20% - Huile de colza - OEUFS ent...</td>\n",
       "      <td>LISTE D'INGREDIENTS\\nLes ingrédients mis en œu...</td>\n",
       "    </tr>\n",
       "    <tr>\n",
       "      <th>1868226c-812c-438d-bba4-6b046537d0cd</th>\n",
       "      <td>pate tartiner aux noisettes et au cacao 81 suc...</td>\n",
       "      <td>ingredients pate tartiner aux noisettes et au ...</td>\n",
       "      <td>0.254144</td>\n",
       "      <td>59.0</td>\n",
       "      <td>0.254144</td>\n",
       "      <td>59.0</td>\n",
       "      <td>0.606535</td>\n",
       "      <td>55.0</td>\n",
       "      <td>0.606535</td>\n",
       "      <td>58.0</td>\n",
       "      <td>pâte à tartiner aux noisettes et au cacao 81,5...</td>\n",
       "      <td>Ingrédients : pâte à tartiner aux noisettes et...</td>\n",
       "    </tr>\n",
       "    <tr>\n",
       "      <th>a57c1561-b88e-4694-8bd8-55623f2afa17</th>\n",
       "      <td>lentilles blondes</td>\n",
       "      <td>cette fiche technique pas de valeur contractue...</td>\n",
       "      <td>0.022546</td>\n",
       "      <td>88.0</td>\n",
       "      <td>0.022546</td>\n",
       "      <td>88.0</td>\n",
       "      <td>0.389566</td>\n",
       "      <td>87.0</td>\n",
       "      <td>0.389566</td>\n",
       "      <td>87.0</td>\n",
       "      <td>Lentilles blondes</td>\n",
       "      <td>Cette fiche technique n’a pas de valeur contra...</td>\n",
       "    </tr>\n",
       "    <tr>\n",
       "      <th>04235024-80f3-46c2-bad0-aae0d5fab024</th>\n",
       "      <td>persil</td>\n",
       "      <td>cereales contenant du gluten savoir ble seigle...</td>\n",
       "      <td>0.045455</td>\n",
       "      <td>85.0</td>\n",
       "      <td>0.045455</td>\n",
       "      <td>85.0</td>\n",
       "      <td>0.507576</td>\n",
       "      <td>73.0</td>\n",
       "      <td>0.507576</td>\n",
       "      <td>73.0</td>\n",
       "      <td>Persil</td>\n",
       "      <td>Céréales contenant du gluten (à savoir blé, se...</td>\n",
       "    </tr>\n",
       "  </tbody>\n",
       "</table>\n",
       "</div>"
      ],
      "text/latex": [
       "\\resizebox{\\linewidth}{!}{\\begin{scriptsize}\\centering{\\begin{tabular}{lllrrrrrrrrll}\n",
       "\\toprule\n",
       "{} &                                       ingredients\\_ &                                         predicted\\_ &  levenshtein &  levenshtein\\_rank &  damerau-levenshtein &  damerau-levenshtein\\_rank &      jaro &  jaro\\_rank &  jaro-winkler &  jaro-winkler\\_rank &                                        ingredients &                                          predicted \\\\\n",
       "uid                                  &                                                    &                                                    &              &                   &                      &                           &           &            &               &                    &                                                    &                                                    \\\\\n",
       "\\midrule\n",
       "c2ef743e-f3f2-4e8a-aab0-1e6cbeb71666 &  farine de ble 20 huile de colza oeufs entiers ... &  liste ingredients les ingredients mis en œuvre... &     0.736196 &              35.0 &             0.736196 &                      35.0 &  0.748640 &       40.0 &      0.748640 &               43.0 &  Farine de BLÉ 20\\% - Huile de colza - OEUFS ent... &  LISTE D'INGREDIENTS\\textbackslash nLes ingrédients mis en œu... \\\\\n",
       "1868226c-812c-438d-bba4-6b046537d0cd &  pate tartiner aux noisettes et au cacao 81 suc... &  ingredients pate tartiner aux noisettes et au ... &     0.254144 &              59.0 &             0.254144 &                      59.0 &  0.606535 &       55.0 &      0.606535 &               58.0 &  pâte à tartiner aux noisettes et au cacao 81,5... &  Ingrédients : pâte à tartiner aux noisettes et... \\\\\n",
       "a57c1561-b88e-4694-8bd8-55623f2afa17 &                                  lentilles blondes &  cette fiche technique pas de valeur contractue... &     0.022546 &              88.0 &             0.022546 &                      88.0 &  0.389566 &       87.0 &      0.389566 &               87.0 &                                  Lentilles blondes &  Cette fiche technique n’a pas de valeur contra... \\\\\n",
       "04235024-80f3-46c2-bad0-aae0d5fab024 &                                             persil &  cereales contenant du gluten savoir ble seigle... &     0.045455 &              85.0 &             0.045455 &                      85.0 &  0.507576 &       73.0 &      0.507576 &               73.0 &                                             Persil &  Céréales contenant du gluten (à savoir blé, se... \\\\\n",
       "\\bottomrule\n",
       "\\end{tabular}\n",
       "}\\end{scriptsize}}"
      ],
      "text/plain": [
       "                                                                           ingredients_  \\\n",
       "uid                                                                                       \n",
       "c2ef743e-f3f2-4e8a-aab0-1e6cbeb71666  farine de ble 20 huile de colza oeufs entiers ...   \n",
       "1868226c-812c-438d-bba4-6b046537d0cd  pate tartiner aux noisettes et au cacao 81 suc...   \n",
       "a57c1561-b88e-4694-8bd8-55623f2afa17                                  lentilles blondes   \n",
       "04235024-80f3-46c2-bad0-aae0d5fab024                                             persil   \n",
       "\n",
       "                                                                             predicted_  levenshtein  \\\n",
       "uid                                                                                                    \n",
       "c2ef743e-f3f2-4e8a-aab0-1e6cbeb71666  liste ingredients les ingredients mis en œuvre...     0.736196   \n",
       "1868226c-812c-438d-bba4-6b046537d0cd  ingredients pate tartiner aux noisettes et au ...     0.254144   \n",
       "a57c1561-b88e-4694-8bd8-55623f2afa17  cette fiche technique pas de valeur contractue...     0.022546   \n",
       "04235024-80f3-46c2-bad0-aae0d5fab024  cereales contenant du gluten savoir ble seigle...     0.045455   \n",
       "\n",
       "                                      levenshtein_rank  damerau-levenshtein  damerau-levenshtein_rank  \\\n",
       "uid                                                                                                     \n",
       "c2ef743e-f3f2-4e8a-aab0-1e6cbeb71666              35.0             0.736196                      35.0   \n",
       "1868226c-812c-438d-bba4-6b046537d0cd              59.0             0.254144                      59.0   \n",
       "a57c1561-b88e-4694-8bd8-55623f2afa17              88.0             0.022546                      88.0   \n",
       "04235024-80f3-46c2-bad0-aae0d5fab024              85.0             0.045455                      85.0   \n",
       "\n",
       "                                          jaro  jaro_rank  jaro-winkler  jaro-winkler_rank  \\\n",
       "uid                                                                                          \n",
       "c2ef743e-f3f2-4e8a-aab0-1e6cbeb71666  0.748640       40.0      0.748640               43.0   \n",
       "1868226c-812c-438d-bba4-6b046537d0cd  0.606535       55.0      0.606535               58.0   \n",
       "a57c1561-b88e-4694-8bd8-55623f2afa17  0.389566       87.0      0.389566               87.0   \n",
       "04235024-80f3-46c2-bad0-aae0d5fab024  0.507576       73.0      0.507576               73.0   \n",
       "\n",
       "                                                                            ingredients  \\\n",
       "uid                                                                                       \n",
       "c2ef743e-f3f2-4e8a-aab0-1e6cbeb71666  Farine de BLÉ 20% - Huile de colza - OEUFS ent...   \n",
       "1868226c-812c-438d-bba4-6b046537d0cd  pâte à tartiner aux noisettes et au cacao 81,5...   \n",
       "a57c1561-b88e-4694-8bd8-55623f2afa17                                  Lentilles blondes   \n",
       "04235024-80f3-46c2-bad0-aae0d5fab024                                             Persil   \n",
       "\n",
       "                                                                              predicted  \n",
       "uid                                                                                      \n",
       "c2ef743e-f3f2-4e8a-aab0-1e6cbeb71666  LISTE D'INGREDIENTS\\nLes ingrédients mis en œu...  \n",
       "1868226c-812c-438d-bba4-6b046537d0cd  Ingrédients : pâte à tartiner aux noisettes et...  \n",
       "a57c1561-b88e-4694-8bd8-55623f2afa17  Cette fiche technique n’a pas de valeur contra...  \n",
       "04235024-80f3-46c2-bad0-aae0d5fab024  Céréales contenant du gluten (à savoir blé, se...  "
      ]
     },
     "execution_count": 31,
     "metadata": {},
     "output_type": "execute_result"
    }
   ],
   "source": [
    "(processed_df.join(comp_df, lsuffix='_')\n",
    "             .sort_values(['levenshtein'], ascending=False)\n",
    "             .loc[(processed_df['ingredients'] != '') & (processed_df['predicted'] != '')]\n",
    ").sample(4)"
   ]
  },
  {
   "cell_type": "code",
   "execution_count": 32,
   "metadata": {},
   "outputs": [
    {
     "data": {
      "text/html": [
       "<div>\n",
       "<style scoped>\n",
       "    .dataframe tbody tr th:only-of-type {\n",
       "        vertical-align: middle;\n",
       "    }\n",
       "\n",
       "    .dataframe tbody tr th {\n",
       "        vertical-align: top;\n",
       "    }\n",
       "\n",
       "    .dataframe thead th {\n",
       "        text-align: right;\n",
       "    }\n",
       "</style>\n",
       "<table border=\"1\" class=\"dataframe\">\n",
       "  <thead>\n",
       "    <tr style=\"text-align: right;\">\n",
       "      <th></th>\n",
       "      <th>ingredients_</th>\n",
       "      <th>predicted_</th>\n",
       "      <th>levenshtein</th>\n",
       "      <th>levenshtein_rank</th>\n",
       "      <th>damerau-levenshtein</th>\n",
       "      <th>damerau-levenshtein_rank</th>\n",
       "      <th>jaro</th>\n",
       "      <th>jaro_rank</th>\n",
       "      <th>jaro-winkler</th>\n",
       "      <th>jaro-winkler_rank</th>\n",
       "      <th>ingredients</th>\n",
       "      <th>predicted</th>\n",
       "    </tr>\n",
       "    <tr>\n",
       "      <th>uid</th>\n",
       "      <th></th>\n",
       "      <th></th>\n",
       "      <th></th>\n",
       "      <th></th>\n",
       "      <th></th>\n",
       "      <th></th>\n",
       "      <th></th>\n",
       "      <th></th>\n",
       "      <th></th>\n",
       "      <th></th>\n",
       "      <th></th>\n",
       "      <th></th>\n",
       "    </tr>\n",
       "  </thead>\n",
       "  <tbody>\n",
       "    <tr>\n",
       "      <th>345591f4-d887-4ddc-bb40-21337fa9269d</th>\n",
       "      <td>gesier de dinde emince 50 graisse de canard 47...</td>\n",
       "      <td>gesier de dinde emince 50 graisse de canard 47...</td>\n",
       "      <td>1.000000</td>\n",
       "      <td>1.0</td>\n",
       "      <td>1.000000</td>\n",
       "      <td>1.0</td>\n",
       "      <td>1.000000</td>\n",
       "      <td>1.0</td>\n",
       "      <td>1.000000</td>\n",
       "      <td>1.0</td>\n",
       "      <td>Gésier de dinde émincé 50%, graisse de canard ...</td>\n",
       "      <td>Gésier de dinde émincé 50%,  graisse de canard...</td>\n",
       "    </tr>\n",
       "    <tr>\n",
       "      <th>c3b6b4df-e586-4f10-8e58-15fbf0816acb</th>\n",
       "      <td>mini poivrons jaunes eau sucre sel affermissan...</td>\n",
       "      <td>mini poivrons jaunes eau sucre sel affermissan...</td>\n",
       "      <td>1.000000</td>\n",
       "      <td>3.0</td>\n",
       "      <td>1.000000</td>\n",
       "      <td>3.0</td>\n",
       "      <td>1.000000</td>\n",
       "      <td>3.0</td>\n",
       "      <td>1.000000</td>\n",
       "      <td>4.0</td>\n",
       "      <td>mini poivrons jaunes, eau, sucre, sel, affermi...</td>\n",
       "      <td>mini poivrons jaunes, eau, sucre, sel, affermi...</td>\n",
       "    </tr>\n",
       "    <tr>\n",
       "      <th>0481d91b-9653-42e7-b525-9dc9b87b06f2</th>\n",
       "      <td>farine de ble huile de colza non hydrogenee oe...</td>\n",
       "      <td>farine de ble huile de colza non hydrogenee oe...</td>\n",
       "      <td>1.000000</td>\n",
       "      <td>4.0</td>\n",
       "      <td>1.000000</td>\n",
       "      <td>4.0</td>\n",
       "      <td>1.000000</td>\n",
       "      <td>4.0</td>\n",
       "      <td>1.000000</td>\n",
       "      <td>5.0</td>\n",
       "      <td>Farine de BLE, huile de colza non hydrogénée, ...</td>\n",
       "      <td>Farine de BLE, huile de colza non hydrogénée, ...</td>\n",
       "    </tr>\n",
       "    <tr>\n",
       "      <th>a2418174-e16a-41e0-ac14-c87208fb3529</th>\n",
       "      <td>salicornes de culture eau sel acide citrique</td>\n",
       "      <td>se consomment en legumes accompagnement avec t...</td>\n",
       "      <td>0.209677</td>\n",
       "      <td>66.0</td>\n",
       "      <td>0.209677</td>\n",
       "      <td>66.0</td>\n",
       "      <td>0.511730</td>\n",
       "      <td>72.0</td>\n",
       "      <td>0.560557</td>\n",
       "      <td>65.0</td>\n",
       "      <td>Salicornes de culture, eau, sel, acide citrique</td>\n",
       "      <td>Se consomment en légumes d'accompagnement avec...</td>\n",
       "    </tr>\n",
       "    <tr>\n",
       "      <th>d8b0687e-5e25-4ff9-9384-087f993218bc</th>\n",
       "      <td>eau jus de fruit de la passion sucre epaississ...</td>\n",
       "      <td>cereales contenant du gluten crustaces et prod...</td>\n",
       "      <td>0.200692</td>\n",
       "      <td>67.0</td>\n",
       "      <td>0.200692</td>\n",
       "      <td>67.0</td>\n",
       "      <td>0.553928</td>\n",
       "      <td>64.0</td>\n",
       "      <td>0.553928</td>\n",
       "      <td>66.0</td>\n",
       "      <td>Eau ; jus de fruit de la passion ; sucre ; épa...</td>\n",
       "      <td>Céréales contenant du gluten (2) \\nCrustacés e...</td>\n",
       "    </tr>\n",
       "    <tr>\n",
       "      <th>536361db-1bbb-4e64-ae53-d970eeac7db2</th>\n",
       "      <td>sucre amidon de mais arome vanille</td>\n",
       "      <td>ajouter le produit la preparation avec les aut...</td>\n",
       "      <td>0.200000</td>\n",
       "      <td>68.0</td>\n",
       "      <td>0.200000</td>\n",
       "      <td>68.0</td>\n",
       "      <td>0.491130</td>\n",
       "      <td>75.0</td>\n",
       "      <td>0.491130</td>\n",
       "      <td>75.0</td>\n",
       "      <td>Sucre, amidon de maïs, arôme vanille</td>\n",
       "      <td>ajouter le produit à la préparation avec les a...</td>\n",
       "    </tr>\n",
       "    <tr>\n",
       "      <th>3634fb1e-ee79-41d1-8aaa-084c1fae5bd5</th>\n",
       "      <td>poire 99 antioxydant acide ascorbique</td>\n",
       "      <td>ce produit est une puree de fruits obtenue par...</td>\n",
       "      <td>0.096667</td>\n",
       "      <td>78.0</td>\n",
       "      <td>0.096667</td>\n",
       "      <td>78.0</td>\n",
       "      <td>0.437327</td>\n",
       "      <td>83.0</td>\n",
       "      <td>0.437327</td>\n",
       "      <td>83.0</td>\n",
       "      <td>Poire 99,9%, antioxydant: acide ascorbique.</td>\n",
       "      <td>Ce produit est une purée de fruits obtenue à p...</td>\n",
       "    </tr>\n",
       "    <tr>\n",
       "      <th>8d833da0-610f-4045-9877-adf8ad9ea56c</th>\n",
       "      <td>100 haricots blancs bio</td>\n",
       "      <td>les legumes secs sont mis en avant par tous le...</td>\n",
       "      <td>0.066176</td>\n",
       "      <td>82.0</td>\n",
       "      <td>0.066176</td>\n",
       "      <td>82.0</td>\n",
       "      <td>0.354719</td>\n",
       "      <td>90.0</td>\n",
       "      <td>0.354719</td>\n",
       "      <td>90.0</td>\n",
       "      <td>100% haricots blancs bio</td>\n",
       "      <td>Les légumes secs sont mis en avant par tous le...</td>\n",
       "    </tr>\n",
       "    <tr>\n",
       "      <th>04235024-80f3-46c2-bad0-aae0d5fab024</th>\n",
       "      <td>persil</td>\n",
       "      <td>cereales contenant du gluten savoir ble seigle...</td>\n",
       "      <td>0.045455</td>\n",
       "      <td>85.0</td>\n",
       "      <td>0.045455</td>\n",
       "      <td>85.0</td>\n",
       "      <td>0.507576</td>\n",
       "      <td>73.0</td>\n",
       "      <td>0.507576</td>\n",
       "      <td>73.0</td>\n",
       "      <td>Persil</td>\n",
       "      <td>Céréales contenant du gluten (à savoir blé, se...</td>\n",
       "    </tr>\n",
       "  </tbody>\n",
       "</table>\n",
       "</div>"
      ],
      "text/latex": [
       "\\resizebox{\\linewidth}{!}{\\begin{scriptsize}\\centering{\\begin{tabular}{lllrrrrrrrrll}\n",
       "\\toprule\n",
       "{} &                                       ingredients\\_ &                                         predicted\\_ &  levenshtein &  levenshtein\\_rank &  damerau-levenshtein &  damerau-levenshtein\\_rank &      jaro &  jaro\\_rank &  jaro-winkler &  jaro-winkler\\_rank &                                        ingredients &                                          predicted \\\\\n",
       "uid                                  &                                                    &                                                    &              &                   &                      &                           &           &            &               &                    &                                                    &                                                    \\\\\n",
       "\\midrule\n",
       "345591f4-d887-4ddc-bb40-21337fa9269d &  gesier de dinde emince 50 graisse de canard 47... &  gesier de dinde emince 50 graisse de canard 47... &     1.000000 &               1.0 &             1.000000 &                       1.0 &  1.000000 &        1.0 &      1.000000 &                1.0 &  Gésier de dinde émincé 50\\%, graisse de canard ... &  Gésier de dinde émincé 50\\%,  graisse de canard... \\\\\n",
       "c3b6b4df-e586-4f10-8e58-15fbf0816acb &  mini poivrons jaunes eau sucre sel affermissan... &  mini poivrons jaunes eau sucre sel affermissan... &     1.000000 &               3.0 &             1.000000 &                       3.0 &  1.000000 &        3.0 &      1.000000 &                4.0 &  mini poivrons jaunes, eau, sucre, sel, affermi... &  mini poivrons jaunes, eau, sucre, sel, affermi... \\\\\n",
       "0481d91b-9653-42e7-b525-9dc9b87b06f2 &  farine de ble huile de colza non hydrogenee oe... &  farine de ble huile de colza non hydrogenee oe... &     1.000000 &               4.0 &             1.000000 &                       4.0 &  1.000000 &        4.0 &      1.000000 &                5.0 &  Farine de BLE, huile de colza non hydrogénée, ... &  Farine de BLE, huile de colza non hydrogénée, ... \\\\\n",
       "a2418174-e16a-41e0-ac14-c87208fb3529 &       salicornes de culture eau sel acide citrique &  se consomment en legumes accompagnement avec t... &     0.209677 &              66.0 &             0.209677 &                      66.0 &  0.511730 &       72.0 &      0.560557 &               65.0 &    Salicornes de culture, eau, sel, acide citrique &  Se consomment en légumes d'accompagnement avec... \\\\\n",
       "d8b0687e-5e25-4ff9-9384-087f993218bc &  eau jus de fruit de la passion sucre epaississ... &  cereales contenant du gluten crustaces et prod... &     0.200692 &              67.0 &             0.200692 &                      67.0 &  0.553928 &       64.0 &      0.553928 &               66.0 &  Eau ; jus de fruit de la passion ; sucre ; épa... &  Céréales contenant du gluten (2) \\textbackslash nCrustacés e... \\\\\n",
       "536361db-1bbb-4e64-ae53-d970eeac7db2 &                 sucre amidon de mais arome vanille &  ajouter le produit la preparation avec les aut... &     0.200000 &              68.0 &             0.200000 &                      68.0 &  0.491130 &       75.0 &      0.491130 &               75.0 &               Sucre, amidon de maïs, arôme vanille &  ajouter le produit à la préparation avec les a... \\\\\n",
       "3634fb1e-ee79-41d1-8aaa-084c1fae5bd5 &              poire 99 antioxydant acide ascorbique &  ce produit est une puree de fruits obtenue par... &     0.096667 &              78.0 &             0.096667 &                      78.0 &  0.437327 &       83.0 &      0.437327 &               83.0 &        Poire 99,9\\%, antioxydant: acide ascorbique. &  Ce produit est une purée de fruits obtenue à p... \\\\\n",
       "8d833da0-610f-4045-9877-adf8ad9ea56c &                            100 haricots blancs bio &  les legumes secs sont mis en avant par tous le... &     0.066176 &              82.0 &             0.066176 &                      82.0 &  0.354719 &       90.0 &      0.354719 &               90.0 &                           100\\% haricots blancs bio &  Les légumes secs sont mis en avant par tous le... \\\\\n",
       "04235024-80f3-46c2-bad0-aae0d5fab024 &                                             persil &  cereales contenant du gluten savoir ble seigle... &     0.045455 &              85.0 &             0.045455 &                      85.0 &  0.507576 &       73.0 &      0.507576 &               73.0 &                                             Persil &  Céréales contenant du gluten (à savoir blé, se... \\\\\n",
       "\\bottomrule\n",
       "\\end{tabular}\n",
       "}\\end{scriptsize}}"
      ],
      "text/plain": [
       "                                                                           ingredients_  \\\n",
       "uid                                                                                       \n",
       "345591f4-d887-4ddc-bb40-21337fa9269d  gesier de dinde emince 50 graisse de canard 47...   \n",
       "c3b6b4df-e586-4f10-8e58-15fbf0816acb  mini poivrons jaunes eau sucre sel affermissan...   \n",
       "0481d91b-9653-42e7-b525-9dc9b87b06f2  farine de ble huile de colza non hydrogenee oe...   \n",
       "a2418174-e16a-41e0-ac14-c87208fb3529       salicornes de culture eau sel acide citrique   \n",
       "d8b0687e-5e25-4ff9-9384-087f993218bc  eau jus de fruit de la passion sucre epaississ...   \n",
       "536361db-1bbb-4e64-ae53-d970eeac7db2                 sucre amidon de mais arome vanille   \n",
       "3634fb1e-ee79-41d1-8aaa-084c1fae5bd5              poire 99 antioxydant acide ascorbique   \n",
       "8d833da0-610f-4045-9877-adf8ad9ea56c                            100 haricots blancs bio   \n",
       "04235024-80f3-46c2-bad0-aae0d5fab024                                             persil   \n",
       "\n",
       "                                                                             predicted_  levenshtein  \\\n",
       "uid                                                                                                    \n",
       "345591f4-d887-4ddc-bb40-21337fa9269d  gesier de dinde emince 50 graisse de canard 47...     1.000000   \n",
       "c3b6b4df-e586-4f10-8e58-15fbf0816acb  mini poivrons jaunes eau sucre sel affermissan...     1.000000   \n",
       "0481d91b-9653-42e7-b525-9dc9b87b06f2  farine de ble huile de colza non hydrogenee oe...     1.000000   \n",
       "a2418174-e16a-41e0-ac14-c87208fb3529  se consomment en legumes accompagnement avec t...     0.209677   \n",
       "d8b0687e-5e25-4ff9-9384-087f993218bc  cereales contenant du gluten crustaces et prod...     0.200692   \n",
       "536361db-1bbb-4e64-ae53-d970eeac7db2  ajouter le produit la preparation avec les aut...     0.200000   \n",
       "3634fb1e-ee79-41d1-8aaa-084c1fae5bd5  ce produit est une puree de fruits obtenue par...     0.096667   \n",
       "8d833da0-610f-4045-9877-adf8ad9ea56c  les legumes secs sont mis en avant par tous le...     0.066176   \n",
       "04235024-80f3-46c2-bad0-aae0d5fab024  cereales contenant du gluten savoir ble seigle...     0.045455   \n",
       "\n",
       "                                      levenshtein_rank  damerau-levenshtein  damerau-levenshtein_rank  \\\n",
       "uid                                                                                                     \n",
       "345591f4-d887-4ddc-bb40-21337fa9269d               1.0             1.000000                       1.0   \n",
       "c3b6b4df-e586-4f10-8e58-15fbf0816acb               3.0             1.000000                       3.0   \n",
       "0481d91b-9653-42e7-b525-9dc9b87b06f2               4.0             1.000000                       4.0   \n",
       "a2418174-e16a-41e0-ac14-c87208fb3529              66.0             0.209677                      66.0   \n",
       "d8b0687e-5e25-4ff9-9384-087f993218bc              67.0             0.200692                      67.0   \n",
       "536361db-1bbb-4e64-ae53-d970eeac7db2              68.0             0.200000                      68.0   \n",
       "3634fb1e-ee79-41d1-8aaa-084c1fae5bd5              78.0             0.096667                      78.0   \n",
       "8d833da0-610f-4045-9877-adf8ad9ea56c              82.0             0.066176                      82.0   \n",
       "04235024-80f3-46c2-bad0-aae0d5fab024              85.0             0.045455                      85.0   \n",
       "\n",
       "                                          jaro  jaro_rank  jaro-winkler  jaro-winkler_rank  \\\n",
       "uid                                                                                          \n",
       "345591f4-d887-4ddc-bb40-21337fa9269d  1.000000        1.0      1.000000                1.0   \n",
       "c3b6b4df-e586-4f10-8e58-15fbf0816acb  1.000000        3.0      1.000000                4.0   \n",
       "0481d91b-9653-42e7-b525-9dc9b87b06f2  1.000000        4.0      1.000000                5.0   \n",
       "a2418174-e16a-41e0-ac14-c87208fb3529  0.511730       72.0      0.560557               65.0   \n",
       "d8b0687e-5e25-4ff9-9384-087f993218bc  0.553928       64.0      0.553928               66.0   \n",
       "536361db-1bbb-4e64-ae53-d970eeac7db2  0.491130       75.0      0.491130               75.0   \n",
       "3634fb1e-ee79-41d1-8aaa-084c1fae5bd5  0.437327       83.0      0.437327               83.0   \n",
       "8d833da0-610f-4045-9877-adf8ad9ea56c  0.354719       90.0      0.354719               90.0   \n",
       "04235024-80f3-46c2-bad0-aae0d5fab024  0.507576       73.0      0.507576               73.0   \n",
       "\n",
       "                                                                            ingredients  \\\n",
       "uid                                                                                       \n",
       "345591f4-d887-4ddc-bb40-21337fa9269d  Gésier de dinde émincé 50%, graisse de canard ...   \n",
       "c3b6b4df-e586-4f10-8e58-15fbf0816acb  mini poivrons jaunes, eau, sucre, sel, affermi...   \n",
       "0481d91b-9653-42e7-b525-9dc9b87b06f2  Farine de BLE, huile de colza non hydrogénée, ...   \n",
       "a2418174-e16a-41e0-ac14-c87208fb3529    Salicornes de culture, eau, sel, acide citrique   \n",
       "d8b0687e-5e25-4ff9-9384-087f993218bc  Eau ; jus de fruit de la passion ; sucre ; épa...   \n",
       "536361db-1bbb-4e64-ae53-d970eeac7db2               Sucre, amidon de maïs, arôme vanille   \n",
       "3634fb1e-ee79-41d1-8aaa-084c1fae5bd5        Poire 99,9%, antioxydant: acide ascorbique.   \n",
       "8d833da0-610f-4045-9877-adf8ad9ea56c                           100% haricots blancs bio   \n",
       "04235024-80f3-46c2-bad0-aae0d5fab024                                             Persil   \n",
       "\n",
       "                                                                              predicted  \n",
       "uid                                                                                      \n",
       "345591f4-d887-4ddc-bb40-21337fa9269d  Gésier de dinde émincé 50%,  graisse de canard...  \n",
       "c3b6b4df-e586-4f10-8e58-15fbf0816acb  mini poivrons jaunes, eau, sucre, sel, affermi...  \n",
       "0481d91b-9653-42e7-b525-9dc9b87b06f2  Farine de BLE, huile de colza non hydrogénée, ...  \n",
       "a2418174-e16a-41e0-ac14-c87208fb3529  Se consomment en légumes d'accompagnement avec...  \n",
       "d8b0687e-5e25-4ff9-9384-087f993218bc  Céréales contenant du gluten (2) \\nCrustacés e...  \n",
       "536361db-1bbb-4e64-ae53-d970eeac7db2  ajouter le produit à la préparation avec les a...  \n",
       "3634fb1e-ee79-41d1-8aaa-084c1fae5bd5  Ce produit est une purée de fruits obtenue à p...  \n",
       "8d833da0-610f-4045-9877-adf8ad9ea56c  Les légumes secs sont mis en avant par tous le...  \n",
       "04235024-80f3-46c2-bad0-aae0d5fab024  Céréales contenant du gluten (à savoir blé, se...  "
      ]
     },
     "execution_count": 32,
     "metadata": {},
     "output_type": "execute_result"
    }
   ],
   "source": [
    "(\n",
    "processed_df.sort_values('levenshtein_rank')\n",
    "            .loc[(processed_df['ingredients'] != '') &\n",
    "                 (processed_df['predicted'] != '') &\n",
    "                (processed_df['predicted'].apply(len) <=300)]\n",
    "            .join(comp_df, lsuffix='_')\n",
    "            .iloc[np.r_[0:3, 47:50, -3:0]]\n",
    "            )"
   ]
  },
  {
   "cell_type": "code",
   "execution_count": 33,
   "metadata": {
    "scrolled": false
   },
   "outputs": [],
   "source": [
    "# outputing to latex\n",
    "with pd.option_context(\"max_colwidth\", 100000):\n",
    "    tex_str = (processed_df.sort_values('levenshtein_rank')\n",
    "                           .loc[(processed_df['ingredients'] != '') &\n",
    "                                (processed_df['predicted'] != '') &\n",
    "                                (processed_df['predicted'].apply(len) <=300)]\n",
    "                           .join(comp_df, lsuffix='_')\n",
    "                           .iloc[np.r_[0:3, 47:50, -3:0]]\n",
    "                           .to_latex(columns=['ingredients', 'predicted', 'levenshtein', # 'levenshtein_rank',\n",
    "                                              'damerau-levenshtein', 'jaro', \n",
    "                                              'jaro-winkler'],\n",
    "                                     index=False,\n",
    "                                     index_names=False,\n",
    "                                     column_format='p{5cm}p{5cm}cccc',\n",
    "                                     formatters={'levenshtein': lambda x: f'{x:.2%}', \n",
    "#                                                  'levenshtein_rank': lambda x: f'{x:1.0f}',\n",
    "                                                 'damerau-levenshtein': lambda x: f'{x:.2%}', \n",
    "                                                 #'damerau-levenshtein_rank': lambda x: f'{x:1.0f}',\n",
    "                                                 'jaro': lambda x: f'{x:.2%}',\n",
    "                                                 #'jaro_rank': lambda x: f'{x:1.0f}',\n",
    "                                                 'jaro-winkler': lambda x: f'{x:.2%}',\n",
    "                                                 #'jaro-winkler_rank': lambda x: f'{x:1.0f}',\n",
    "                                                },\n",
    "                                     header=[\"Listes d'ingrédients cibles\", \"Listes d'ingrédients prédites\",\n",
    "                                             'Lev', 'Dam-Lev', 'Jaro', 'Jaro-Win'],\n",
    "                                     na_rep = '<rien>',\n",
    "                                    )\n",
    "    ).replace(r'\\textbackslash n', r' \\newline ').replace(r'\\\\', r'\\\\ \\hline')\n",
    "    \n",
    "# with open(Path('..') / 'tbls' / 'similarity_illustration.tex' , 'w') as file:\n",
    "#     file.write(tex_str)\n"
   ]
  },
  {
   "cell_type": "markdown",
   "metadata": {},
   "source": [
    "## Similarité vs. longueur des listes d'ingrédients\n",
    "\n",
    "On compare le score de similarité obtenu par rapport à la longueur des listes d'ingrédients cibles."
   ]
  },
  {
   "cell_type": "code",
   "execution_count": 34,
   "metadata": {},
   "outputs": [
    {
     "data": {
      "text/plain": [
       "<matplotlib.collections.PathCollection at 0x7fa4963cfac0>"
      ]
     },
     "execution_count": 34,
     "metadata": {},
     "output_type": "execute_result"
    },
    {
     "data": {
      "image/png": "[encoded data removed]",
      "text/plain": [
       "<Figure size 576x360 with 1 Axes>"
      ]
     },
     "metadata": {
      "needs_background": "light"
     },
     "output_type": "display_data"
    }
   ],
   "source": [
    "fig, ax = plt.subplots(figsize=(8, 5))\n",
    "\n",
    "ax.scatter(y=processed_df['levenshtein'], x=processed_df['ingredients'].apply(len))"
   ]
  },
  {
   "cell_type": "markdown",
   "metadata": {},
   "source": [
    "On a des outliers qui vont avoir trop d'importance sur les résultats. On va les filtrer."
   ]
  },
  {
   "cell_type": "code",
   "execution_count": 35,
   "metadata": {},
   "outputs": [],
   "source": [
    "filtered = processed_df.loc[processed_df['ingredients'].apply(len) <= 350]"
   ]
  },
  {
   "cell_type": "code",
   "execution_count": 36,
   "metadata": {},
   "outputs": [
    {
     "name": "stdout",
     "output_type": "stream",
     "text": [
      "r2 :  0.3249291855359084\n"
     ]
    },
    {
     "data": {
      "text/plain": [
       "LinregressResult(slope=0.002425601437356884, intercept=0.19097219058918768, rvalue=0.5700256007723762, pvalue=4.512591966582692e-09, stderr=0.0003726991570207304)"
      ]
     },
     "execution_count": 36,
     "metadata": {},
     "output_type": "execute_result"
    }
   ],
   "source": [
    "print('r2 : ', linregress(x=filtered['ingredients'].apply(len), y=filtered['levenshtein']).rvalue ** 2)\n",
    "linregress(x=filtered['ingredients'].apply(len), y=filtered['levenshtein'])"
   ]
  },
  {
   "cell_type": "code",
   "execution_count": 37,
   "metadata": {},
   "outputs": [
    {
     "data": {
      "text/plain": [
       "(-0.1, 1.1)"
      ]
     },
     "execution_count": 37,
     "metadata": {},
     "output_type": "execute_result"
    },
    {
     "data": {
      "image/png": "[encoded data removed]",
      "text/plain": [
       "<Figure size 576x360 with 1 Axes>"
      ]
     },
     "metadata": {
      "needs_background": "light"
     },
     "output_type": "display_data"
    }
   ],
   "source": [
    "fig, ax = plt.subplots(figsize=(8, 5))\n",
    "sns.regplot(x=filtered['ingredients'].apply(len), y=filtered['levenshtein'], ax=ax)\n",
    "ax.set_xlabel(\"Longueur de la liste d'ingrédients cible\", fontsize=12)\n",
    "ax.set_ylabel(\"Similarité de Levenshtein entre\\nprédiction et cible\", fontsize=12)\n",
    "fig.suptitle(\"Relation entre longueur de la liste d'ingrédients\\net performance du modèle (r²=34.0%)\", fontsize=16)\n",
    "ax.yaxis.set_major_formatter(mtick.PercentFormatter(xmax=1.))\n",
    "ax.set_ylim(-0.1, 1.1)\n",
    "# fig.savefig(Path('..') / 'img' / 'perf_vs_length.png', bbox_inches='tight')"
   ]
  }
 ],
 "metadata": {
  "kernelspec": {
   "display_name": "Python 3",
   "language": "python",
   "name": "python3"
  },
  "language_info": {
   "codemirror_mode": {
    "name": "ipython",
    "version": 3
   },
   "file_extension": ".py",
   "mimetype": "text/x-python",
   "name": "python",
   "nbconvert_exporter": "python",
   "pygments_lexer": "ipython3",
   "version": "3.8.1"
  }
 },
 "nbformat": 4,
 "nbformat_minor": 4
}
