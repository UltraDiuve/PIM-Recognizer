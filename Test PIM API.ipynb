{
 "cells": [
  {
   "cell_type": "code",
   "execution_count": 1,
   "metadata": {},
   "outputs": [],
   "source": [
    "from src import pimapi\n",
    "import pandas as pd\n",
    "import json"
   ]
  },
  {
   "cell_type": "code",
   "execution_count": 2,
   "metadata": {},
   "outputs": [],
   "source": [
    "tool = pimapi.Requester('prd')"
   ]
  },
  {
   "cell_type": "code",
   "execution_count": 3,
   "metadata": {
    "scrolled": true
   },
   "outputs": [
    {
     "name": "stdout",
     "output_type": "stream",
     "text": [
      "Done\n"
     ]
    }
   ],
   "source": [
    "tool.refresh_directory()"
   ]
  },
  {
   "cell_type": "code",
   "execution_count": 4,
   "metadata": {
    "scrolled": true
   },
   "outputs": [
    {
     "name": "stdout",
     "output_type": "stream",
     "text": [
      "Number of items: 12880\n",
      "Number of items with outdated data: 15\n",
      "Number of items with outdated files: 75\n"
     ]
    }
   ],
   "source": [
    "tool.modification_report()"
   ]
  },
  {
   "cell_type": "code",
   "execution_count": 9,
   "metadata": {},
   "outputs": [
    {
     "name": "stdout",
     "output_type": "stream",
     "text": [
      "Done\n"
     ]
    }
   ],
   "source": [
    "tool.fetch_list_from_PIM(tool.modified_items(what='any', max_results=3000), batch_size=20)"
   ]
  },
  {
   "cell_type": "code",
   "execution_count": 10,
   "metadata": {
    "scrolled": false
   },
   "outputs": [
    {
     "name": "stdout",
     "output_type": "stream",
     "text": [
      "Done\n"
     ]
    }
   ],
   "source": [
    "tool.dump_data_from_result()"
   ]
  },
  {
   "cell_type": "code",
   "execution_count": 11,
   "metadata": {
    "scrolled": true
   },
   "outputs": [
    {
     "name": "stdout",
     "output_type": "stream",
     "text": [
      "Launching 1 threads.\n",
      "Thread complete!\n",
      "Done\n"
     ]
    }
   ],
   "source": [
    "tool.dump_files_from_result()"
   ]
  },
  {
   "cell_type": "code",
   "execution_count": 12,
   "metadata": {},
   "outputs": [
    {
     "name": "stdout",
     "output_type": "stream",
     "text": [
      "Number of items: 12880\n",
      "Number of items with outdated data: 0\n",
      "Number of items with outdated files: 0\n"
     ]
    }
   ],
   "source": [
    "tool.modification_report()"
   ]
  },
  {
   "cell_type": "code",
   "execution_count": 21,
   "metadata": {},
   "outputs": [
    {
     "name": "stdout",
     "output_type": "stream",
     "text": [
      "An error occured in this thread!\n",
      "('Connection broken: IncompleteRead(2562 bytes read, 7678 more expected)', IncompleteRead(2562 bytes read, 7678 more expected))\n",
      "An error occured in this thread!\n",
      "('Connection broken: IncompleteRead(0 bytes read)', IncompleteRead(0 bytes read))\n",
      "An error occured in this thread!\n",
      "('Connection broken: IncompleteRead(4273 bytes read, 5967 more expected)', IncompleteRead(4273 bytes read, 5967 more expected))\n",
      "An error occured in this thread!\n",
      "('Connection broken: IncompleteRead(3849 bytes read, 6391 more expected)', IncompleteRead(3849 bytes read, 6391 more expected))\n",
      "Done\n"
     ]
    }
   ],
   "source": [
    "tool.fetch_all_from_PIM(max_page=-1, page_size=1000)"
   ]
  },
  {
   "cell_type": "code",
   "execution_count": null,
   "metadata": {},
   "outputs": [],
   "source": [
    "mapping = {'uid': 'uid', 'Libellé': 'title', 'Ingrédients': 'properties.pprodc:ingredientsList'}\n",
    "tool.result_to_dataframe(record_path='entries', mapping=mapping, index='uid')"
   ]
  },
  {
   "cell_type": "code",
   "execution_count": 19,
   "metadata": {},
   "outputs": [
    {
     "data": {
      "text/html": [
       "<div>\n",
       "<style scoped>\n",
       "    .dataframe tbody tr th:only-of-type {\n",
       "        vertical-align: middle;\n",
       "    }\n",
       "\n",
       "    .dataframe tbody tr th {\n",
       "        vertical-align: top;\n",
       "    }\n",
       "\n",
       "    .dataframe thead th {\n",
       "        text-align: right;\n",
       "    }\n",
       "</style>\n",
       "<table border=\"1\" class=\"dataframe\">\n",
       "  <thead>\n",
       "    <tr style=\"text-align: right;\">\n",
       "      <th></th>\n",
       "      <th>Libellé</th>\n",
       "      <th>Ingrédients</th>\n",
       "      <th>Type</th>\n",
       "      <th>has_supplierdatasheet</th>\n",
       "      <th>has_supplierlabel</th>\n",
       "    </tr>\n",
       "    <tr>\n",
       "      <th>uid</th>\n",
       "      <th></th>\n",
       "      <th></th>\n",
       "      <th></th>\n",
       "      <th></th>\n",
       "      <th></th>\n",
       "    </tr>\n",
       "  </thead>\n",
       "  <tbody>\n",
       "    <tr>\n",
       "      <th>df8bb420-ff59-4af3-9a98-4c3ff91c833c</th>\n",
       "      <td>Chamallow en sachet 100 g HARIBO</td>\n",
       "      <td>Sirop de glucose, sucre, eau, gélatine, stabil...</td>\n",
       "      <td>grocery</td>\n",
       "      <td>True</td>\n",
       "      <td>False</td>\n",
       "    </tr>\n",
       "    <tr>\n",
       "      <th>2f2af35c-5f1d-4fc2-9af4-deb9e261a29f</th>\n",
       "      <td>Bouillon de légumes sans sel ajouté en sachet ...</td>\n",
       "      <td>Sirop de glucose de maïs - Extraits naturels d...</td>\n",
       "      <td>grocery</td>\n",
       "      <td>True</td>\n",
       "      <td>True</td>\n",
       "    </tr>\n",
       "    <tr>\n",
       "      <th>32ac61fe-a3c2-4505-9ceb-8c736416757b</th>\n",
       "      <td>Bouillon de légume sans sel ajouté en sachet 5...</td>\n",
       "      <td>Sirop de glucose de maïs - Extraits naturels d...</td>\n",
       "      <td>grocery</td>\n",
       "      <td>True</td>\n",
       "      <td>True</td>\n",
       "    </tr>\n",
       "    <tr>\n",
       "      <th>a6505df4-3d18-4265-9cdc-173461b9e5ac</th>\n",
       "      <td>Double concentré de tomate 28% en boîte 5/1 VA...</td>\n",
       "      <td>Purée de tomates double concentrée 28% (tomate...</td>\n",
       "      <td>grocery</td>\n",
       "      <td>False</td>\n",
       "      <td>False</td>\n",
       "    </tr>\n",
       "    <tr>\n",
       "      <th>e4ebaa4b-0ddb-45b0-ac1e-c85b369bb840</th>\n",
       "      <td>Double concentré de tomate 28% en boîte 5/1 VA...</td>\n",
       "      <td>Tomates</td>\n",
       "      <td>grocery</td>\n",
       "      <td>False</td>\n",
       "      <td>False</td>\n",
       "    </tr>\n",
       "    <tr>\n",
       "      <th>...</th>\n",
       "      <td>...</td>\n",
       "      <td>...</td>\n",
       "      <td>...</td>\n",
       "      <td>...</td>\n",
       "      <td>...</td>\n",
       "    </tr>\n",
       "    <tr>\n",
       "      <th>9c555171-dfd7-4c35-9f23-e9f26915e8a7</th>\n",
       "      <td>Mini Tic Tac à la menthe en sachet 190 g TIC TAC</td>\n",
       "      <td>Sucre, maltodextrine, amidon de riz, épaississ...</td>\n",
       "      <td>grocery</td>\n",
       "      <td>True</td>\n",
       "      <td>False</td>\n",
       "    </tr>\n",
       "    <tr>\n",
       "      <th>a6a70356-2f18-40f5-9df5-1c396dffa221</th>\n",
       "      <td>Galette en étui 19,5 g ST MICHEL</td>\n",
       "      <td>Farine de BLE 65%, sucre, BEURRE 18%, OEUFS de...</td>\n",
       "      <td>grocery</td>\n",
       "      <td>True</td>\n",
       "      <td>True</td>\n",
       "    </tr>\n",
       "    <tr>\n",
       "      <th>b1f29bb8-5dda-42b3-b4e3-69671e0d969a</th>\n",
       "      <td>Mr. Tom en étui 40 g BRABO</td>\n",
       "      <td>ARACHIDES (62% minimum), sirop de glucose, suc...</td>\n",
       "      <td>grocery</td>\n",
       "      <td>False</td>\n",
       "      <td>False</td>\n",
       "    </tr>\n",
       "    <tr>\n",
       "      <th>1f50e2fb-dcd6-42cf-b33d-903aa1a088bf</th>\n",
       "      <td>Sucette Mammouth Pop en boîte-présentoir de 36...</td>\n",
       "      <td>Dextrose, sucre, gomme base, sirop de glucose,...</td>\n",
       "      <td>grocery</td>\n",
       "      <td>False</td>\n",
       "      <td>False</td>\n",
       "    </tr>\n",
       "    <tr>\n",
       "      <th>f9aa4882-0005-4385-823d-609c398607ed</th>\n",
       "      <td>M&amp;M's en sachet 100 g M&amp;M'S</td>\n",
       "      <td>Sucre, CACAHUETES, pâte de cacao, LAIT écrémé ...</td>\n",
       "      <td>grocery</td>\n",
       "      <td>True</td>\n",
       "      <td>False</td>\n",
       "    </tr>\n",
       "  </tbody>\n",
       "</table>\n",
       "<p>9880 rows × 5 columns</p>\n",
       "</div>"
      ],
      "text/plain": [
       "                                                                                Libellé  \\\n",
       "uid                                                                                       \n",
       "df8bb420-ff59-4af3-9a98-4c3ff91c833c                   Chamallow en sachet 100 g HARIBO   \n",
       "2f2af35c-5f1d-4fc2-9af4-deb9e261a29f  Bouillon de légumes sans sel ajouté en sachet ...   \n",
       "32ac61fe-a3c2-4505-9ceb-8c736416757b  Bouillon de légume sans sel ajouté en sachet 5...   \n",
       "a6505df4-3d18-4265-9cdc-173461b9e5ac  Double concentré de tomate 28% en boîte 5/1 VA...   \n",
       "e4ebaa4b-0ddb-45b0-ac1e-c85b369bb840  Double concentré de tomate 28% en boîte 5/1 VA...   \n",
       "...                                                                                 ...   \n",
       "9c555171-dfd7-4c35-9f23-e9f26915e8a7   Mini Tic Tac à la menthe en sachet 190 g TIC TAC   \n",
       "a6a70356-2f18-40f5-9df5-1c396dffa221                   Galette en étui 19,5 g ST MICHEL   \n",
       "b1f29bb8-5dda-42b3-b4e3-69671e0d969a                         Mr. Tom en étui 40 g BRABO   \n",
       "1f50e2fb-dcd6-42cf-b33d-903aa1a088bf  Sucette Mammouth Pop en boîte-présentoir de 36...   \n",
       "f9aa4882-0005-4385-823d-609c398607ed                        M&M's en sachet 100 g M&M'S   \n",
       "\n",
       "                                                                            Ingrédients  \\\n",
       "uid                                                                                       \n",
       "df8bb420-ff59-4af3-9a98-4c3ff91c833c  Sirop de glucose, sucre, eau, gélatine, stabil...   \n",
       "2f2af35c-5f1d-4fc2-9af4-deb9e261a29f  Sirop de glucose de maïs - Extraits naturels d...   \n",
       "32ac61fe-a3c2-4505-9ceb-8c736416757b  Sirop de glucose de maïs - Extraits naturels d...   \n",
       "a6505df4-3d18-4265-9cdc-173461b9e5ac  Purée de tomates double concentrée 28% (tomate...   \n",
       "e4ebaa4b-0ddb-45b0-ac1e-c85b369bb840                                            Tomates   \n",
       "...                                                                                 ...   \n",
       "9c555171-dfd7-4c35-9f23-e9f26915e8a7  Sucre, maltodextrine, amidon de riz, épaississ...   \n",
       "a6a70356-2f18-40f5-9df5-1c396dffa221  Farine de BLE 65%, sucre, BEURRE 18%, OEUFS de...   \n",
       "b1f29bb8-5dda-42b3-b4e3-69671e0d969a  ARACHIDES (62% minimum), sirop de glucose, suc...   \n",
       "1f50e2fb-dcd6-42cf-b33d-903aa1a088bf  Dextrose, sucre, gomme base, sirop de glucose,...   \n",
       "f9aa4882-0005-4385-823d-609c398607ed  Sucre, CACAHUETES, pâte de cacao, LAIT écrémé ...   \n",
       "\n",
       "                                         Type  has_supplierdatasheet  \\\n",
       "uid                                                                    \n",
       "df8bb420-ff59-4af3-9a98-4c3ff91c833c  grocery                   True   \n",
       "2f2af35c-5f1d-4fc2-9af4-deb9e261a29f  grocery                   True   \n",
       "32ac61fe-a3c2-4505-9ceb-8c736416757b  grocery                   True   \n",
       "a6505df4-3d18-4265-9cdc-173461b9e5ac  grocery                  False   \n",
       "e4ebaa4b-0ddb-45b0-ac1e-c85b369bb840  grocery                  False   \n",
       "...                                       ...                    ...   \n",
       "9c555171-dfd7-4c35-9f23-e9f26915e8a7  grocery                   True   \n",
       "a6a70356-2f18-40f5-9df5-1c396dffa221  grocery                   True   \n",
       "b1f29bb8-5dda-42b3-b4e3-69671e0d969a  grocery                  False   \n",
       "1f50e2fb-dcd6-42cf-b33d-903aa1a088bf  grocery                  False   \n",
       "f9aa4882-0005-4385-823d-609c398607ed  grocery                   True   \n",
       "\n",
       "                                      has_supplierlabel  \n",
       "uid                                                      \n",
       "df8bb420-ff59-4af3-9a98-4c3ff91c833c              False  \n",
       "2f2af35c-5f1d-4fc2-9af4-deb9e261a29f               True  \n",
       "32ac61fe-a3c2-4505-9ceb-8c736416757b               True  \n",
       "a6505df4-3d18-4265-9cdc-173461b9e5ac              False  \n",
       "e4ebaa4b-0ddb-45b0-ac1e-c85b369bb840              False  \n",
       "...                                                 ...  \n",
       "9c555171-dfd7-4c35-9f23-e9f26915e8a7              False  \n",
       "a6a70356-2f18-40f5-9df5-1c396dffa221               True  \n",
       "b1f29bb8-5dda-42b3-b4e3-69671e0d969a              False  \n",
       "1f50e2fb-dcd6-42cf-b33d-903aa1a088bf              False  \n",
       "f9aa4882-0005-4385-823d-609c398607ed              False  \n",
       "\n",
       "[9880 rows x 5 columns]"
      ]
     },
     "execution_count": 19,
     "metadata": {},
     "output_type": "execute_result"
    }
   ],
   "source": [
    "mapping = {'uid': 'uid',\n",
    "           'Libellé': 'title',\n",
    "           'Ingrédients': 'properties.pprodc:ingredientsList',\n",
    "           'Type': 'properties.pprodtop:typeOfProduct'}\n",
    "df=tool.file_report_from_result(mapping, index='uid')\n",
    "df"
   ]
  },
  {
   "cell_type": "code",
   "execution_count": 23,
   "metadata": {},
   "outputs": [
    {
     "data": {
      "text/plain": [
       "Index(['58f67e91-6d16-4f12-97c7-e67d24be6805',\n",
       "       'f46327cf-8f3c-4b67-85fa-7e6e6daaf618',\n",
       "       '58a1ae66-ca4d-4d82-9d30-4073b1edaeb8',\n",
       "       '9bc59474-7839-458b-b56a-ba334fe4894b',\n",
       "       'c97834e7-124e-4491-9f2a-3e4009fdda4e',\n",
       "       '7f45aa58-2d86-49ae-a5ef-651751f77f61',\n",
       "       'e779269a-d4d1-4a7a-aa4d-2b663d9a50a2',\n",
       "       '6f1b28a1-d9af-434b-ad90-d59a11aeefb9',\n",
       "       '6bcc6971-16e6-4432-b522-a45634774a46',\n",
       "       '2ba0e56b-946a-409b-aa2b-75046a227ba7',\n",
       "       '2c0b1547-ea48-47b9-9779-1d32a420f649',\n",
       "       'eda65f17-7e31-4cb5-be6f-da7e36a1aa0e',\n",
       "       '4c536ea1-cdc2-43db-a02a-8714c782a68e',\n",
       "       '23399381-a6b6-46e3-ad3c-8c8197f383b7',\n",
       "       'dc9963af-cdf9-4697-8d6e-06e06c5f9569',\n",
       "       '28108842-30dd-443c-93d4-4dd5df000a88',\n",
       "       '5c932319-4fbc-430f-9d68-dd3cf985ecb6',\n",
       "       '0615354a-968e-4e51-8987-5ea0e63382bc',\n",
       "       '6603430e-815b-421d-b0bf-30c1b940722f',\n",
       "       'db9bed6e-f8a7-4099-bf0e-ec19acb91436',\n",
       "       '1f073084-fbe3-475c-92da-4628fc9a9260',\n",
       "       '4d8b6f4a-1ddb-4bc2-a4f8-7487130ba77a',\n",
       "       '1c98f811-5546-4fea-b321-94cd1d4f9acf',\n",
       "       'c50f2131-839c-451a-a4e3-7259d2a52d73',\n",
       "       '634f3d46-9d48-465c-9f09-76b20dc036bb',\n",
       "       '817be59f-c16b-4d10-b598-17f5154d3975',\n",
       "       '2dfbc051-e357-4717-ad4b-37dcfea1ecdc',\n",
       "       '692fe1ee-a646-46f1-8ba4-93b3e36c4779',\n",
       "       '57e0f5c2-316e-4924-a04f-d19164dbf17d',\n",
       "       '86c58390-30c5-4efe-8718-46f755271e65',\n",
       "       'da1f6590-9b1f-4298-8277-e9413d6e936d',\n",
       "       '7dacc697-1f15-4a38-9427-4b82f901a4f5',\n",
       "       'adce8c47-a61c-421c-948d-c44b95ff9fe8',\n",
       "       '22e6fb13-4276-4717-8b39-106f19ce5527',\n",
       "       'b3bbacd8-4c57-4fdc-9f62-7d151faf2748',\n",
       "       'f07a5f74-174f-47e2-b7ba-cd8855cc9962',\n",
       "       '73f52832-acd5-4164-85cf-551944da1578',\n",
       "       'a73d46b0-82ca-4c7e-b1d0-aa5909d352a7',\n",
       "       '8307cd18-6b28-45f0-b5f4-831f7d780125',\n",
       "       '1339026d-41d9-473c-b73d-467d0ee8d524',\n",
       "       'aa6395f4-150a-4d70-b494-bac3bd4893f5',\n",
       "       'e2a3ded2-e123-4e06-892b-961d3ec0081f',\n",
       "       '98894ec9-bd7f-4ef1-b086-aec60ddee265',\n",
       "       '72ec1661-1bec-422d-b4f4-c3016a1fc3b0',\n",
       "       '00f58597-7112-469a-ad9a-328c7a70ed27',\n",
       "       'ee65dc3f-843b-4026-8bf2-b6fd90c51d1b',\n",
       "       '87b0613c-7c19-4d93-b168-1d97cb38d6e9',\n",
       "       '8c71046f-0332-4db2-ac56-929421570db0',\n",
       "       'f53d1e57-aef7-45a3-8cdc-d36d044384d0',\n",
       "       '482c6620-b6fe-45bb-8fe2-49f79ff85abf',\n",
       "       '71f3391b-5fc6-4a5b-b01e-740522aa216f',\n",
       "       '7f5530b3-8235-419f-8d2e-0a3427e02021',\n",
       "       'ca28d22c-c898-4c8e-8061-cf9646210ac9',\n",
       "       'ab158fe0-11ea-447f-9976-a2bb4af524ae',\n",
       "       'f325c468-7db2-4ea7-93d7-0077cd46ae19',\n",
       "       'ac1256ed-3bf0-4469-b85c-25214fb0591c',\n",
       "       '4340208c-f381-494f-860e-82f0eafea1d6',\n",
       "       'bab5259b-795b-4548-9bb7-f1070ffc1d31',\n",
       "       '7b9d7036-dd29-4573-975c-2e396a8b5757',\n",
       "       '57d3cb02-baf6-4444-bde3-3071ff5aaa91',\n",
       "       '896f003c-f757-4286-b2c5-13a7c0aee139',\n",
       "       'ba0adbcc-7d05-4385-a000-e24210b2815e',\n",
       "       '8acde2bb-023f-40ae-8156-0c0685905015',\n",
       "       '82bf4815-d0c7-4dec-8bb5-4612bbec4273',\n",
       "       '59800071-1bf4-4ec5-871e-cfaf67f9a8d4',\n",
       "       '2fc031b5-ab5b-4bcb-bef3-5358bd2786cd',\n",
       "       '41f5e445-55fc-4a5d-84e1-a1f20c014a67',\n",
       "       '41275d3b-f591-4d9f-8c31-5295c3d9d153',\n",
       "       'd6d486e6-83be-471c-ac76-3546668d86d4',\n",
       "       '164169c6-c65b-4dd1-849d-e9d8d9e5bd2e',\n",
       "       '049fe1d6-8cfc-41a0-b726-28338c030de5',\n",
       "       'd6763699-0ac2-4d7e-b80c-725987a756fb',\n",
       "       '95ffe391-806b-4809-b7cb-d5c7fa38b079',\n",
       "       'dd96d8fe-5897-497f-a081-6fe157a7d1f1',\n",
       "       '43285574-6b0e-4bf1-8d20-f6376c9e1864',\n",
       "       '134b17fb-7252-40da-aedc-5b91bbe46a02',\n",
       "       '189d98ac-9041-4048-9c38-7529757c05f8',\n",
       "       'bcad3864-c5f5-4c68-813e-c3a7130a6e69',\n",
       "       'f976ce91-4cd0-485f-89e0-cdce12e8308c',\n",
       "       'a65f8102-c296-429e-923e-991ac0b16de6',\n",
       "       '206c9b5e-9d0b-414e-8d97-609fd2e4c77c',\n",
       "       '86eece02-ff01-42b2-8aa1-6f24e72a9ff2',\n",
       "       '6097c33e-0e83-41ad-af54-3c0ca8b75f9a',\n",
       "       '0463af5d-b811-452b-ab48-43fb70071bf4',\n",
       "       'fca214c7-bae0-4b63-91ab-45bdddad8034',\n",
       "       '6254586f-6c17-4682-9316-c7f9fd64f63b',\n",
       "       'c4bb5e83-5a37-4517-a3f5-e57d5e3f0384',\n",
       "       '14f8694f-73e8-4060-892f-243fbf907ff3',\n",
       "       'c0e07592-62db-48fc-996d-6f8f19a96db0',\n",
       "       '1843d7bb-48fe-4082-ba05-32d0eacd6743',\n",
       "       'be40da8a-e23d-4dc9-bf37-d8c78dc9b620',\n",
       "       '99c47ac9-f2a5-4d87-ade4-cde77da8eceb',\n",
       "       '95913952-4b7f-4617-9076-01945261c802',\n",
       "       '54d65817-0140-4b91-8152-e8038847379f',\n",
       "       '39003371-637c-4f7d-9f84-51158c58a1b0',\n",
       "       '18e587c6-eb15-4339-95b3-a85ed645c3c8',\n",
       "       'dd9d6fb5-e0f5-4b97-8793-00b10ebb55d6',\n",
       "       'e13f4a85-aecb-41d3-9709-ae4721a31b04',\n",
       "       'e3df9964-e9b5-44dc-8597-456bdb0c25ac',\n",
       "       '51b38427-b2ea-4c56-93e8-4242361ef31b'],\n",
       "      dtype='object', name='uid')"
      ]
     },
     "execution_count": 23,
     "metadata": {},
     "output_type": "execute_result"
    }
   ],
   "source": [
    "tool._directory.index[:100]"
   ]
  },
  {
   "cell_type": "code",
   "execution_count": 24,
   "metadata": {},
   "outputs": [
    {
     "name": "stdout",
     "output_type": "stream",
     "text": [
      "58f67e91-6d16-4f12-97c7-e67d24be6805\n",
      "f46327cf-8f3c-4b67-85fa-7e6e6daaf618\n",
      "58a1ae66-ca4d-4d82-9d30-4073b1edaeb8\n",
      "9bc59474-7839-458b-b56a-ba334fe4894b\n",
      "c97834e7-124e-4491-9f2a-3e4009fdda4e\n",
      "7f45aa58-2d86-49ae-a5ef-651751f77f61\n",
      "e779269a-d4d1-4a7a-aa4d-2b663d9a50a2\n",
      "6f1b28a1-d9af-434b-ad90-d59a11aeefb9\n",
      "6bcc6971-16e6-4432-b522-a45634774a46\n",
      "2ba0e56b-946a-409b-aa2b-75046a227ba7\n",
      "2c0b1547-ea48-47b9-9779-1d32a420f649\n",
      "eda65f17-7e31-4cb5-be6f-da7e36a1aa0e\n",
      "4c536ea1-cdc2-43db-a02a-8714c782a68e\n",
      "23399381-a6b6-46e3-ad3c-8c8197f383b7\n",
      "dc9963af-cdf9-4697-8d6e-06e06c5f9569\n",
      "28108842-30dd-443c-93d4-4dd5df000a88\n",
      "5c932319-4fbc-430f-9d68-dd3cf985ecb6\n",
      "0615354a-968e-4e51-8987-5ea0e63382bc\n",
      "6603430e-815b-421d-b0bf-30c1b940722f\n",
      "db9bed6e-f8a7-4099-bf0e-ec19acb91436\n",
      "1f073084-fbe3-475c-92da-4628fc9a9260\n",
      "4d8b6f4a-1ddb-4bc2-a4f8-7487130ba77a\n",
      "1c98f811-5546-4fea-b321-94cd1d4f9acf\n",
      "c50f2131-839c-451a-a4e3-7259d2a52d73\n",
      "634f3d46-9d48-465c-9f09-76b20dc036bb\n",
      "817be59f-c16b-4d10-b598-17f5154d3975\n",
      "2dfbc051-e357-4717-ad4b-37dcfea1ecdc\n",
      "692fe1ee-a646-46f1-8ba4-93b3e36c4779\n",
      "57e0f5c2-316e-4924-a04f-d19164dbf17d\n",
      "86c58390-30c5-4efe-8718-46f755271e65\n",
      "da1f6590-9b1f-4298-8277-e9413d6e936d\n",
      "7dacc697-1f15-4a38-9427-4b82f901a4f5\n",
      "adce8c47-a61c-421c-948d-c44b95ff9fe8\n",
      "22e6fb13-4276-4717-8b39-106f19ce5527\n",
      "b3bbacd8-4c57-4fdc-9f62-7d151faf2748\n",
      "f07a5f74-174f-47e2-b7ba-cd8855cc9962\n",
      "73f52832-acd5-4164-85cf-551944da1578\n",
      "a73d46b0-82ca-4c7e-b1d0-aa5909d352a7\n",
      "8307cd18-6b28-45f0-b5f4-831f7d780125\n",
      "1339026d-41d9-473c-b73d-467d0ee8d524\n",
      "aa6395f4-150a-4d70-b494-bac3bd4893f5\n",
      "e2a3ded2-e123-4e06-892b-961d3ec0081f\n",
      "98894ec9-bd7f-4ef1-b086-aec60ddee265\n",
      "72ec1661-1bec-422d-b4f4-c3016a1fc3b0\n",
      "00f58597-7112-469a-ad9a-328c7a70ed27\n",
      "ee65dc3f-843b-4026-8bf2-b6fd90c51d1b\n",
      "87b0613c-7c19-4d93-b168-1d97cb38d6e9\n",
      "8c71046f-0332-4db2-ac56-929421570db0\n",
      "f53d1e57-aef7-45a3-8cdc-d36d044384d0\n",
      "482c6620-b6fe-45bb-8fe2-49f79ff85abf\n",
      "71f3391b-5fc6-4a5b-b01e-740522aa216f\n",
      "7f5530b3-8235-419f-8d2e-0a3427e02021\n",
      "ca28d22c-c898-4c8e-8061-cf9646210ac9\n",
      "ab158fe0-11ea-447f-9976-a2bb4af524ae\n",
      "f325c468-7db2-4ea7-93d7-0077cd46ae19\n",
      "ac1256ed-3bf0-4469-b85c-25214fb0591c\n",
      "4340208c-f381-494f-860e-82f0eafea1d6\n",
      "bab5259b-795b-4548-9bb7-f1070ffc1d31\n",
      "7b9d7036-dd29-4573-975c-2e396a8b5757\n",
      "57d3cb02-baf6-4444-bde3-3071ff5aaa91\n",
      "896f003c-f757-4286-b2c5-13a7c0aee139\n",
      "ba0adbcc-7d05-4385-a000-e24210b2815e\n",
      "8acde2bb-023f-40ae-8156-0c0685905015\n",
      "82bf4815-d0c7-4dec-8bb5-4612bbec4273\n",
      "59800071-1bf4-4ec5-871e-cfaf67f9a8d4\n",
      "2fc031b5-ab5b-4bcb-bef3-5358bd2786cd\n",
      "41f5e445-55fc-4a5d-84e1-a1f20c014a67\n",
      "41275d3b-f591-4d9f-8c31-5295c3d9d153\n",
      "d6d486e6-83be-471c-ac76-3546668d86d4\n",
      "164169c6-c65b-4dd1-849d-e9d8d9e5bd2e\n",
      "049fe1d6-8cfc-41a0-b726-28338c030de5\n",
      "d6763699-0ac2-4d7e-b80c-725987a756fb\n",
      "95ffe391-806b-4809-b7cb-d5c7fa38b079\n",
      "dd96d8fe-5897-497f-a081-6fe157a7d1f1\n",
      "43285574-6b0e-4bf1-8d20-f6376c9e1864\n",
      "134b17fb-7252-40da-aedc-5b91bbe46a02\n",
      "189d98ac-9041-4048-9c38-7529757c05f8\n",
      "bcad3864-c5f5-4c68-813e-c3a7130a6e69\n",
      "f976ce91-4cd0-485f-89e0-cdce12e8308c\n",
      "a65f8102-c296-429e-923e-991ac0b16de6\n",
      "206c9b5e-9d0b-414e-8d97-609fd2e4c77c\n",
      "86eece02-ff01-42b2-8aa1-6f24e72a9ff2\n",
      "6097c33e-0e83-41ad-af54-3c0ca8b75f9a\n",
      "0463af5d-b811-452b-ab48-43fb70071bf4\n",
      "fca214c7-bae0-4b63-91ab-45bdddad8034\n",
      "6254586f-6c17-4682-9316-c7f9fd64f63b\n",
      "c4bb5e83-5a37-4517-a3f5-e57d5e3f0384\n",
      "14f8694f-73e8-4060-892f-243fbf907ff3\n",
      "c0e07592-62db-48fc-996d-6f8f19a96db0\n",
      "1843d7bb-48fe-4082-ba05-32d0eacd6743\n",
      "be40da8a-e23d-4dc9-bf37-d8c78dc9b620\n",
      "99c47ac9-f2a5-4d87-ade4-cde77da8eceb\n",
      "95913952-4b7f-4617-9076-01945261c802\n",
      "54d65817-0140-4b91-8152-e8038847379f\n",
      "39003371-637c-4f7d-9f84-51158c58a1b0\n",
      "18e587c6-eb15-4339-95b3-a85ed645c3c8\n",
      "dd9d6fb5-e0f5-4b97-8793-00b10ebb55d6\n",
      "e13f4a85-aecb-41d3-9709-ae4721a31b04\n",
      "e3df9964-e9b5-44dc-8597-456bdb0c25ac\n",
      "51b38427-b2ea-4c56-93e8-4242361ef31b\n"
     ]
    }
   ],
   "source": [
    "for idx in tool._directory.index[:100]:\n",
    "    "
   ]
  }
 ],
 "metadata": {
  "kernelspec": {
   "display_name": "Python 3",
   "language": "python",
   "name": "python3"
  },
  "language_info": {
   "codemirror_mode": {
    "name": "ipython",
    "version": 3
   },
   "file_extension": ".py",
   "mimetype": "text/x-python",
   "name": "python",
   "nbconvert_exporter": "python",
   "pygments_lexer": "ipython3",
   "version": "3.7.6"
  }
 },
 "nbformat": 4,
 "nbformat_minor": 2
}
