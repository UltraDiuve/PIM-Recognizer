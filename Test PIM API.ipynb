{
 "cells": [
  {
   "cell_type": "code",
   "execution_count": 1,
   "metadata": {},
   "outputs": [],
   "source": [
    "from src import pimapi\n",
    "import pandas as pd\n",
    "import json\n",
    "import os"
   ]
  },
  {
   "cell_type": "code",
   "execution_count": 2,
   "metadata": {},
   "outputs": [],
   "source": [
    "tool = pimapi.Requester('prd')"
   ]
  },
  {
   "cell_type": "code",
   "execution_count": 3,
   "metadata": {
    "scrolled": true
   },
   "outputs": [
    {
     "name": "stdout",
     "output_type": "stream",
     "text": [
      "b'{\"entity-type\":\"documents\",\"isPaginable\":true,\"resultsCount\":13028,\"pageSize\":1,\"maxPageSize\":1000,\"resultsCountLimit\":0,\"currentPageSize\":1,\"currentPageIndex\":0,\"currentPageOffset\":0,\"numberOfPages\":13028,\"isPreviousPageAvailable\":false,\"isNextPageAvailable\":true,\"isLastPageAvailable\":true,\"isSortable\":true,\"hasError\":false,\"errorMessage\":null,\"totalSize\":13028,\"pageIndex\":0,\"pageCount\":13028,\"entries\":[{\"entity-type\":\"document\",\"repository\":\"default\",\"uid\":\"58f67e91-6d16-4f12-97c7-e67d24be6805\",\"path\":\"/default-domain/pomSupplierWorkspace/IDHEA/Curcuma_moulu_en_sac_1_kg_LA_CASE_AUX_EPICES\",\"type\":\"pomProduct\",\"state\":\"product.waiting.supplier.validation\",\"parentRef\":\"1be762db-ce26-4ea7-927c-f3a4e8b65147\",\"isCheckedOut\":true,\"isVersion\":false,\"isProxy\":false,\"changeToken\":\"26-0\",\"isTrashed\":false,\"title\":\"Curcuma moulu en sac 1 kg LA CASE AUX EPICES\",\"lastModified\":\"2020-02-18T18:01:49.330Z\",\"properties\":{},\"facets\":[\"Versionable\",\"Folderish\",\"Commentable\",\"beginningMigration\"]}]}'\n",
      "Done\n"
     ]
    }
   ],
   "source": [
    "tool.refresh_directory()"
   ]
  },
  {
   "cell_type": "code",
   "execution_count": 4,
   "metadata": {
    "scrolled": true
   },
   "outputs": [
    {
     "name": "stdout",
     "output_type": "stream",
     "text": [
      "Number of items: 13041\n",
      "Number of items with outdated data: 564\n",
      "Number of items with outdated files: 564\n"
     ]
    }
   ],
   "source": [
    "tool.modification_report()"
   ]
  },
  {
   "cell_type": "code",
   "execution_count": 5,
   "metadata": {},
   "outputs": [
    {
     "name": "stdout",
     "output_type": "stream",
     "text": [
      "Done\n"
     ]
    }
   ],
   "source": [
    "tool.fetch_list_from_PIM(tool.modified_items(what='any', max_results=5), batch_size=20)"
   ]
  },
  {
   "cell_type": "code",
   "execution_count": 11,
   "metadata": {},
   "outputs": [
    {
     "data": {
      "text/plain": [
       "int"
      ]
     },
     "execution_count": 11,
     "metadata": {},
     "output_type": "execute_result"
    }
   ],
   "source": [
    "type(tool.result[0].status_code)"
   ]
  },
  {
   "cell_type": "code",
   "execution_count": null,
   "metadata": {
    "scrolled": false
   },
   "outputs": [],
   "source": [
    "tool.dump_data_from_result(update_directory=False, root_path=os.path.join('.', 'ground_truth'))"
   ]
  },
  {
   "cell_type": "code",
   "execution_count": null,
   "metadata": {
    "scrolled": true
   },
   "outputs": [],
   "source": [
    "tool.dump_files_from_result(update_directory=False, root_path=os.path.join('.', 'ground_truth'))"
   ]
  },
  {
   "cell_type": "code",
   "execution_count": null,
   "metadata": {},
   "outputs": [],
   "source": [
    "tool.modification_report()"
   ]
  },
  {
   "cell_type": "code",
   "execution_count": null,
   "metadata": {},
   "outputs": [],
   "source": [
    "tool.dump_data_from_result()"
   ]
  },
  {
   "cell_type": "code",
   "execution_count": null,
   "metadata": {},
   "outputs": [],
   "source": [
    "tool.dump_files_from_result()"
   ]
  },
  {
   "cell_type": "code",
   "execution_count": null,
   "metadata": {},
   "outputs": [],
   "source": [
    "tool.modification_report()"
   ]
  },
  {
   "cell_type": "code",
   "execution_count": null,
   "metadata": {},
   "outputs": [],
   "source": [
    "tool.fetch_list_from_PIM(tool.modified_items(what='any', max_results=None), batch_size=20)\n",
    "tool.modification_report()\n",
    "tool.dump_data_from_result()\n",
    "tool.dump_files_from_result()\n",
    "tool.modification_report()"
   ]
  },
  {
   "cell_type": "code",
   "execution_count": null,
   "metadata": {},
   "outputs": [],
   "source": [
    "tool.fetch_all_from_PIM(max_page=-1, page_size=1000)"
   ]
  },
  {
   "cell_type": "code",
   "execution_count": null,
   "metadata": {},
   "outputs": [],
   "source": [
    "mapping = {'uid': 'uid', 'Libellé': 'title', 'Ingrédients': 'properties.pprodc:ingredientsList'}\n",
    "tool.result_to_dataframe(record_path='entries', mapping=mapping, index='uid')"
   ]
  },
  {
   "cell_type": "code",
   "execution_count": null,
   "metadata": {},
   "outputs": [],
   "source": [
    "mapping = {'uid': 'uid',\n",
    "           'Libellé': 'title',\n",
    "           'Ingrédients': 'properties.pprodc:ingredientsList',\n",
    "           'Type': 'properties.pprodtop:typeOfProduct'}\n",
    "df=tool.file_report_from_result(mapping, index='uid')\n",
    "df"
   ]
  },
  {
   "cell_type": "code",
   "execution_count": null,
   "metadata": {},
   "outputs": [],
   "source": [
    "tool._directory.index[:100]"
   ]
  },
  {
   "cell_type": "code",
   "execution_count": null,
   "metadata": {},
   "outputs": [],
   "source": [
    "for idx in tool._directory.index[:100]:\n",
    "    "
   ]
  }
 ],
 "metadata": {
  "kernelspec": {
   "display_name": "Python 3",
   "language": "python",
   "name": "python3"
  },
  "language_info": {
   "codemirror_mode": {
    "name": "ipython",
    "version": 3
   },
   "file_extension": ".py",
   "mimetype": "text/x-python",
   "name": "python",
   "nbconvert_exporter": "python",
   "pygments_lexer": "ipython3",
   "version": "3.7.6"
  }
 },
 "nbformat": 4,
 "nbformat_minor": 2
}
