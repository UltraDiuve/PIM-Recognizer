{
 "cells": [
  {
   "cell_type": "code",
   "execution_count": 8,
   "metadata": {},
   "outputs": [],
   "source": [
    "from src import pimapi\n",
    "import pandas as pd\n",
    "import json"
   ]
  },
  {
   "cell_type": "code",
   "execution_count": 2,
   "metadata": {},
   "outputs": [],
   "source": [
    "tool = pimapi.Requester('rec')"
   ]
  },
  {
   "cell_type": "code",
   "execution_count": 9,
   "metadata": {},
   "outputs": [
    {
     "data": {
      "text/html": [
       "<div>\n",
       "<style scoped>\n",
       "    .dataframe tbody tr th:only-of-type {\n",
       "        vertical-align: middle;\n",
       "    }\n",
       "\n",
       "    .dataframe tbody tr th {\n",
       "        vertical-align: top;\n",
       "    }\n",
       "\n",
       "    .dataframe thead th {\n",
       "        text-align: right;\n",
       "    }\n",
       "</style>\n",
       "<table border=\"1\" class=\"dataframe\">\n",
       "  <thead>\n",
       "    <tr style=\"text-align: right;\">\n",
       "      <th></th>\n",
       "      <th>type</th>\n",
       "      <th>title</th>\n",
       "      <th>lastModified</th>\n",
       "      <th>lastRefreshed</th>\n",
       "      <th>lastFetchedData</th>\n",
       "      <th>lastFetchedFiles</th>\n",
       "    </tr>\n",
       "    <tr>\n",
       "      <th>uid</th>\n",
       "      <th></th>\n",
       "      <th></th>\n",
       "      <th></th>\n",
       "      <th></th>\n",
       "      <th></th>\n",
       "      <th></th>\n",
       "    </tr>\n",
       "  </thead>\n",
       "  <tbody>\n",
       "    <tr>\n",
       "      <th>58f67e91-6d16-4f12-97c7-e67d24be6805</th>\n",
       "      <td>pomProduct</td>\n",
       "      <td>Curcuma moulu en sac 1 kg LA CASE AUX EPICES</td>\n",
       "      <td>2019-12-06 11:24:21.231000+00:00</td>\n",
       "      <td>2020-01-27 17:36:55.253607+00:00</td>\n",
       "      <td>2020-01-28 08:38:30.544830+00:00</td>\n",
       "      <td>2020-01-28 09:37:25.750086+00:00</td>\n",
       "    </tr>\n",
       "    <tr>\n",
       "      <th>f46327cf-8f3c-4b67-85fa-7e6e6daaf618</th>\n",
       "      <td>pomProduct</td>\n",
       "      <td>Pique à viande bleu en sachet de 100 HIPPOPOTAMUS</td>\n",
       "      <td>2019-12-06 11:30:25.439000+00:00</td>\n",
       "      <td>2020-01-27 17:36:55.253607+00:00</td>\n",
       "      <td>2020-01-28 08:38:30.544830+00:00</td>\n",
       "      <td>2020-01-28 09:37:25.750086+00:00</td>\n",
       "    </tr>\n",
       "    <tr>\n",
       "      <th>58a1ae66-ca4d-4d82-9d30-4073b1edaeb8</th>\n",
       "      <td>pomProduct</td>\n",
       "      <td>Pique à viande rouge en sachet de 100 HIPPOPOT...</td>\n",
       "      <td>2019-12-06 11:33:51.572000+00:00</td>\n",
       "      <td>2020-01-27 17:36:55.253607+00:00</td>\n",
       "      <td>2020-01-28 08:38:30.544830+00:00</td>\n",
       "      <td>2020-01-28 09:37:25.750086+00:00</td>\n",
       "    </tr>\n",
       "    <tr>\n",
       "      <th>9bc59474-7839-458b-b56a-ba334fe4894b</th>\n",
       "      <td>pomProduct</td>\n",
       "      <td>Pique à viande noir en sachet de 100 HIPPOPOTAMUS</td>\n",
       "      <td>2019-12-06 11:28:45.076000+00:00</td>\n",
       "      <td>2020-01-27 17:36:55.253607+00:00</td>\n",
       "      <td>2020-01-28 08:38:30.544830+00:00</td>\n",
       "      <td>2020-01-28 09:37:25.750086+00:00</td>\n",
       "    </tr>\n",
       "    <tr>\n",
       "      <th>c97834e7-124e-4491-9f2a-3e4009fdda4e</th>\n",
       "      <td>pomProduct</td>\n",
       "      <td>Pique à viande marron en sachet de 100 HIPPOPO...</td>\n",
       "      <td>2019-12-06 11:33:52.521000+00:00</td>\n",
       "      <td>2020-01-27 17:36:55.253607+00:00</td>\n",
       "      <td>2020-01-28 08:38:30.544830+00:00</td>\n",
       "      <td>2020-01-28 09:37:25.750086+00:00</td>\n",
       "    </tr>\n",
       "    <tr>\n",
       "      <th>7f45aa58-2d86-49ae-a5ef-651751f77f61</th>\n",
       "      <td>pomProduct</td>\n",
       "      <td>Agitateur 18 cm en plastique rouge en sachet d...</td>\n",
       "      <td>2019-12-06 11:30:24.509000+00:00</td>\n",
       "      <td>2020-01-27 17:36:43.719036+00:00</td>\n",
       "      <td>2020-01-28 08:38:30.544830+00:00</td>\n",
       "      <td>2020-01-28 09:37:25.750086+00:00</td>\n",
       "    </tr>\n",
       "    <tr>\n",
       "      <th>e779269a-d4d1-4a7a-aa4d-2b663d9a50a2</th>\n",
       "      <td>pomProduct</td>\n",
       "      <td>Cannelle moulue en sachet 1 kg LA CASE AUX EPICES</td>\n",
       "      <td>2019-12-06 11:07:40.304000+00:00</td>\n",
       "      <td>2020-01-27 17:36:43.719036+00:00</td>\n",
       "      <td>2020-01-28 08:38:30.544830+00:00</td>\n",
       "      <td>2020-01-28 09:37:25.750086+00:00</td>\n",
       "    </tr>\n",
       "    <tr>\n",
       "      <th>6f1b28a1-d9af-434b-ad90-d59a11aeefb9</th>\n",
       "      <td>pomProduct</td>\n",
       "      <td>Palet pur beurre en étui 16 g LE STER</td>\n",
       "      <td>2019-08-12 14:05:13.491000+00:00</td>\n",
       "      <td>2020-01-27 17:36:43.719036+00:00</td>\n",
       "      <td>2020-01-28 08:38:30.544830+00:00</td>\n",
       "      <td>2020-01-28 09:37:25.750086+00:00</td>\n",
       "    </tr>\n",
       "    <tr>\n",
       "      <th>6bcc6971-16e6-4432-b522-a45634774a46</th>\n",
       "      <td>pomProduct</td>\n",
       "      <td>Curry doux en sachet 1 kg LA CASE AUX EPICES</td>\n",
       "      <td>2019-12-06 11:18:15.420000+00:00</td>\n",
       "      <td>2020-01-27 17:36:43.719036+00:00</td>\n",
       "      <td>2020-01-28 08:38:30.544830+00:00</td>\n",
       "      <td>2020-01-28 09:37:25.750086+00:00</td>\n",
       "    </tr>\n",
       "    <tr>\n",
       "      <th>2ba0e56b-946a-409b-aa2b-75046a227ba7</th>\n",
       "      <td>pomProduct</td>\n",
       "      <td>Délichoc en étui 25 g DELACRE</td>\n",
       "      <td>2019-04-28 03:50:53.215000+00:00</td>\n",
       "      <td>2020-01-27 17:36:43.719036+00:00</td>\n",
       "      <td>2020-01-28 08:38:30.544830+00:00</td>\n",
       "      <td>2020-01-28 09:37:25.750086+00:00</td>\n",
       "    </tr>\n",
       "  </tbody>\n",
       "</table>\n",
       "</div>"
      ],
      "text/plain": [
       "                                            type  \\\n",
       "uid                                                \n",
       "58f67e91-6d16-4f12-97c7-e67d24be6805  pomProduct   \n",
       "f46327cf-8f3c-4b67-85fa-7e6e6daaf618  pomProduct   \n",
       "58a1ae66-ca4d-4d82-9d30-4073b1edaeb8  pomProduct   \n",
       "9bc59474-7839-458b-b56a-ba334fe4894b  pomProduct   \n",
       "c97834e7-124e-4491-9f2a-3e4009fdda4e  pomProduct   \n",
       "7f45aa58-2d86-49ae-a5ef-651751f77f61  pomProduct   \n",
       "e779269a-d4d1-4a7a-aa4d-2b663d9a50a2  pomProduct   \n",
       "6f1b28a1-d9af-434b-ad90-d59a11aeefb9  pomProduct   \n",
       "6bcc6971-16e6-4432-b522-a45634774a46  pomProduct   \n",
       "2ba0e56b-946a-409b-aa2b-75046a227ba7  pomProduct   \n",
       "\n",
       "                                                                                  title  \\\n",
       "uid                                                                                       \n",
       "58f67e91-6d16-4f12-97c7-e67d24be6805       Curcuma moulu en sac 1 kg LA CASE AUX EPICES   \n",
       "f46327cf-8f3c-4b67-85fa-7e6e6daaf618  Pique à viande bleu en sachet de 100 HIPPOPOTAMUS   \n",
       "58a1ae66-ca4d-4d82-9d30-4073b1edaeb8  Pique à viande rouge en sachet de 100 HIPPOPOT...   \n",
       "9bc59474-7839-458b-b56a-ba334fe4894b  Pique à viande noir en sachet de 100 HIPPOPOTAMUS   \n",
       "c97834e7-124e-4491-9f2a-3e4009fdda4e  Pique à viande marron en sachet de 100 HIPPOPO...   \n",
       "7f45aa58-2d86-49ae-a5ef-651751f77f61  Agitateur 18 cm en plastique rouge en sachet d...   \n",
       "e779269a-d4d1-4a7a-aa4d-2b663d9a50a2  Cannelle moulue en sachet 1 kg LA CASE AUX EPICES   \n",
       "6f1b28a1-d9af-434b-ad90-d59a11aeefb9              Palet pur beurre en étui 16 g LE STER   \n",
       "6bcc6971-16e6-4432-b522-a45634774a46       Curry doux en sachet 1 kg LA CASE AUX EPICES   \n",
       "2ba0e56b-946a-409b-aa2b-75046a227ba7                      Délichoc en étui 25 g DELACRE   \n",
       "\n",
       "                                                         lastModified  \\\n",
       "uid                                                                     \n",
       "58f67e91-6d16-4f12-97c7-e67d24be6805 2019-12-06 11:24:21.231000+00:00   \n",
       "f46327cf-8f3c-4b67-85fa-7e6e6daaf618 2019-12-06 11:30:25.439000+00:00   \n",
       "58a1ae66-ca4d-4d82-9d30-4073b1edaeb8 2019-12-06 11:33:51.572000+00:00   \n",
       "9bc59474-7839-458b-b56a-ba334fe4894b 2019-12-06 11:28:45.076000+00:00   \n",
       "c97834e7-124e-4491-9f2a-3e4009fdda4e 2019-12-06 11:33:52.521000+00:00   \n",
       "7f45aa58-2d86-49ae-a5ef-651751f77f61 2019-12-06 11:30:24.509000+00:00   \n",
       "e779269a-d4d1-4a7a-aa4d-2b663d9a50a2 2019-12-06 11:07:40.304000+00:00   \n",
       "6f1b28a1-d9af-434b-ad90-d59a11aeefb9 2019-08-12 14:05:13.491000+00:00   \n",
       "6bcc6971-16e6-4432-b522-a45634774a46 2019-12-06 11:18:15.420000+00:00   \n",
       "2ba0e56b-946a-409b-aa2b-75046a227ba7 2019-04-28 03:50:53.215000+00:00   \n",
       "\n",
       "                                                        lastRefreshed  \\\n",
       "uid                                                                     \n",
       "58f67e91-6d16-4f12-97c7-e67d24be6805 2020-01-27 17:36:55.253607+00:00   \n",
       "f46327cf-8f3c-4b67-85fa-7e6e6daaf618 2020-01-27 17:36:55.253607+00:00   \n",
       "58a1ae66-ca4d-4d82-9d30-4073b1edaeb8 2020-01-27 17:36:55.253607+00:00   \n",
       "9bc59474-7839-458b-b56a-ba334fe4894b 2020-01-27 17:36:55.253607+00:00   \n",
       "c97834e7-124e-4491-9f2a-3e4009fdda4e 2020-01-27 17:36:55.253607+00:00   \n",
       "7f45aa58-2d86-49ae-a5ef-651751f77f61 2020-01-27 17:36:43.719036+00:00   \n",
       "e779269a-d4d1-4a7a-aa4d-2b663d9a50a2 2020-01-27 17:36:43.719036+00:00   \n",
       "6f1b28a1-d9af-434b-ad90-d59a11aeefb9 2020-01-27 17:36:43.719036+00:00   \n",
       "6bcc6971-16e6-4432-b522-a45634774a46 2020-01-27 17:36:43.719036+00:00   \n",
       "2ba0e56b-946a-409b-aa2b-75046a227ba7 2020-01-27 17:36:43.719036+00:00   \n",
       "\n",
       "                                                      lastFetchedData  \\\n",
       "uid                                                                     \n",
       "58f67e91-6d16-4f12-97c7-e67d24be6805 2020-01-28 08:38:30.544830+00:00   \n",
       "f46327cf-8f3c-4b67-85fa-7e6e6daaf618 2020-01-28 08:38:30.544830+00:00   \n",
       "58a1ae66-ca4d-4d82-9d30-4073b1edaeb8 2020-01-28 08:38:30.544830+00:00   \n",
       "9bc59474-7839-458b-b56a-ba334fe4894b 2020-01-28 08:38:30.544830+00:00   \n",
       "c97834e7-124e-4491-9f2a-3e4009fdda4e 2020-01-28 08:38:30.544830+00:00   \n",
       "7f45aa58-2d86-49ae-a5ef-651751f77f61 2020-01-28 08:38:30.544830+00:00   \n",
       "e779269a-d4d1-4a7a-aa4d-2b663d9a50a2 2020-01-28 08:38:30.544830+00:00   \n",
       "6f1b28a1-d9af-434b-ad90-d59a11aeefb9 2020-01-28 08:38:30.544830+00:00   \n",
       "6bcc6971-16e6-4432-b522-a45634774a46 2020-01-28 08:38:30.544830+00:00   \n",
       "2ba0e56b-946a-409b-aa2b-75046a227ba7 2020-01-28 08:38:30.544830+00:00   \n",
       "\n",
       "                                                     lastFetchedFiles  \n",
       "uid                                                                    \n",
       "58f67e91-6d16-4f12-97c7-e67d24be6805 2020-01-28 09:37:25.750086+00:00  \n",
       "f46327cf-8f3c-4b67-85fa-7e6e6daaf618 2020-01-28 09:37:25.750086+00:00  \n",
       "58a1ae66-ca4d-4d82-9d30-4073b1edaeb8 2020-01-28 09:37:25.750086+00:00  \n",
       "9bc59474-7839-458b-b56a-ba334fe4894b 2020-01-28 09:37:25.750086+00:00  \n",
       "c97834e7-124e-4491-9f2a-3e4009fdda4e 2020-01-28 09:37:25.750086+00:00  \n",
       "7f45aa58-2d86-49ae-a5ef-651751f77f61 2020-01-28 09:37:25.750086+00:00  \n",
       "e779269a-d4d1-4a7a-aa4d-2b663d9a50a2 2020-01-28 09:37:25.750086+00:00  \n",
       "6f1b28a1-d9af-434b-ad90-d59a11aeefb9 2020-01-28 09:37:25.750086+00:00  \n",
       "6bcc6971-16e6-4432-b522-a45634774a46 2020-01-28 09:37:25.750086+00:00  \n",
       "2ba0e56b-946a-409b-aa2b-75046a227ba7 2020-01-28 09:37:25.750086+00:00  "
      ]
     },
     "execution_count": 9,
     "metadata": {},
     "output_type": "execute_result"
    }
   ],
   "source": [
    "tool._directory.loc[~pd.isna(tool._directory['lastFetchedFiles'])]"
   ]
  },
  {
   "cell_type": "code",
   "execution_count": 3,
   "metadata": {},
   "outputs": [
    {
     "name": "stderr",
     "output_type": "stream",
     "text": [
      "C:\\Users\\pmasse\\Pyprojects\\PIM-Recognizer\\src\\pimapi.py:117: UserWarning: \n",
      "Max size reached ! \n",
      "Only 10 results will be fetched out of 13664 results\n",
      "\n",
      "  warnings.warn(f'\\nMax size reached ! \\n'\n",
      "10/10 [#######################################################################]\n"
     ]
    },
    {
     "name": "stdout",
     "output_type": "stream",
     "text": [
      "Running query with parameters max_page:1, page_size:10\n"
     ]
    }
   ],
   "source": [
    "tool.fetch_from_PIM(nx_properties='*', max_page=1, page_size=10)"
   ]
  },
  {
   "cell_type": "code",
   "execution_count": 4,
   "metadata": {},
   "outputs": [],
   "source": [
    "tool.dump_files_from_result()"
   ]
  },
  {
   "cell_type": "code",
   "execution_count": null,
   "metadata": {},
   "outputs": [],
   "source": [
    "tool._directory.groupby('lastFetchedData').count()"
   ]
  },
  {
   "cell_type": "code",
   "execution_count": null,
   "metadata": {},
   "outputs": [],
   "source": [
    "tool.result[0].json()['entries'][1]"
   ]
  },
  {
   "cell_type": "code",
   "execution_count": null,
   "metadata": {},
   "outputs": [],
   "source": [
    "with open(u'C:\\\\Users\\\\pmasse\\\\Pyprojects\\\\PIM-Recognizer\\\\dumps\\\\prout.json', 'w+') as outfile:\n",
    "    json.dump(tool.result[0].json()['entries'][0],outfile)"
   ]
  },
  {
   "cell_type": "code",
   "execution_count": null,
   "metadata": {},
   "outputs": [],
   "source": []
  },
  {
   "cell_type": "code",
   "execution_count": null,
   "metadata": {},
   "outputs": [],
   "source": [
    "tool.fetch_modified_files(max_page=1, page_size=1000)"
   ]
  },
  {
   "cell_type": "code",
   "execution_count": null,
   "metadata": {},
   "outputs": [],
   "source": []
  },
  {
   "cell_type": "code",
   "execution_count": null,
   "metadata": {},
   "outputs": [],
   "source": [
    "tool._directory.dtypes"
   ]
  },
  {
   "cell_type": "code",
   "execution_count": null,
   "metadata": {},
   "outputs": [],
   "source": [
    "tool.fetch_from_PIM(nx_properties='')"
   ]
  },
  {
   "cell_type": "code",
   "execution_count": null,
   "metadata": {},
   "outputs": [],
   "source": [
    "tool.get_directory2()"
   ]
  },
  {
   "cell_type": "code",
   "execution_count": null,
   "metadata": {},
   "outputs": [],
   "source": [
    "tool.get_directory()"
   ]
  },
  {
   "cell_type": "code",
   "execution_count": null,
   "metadata": {},
   "outputs": [],
   "source": [
    "tool.fetch_from_PIM(nx_properties='')"
   ]
  },
  {
   "cell_type": "code",
   "execution_count": null,
   "metadata": {},
   "outputs": [],
   "source": [
    "tool.result.json()"
   ]
  },
  {
   "cell_type": "code",
   "execution_count": null,
   "metadata": {},
   "outputs": [],
   "source": [
    "tool.get_directory()"
   ]
  },
  {
   "cell_type": "code",
   "execution_count": null,
   "metadata": {},
   "outputs": [],
   "source": [
    "tool.result2.json()"
   ]
  },
  {
   "cell_type": "code",
   "execution_count": null,
   "metadata": {},
   "outputs": [],
   "source": []
  },
  {
   "cell_type": "code",
   "execution_count": null,
   "metadata": {},
   "outputs": [],
   "source": []
  },
  {
   "cell_type": "code",
   "execution_count": null,
   "metadata": {},
   "outputs": [],
   "source": [
    "tool.reset_directory(page_size=1000, max_page=-1)"
   ]
  },
  {
   "cell_type": "code",
   "execution_count": null,
   "metadata": {},
   "outputs": [],
   "source": [
    "tool._directory"
   ]
  },
  {
   "cell_type": "code",
   "execution_count": null,
   "metadata": {},
   "outputs": [],
   "source": [
    "tool._directory.dtypes"
   ]
  },
  {
   "cell_type": "code",
   "execution_count": null,
   "metadata": {},
   "outputs": [],
   "source": [
    "tool.get_info_from_uid('58f67e91-6d16-4f12-97c7-e67d24be6805')"
   ]
  },
  {
   "cell_type": "code",
   "execution_count": null,
   "metadata": {},
   "outputs": [],
   "source": [
    "tool.result.json()"
   ]
  },
  {
   "cell_type": "code",
   "execution_count": null,
   "metadata": {},
   "outputs": [],
   "source": [
    "tool.fetch_modified_files()"
   ]
  },
  {
   "cell_type": "code",
   "execution_count": null,
   "metadata": {},
   "outputs": [],
   "source": [
    "tool._directory"
   ]
  },
  {
   "cell_type": "code",
   "execution_count": null,
   "metadata": {},
   "outputs": [],
   "source": [
    "tool.refresh_directory(max_page=1, page_size=5)"
   ]
  },
  {
   "cell_type": "code",
   "execution_count": null,
   "metadata": {},
   "outputs": [],
   "source": [
    "tool._directory.groupby('lastRefreshed').count()"
   ]
  },
  {
   "cell_type": "code",
   "execution_count": null,
   "metadata": {},
   "outputs": [],
   "source": [
    "tool.fetch_modified()"
   ]
  }
 ],
 "metadata": {
  "kernelspec": {
   "display_name": "Python 3",
   "language": "python",
   "name": "python3"
  },
  "language_info": {
   "codemirror_mode": {
    "name": "ipython",
    "version": 3
   },
   "file_extension": ".py",
   "mimetype": "text/x-python",
   "name": "python",
   "nbconvert_exporter": "python",
   "pygments_lexer": "ipython3",
   "version": "3.7.6"
  }
 },
 "nbformat": 4,
 "nbformat_minor": 2
}
