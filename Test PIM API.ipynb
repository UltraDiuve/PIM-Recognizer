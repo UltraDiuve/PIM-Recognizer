{
 "cells": [
  {
   "cell_type": "code",
   "execution_count": 1,
   "metadata": {},
   "outputs": [],
   "source": [
    "from src import pimapi\n",
    "import pandas as pd\n",
    "import json\n",
    "import os"
   ]
  },
  {
   "cell_type": "code",
   "execution_count": 2,
   "metadata": {},
   "outputs": [],
   "source": [
    "tool = pimapi.Requester('prd')"
   ]
  },
  {
   "cell_type": "code",
   "execution_count": 3,
   "metadata": {
    "scrolled": true
   },
   "outputs": [
    {
     "name": "stderr",
     "output_type": "stream",
     "text": [
      "C:\\Users\\pmasse\\Pyprojects\\PIM-Recognizer\\src\\pimapi.py:122: UserWarning: \n",
      "Max size reached ! \n",
      "Only 5 results will be fetched out of 13296 results\n",
      "\n",
      "  warnings.warn(f'\\nMax size reached ! \\n'\n"
     ]
    },
    {
     "name": "stdout",
     "output_type": "stream",
     "text": [
      "Done\n"
     ]
    }
   ],
   "source": [
    "tool.refresh_directory(max_page=1, page_size=5)"
   ]
  },
  {
   "cell_type": "code",
   "execution_count": null,
   "metadata": {
    "scrolled": true
   },
   "outputs": [],
   "source": [
    "tool.modification_report()"
   ]
  },
  {
   "cell_type": "code",
   "execution_count": 4,
   "metadata": {},
   "outputs": [
    {
     "name": "stdout",
     "output_type": "stream",
     "text": [
      "Done\n"
     ]
    }
   ],
   "source": [
    "tool.fetch_list_from_PIM(tool.modified_items(what='any', max_results=5), batch_size=20)"
   ]
  },
  {
   "cell_type": "code",
   "execution_count": null,
   "metadata": {
    "scrolled": false
   },
   "outputs": [],
   "source": [
    "tool.dump_data_from_result(update_directory=False, root_path=os.path.join('.', 'ground_truth'))"
   ]
  },
  {
   "cell_type": "code",
   "execution_count": null,
   "metadata": {
    "scrolled": true
   },
   "outputs": [],
   "source": [
    "tool.dump_files_from_result(update_directory=False, root_path=os.path.join('.', 'ground_truth'))"
   ]
  },
  {
   "cell_type": "code",
   "execution_count": null,
   "metadata": {},
   "outputs": [],
   "source": [
    "tool.modification_report()"
   ]
  },
  {
   "cell_type": "code",
   "execution_count": null,
   "metadata": {},
   "outputs": [],
   "source": [
    "tool.dump_data_from_result()"
   ]
  },
  {
   "cell_type": "code",
   "execution_count": null,
   "metadata": {},
   "outputs": [],
   "source": [
    "tool.dump_files_from_result()"
   ]
  },
  {
   "cell_type": "code",
   "execution_count": null,
   "metadata": {},
   "outputs": [],
   "source": [
    "tool.modification_report()"
   ]
  },
  {
   "cell_type": "code",
   "execution_count": null,
   "metadata": {},
   "outputs": [],
   "source": [
    "tool.fetch_list_from_PIM(tool.modified_items(what='any', max_results=None), batch_size=20)\n",
    "tool.modification_report()\n",
    "tool.dump_data_from_result()\n",
    "tool.dump_files_from_result()\n",
    "tool.modification_report()"
   ]
  },
  {
   "cell_type": "code",
   "execution_count": null,
   "metadata": {},
   "outputs": [],
   "source": [
    "tool.fetch_all_from_PIM(max_page=-1, page_size=1000)\n",
    "tool.result"
   ]
  },
  {
   "cell_type": "code",
   "execution_count": null,
   "metadata": {},
   "outputs": [],
   "source": [
    "mapping = {'uid': 'uid',\n",
    "           'Libellé': 'title',\n",
    "           'Ingrédients': 'properties.pprodc:ingredientsList', \n",
    "            'Code': 'properties.vig:code'}\n",
    "tool.result_to_dataframe(record_path='entries', mapping=mapping, index='uid')"
   ]
  },
  {
   "cell_type": "code",
   "execution_count": null,
   "metadata": {},
   "outputs": [],
   "source": [
    "mapping = {'uid': 'uid',\n",
    "           'Libellé': 'title',\n",
    "           'Ingrédients': 'properties.pprodc:ingredientsList',\n",
    "           'Type': 'properties.pprodtop:typeOfProduct'}\n",
    "df=tool.file_report_from_result(mapping, index='uid')\n",
    "df"
   ]
  },
  {
   "cell_type": "code",
   "execution_count": null,
   "metadata": {},
   "outputs": [],
   "source": [
    "tool._directory.index[:100]"
   ]
  },
  {
   "cell_type": "code",
   "execution_count": null,
   "metadata": {},
   "outputs": [],
   "source": [
    "for idx in tool._directory.index[:100]:\n",
    "    "
   ]
  },
  {
   "cell_type": "code",
   "execution_count": null,
   "metadata": {},
   "outputs": [],
   "source": [
    "tool.result"
   ]
  },
  {
   "cell_type": "code",
   "execution_count": 5,
   "metadata": {},
   "outputs": [
    {
     "data": {
      "text/html": [
       "<div>\n",
       "<style scoped>\n",
       "    .dataframe tbody tr th:only-of-type {\n",
       "        vertical-align: middle;\n",
       "    }\n",
       "\n",
       "    .dataframe tbody tr th {\n",
       "        vertical-align: top;\n",
       "    }\n",
       "\n",
       "    .dataframe thead th {\n",
       "        text-align: right;\n",
       "    }\n",
       "</style>\n",
       "<table border=\"1\" class=\"dataframe\">\n",
       "  <thead>\n",
       "    <tr style=\"text-align: right;\">\n",
       "      <th></th>\n",
       "      <th>Libellé</th>\n",
       "      <th>Ingrédients</th>\n",
       "      <th>Code</th>\n",
       "    </tr>\n",
       "    <tr>\n",
       "      <th>uid</th>\n",
       "      <th></th>\n",
       "      <th></th>\n",
       "      <th></th>\n",
       "    </tr>\n",
       "  </thead>\n",
       "  <tbody>\n",
       "    <tr>\n",
       "      <th>58f67e91-6d16-4f12-97c7-e67d24be6805</th>\n",
       "      <td>114101 CURCUMA MOULU</td>\n",
       "      <td>Curcuma. Peut contenir des traces de Céleri, M...</td>\n",
       "      <td>PIMP-0000000001</td>\n",
       "    </tr>\n",
       "    <tr>\n",
       "      <th>6f1b28a1-d9af-434b-ad90-d59a11aeefb9</th>\n",
       "      <td>PALET PUR BEURRE EN ÉTUI 15.5G LE STER</td>\n",
       "      <td>Farine de BLE, sucre, BEURRE pâtissier 24%, OE...</td>\n",
       "      <td>PIMP-0000000008</td>\n",
       "    </tr>\n",
       "    <tr>\n",
       "      <th>98894ec9-bd7f-4ef1-b086-aec60ddee265</th>\n",
       "      <td>Purée pomme-coing en coupelle 100 g VALADE EN ...</td>\n",
       "      <td>Purée de pommes 69%, jus de coings à base de c...</td>\n",
       "      <td>PIMP-0000000043</td>\n",
       "    </tr>\n",
       "    <tr>\n",
       "      <th>c0e07592-62db-48fc-996d-6f8f19a96db0</th>\n",
       "      <td>Haricots verts coupés, bâtonnets de carotte en...</td>\n",
       "      <td>Légumes (Haricots verts coupés (45%), carottes...</td>\n",
       "      <td>PIMP-0000000089</td>\n",
       "    </tr>\n",
       "    <tr>\n",
       "      <th>f07a5f74-174f-47e2-b7ba-cd8855cc9962</th>\n",
       "      <td>Vermicelle aux œufs en paquet 250 g LUSTUCRU</td>\n",
       "      <td>Semoule de BLE dur de qualité supérieure, OEUF...</td>\n",
       "      <td>PIMP-0000000036</td>\n",
       "    </tr>\n",
       "  </tbody>\n",
       "</table>\n",
       "</div>"
      ],
      "text/plain": [
       "                                                                                Libellé  \\\n",
       "uid                                                                                       \n",
       "58f67e91-6d16-4f12-97c7-e67d24be6805                               114101 CURCUMA MOULU   \n",
       "6f1b28a1-d9af-434b-ad90-d59a11aeefb9             PALET PUR BEURRE EN ÉTUI 15.5G LE STER   \n",
       "98894ec9-bd7f-4ef1-b086-aec60ddee265  Purée pomme-coing en coupelle 100 g VALADE EN ...   \n",
       "c0e07592-62db-48fc-996d-6f8f19a96db0  Haricots verts coupés, bâtonnets de carotte en...   \n",
       "f07a5f74-174f-47e2-b7ba-cd8855cc9962       Vermicelle aux œufs en paquet 250 g LUSTUCRU   \n",
       "\n",
       "                                                                            Ingrédients  \\\n",
       "uid                                                                                       \n",
       "58f67e91-6d16-4f12-97c7-e67d24be6805  Curcuma. Peut contenir des traces de Céleri, M...   \n",
       "6f1b28a1-d9af-434b-ad90-d59a11aeefb9  Farine de BLE, sucre, BEURRE pâtissier 24%, OE...   \n",
       "98894ec9-bd7f-4ef1-b086-aec60ddee265  Purée de pommes 69%, jus de coings à base de c...   \n",
       "c0e07592-62db-48fc-996d-6f8f19a96db0  Légumes (Haricots verts coupés (45%), carottes...   \n",
       "f07a5f74-174f-47e2-b7ba-cd8855cc9962  Semoule de BLE dur de qualité supérieure, OEUF...   \n",
       "\n",
       "                                                 Code  \n",
       "uid                                                    \n",
       "58f67e91-6d16-4f12-97c7-e67d24be6805  PIMP-0000000001  \n",
       "6f1b28a1-d9af-434b-ad90-d59a11aeefb9  PIMP-0000000008  \n",
       "98894ec9-bd7f-4ef1-b086-aec60ddee265  PIMP-0000000043  \n",
       "c0e07592-62db-48fc-996d-6f8f19a96db0  PIMP-0000000089  \n",
       "f07a5f74-174f-47e2-b7ba-cd8855cc9962  PIMP-0000000036  "
      ]
     },
     "execution_count": 5,
     "metadata": {},
     "output_type": "execute_result"
    }
   ],
   "source": [
    "mapping = {'uid': 'uid',\n",
    "           'Libellé': 'title',\n",
    "           'Ingrédients': 'properties.pprodc:ingredientsList', \n",
    "            'Code': 'properties.vig:code'}\n",
    "df = tool.result_to_dataframe(record_path='entries', mapping=mapping, index='uid')\n",
    "df"
   ]
  },
  {
   "cell_type": "code",
   "execution_count": 7,
   "metadata": {},
   "outputs": [
    {
     "data": {
      "text/html": [
       "<div>\n",
       "<style scoped>\n",
       "    .dataframe tbody tr th:only-of-type {\n",
       "        vertical-align: middle;\n",
       "    }\n",
       "\n",
       "    .dataframe tbody tr th {\n",
       "        vertical-align: top;\n",
       "    }\n",
       "\n",
       "    .dataframe thead th {\n",
       "        text-align: right;\n",
       "    }\n",
       "</style>\n",
       "<table border=\"1\" class=\"dataframe\">\n",
       "  <thead>\n",
       "    <tr style=\"text-align: right;\">\n",
       "      <th></th>\n",
       "      <th>has_supplierdatasheet</th>\n",
       "      <th>has_supplierlabel</th>\n",
       "    </tr>\n",
       "    <tr>\n",
       "      <th>uid</th>\n",
       "      <th></th>\n",
       "      <th></th>\n",
       "    </tr>\n",
       "  </thead>\n",
       "  <tbody>\n",
       "    <tr>\n",
       "      <th>58f67e91-6d16-4f12-97c7-e67d24be6805</th>\n",
       "      <td>True</td>\n",
       "      <td>True</td>\n",
       "    </tr>\n",
       "    <tr>\n",
       "      <th>6f1b28a1-d9af-434b-ad90-d59a11aeefb9</th>\n",
       "      <td>True</td>\n",
       "      <td>True</td>\n",
       "    </tr>\n",
       "    <tr>\n",
       "      <th>98894ec9-bd7f-4ef1-b086-aec60ddee265</th>\n",
       "      <td>True</td>\n",
       "      <td>True</td>\n",
       "    </tr>\n",
       "    <tr>\n",
       "      <th>c0e07592-62db-48fc-996d-6f8f19a96db0</th>\n",
       "      <td>True</td>\n",
       "      <td>True</td>\n",
       "    </tr>\n",
       "    <tr>\n",
       "      <th>f07a5f74-174f-47e2-b7ba-cd8855cc9962</th>\n",
       "      <td>True</td>\n",
       "      <td>True</td>\n",
       "    </tr>\n",
       "  </tbody>\n",
       "</table>\n",
       "</div>"
      ],
      "text/plain": [
       "                                      has_supplierdatasheet  has_supplierlabel\n",
       "uid                                                                           \n",
       "58f67e91-6d16-4f12-97c7-e67d24be6805                   True               True\n",
       "6f1b28a1-d9af-434b-ad90-d59a11aeefb9                   True               True\n",
       "98894ec9-bd7f-4ef1-b086-aec60ddee265                   True               True\n",
       "c0e07592-62db-48fc-996d-6f8f19a96db0                   True               True\n",
       "f07a5f74-174f-47e2-b7ba-cd8855cc9962                   True               True"
      ]
     },
     "execution_count": 7,
     "metadata": {},
     "output_type": "execute_result"
    }
   ],
   "source": [
    "file_df = tool.file_report_from_result(mapping={'uid': 'uid'}, index='uid', record_path='entries')\n",
    "file_df"
   ]
  },
  {
   "cell_type": "code",
   "execution_count": null,
   "metadata": {},
   "outputs": [],
   "source": [
    "toto = 'WHEAT flour (55%), water, vegetable'\n",
    "toto.find('farzce')"
   ]
  },
  {
   "cell_type": "code",
   "execution_count": null,
   "metadata": {},
   "outputs": [],
   "source": [
    "df['Ingrédients'].str.find('farce') != -1"
   ]
  },
  {
   "cell_type": "code",
   "execution_count": null,
   "metadata": {},
   "outputs": [],
   "source": [
    "~df['Ingrédients'].isna()"
   ]
  },
  {
   "cell_type": "code",
   "execution_count": null,
   "metadata": {},
   "outputs": [],
   "source": [
    "df.loc[~df['Ingrédients'].isna() & (df['Ingrédients'].str.find('Légumes ') != -1)]"
   ]
  }
 ],
 "metadata": {
  "kernelspec": {
   "display_name": "Python 3",
   "language": "python",
   "name": "python3"
  },
  "language_info": {
   "codemirror_mode": {
    "name": "ipython",
    "version": 3
   },
   "file_extension": ".py",
   "mimetype": "text/x-python",
   "name": "python",
   "nbconvert_exporter": "python",
   "pygments_lexer": "ipython3",
   "version": "3.7.6"
  }
 },
 "nbformat": 4,
 "nbformat_minor": 2
}
