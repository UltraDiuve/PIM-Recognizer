{
 "cells": [
  {
   "cell_type": "code",
   "execution_count": 1,
   "metadata": {},
   "outputs": [],
   "source": [
    "from src import pimapi\n",
    "import pandas as pd\n",
    "import json"
   ]
  },
  {
   "cell_type": "code",
   "execution_count": 2,
   "metadata": {},
   "outputs": [],
   "source": [
    "tool = pimapi.Requester('rec')"
   ]
  },
  {
   "cell_type": "code",
   "execution_count": 3,
   "metadata": {
    "scrolled": false
   },
   "outputs": [
    {
     "name": "stdout",
     "output_type": "stream",
     "text": [
      "Done\n"
     ]
    }
   ],
   "source": [
    "tool.refresh_directory()"
   ]
  },
  {
   "cell_type": "code",
   "execution_count": 4,
   "metadata": {},
   "outputs": [
    {
     "name": "stdout",
     "output_type": "stream",
     "text": [
      "Number of items: 13867\n",
      "Number of items with outdated data: 2\n",
      "Number of items with outdated files: 2\n"
     ]
    }
   ],
   "source": [
    "tool.modification_report()"
   ]
  },
  {
   "cell_type": "code",
   "execution_count": 5,
   "metadata": {},
   "outputs": [
    {
     "name": "stdout",
     "output_type": "stream",
     "text": [
      "Done\n"
     ]
    }
   ],
   "source": [
    "tool.fetch_list_from_PIM(tool.modified_items(what='any', max_results=2000))"
   ]
  },
  {
   "cell_type": "code",
   "execution_count": 6,
   "metadata": {
    "scrolled": false
   },
   "outputs": [
    {
     "name": "stdout",
     "output_type": "stream",
     "text": [
      "Done !\n"
     ]
    }
   ],
   "source": [
    "tool.dump_data_from_result()"
   ]
  },
  {
   "cell_type": "code",
   "execution_count": 7,
   "metadata": {},
   "outputs": [
    {
     "name": "stdout",
     "output_type": "stream",
     "text": [
      "Launching 1 threads.\n",
      "Thread complete!\n",
      "Done!\n"
     ]
    }
   ],
   "source": [
    "tool.dump_files_from_result()"
   ]
  },
  {
   "cell_type": "code",
   "execution_count": 8,
   "metadata": {},
   "outputs": [
    {
     "name": "stdout",
     "output_type": "stream",
     "text": [
      "Number of items: 13867\n",
      "Number of items with outdated data: 0\n",
      "Number of items with outdated files: 0\n"
     ]
    }
   ],
   "source": [
    "tool.modification_report()"
   ]
  },
  {
   "cell_type": "code",
   "execution_count": 9,
   "metadata": {},
   "outputs": [
    {
     "name": "stderr",
     "output_type": "stream",
     "text": [
      "C:\\Users\\pmasse\\Pyprojects\\PIM-Recognizer\\src\\pimapi.py:81: UserWarning: \n",
      "Max size reached ! \n",
      "Only 100 results will be fetched out of 13867 results\n",
      "\n",
      "  warnings.warn(f'\\nMax size reached ! \\n'\n"
     ]
    },
    {
     "name": "stdout",
     "output_type": "stream",
     "text": [
      "Done\n"
     ]
    }
   ],
   "source": [
    "tool.fetch_all_from_PIM(max_page=1, page_size=100)"
   ]
  },
  {
   "cell_type": "code",
   "execution_count": 11,
   "metadata": {},
   "outputs": [
    {
     "data": {
      "text/html": [
       "<div>\n",
       "<style scoped>\n",
       "    .dataframe tbody tr th:only-of-type {\n",
       "        vertical-align: middle;\n",
       "    }\n",
       "\n",
       "    .dataframe tbody tr th {\n",
       "        vertical-align: top;\n",
       "    }\n",
       "\n",
       "    .dataframe thead th {\n",
       "        text-align: right;\n",
       "    }\n",
       "</style>\n",
       "<table border=\"1\" class=\"dataframe\">\n",
       "  <thead>\n",
       "    <tr style=\"text-align: right;\">\n",
       "      <th></th>\n",
       "      <th>Libellé</th>\n",
       "      <th>Ingrédients</th>\n",
       "    </tr>\n",
       "    <tr>\n",
       "      <th>uid</th>\n",
       "      <th></th>\n",
       "      <th></th>\n",
       "    </tr>\n",
       "  </thead>\n",
       "  <tbody>\n",
       "    <tr>\n",
       "      <th>58f67e91-6d16-4f12-97c7-e67d24be6805</th>\n",
       "      <td>Curcuma moulu en sac 1 kg LA CASE AUX EPICES</td>\n",
       "      <td>Curcuma</td>\n",
       "    </tr>\n",
       "    <tr>\n",
       "      <th>f46327cf-8f3c-4b67-85fa-7e6e6daaf618</th>\n",
       "      <td>Pique à viande bleu en sachet de 100 HIPPOPOTAMUS</td>\n",
       "      <td>None</td>\n",
       "    </tr>\n",
       "    <tr>\n",
       "      <th>58a1ae66-ca4d-4d82-9d30-4073b1edaeb8</th>\n",
       "      <td>Pique à viande rouge en sachet de 100 HIPPOPOT...</td>\n",
       "      <td>None</td>\n",
       "    </tr>\n",
       "    <tr>\n",
       "      <th>9bc59474-7839-458b-b56a-ba334fe4894b</th>\n",
       "      <td>Pique à viande noir en sachet de 100 HIPPOPOTAMUS</td>\n",
       "      <td>None</td>\n",
       "    </tr>\n",
       "    <tr>\n",
       "      <th>c97834e7-124e-4491-9f2a-3e4009fdda4e</th>\n",
       "      <td>Pique à viande marron en sachet de 100 HIPPOPO...</td>\n",
       "      <td>None</td>\n",
       "    </tr>\n",
       "    <tr>\n",
       "      <th>...</th>\n",
       "      <td>...</td>\n",
       "      <td>...</td>\n",
       "    </tr>\n",
       "    <tr>\n",
       "      <th>18e587c6-eb15-4339-95b3-a85ed645c3c8</th>\n",
       "      <td>Poivre noir en grain en sachet 1 kg LA CASE AU...</td>\n",
       "      <td>Poivre noir</td>\n",
       "    </tr>\n",
       "    <tr>\n",
       "      <th>dd9d6fb5-e0f5-4b97-8793-00b10ebb55d6</th>\n",
       "      <td>Copeaux de noix de coco en boîte 270 g VAHINE</td>\n",
       "      <td>Noix de coco séchée 80%, sucre, eau, humectant...</td>\n",
       "    </tr>\n",
       "    <tr>\n",
       "      <th>e13f4a85-aecb-41d3-9709-ae4721a31b04</th>\n",
       "      <td>Chariot de ménage complet Morgan LABOJAL</td>\n",
       "      <td>None</td>\n",
       "    </tr>\n",
       "    <tr>\n",
       "      <th>e3df9964-e9b5-44dc-8597-456bdb0c25ac</th>\n",
       "      <td>Confit de tomates séchées en pot 500 g PUGET R...</td>\n",
       "      <td>Eau, concentré de tomate, tomate séchée 12,7%,...</td>\n",
       "    </tr>\n",
       "    <tr>\n",
       "      <th>51b38427-b2ea-4c56-93e8-4242361ef31b</th>\n",
       "      <td>Caviar d'aubergine en pot 500 g PUGET RESTAURA...</td>\n",
       "      <td>Aubergine 60,5% (aubergine, huile de tournesol...</td>\n",
       "    </tr>\n",
       "  </tbody>\n",
       "</table>\n",
       "<p>100 rows × 2 columns</p>\n",
       "</div>"
      ],
      "text/plain": [
       "                                                                                Libellé  \\\n",
       "uid                                                                                       \n",
       "58f67e91-6d16-4f12-97c7-e67d24be6805       Curcuma moulu en sac 1 kg LA CASE AUX EPICES   \n",
       "f46327cf-8f3c-4b67-85fa-7e6e6daaf618  Pique à viande bleu en sachet de 100 HIPPOPOTAMUS   \n",
       "58a1ae66-ca4d-4d82-9d30-4073b1edaeb8  Pique à viande rouge en sachet de 100 HIPPOPOT...   \n",
       "9bc59474-7839-458b-b56a-ba334fe4894b  Pique à viande noir en sachet de 100 HIPPOPOTAMUS   \n",
       "c97834e7-124e-4491-9f2a-3e4009fdda4e  Pique à viande marron en sachet de 100 HIPPOPO...   \n",
       "...                                                                                 ...   \n",
       "18e587c6-eb15-4339-95b3-a85ed645c3c8  Poivre noir en grain en sachet 1 kg LA CASE AU...   \n",
       "dd9d6fb5-e0f5-4b97-8793-00b10ebb55d6      Copeaux de noix de coco en boîte 270 g VAHINE   \n",
       "e13f4a85-aecb-41d3-9709-ae4721a31b04           Chariot de ménage complet Morgan LABOJAL   \n",
       "e3df9964-e9b5-44dc-8597-456bdb0c25ac  Confit de tomates séchées en pot 500 g PUGET R...   \n",
       "51b38427-b2ea-4c56-93e8-4242361ef31b  Caviar d'aubergine en pot 500 g PUGET RESTAURA...   \n",
       "\n",
       "                                                                            Ingrédients  \n",
       "uid                                                                                      \n",
       "58f67e91-6d16-4f12-97c7-e67d24be6805                                            Curcuma  \n",
       "f46327cf-8f3c-4b67-85fa-7e6e6daaf618                                               None  \n",
       "58a1ae66-ca4d-4d82-9d30-4073b1edaeb8                                               None  \n",
       "9bc59474-7839-458b-b56a-ba334fe4894b                                               None  \n",
       "c97834e7-124e-4491-9f2a-3e4009fdda4e                                               None  \n",
       "...                                                                                 ...  \n",
       "18e587c6-eb15-4339-95b3-a85ed645c3c8                                        Poivre noir  \n",
       "dd9d6fb5-e0f5-4b97-8793-00b10ebb55d6  Noix de coco séchée 80%, sucre, eau, humectant...  \n",
       "e13f4a85-aecb-41d3-9709-ae4721a31b04                                               None  \n",
       "e3df9964-e9b5-44dc-8597-456bdb0c25ac  Eau, concentré de tomate, tomate séchée 12,7%,...  \n",
       "51b38427-b2ea-4c56-93e8-4242361ef31b  Aubergine 60,5% (aubergine, huile de tournesol...  \n",
       "\n",
       "[100 rows x 2 columns]"
      ]
     },
     "execution_count": 11,
     "metadata": {},
     "output_type": "execute_result"
    }
   ],
   "source": [
    "mapping = {'uid': 'uid', 'Libellé': 'title', 'Ingrédients': 'properties.pprodc:ingredientsList'}\n",
    "tool.result_to_dataframe(record_path='entries', mapping=mapping, index='uid')"
   ]
  },
  {
   "cell_type": "code",
   "execution_count": null,
   "metadata": {},
   "outputs": [],
   "source": []
  }
 ],
 "metadata": {
  "kernelspec": {
   "display_name": "Python 3",
   "language": "python",
   "name": "python3"
  },
  "language_info": {
   "codemirror_mode": {
    "name": "ipython",
    "version": 3
   },
   "file_extension": ".py",
   "mimetype": "text/x-python",
   "name": "python",
   "nbconvert_exporter": "python",
   "pygments_lexer": "ipython3",
   "version": "3.7.6"
  }
 },
 "nbformat": 4,
 "nbformat_minor": 2
}
