{
 "cells": [
  {
   "cell_type": "code",
   "execution_count": 1,
   "metadata": {},
   "outputs": [],
   "source": [
    "from src import pimapi\n",
    "import pandas as pd\n",
    "import json\n",
    "import os"
   ]
  },
  {
   "cell_type": "code",
   "execution_count": 2,
   "metadata": {},
   "outputs": [],
   "source": [
    "tool = pimapi.Requester('prd')"
   ]
  },
  {
   "cell_type": "code",
   "execution_count": 3,
   "metadata": {
    "scrolled": true
   },
   "outputs": [
    {
     "name": "stdout",
     "output_type": "stream",
     "text": [
      "Done\n"
     ]
    }
   ],
   "source": [
    "tool.refresh_directory()"
   ]
  },
  {
   "cell_type": "code",
   "execution_count": 4,
   "metadata": {
    "scrolled": true
   },
   "outputs": [
    {
     "name": "stdout",
     "output_type": "stream",
     "text": [
      "Number of items: 13041\n",
      "Number of items with outdated data: 628\n",
      "Number of items with outdated files: 628\n"
     ]
    }
   ],
   "source": [
    "tool.modification_report()"
   ]
  },
  {
   "cell_type": "code",
   "execution_count": null,
   "metadata": {},
   "outputs": [],
   "source": [
    "tool.fetch_list_from_PIM(tool.modified_items(what='any', max_results=5), batch_size=20)"
   ]
  },
  {
   "cell_type": "code",
   "execution_count": null,
   "metadata": {},
   "outputs": [],
   "source": [
    "type(tool.result[0].status_code)"
   ]
  },
  {
   "cell_type": "code",
   "execution_count": null,
   "metadata": {
    "scrolled": false
   },
   "outputs": [],
   "source": [
    "tool.dump_data_from_result(update_directory=False, root_path=os.path.join('.', 'ground_truth'))"
   ]
  },
  {
   "cell_type": "code",
   "execution_count": null,
   "metadata": {
    "scrolled": true
   },
   "outputs": [],
   "source": [
    "tool.dump_files_from_result(update_directory=False, root_path=os.path.join('.', 'ground_truth'))"
   ]
  },
  {
   "cell_type": "code",
   "execution_count": null,
   "metadata": {},
   "outputs": [],
   "source": [
    "tool.modification_report()"
   ]
  },
  {
   "cell_type": "code",
   "execution_count": null,
   "metadata": {},
   "outputs": [],
   "source": [
    "tool.dump_data_from_result()"
   ]
  },
  {
   "cell_type": "code",
   "execution_count": null,
   "metadata": {},
   "outputs": [],
   "source": [
    "tool.dump_files_from_result()"
   ]
  },
  {
   "cell_type": "code",
   "execution_count": null,
   "metadata": {},
   "outputs": [],
   "source": [
    "tool.modification_report()"
   ]
  },
  {
   "cell_type": "code",
   "execution_count": 5,
   "metadata": {},
   "outputs": [
    {
     "name": "stdout",
     "output_type": "stream",
     "text": [
      "Done\n",
      "Number of items: 13041\n",
      "Number of items with outdated data: 628\n",
      "Number of items with outdated files: 628\n",
      "Done\n",
      "Launching 32 threads.\n",
      "Thread complete!\n",
      "Thread complete!\n",
      "Thread complete!\n",
      "Thread complete!\n",
      "Thread complete!\n",
      "Thread complete!\n",
      "Thread complete!\n",
      "Thread complete!\n",
      "Thread complete!\n",
      "Thread complete!\n",
      "Thread complete!\n",
      "Thread complete!\n",
      "Thread complete!\n",
      "Thread complete!\n",
      "Thread complete!\n",
      "Thread complete!\n",
      "Thread complete!\n",
      "Thread complete!\n",
      "Thread complete!\n",
      "Thread complete!\n",
      "Thread complete!\n",
      "Thread complete!\n",
      "Thread complete!\n",
      "Thread complete!\n",
      "Thread complete!\n",
      "Thread complete!\n",
      "Thread complete!\n",
      "Thread complete!\n",
      "Thread complete!\n",
      "Thread complete!\n",
      "Thread complete!\n",
      "Thread complete!\n",
      "Done\n",
      "Number of items: 13041\n",
      "Number of items with outdated data: 1\n",
      "Number of items with outdated files: 0\n"
     ]
    }
   ],
   "source": [
    "tool.fetch_list_from_PIM(tool.modified_items(what='any', max_results=None), batch_size=20)\n",
    "tool.modification_report()\n",
    "tool.dump_data_from_result()\n",
    "tool.dump_files_from_result()\n",
    "tool.modification_report()"
   ]
  },
  {
   "cell_type": "code",
   "execution_count": null,
   "metadata": {},
   "outputs": [],
   "source": [
    "tool.fetch_all_from_PIM(max_page=-1, page_size=1000)"
   ]
  },
  {
   "cell_type": "code",
   "execution_count": null,
   "metadata": {},
   "outputs": [],
   "source": [
    "mapping = {'uid': 'uid', 'Libellé': 'title', 'Ingrédients': 'properties.pprodc:ingredientsList'}\n",
    "tool.result_to_dataframe(record_path='entries', mapping=mapping, index='uid')"
   ]
  },
  {
   "cell_type": "code",
   "execution_count": null,
   "metadata": {},
   "outputs": [],
   "source": [
    "mapping = {'uid': 'uid',\n",
    "           'Libellé': 'title',\n",
    "           'Ingrédients': 'properties.pprodc:ingredientsList',\n",
    "           'Type': 'properties.pprodtop:typeOfProduct'}\n",
    "df=tool.file_report_from_result(mapping, index='uid')\n",
    "df"
   ]
  },
  {
   "cell_type": "code",
   "execution_count": null,
   "metadata": {},
   "outputs": [],
   "source": [
    "tool._directory.index[:100]"
   ]
  },
  {
   "cell_type": "code",
   "execution_count": null,
   "metadata": {},
   "outputs": [],
   "source": [
    "for idx in tool._directory.index[:100]:\n",
    "    "
   ]
  }
 ],
 "metadata": {
  "kernelspec": {
   "display_name": "Python 3",
   "language": "python",
   "name": "python3"
  },
  "language_info": {
   "codemirror_mode": {
    "name": "ipython",
    "version": 3
   },
   "file_extension": ".py",
   "mimetype": "text/x-python",
   "name": "python",
   "nbconvert_exporter": "python",
   "pygments_lexer": "ipython3",
   "version": "3.7.6"
  }
 },
 "nbformat": 4,
 "nbformat_minor": 2
}
