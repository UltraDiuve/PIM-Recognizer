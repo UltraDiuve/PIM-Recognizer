{
 "cells": [
  {
   "cell_type": "markdown",
   "metadata": {},
   "source": [
    "# PIM Estimator\n",
    "\n",
    "This notebook aims to test the PIM-Estimator module."
   ]
  },
  {
   "cell_type": "code",
   "execution_count": 1,
   "metadata": {},
   "outputs": [],
   "source": [
    "import os\n",
    "\n",
    "import numpy as np\n",
    "import pandas as pd\n",
    "\n",
    "from src.pimest import IngredientExtractor\n",
    "from src.pimest import PIMIngredientExtractor\n",
    "from src.pimapi import Requester\n",
    "from src.pimpdf import PDFDecoder"
   ]
  },
  {
   "cell_type": "markdown",
   "metadata": {},
   "source": [
    "# 1. Extracting the data\n",
    "\n",
    "First, let's refresh the data from the production environment."
   ]
  },
  {
   "cell_type": "code",
   "execution_count": null,
   "metadata": {},
   "outputs": [],
   "source": [
    "#requester = Requester('prd', proxies=None)\n",
    "requester = Requester('prd')\n",
    "print('----------------------------------------')\n",
    "requester.refresh_directory()\n",
    "print('----------------------------------------')\n",
    "requester.modification_report()\n",
    "print('----------------------------------------')\n",
    "requester.fetch_list_from_PIM(requester.modified_items(), batch_size=20)\n",
    "print('----------------------------------------')\n",
    "requester.dump_data_from_result()\n",
    "print('----------------------------------------')\n",
    "requester.dump_files_from_result()\n",
    "print('----------------------------------------')\n",
    "requester.modification_report()\n",
    "print('----------------------------------------')"
   ]
  },
  {
   "cell_type": "markdown",
   "metadata": {},
   "source": [
    "Then, fetch the ingredient lists into a pandas DataFrame:"
   ]
  },
  {
   "cell_type": "code",
   "execution_count": 3,
   "metadata": {},
   "outputs": [
    {
     "name": "stdout",
     "output_type": "stream",
     "text": [
      "Done\n"
     ]
    },
    {
     "data": {
      "text/html": [
       "<div>\n",
       "<style scoped>\n",
       "    .dataframe tbody tr th:only-of-type {\n",
       "        vertical-align: middle;\n",
       "    }\n",
       "\n",
       "    .dataframe tbody tr th {\n",
       "        vertical-align: top;\n",
       "    }\n",
       "\n",
       "    .dataframe thead th {\n",
       "        text-align: right;\n",
       "    }\n",
       "</style>\n",
       "<table border=\"1\" class=\"dataframe\">\n",
       "  <thead>\n",
       "    <tr style=\"text-align: right;\">\n",
       "      <th></th>\n",
       "      <th>Libellé</th>\n",
       "      <th>Ingrédients</th>\n",
       "    </tr>\n",
       "    <tr>\n",
       "      <th>uid</th>\n",
       "      <th></th>\n",
       "      <th></th>\n",
       "    </tr>\n",
       "  </thead>\n",
       "  <tbody>\n",
       "    <tr>\n",
       "      <th>afee12c7-177e-4a68-9539-8cbb68442503</th>\n",
       "      <td>DESTRUCTEUR D'ODEUR  500 ML</td>\n",
       "      <td>None</td>\n",
       "    </tr>\n",
       "    <tr>\n",
       "      <th>7d390121-17e8-43bf-a357-9d06b79d2d47</th>\n",
       "      <td>THÉ VERT AGRUME BTE 25S FRAICH LIPTON</td>\n",
       "      <td>None</td>\n",
       "    </tr>\n",
       "    <tr>\n",
       "      <th>f234cd84-c8f6-433f-85ec-6e0b6980adc6</th>\n",
       "      <td>TORTILLA BLE 30CM</td>\n",
       "      <td>None</td>\n",
       "    </tr>\n",
       "    <tr>\n",
       "      <th>e82a8173-b379-41ac-b319-aa058a04fcfb</th>\n",
       "      <td>VIN ROUGE MÉDITERRANÉE 25CL X12</td>\n",
       "      <td>None</td>\n",
       "    </tr>\n",
       "    <tr>\n",
       "      <th>4b12c47c-84f5-4132-b362-22b864379a67</th>\n",
       "      <td>VIN MÉDITERRANÉE ROSÉ 25CL X12</td>\n",
       "      <td>None</td>\n",
       "    </tr>\n",
       "    <tr>\n",
       "      <th>...</th>\n",
       "      <td>...</td>\n",
       "      <td>...</td>\n",
       "    </tr>\n",
       "    <tr>\n",
       "      <th>c9c05f33-afc1-4b78-8391-2bcba74887a7</th>\n",
       "      <td>Garniture pâtissière à froid en sac 2.5 kg COM...</td>\n",
       "      <td>Sucre, amidon modifié, poudre de LACTOSERUM, m...</td>\n",
       "    </tr>\n",
       "    <tr>\n",
       "      <th>b7c1f419-6b98-4787-88ea-f2dfdbb345ea</th>\n",
       "      <td>Sun muffin en sac 2,5 kg COMPLET</td>\n",
       "      <td>Sucre, farine de FROMENT, amidon de FROMENT, a...</td>\n",
       "    </tr>\n",
       "    <tr>\n",
       "      <th>d9887a2e-b463-4329-9eb1-60839a21ba42</th>\n",
       "      <td>Cookie en sac 2,5 kg COMPLET</td>\n",
       "      <td>Farine de FROMENT, sucre, poudres à lever : (E...</td>\n",
       "    </tr>\n",
       "    <tr>\n",
       "      <th>dfbdd53f-2caa-4a54-b419-4cd57c276c8c</th>\n",
       "      <td>Crème pâtissière à froid pur beurre en sac 2,5...</td>\n",
       "      <td>Sucre, amidon modifié, poudre de LACTOSERUM, p...</td>\n",
       "    </tr>\n",
       "    <tr>\n",
       "      <th>0d0b9ba3-1142-49bd-829f-3bea258a6e22</th>\n",
       "      <td>Génoise Super Biscuit en sac 2,5 kg COMPLET</td>\n",
       "      <td>Sucre, farine de FROMENT, amidon de FROMENT, p...</td>\n",
       "    </tr>\n",
       "  </tbody>\n",
       "</table>\n",
       "<p>13008 rows × 2 columns</p>\n",
       "</div>"
      ],
      "text/plain": [
       "                                                                                Libellé  \\\n",
       "uid                                                                                       \n",
       "afee12c7-177e-4a68-9539-8cbb68442503                        DESTRUCTEUR D'ODEUR  500 ML   \n",
       "7d390121-17e8-43bf-a357-9d06b79d2d47              THÉ VERT AGRUME BTE 25S FRAICH LIPTON   \n",
       "f234cd84-c8f6-433f-85ec-6e0b6980adc6                                  TORTILLA BLE 30CM   \n",
       "e82a8173-b379-41ac-b319-aa058a04fcfb                    VIN ROUGE MÉDITERRANÉE 25CL X12   \n",
       "4b12c47c-84f5-4132-b362-22b864379a67                     VIN MÉDITERRANÉE ROSÉ 25CL X12   \n",
       "...                                                                                 ...   \n",
       "c9c05f33-afc1-4b78-8391-2bcba74887a7  Garniture pâtissière à froid en sac 2.5 kg COM...   \n",
       "b7c1f419-6b98-4787-88ea-f2dfdbb345ea                   Sun muffin en sac 2,5 kg COMPLET   \n",
       "d9887a2e-b463-4329-9eb1-60839a21ba42                       Cookie en sac 2,5 kg COMPLET   \n",
       "dfbdd53f-2caa-4a54-b419-4cd57c276c8c  Crème pâtissière à froid pur beurre en sac 2,5...   \n",
       "0d0b9ba3-1142-49bd-829f-3bea258a6e22        Génoise Super Biscuit en sac 2,5 kg COMPLET   \n",
       "\n",
       "                                                                            Ingrédients  \n",
       "uid                                                                                      \n",
       "afee12c7-177e-4a68-9539-8cbb68442503                                               None  \n",
       "7d390121-17e8-43bf-a357-9d06b79d2d47                                               None  \n",
       "f234cd84-c8f6-433f-85ec-6e0b6980adc6                                               None  \n",
       "e82a8173-b379-41ac-b319-aa058a04fcfb                                               None  \n",
       "4b12c47c-84f5-4132-b362-22b864379a67                                               None  \n",
       "...                                                                                 ...  \n",
       "c9c05f33-afc1-4b78-8391-2bcba74887a7  Sucre, amidon modifié, poudre de LACTOSERUM, m...  \n",
       "b7c1f419-6b98-4787-88ea-f2dfdbb345ea  Sucre, farine de FROMENT, amidon de FROMENT, a...  \n",
       "d9887a2e-b463-4329-9eb1-60839a21ba42  Farine de FROMENT, sucre, poudres à lever : (E...  \n",
       "dfbdd53f-2caa-4a54-b419-4cd57c276c8c  Sucre, amidon modifié, poudre de LACTOSERUM, p...  \n",
       "0d0b9ba3-1142-49bd-829f-3bea258a6e22  Sucre, farine de FROMENT, amidon de FROMENT, p...  \n",
       "\n",
       "[13008 rows x 2 columns]"
      ]
     },
     "execution_count": 3,
     "metadata": {},
     "output_type": "execute_result"
    }
   ],
   "source": [
    "requester.fetch_all_from_PIM(page_size=1000, max_page=-1, nx_properties='*')\n",
    "mapping = {'uid': 'uid', 'Libellé': 'title', 'Ingrédients': 'properties.pprodc:ingredientsList'}\n",
    "df = requester.result_to_dataframe(record_path='entries', mapping=mapping, index='uid')\n",
    "df"
   ]
  },
  {
   "cell_type": "markdown",
   "metadata": {},
   "source": [
    "We only keep the products for which there is an ingredient list in the system."
   ]
  },
  {
   "cell_type": "code",
   "execution_count": 4,
   "metadata": {},
   "outputs": [
    {
     "data": {
      "text/html": [
       "<div>\n",
       "<style scoped>\n",
       "    .dataframe tbody tr th:only-of-type {\n",
       "        vertical-align: middle;\n",
       "    }\n",
       "\n",
       "    .dataframe tbody tr th {\n",
       "        vertical-align: top;\n",
       "    }\n",
       "\n",
       "    .dataframe thead th {\n",
       "        text-align: right;\n",
       "    }\n",
       "</style>\n",
       "<table border=\"1\" class=\"dataframe\">\n",
       "  <thead>\n",
       "    <tr style=\"text-align: right;\">\n",
       "      <th></th>\n",
       "      <th>Libellé</th>\n",
       "      <th>Ingrédients</th>\n",
       "    </tr>\n",
       "    <tr>\n",
       "      <th>uid</th>\n",
       "      <th></th>\n",
       "      <th></th>\n",
       "    </tr>\n",
       "  </thead>\n",
       "  <tbody>\n",
       "    <tr>\n",
       "      <th>34d33a48-5735-49ec-a08f-6642933dec00</th>\n",
       "      <td>Préparation de concentré de citron et d'aneth ...</td>\n",
       "      <td>Préparation aux jus de citron &amp; aneth (condime...</td>\n",
       "    </tr>\n",
       "    <tr>\n",
       "      <th>d45d3058-f7d5-4cb8-be37-99bcc2ed06e9</th>\n",
       "      <td>Ecume de saveurs en bouteille 150 ml MISS ALGAE</td>\n",
       "      <td>Préparation de jus de yuzu ( condiment de bals...</td>\n",
       "    </tr>\n",
       "    <tr>\n",
       "      <th>47b861bc-42bc-4f7e-9b76-a6d4504b3907</th>\n",
       "      <td>Pain spécial burger à la semoule de blé 72 g H...</td>\n",
       "      <td>Farine de BLÉ 59%, eau, levure, dextrose, semo...</td>\n",
       "    </tr>\n",
       "    <tr>\n",
       "      <th>d81eae2e-0232-46f8-b058-bdc1e6b7a64e</th>\n",
       "      <td>Ketchup en flacon souple 220 ml HEINZ</td>\n",
       "      <td>Tomates (148 g pour 100 g de ketchup), vinaigr...</td>\n",
       "    </tr>\n",
       "    <tr>\n",
       "      <th>abd31acd-e2d9-437a-9588-5bf0d0f3f059</th>\n",
       "      <td>Confit de canard du Gers IGP en boîte 2/1 CANA...</td>\n",
       "      <td>Cuisses de canard confites, graisse de canard,...</td>\n",
       "    </tr>\n",
       "    <tr>\n",
       "      <th>...</th>\n",
       "      <td>...</td>\n",
       "      <td>...</td>\n",
       "    </tr>\n",
       "    <tr>\n",
       "      <th>c9c05f33-afc1-4b78-8391-2bcba74887a7</th>\n",
       "      <td>Garniture pâtissière à froid en sac 2.5 kg COM...</td>\n",
       "      <td>Sucre, amidon modifié, poudre de LACTOSERUM, m...</td>\n",
       "    </tr>\n",
       "    <tr>\n",
       "      <th>b7c1f419-6b98-4787-88ea-f2dfdbb345ea</th>\n",
       "      <td>Sun muffin en sac 2,5 kg COMPLET</td>\n",
       "      <td>Sucre, farine de FROMENT, amidon de FROMENT, a...</td>\n",
       "    </tr>\n",
       "    <tr>\n",
       "      <th>d9887a2e-b463-4329-9eb1-60839a21ba42</th>\n",
       "      <td>Cookie en sac 2,5 kg COMPLET</td>\n",
       "      <td>Farine de FROMENT, sucre, poudres à lever : (E...</td>\n",
       "    </tr>\n",
       "    <tr>\n",
       "      <th>dfbdd53f-2caa-4a54-b419-4cd57c276c8c</th>\n",
       "      <td>Crème pâtissière à froid pur beurre en sac 2,5...</td>\n",
       "      <td>Sucre, amidon modifié, poudre de LACTOSERUM, p...</td>\n",
       "    </tr>\n",
       "    <tr>\n",
       "      <th>0d0b9ba3-1142-49bd-829f-3bea258a6e22</th>\n",
       "      <td>Génoise Super Biscuit en sac 2,5 kg COMPLET</td>\n",
       "      <td>Sucre, farine de FROMENT, amidon de FROMENT, p...</td>\n",
       "    </tr>\n",
       "  </tbody>\n",
       "</table>\n",
       "<p>9578 rows × 2 columns</p>\n",
       "</div>"
      ],
      "text/plain": [
       "                                                                                Libellé  \\\n",
       "uid                                                                                       \n",
       "34d33a48-5735-49ec-a08f-6642933dec00  Préparation de concentré de citron et d'aneth ...   \n",
       "d45d3058-f7d5-4cb8-be37-99bcc2ed06e9    Ecume de saveurs en bouteille 150 ml MISS ALGAE   \n",
       "47b861bc-42bc-4f7e-9b76-a6d4504b3907  Pain spécial burger à la semoule de blé 72 g H...   \n",
       "d81eae2e-0232-46f8-b058-bdc1e6b7a64e              Ketchup en flacon souple 220 ml HEINZ   \n",
       "abd31acd-e2d9-437a-9588-5bf0d0f3f059  Confit de canard du Gers IGP en boîte 2/1 CANA...   \n",
       "...                                                                                 ...   \n",
       "c9c05f33-afc1-4b78-8391-2bcba74887a7  Garniture pâtissière à froid en sac 2.5 kg COM...   \n",
       "b7c1f419-6b98-4787-88ea-f2dfdbb345ea                   Sun muffin en sac 2,5 kg COMPLET   \n",
       "d9887a2e-b463-4329-9eb1-60839a21ba42                       Cookie en sac 2,5 kg COMPLET   \n",
       "dfbdd53f-2caa-4a54-b419-4cd57c276c8c  Crème pâtissière à froid pur beurre en sac 2,5...   \n",
       "0d0b9ba3-1142-49bd-829f-3bea258a6e22        Génoise Super Biscuit en sac 2,5 kg COMPLET   \n",
       "\n",
       "                                                                            Ingrédients  \n",
       "uid                                                                                      \n",
       "34d33a48-5735-49ec-a08f-6642933dec00  Préparation aux jus de citron & aneth (condime...  \n",
       "d45d3058-f7d5-4cb8-be37-99bcc2ed06e9  Préparation de jus de yuzu ( condiment de bals...  \n",
       "47b861bc-42bc-4f7e-9b76-a6d4504b3907  Farine de BLÉ 59%, eau, levure, dextrose, semo...  \n",
       "d81eae2e-0232-46f8-b058-bdc1e6b7a64e  Tomates (148 g pour 100 g de ketchup), vinaigr...  \n",
       "abd31acd-e2d9-437a-9588-5bf0d0f3f059  Cuisses de canard confites, graisse de canard,...  \n",
       "...                                                                                 ...  \n",
       "c9c05f33-afc1-4b78-8391-2bcba74887a7  Sucre, amidon modifié, poudre de LACTOSERUM, m...  \n",
       "b7c1f419-6b98-4787-88ea-f2dfdbb345ea  Sucre, farine de FROMENT, amidon de FROMENT, a...  \n",
       "d9887a2e-b463-4329-9eb1-60839a21ba42  Farine de FROMENT, sucre, poudres à lever : (E...  \n",
       "dfbdd53f-2caa-4a54-b419-4cd57c276c8c  Sucre, amidon modifié, poudre de LACTOSERUM, p...  \n",
       "0d0b9ba3-1142-49bd-829f-3bea258a6e22  Sucre, farine de FROMENT, amidon de FROMENT, p...  \n",
       "\n",
       "[9578 rows x 2 columns]"
      ]
     },
     "execution_count": 4,
     "metadata": {},
     "output_type": "execute_result"
    }
   ],
   "source": [
    "df = df.loc[pd.notna(df['Ingrédients'])]\n",
    "df"
   ]
  },
  {
   "cell_type": "markdown",
   "metadata": {},
   "source": [
    "# 2. Training the estimator\n",
    "\n",
    "For this simple test, the estimator will be trained on the whole dataset (which is not good practice - this is just to demonstrate the usage of this class).\n",
    "\n",
    "## 2.1 Importing the module\n",
    "\n",
    "The cell below is just here to enable to reload source code of pimest module without having to restart the kernel."
   ]
  },
  {
   "cell_type": "code",
   "execution_count": null,
   "metadata": {},
   "outputs": [],
   "source": [
    "#import importlib\n",
    "#import src.pimest\n",
    "#importlib.reload(pimest)"
   ]
  },
  {
   "cell_type": "markdown",
   "metadata": {},
   "source": [
    "## 2.2 Training the estimator\n",
    "\n",
    "Although not a good practice, we train the estimator on the whole dataset."
   ]
  },
  {
   "cell_type": "code",
   "execution_count": 5,
   "metadata": {},
   "outputs": [
    {
     "data": {
      "text/plain": [
       "<src.pimest.IngredientExtractor at 0x2e8a8e24fc8>"
      ]
     },
     "execution_count": 5,
     "metadata": {},
     "output_type": "execute_result"
    }
   ],
   "source": [
    "estim = IngredientExtractor()\n",
    "estim.fit(df.loc[:, 'Ingrédients'])"
   ]
  },
  {
   "cell_type": "code",
   "execution_count": 6,
   "metadata": {},
   "outputs": [
    {
     "data": {
      "text/plain": [
       "<9578x4078 sparse matrix of type '<class 'numpy.int64'>'\n",
       "\twith 167447 stored elements in Compressed Sparse Row format>"
      ]
     },
     "execution_count": 6,
     "metadata": {},
     "output_type": "execute_result"
    }
   ],
   "source": [
    "estim.vectorized_texts_"
   ]
  },
  {
   "cell_type": "code",
   "execution_count": 7,
   "metadata": {},
   "outputs": [
    {
     "data": {
      "text/plain": [
       "matrix([[0.00198371, 0.00010441, 0.00010441, ..., 0.00908332, 0.00803926,\n",
       "         0.00083525]])"
      ]
     },
     "execution_count": 7,
     "metadata": {},
     "output_type": "execute_result"
    }
   ],
   "source": [
    "estim.mean_corpus_"
   ]
  },
  {
   "cell_type": "markdown",
   "metadata": {},
   "source": [
    "# 3. Testing the estimator\n",
    "\n",
    "## 3.1 Parsing a doc into blocks\n",
    "\n",
    "First, we parse a single doc into blocks of texts:"
   ]
  },
  {
   "cell_type": "code",
   "execution_count": null,
   "metadata": {},
   "outputs": [],
   "source": [
    "uid = '7ad672f8-40d4-4527-ab49-af3284d23fab'\n",
    "path = os.path.join('.', 'dumps', 'prd', uid, 'FTF.pdf')\n",
    "blocks = PDFDecoder.path_to_blocks(path)\n",
    "blocks"
   ]
  },
  {
   "cell_type": "markdown",
   "metadata": {},
   "source": [
    "## 3.2 Predicting the ingredient block\n",
    "\n",
    "Then we predict the block which is supposed to most likely be the one holding the ingredient list:"
   ]
  },
  {
   "cell_type": "code",
   "execution_count": null,
   "metadata": {},
   "outputs": [],
   "source": [
    "block_num = estim.predict(blocks)\n",
    "print(blocks[block_num])"
   ]
  },
  {
   "cell_type": "markdown",
   "metadata": {},
   "source": [
    "We can see that for the product with uid `78f66d90-aeab-4f15-8130-0c418955b79a`, the estimator has successfully identified the ingredient block!"
   ]
  },
  {
   "cell_type": "markdown",
   "metadata": {},
   "source": [
    "# 4. Wrapped Estimator\n",
    "\n",
    "A helper wrapped class enables to directly compare the current content of the PIM system with what has been extracted from the associated pdf file.\n",
    "\n",
    "This helper directly inherits from `IngredientExtractor` class:"
   ]
  },
  {
   "cell_type": "code",
   "execution_count": null,
   "metadata": {},
   "outputs": [],
   "source": [
    "#from importlib import reload\n",
    "#import src.pimest\n",
    "#importlib.reload(pimest)"
   ]
  },
  {
   "cell_type": "code",
   "execution_count": 8,
   "metadata": {},
   "outputs": [
    {
     "data": {
      "text/plain": [
       "<src.pimest.PIMIngredientExtractor at 0x2e8a777ac48>"
      ]
     },
     "execution_count": 8,
     "metadata": {},
     "output_type": "execute_result"
    }
   ],
   "source": [
    "#wrapped_estim = PIMIngredientExtractor(env='prd', proxies=None)\n",
    "wrapped_estim = PIMIngredientExtractor(env='prd')\n",
    "wrapped_estim.fit(df.loc[:, 'Ingrédients'])"
   ]
  },
  {
   "cell_type": "code",
   "execution_count": 10,
   "metadata": {
    "scrolled": false
   },
   "outputs": [
    {
     "name": "stdout",
     "output_type": "stream",
     "text": [
      "Fetching data from PIM for uid d0aa2c1c-4317-4e5f-8a18-82e56976da22...\n",
      "Done\n",
      "----------------------------------------------------------\n",
      "Ingredient list from PIM is :\n",
      "\n",
      "Sucre, dextrose, maltodextrine, stabilisants (E460, E450, E516, E401, E404), épaississant (E407), arôme naturel (LAIT).Peut contenir : FRUITS A COQUE, OEUF, SOJA et GLUTEN.\n",
      "\n",
      "----------------------------------------------------------\n",
      "Supplier technical datasheet from PIM for uid d0aa2c1c-4317-4e5f-8a18-82e56976da22 is:\n",
      "https://produits.groupe-pomona.fr/nuxeo/nxfile/default/d0aa2c1c-4317-4e5f-8a18-82e56976da22/pprodad:technicalSheet/FT%20NESTL%C3%89%20Docello%20Panna%20Cotta%20-%20Etui%20de%20600%20g.pdf?changeToken=76-0\n",
      "----------------------------------------------------------\n",
      "Downloading content of technical datasheet file...\n",
      "Done!\n",
      "----------------------------------------------------------\n",
      "Parsing content of technical datasheet file...\n",
      "Done!\n",
      "----------------------------------------------------------\n",
      "Ingredient list extracted from technical datasheet:\n",
      "\n",
      "Sucre, dextrose, maltodextrine, stabilisants (E460, E450, E516, E401, E404), épaississant (E407), arôme naturel (lait). \n",
      "Peut contenir : fruits à coque, œuf, soja et gluten.\n",
      "\n",
      "----------------------------------------------------------\n"
     ]
    }
   ],
   "source": [
    "wrapped_estim.compare_uid_data('d0aa2c1c-4317-4e5f-8a18-82e56976da22')"
   ]
  },
  {
   "cell_type": "code",
   "execution_count": null,
   "metadata": {},
   "outputs": [],
   "source": [
    "wrapped_estim.print_blocks(wrapped_estim.resp)"
   ]
  },
  {
   "cell_type": "code",
   "execution_count": null,
   "metadata": {},
   "outputs": [],
   "source": [
    "from sklearn.model_selection import train_test_split\n",
    "\n",
    "train_uids, test_uids = train_test_split(df, test_size=500, random_state=42)\n",
    "test_uids.reset_index().loc[:, 'uid'].to_csv(os.path.join('.', 'test_uids.csv'), header=True, encoding='utf-8-sig', index=False)"
   ]
  }
 ],
 "metadata": {
  "kernelspec": {
   "display_name": "Python 3",
   "language": "python",
   "name": "python3"
  },
  "language_info": {
   "codemirror_mode": {
    "name": "ipython",
    "version": 3
   },
   "file_extension": ".py",
   "mimetype": "text/x-python",
   "name": "python",
   "nbconvert_exporter": "python",
   "pygments_lexer": "ipython3",
   "version": "3.7.6"
  }
 },
 "nbformat": 4,
 "nbformat_minor": 2
}
