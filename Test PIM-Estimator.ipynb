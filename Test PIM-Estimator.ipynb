{
 "cells": [
  {
   "cell_type": "markdown",
   "metadata": {},
   "source": [
    "# PIM Estimator\n",
    "\n",
    "This notebook aims to test the PIM-Estimator module."
   ]
  },
  {
   "cell_type": "code",
   "execution_count": 1,
   "metadata": {},
   "outputs": [],
   "source": [
    "import os\n",
    "\n",
    "import numpy as np\n",
    "import pandas as pd\n",
    "\n",
    "from src.pimest import IngredientExtractor\n",
    "from src.pimest import PIMIngredientExtractor\n",
    "from src.pimapi import Requester\n",
    "from src.pimpdf import PDFDecoder"
   ]
  },
  {
   "cell_type": "markdown",
   "metadata": {},
   "source": [
    "# 1. Extracting the data\n",
    "\n",
    "First, let's refresh the data from the production environment."
   ]
  },
  {
   "cell_type": "code",
   "execution_count": 3,
   "metadata": {},
   "outputs": [
    {
     "name": "stdout",
     "output_type": "stream",
     "text": [
      "----------------------------------------\n",
      "Done\n",
      "----------------------------------------\n",
      "Number of items: 13000\n",
      "Number of items with outdated data: 112\n",
      "Number of items with outdated files: 293\n",
      "----------------------------------------\n",
      "Done\n",
      "----------------------------------------\n",
      "Done\n",
      "----------------------------------------\n",
      "Launching 15 threads.\n",
      "Thread complete!\n",
      "Thread complete!\n",
      "Thread complete!\n",
      "Thread complete!\n",
      "Thread complete!\n",
      "Thread complete!\n",
      "Thread complete!\n",
      "Thread complete!\n",
      "Thread complete!\n",
      "Thread complete!\n",
      "Thread complete!\n",
      "Thread complete!\n",
      "Thread complete!\n",
      "Thread complete!\n",
      "Thread complete!\n",
      "Done\n",
      "----------------------------------------\n",
      "Number of items: 13000\n",
      "Number of items with outdated data: 0\n",
      "Number of items with outdated files: 0\n",
      "----------------------------------------\n"
     ]
    }
   ],
   "source": [
    "#requester = Requester('prd', proxies=None)\n",
    "requester = Requester('prd')\n",
    "print('----------------------------------------')\n",
    "requester.refresh_directory()\n",
    "print('----------------------------------------')\n",
    "requester.modification_report()\n",
    "print('----------------------------------------')\n",
    "requester.fetch_list_from_PIM(requester.modified_items(), batch_size=20)\n",
    "print('----------------------------------------')\n",
    "requester.dump_data_from_result()\n",
    "print('----------------------------------------')\n",
    "requester.dump_files_from_result()\n",
    "print('----------------------------------------')\n",
    "requester.modification_report()\n",
    "print('----------------------------------------')"
   ]
  },
  {
   "cell_type": "markdown",
   "metadata": {},
   "source": [
    "Then, fetch the ingredient lists into a pandas DataFrame:"
   ]
  },
  {
   "cell_type": "code",
   "execution_count": null,
   "metadata": {},
   "outputs": [],
   "source": [
    "requester.fetch_all_from_PIM(page_size=1000, max_page=-1, nx_properties='*')\n",
    "mapping = {'uid': 'uid', 'Libellé': 'title', 'Ingrédients': 'properties.pprodc:ingredientsList'}\n",
    "df = requester.result_to_dataframe(record_path='entries', mapping=mapping, index='uid')\n",
    "df"
   ]
  },
  {
   "cell_type": "markdown",
   "metadata": {},
   "source": [
    "We only keep the products for which there is an ingredient list in the system."
   ]
  },
  {
   "cell_type": "code",
   "execution_count": null,
   "metadata": {},
   "outputs": [],
   "source": [
    "df = df.loc[pd.notna(df['Ingrédients'])]\n",
    "df"
   ]
  },
  {
   "cell_type": "markdown",
   "metadata": {},
   "source": [
    "# 2. Training the estimator\n",
    "\n",
    "For this simple test, the estimator will be trained on the whole dataset (which is not good practice - this is just to demonstrate the usage of this class).\n",
    "\n",
    "## 2.1 Importing the module\n",
    "\n",
    "The cell below is just here to enable to reload source code of pimest module without having to restart the kernel."
   ]
  },
  {
   "cell_type": "code",
   "execution_count": null,
   "metadata": {},
   "outputs": [],
   "source": [
    "#import importlib\n",
    "#import src.pimest\n",
    "#importlib.reload(pimest)"
   ]
  },
  {
   "cell_type": "markdown",
   "metadata": {},
   "source": [
    "## 2.2 Training the estimator\n",
    "\n",
    "Although not a good practice, we train the estimator on the whole dataset."
   ]
  },
  {
   "cell_type": "code",
   "execution_count": null,
   "metadata": {},
   "outputs": [],
   "source": [
    "estim = IngredientExtractor()\n",
    "estim.fit(df.loc[:, 'Ingrédients'])"
   ]
  },
  {
   "cell_type": "code",
   "execution_count": null,
   "metadata": {},
   "outputs": [],
   "source": [
    "estim.vectorized_texts_"
   ]
  },
  {
   "cell_type": "code",
   "execution_count": null,
   "metadata": {},
   "outputs": [],
   "source": [
    "estim.mean_corpus_"
   ]
  },
  {
   "cell_type": "markdown",
   "metadata": {},
   "source": [
    "# 3. Testing the estimator\n",
    "\n",
    "## 3.1 Parsing a doc into blocks\n",
    "\n",
    "First, we parse a single doc into blocks of texts:"
   ]
  },
  {
   "cell_type": "code",
   "execution_count": null,
   "metadata": {},
   "outputs": [],
   "source": [
    "uid = '7ad672f8-40d4-4527-ab49-af3284d23fab'\n",
    "path = os.path.join('.', 'dumps', 'prd', uid, 'FTF.pdf')\n",
    "blocks = PDFDecoder.path_to_blocks(path)\n",
    "blocks"
   ]
  },
  {
   "cell_type": "markdown",
   "metadata": {},
   "source": [
    "## 3.2 Predicting the ingredient block\n",
    "\n",
    "Then we predict the block which is supposed to most likely be the one holding the ingredient list:"
   ]
  },
  {
   "cell_type": "code",
   "execution_count": null,
   "metadata": {},
   "outputs": [],
   "source": [
    "block_num = estim.predict(blocks)\n",
    "print(blocks[block_num])"
   ]
  },
  {
   "cell_type": "markdown",
   "metadata": {},
   "source": [
    "We can see that for the product with uid `78f66d90-aeab-4f15-8130-0c418955b79a`, the estimator has successfully identified the ingredient block!"
   ]
  },
  {
   "cell_type": "markdown",
   "metadata": {},
   "source": [
    "# 4. Wrapped Estimator\n",
    "\n",
    "A helper wrapped class enables to directly compare the current content of the PIM system with what has been extracted from the associated pdf file.\n",
    "\n",
    "This helper directly inherits from `IngredientExtractor` class:"
   ]
  },
  {
   "cell_type": "code",
   "execution_count": null,
   "metadata": {},
   "outputs": [],
   "source": [
    "#from importlib import reload\n",
    "#import src.pimest\n",
    "#importlib.reload(pimest)"
   ]
  },
  {
   "cell_type": "code",
   "execution_count": null,
   "metadata": {},
   "outputs": [],
   "source": [
    "#wrapped_estim = PIMIngredientExtractor(env='prd', proxies=None)\n",
    "wrapped_estim = PIMIngredientExtractor(env='prd')\n",
    "wrapped_estim.fit(df.loc[:, 'Ingrédients'])"
   ]
  },
  {
   "cell_type": "code",
   "execution_count": null,
   "metadata": {
    "scrolled": true
   },
   "outputs": [],
   "source": [
    "wrapped_estim.compare_uid_data('71083f9d-14b5-4111-a4a4-af4f654282e4')"
   ]
  },
  {
   "cell_type": "code",
   "execution_count": null,
   "metadata": {},
   "outputs": [],
   "source": [
    "wrapped_estim.print_blocks(wrapped_estim.resp)"
   ]
  },
  {
   "cell_type": "code",
   "execution_count": null,
   "metadata": {},
   "outputs": [],
   "source": [
    "from sklearn.model_selection import train_test_split\n",
    "\n",
    "train_uids, test_uids = train_test_split(df, test_size=500, random_state=42)\n",
    "test_uids.reset_index().loc[:, 'uid'].to_csv(os.path.join('.', 'test_uids.csv'), header=True, encoding='utf-8-sig', index=False)"
   ]
  }
 ],
 "metadata": {
  "kernelspec": {
   "display_name": "Python 3",
   "language": "python",
   "name": "python3"
  },
  "language_info": {
   "codemirror_mode": {
    "name": "ipython",
    "version": 3
   },
   "file_extension": ".py",
   "mimetype": "text/x-python",
   "name": "python",
   "nbconvert_exporter": "python",
   "pygments_lexer": "ipython3",
   "version": "3.7.6"
  }
 },
 "nbformat": 4,
 "nbformat_minor": 2
}
