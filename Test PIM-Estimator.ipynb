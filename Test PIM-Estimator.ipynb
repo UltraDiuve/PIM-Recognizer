{
 "cells": [
  {
   "cell_type": "markdown",
   "metadata": {},
   "source": [
    "# PIM Estimator\n",
    "\n",
    "This notebook aims to test the PIM-Estimator module."
   ]
  },
  {
   "cell_type": "code",
   "execution_count": 1,
   "metadata": {},
   "outputs": [
    {
     "name": "stderr",
     "output_type": "stream",
     "text": [
      "/var/lib/anaconda3/envs/pimreco/lib/python3.8/site-packages/pandas/compat/__init__.py:117: UserWarning: Could not import the lzma module. Your installed Python is incomplete. Attempting to use lzma compression will result in a RuntimeError.\n",
      "  warnings.warn(msg)\n"
     ]
    }
   ],
   "source": [
    "import os\n",
    "\n",
    "import numpy as np\n",
    "import pandas as pd\n",
    "\n",
    "from src.pimest import IngredientExtractor\n",
    "from src.pimest import PIMIngredientExtractor\n",
    "from src.pimest import PathGetter\n",
    "from src.pimest import ContentGetter\n",
    "from src.pimapi import Requester\n",
    "from src.pimpdf import PDFDecoder"
   ]
  },
  {
   "cell_type": "markdown",
   "metadata": {},
   "source": [
    "# 1. Extracting the data\n",
    "\n",
    "First, let's refresh the data from the production environment."
   ]
  },
  {
   "cell_type": "code",
   "execution_count": null,
   "metadata": {
    "scrolled": true
   },
   "outputs": [
    {
     "name": "stdout",
     "output_type": "stream",
     "text": [
      "----------------------------------------\n",
      "Done\n",
      "----------------------------------------\n",
      "Number of items: 13134\n",
      "Number of items with outdated data: 2579\n",
      "Number of items with outdated files: 9222\n",
      "----------------------------------------\n",
      "An error occured in this thread!\n",
      "HTTPSConnectionPool(host='produits.groupe-pomona.fr', port=443): Max retries exceeded with url: /nuxeo/api/v1/id/00000000-0000-0000-0000-000000000000/@search?query=SELECT+%2A+FROM+Document+WHERE+ecm%3AprimaryType%3D%27pomProduct%27+AND+ecm%3AisVersion%3D0+AND+ecm%3Auuid+in+%28%2710f5f525-bba4-43d5-8ce7-90aa5b2a50e4%27%2C+%27e46095be-6ee1-4158-b800-ce9b60665f6e%27%2C+%2705d39275-7eac-4bc2-9a3a-f3e05ab7d2b2%27%2C+%27308fc588-b2b2-4b7d-a1ce-0ad7491599d3%27%2C+%27d3c9715f-7744-4977-9101-f4ea7303cdd5%27%2C+%27e6938350-eea1-40a3-bc84-c11da6141cd1%27%2C+%27a420f474-bc07-430b-bcf8-7312323523f6%27%2C+%276b873d7d-0082-4d92-be34-b35d012fac16%27%2C+%276ea6bf9a-3633-4870-a64c-32937c77ca7f%27%2C+%277fff32c1-ded6-4e74-8172-68cc8c4d6c9e%27%2C+%271604b5a0-c99c-49ec-a9a3-ef7196352246%27%2C+%276b48b748-a404-43b0-be05-551d0f7ba02b%27%2C+%272e9f9e64-69ae-495d-bd1e-6747b99c9732%27%2C+%2776e63d95-efc7-48c8-94f6-a1efed9415c4%27%2C+%27ad243b7d-a282-45de-a290-ec25bfcaa390%27%2C+%27dba38ef1-401d-496a-935d-ab4dfa054ba8%27%2C+%270807db57-26dd-4043-a5b3-ff32afc10a38%27%2C+%2798d29eaf-4d4a-4823-900b-4e850385f272%27%2C+%2744689702-f874-4a35-b883-e9d608a147c9%27%2C+%27fff31b66-9d5b-4d9e-814b-3ddd283cd8a5%27%29&currentPageIndex=0 (Caused by ProxyError('Cannot connect to proxy.', RemoteDisconnected('Remote end closed connection without response')))\n",
      "An error occured in this thread!\n",
      "HTTPSConnectionPool(host='produits.groupe-pomona.fr', port=443): Max retries exceeded with url: /nuxeo/api/v1/id/00000000-0000-0000-0000-000000000000/@search?query=SELECT+%2A+FROM+Document+WHERE+ecm%3AprimaryType%3D%27pomProduct%27+AND+ecm%3AisVersion%3D0+AND+ecm%3Auuid+in+%28%27e8f9b3f8-d860-4e32-b5ae-f9c1053219a5%27%2C+%274660d133-fe26-486b-a323-a740f327040f%27%2C+%27bbf5744e-33d0-469f-9421-84faf606a571%27%2C+%2718c047ed-f16d-45fd-b00e-dd7c94d6fc6f%27%2C+%278bda6efa-40ac-4ee0-b88f-639881ce46f0%27%2C+%2791d19016-1d0f-4048-9858-9afd41b6a7ba%27%2C+%2704542f70-aa5f-4972-8e19-dadb04bf43b2%27%2C+%278f643ec2-79bf-4840-bfab-eb2249d3d703%27%2C+%27af223f46-f4eb-4a87-aa3d-76c1185aaac0%27%2C+%272c6a09ff-8e70-4c5b-985d-43af8b381904%27%2C+%273f95ff12-f453-4ff2-a462-84e417ca72b2%27%2C+%27c824551b-9a96-452e-982b-9a2f0aba631e%27%2C+%2713b94ff0-4f2d-42ed-962a-c00683f4e3a3%27%2C+%27cffce643-89b5-4877-a24c-56869e735ca2%27%2C+%270d878319-cd19-4f6a-8913-425a10f2aa0b%27%2C+%276120eaff-6b88-4475-bfdf-ebf1faf8286a%27%2C+%27fcd939b3-3bfb-46f4-b088-aab846467f21%27%2C+%27db55494c-09f3-49f5-8fd7-939706574e86%27%2C+%270897a2d9-dd6a-4ca0-9a50-d34a63271749%27%2C+%279afdcc67-d6a5-43a8-a269-11b120f8d581%27%29&currentPageIndex=0 (Caused by ProxyError('Cannot connect to proxy.', RemoteDisconnected('Remote end closed connection without response')))\n",
      "An error occured in this thread!\n",
      "HTTPSConnectionPool(host='produits.groupe-pomona.fr', port=443): Max retries exceeded with url: /nuxeo/api/v1/id/00000000-0000-0000-0000-000000000000/@search?query=SELECT+%2A+FROM+Document+WHERE+ecm%3AprimaryType%3D%27pomProduct%27+AND+ecm%3AisVersion%3D0+AND+ecm%3Auuid+in+%28%27e2436847-6a2c-442f-b730-6bfe7711b396%27%2C+%27f960ea0b-26af-4cbe-b8e3-fef5b087da5e%27%2C+%27696aa385-6340-4b54-b2be-711c86a088ab%27%2C+%271d362398-fa29-4996-8f7a-45513a8a9e39%27%2C+%27524f7db6-6a61-4adc-8737-7cb5de1b077c%27%2C+%27dbaf9a18-ab43-47ee-bff7-523f0d6cdec4%27%2C+%27d7831902-6b71-40d5-ad72-e0a2e731b7e4%27%2C+%273710df96-fb69-4211-8611-bdb389cf4d30%27%2C+%273bc6d641-a282-40b5-af59-0b69a85c2d33%27%2C+%2784c28595-76c3-4d84-a6a1-490662693c3a%27%2C+%2763d0189a-1363-4f78-acf5-606f99e729b9%27%2C+%2711a68051-6fd0-498e-96a6-227022e25e76%27%2C+%279c7a206e-bc52-45fd-9e87-f8920f489466%27%2C+%27a9ebca40-cbb8-4a20-8aac-cfa256651097%27%2C+%27fef55bd6-12b2-40f4-ad5b-67f07f854ff1%27%2C+%27143711b1-0435-47a5-be69-8981fb081e48%27%2C+%27a03e708d-91cc-4271-91a6-bf1c8500202d%27%2C+%279d1ee456-38df-47da-a4ce-3ee14c2645bb%27%2C+%277462d665-c069-4d36-b3c8-9d8518a0206d%27%2C+%27538feda5-3d8a-4278-b002-6a14dcb5126e%27%29&currentPageIndex=0 (Caused by ProxyError('Cannot connect to proxy.', RemoteDisconnected('Remote end closed connection without response')))\n",
      "An error occured in this thread!\n",
      "HTTPSConnectionPool(host='produits.groupe-pomona.fr', port=443): Max retries exceeded with url: /nuxeo/api/v1/id/00000000-0000-0000-0000-000000000000/@search?query=SELECT+%2A+FROM+Document+WHERE+ecm%3AprimaryType%3D%27pomProduct%27+AND+ecm%3AisVersion%3D0+AND+ecm%3Auuid+in+%28%274115f75d-a35a-4290-9e8d-f81cfe22f108%27%2C+%27000a6c6e-a386-4d68-b117-9239ac0012b2%27%2C+%275ff176e7-1b25-41fd-872f-d2e7d9393102%27%2C+%275611497c-2760-4ca3-bb91-ab4a8b79690b%27%2C+%2703e4ad25-3e28-48fb-965f-a5404847dfcc%27%2C+%27bb763a73-a9c8-4371-8734-78d156257444%27%2C+%27d794d6ce-5a43-4617-9c6a-a6a5bc8d7573%27%2C+%27112eba69-8bcd-4174-96aa-eb21073fc9d4%27%2C+%2795f6ac68-5931-4dec-b295-081e1542e054%27%2C+%276486e271-a83e-434f-8089-a6649d8f9718%27%2C+%27a7c7b92e-72f0-4087-ab46-a5f9dc75a23d%27%2C+%27991380cf-7ffa-4e98-bfbd-0f53139e6cd4%27%2C+%2701972ec5-aba3-4b97-b112-cfb247cde89d%27%2C+%27672b9a09-4b0d-4eec-abe6-6e26760733e6%27%2C+%273c825ba1-ffc9-4d46-bb6e-40a39acb99e7%27%2C+%2759def295-e138-4811-9028-a8cfda4ce50d%27%2C+%272f60a911-f297-41a4-90ac-a36c5b60a09c%27%2C+%2784302986-ea7d-46b2-b1d7-8d9400363c25%27%2C+%274edf2205-846e-48cc-b1b4-82bd91e00458%27%2C+%27d4480115-5f0e-4849-add2-331d9fc55c62%27%29&currentPageIndex=0 (Caused by ProxyError('Cannot connect to proxy.', RemoteDisconnected('Remote end closed connection without response')))\n",
      "An error occured in this thread!\n",
      "HTTPSConnectionPool(host='produits.groupe-pomona.fr', port=443): Max retries exceeded with url: /nuxeo/api/v1/id/00000000-0000-0000-0000-000000000000/@search?query=SELECT+%2A+FROM+Document+WHERE+ecm%3AprimaryType%3D%27pomProduct%27+AND+ecm%3AisVersion%3D0+AND+ecm%3Auuid+in+%28%273bdf7fb1-0272-4cef-bb57-75886107c1d8%27%2C+%275a873f92-8f32-4440-bfbc-9ffaba4f77ba%27%2C+%27d58e7c49-7e88-4dac-bcb5-5a8fdcf2e02c%27%2C+%272aff134a-b779-46c0-b430-f926adf4ed5f%27%2C+%27b1de7b39-4049-462f-bea1-75c5c770f947%27%2C+%27d6777c70-6b0b-4fb1-8a43-6ecb01b5cc90%27%2C+%272bf18a84-10c5-4cd4-83bf-9635f94232dc%27%2C+%27fa7c5464-5257-4579-bbf0-f9fed503f995%27%2C+%279107168b-70c3-4150-9933-b9e6d9dc8ca2%27%2C+%2714583b8c-2dd0-424f-abcf-17585a03fafb%27%2C+%27f0106d9d-f5e7-4a37-92e3-348f293b283c%27%2C+%27567919f5-c2e5-4cb1-937a-c76664c12ab8%27%2C+%2757baf0c0-162b-48ef-a6ed-ba4f6c7996f1%27%2C+%277edc7130-2346-479d-9892-b50bd2ff57e5%27%2C+%27f2f3582a-0720-40da-bb91-3f6976cab489%27%2C+%27573368c8-663f-4623-819a-24de324c341e%27%2C+%27113aca17-ce6b-4e17-97e6-f86ce8cf99c0%27%2C+%279d49bee6-5892-42e9-9de9-860cc9c923b2%27%2C+%279dcd5dfd-ef51-40c8-85c3-0171396913c7%27%2C+%27e824dada-ffb5-49ca-86f9-4f2e7f021f57%27%29&currentPageIndex=0 (Caused by ProxyError('Cannot connect to proxy.', RemoteDisconnected('Remote end closed connection without response')))\n",
      "An error occured in this thread!\n",
      "HTTPSConnectionPool(host='produits.groupe-pomona.fr', port=443): Max retries exceeded with url: /nuxeo/api/v1/id/00000000-0000-0000-0000-000000000000/@search?query=SELECT+%2A+FROM+Document+WHERE+ecm%3AprimaryType%3D%27pomProduct%27+AND+ecm%3AisVersion%3D0+AND+ecm%3Auuid+in+%28%27cd604bc2-47b4-4cf8-b3b8-662767fbb1e2%27%2C+%2713b34967-1e30-4ed0-b91f-889cb6de21eb%27%2C+%2742b22c7c-eb8e-4161-b518-aae619df6f4c%27%2C+%27ff775e51-47b8-4bc4-8c6c-49ca20f147f9%27%2C+%2721fcf531-9bc6-4ef9-84b0-1c334e97cf06%27%2C+%27c81624b8-3ea4-4e03-bddf-76938986b37c%27%2C+%27dfbf8f40-1224-4652-882c-56f931eba10e%27%2C+%27530cb9bc-5793-416b-bbb5-1633e5fb7974%27%2C+%272280ab5a-6ccc-454a-9780-4e6b2756ec50%27%2C+%2788f04862-c8aa-4675-9db8-3d1f7e2d7ad6%27%2C+%2786b17a57-6317-422f-a9fb-4755d2dd6be4%27%2C+%2776e8a60e-a830-44d8-9e4c-a3c8744611dc%27%2C+%27be34f4b8-49f9-4067-901f-d936ab03dec9%27%2C+%2718e7db4f-fcde-4735-9881-6f6a291fddc8%27%2C+%27b09f152f-b07d-4c34-8dcb-7829ce9f08d9%27%2C+%2782c7eb3a-d9c8-430e-bed5-8abbaf1dc445%27%2C+%27fd113fe4-53cb-4858-a019-b13183fd209c%27%2C+%27aaa3013b-5210-44dc-87ff-2068ce09f1a5%27%2C+%27e473ebd1-765b-4929-9cad-14d226dc88c4%27%2C+%272e34229c-b49c-473b-b125-b5437ed2ddab%27%29&currentPageIndex=0 (Caused by ProxyError('Cannot connect to proxy.', RemoteDisconnected('Remote end closed connection without response')))\n"
     ]
    },
    {
     "name": "stdout",
     "output_type": "stream",
     "text": [
      "Done\n",
      "----------------------------------------\n",
      "Done\n",
      "----------------------------------------\n",
      "Launching 456 threads.\n",
      "Thread complete!\n",
      "An error occured in this thread!\n",
      "HTTPSConnectionPool(host='produits.groupe-pomona.fr', port=443): Max retries exceeded with url: /nuxeo/nxfile/default/05e9edf1-012b-4f84-88c5-464511e9c992/pprodad:technicalSheet (Caused by ProxyError('Cannot connect to proxy.', RemoteDisconnected('Remote end closed connection without response')))\n",
      "An error occured in this thread!\n",
      "HTTPSConnectionPool(host='produits.groupe-pomona.fr', port=443): Max retries exceeded with url: /nuxeo/nxfile/default/1371878b-bdc1-42fd-8770-605f1334499d/pprodad:technicalSheet (Caused by ProxyError('Cannot connect to proxy.', RemoteDisconnected('Remote end closed connection without response')))\n",
      "An error occured in this thread!\n",
      "HTTPSConnectionPool(host='produits.groupe-pomona.fr', port=443): Max retries exceeded with url: /nuxeo/nxfile/default/00c7bcb1-970e-4da9-9de8-2ec31a021a5a/pprodad:technicalSheet (Caused by ProxyError('Cannot connect to proxy.', RemoteDisconnected('Remote end closed connection without response')))\n",
      "An error occured in this thread!\n",
      "HTTPSConnectionPool(host='produits.groupe-pomona.fr', port=443): Max retries exceeded with url: /nuxeo/nxfile/default/226593fa-3710-42b8-8e9e-2f41d4ad19e5/pprodad:technicalSheet (Caused by ProxyError('Cannot connect to proxy.', RemoteDisconnected('Remote end closed connection without response')))\n",
      "An error occured in this thread!\n",
      "HTTPSConnectionPool(host='produits.groupe-pomona.fr', port=443): Max retries exceeded with url: /nuxeo/nxfile/default/0e02fb10-b3ab-4ce6-8e70-9d5cddfe6041/pprodad:technicalSheet (Caused by ProxyError('Cannot connect to proxy.', RemoteDisconnected('Remote end closed connection without response')))\n",
      "An error occured in this thread!\n",
      "HTTPSConnectionPool(host='produits.groupe-pomona.fr', port=443): Max retries exceeded with url: /nuxeo/nxfile/default/37f4aee3-0f73-4412-95c1-d58d238947a9/pprodad:label (Caused by ProxyError('Cannot connect to proxy.', RemoteDisconnected('Remote end closed connection without response')))\n",
      "An error occured in this thread!\n",
      "HTTPSConnectionPool(host='produits.groupe-pomona.fr', port=443): Max retries exceeded with url: /nuxeo/nxfile/default/29fa7feb-736f-47ca-a195-6836b6277c0e/pprodad:technicalSheet (Caused by ProxyError('Cannot connect to proxy.', RemoteDisconnected('Remote end closed connection without response')))\n",
      "An error occured in this thread!\n",
      "HTTPSConnectionPool(host='produits.groupe-pomona.fr', port=443): Max retries exceeded with url: /nuxeo/nxfile/default/01e50d14-0db5-4d1f-abe5-e362b0d6f430/pprodad:technicalSheet (Caused by ProxyError('Cannot connect to proxy.', RemoteDisconnected('Remote end closed connection without response')))\n",
      "An error occured in this thread!\n",
      "HTTPSConnectionPool(host='produits.groupe-pomona.fr', port=443): Max retries exceeded with url: /nuxeo/nxfile/default/1ed46395-2860-4751-ac21-6705a86f6219/pprodad:technicalSheet (Caused by ProxyError('Cannot connect to proxy.', RemoteDisconnected('Remote end closed connection without response')))\n",
      "An error occured in this thread!\n",
      "HTTPSConnectionPool(host='produits.groupe-pomona.fr', port=443): Max retries exceeded with url: /nuxeo/nxfile/default/1561e214-94b7-4242-a931-5377251673c7/pprodad:technicalSheet (Caused by ProxyError('Cannot connect to proxy.', RemoteDisconnected('Remote end closed connection without response')))\n",
      "An error occured in this thread!\n",
      "HTTPSConnectionPool(host='produits.groupe-pomona.fr', port=443): Max retries exceeded with url: /nuxeo/nxfile/default/168dff8c-74be-45ca-bc0a-8db0ba5d059d/pprodad:technicalSheet (Caused by ProxyError('Cannot connect to proxy.', RemoteDisconnected('Remote end closed connection without response')))\n",
      "An error occured in this thread!\n",
      "HTTPSConnectionPool(host='produits.groupe-pomona.fr', port=443): Max retries exceeded with url: /nuxeo/nxfile/default/0a416ebe-f4d1-4d80-a9f9-4b77cbddf35a/pprodad:technicalSheet (Caused by ProxyError('Cannot connect to proxy.', RemoteDisconnected('Remote end closed connection without response')))\n",
      "An error occured in this thread!\n",
      "HTTPSConnectionPool(host='produits.groupe-pomona.fr', port=443): Max retries exceeded with url: /nuxeo/nxfile/default/00e58659-6c4d-451f-9f33-f23321995cc9/pprodad:technicalSheet (Caused by ProxyError('Cannot connect to proxy.', RemoteDisconnected('Remote end closed connection without response')))\n",
      "An error occured in this thread!\n",
      "HTTPSConnectionPool(host='produits.groupe-pomona.fr', port=443): Max retries exceeded with url: /nuxeo/nxfile/default/0df268f6-c7d0-45f5-b449-cd5009e71467/pprodad:technicalSheet (Caused by ProxyError('Cannot connect to proxy.', RemoteDisconnected('Remote end closed connection without response')))\n",
      "An error occured in this thread!\n",
      "HTTPSConnectionPool(host='produits.groupe-pomona.fr', port=443): Max retries exceeded with url: /nuxeo/nxfile/default/3f3ef2e9-da15-45d6-bdf3-0dfd7b19c767/pprodad:technicalSheet (Caused by ProxyError('Cannot connect to proxy.', RemoteDisconnected('Remote end closed connection without response')))\n",
      "An error occured in this thread!\n",
      "HTTPSConnectionPool(host='produits.groupe-pomona.fr', port=443): Max retries exceeded with url: /nuxeo/nxfile/default/02991d4d-eff9-4a86-840c-cd96fc509518/pprodad:technicalSheet (Caused by ProxyError('Cannot connect to proxy.', RemoteDisconnected('Remote end closed connection without response')))\n",
      "An error occured in this thread!\n",
      "HTTPSConnectionPool(host='produits.groupe-pomona.fr', port=443): Max retries exceeded with url: /nuxeo/nxfile/default/139d5e5f-d05f-43fc-b9c4-19d9e995ad1f/pprodad:technicalSheet (Caused by ProxyError('Cannot connect to proxy.', RemoteDisconnected('Remote end closed connection without response')))\n",
      "An error occured in this thread!\n",
      "HTTPSConnectionPool(host='produits.groupe-pomona.fr', port=443): Max retries exceeded with url: /nuxeo/nxfile/default/019a18a6-2f3d-49c3-93e9-65a128d6c888/pprodad:technicalSheet (Caused by ProxyError('Cannot connect to proxy.', RemoteDisconnected('Remote end closed connection without response')))\n",
      "An error occured in this thread!\n",
      "HTTPSConnectionPool(host='produits.groupe-pomona.fr', port=443): Max retries exceeded with url: /nuxeo/nxfile/default/0992f070-d0a7-4e90-8d3c-ecbf0c98ade0/pprodad:technicalSheet (Caused by ProxyError('Cannot connect to proxy.', RemoteDisconnected('Remote end closed connection without response')))\n",
      "An error occured in this thread!\n",
      "An error occured in this thread!\n",
      "HTTPSConnectionPool(host='produits.groupe-pomona.fr', port=443): Max retries exceeded with url: /nuxeo/nxfile/default/1b1ee829-3060-4a0e-96fb-204c7fe19078/pprodad:technicalSheet (Caused by ProxyError('Cannot connect to proxy.', RemoteDisconnected('Remote end closed connection without response')))\n",
      "HTTPSConnectionPool(host='produits.groupe-pomona.fr', port=443): Max retries exceeded with url: /nuxeo/nxfile/default/228ae678-e7fc-4f40-9414-7723808d5605/pprodad:technicalSheet (Caused by ProxyError('Cannot connect to proxy.', RemoteDisconnected('Remote end closed connection without response')))An error occured in this thread!\n",
      "HTTPSConnectionPool(host='produits.groupe-pomona.fr', port=443): Max retries exceeded with url: /nuxeo/nxfile/default/0989658d-b709-413f-be9a-32b528da596d/pprodad:label (Caused by ProxyError('Cannot connect to proxy.', RemoteDisconnected('Remote end closed connection without response')))\n",
      "\n",
      "An error occured in this thread!\n",
      "HTTPSConnectionPool(host='produits.groupe-pomona.fr', port=443): Max retries exceeded with url: /nuxeo/nxfile/default/0bc50377-9452-4071-ad9b-147d57072160/pprodad:technicalSheet (Caused by ProxyError('Cannot connect to proxy.', RemoteDisconnected('Remote end closed connection without response')))\n",
      "An error occured in this thread!\n",
      "HTTPSConnectionPool(host='produits.groupe-pomona.fr', port=443): Max retries exceeded with url: /nuxeo/nxfile/default/01309ed5-e70c-4434-9f65-7b0637b96c6a/pprodad:technicalSheet (Caused by ProxyError('Cannot connect to proxy.', RemoteDisconnected('Remote end closed connection without response')))\n",
      "An error occured in this thread!\n",
      "HTTPSConnectionPool(host='produits.groupe-pomona.fr', port=443): Max retries exceeded with url: /nuxeo/nxfile/default/050d834a-c606-4756-a57d-149b49bef37d/pprodad:technicalSheet (Caused by ProxyError('Cannot connect to proxy.', RemoteDisconnected('Remote end closed connection without response')))\n",
      "An error occured in this thread!\n",
      "HTTPSConnectionPool(host='produits.groupe-pomona.fr', port=443): Max retries exceeded with url: /nuxeo/nxfile/default/02865ccc-6505-46f1-95d5-85e1b20f6a33/pprodad:technicalSheet (Caused by ProxyError('Cannot connect to proxy.', RemoteDisconnected('Remote end closed connection without response')))\n",
      "An error occured in this thread!\n",
      "HTTPSConnectionPool(host='produits.groupe-pomona.fr', port=443): Max retries exceeded with url: /nuxeo/nxfile/default/135176cf-d247-44bc-962d-7e1050ccf283/pprodad:technicalSheet (Caused by ProxyError('Cannot connect to proxy.', RemoteDisconnected('Remote end closed connection without response')))\n",
      "An error occured in this thread!\n",
      "HTTPSConnectionPool(host='produits.groupe-pomona.fr', port=443): Max retries exceeded with url: /nuxeo/nxfile/default/007fcf9e-2b4a-455c-8813-14f1380a5f51/pprodad:technicalSheet (Caused by ProxyError('Cannot connect to proxy.', RemoteDisconnected('Remote end closed connection without response')))\n",
      "An error occured in this thread!\n",
      "HTTPSConnectionPool(host='produits.groupe-pomona.fr', port=443): Max retries exceeded with url: /nuxeo/nxfile/default/15822265-4307-4920-94ea-3ec1e55a423f/pprodad:technicalSheet (Caused by ProxyError('Cannot connect to proxy.', RemoteDisconnected('Remote end closed connection without response')))\n",
      "An error occured in this thread!\n",
      "HTTPSConnectionPool(host='produits.groupe-pomona.fr', port=443): Max retries exceeded with url: /nuxeo/nxfile/default/116951be-1b1e-4987-bae3-b1395f56de66/pprodad:technicalSheet (Caused by ProxyError('Cannot connect to proxy.', RemoteDisconnected('Remote end closed connection without response')))\n",
      "An error occured in this thread!\n",
      "HTTPSConnectionPool(host='produits.groupe-pomona.fr', port=443): Max retries exceeded with url: /nuxeo/nxfile/default/03446348-c6dd-427b-b3f7-0be375ef6095/pprodad:technicalSheet (Caused by ProxyError('Cannot connect to proxy.', RemoteDisconnected('Remote end closed connection without response')))\n",
      "An error occured in this thread!\n",
      "HTTPSConnectionPool(host='produits.groupe-pomona.fr', port=443): Max retries exceeded with url: /nuxeo/nxfile/default/0c011c3b-c853-4772-8a8d-d3cbf0f687cb/pprodad:technicalSheet (Caused by ProxyError('Cannot connect to proxy.', RemoteDisconnected('Remote end closed connection without response')))\n",
      "An error occured in this thread!\n",
      "HTTPSConnectionPool(host='produits.groupe-pomona.fr', port=443): Max retries exceeded with url: /nuxeo/nxfile/default/01a45ca6-7c25-482c-84f0-05e47d6a88cf/pprodad:technicalSheet (Caused by ProxyError('Cannot connect to proxy.', RemoteDisconnected('Remote end closed connection without response')))\n",
      "An error occured in this thread!\n",
      "HTTPSConnectionPool(host='produits.groupe-pomona.fr', port=443): Max retries exceeded with url: /nuxeo/nxfile/default/0e8426cd-0fff-49f8-9a61-4bd16d5302f8/pprodad:technicalSheet (Caused by ProxyError('Cannot connect to proxy.', RemoteDisconnected('Remote end closed connection without response')))\n",
      "An error occured in this thread!\n",
      "HTTPSConnectionPool(host='produits.groupe-pomona.fr', port=443): Max retries exceeded with url: /nuxeo/nxfile/default/005c34a9-3fc3-4812-8ca6-dec2085289d6/pprodad:technicalSheet (Caused by ProxyError('Cannot connect to proxy.', RemoteDisconnected('Remote end closed connection without response')))\n",
      "An error occured in this thread!\n",
      "HTTPSConnectionPool(host='produits.groupe-pomona.fr', port=443): Max retries exceeded with url: /nuxeo/nxfile/default/03e2114d-a3a1-4774-b7d9-bb10ef293bc4/pprodad:technicalSheet (Caused by ProxyError('Cannot connect to proxy.', RemoteDisconnected('Remote end closed connection without response')))\n",
      "An error occured in this thread!\n",
      "HTTPSConnectionPool(host='produits.groupe-pomona.fr', port=443): Max retries exceeded with url: /nuxeo/nxfile/default/020a9682-48f1-4adf-b568-82884999ce88/pprodad:technicalSheet (Caused by ProxyError('Cannot connect to proxy.', RemoteDisconnected('Remote end closed connection without response')))\n",
      "An error occured in this thread!\n",
      "HTTPSConnectionPool(host='produits.groupe-pomona.fr', port=443): Max retries exceeded with url: /nuxeo/nxfile/default/24a15883-7807-4141-a6cd-0a500784b9bd/pprodad:technicalSheet (Caused by ProxyError('Cannot connect to proxy.', RemoteDisconnected('Remote end closed connection without response')))\n",
      "An error occured in this thread!\n",
      "HTTPSConnectionPool(host='produits.groupe-pomona.fr', port=443): Max retries exceeded with url: /nuxeo/nxfile/default/0bb44d09-4659-4d15-9606-47921bc25122/pprodad:technicalSheet (Caused by ProxyError('Cannot connect to proxy.', RemoteDisconnected('Remote end closed connection without response')))\n",
      "An error occured in this thread!\n",
      "HTTPSConnectionPool(host='produits.groupe-pomona.fr', port=443): Max retries exceeded with url: /nuxeo/nxfile/default/0317babe-106a-42a6-a493-1a5f1d60b23c/pprodad:technicalSheet (Caused by ProxyError('Cannot connect to proxy.', RemoteDisconnected('Remote end closed connection without response')))\n",
      "An error occured in this thread!\n",
      "HTTPSConnectionPool(host='produits.groupe-pomona.fr', port=443): Max retries exceeded with url: /nuxeo/nxfile/default/0b49265b-2fb9-45ba-bc5a-184878575287/pprodad:technicalSheet (Caused by ProxyError('Cannot connect to proxy.', RemoteDisconnected('Remote end closed connection without response')))\n",
      "An error occured in this thread!\n",
      "HTTPSConnectionPool(host='produits.groupe-pomona.fr', port=443): Max retries exceeded with url: /nuxeo/nxfile/default/002db456-c278-46f4-95d3-61b6f8864352/pprodad:technicalSheet (Caused by ProxyError('Cannot connect to proxy.', RemoteDisconnected('Remote end closed connection without response')))\n",
      "An error occured in this thread!\n",
      "HTTPSConnectionPool(host='produits.groupe-pomona.fr', port=443): Max retries exceeded with url: /nuxeo/nxfile/default/016b5e2f-b28c-4dc7-bc06-99c77e207104/pprodad:technicalSheet (Caused by ProxyError('Cannot connect to proxy.', RemoteDisconnected('Remote end closed connection without response')))\n",
      "An error occured in this thread!\n",
      "HTTPSConnectionPool(host='produits.groupe-pomona.fr', port=443): Max retries exceeded with url: /nuxeo/nxfile/default/08a5f591-7051-4824-b3cb-73b3995d8be0/pprodad:technicalSheet (Caused by ProxyError('Cannot connect to proxy.', RemoteDisconnected('Remote end closed connection without response')))\n",
      "An error occured in this thread!\n",
      "HTTPSConnectionPool(host='produits.groupe-pomona.fr', port=443): Max retries exceeded with url: /nuxeo/nxfile/default/0739eb2d-2fad-4646-8f71-924c7e4e99fc/pprodad:technicalSheet (Caused by ProxyError('Cannot connect to proxy.', RemoteDisconnected('Remote end closed connection without response')))\n",
      "An error occured in this thread!\n",
      "HTTPSConnectionPool(host='produits.groupe-pomona.fr', port=443): Max retries exceeded with url: /nuxeo/nxfile/default/0f2a03bb-3045-45c5-88bf-4497d1e781f0/pprodad:technicalSheet (Caused by ProxyError('Cannot connect to proxy.', RemoteDisconnected('Remote end closed connection without response')))\n",
      "An error occured in this thread!\n",
      "HTTPSConnectionPool(host='produits.groupe-pomona.fr', port=443): Max retries exceeded with url: /nuxeo/nxfile/default/09769d1a-2eb8-4411-926d-45ba6c3fd38b/pprodad:technicalSheet (Caused by ProxyError('Cannot connect to proxy.', RemoteDisconnected('Remote end closed connection without response')))\n",
      "An error occured in this thread!\n",
      "HTTPSConnectionPool(host='produits.groupe-pomona.fr', port=443): Max retries exceeded with url: /nuxeo/nxfile/default/09ffef13-91c9-4739-a698-218cc4827dd9/pprodad:technicalSheet (Caused by ProxyError('Cannot connect to proxy.', RemoteDisconnected('Remote end closed connection without response')))\n",
      "An error occured in this thread!\n",
      "HTTPSConnectionPool(host='produits.groupe-pomona.fr', port=443): Max retries exceeded with url: /nuxeo/nxfile/default/0c9312a9-9a03-40c5-9b83-7be9bba8de46/pprodad:technicalSheet (Caused by ProxyError('Cannot connect to proxy.', RemoteDisconnected('Remote end closed connection without response')))\n",
      "An error occured in this thread!\n",
      "HTTPSConnectionPool(host='produits.groupe-pomona.fr', port=443): Max retries exceeded with url: /nuxeo/nxfile/default/10c031a8-15ae-4efe-9c33-1ae78b562211/pprodad:technicalSheet (Caused by ProxyError('Cannot connect to proxy.', RemoteDisconnected('Remote end closed connection without response')))\n"
     ]
    },
    {
     "name": "stdout",
     "output_type": "stream",
     "text": [
      "An error occured in this thread!\n",
      "HTTPSConnectionPool(host='produits.groupe-pomona.fr', port=443): Max retries exceeded with url: /nuxeo/nxfile/default/0765eb77-6350-4718-b82a-71b13766db65/pprodad:technicalSheet (Caused by ProxyError('Cannot connect to proxy.', RemoteDisconnected('Remote end closed connection without response')))\n",
      "An error occured in this thread!\n",
      "HTTPSConnectionPool(host='produits.groupe-pomona.fr', port=443): Max retries exceeded with url: /nuxeo/nxfile/default/0eee2d3d-1600-475b-9def-c2a9f20e1b76/pprodad:technicalSheet (Caused by ProxyError('Cannot connect to proxy.', RemoteDisconnected('Remote end closed connection without response')))\n",
      "An error occured in this thread!\n",
      "HTTPSConnectionPool(host='produits.groupe-pomona.fr', port=443): Max retries exceeded with url: /nuxeo/nxfile/default/377c4cd6-6287-44b9-9426-3b5437512574/pprodad:technicalSheet (Caused by ProxyError('Cannot connect to proxy.', RemoteDisconnected('Remote end closed connection without response')))\n",
      "An error occured in this thread!\n",
      "HTTPSConnectionPool(host='produits.groupe-pomona.fr', port=443): Max retries exceeded with url: /nuxeo/nxfile/default/125269c4-986d-4c1b-ae61-bbae4a3f8a07/pprodad:technicalSheet (Caused by ProxyError('Cannot connect to proxy.', RemoteDisconnected('Remote end closed connection without response')))\n",
      "An error occured in this thread!\n",
      "HTTPSConnectionPool(host='produits.groupe-pomona.fr', port=443): Max retries exceeded with url: /nuxeo/nxfile/default/062203f2-0313-4cdf-b7dd-24606bab3077/pprodad:technicalSheet (Caused by ProxyError('Cannot connect to proxy.', RemoteDisconnected('Remote end closed connection without response')))\n",
      "An error occured in this thread!\n",
      "HTTPSConnectionPool(host='produits.groupe-pomona.fr', port=443): Max retries exceeded with url: /nuxeo/nxfile/default/0111c5f2-f00b-4fba-a266-716b3909f4b5/pprodad:technicalSheet (Caused by ProxyError('Cannot connect to proxy.', RemoteDisconnected('Remote end closed connection without response')))\n",
      "An error occured in this thread!\n",
      "HTTPSConnectionPool(host='produits.groupe-pomona.fr', port=443): Max retries exceeded with url: /nuxeo/nxfile/default/03a73474-6c72-4dbe-a7e0-68f95a70e2de/pprodad:technicalSheet (Caused by ProxyError('Cannot connect to proxy.', RemoteDisconnected('Remote end closed connection without response')))\n",
      "An error occured in this thread!\n",
      "HTTPSConnectionPool(host='produits.groupe-pomona.fr', port=443): Max retries exceeded with url: /nuxeo/nxfile/default/071210c2-c07d-44f2-b080-4b3d14c5dce3/pprodad:technicalSheet (Caused by ProxyError('Cannot connect to proxy.', RemoteDisconnected('Remote end closed connection without response')))\n",
      "An error occured in this thread!\n",
      "HTTPSConnectionPool(host='produits.groupe-pomona.fr', port=443): Max retries exceeded with url: /nuxeo/nxfile/default/00116215-08b5-4343-b20c-e929627c01c5/pprodad:technicalSheet (Caused by ProxyError('Cannot connect to proxy.', RemoteDisconnected('Remote end closed connection without response')))\n",
      "An error occured in this thread!\n",
      "HTTPSConnectionPool(host='produits.groupe-pomona.fr', port=443): Max retries exceeded with url: /nuxeo/nxfile/default/003eed59-188e-426f-a467-0b1119a1457a/pprodad:technicalSheet (Caused by ProxyError('Cannot connect to proxy.', RemoteDisconnected('Remote end closed connection without response')))\n",
      "An error occured in this thread!\n",
      "HTTPSConnectionPool(host='produits.groupe-pomona.fr', port=443): Max retries exceeded with url: /nuxeo/nxfile/default/082ae95a-e713-4e51-9eb0-092082e964e5/pprodad:technicalSheet (Caused by ProxyError('Cannot connect to proxy.', RemoteDisconnected('Remote end closed connection without response')))\n",
      "An error occured in this thread!An error occured in this thread!\n",
      "HTTPSConnectionPool(host='produits.groupe-pomona.fr', port=443): Max retries exceeded with url: /nuxeo/nxfile/default/00debf6c-51b4-4aa5-a6f6-9ce853e4f411/pprodad:technicalSheet (Caused by ProxyError('Cannot connect to proxy.', RemoteDisconnected('Remote end closed connection without response')))\n",
      "An error occured in this thread!\n",
      "HTTPSConnectionPool(host='produits.groupe-pomona.fr', port=443): Max retries exceeded with url: /nuxeo/nxfile/default/0ee87bfc-c014-49a9-bdbd-8e2d47ee7d8f/pprodad:technicalSheet (Caused by ProxyError('Cannot connect to proxy.', RemoteDisconnected('Remote end closed connection without response')))\n",
      "An error occured in this thread!\n",
      "HTTPSConnectionPool(host='produits.groupe-pomona.fr', port=443): Max retries exceeded with url: /nuxeo/nxfile/default/03117a2e-fff5-4769-944e-d2ec9151ff9c/pprodad:technicalSheet (Caused by ProxyError('Cannot connect to proxy.', RemoteDisconnected('Remote end closed connection without response')))\n",
      "An error occured in this thread!\n",
      "HTTPSConnectionPool(host='produits.groupe-pomona.fr', port=443): Max retries exceeded with url: /nuxeo/nxfile/default/06a03132-1c40-405b-bcd0-45d2474c00c9/pprodad:technicalSheet (Caused by ProxyError('Cannot connect to proxy.', RemoteDisconnected('Remote end closed connection without response')))\n",
      "An error occured in this thread!\n",
      "HTTPSConnectionPool(host='produits.groupe-pomona.fr', port=443): Max retries exceeded with url: /nuxeo/nxfile/default/1acd96ea-34a4-4ca9-975c-9cca86aa8e32/pprodad:technicalSheet (Caused by ProxyError('Cannot connect to proxy.', RemoteDisconnected('Remote end closed connection without response')))\n",
      "An error occured in this thread!\n",
      "HTTPSConnectionPool(host='produits.groupe-pomona.fr', port=443): Max retries exceeded with url: /nuxeo/nxfile/default/0388f59a-cae9-4ba3-a7e4-74d02b951947/pprodad:technicalSheet (Caused by ProxyError('Cannot connect to proxy.', RemoteDisconnected('Remote end closed connection without response')))\n",
      "An error occured in this thread!\n",
      "HTTPSConnectionPool(host='produits.groupe-pomona.fr', port=443): Max retries exceeded with url: /nuxeo/nxfile/default/0ae783bd-fd14-4f23-926b-8b248f707919/pprodad:technicalSheet (Caused by ProxyError('Cannot connect to proxy.', RemoteDisconnected('Remote end closed connection without response')))\n",
      "An error occured in this thread!\n",
      "HTTPSConnectionPool(host='produits.groupe-pomona.fr', port=443): Max retries exceeded with url: /nuxeo/nxfile/default/1c881765-456a-43f0-b8c3-a3cf28f74d2f/pprodad:label (Caused by ProxyError('Cannot connect to proxy.', RemoteDisconnected('Remote end closed connection without response')))\n",
      "\n",
      "An error occured in this thread!\n",
      "HTTPSConnectionPool(host='produits.groupe-pomona.fr', port=443): Max retries exceeded with url: /nuxeo/nxfile/default/04e4ff28-e9a8-44b5-b8a5-b09c39273eab/pprodad:technicalSheet (Caused by ProxyError('Cannot connect to proxy.', RemoteDisconnected('Remote end closed connection without response')))\n",
      "HTTPSConnectionPool(host='produits.groupe-pomona.fr', port=443): Max retries exceeded with url: /nuxeo/nxfile/default/02ec3107-9ff7-4b50-ba55-d7cc44e1e393/pprodad:technicalSheet (Caused by ProxyError('Cannot connect to proxy.', RemoteDisconnected('Remote end closed connection without response')))\n",
      "An error occured in this thread!\n",
      "HTTPSConnectionPool(host='produits.groupe-pomona.fr', port=443): Max retries exceeded with url: /nuxeo/nxfile/default/0557c348-a939-4e21-ac4a-a839a92dfc81/pprodad:technicalSheet (Caused by ProxyError('Cannot connect to proxy.', RemoteDisconnected('Remote end closed connection without response')))\n",
      "An error occured in this thread!\n",
      "HTTPSConnectionPool(host='produits.groupe-pomona.fr', port=443): Max retries exceeded with url: /nuxeo/nxfile/default/3096666b-7c03-4f56-bbb9-255ff02e1bc0/pprodad:technicalSheet (Caused by ProxyError('Cannot connect to proxy.', RemoteDisconnected('Remote end closed connection without response')))\n",
      "An error occured in this thread!\n",
      "HTTPSConnectionPool(host='produits.groupe-pomona.fr', port=443): Max retries exceeded with url: /nuxeo/nxfile/default/1574f354-66b9-4c08-a242-26d513fddab6/pprodad:technicalSheet (Caused by ProxyError('Cannot connect to proxy.', RemoteDisconnected('Remote end closed connection without response')))\n",
      "An error occured in this thread!\n",
      "HTTPSConnectionPool(host='produits.groupe-pomona.fr', port=443): Max retries exceeded with url: /nuxeo/nxfile/default/164ca5d9-dee5-4893-b3ac-c776ea3066e5/pprodad:technicalSheet (Caused by ProxyError('Cannot connect to proxy.', RemoteDisconnected('Remote end closed connection without response')))\n",
      "An error occured in this thread!\n",
      "HTTPSConnectionPool(host='produits.groupe-pomona.fr', port=443): Max retries exceeded with url: /nuxeo/nxfile/default/0d7c81de-d3a7-42d4-a814-2032a975b6e3/pprodad:technicalSheet (Caused by ProxyError('Cannot connect to proxy.', RemoteDisconnected('Remote end closed connection without response')))\n",
      "An error occured in this thread!\n",
      "HTTPSConnectionPool(host='produits.groupe-pomona.fr', port=443): Max retries exceeded with url: /nuxeo/nxfile/default/05e8c689-dbc7-4905-a3da-61dab0cdd4de/pprodad:technicalSheet (Caused by ProxyError('Cannot connect to proxy.', RemoteDisconnected('Remote end closed connection without response')))\n",
      "An error occured in this thread!\n",
      "HTTPSConnectionPool(host='produits.groupe-pomona.fr', port=443): Max retries exceeded with url: /nuxeo/nxfile/default/00a28d45-6661-44f0-8570-d5c433d65fd5/pprodad:technicalSheet (Caused by ProxyError('Cannot connect to proxy.', RemoteDisconnected('Remote end closed connection without response')))\n",
      "An error occured in this thread!\n",
      "HTTPSConnectionPool(host='produits.groupe-pomona.fr', port=443): Max retries exceeded with url: /nuxeo/nxfile/default/0024a49a-59d7-4710-8f32-3d646c3afed1/pprodad:technicalSheet (Caused by ProxyError('Cannot connect to proxy.', RemoteDisconnected('Remote end closed connection without response')))\n",
      "An error occured in this thread!\n",
      "HTTPSConnectionPool(host='produits.groupe-pomona.fr', port=443): Max retries exceeded with url: /nuxeo/nxfile/default/07c25e90-21a1-4f64-9b63-b142446d8c8c/pprodad:technicalSheet (Caused by ProxyError('Cannot connect to proxy.', RemoteDisconnected('Remote end closed connection without response')))\n",
      "An error occured in this thread!\n",
      "HTTPSConnectionPool(host='produits.groupe-pomona.fr', port=443): Max retries exceeded with url: /nuxeo/nxfile/default/0a8b18f5-38ff-41a8-a574-da90a5c459ea/pprodad:technicalSheet (Caused by ProxyError('Cannot connect to proxy.', RemoteDisconnected('Remote end closed connection without response')))\n",
      "An error occured in this thread!\n",
      "HTTPSConnectionPool(host='produits.groupe-pomona.fr', port=443): Max retries exceeded with url: /nuxeo/nxfile/default/0400d5df-19e5-4361-95d1-31f1ffec3590/pprodad:technicalSheet (Caused by ProxyError('Cannot connect to proxy.', RemoteDisconnected('Remote end closed connection without response')))\n",
      "An error occured in this thread!\n",
      "HTTPSConnectionPool(host='produits.groupe-pomona.fr', port=443): Max retries exceeded with url: /nuxeo/nxfile/default/0f305002-5ae0-440d-a664-0415b6b59ade/pprodad:technicalSheet (Caused by ProxyError('Cannot connect to proxy.', RemoteDisconnected('Remote end closed connection without response')))\n",
      "An error occured in this thread!\n",
      "HTTPSConnectionPool(host='produits.groupe-pomona.fr', port=443): Max retries exceeded with url: /nuxeo/nxfile/default/05d85477-7816-4797-86c0-c4a58885a5e1/pprodad:technicalSheet (Caused by ProxyError('Cannot connect to proxy.', RemoteDisconnected('Remote end closed connection without response')))\n",
      "An error occured in this thread!\n",
      "HTTPSConnectionPool(host='produits.groupe-pomona.fr', port=443): Max retries exceeded with url: /nuxeo/nxfile/default/016ba115-4a8e-4720-b6fc-196160fa3650/pprodad:technicalSheet (Caused by ProxyError('Cannot connect to proxy.', RemoteDisconnected('Remote end closed connection without response')))\n",
      "An error occured in this thread!\n",
      "HTTPSConnectionPool(host='produits.groupe-pomona.fr', port=443): Max retries exceeded with url: /nuxeo/nxfile/default/157da710-1990-42f1-b102-b2f91b3de088/pprodad:technicalSheet (Caused by ProxyError('Cannot connect to proxy.', RemoteDisconnected('Remote end closed connection without response')))\n",
      "An error occured in this thread!\n",
      "HTTPSConnectionPool(host='produits.groupe-pomona.fr', port=443): Max retries exceeded with url: /nuxeo/nxfile/default/0058ab55-1ab3-4ce7-a1c0-339c5ac23e43/pprodad:technicalSheet (Caused by ProxyError('Cannot connect to proxy.', RemoteDisconnected('Remote end closed connection without response')))\n",
      "An error occured in this thread!\n",
      "HTTPSConnectionPool(host='produits.groupe-pomona.fr', port=443): Max retries exceeded with url: /nuxeo/nxfile/default/041ab2a7-241c-42ed-8f93-099e8addd230/pprodad:technicalSheet (Caused by ProxyError('Cannot connect to proxy.', RemoteDisconnected('Remote end closed connection without response')))\n",
      "An error occured in this thread!\n",
      "HTTPSConnectionPool(host='produits.groupe-pomona.fr', port=443): Max retries exceeded with url: /nuxeo/nxfile/default/028cffde-6de4-4387-877d-f9d410fe2797/pprodad:technicalSheet (Caused by ProxyError('Cannot connect to proxy.', RemoteDisconnected('Remote end closed connection without response')))\n",
      "An error occured in this thread!\n",
      "HTTPSConnectionPool(host='produits.groupe-pomona.fr', port=443): Max retries exceeded with url: /nuxeo/nxfile/default/1700695c-75c8-4f51-af06-30587d171771/pprodad:technicalSheet (Caused by ProxyError('Cannot connect to proxy.', RemoteDisconnected('Remote end closed connection without response')))\n",
      "An error occured in this thread!\n",
      "HTTPSConnectionPool(host='produits.groupe-pomona.fr', port=443): Max retries exceeded with url: /nuxeo/nxfile/default/0bcd5b98-27de-4be6-a133-ec24e827b4a9/pprodad:label (Caused by ProxyError('Cannot connect to proxy.', RemoteDisconnected('Remote end closed connection without response')))\n",
      "An error occured in this thread!\n",
      "HTTPSConnectionPool(host='produits.groupe-pomona.fr', port=443): Max retries exceeded with url: /nuxeo/nxfile/default/0922a355-99cd-4812-a176-281a2b32f548/pprodad:technicalSheet (Caused by ProxyError('Cannot connect to proxy.', RemoteDisconnected('Remote end closed connection without response')))\n",
      "An error occured in this thread!\n",
      "HTTPSConnectionPool(host='produits.groupe-pomona.fr', port=443): Max retries exceeded with url: /nuxeo/nxfile/default/01b6f967-3687-49c7-8a14-7008099394ab/pprodad:technicalSheet (Caused by ProxyError('Cannot connect to proxy.', RemoteDisconnected('Remote end closed connection without response')))\n",
      "An error occured in this thread!\n",
      "HTTPSConnectionPool(host='produits.groupe-pomona.fr', port=443): Max retries exceeded with url: /nuxeo/nxfile/default/0a636979-1555-4efd-883c-764a6268b538/pprodad:technicalSheet (Caused by ProxyError('Cannot connect to proxy.', RemoteDisconnected('Remote end closed connection without response')))\n",
      "An error occured in this thread!\n",
      "HTTPSConnectionPool(host='produits.groupe-pomona.fr', port=443): Max retries exceeded with url: /nuxeo/nxfile/default/0236ad3f-4f92-4acc-99f6-e3997f873d2b/pprodad:technicalSheet (Caused by ProxyError('Cannot connect to proxy.', RemoteDisconnected('Remote end closed connection without response')))\n",
      "An error occured in this thread!\n",
      "HTTPSConnectionPool(host='produits.groupe-pomona.fr', port=443): Max retries exceeded with url: /nuxeo/nxfile/default/09536667-1e10-47a0-b672-1ba10f819fb1/pprodad:technicalSheet (Caused by ProxyError('Cannot connect to proxy.', RemoteDisconnected('Remote end closed connection without response')))\n"
     ]
    },
    {
     "name": "stdout",
     "output_type": "stream",
     "text": [
      "An error occured in this thread!\n",
      "HTTPSConnectionPool(host='produits.groupe-pomona.fr', port=443): Max retries exceeded with url: /nuxeo/nxfile/default/11bfb6c0-c86c-4a2c-90ce-3e5c5a63e783/pprodad:technicalSheet (Caused by ProxyError('Cannot connect to proxy.', RemoteDisconnected('Remote end closed connection without response')))\n",
      "An error occured in this thread!\n",
      "HTTPSConnectionPool(host='produits.groupe-pomona.fr', port=443): Max retries exceeded with url: /nuxeo/nxfile/default/1a421514-f7a7-42c9-8418-72ada62c6268/pprodad:technicalSheet (Caused by ProxyError('Cannot connect to proxy.', RemoteDisconnected('Remote end closed connection without response')))\n",
      "An error occured in this thread!\n",
      "HTTPSConnectionPool(host='produits.groupe-pomona.fr', port=443): Max retries exceeded with url: /nuxeo/nxfile/default/00c39185-edad-41a3-afde-eb7bcab2f0af/pprodad:technicalSheet (Caused by ProxyError('Cannot connect to proxy.', RemoteDisconnected('Remote end closed connection without response')))\n",
      "An error occured in this thread!\n",
      "HTTPSConnectionPool(host='produits.groupe-pomona.fr', port=443): Max retries exceeded with url: /nuxeo/nxfile/default/0edc86b7-00fe-49f3-bce5-8a452bd8cd74/pprodad:technicalSheet (Caused by ProxyError('Cannot connect to proxy.', RemoteDisconnected('Remote end closed connection without response')))\n",
      "An error occured in this thread!\n",
      "HTTPSConnectionPool(host='produits.groupe-pomona.fr', port=443): Max retries exceeded with url: /nuxeo/nxfile/default/0680f6ec-9465-4d66-b2c7-fe4086ca7391/pprodad:technicalSheet (Caused by ProxyError('Cannot connect to proxy.', RemoteDisconnected('Remote end closed connection without response')))\n",
      "An error occured in this thread!\n",
      "HTTPSConnectionPool(host='produits.groupe-pomona.fr', port=443): Max retries exceeded with url: /nuxeo/nxfile/default/16960dcf-e146-4628-b9f8-def823e3c92f/pprodad:technicalSheet (Caused by ProxyError('Cannot connect to proxy.', RemoteDisconnected('Remote end closed connection without response')))\n",
      "An error occured in this thread!\n",
      "HTTPSConnectionPool(host='produits.groupe-pomona.fr', port=443): Max retries exceeded with url: /nuxeo/nxfile/default/28789873-d4c3-4d07-8a31-4bf8296015eb/pprodad:technicalSheet (Caused by ProxyError('Cannot connect to proxy.', RemoteDisconnected('Remote end closed connection without response')))\n",
      "An error occured in this thread!\n",
      "HTTPSConnectionPool(host='produits.groupe-pomona.fr', port=443): Max retries exceeded with url: /nuxeo/nxfile/default/0aa76d77-6217-41a2-a619-18793b01c2a5/pprodad:technicalSheet (Caused by ProxyError('Cannot connect to proxy.', RemoteDisconnected('Remote end closed connection without response')))\n",
      "An error occured in this thread!\n",
      "HTTPSConnectionPool(host='produits.groupe-pomona.fr', port=443): Max retries exceeded with url: /nuxeo/nxfile/default/0d44ca62-bc51-48bb-b58b-50a1db147687/pprodad:technicalSheet (Caused by ProxyError('Cannot connect to proxy.', RemoteDisconnected('Remote end closed connection without response')))\n",
      "An error occured in this thread!\n",
      "HTTPSConnectionPool(host='produits.groupe-pomona.fr', port=443): Max retries exceeded with url: /nuxeo/nxfile/default/00a1c69c-b736-410d-b3ce-048c1212af96/pprodad:technicalSheet (Caused by ProxyError('Cannot connect to proxy.', RemoteDisconnected('Remote end closed connection without response')))\n",
      "An error occured in this thread!\n",
      "HTTPSConnectionPool(host='produits.groupe-pomona.fr', port=443): Max retries exceeded with url: /nuxeo/nxfile/default/072c58d8-aa70-4a20-b3a1-a4da5d0d4a94/pprodad:technicalSheet (Caused by ProxyError('Cannot connect to proxy.', RemoteDisconnected('Remote end closed connection without response')))\n",
      "An error occured in this thread!\n",
      "HTTPSConnectionPool(host='produits.groupe-pomona.fr', port=443): Max retries exceeded with url: /nuxeo/nxfile/default/14d6a5a3-8bc2-4f5d-bb34-e5d8672cb879/pprodad:label (Caused by ProxyError('Cannot connect to proxy.', RemoteDisconnected('Remote end closed connection without response')))\n",
      "An error occured in this thread!\n",
      "HTTPSConnectionPool(host='produits.groupe-pomona.fr', port=443): Max retries exceeded with url: /nuxeo/nxfile/default/00bceea3-57b2-4998-b4b3-9b046358926c/pprodad:technicalSheet (Caused by ProxyError('Cannot connect to proxy.', RemoteDisconnected('Remote end closed connection without response')))\n",
      "An error occured in this thread!\n",
      "HTTPSConnectionPool(host='produits.groupe-pomona.fr', port=443): Max retries exceeded with url: /nuxeo/nxfile/default/043cafa3-4c6e-44aa-987e-3a5466e4b76f/pprodad:label (Caused by ProxyError('Cannot connect to proxy.', RemoteDisconnected('Remote end closed connection without response')))\n",
      "An error occured in this thread!\n",
      "HTTPSConnectionPool(host='produits.groupe-pomona.fr', port=443): Max retries exceeded with url: /nuxeo/nxfile/default/02a69b7d-6e93-455a-b96a-ebfdf855c6d9/pprodad:technicalSheet (Caused by ProxyError('Cannot connect to proxy.', RemoteDisconnected('Remote end closed connection without response')))\n",
      "An error occured in this thread!\n",
      "HTTPSConnectionPool(host='produits.groupe-pomona.fr', port=443): Max retries exceeded with url: /nuxeo/nxfile/default/076ed7df-2b3b-420e-a62b-bd7efcb6e43c/pprodad:technicalSheet (Caused by ProxyError('Cannot connect to proxy.', RemoteDisconnected('Remote end closed connection without response')))\n",
      "An error occured in this thread!\n",
      "HTTPSConnectionPool(host='produits.groupe-pomona.fr', port=443): Max retries exceeded with url: /nuxeo/nxfile/default/074ed4d8-c2a1-45e1-a560-f0009f5c75c5/pprodad:technicalSheet (Caused by ProxyError('Cannot connect to proxy.', RemoteDisconnected('Remote end closed connection without response')))\n",
      "An error occured in this thread!\n",
      "HTTPSConnectionPool(host='produits.groupe-pomona.fr', port=443): Max retries exceeded with url: /nuxeo/nxfile/default/080f7b51-8c2c-4640-9105-b6ac72f52ae8/pprodad:technicalSheet (Caused by ProxyError('Cannot connect to proxy.', RemoteDisconnected('Remote end closed connection without response')))\n",
      "An error occured in this thread!\n",
      "HTTPSConnectionPool(host='produits.groupe-pomona.fr', port=443): Max retries exceeded with url: /nuxeo/nxfile/default/13660b70-83d3-43cc-95f2-efa509f51f3f/pprodad:technicalSheet (Caused by ProxyError('Cannot connect to proxy.', RemoteDisconnected('Remote end closed connection without response')))\n",
      "An error occured in this thread!\n",
      "HTTPSConnectionPool(host='produits.groupe-pomona.fr', port=443): Max retries exceeded with url: /nuxeo/nxfile/default/12851f9a-39e8-4011-b165-0c4d1457627f/pprodad:technicalSheet (Caused by ProxyError('Cannot connect to proxy.', RemoteDisconnected('Remote end closed connection without response')))\n",
      "An error occured in this thread!\n",
      "HTTPSConnectionPool(host='produits.groupe-pomona.fr', port=443): Max retries exceeded with url: /nuxeo/nxfile/default/12dd3928-52a7-46cb-a9b6-db101b6371da/pprodad:technicalSheet (Caused by ProxyError('Cannot connect to proxy.', RemoteDisconnected('Remote end closed connection without response')))\n",
      "An error occured in this thread!\n",
      "HTTPSConnectionPool(host='produits.groupe-pomona.fr', port=443): Max retries exceeded with url: /nuxeo/nxfile/default/026cb6d2-fabd-459f-9501-12c2ca2d47e5/pprodad:technicalSheet (Caused by ProxyError('Cannot connect to proxy.', RemoteDisconnected('Remote end closed connection without response')))\n",
      "An error occured in this thread!\n",
      "HTTPSConnectionPool(host='produits.groupe-pomona.fr', port=443): Max retries exceeded with url: /nuxeo/nxfile/default/0072f4d8-bc36-449d-9a07-3c324c4879a1/pprodad:technicalSheet (Caused by ProxyError('Cannot connect to proxy.', RemoteDisconnected('Remote end closed connection without response')))\n",
      "An error occured in this thread!\n",
      "HTTPSConnectionPool(host='produits.groupe-pomona.fr', port=443): Max retries exceeded with url: /nuxeo/nxfile/default/114f63b1-0cfd-4f9e-a6f8-735e9b6121e8/pprodad:technicalSheet (Caused by ProxyError('Cannot connect to proxy.', RemoteDisconnected('Remote end closed connection without response')))\n",
      "An error occured in this thread!\n",
      "HTTPSConnectionPool(host='produits.groupe-pomona.fr', port=443): Max retries exceeded with url: /nuxeo/nxfile/default/01d2e8a4-d619-4672-889b-9e75fa37453a/pprodad:technicalSheet (Caused by ProxyError('Cannot connect to proxy.', RemoteDisconnected('Remote end closed connection without response')))An error occured in this thread!\n",
      "HTTPSConnectionPool(host='produits.groupe-pomona.fr', port=443): Max retries exceeded with url: /nuxeo/nxfile/default/25c5100d-7bff-4a06-859e-13c4a11be60b/pprodad:technicalSheet (Caused by ProxyError('Cannot connect to proxy.', RemoteDisconnected('Remote end closed connection without response')))\n",
      "\n"
     ]
    }
   ],
   "source": [
    "#requester = Requester('prd', proxies=None)\n",
    "requester = Requester('prd')\n",
    "print('----------------------------------------')\n",
    "requester.refresh_directory()\n",
    "print('----------------------------------------')\n",
    "requester.modification_report()\n",
    "print('----------------------------------------')\n",
    "requester.fetch_list_from_PIM(requester.modified_items(), batch_size=20)\n",
    "print('----------------------------------------')\n",
    "requester.dump_data_from_result()\n",
    "print('----------------------------------------')\n",
    "requester.dump_files_from_result()\n",
    "print('----------------------------------------')\n",
    "requester.modification_report()\n",
    "print('----------------------------------------')"
   ]
  },
  {
   "cell_type": "markdown",
   "metadata": {},
   "source": [
    "Then, fetch the ingredient lists into a pandas DataFrame:"
   ]
  },
  {
   "cell_type": "code",
   "execution_count": null,
   "metadata": {},
   "outputs": [],
   "source": [
    "requester.fetch_all_from_PIM(page_size=1000, max_page=-1, nx_properties='*')\n",
    "mapping = {'uid': 'uid', 'Libellé': 'title', 'Ingrédients': 'properties.pprodc:ingredientsList'}\n",
    "df = requester.result_to_dataframe(record_path='entries', mapping=mapping, index='uid')\n",
    "df"
   ]
  },
  {
   "cell_type": "markdown",
   "metadata": {},
   "source": [
    "We only keep the products for which there is an ingredient list in the system."
   ]
  },
  {
   "cell_type": "code",
   "execution_count": null,
   "metadata": {},
   "outputs": [],
   "source": [
    "df = df.loc[pd.notna(df['Ingrédients'])]\n",
    "df"
   ]
  },
  {
   "cell_type": "markdown",
   "metadata": {},
   "source": [
    "# 2. Training the estimator\n",
    "\n",
    "For this simple test, the estimator will be trained on the whole dataset (which is not good practice - this is just to demonstrate the usage of this class).\n",
    "\n",
    "## 2.1 Importing the module\n",
    "\n",
    "The cell below is just here to enable to reload source code of pimest module without having to restart the kernel."
   ]
  },
  {
   "cell_type": "code",
   "execution_count": null,
   "metadata": {},
   "outputs": [],
   "source": [
    "#import importlib\n",
    "#import src.pimest\n",
    "#importlib.reload(pimest)"
   ]
  },
  {
   "cell_type": "markdown",
   "metadata": {},
   "source": [
    "## 2.2 Training the estimator\n",
    "\n",
    "Although not a good practice, we train the estimator on the whole dataset."
   ]
  },
  {
   "cell_type": "code",
   "execution_count": null,
   "metadata": {},
   "outputs": [],
   "source": [
    "estim = IngredientExtractor()\n",
    "estim.fit(df.loc[:, 'Ingrédients'])"
   ]
  },
  {
   "cell_type": "code",
   "execution_count": null,
   "metadata": {},
   "outputs": [],
   "source": [
    "estim.vectorized_texts_"
   ]
  },
  {
   "cell_type": "code",
   "execution_count": null,
   "metadata": {},
   "outputs": [],
   "source": [
    "estim.vocabulary_"
   ]
  },
  {
   "cell_type": "code",
   "execution_count": null,
   "metadata": {},
   "outputs": [],
   "source": [
    "estim.mean_corpus_"
   ]
  },
  {
   "cell_type": "markdown",
   "metadata": {},
   "source": [
    "# 3. Testing the estimator\n",
    "\n",
    "## 3.1 Parsing a doc into blocks\n",
    "\n",
    "First, we parse a single doc into blocks of texts:"
   ]
  },
  {
   "cell_type": "code",
   "execution_count": null,
   "metadata": {},
   "outputs": [],
   "source": [
    "uid = '7ad672f8-40d4-4527-ab49-af3284d23fab'\n",
    "path = os.path.join('.', 'dumps', 'prd', uid, 'FTF.pdf')\n",
    "blocks = PDFDecoder.path_to_blocks(path)\n",
    "blocks"
   ]
  },
  {
   "cell_type": "markdown",
   "metadata": {},
   "source": [
    "## 3.2 Predicting the ingredient block\n",
    "\n",
    "Then we predict the block which is supposed to most likely be the one holding the ingredient list:"
   ]
  },
  {
   "cell_type": "code",
   "execution_count": null,
   "metadata": {},
   "outputs": [],
   "source": [
    "block_num = estim.predict(blocks)\n",
    "print(blocks[block_num])"
   ]
  },
  {
   "cell_type": "markdown",
   "metadata": {},
   "source": [
    "We can see that for the product with uid `78f66d90-aeab-4f15-8130-0c418955b79a`, the estimator has successfully identified the ingredient block!"
   ]
  },
  {
   "cell_type": "markdown",
   "metadata": {},
   "source": [
    "# 4. Wrapped Estimator\n",
    "\n",
    "A helper wrapped class enables to directly compare the current content of the PIM system with what has been extracted from the associated pdf file.\n",
    "\n",
    "This helper directly inherits from `IngredientExtractor` class:"
   ]
  },
  {
   "cell_type": "code",
   "execution_count": null,
   "metadata": {},
   "outputs": [],
   "source": [
    "#from importlib import reload\n",
    "#import src.pimest\n",
    "#importlib.reload(pimest)"
   ]
  },
  {
   "cell_type": "code",
   "execution_count": null,
   "metadata": {},
   "outputs": [],
   "source": [
    "#wrapped_estim = PIMIngredientExtractor(env='prd', proxies=None)\n",
    "wrapped_estim = PIMIngredientExtractor(env='prd')\n",
    "wrapped_estim.fit(df.loc[:, 'Ingrédients'])"
   ]
  },
  {
   "cell_type": "code",
   "execution_count": null,
   "metadata": {
    "scrolled": false
   },
   "outputs": [],
   "source": [
    "wrapped_estim.compare_uid_data('78f66d90-aeab-4f15-8130-0c418955b79a')"
   ]
  },
  {
   "cell_type": "code",
   "execution_count": null,
   "metadata": {},
   "outputs": [],
   "source": [
    "wrapped_estim.print_blocks()"
   ]
  },
  {
   "cell_type": "code",
   "execution_count": null,
   "metadata": {},
   "outputs": [],
   "source": [
    "from sklearn.model_selection import train_test_split\n",
    "\n",
    "train_uids, test_uids = train_test_split(df, test_size=500, random_state=42)\n",
    "#test_uids.reset_index().loc[:, 'uid'].to_csv(os.path.join('.', 'test_uids.csv'), header=True, encoding='utf-8-sig', index=False)"
   ]
  },
  {
   "cell_type": "markdown",
   "metadata": {},
   "source": [
    "# 5. Transformers\n",
    "\n",
    "A handful of transformers have been developped to treat the data.\n",
    "\n",
    "## 5.1 PathGetter\n",
    "\n",
    "This transformer takes a DataFrame with uids as index, and adds a columns that is the path on the pdf file on disk - depending on whether the uid is from ground truth or from \"normal\" train set.\n",
    "\n",
    "The root paths can be passed at initialization, or they will be defaulted to what is specified in the configuration file.\n",
    "\n",
    "The ground truth uids must be declared at initialization."
   ]
  },
  {
   "cell_type": "code",
   "execution_count": null,
   "metadata": {},
   "outputs": [],
   "source": [
    "from pathlib import Path"
   ]
  },
  {
   "cell_type": "code",
   "execution_count": null,
   "metadata": {},
   "outputs": [],
   "source": [
    "ground_truth_df = pd.read_csv(os.path.join('.', 'ground_truth', 'manually_labelled_ground_truth.csv'),\n",
    "                              sep=';',\n",
    "                              encoding='latin-1',\n",
    "                              index_col='uid')\n",
    "ground_truth_uids = list(ground_truth_df.index)\n",
    "ground_truth_uids"
   ]
  },
  {
   "cell_type": "code",
   "execution_count": null,
   "metadata": {},
   "outputs": [],
   "source": [
    "transformer = PathGetter(ground_truth_uids=ground_truth_uids,\n",
    "                         train_set_path=Path.cwd() / 'dumps' / 'prd',\n",
    "                         ground_truth_path=Path.cwd() / 'ground_truth',\n",
    "                        )"
   ]
  },
  {
   "cell_type": "code",
   "execution_count": null,
   "metadata": {},
   "outputs": [],
   "source": [
    "idx = pd.Index(ground_truth_uids[:5] + list(df.index[:5]), name='uid')\n",
    "test_df = df.loc[idx,:]\n",
    "test_df = transformer.fit_transform(test_df)\n",
    "test_df"
   ]
  },
  {
   "cell_type": "markdown",
   "metadata": {},
   "source": [
    "## 5.2 ContentGetter\n",
    "\n",
    "This transformer reads the files from disk and loads their content as binaries into the dataframe."
   ]
  },
  {
   "cell_type": "code",
   "execution_count": null,
   "metadata": {},
   "outputs": [],
   "source": [
    "transformer_2 = ContentGetter(missing_file='to_nan')\n",
    "test_df = transformer_2.fit_transform(test_df)\n",
    "test_df"
   ]
  },
  {
   "cell_type": "markdown",
   "metadata": {},
   "source": [
    "## 5.3 PDFContentParser\n",
    "\n",
    "This estimator parses the content of the PDF files into text using the functionalities defined in the pimpdf module."
   ]
  },
  {
   "cell_type": "code",
   "execution_count": null,
   "metadata": {},
   "outputs": [],
   "source": [
    "from src.pimest import PDFContentParser\n",
    "transformer_3 = PDFContentParser()\n",
    "test_df = transformer_3.fit_transform(test_df)\n",
    "test_df"
   ]
  },
  {
   "cell_type": "markdown",
   "metadata": {},
   "source": [
    "## 5.4 BlockSplitter\n",
    "\n",
    "This transformer splits the content of the text column into blocks of texts using the prvoided splitter function."
   ]
  },
  {
   "cell_type": "code",
   "execution_count": null,
   "metadata": {},
   "outputs": [],
   "source": [
    "from src.pimest import BlockSplitter\n",
    "splitter_func = lambda x: x.split('\\n\\n')\n",
    "transformer_4 = BlockSplitter(splitter_func=splitter_func)\n",
    "test_df = transformer_4.fit_transform(test_df)\n",
    "test_df"
   ]
  },
  {
   "cell_type": "code",
   "execution_count": null,
   "metadata": {},
   "outputs": [],
   "source": [
    "for text in test_df['blocks'].iloc[0]:\n",
    "    print('-------------------------------------------\\n', text)"
   ]
  },
  {
   "cell_type": "markdown",
   "metadata": {},
   "source": [
    "# 6. Pipelining transformers\n",
    "\n",
    "One can pipeline these transformers using the scikit-learn standard Pipeline.\n",
    "\n",
    "## 6.1 Data acquisition\n",
    "\n",
    "First step is to build a data acquisition pipeline, which will provide a DataFrame with the pdf documents full texts."
   ]
  },
  {
   "cell_type": "code",
   "execution_count": null,
   "metadata": {},
   "outputs": [],
   "source": [
    "from importlib import reload\n",
    "import src.pimest\n",
    "reload(src.pimest)\n",
    "from src.pimest import ContentGetter\n",
    "from src.pimest import PathGetter\n",
    "from src.pimest import PDFContentParser\n",
    "from sklearn.pipeline import Pipeline"
   ]
  },
  {
   "cell_type": "code",
   "execution_count": null,
   "metadata": {},
   "outputs": [],
   "source": [
    "acqui_pipe = Pipeline([('PathGetter', PathGetter(ground_truth_uids=ground_truth_uids,\n",
    "                                                  train_set_path=Path.cwd() / 'dumps' / 'prd',\n",
    "                                                  ground_truth_path=Path.cwd() / 'ground_truth',\n",
    "                                                  )),\n",
    "                        ('ContentGetter', ContentGetter(missing_file='to_nan')),\n",
    "                        ('ContentParser', PDFContentParser()),\n",
    "                       ],\n",
    "                       verbose=True)"
   ]
  },
  {
   "cell_type": "code",
   "execution_count": null,
   "metadata": {},
   "outputs": [],
   "source": [
    "idx = pd.Index(ground_truth_uids)\n",
    "texts_df = df.loc[idx,]\n",
    "texts_df = acqui_pipe.fit_transform(texts_df)\n",
    "texts_df"
   ]
  },
  {
   "cell_type": "markdown",
   "metadata": {},
   "source": [
    "## 6.2 Block splitting and prediction\n",
    "\n",
    "Based on the pdf documents full text, we can now compute a block list for each of them, as well as predict which one seems to be the best candidate."
   ]
  },
  {
   "cell_type": "code",
   "execution_count": null,
   "metadata": {},
   "outputs": [],
   "source": [
    "from src.pimest import BlockSplitter\n",
    "from src.pimest import SimilaritySelector"
   ]
  },
  {
   "cell_type": "code",
   "execution_count": null,
   "metadata": {},
   "outputs": [],
   "source": [
    "def splitter(text):\n",
    "    return(text.split('\\n\\n'))"
   ]
  },
  {
   "cell_type": "code",
   "execution_count": null,
   "metadata": {},
   "outputs": [],
   "source": [
    "process_pipe = Pipeline([('BlockSplitter', BlockSplitter(splitter_func=splitter)),\n",
    "                         ('SimilaritySelector', SimilaritySelector())\n",
    "                       ],\n",
    "                       verbose=True)"
   ]
  },
  {
   "cell_type": "code",
   "execution_count": null,
   "metadata": {},
   "outputs": [],
   "source": [
    "predicted_df = process_pipe.fit_transform(texts_df)\n",
    "predicted_df"
   ]
  },
  {
   "cell_type": "code",
   "execution_count": null,
   "metadata": {
    "scrolled": true
   },
   "outputs": [],
   "source": [
    "print('\\n-----------------------------------------------\\n'.join(predicted_df['predicted']))"
   ]
  },
  {
   "cell_type": "markdown",
   "metadata": {},
   "source": [
    "# 7 Scoring\n",
    "\n",
    "Now is time to evaluate the performance of this simple model.\n",
    "\n",
    "## 7.1 Target ingredient lists acquisition\n",
    "\n",
    "First, we load the manually labelled ground truth into a target DataFrame."
   ]
  },
  {
   "cell_type": "code",
   "execution_count": null,
   "metadata": {},
   "outputs": [],
   "source": [
    "y =pd.read_csv(os.path.join('.', 'ground_truth', 'manually_labelled_ground_truth.csv'),\n",
    "               sep=';',\n",
    "               encoding='latin-1',\n",
    "               index_col='uid')\n",
    "y"
   ]
  },
  {
   "cell_type": "code",
   "execution_count": null,
   "metadata": {},
   "outputs": [],
   "source": [
    "comparison = pd.concat([y['ingredients'], predicted_df['predicted']], axis=1)\n",
    "comparison"
   ]
  },
  {
   "cell_type": "code",
   "execution_count": null,
   "metadata": {
    "scrolled": false
   },
   "outputs": [],
   "source": [
    "comparison.loc[comparison['ingredients'] == comparison['predicted']]"
   ]
  }
 ],
 "metadata": {
  "kernelspec": {
   "display_name": "Python 3",
   "language": "python",
   "name": "python3"
  },
  "language_info": {
   "codemirror_mode": {
    "name": "ipython",
    "version": 3
   },
   "file_extension": ".py",
   "mimetype": "text/x-python",
   "name": "python",
   "nbconvert_exporter": "python",
   "pygments_lexer": "ipython3",
   "version": "3.8.1"
  }
 },
 "nbformat": 4,
 "nbformat_minor": 2
}
