{
 "cells": [
  {
   "cell_type": "code",
   "execution_count": 1,
   "metadata": {},
   "outputs": [],
   "source": [
    "from src import pimpdf\n",
    "import os\n",
    "import pandas as pd"
   ]
  },
  {
   "cell_type": "code",
   "execution_count": null,
   "metadata": {},
   "outputs": [],
   "source": [
    "path = os.path.join('.', 'dumps', 'rec', '91086f67-844f-40df-8e14-521ddf0ccde1', 'FTF.pdf')\n",
    "path = os.path.join('.', 'dumps', 'rec', '1855c4fa-3402-4383-9127-3af8bafb6735', 'FTF.pdf')\n",
    "path = os.path.join('.', 'dumps', 'rec', '7dacc697-1f15-4a38-9427-4b82f901a4f5', 'FTF.pdf')\n",
    "path = os.path.join('.', 'dumps', 'rec', '9f9fc2fa-c3e2-4cb1-9f09-6d031d338282', 'FTF.pdf')"
   ]
  },
  {
   "cell_type": "code",
   "execution_count": null,
   "metadata": {},
   "outputs": [],
   "source": [
    "pimpdf.PDFDecoder.path_to_blocks(path)"
   ]
  },
  {
   "cell_type": "code",
   "execution_count": null,
   "metadata": {
    "scrolled": true
   },
   "outputs": [],
   "source": [
    "pimpdf.PDFDecoder.path_to_text(path)"
   ]
  },
  {
   "cell_type": "code",
   "execution_count": 2,
   "metadata": {},
   "outputs": [
    {
     "data": {
      "text/plain": [
       "91086f67-844f-40df-8e14-521ddf0ccde1    .\\dumps\\rec\\91086f67-844f-40df-8e14-521ddf0ccd...\n",
       "1855c4fa-3402-4383-9127-3af8bafb6735    .\\dumps\\rec\\1855c4fa-3402-4383-9127-3af8bafb67...\n",
       "7dacc697-1f15-4a38-9aa7-4b82f901a4f5    .\\dumps\\rec\\7dacc697-1f15-4a38-9aa7-4b82f901a4...\n",
       "9f9fc2fa-c3e2-4cb1-9f09-6d031d338282    .\\dumps\\rec\\9f9fc2fa-c3e2-4cb1-9f09-6d031d3382...\n",
       "dtype: object"
      ]
     },
     "execution_count": 2,
     "metadata": {},
     "output_type": "execute_result"
    }
   ],
   "source": [
    "uid_list = ['91086f67-844f-40df-8e14-521ddf0ccde1',\n",
    "            '1855c4fa-3402-4383-9127-3af8bafb6735',\n",
    "            '7dacc697-1f15-4a38-9aa7-4b82f901a4f5',\n",
    "            '9f9fc2fa-c3e2-4cb1-9f09-6d031d338282']\n",
    "\n",
    "path_list = [os.path.join('.', 'dumps', 'rec', uid, 'FTF.pdf') for uid in uid_list]\n",
    "\n",
    "path_series = pd.Series(path_list, index=uid_list)\n",
    "path_series\n"
   ]
  },
  {
   "cell_type": "code",
   "execution_count": 3,
   "metadata": {},
   "outputs": [
    {
     "data": {
      "text/plain": [
       "91086f67-844f-40df-8e14-521ddf0ccde1               Sauce Hollandaise                     \n",
       "91086f67-844f-40df-8e14-521ddf0ccde1                                               Knorr \n",
       "91086f67-844f-40df-8e14-521ddf0ccde1    LES PLUS PRODUIT \\n \\n- Texture légère \\n- Sau...\n",
       "91086f67-844f-40df-8e14-521ddf0ccde1    INFORMATIONS PRODUIT \\n \\nDénomination légale ...\n",
       "91086f67-844f-40df-8e14-521ddf0ccde1                                     Rendement: 8.5L \n",
       "                                                              ...                        \n",
       "9f9fc2fa-c3e2-4cb1-9f09-6d031d338282    Nestlé France S.A.S. 542 014 428 RCS MEAUX , N...\n",
       "9f9fc2fa-c3e2-4cb1-9f09-6d031d338282    Les dernières mises à jour sont disponibles su...\n",
       "9f9fc2fa-c3e2-4cb1-9f09-6d031d338282                                           Page 2 / 2\n",
       "9f9fc2fa-c3e2-4cb1-9f09-6d031d338282                                Version du 27/02/2017\n",
       "9f9fc2fa-c3e2-4cb1-9f09-6d031d338282                                                    \n",
       "\n",
       "Length: 486, dtype: object"
      ]
     },
     "execution_count": 3,
     "metadata": {},
     "output_type": "execute_result"
    }
   ],
   "source": [
    "pimpdf.PDFDecoder.paths_to_blocks(path_series)"
   ]
  },
  {
   "cell_type": "code",
   "execution_count": null,
   "metadata": {},
   "outputs": [],
   "source": []
  }
 ],
 "metadata": {
  "kernelspec": {
   "display_name": "Python 3",
   "language": "python",
   "name": "python3"
  },
  "language_info": {
   "codemirror_mode": {
    "name": "ipython",
    "version": 3
   },
   "file_extension": ".py",
   "mimetype": "text/x-python",
   "name": "python",
   "nbconvert_exporter": "python",
   "pygments_lexer": "ipython3",
   "version": "3.7.6"
  }
 },
 "nbformat": 4,
 "nbformat_minor": 2
}
