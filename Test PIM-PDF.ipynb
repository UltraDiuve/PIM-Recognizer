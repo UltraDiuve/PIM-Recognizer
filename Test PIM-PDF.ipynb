{
 "cells": [
  {
   "cell_type": "code",
   "execution_count": 1,
   "metadata": {},
   "outputs": [],
   "source": [
    "from src import pimpdf\n",
    "import os\n",
    "import pandas as pd"
   ]
  },
  {
   "cell_type": "code",
   "execution_count": null,
   "metadata": {},
   "outputs": [],
   "source": [
    "path = os.path.join('.', 'dumps', 'rec', '91086f67-844f-40df-8e14-521ddf0ccde1', 'FTF.pdf')\n",
    "path = os.path.join('.', 'dumps', 'rec', '1855c4fa-3402-4383-9127-3af8bafb6735', 'FTF.pdf')\n",
    "path = os.path.join('.', 'dumps', 'rec', '7dacc697-1f15-4a38-9427-4b82f901a4f5', 'FTF.pdf')\n",
    "path = os.path.join('.', 'dumps', 'rec', '9f9fc2fa-c3e2-4cb1-9f09-6d031d338282', 'FTF.pdf')"
   ]
  },
  {
   "cell_type": "code",
   "execution_count": null,
   "metadata": {},
   "outputs": [],
   "source": [
    "pimpdf.PDFDecoder.path_to_blocks(path)"
   ]
  },
  {
   "cell_type": "code",
   "execution_count": null,
   "metadata": {
    "scrolled": true
   },
   "outputs": [],
   "source": [
    "pimpdf.PDFDecoder.path_to_text(path)"
   ]
  },
  {
   "cell_type": "code",
   "execution_count": 4,
   "metadata": {},
   "outputs": [
    {
     "data": {
      "text/plain": [
       "91086f67-844f-40df-8e14-521ddf0ccde1    .\\dumps\\rec\\91086f67-844f-40df-8e14-521ddf0ccd...\n",
       "1855c4fa-3402-4383-9127-3af8bafb6735    .\\dumps\\rec\\1855c4fa-3402-4383-9127-3af8bafb67...\n",
       "7dacc697-1f15-4a38-9aa7-4b82f901a4f5    .\\dumps\\rec\\7dacc697-1f15-4a38-9aa7-4b82f901a4...\n",
       "9f9fc2fa-c3e2-4cb1-9f09-6d031d338282    .\\dumps\\rec\\9f9fc2fa-c3e2-4cb1-9f09-6d031d3382...\n",
       "dtype: object"
      ]
     },
     "execution_count": 4,
     "metadata": {},
     "output_type": "execute_result"
    }
   ],
   "source": [
    "uid_list = ['91086f67-844f-40df-8e14-521ddf0ccde1',\n",
    "            '1855c4fa-3402-4383-9127-3af8bafb6735',\n",
    "            '7dacc697-1f15-4a38-9aa7-4b82f901a4f5',\n",
    "            '9f9fc2fa-c3e2-4cb1-9f09-6d031d338282']\n",
    "\n",
    "path_list = [os.path.join('.', 'dumps', 'rec', uid, 'FTF.pdf') for uid in uid_list]\n",
    "\n",
    "path_series = pd.Series(path_list, index=uid_list)\n",
    "path_series\n"
   ]
  },
  {
   "cell_type": "code",
   "execution_count": 5,
   "metadata": {},
   "outputs": [
    {
     "ename": "FileNotFoundError",
     "evalue": "[Errno 2] No such file or directory: '.\\\\dumps\\\\rec\\\\7dacc697-1f15-4a38-9aa7-4b82f901a4f5\\\\FTF.pdf'",
     "output_type": "error",
     "traceback": [
      "\u001b[1;31m---------------------------------------------------------------------------\u001b[0m",
      "\u001b[1;31mFileNotFoundError\u001b[0m                         Traceback (most recent call last)",
      "\u001b[1;32m<ipython-input-5-308166e585f3>\u001b[0m in \u001b[0;36m<module>\u001b[1;34m\u001b[0m\n\u001b[1;32m----> 1\u001b[1;33m \u001b[0mpimpdf\u001b[0m\u001b[1;33m.\u001b[0m\u001b[0mPDFDecoder\u001b[0m\u001b[1;33m.\u001b[0m\u001b[0mpaths_to_blocks\u001b[0m\u001b[1;33m(\u001b[0m\u001b[0mpath_series\u001b[0m\u001b[1;33m)\u001b[0m\u001b[1;33m\u001b[0m\u001b[1;33m\u001b[0m\u001b[0m\n\u001b[0m",
      "\u001b[1;32m~\\Pyprojects\\PIM-Recognizer\\src\\pimpdf.py\u001b[0m in \u001b[0;36mpaths_to_blocks\u001b[1;34m(path_series)\u001b[0m\n\u001b[0;32m     53\u001b[0m         \u001b[0mds_list\u001b[0m \u001b[1;33m=\u001b[0m \u001b[1;33m[\u001b[0m\u001b[1;33m]\u001b[0m\u001b[1;33m\u001b[0m\u001b[1;33m\u001b[0m\u001b[0m\n\u001b[0;32m     54\u001b[0m         \u001b[1;32mfor\u001b[0m \u001b[0muid\u001b[0m\u001b[1;33m,\u001b[0m \u001b[0mpath\u001b[0m \u001b[1;32min\u001b[0m \u001b[0mpath_series\u001b[0m\u001b[1;33m.\u001b[0m\u001b[0mitems\u001b[0m\u001b[1;33m(\u001b[0m\u001b[1;33m)\u001b[0m\u001b[1;33m:\u001b[0m\u001b[1;33m\u001b[0m\u001b[1;33m\u001b[0m\u001b[0m\n\u001b[1;32m---> 55\u001b[1;33m             \u001b[0mblocks\u001b[0m \u001b[1;33m=\u001b[0m \u001b[0mPDFDecoder\u001b[0m\u001b[1;33m.\u001b[0m\u001b[0mpath_to_blocks\u001b[0m\u001b[1;33m(\u001b[0m\u001b[0mpath\u001b[0m\u001b[1;33m)\u001b[0m\u001b[1;33m\u001b[0m\u001b[1;33m\u001b[0m\u001b[0m\n\u001b[0m\u001b[0;32m     56\u001b[0m             \u001b[0mindex\u001b[0m \u001b[1;33m=\u001b[0m \u001b[1;33m[\u001b[0m\u001b[0muid\u001b[0m\u001b[1;33m]\u001b[0m \u001b[1;33m*\u001b[0m \u001b[0mlen\u001b[0m\u001b[1;33m(\u001b[0m\u001b[0mblocks\u001b[0m\u001b[1;33m)\u001b[0m\u001b[1;33m\u001b[0m\u001b[1;33m\u001b[0m\u001b[0m\n\u001b[0;32m     57\u001b[0m             \u001b[0mds_list\u001b[0m\u001b[1;33m.\u001b[0m\u001b[0mappend\u001b[0m\u001b[1;33m(\u001b[0m\u001b[0mpd\u001b[0m\u001b[1;33m.\u001b[0m\u001b[0mSeries\u001b[0m\u001b[1;33m(\u001b[0m\u001b[0mblocks\u001b[0m\u001b[1;33m,\u001b[0m \u001b[0mindex\u001b[0m\u001b[1;33m=\u001b[0m\u001b[0mindex\u001b[0m\u001b[1;33m)\u001b[0m\u001b[1;33m)\u001b[0m\u001b[1;33m\u001b[0m\u001b[1;33m\u001b[0m\u001b[0m\n",
      "\u001b[1;32m~\\Pyprojects\\PIM-Recognizer\\src\\pimpdf.py\u001b[0m in \u001b[0;36mpath_to_blocks\u001b[1;34m(path)\u001b[0m\n\u001b[0;32m     40\u001b[0m         \u001b[0mcarriage\u001b[0m \u001b[0mreturns\u001b[0m \u001b[1;33m(\u001b[0m\u001b[0mi\u001b[0m\u001b[1;33m.\u001b[0m\u001b[0me\u001b[0m\u001b[1;33m.\u001b[0m \u001b[1;32mwith\u001b[0m \u001b[0mat\u001b[0m \u001b[0mleast\u001b[0m \u001b[0ma\u001b[0m \u001b[0msingle\u001b[0m \u001b[0mblank\u001b[0m \u001b[0mline\u001b[0m \u001b[0mbetween\u001b[0m \u001b[0mthem\u001b[0m\u001b[1;33m)\u001b[0m\u001b[1;33m\u001b[0m\u001b[1;33m\u001b[0m\u001b[0m\n\u001b[0;32m     41\u001b[0m         \"\"\"\n\u001b[1;32m---> 42\u001b[1;33m         \u001b[1;32mreturn\u001b[0m\u001b[1;33m(\u001b[0m\u001b[0mPDFDecoder\u001b[0m\u001b[1;33m.\u001b[0m\u001b[0mpath_to_text\u001b[0m\u001b[1;33m(\u001b[0m\u001b[0mpath\u001b[0m\u001b[1;33m)\u001b[0m\u001b[1;33m.\u001b[0m\u001b[0msplit\u001b[0m\u001b[1;33m(\u001b[0m\u001b[1;34m'\\n\\n'\u001b[0m\u001b[1;33m)\u001b[0m\u001b[1;33m)\u001b[0m\u001b[1;33m\u001b[0m\u001b[1;33m\u001b[0m\u001b[0m\n\u001b[0m\u001b[0;32m     43\u001b[0m \u001b[1;33m\u001b[0m\u001b[0m\n\u001b[0;32m     44\u001b[0m     \u001b[1;33m@\u001b[0m\u001b[0mstaticmethod\u001b[0m\u001b[1;33m\u001b[0m\u001b[1;33m\u001b[0m\u001b[0m\n",
      "\u001b[1;32m~\\Pyprojects\\PIM-Recognizer\\src\\pimpdf.py\u001b[0m in \u001b[0;36mpath_to_text\u001b[1;34m(path)\u001b[0m\n\u001b[0;32m     23\u001b[0m         \"\"\"\n\u001b[0;32m     24\u001b[0m         \u001b[0moutput_string\u001b[0m \u001b[1;33m=\u001b[0m \u001b[0mStringIO\u001b[0m\u001b[1;33m(\u001b[0m\u001b[1;33m)\u001b[0m\u001b[1;33m\u001b[0m\u001b[1;33m\u001b[0m\u001b[0m\n\u001b[1;32m---> 25\u001b[1;33m         \u001b[1;32mwith\u001b[0m \u001b[0mopen\u001b[0m\u001b[1;33m(\u001b[0m\u001b[0mpath\u001b[0m\u001b[1;33m,\u001b[0m \u001b[1;34m'rb'\u001b[0m\u001b[1;33m)\u001b[0m \u001b[1;32mas\u001b[0m \u001b[0min_file\u001b[0m\u001b[1;33m:\u001b[0m\u001b[1;33m\u001b[0m\u001b[1;33m\u001b[0m\u001b[0m\n\u001b[0m\u001b[0;32m     26\u001b[0m             \u001b[0mparser\u001b[0m \u001b[1;33m=\u001b[0m \u001b[0mPDFParser\u001b[0m\u001b[1;33m(\u001b[0m\u001b[0min_file\u001b[0m\u001b[1;33m)\u001b[0m\u001b[1;33m\u001b[0m\u001b[1;33m\u001b[0m\u001b[0m\n\u001b[0;32m     27\u001b[0m             \u001b[0mdoc\u001b[0m \u001b[1;33m=\u001b[0m \u001b[0mPDFDocument\u001b[0m\u001b[1;33m(\u001b[0m\u001b[0mparser\u001b[0m\u001b[1;33m)\u001b[0m\u001b[1;33m\u001b[0m\u001b[1;33m\u001b[0m\u001b[0m\n",
      "\u001b[1;31mFileNotFoundError\u001b[0m: [Errno 2] No such file or directory: '.\\\\dumps\\\\rec\\\\7dacc697-1f15-4a38-9aa7-4b82f901a4f5\\\\FTF.pdf'"
     ]
    }
   ],
   "source": [
    "pimpdf.PDFDecoder.paths_to_blocks(path_series)"
   ]
  },
  {
   "cell_type": "code",
   "execution_count": null,
   "metadata": {},
   "outputs": [],
   "source": []
  }
 ],
 "metadata": {
  "kernelspec": {
   "display_name": "Python 3",
   "language": "python",
   "name": "python3"
  },
  "language_info": {
   "codemirror_mode": {
    "name": "ipython",
    "version": 3
   },
   "file_extension": ".py",
   "mimetype": "text/x-python",
   "name": "python",
   "nbconvert_exporter": "python",
   "pygments_lexer": "ipython3",
   "version": "3.7.6"
  }
 },
 "nbformat": 4,
 "nbformat_minor": 2
}
